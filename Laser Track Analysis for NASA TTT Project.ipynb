{
 "cells": [
  {
   "cell_type": "code",
   "execution_count": 1,
   "id": "874aa8bc-77e7-483b-9e6c-2865b184f0a8",
   "metadata": {},
   "outputs": [
    {
     "name": "stdout",
     "output_type": "stream",
     "text": [
      "/data-store/input/FPGA/NASA_TTT_Build1_001\n"
     ]
    }
   ],
   "source": [
    "# Chnage the directory accordingly\n",
    "# Restart the Kernel if requires\n",
    "%cd data/input/FPGA/NASA_TTT_Build1_001"
   ]
  },
  {
   "cell_type": "code",
   "execution_count": 2,
   "id": "75f554e4-4051-44c6-a387-3faed0d48959",
   "metadata": {},
   "outputs": [],
   "source": [
    "import time\n",
    "from IPython.display import display, clear_output\n",
    "import pandas as pd\n",
    "import matplotlib.pyplot as plt\n",
    "import numpy as np"
   ]
  },
  {
   "cell_type": "markdown",
   "id": "b57d8963-a821-4940-b9ce-0a41802e2e58",
   "metadata": {},
   "source": [
    "**Read .csv file into a dataframe & make required adjustments to the dataframe**"
   ]
  },
  {
   "cell_type": "code",
   "execution_count": 36,
   "id": "f5f28760-c619-4bd5-8639-afd50c503532",
   "metadata": {},
   "outputs": [
    {
     "name": "stdout",
     "output_type": "stream",
     "text": [
      "(1260378, 6)\n"
     ]
    },
    {
     "data": {
      "text/html": [
       "<div>\n",
       "<style scoped>\n",
       "    .dataframe tbody tr th:only-of-type {\n",
       "        vertical-align: middle;\n",
       "    }\n",
       "\n",
       "    .dataframe tbody tr th {\n",
       "        vertical-align: top;\n",
       "    }\n",
       "\n",
       "    .dataframe thead th {\n",
       "        text-align: right;\n",
       "    }\n",
       "</style>\n",
       "<table border=\"1\" class=\"dataframe\">\n",
       "  <thead>\n",
       "    <tr style=\"text-align: right;\">\n",
       "      <th></th>\n",
       "      <th>System Time Stamp</th>\n",
       "      <th>Tracker Time Stamp</th>\n",
       "      <th>Y Position</th>\n",
       "      <th>X Position</th>\n",
       "      <th>ADC Value</th>\n",
       "      <th>TTL 1</th>\n",
       "    </tr>\n",
       "  </thead>\n",
       "  <tbody>\n",
       "    <tr>\n",
       "      <th>20416</th>\n",
       "      <td>38600541802</td>\n",
       "      <td>3601721067</td>\n",
       "      <td>15.709302</td>\n",
       "      <td>42.930233</td>\n",
       "      <td>2440</td>\n",
       "      <td>False</td>\n",
       "    </tr>\n",
       "    <tr>\n",
       "      <th>20417</th>\n",
       "      <td>38600541802</td>\n",
       "      <td>3601721117</td>\n",
       "      <td>15.750000</td>\n",
       "      <td>42.895349</td>\n",
       "      <td>2486</td>\n",
       "      <td>False</td>\n",
       "    </tr>\n",
       "    <tr>\n",
       "      <th>20444</th>\n",
       "      <td>38600555720</td>\n",
       "      <td>3601722467</td>\n",
       "      <td>15.401163</td>\n",
       "      <td>43.267442</td>\n",
       "      <td>2438</td>\n",
       "      <td>False</td>\n",
       "    </tr>\n",
       "    <tr>\n",
       "      <th>20445</th>\n",
       "      <td>38600555720</td>\n",
       "      <td>3601722517</td>\n",
       "      <td>15.348837</td>\n",
       "      <td>43.308140</td>\n",
       "      <td>2495</td>\n",
       "      <td>True</td>\n",
       "    </tr>\n",
       "    <tr>\n",
       "      <th>20446</th>\n",
       "      <td>38600555720</td>\n",
       "      <td>3601722567</td>\n",
       "      <td>15.302326</td>\n",
       "      <td>43.348837</td>\n",
       "      <td>2503</td>\n",
       "      <td>True</td>\n",
       "    </tr>\n",
       "  </tbody>\n",
       "</table>\n",
       "</div>"
      ],
      "text/plain": [
       "       System Time Stamp  Tracker Time Stamp  Y Position  X Position  \\\n",
       "20416        38600541802          3601721067   15.709302   42.930233   \n",
       "20417        38600541802          3601721117   15.750000   42.895349   \n",
       "20444        38600555720          3601722467   15.401163   43.267442   \n",
       "20445        38600555720          3601722517   15.348837   43.308140   \n",
       "20446        38600555720          3601722567   15.302326   43.348837   \n",
       "\n",
       "       ADC Value  TTL 1  \n",
       "20416       2440  False  \n",
       "20417       2486  False  \n",
       "20444       2438  False  \n",
       "20445       2495   True  \n",
       "20446       2503   True  "
      ]
     },
     "execution_count": 36,
     "metadata": {},
     "output_type": "execute_result"
    }
   ],
   "source": [
    "df = pd.read_csv('PositionTracker00100.csv')\n",
    "df = df.drop(columns=['TTL 0']) # TTL 0 column is redundant since it corresponds to an unused camera\n",
    "df = df[df['ADC Value']>1000] # ADC Value > 1000 indicates the laser is on\n",
    "df[\"X Position\"] = (df[\"X Position\"]-32768)/172 # Co-ordinate correction\n",
    "df[\"Y Position\"] = (df[\"Y Position\"]-32768)/172 # Co-ordinate correction\n",
    "print(df.shape)\n",
    "df.head()"
   ]
  },
  {
   "cell_type": "markdown",
   "id": "08ccaaf2-a4a0-4583-87f6-6acf86ea8ed1",
   "metadata": {},
   "source": [
    "**Plot the laser track**"
   ]
  },
  {
   "cell_type": "code",
   "execution_count": 52,
   "id": "398802ac-bd49-4acd-b817-b224ea44dce2",
   "metadata": {},
   "outputs": [],
   "source": [
    "# Function for plotting the laser track\n",
    "def plot_laser_track(Layer_ID):\n",
    "    file_name = Layer_ID + '.csv'\n",
    "    df = pd.read_csv(file_name)\n",
    "    df = df[df['ADC Value']>1000] # ADC Value > 1000 indicates the laser is on\n",
    "    df[\"X Position\"] = (df[\"X Position\"]-32768)/172 # Co-ordinate correction\n",
    "    df[\"Y Position\"] = (df[\"Y Position\"]-32768)/172 # Co-ordinate correction\n",
    "    x_data = df['X Position'].to_numpy()\n",
    "    y_data = df['Y Position'].to_numpy()\n",
    "    plt.plot(x_data, y_data)\n",
    "    plt.title(Layer_ID)"
   ]
  },
  {
   "cell_type": "code",
   "execution_count": 53,
   "id": "137aece6-4503-4776-93a2-3fabaeea4491",
   "metadata": {},
   "outputs": [
    {
     "data": {
      "image/png": "[encoded data removed]",
      "text/plain": [
       "<Figure size 432x288 with 1 Axes>"
      ]
     },
     "metadata": {
      "needs_background": "light"
     },
     "output_type": "display_data"
    }
   ],
   "source": [
    "Layer_ID = 'PositionTracker00200'\n",
    "plot_laser_track(Layer_ID)"
   ]
  },
  {
   "cell_type": "markdown",
   "id": "1f6fa1f2-a7be-4611-bff8-68e217881839",
   "metadata": {},
   "source": [
    "**Animate the laser track**"
   ]
  },
  {
   "cell_type": "code",
   "execution_count": 54,
   "id": "eef66ab3-33cc-44aa-81f4-122544201664",
   "metadata": {},
   "outputs": [],
   "source": [
    "# Function for animating the laser track\n",
    "def animate_laser_track(Layer_ID, increment_points, pause_time):\n",
    "    file_name = Layer_ID + '.csv'\n",
    "    df = pd.read_csv(file_name)\n",
    "    df = df[df['ADC Value']>1000] # ADC Value > 1000 indicates the laser is on\n",
    "    df[\"X Position\"] = (df[\"X Position\"]-32768)/172 # Co-ordinate correction\n",
    "    df[\"Y Position\"] = (df[\"Y Position\"]-32768)/172 # Co-ordinate correction\n",
    "    x_data = df['X Position'].to_numpy()\n",
    "    y_data = df['Y Position'].to_numpy()\n",
    "\n",
    "    fig = plt.figure(\"Figure 1\",figsize=(6.4, 4.8))\n",
    "    ax = fig.add_subplot(1, 1, 1) \n",
    "    plt.title(Layer_ID)\n",
    "\n",
    "    i_increment = increment_points\n",
    "    i = len(x_data)%i_increment\n",
    "\n",
    "    while i<=len(x_data):\n",
    "        x = x_data[0:i];\n",
    "        y = y_data[0:i]\n",
    "        i += i_increment\n",
    "        ax.set_xlim(np.min(x_data)-1, np.max(x_data)+1)\n",
    "        ax.set_ylim(np.min(y_data)-1, np.max(y_data)+1)    \n",
    "        ax.plot(x, y,'b')\n",
    "        ax.set_xlabel(\"Abscissa, x\")\n",
    "        ax.set_ylabel(\"Ordinate, y\")\n",
    "        display(fig)\n",
    "        clear_output(wait = True)\n",
    "        plt.pause(pause_time)"
   ]
  },
  {
   "cell_type": "code",
   "execution_count": 55,
   "id": "b9726e56-04f0-4368-ac95-1dce59ea455c",
   "metadata": {},
   "outputs": [
    {
     "data": {
      "image/png": "[encoded data removed]",
      "text/plain": [
       "<Figure size 460.8x345.6 with 1 Axes>"
      ]
     },
     "metadata": {},
     "output_type": "display_data"
    }
   ],
   "source": [
    "Layer_ID = 'PositionTracker00017'\n",
    "increment_points = 100000 # number of additional points spanned in next frame\n",
    "pause_time = 0.1 # pause time in second\n",
    "animate_laser_track(Layer_ID, increment_points, pause_time)"
   ]
  }
 ],
 "metadata": {
  "kernelspec": {
   "display_name": "Python 3 (ipykernel)",
   "language": "python",
   "name": "python3"
  },
  "language_info": {
   "codemirror_mode": {
    "name": "ipython",
    "version": 3
   },
   "file_extension": ".py",
   "mimetype": "text/x-python",
   "name": "python",
   "nbconvert_exporter": "python",
   "pygments_lexer": "ipython3",
   "version": "3.9.10"
  }
 },
 "nbformat": 4,
 "nbformat_minor": 5
}
