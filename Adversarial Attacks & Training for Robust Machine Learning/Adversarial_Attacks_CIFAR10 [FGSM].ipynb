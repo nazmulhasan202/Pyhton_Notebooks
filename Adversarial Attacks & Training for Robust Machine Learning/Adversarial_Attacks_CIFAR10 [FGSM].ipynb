{
 "cells": [
  {
   "cell_type": "markdown",
   "metadata": {
    "id": "aiSUzqR_k38-"
   },
   "source": [
    "**Import packages**"
   ]
  },
  {
   "cell_type": "code",
   "execution_count": 1,
   "metadata": {
    "colab": {
     "base_uri": "https://localhost:8080/"
    },
    "executionInfo": {
     "elapsed": 9244,
     "status": "ok",
     "timestamp": 1678043585912,
     "user": {
      "displayName": "Nazmul Hasan",
      "userId": "02122416256231585764"
     },
     "user_tz": 420
    },
    "id": "ad5wwLh9culg",
    "outputId": "efea3f34-cb93-4881-d536-5270ef089f47"
   },
   "outputs": [
    {
     "name": "stdout",
     "output_type": "stream",
     "text": [
      "Requirement already satisfied: pytictoc in c:\\programdata\\anaconda3\\lib\\site-packages (1.5.2)\n"
     ]
    }
   ],
   "source": [
    "!pip install pytictoc"
   ]
  },
  {
   "cell_type": "code",
   "execution_count": 2,
   "metadata": {
    "id": "x5Tfg3jUMIoU"
   },
   "outputs": [
    {
     "name": "stdout",
     "output_type": "stream",
     "text": [
      "Requirement already satisfied: tensorflow in c:\\programdata\\anaconda3\\lib\\site-packages (2.11.0)\n",
      "Requirement already satisfied: tensorflow-intel==2.11.0 in c:\\programdata\\anaconda3\\lib\\site-packages (from tensorflow) (2.11.0)\n",
      "Requirement already satisfied: absl-py>=1.0.0 in c:\\programdata\\anaconda3\\lib\\site-packages (from tensorflow-intel==2.11.0->tensorflow) (1.4.0)\n",
      "Requirement already satisfied: termcolor>=1.1.0 in c:\\programdata\\anaconda3\\lib\\site-packages (from tensorflow-intel==2.11.0->tensorflow) (2.2.0)\n",
      "Requirement already satisfied: typing-extensions>=3.6.6 in c:\\programdata\\anaconda3\\lib\\site-packages (from tensorflow-intel==2.11.0->tensorflow) (3.7.4.3)\n",
      "Requirement already satisfied: libclang>=13.0.0 in c:\\programdata\\anaconda3\\lib\\site-packages (from tensorflow-intel==2.11.0->tensorflow) (15.0.6.1)\n",
      "Requirement already satisfied: google-pasta>=0.1.1 in c:\\programdata\\anaconda3\\lib\\site-packages (from tensorflow-intel==2.11.0->tensorflow) (0.2.0)\n",
      "Requirement already satisfied: setuptools in c:\\programdata\\anaconda3\\lib\\site-packages (from tensorflow-intel==2.11.0->tensorflow) (52.0.0.post20210125)\n",
      "Requirement already satisfied: flatbuffers>=2.0 in c:\\programdata\\anaconda3\\lib\\site-packages (from tensorflow-intel==2.11.0->tensorflow) (23.3.3)\n",
      "Requirement already satisfied: numpy>=1.20 in c:\\programdata\\anaconda3\\lib\\site-packages (from tensorflow-intel==2.11.0->tensorflow) (1.20.1)\n",
      "Requirement already satisfied: six>=1.12.0 in c:\\programdata\\anaconda3\\lib\\site-packages (from tensorflow-intel==2.11.0->tensorflow) (1.15.0)\n",
      "Requirement already satisfied: tensorboard<2.12,>=2.11 in c:\\programdata\\anaconda3\\lib\\site-packages (from tensorflow-intel==2.11.0->tensorflow) (2.11.2)\n",
      "Requirement already satisfied: astunparse>=1.6.0 in c:\\programdata\\anaconda3\\lib\\site-packages (from tensorflow-intel==2.11.0->tensorflow) (1.6.3)\n",
      "Requirement already satisfied: protobuf<3.20,>=3.9.2 in c:\\programdata\\anaconda3\\lib\\site-packages (from tensorflow-intel==2.11.0->tensorflow) (3.19.6)\n",
      "Requirement already satisfied: packaging in c:\\programdata\\anaconda3\\lib\\site-packages (from tensorflow-intel==2.11.0->tensorflow) (20.9)\n",
      "Requirement already satisfied: wrapt>=1.11.0 in c:\\programdata\\anaconda3\\lib\\site-packages (from tensorflow-intel==2.11.0->tensorflow) (1.12.1)\n",
      "Requirement already satisfied: gast<=0.4.0,>=0.2.1 in c:\\programdata\\anaconda3\\lib\\site-packages (from tensorflow-intel==2.11.0->tensorflow) (0.4.0)\n",
      "Requirement already satisfied: grpcio<2.0,>=1.24.3 in c:\\programdata\\anaconda3\\lib\\site-packages (from tensorflow-intel==2.11.0->tensorflow) (1.51.3)\n",
      "Requirement already satisfied: opt-einsum>=2.3.2 in c:\\programdata\\anaconda3\\lib\\site-packages (from tensorflow-intel==2.11.0->tensorflow) (3.3.0)\n",
      "Requirement already satisfied: tensorflow-io-gcs-filesystem>=0.23.1 in c:\\programdata\\anaconda3\\lib\\site-packages (from tensorflow-intel==2.11.0->tensorflow) (0.31.0)\n",
      "Requirement already satisfied: h5py>=2.9.0 in c:\\programdata\\anaconda3\\lib\\site-packages (from tensorflow-intel==2.11.0->tensorflow) (2.10.0)\n",
      "Requirement already satisfied: keras<2.12,>=2.11.0 in c:\\programdata\\anaconda3\\lib\\site-packages (from tensorflow-intel==2.11.0->tensorflow) (2.11.0)\n",
      "Requirement already satisfied: tensorflow-estimator<2.12,>=2.11.0 in c:\\programdata\\anaconda3\\lib\\site-packages (from tensorflow-intel==2.11.0->tensorflow) (2.11.0)\n",
      "Requirement already satisfied: wheel<1.0,>=0.23.0 in c:\\programdata\\anaconda3\\lib\\site-packages (from astunparse>=1.6.0->tensorflow-intel==2.11.0->tensorflow) (0.36.2)\n",
      "Requirement already satisfied: google-auth-oauthlib<0.5,>=0.4.1 in c:\\programdata\\anaconda3\\lib\\site-packages (from tensorboard<2.12,>=2.11->tensorflow-intel==2.11.0->tensorflow) (0.4.6)\n",
      "Requirement already satisfied: google-auth<3,>=1.6.3 in c:\\programdata\\anaconda3\\lib\\site-packages (from tensorboard<2.12,>=2.11->tensorflow-intel==2.11.0->tensorflow) (2.16.2)\n",
      "Requirement already satisfied: markdown>=2.6.8 in c:\\programdata\\anaconda3\\lib\\site-packages (from tensorboard<2.12,>=2.11->tensorflow-intel==2.11.0->tensorflow) (3.4.1)\n",
      "Requirement already satisfied: requests<3,>=2.21.0 in c:\\programdata\\anaconda3\\lib\\site-packages (from tensorboard<2.12,>=2.11->tensorflow-intel==2.11.0->tensorflow) (2.25.1)\n",
      "Requirement already satisfied: werkzeug>=1.0.1 in c:\\programdata\\anaconda3\\lib\\site-packages (from tensorboard<2.12,>=2.11->tensorflow-intel==2.11.0->tensorflow) (1.0.1)\n",
      "Requirement already satisfied: tensorboard-data-server<0.7.0,>=0.6.0 in c:\\programdata\\anaconda3\\lib\\site-packages (from tensorboard<2.12,>=2.11->tensorflow-intel==2.11.0->tensorflow) (0.6.1)\n",
      "Requirement already satisfied: tensorboard-plugin-wit>=1.6.0 in c:\\programdata\\anaconda3\\lib\\site-packages (from tensorboard<2.12,>=2.11->tensorflow-intel==2.11.0->tensorflow) (1.8.1)\n",
      "Requirement already satisfied: cachetools<6.0,>=2.0.0 in c:\\programdata\\anaconda3\\lib\\site-packages (from google-auth<3,>=1.6.3->tensorboard<2.12,>=2.11->tensorflow-intel==2.11.0->tensorflow) (5.3.0)\n",
      "Requirement already satisfied: pyasn1-modules>=0.2.1 in c:\\programdata\\anaconda3\\lib\\site-packages (from google-auth<3,>=1.6.3->tensorboard<2.12,>=2.11->tensorflow-intel==2.11.0->tensorflow) (0.2.8)\n",
      "Requirement already satisfied: rsa<5,>=3.1.4 in c:\\programdata\\anaconda3\\lib\\site-packages (from google-auth<3,>=1.6.3->tensorboard<2.12,>=2.11->tensorflow-intel==2.11.0->tensorflow) (4.9)\n",
      "Requirement already satisfied: requests-oauthlib>=0.7.0 in c:\\programdata\\anaconda3\\lib\\site-packages (from google-auth-oauthlib<0.5,>=0.4.1->tensorboard<2.12,>=2.11->tensorflow-intel==2.11.0->tensorflow) (1.3.1)\n",
      "Requirement already satisfied: importlib-metadata>=4.4 in c:\\programdata\\anaconda3\\lib\\site-packages (from markdown>=2.6.8->tensorboard<2.12,>=2.11->tensorflow-intel==2.11.0->tensorflow) (6.0.0)\n",
      "Requirement already satisfied: zipp>=0.5 in c:\\programdata\\anaconda3\\lib\\site-packages (from importlib-metadata>=4.4->markdown>=2.6.8->tensorboard<2.12,>=2.11->tensorflow-intel==2.11.0->tensorflow) (3.4.1)\n",
      "Requirement already satisfied: pyasn1<0.5.0,>=0.4.6 in c:\\programdata\\anaconda3\\lib\\site-packages (from pyasn1-modules>=0.2.1->google-auth<3,>=1.6.3->tensorboard<2.12,>=2.11->tensorflow-intel==2.11.0->tensorflow) (0.4.8)\n",
      "Requirement already satisfied: urllib3<1.27,>=1.21.1 in c:\\programdata\\anaconda3\\lib\\site-packages (from requests<3,>=2.21.0->tensorboard<2.12,>=2.11->tensorflow-intel==2.11.0->tensorflow) (1.26.4)\n",
      "Requirement already satisfied: certifi>=2017.4.17 in c:\\programdata\\anaconda3\\lib\\site-packages (from requests<3,>=2.21.0->tensorboard<2.12,>=2.11->tensorflow-intel==2.11.0->tensorflow) (2020.12.5)\n",
      "Requirement already satisfied: chardet<5,>=3.0.2 in c:\\programdata\\anaconda3\\lib\\site-packages (from requests<3,>=2.21.0->tensorboard<2.12,>=2.11->tensorflow-intel==2.11.0->tensorflow) (4.0.0)\n",
      "Requirement already satisfied: idna<3,>=2.5 in c:\\programdata\\anaconda3\\lib\\site-packages (from requests<3,>=2.21.0->tensorboard<2.12,>=2.11->tensorflow-intel==2.11.0->tensorflow) (2.10)\n",
      "Requirement already satisfied: oauthlib>=3.0.0 in c:\\programdata\\anaconda3\\lib\\site-packages (from requests-oauthlib>=0.7.0->google-auth-oauthlib<0.5,>=0.4.1->tensorboard<2.12,>=2.11->tensorflow-intel==2.11.0->tensorflow) (3.2.2)\n",
      "Requirement already satisfied: pyparsing>=2.0.2 in c:\\programdata\\anaconda3\\lib\\site-packages (from packaging->tensorflow-intel==2.11.0->tensorflow) (2.4.7)\n"
     ]
    }
   ],
   "source": [
    "!pip install tensorflow"
   ]
  },
  {
   "cell_type": "code",
   "execution_count": 3,
   "metadata": {
    "executionInfo": {
     "elapsed": 13312,
     "status": "ok",
     "timestamp": 1678043602134,
     "user": {
      "displayName": "Nazmul Hasan",
      "userId": "02122416256231585764"
     },
     "user_tz": 420
    },
    "id": "_z7kPblcHOH1"
   },
   "outputs": [],
   "source": [
    "import random\n",
    "import tensorflow as tf\n",
    "from tensorflow import keras\n",
    "from keras import datasets, layers, models\n",
    "import matplotlib.pyplot as plt\n",
    "import numpy as np\n",
    "import warnings\n",
    "import pandas as pd\n",
    "from pytictoc import TicToc\n",
    "warnings.filterwarnings( \"ignore\" )"
   ]
  },
  {
   "cell_type": "markdown",
   "metadata": {
    "id": "e7iTQt51HOH3"
   },
   "source": [
    "**Load the dataset**"
   ]
  },
  {
   "cell_type": "code",
   "execution_count": 4,
   "metadata": {
    "colab": {
     "base_uri": "https://localhost:8080/"
    },
    "executionInfo": {
     "elapsed": 10937,
     "status": "ok",
     "timestamp": 1678043615121,
     "user": {
      "displayName": "Nazmul Hasan",
      "userId": "02122416256231585764"
     },
     "user_tz": 420
    },
    "id": "rPRPSMuwHOH4",
    "outputId": "afa3e224-82d5-4ef8-d381-6e50a4bbb50e"
   },
   "outputs": [
    {
     "data": {
      "text/plain": [
       "((50000, 32, 32, 3), (50000,), (10000, 32, 32, 3), (10000,))"
      ]
     },
     "execution_count": 4,
     "metadata": {},
     "output_type": "execute_result"
    }
   ],
   "source": [
    "(X_train, y_train), (X_test,y_test) = datasets.cifar10.load_data()\n",
    "y_train = y_train.reshape(-1,)\n",
    "y_test = y_test.reshape(-1,)\n",
    "X_train.shape, y_train.shape, X_test.shape, y_test.shape"
   ]
  },
  {
   "cell_type": "markdown",
   "metadata": {
    "id": "nfOobSrX9lZp"
   },
   "source": [
    "**Create helper functions**"
   ]
  },
  {
   "cell_type": "code",
   "execution_count": 5,
   "metadata": {
    "executionInfo": {
     "elapsed": 196,
     "status": "ok",
     "timestamp": 1678043616463,
     "user": {
      "displayName": "Nazmul Hasan",
      "userId": "02122416256231585764"
     },
     "user_tz": 420
    },
    "id": "29WNxxm-9oF1"
   },
   "outputs": [],
   "source": [
    "def plot_sample_image(X, y):\n",
    "    plt.figure(figsize = (15,2))\n",
    "    plt.imshow(X); plt.colorbar();\n",
    "    classes = [\"airplane\",\"automobile\",\"bird\",\"cat\",\"deer\",\"dog\",\"frog\",\"horse\",\"ship\",\"truck\"]\n",
    "    plt.xlabel('Image Label: {}'.format(classes[y]))\n",
    "\n",
    "def classification_results(X_test,y_test,y_pred_classes):\n",
    "  from sklearn.metrics import confusion_matrix , classification_report\n",
    "  import seaborn as sn\n",
    "\n",
    "  cm = tf.math.confusion_matrix(labels=y_test,predictions=y_pred_classes)\n",
    "  plt.figure(figsize = (7,5))\n",
    "  sn.heatmap(cm, annot=True, fmt='d', cmap='Greens')\n",
    "  plt.xlabel('Predicted');\n",
    "  plt.ylabel('Truth');\n",
    "\n",
    "  print(\"Classification Report: \\n\", classification_report(y_test, y_pred_classes))\n",
    "\n",
    "def plot_fitting_history(history,filename,dpi):\n",
    "  epochs = len(history.history['loss'])\n",
    "  epoch_data = np.arange(1,epochs+1)\n",
    "  plt.plot(epoch_data,history.history['loss'],'o-')\n",
    "  plt.plot(epoch_data,history.history['val_loss'],'o--')\n",
    "  plt.ylabel('Loss')\n",
    "  plt.xlabel('Epoch sequence' )\n",
    "  plt.xticks(np.arange(0, epochs + 1, step=1))\n",
    "  plt.legend(['Training','Validation'])\n",
    "  plt.savefig(filename, dpi=dpi)\n",
    "  plt.show()"
   ]
  },
  {
   "cell_type": "markdown",
   "metadata": {
    "id": "ZUSUtJFkHOIB"
   },
   "source": [
    "**Plot sample image**"
   ]
  },
  {
   "cell_type": "markdown",
   "metadata": {
    "id": "gL5ypIWkHOIE"
   },
   "source": [
    "**Normalize the input data**"
   ]
  },
  {
   "cell_type": "code",
   "execution_count": 6,
   "metadata": {
    "executionInfo": {
     "elapsed": 877,
     "status": "ok",
     "timestamp": 1678043637001,
     "user": {
      "displayName": "Nazmul Hasan",
      "userId": "02122416256231585764"
     },
     "user_tz": 420
    },
    "id": "PxewI0kIHOIF"
   },
   "outputs": [],
   "source": [
    "X_train = X_train / 255.0\n",
    "X_test = X_test / 255.0"
   ]
  },
  {
   "cell_type": "code",
   "execution_count": 7,
   "metadata": {
    "colab": {
     "base_uri": "https://localhost:8080/",
     "height": 173
    },
    "executionInfo": {
     "elapsed": 245,
     "status": "ok",
     "timestamp": 1678043654418,
     "user": {
      "displayName": "Nazmul Hasan",
      "userId": "02122416256231585764"
     },
     "user_tz": 420
    },
    "id": "5SMVbqRZHOIC",
    "outputId": "2e0c028a-d708-4f1b-d71c-363dc64749e6",
    "scrolled": true
   },
   "outputs": [
    {
     "data": {
      "image/png": "[encoded data removed]",
      "text/plain": [
       "<Figure size 1080x144 with 2 Axes>"
      ]
     },
     "metadata": {
      "needs_background": "light"
     },
     "output_type": "display_data"
    }
   ],
   "source": [
    "index = np.random.randint(100)\n",
    "plot_sample_image(X_train[index], y_train[index])"
   ]
  },
  {
   "cell_type": "code",
   "execution_count": 8,
   "metadata": {
    "colab": {
     "base_uri": "https://localhost:8080/"
    },
    "executionInfo": {
     "elapsed": 19479,
     "status": "ok",
     "timestamp": 1678043697707,
     "user": {
      "displayName": "Nazmul Hasan",
      "userId": "02122416256231585764"
     },
     "user_tz": 420
    },
    "id": "Usv8lPonYXF0",
    "outputId": "d2e03226-eef3-41f9-e609-42a5fd6135db"
   },
   "outputs": [],
   "source": [
    "# from google.colab import drive\n",
    "# drive.mount('/content/gdrive')\n",
    "# %cd /content/gdrive/MyDrive/ECE 696B/Project - ECE696B"
   ]
  },
  {
   "cell_type": "markdown",
   "metadata": {
    "id": "O7TkT_B0gx0r"
   },
   "source": [
    "**Load the models**"
   ]
  },
  {
   "cell_type": "code",
   "execution_count": 9,
   "metadata": {
    "executionInfo": {
     "elapsed": 4556,
     "status": "ok",
     "timestamp": 1678043754683,
     "user": {
      "displayName": "Nazmul Hasan",
      "userId": "02122416256231585764"
     },
     "user_tz": 420
    },
    "id": "cacXKz9PZM7l"
   },
   "outputs": [
    {
     "name": "stdout",
     "output_type": "stream",
     "text": [
      "C:\\Users\\nh202\\My Drive (nh202@arizona.edu)\\ECE 696B\\Project - ECE696B\n"
     ]
    }
   ],
   "source": [
    "%cd C:\\Users\\nh202\\My Drive (nh202@arizona.edu)\\ECE 696B\\Project - ECE696B\n",
    "from keras.models import load_model\n",
    "Linear_CIFAR10 = load_model('Linear_CIFAR10.h5')\n",
    "MLP_CIFAR10 = load_model('MLP_CIFAR10.h5')\n",
    "CNN_CIFAR10 = load_model('CNN_CIFAR10.h5')"
   ]
  },
  {
   "cell_type": "code",
   "execution_count": 10,
   "metadata": {},
   "outputs": [
    {
     "name": "stdout",
     "output_type": "stream",
     "text": [
      "C:\\Users\\nh202\\OneDrive - University of Arizona\\Adversairal Examples - ECE 696B\\FGSM\n"
     ]
    }
   ],
   "source": [
    "%cd C:\\Users\\nh202\\OneDrive - University of Arizona\\Adversairal Examples - ECE 696B\\FGSM"
   ]
  },
  {
   "cell_type": "markdown",
   "metadata": {
    "id": "G1qA-8V5Z-eg"
   },
   "source": [
    "# Fast gradient sign method (FGSM) attack"
   ]
  },
  {
   "cell_type": "markdown",
   "metadata": {
    "id": "0J56ssCnYF3G"
   },
   "source": [
    "**Function for FGSM attack**"
   ]
  },
  {
   "cell_type": "code",
   "execution_count": 11,
   "metadata": {
    "executionInfo": {
     "elapsed": 229,
     "status": "ok",
     "timestamp": 1678043762950,
     "user": {
      "displayName": "Nazmul Hasan",
      "userId": "02122416256231585764"
     },
     "user_tz": 420
    },
    "id": "N233mqhAYEoC"
   },
   "outputs": [],
   "source": [
    "def fgsm_attack(model, x, y_true, eps):\n",
    "\n",
    "    x_tensor = tf.convert_to_tensor(x)\n",
    "    \n",
    "    # Set tape to watch the input tensor\n",
    "    with tf.GradientTape() as tape:\n",
    "        tape.watch(x_tensor)\n",
    "        y_pred = model(x_tensor)\n",
    "        loss = tf.keras.losses.sparse_categorical_crossentropy(y_true, y_pred)  \n",
    "    \n",
    "    # Calculate the gradient of the loss with respect to the input image\n",
    "    grads = tape.gradient(loss, x_tensor)\n",
    "    \n",
    "    # Calculate the sign of the gradient\n",
    "    sign = tf.math.sign(grads)\n",
    "\n",
    "    # Notes:\n",
    "    # sign[0] matches the shape of x, sign matches the shape of x_tensor\n",
    "    # print(sign[0].shape, x.shape, sign.shape, x_tensor.shape)\n",
    "    \n",
    "    # Generate the adversarial example by adding the sign of the gradient times epsilon to the input image\n",
    "    x_adv = x + eps * sign\n",
    "    \n",
    "    # Clip the adversarial example to maintain pixel values in [0,1] range\n",
    "    x_adv = tf.clip_by_value(x_adv, clip_value_min=0, clip_value_max=1)\n",
    "    \n",
    "    return x_adv.numpy()"
   ]
  },
  {
   "cell_type": "markdown",
   "metadata": {
    "id": "wLdrmsddiHBh"
   },
   "source": [
    "**Evaluate test accuracy on unperturbed vs perturbed data**"
   ]
  },
  {
   "cell_type": "code",
   "execution_count": 12,
   "metadata": {
    "colab": {
     "base_uri": "https://localhost:8080/"
    },
    "executionInfo": {
     "elapsed": 156360,
     "status": "ok",
     "timestamp": 1678045325696,
     "user": {
      "displayName": "Nazmul Hasan",
      "userId": "02122416256231585764"
     },
     "user_tz": 420
    },
    "id": "zW4PpJ0jMIoa",
    "outputId": "35d4d5af-9b60-482b-f180-ba04a90c11c7"
   },
   "outputs": [
    {
     "name": "stdout",
     "output_type": "stream",
     "text": [
      "Test accuracy on unperturbed data\n",
      "32/32 [==============================] - 0s 2ms/step - loss: 1.7382 - accuracy: 0.3960\n",
      "32/32 [==============================] - 1s 8ms/step - loss: 1.4203 - accuracy: 0.4930\n",
      "32/32 [==============================] - 3s 72ms/step - loss: 0.3464 - accuracy: 0.8880\n",
      "\n",
      "\n"
     ]
    }
   ],
   "source": [
    "indexes = range(1000)\n",
    "print('Test accuracy on unperturbed data')\n",
    "Linear_CIFAR10.evaluate(X_test[indexes],y_test[indexes])\n",
    "MLP_CIFAR10.evaluate(X_test[indexes],y_test[indexes])\n",
    "CNN_CIFAR10.evaluate(X_test[indexes],y_test[indexes])\n",
    "print('\\n')"
   ]
  },
  {
   "cell_type": "markdown",
   "metadata": {
    "id": "7cPtDvu0cf2X"
   },
   "source": [
    "**Create adversarial examples**"
   ]
  },
  {
   "cell_type": "code",
   "execution_count": 13,
   "metadata": {},
   "outputs": [
    {
     "name": "stdout",
     "output_type": "stream",
     "text": [
      "eps value: 0.1\n",
      "X_test_FGSM_Linear is complete\n",
      "X_test_FGSM_MLP is complete\n",
      "X_test_FGSM_CNN is complete\n",
      "Elapsed time is 11.835637 seconds.\n",
      "\n",
      "\n",
      "Test accuracy on perturbed data targeted for Linear model\n",
      "32/32 [==============================] - 0s 2ms/step - loss: 15.5954 - accuracy: 0.0000e+00\n",
      "32/32 [==============================] - 0s 8ms/step - loss: 4.1349 - accuracy: 0.0050\n",
      "32/32 [==============================] - 3s 101ms/step - loss: 4.1188 - accuracy: 0.1670\n",
      "\n",
      "\n",
      "Test accuracy on perturbed data targeted for MLP model\n",
      "32/32 [==============================] - 0s 1ms/step - loss: 8.9108 - accuracy: 0.0000e+00\n",
      "32/32 [==============================] - 0s 10ms/step - loss: 5.0450 - accuracy: 0.0030\n",
      "32/32 [==============================] - 3s 92ms/step - loss: 4.3446 - accuracy: 0.1700\n",
      "\n",
      "\n",
      "Test accuracy on perturbed data targeted for CNN model\n",
      "32/32 [==============================] - 0s 3ms/step - loss: 1.9563 - accuracy: 0.3180\n",
      "32/32 [==============================] - 0s 8ms/step - loss: 1.5944 - accuracy: 0.4310\n",
      "32/32 [==============================] - 3s 93ms/step - loss: 4.9748 - accuracy: 0.0740\n",
      "\n",
      "eps value: 0.2\n",
      "X_test_FGSM_Linear is complete\n",
      "X_test_FGSM_MLP is complete\n",
      "X_test_FGSM_CNN is complete\n",
      "Elapsed time is 11.931351 seconds.\n",
      "\n",
      "\n",
      "Test accuracy on perturbed data targeted for Linear model\n",
      "32/32 [==============================] - 0s 2ms/step - loss: 29.4172 - accuracy: 0.0000e+00\n",
      "32/32 [==============================] - 0s 9ms/step - loss: 5.8000 - accuracy: 0.0020\n",
      "32/32 [==============================] - 4s 111ms/step - loss: 4.4834 - accuracy: 0.1150\n",
      "\n",
      "\n",
      "Test accuracy on perturbed data targeted for MLP model\n",
      "32/32 [==============================] - 0s 2ms/step - loss: 17.1332 - accuracy: 0.0000e+00\n",
      "32/32 [==============================] - 0s 9ms/step - loss: 7.1469 - accuracy: 0.0020\n",
      "32/32 [==============================] - 4s 111ms/step - loss: 4.9138 - accuracy: 0.1170\n",
      "\n",
      "\n",
      "Test accuracy on perturbed data targeted for CNN model\n",
      "32/32 [==============================] - 0s 2ms/step - loss: 2.2583 - accuracy: 0.2310\n",
      "32/32 [==============================] - 0s 8ms/step - loss: 1.8287 - accuracy: 0.3510\n",
      "32/32 [==============================] - 3s 108ms/step - loss: 4.2301 - accuracy: 0.0970\n",
      "\n",
      "eps value: 0.3\n",
      "X_test_FGSM_Linear is complete\n",
      "X_test_FGSM_MLP is complete\n",
      "X_test_FGSM_CNN is complete\n",
      "Elapsed time is 12.652135 seconds.\n",
      "\n",
      "\n",
      "Test accuracy on perturbed data targeted for Linear model\n",
      "32/32 [==============================] - 0s 1ms/step - loss: 41.9004 - accuracy: 0.0000e+00\n",
      "32/32 [==============================] - 0s 7ms/step - loss: 9.6632 - accuracy: 0.0090\n",
      "32/32 [==============================] - 3s 107ms/step - loss: 4.4352 - accuracy: 0.1140\n",
      "\n",
      "\n",
      "Test accuracy on perturbed data targeted for MLP model\n",
      "32/32 [==============================] - 0s 2ms/step - loss: 24.7017 - accuracy: 0.0000e+00\n",
      "32/32 [==============================] - 0s 8ms/step - loss: 13.4887 - accuracy: 0.0070\n",
      "32/32 [==============================] - 4s 112ms/step - loss: 4.9044 - accuracy: 0.1130\n",
      "\n",
      "\n",
      "Test accuracy on perturbed data targeted for CNN model\n",
      "32/32 [==============================] - 0s 2ms/step - loss: 2.6289 - accuracy: 0.1530\n",
      "32/32 [==============================] - 0s 8ms/step - loss: 2.1135 - accuracy: 0.2670\n",
      "32/32 [==============================] - 3s 107ms/step - loss: 3.7758 - accuracy: 0.0890\n",
      "\n",
      "eps value: 0.4\n",
      "X_test_FGSM_Linear is complete\n",
      "X_test_FGSM_MLP is complete\n",
      "X_test_FGSM_CNN is complete\n",
      "Elapsed time is 13.407053 seconds.\n",
      "\n",
      "\n",
      "Test accuracy on perturbed data targeted for Linear model\n",
      "32/32 [==============================] - 0s 1ms/step - loss: 52.6203 - accuracy: 0.0000e+00\n",
      "32/32 [==============================] - 0s 8ms/step - loss: 16.8155 - accuracy: 0.0070\n",
      "32/32 [==============================] - 4s 119ms/step - loss: 4.2915 - accuracy: 0.1150\n",
      "\n",
      "\n",
      "Test accuracy on perturbed data targeted for MLP model\n",
      "32/32 [==============================] - 0s 2ms/step - loss: 31.2488 - accuracy: 0.0000e+00\n",
      "32/32 [==============================] - 0s 9ms/step - loss: 24.5157 - accuracy: 0.0160\n",
      "32/32 [==============================] - 4s 128ms/step - loss: 4.7563 - accuracy: 0.1150\n",
      "\n",
      "\n",
      "Test accuracy on perturbed data targeted for CNN model\n",
      "32/32 [==============================] - 0s 2ms/step - loss: 3.0384 - accuracy: 0.1020\n",
      "32/32 [==============================] - 1s 11ms/step - loss: 2.4370 - accuracy: 0.1740\n",
      "32/32 [==============================] - 4s 133ms/step - loss: 3.6633 - accuracy: 0.0960\n",
      "\n",
      "eps value: 0.5\n",
      "X_test_FGSM_Linear is complete\n",
      "X_test_FGSM_MLP is complete\n",
      "X_test_FGSM_CNN is complete\n",
      "Elapsed time is 14.225026 seconds.\n",
      "\n",
      "\n",
      "Test accuracy on perturbed data targeted for Linear model\n",
      "32/32 [==============================] - 0s 2ms/step - loss: 61.3416 - accuracy: 0.0000e+00\n",
      "32/32 [==============================] - 0s 8ms/step - loss: 25.3432 - accuracy: 0.0040\n",
      "32/32 [==============================] - 4s 110ms/step - loss: 4.1540 - accuracy: 0.1210\n",
      "\n",
      "\n",
      "Test accuracy on perturbed data targeted for MLP model\n",
      "32/32 [==============================] - 0s 2ms/step - loss: 36.6197 - accuracy: 0.0000e+00\n",
      "32/32 [==============================] - 0s 8ms/step - loss: 36.6900 - accuracy: 0.0150\n",
      "32/32 [==============================] - 3s 100ms/step - loss: 4.6274 - accuracy: 0.1240\n",
      "\n",
      "\n",
      "Test accuracy on perturbed data targeted for CNN model\n",
      "32/32 [==============================] - 0s 2ms/step - loss: 3.4656 - accuracy: 0.0700\n",
      "32/32 [==============================] - 0s 8ms/step - loss: 2.7779 - accuracy: 0.1100\n",
      "32/32 [==============================] - 3s 101ms/step - loss: 3.7949 - accuracy: 0.0860\n",
      "\n",
      "eps value: 0.6\n",
      "X_test_FGSM_Linear is complete\n",
      "X_test_FGSM_MLP is complete\n",
      "X_test_FGSM_CNN is complete\n",
      "Elapsed time is 13.875482 seconds.\n",
      "\n",
      "\n",
      "Test accuracy on perturbed data targeted for Linear model\n",
      "32/32 [==============================] - 0s 2ms/step - loss: 68.0174 - accuracy: 0.0000e+00\n",
      "32/32 [==============================] - 0s 8ms/step - loss: 33.1703 - accuracy: 0.0050\n",
      "32/32 [==============================] - 3s 104ms/step - loss: 4.0686 - accuracy: 0.1320\n",
      "\n",
      "\n",
      "Test accuracy on perturbed data targeted for MLP model\n",
      "32/32 [==============================] - 0s 1ms/step - loss: 40.7589 - accuracy: 0.0000e+00\n",
      "32/32 [==============================] - 0s 7ms/step - loss: 47.5019 - accuracy: 0.0190\n",
      "32/32 [==============================] - 3s 102ms/step - loss: 4.5640 - accuracy: 0.1290\n",
      "\n",
      "\n",
      "Test accuracy on perturbed data targeted for CNN model\n",
      "32/32 [==============================] - 0s 3ms/step - loss: 3.8877 - accuracy: 0.0480\n",
      "32/32 [==============================] - 0s 8ms/step - loss: 3.0877 - accuracy: 0.0630\n",
      "32/32 [==============================] - 3s 101ms/step - loss: 3.9557 - accuracy: 0.0950\n",
      "\n",
      "eps value: 0.7\n",
      "X_test_FGSM_Linear is complete\n",
      "X_test_FGSM_MLP is complete\n",
      "X_test_FGSM_CNN is complete\n",
      "Elapsed time is 12.397859 seconds.\n",
      "\n",
      "\n",
      "Test accuracy on perturbed data targeted for Linear model\n",
      "32/32 [==============================] - 0s 1ms/step - loss: 72.7148 - accuracy: 0.0000e+00\n",
      "32/32 [==============================] - 0s 8ms/step - loss: 39.2583 - accuracy: 0.0040\n",
      "32/32 [==============================] - 4s 113ms/step - loss: 4.0161 - accuracy: 0.1290\n",
      "\n",
      "\n",
      "Test accuracy on perturbed data targeted for MLP model\n",
      "32/32 [==============================] - 0s 2ms/step - loss: 43.6841 - accuracy: 0.0000e+00\n",
      "32/32 [==============================] - 0s 8ms/step - loss: 55.6789 - accuracy: 0.0210\n",
      "32/32 [==============================] - 4s 112ms/step - loss: 4.5194 - accuracy: 0.1360\n",
      "\n",
      "\n",
      "Test accuracy on perturbed data targeted for CNN model\n",
      "32/32 [==============================] - 0s 2ms/step - loss: 4.2557 - accuracy: 0.0300\n",
      "32/32 [==============================] - 0s 8ms/step - loss: 3.3120 - accuracy: 0.0430\n",
      "32/32 [==============================] - 4s 115ms/step - loss: 4.0823 - accuracy: 0.1010\n",
      "\n",
      "eps value: 0.8\n",
      "X_test_FGSM_Linear is complete\n",
      "X_test_FGSM_MLP is complete\n",
      "X_test_FGSM_CNN is complete\n",
      "Elapsed time is 12.783568 seconds.\n",
      "\n",
      "\n",
      "Test accuracy on perturbed data targeted for Linear model\n",
      "32/32 [==============================] - 0s 2ms/step - loss: 75.6402 - accuracy: 0.0000e+00\n",
      "32/32 [==============================] - 0s 8ms/step - loss: 43.3006 - accuracy: 0.0050\n",
      "32/32 [==============================] - 3s 103ms/step - loss: 3.9856 - accuracy: 0.1270\n",
      "\n",
      "\n",
      "Test accuracy on perturbed data targeted for MLP model\n",
      "32/32 [==============================] - 0s 2ms/step - loss: 45.5035 - accuracy: 0.0000e+00\n",
      "32/32 [==============================] - 0s 8ms/step - loss: 60.9183 - accuracy: 0.0210\n",
      "32/32 [==============================] - 3s 99ms/step - loss: 4.4858 - accuracy: 0.1360\n",
      "\n",
      "\n",
      "Test accuracy on perturbed data targeted for CNN model\n",
      "32/32 [==============================] - 0s 4ms/step - loss: 4.5246 - accuracy: 0.0250\n",
      "32/32 [==============================] - 0s 8ms/step - loss: 3.4523 - accuracy: 0.0340\n",
      "32/32 [==============================] - 3s 97ms/step - loss: 4.1624 - accuracy: 0.1020\n",
      "\n",
      "eps value: 0.9\n",
      "X_test_FGSM_Linear is complete\n",
      "X_test_FGSM_MLP is complete\n",
      "X_test_FGSM_CNN is complete\n",
      "Elapsed time is 12.842824 seconds.\n",
      "\n",
      "\n",
      "Test accuracy on perturbed data targeted for Linear model\n",
      "32/32 [==============================] - 0s 1ms/step - loss: 77.1182 - accuracy: 0.0000e+00\n",
      "32/32 [==============================] - 0s 8ms/step - loss: 45.5369 - accuracy: 0.0070\n",
      "32/32 [==============================] - 3s 104ms/step - loss: 3.9621 - accuracy: 0.1340\n",
      "\n",
      "\n",
      "Test accuracy on perturbed data targeted for MLP model\n",
      "32/32 [==============================] - 0s 2ms/step - loss: 46.4132 - accuracy: 0.0000e+00\n",
      "32/32 [==============================] - 0s 8ms/step - loss: 63.6668 - accuracy: 0.0230\n",
      "32/32 [==============================] - 3s 102ms/step - loss: 4.4663 - accuracy: 0.1360\n",
      "\n",
      "\n",
      "Test accuracy on perturbed data targeted for CNN model\n",
      "32/32 [==============================] - 0s 2ms/step - loss: 4.6796 - accuracy: 0.0210\n",
      "32/32 [==============================] - 0s 8ms/step - loss: 3.5175 - accuracy: 0.0320\n",
      "32/32 [==============================] - 3s 102ms/step - loss: 4.2077 - accuracy: 0.1010\n",
      "\n",
      "eps value: 1.0\n",
      "X_test_FGSM_Linear is complete\n",
      "X_test_FGSM_MLP is complete\n",
      "X_test_FGSM_CNN is complete\n",
      "Elapsed time is 13.724403 seconds.\n",
      "\n",
      "\n",
      "Test accuracy on perturbed data targeted for Linear model\n",
      "32/32 [==============================] - 0s 1ms/step - loss: 77.5898 - accuracy: 0.0000e+00\n",
      "32/32 [==============================] - 0s 8ms/step - loss: 46.3863 - accuracy: 0.0060\n",
      "32/32 [==============================] - 4s 111ms/step - loss: 3.9474 - accuracy: 0.1360\n",
      "\n",
      "\n",
      "Test accuracy on perturbed data targeted for MLP model\n",
      "32/32 [==============================] - 0s 2ms/step - loss: 46.6938 - accuracy: 0.0000e+00\n",
      "32/32 [==============================] - 0s 8ms/step - loss: 64.6867 - accuracy: 0.0230\n",
      "32/32 [==============================] - 4s 110ms/step - loss: 4.4589 - accuracy: 0.1370\n",
      "\n",
      "\n",
      "Test accuracy on perturbed data targeted for CNN model\n",
      "32/32 [==============================] - 0s 2ms/step - loss: 4.7326 - accuracy: 0.0200\n",
      "32/32 [==============================] - 0s 12ms/step - loss: 3.5341 - accuracy: 0.0330\n",
      "32/32 [==============================] - 4s 112ms/step - loss: 4.2318 - accuracy: 0.0990\n",
      "\n"
     ]
    }
   ],
   "source": [
    "for eps in np.arange(0.1,1.1,0.1):\n",
    "\n",
    "  print(f'eps value: {np.round(eps,1)}')\n",
    "\n",
    "  t = TicToc()\n",
    "  t.tic()\n",
    "  X_test_FGSM_Linear = fgsm_attack(Linear_CIFAR10,X_test[indexes],y_test[indexes],eps)\n",
    "  print('X_test_FGSM_Linear is complete')\n",
    "  X_test_FGSM_MLP = fgsm_attack(MLP_CIFAR10,X_test[indexes],y_test[indexes],eps)\n",
    "  print('X_test_FGSM_MLP is complete')\n",
    "  X_test_FGSM_CNN = fgsm_attack(CNN_CIFAR10,X_test[indexes],y_test[indexes],eps)\n",
    "  print('X_test_FGSM_CNN is complete')\n",
    "  t.toc()\n",
    "\n",
    "  # Save the adversarial examples\n",
    "  np_array_filename = 'CIFAR10_FGSM_'+ str(len(indexes)) +'_adv_examples_eps_'+ str(round(eps,1)) + '.npz'\n",
    "  np.savez(np_array_filename, X_test_FGSM_Linear=X_test_FGSM_Linear, \\\n",
    "          X_test_FGSM_MLP=X_test_FGSM_MLP, X_test_FGSM_CNN=X_test_FGSM_CNN)\n",
    "\n",
    "  stored_results = []\n",
    "  print('\\n')\n",
    "  print('Test accuracy on perturbed data targeted for Linear model')\n",
    "  avg_l2_norm_Linear = np.mean(np.sqrt(np.sum((X_test_FGSM_Linear-X_test[:len(indexes)])**2, axis=(1,2,3))))\n",
    "  stored_results.append(avg_l2_norm_Linear)\n",
    "  _, accuracy = Linear_CIFAR10.evaluate(X_test_FGSM_Linear[indexes],y_test[indexes])\n",
    "  stored_results.append(accuracy)\n",
    "  _, accuracy = MLP_CIFAR10.evaluate(X_test_FGSM_Linear[indexes],y_test[indexes])\n",
    "  stored_results.append(accuracy)\n",
    "  _, accuracy = CNN_CIFAR10.evaluate(X_test_FGSM_Linear[indexes],y_test[indexes])\n",
    "  stored_results.append(accuracy)\n",
    "  print('\\n')\n",
    "  print('Test accuracy on perturbed data targeted for MLP model')\n",
    "  avg_l2_norm_MLP = np.mean(np.sqrt(np.sum((X_test_FGSM_MLP-X_test[:len(indexes)])**2, axis=(1,2,3))))\n",
    "  stored_results.append(avg_l2_norm_MLP)\n",
    "  _, accuracy = Linear_CIFAR10.evaluate(X_test_FGSM_MLP[indexes],y_test[indexes])\n",
    "  stored_results.append(accuracy)\n",
    "  _, accuracy = MLP_CIFAR10.evaluate(X_test_FGSM_MLP[indexes],y_test[indexes])\n",
    "  stored_results.append(accuracy)\n",
    "  _, accuracy = CNN_CIFAR10.evaluate(X_test_FGSM_MLP[indexes],y_test[indexes])\n",
    "  stored_results.append(accuracy)\n",
    "  print('\\n')\n",
    "  print('Test accuracy on perturbed data targeted for CNN model')\n",
    "  avg_l2_norm_CNN = np.mean(np.sqrt(np.sum((X_test_FGSM_CNN-X_test[:len(indexes)])**2, axis=(1,2,3))))\n",
    "  stored_results.append(avg_l2_norm_CNN)\n",
    "  _, accuracy = Linear_CIFAR10.evaluate(X_test_FGSM_CNN[indexes],y_test[indexes])\n",
    "  stored_results.append(accuracy)\n",
    "  _, accuracy = MLP_CIFAR10.evaluate(X_test_FGSM_CNN[indexes],y_test[indexes])\n",
    "  stored_results.append(accuracy)\n",
    "  _, accuracy = CNN_CIFAR10.evaluate(X_test_FGSM_CNN[indexes],y_test[indexes])\n",
    "  stored_results.append(accuracy)\n",
    "  print()\n",
    "\n",
    "  stored_results = np.array(stored_results)\n",
    "  stored_results = stored_results.reshape(-1,4)\n",
    "  df = pd.DataFrame(stored_results, columns = ['avg_l2_norm','Linear_CIFAR10_test_accuray',\\\n",
    "                                   'MLP_CIFAR10_test_accuray','CNN_CIFAR10_test_accuray'])\n",
    "  filename = 'Adversarial_Attacks_CIFAR10_'+ str(len(indexes)) +' [FGSM Attack - eps '+ str(round(eps,1)) + '].csv'\n",
    "  df.to_csv(filename, index=False)"
   ]
  },
  {
   "cell_type": "markdown",
   "metadata": {
    "id": "xZIfzRmPhsHo"
   },
   "source": [
    "**Load the adversarial examples**"
   ]
  },
  {
   "cell_type": "code",
   "execution_count": 14,
   "metadata": {
    "id": "zzt06kd3MIob",
    "outputId": "02bcc08b-9544-489a-908f-c31c4fe245b2"
   },
   "outputs": [
    {
     "name": "stdout",
     "output_type": "stream",
     "text": [
      "Test accuracy on unperturbed data\n",
      "32/32 [==============================] - 0s 1ms/step - loss: 1.7382 - accuracy: 0.3960\n",
      "32/32 [==============================] - 0s 7ms/step - loss: 1.4203 - accuracy: 0.4930\n",
      "32/32 [==============================] - 4s 116ms/step - loss: 0.3464 - accuracy: 0.8880\n",
      "\n",
      "\n",
      "Test accuracy on perturbed data targeted for Linear model\n",
      "32/32 [==============================] - 0s 2ms/step - loss: 15.5954 - accuracy: 0.0000e+00\n",
      "32/32 [==============================] - 0s 9ms/step - loss: 4.1349 - accuracy: 0.0050\n",
      "32/32 [==============================] - 4s 111ms/step - loss: 4.1188 - accuracy: 0.1670\n",
      "\n",
      "\n",
      "Test accuracy on perturbed data targeted for MLP model\n",
      "32/32 [==============================] - 0s 2ms/step - loss: 8.9108 - accuracy: 0.0000e+00\n",
      "32/32 [==============================] - 0s 8ms/step - loss: 5.0450 - accuracy: 0.0030\n",
      "32/32 [==============================] - 4s 110ms/step - loss: 4.3446 - accuracy: 0.1700\n",
      "\n",
      "\n",
      "Test accuracy on perturbed data targeted for CNN model\n",
      "32/32 [==============================] - 0s 2ms/step - loss: 1.9563 - accuracy: 0.3180\n",
      "32/32 [==============================] - 0s 8ms/step - loss: 1.5944 - accuracy: 0.4310\n",
      "32/32 [==============================] - 4s 117ms/step - loss: 4.9748 - accuracy: 0.0740\n",
      "\n"
     ]
    }
   ],
   "source": [
    "np_array_filename = 'CIFAR10_FGSM_'+ str(len(indexes)) +'_adv_examples_eps_'+ str(round(0.1,1)) + '.npz'\n",
    "data = np.load(np_array_filename)\n",
    "\n",
    "# access the arrays using their keys\n",
    "X_test_FGSM_Linear = data['X_test_FGSM_Linear']\n",
    "X_test_FGSM_MLP = data['X_test_FGSM_MLP']\n",
    "X_test_FGSM_CNN = data['X_test_FGSM_CNN']\n",
    "\n",
    "print('Test accuracy on unperturbed data')\n",
    "Linear_CIFAR10.evaluate(X_test[indexes],y_test[indexes])\n",
    "MLP_CIFAR10.evaluate(X_test[indexes],y_test[indexes])\n",
    "CNN_CIFAR10.evaluate(X_test[indexes],y_test[indexes])\n",
    "print('\\n')\n",
    "print('Test accuracy on perturbed data targeted for Linear model')\n",
    "Linear_CIFAR10.evaluate(X_test_FGSM_Linear[indexes],y_test[indexes])\n",
    "MLP_CIFAR10.evaluate(X_test_FGSM_Linear[indexes],y_test[indexes])\n",
    "CNN_CIFAR10.evaluate(X_test_FGSM_Linear[indexes],y_test[indexes])\n",
    "print('\\n')\n",
    "print('Test accuracy on perturbed data targeted for MLP model')\n",
    "Linear_CIFAR10.evaluate(X_test_FGSM_MLP[indexes],y_test[indexes])\n",
    "MLP_CIFAR10.evaluate(X_test_FGSM_MLP[indexes],y_test[indexes])\n",
    "CNN_CIFAR10.evaluate(X_test_FGSM_MLP[indexes],y_test[indexes])\n",
    "print('\\n')\n",
    "print('Test accuracy on perturbed data targeted for CNN model')\n",
    "Linear_CIFAR10.evaluate(X_test_FGSM_CNN[indexes],y_test[indexes])\n",
    "MLP_CIFAR10.evaluate(X_test_FGSM_CNN[indexes],y_test[indexes])\n",
    "CNN_CIFAR10.evaluate(X_test_FGSM_CNN[indexes],y_test[indexes])\n",
    "print()"
   ]
  },
  {
   "cell_type": "markdown",
   "metadata": {
    "id": "xrNR5r9buIAm"
   },
   "source": [
    "**Visualize the effect of the added noise**"
   ]
  },
  {
   "cell_type": "code",
   "execution_count": 15,
   "metadata": {
    "colab": {
     "base_uri": "https://localhost:8080/",
     "height": 751
    },
    "executionInfo": {
     "elapsed": 980,
     "status": "ok",
     "timestamp": 1677477722897,
     "user": {
      "displayName": "Nazmul Hasan",
      "userId": "02122416256231585764"
     },
     "user_tz": 420
    },
    "id": "94rJRpNKr2G6",
    "outputId": "ea83b648-7670-4abc-9578-5562b8aed6fc"
   },
   "outputs": [
    {
     "data": {
      "image/png": "[encoded data removed]",
      "text/plain": [
       "<Figure size 1080x144 with 2 Axes>"
      ]
     },
     "metadata": {
      "needs_background": "light"
     },
     "output_type": "display_data"
    },
    {
     "name": "stdout",
     "output_type": "stream",
     "text": [
      "1/1 [==============================] - 0s 97ms/step\n"
     ]
    },
    {
     "data": {
      "image/png": "[encoded data removed]",
      "text/plain": [
       "<Figure size 1080x144 with 2 Axes>"
      ]
     },
     "metadata": {
      "needs_background": "light"
     },
     "output_type": "display_data"
    },
    {
     "name": "stdout",
     "output_type": "stream",
     "text": [
      "1/1 [==============================] - 0s 220ms/step\n"
     ]
    },
    {
     "data": {
      "image/png": "[encoded data removed]",
      "text/plain": [
       "<Figure size 1080x144 with 2 Axes>"
      ]
     },
     "metadata": {
      "needs_background": "light"
     },
     "output_type": "display_data"
    },
    {
     "name": "stdout",
     "output_type": "stream",
     "text": [
      "1/1 [==============================] - 0s 399ms/step\n"
     ]
    },
    {
     "data": {
      "image/png": "[encoded data removed]",
      "text/plain": [
       "<Figure size 1080x144 with 2 Axes>"
      ]
     },
     "metadata": {
      "needs_background": "light"
     },
     "output_type": "display_data"
    }
   ],
   "source": [
    "np_array_filename = 'CIFAR10_FGSM_'+ str(len(indexes)) +'_adv_examples_eps_'+ str(round(0.1,1)) + '.npz'\n",
    "data = np.load(np_array_filename)\n",
    "\n",
    "# access the arrays using their keys\n",
    "X_test_FGSM_Linear = data['X_test_FGSM_Linear']\n",
    "X_test_FGSM_MLP = data['X_test_FGSM_MLP']\n",
    "X_test_FGSM_CNN = data['X_test_FGSM_CNN']\n",
    "\n",
    "index = np.random.randint(100)\n",
    "plot_sample_image(X_test[index], y_test[index])\n",
    "plt.title('Original Image'); plt.show()\n",
    "plot_sample_image(X_test_FGSM_Linear[index], np.argmax(Linear_CIFAR10.predict(X_test_FGSM_Linear[index][np.newaxis, ...])))\n",
    "plt.title('FGSM adversarial example for Linear model'); plt.show()\n",
    "plot_sample_image(X_test_FGSM_MLP[index], np.argmax(MLP_CIFAR10.predict(X_test_FGSM_Linear[index][np.newaxis, ...])))\n",
    "plt.title('FGSM adversarial example for MLP model'); plt.show()\n",
    "plot_sample_image(X_test_FGSM_CNN[index], np.argmax(CNN_CIFAR10.predict(X_test_FGSM_Linear[index][np.newaxis, ...])))\n",
    "plt.title('FGSM adversarial example for CNN model'); plt.show()"
   ]
  },
  {
   "cell_type": "markdown",
   "metadata": {
    "id": "aY6monRIMIoc"
   },
   "source": [
    "# Compile the results into a dataframe"
   ]
  },
  {
   "cell_type": "code",
   "execution_count": 16,
   "metadata": {
    "id": "cCoZR9XxMIoc"
   },
   "outputs": [],
   "source": [
    "target_models = []\n",
    "for i in range(10):\n",
    "    target_models.append('Linear')\n",
    "    target_models.append('MLP')    \n",
    "    target_models.append('CNN') \n",
    "target_models = np.array(target_models).reshape(-1,1)"
   ]
  },
  {
   "cell_type": "code",
   "execution_count": 17,
   "metadata": {
    "id": "Cc83Sk3mMIod"
   },
   "outputs": [],
   "source": [
    "eps_values = []\n",
    "for eps in np.arange(0.1,1.1,0.1):\n",
    "    eps_values.append(eps)\n",
    "    eps_values.append(eps)    \n",
    "    eps_values.append(eps) \n",
    "eps_values = np.array(eps_values).reshape(-1,1)"
   ]
  },
  {
   "cell_type": "code",
   "execution_count": 18,
   "metadata": {
    "id": "RtXwe6MnMIod",
    "outputId": "68de4585-a0be-41c7-96d3-370041702fff"
   },
   "outputs": [
    {
     "data": {
      "text/html": [
       "<div>\n",
       "<style scoped>\n",
       "    .dataframe tbody tr th:only-of-type {\n",
       "        vertical-align: middle;\n",
       "    }\n",
       "\n",
       "    .dataframe tbody tr th {\n",
       "        vertical-align: top;\n",
       "    }\n",
       "\n",
       "    .dataframe thead th {\n",
       "        text-align: right;\n",
       "    }\n",
       "</style>\n",
       "<table border=\"1\" class=\"dataframe\">\n",
       "  <thead>\n",
       "    <tr style=\"text-align: right;\">\n",
       "      <th></th>\n",
       "      <th>eps value</th>\n",
       "      <th>Target model</th>\n",
       "      <th>avg_l2_norm</th>\n",
       "      <th>Linear_CIFAR10_test_accuray</th>\n",
       "      <th>MLP_CIFAR10_test_accuray</th>\n",
       "      <th>CNN_CIFAR10_test_accuray</th>\n",
       "    </tr>\n",
       "  </thead>\n",
       "  <tbody>\n",
       "    <tr>\n",
       "      <th>0</th>\n",
       "      <td>0.1</td>\n",
       "      <td>Linear</td>\n",
       "      <td>5.428031</td>\n",
       "      <td>0.000</td>\n",
       "      <td>0.005</td>\n",
       "      <td>0.167</td>\n",
       "    </tr>\n",
       "    <tr>\n",
       "      <th>1</th>\n",
       "      <td>0.1</td>\n",
       "      <td>MLP</td>\n",
       "      <td>5.429167</td>\n",
       "      <td>0.000</td>\n",
       "      <td>0.003</td>\n",
       "      <td>0.170</td>\n",
       "    </tr>\n",
       "    <tr>\n",
       "      <th>2</th>\n",
       "      <td>0.1</td>\n",
       "      <td>CNN</td>\n",
       "      <td>5.428654</td>\n",
       "      <td>0.318</td>\n",
       "      <td>0.431</td>\n",
       "      <td>0.074</td>\n",
       "    </tr>\n",
       "    <tr>\n",
       "      <th>3</th>\n",
       "      <td>0.2</td>\n",
       "      <td>Linear</td>\n",
       "      <td>10.591667</td>\n",
       "      <td>0.000</td>\n",
       "      <td>0.002</td>\n",
       "      <td>0.115</td>\n",
       "    </tr>\n",
       "    <tr>\n",
       "      <th>4</th>\n",
       "      <td>0.2</td>\n",
       "      <td>MLP</td>\n",
       "      <td>10.595510</td>\n",
       "      <td>0.000</td>\n",
       "      <td>0.002</td>\n",
       "      <td>0.117</td>\n",
       "    </tr>\n",
       "    <tr>\n",
       "      <th>5</th>\n",
       "      <td>0.2</td>\n",
       "      <td>CNN</td>\n",
       "      <td>10.590528</td>\n",
       "      <td>0.231</td>\n",
       "      <td>0.351</td>\n",
       "      <td>0.097</td>\n",
       "    </tr>\n",
       "    <tr>\n",
       "      <th>6</th>\n",
       "      <td>0.3</td>\n",
       "      <td>Linear</td>\n",
       "      <td>15.359060</td>\n",
       "      <td>0.000</td>\n",
       "      <td>0.009</td>\n",
       "      <td>0.114</td>\n",
       "    </tr>\n",
       "    <tr>\n",
       "      <th>7</th>\n",
       "      <td>0.3</td>\n",
       "      <td>MLP</td>\n",
       "      <td>15.367175</td>\n",
       "      <td>0.000</td>\n",
       "      <td>0.007</td>\n",
       "      <td>0.113</td>\n",
       "    </tr>\n",
       "    <tr>\n",
       "      <th>8</th>\n",
       "      <td>0.3</td>\n",
       "      <td>CNN</td>\n",
       "      <td>15.351246</td>\n",
       "      <td>0.153</td>\n",
       "      <td>0.267</td>\n",
       "      <td>0.089</td>\n",
       "    </tr>\n",
       "    <tr>\n",
       "      <th>9</th>\n",
       "      <td>0.4</td>\n",
       "      <td>Linear</td>\n",
       "      <td>19.613840</td>\n",
       "      <td>0.000</td>\n",
       "      <td>0.007</td>\n",
       "      <td>0.115</td>\n",
       "    </tr>\n",
       "    <tr>\n",
       "      <th>10</th>\n",
       "      <td>0.4</td>\n",
       "      <td>MLP</td>\n",
       "      <td>19.629382</td>\n",
       "      <td>0.000</td>\n",
       "      <td>0.016</td>\n",
       "      <td>0.115</td>\n",
       "    </tr>\n",
       "    <tr>\n",
       "      <th>11</th>\n",
       "      <td>0.4</td>\n",
       "      <td>CNN</td>\n",
       "      <td>19.596286</td>\n",
       "      <td>0.102</td>\n",
       "      <td>0.174</td>\n",
       "      <td>0.096</td>\n",
       "    </tr>\n",
       "    <tr>\n",
       "      <th>12</th>\n",
       "      <td>0.5</td>\n",
       "      <td>Linear</td>\n",
       "      <td>23.261484</td>\n",
       "      <td>0.000</td>\n",
       "      <td>0.004</td>\n",
       "      <td>0.121</td>\n",
       "    </tr>\n",
       "    <tr>\n",
       "      <th>13</th>\n",
       "      <td>0.5</td>\n",
       "      <td>MLP</td>\n",
       "      <td>23.289474</td>\n",
       "      <td>0.000</td>\n",
       "      <td>0.015</td>\n",
       "      <td>0.124</td>\n",
       "    </tr>\n",
       "    <tr>\n",
       "      <th>14</th>\n",
       "      <td>0.5</td>\n",
       "      <td>CNN</td>\n",
       "      <td>23.233957</td>\n",
       "      <td>0.070</td>\n",
       "      <td>0.110</td>\n",
       "      <td>0.086</td>\n",
       "    </tr>\n",
       "    <tr>\n",
       "      <th>15</th>\n",
       "      <td>0.6</td>\n",
       "      <td>Linear</td>\n",
       "      <td>26.234756</td>\n",
       "      <td>0.000</td>\n",
       "      <td>0.005</td>\n",
       "      <td>0.132</td>\n",
       "    </tr>\n",
       "    <tr>\n",
       "      <th>16</th>\n",
       "      <td>0.6</td>\n",
       "      <td>MLP</td>\n",
       "      <td>26.275507</td>\n",
       "      <td>0.000</td>\n",
       "      <td>0.019</td>\n",
       "      <td>0.129</td>\n",
       "    </tr>\n",
       "    <tr>\n",
       "      <th>17</th>\n",
       "      <td>0.6</td>\n",
       "      <td>CNN</td>\n",
       "      <td>26.196722</td>\n",
       "      <td>0.048</td>\n",
       "      <td>0.063</td>\n",
       "      <td>0.095</td>\n",
       "    </tr>\n",
       "    <tr>\n",
       "      <th>18</th>\n",
       "      <td>0.7</td>\n",
       "      <td>Linear</td>\n",
       "      <td>28.474781</td>\n",
       "      <td>0.000</td>\n",
       "      <td>0.004</td>\n",
       "      <td>0.129</td>\n",
       "    </tr>\n",
       "    <tr>\n",
       "      <th>19</th>\n",
       "      <td>0.7</td>\n",
       "      <td>MLP</td>\n",
       "      <td>28.523747</td>\n",
       "      <td>0.000</td>\n",
       "      <td>0.021</td>\n",
       "      <td>0.136</td>\n",
       "    </tr>\n",
       "    <tr>\n",
       "      <th>20</th>\n",
       "      <td>0.7</td>\n",
       "      <td>CNN</td>\n",
       "      <td>28.425631</td>\n",
       "      <td>0.030</td>\n",
       "      <td>0.043</td>\n",
       "      <td>0.101</td>\n",
       "    </tr>\n",
       "    <tr>\n",
       "      <th>21</th>\n",
       "      <td>0.8</td>\n",
       "      <td>Linear</td>\n",
       "      <td>29.972163</td>\n",
       "      <td>0.000</td>\n",
       "      <td>0.005</td>\n",
       "      <td>0.127</td>\n",
       "    </tr>\n",
       "    <tr>\n",
       "      <th>22</th>\n",
       "      <td>0.8</td>\n",
       "      <td>MLP</td>\n",
       "      <td>30.026740</td>\n",
       "      <td>0.000</td>\n",
       "      <td>0.021</td>\n",
       "      <td>0.136</td>\n",
       "    </tr>\n",
       "    <tr>\n",
       "      <th>23</th>\n",
       "      <td>0.8</td>\n",
       "      <td>CNN</td>\n",
       "      <td>29.915366</td>\n",
       "      <td>0.025</td>\n",
       "      <td>0.034</td>\n",
       "      <td>0.102</td>\n",
       "    </tr>\n",
       "    <tr>\n",
       "      <th>24</th>\n",
       "      <td>0.9</td>\n",
       "      <td>Linear</td>\n",
       "      <td>30.787715</td>\n",
       "      <td>0.000</td>\n",
       "      <td>0.007</td>\n",
       "      <td>0.134</td>\n",
       "    </tr>\n",
       "    <tr>\n",
       "      <th>25</th>\n",
       "      <td>0.9</td>\n",
       "      <td>MLP</td>\n",
       "      <td>30.846784</td>\n",
       "      <td>0.000</td>\n",
       "      <td>0.023</td>\n",
       "      <td>0.136</td>\n",
       "    </tr>\n",
       "    <tr>\n",
       "      <th>26</th>\n",
       "      <td>0.9</td>\n",
       "      <td>CNN</td>\n",
       "      <td>30.730165</td>\n",
       "      <td>0.021</td>\n",
       "      <td>0.032</td>\n",
       "      <td>0.101</td>\n",
       "    </tr>\n",
       "    <tr>\n",
       "      <th>27</th>\n",
       "      <td>1.0</td>\n",
       "      <td>Linear</td>\n",
       "      <td>31.065790</td>\n",
       "      <td>0.000</td>\n",
       "      <td>0.006</td>\n",
       "      <td>0.136</td>\n",
       "    </tr>\n",
       "    <tr>\n",
       "      <th>28</th>\n",
       "      <td>1.0</td>\n",
       "      <td>MLP</td>\n",
       "      <td>31.127443</td>\n",
       "      <td>0.000</td>\n",
       "      <td>0.023</td>\n",
       "      <td>0.137</td>\n",
       "    </tr>\n",
       "    <tr>\n",
       "      <th>29</th>\n",
       "      <td>1.0</td>\n",
       "      <td>CNN</td>\n",
       "      <td>31.010497</td>\n",
       "      <td>0.020</td>\n",
       "      <td>0.033</td>\n",
       "      <td>0.099</td>\n",
       "    </tr>\n",
       "  </tbody>\n",
       "</table>\n",
       "</div>"
      ],
      "text/plain": [
       "    eps value Target model  avg_l2_norm  Linear_CIFAR10_test_accuray  \\\n",
       "0         0.1       Linear     5.428031                        0.000   \n",
       "1         0.1          MLP     5.429167                        0.000   \n",
       "2         0.1          CNN     5.428654                        0.318   \n",
       "3         0.2       Linear    10.591667                        0.000   \n",
       "4         0.2          MLP    10.595510                        0.000   \n",
       "5         0.2          CNN    10.590528                        0.231   \n",
       "6         0.3       Linear    15.359060                        0.000   \n",
       "7         0.3          MLP    15.367175                        0.000   \n",
       "8         0.3          CNN    15.351246                        0.153   \n",
       "9         0.4       Linear    19.613840                        0.000   \n",
       "10        0.4          MLP    19.629382                        0.000   \n",
       "11        0.4          CNN    19.596286                        0.102   \n",
       "12        0.5       Linear    23.261484                        0.000   \n",
       "13        0.5          MLP    23.289474                        0.000   \n",
       "14        0.5          CNN    23.233957                        0.070   \n",
       "15        0.6       Linear    26.234756                        0.000   \n",
       "16        0.6          MLP    26.275507                        0.000   \n",
       "17        0.6          CNN    26.196722                        0.048   \n",
       "18        0.7       Linear    28.474781                        0.000   \n",
       "19        0.7          MLP    28.523747                        0.000   \n",
       "20        0.7          CNN    28.425631                        0.030   \n",
       "21        0.8       Linear    29.972163                        0.000   \n",
       "22        0.8          MLP    30.026740                        0.000   \n",
       "23        0.8          CNN    29.915366                        0.025   \n",
       "24        0.9       Linear    30.787715                        0.000   \n",
       "25        0.9          MLP    30.846784                        0.000   \n",
       "26        0.9          CNN    30.730165                        0.021   \n",
       "27        1.0       Linear    31.065790                        0.000   \n",
       "28        1.0          MLP    31.127443                        0.000   \n",
       "29        1.0          CNN    31.010497                        0.020   \n",
       "\n",
       "    MLP_CIFAR10_test_accuray  CNN_CIFAR10_test_accuray  \n",
       "0                      0.005                     0.167  \n",
       "1                      0.003                     0.170  \n",
       "2                      0.431                     0.074  \n",
       "3                      0.002                     0.115  \n",
       "4                      0.002                     0.117  \n",
       "5                      0.351                     0.097  \n",
       "6                      0.009                     0.114  \n",
       "7                      0.007                     0.113  \n",
       "8                      0.267                     0.089  \n",
       "9                      0.007                     0.115  \n",
       "10                     0.016                     0.115  \n",
       "11                     0.174                     0.096  \n",
       "12                     0.004                     0.121  \n",
       "13                     0.015                     0.124  \n",
       "14                     0.110                     0.086  \n",
       "15                     0.005                     0.132  \n",
       "16                     0.019                     0.129  \n",
       "17                     0.063                     0.095  \n",
       "18                     0.004                     0.129  \n",
       "19                     0.021                     0.136  \n",
       "20                     0.043                     0.101  \n",
       "21                     0.005                     0.127  \n",
       "22                     0.021                     0.136  \n",
       "23                     0.034                     0.102  \n",
       "24                     0.007                     0.134  \n",
       "25                     0.023                     0.136  \n",
       "26                     0.032                     0.101  \n",
       "27                     0.006                     0.136  \n",
       "28                     0.023                     0.137  \n",
       "29                     0.033                     0.099  "
      ]
     },
     "execution_count": 18,
     "metadata": {},
     "output_type": "execute_result"
    }
   ],
   "source": [
    "df_all = pd.DataFrame()\n",
    "for eps in np.arange(0.1,1.1,0.1):\n",
    "    filename = 'Adversarial_Attacks_CIFAR10_'+ str(len(indexes)) +' [FGSM Attack - eps '+ str(round(eps,1)) + '].csv'\n",
    "    df = pd.read_csv(filename)\n",
    "    df_all = pd.concat([df_all, df], ignore_index=True)\n",
    "df_all['Target model'] = target_models\n",
    "df_all['eps value'] = eps_values\n",
    "df_all = df_all[['eps value', 'Target model', 'avg_l2_norm', 'Linear_CIFAR10_test_accuray', 'MLP_CIFAR10_test_accuray',\n",
    "       'CNN_CIFAR10_test_accuray']]\n",
    "df_all.to_csv('Adversarial_Attacks_CIFAR10 [FGSM Attack].csv', index=False)\n",
    "df_all"
   ]
  },
  {
   "cell_type": "markdown",
   "metadata": {
    "id": "BAG1CevVMIod"
   },
   "source": [
    "# Prepare the plots"
   ]
  },
  {
   "cell_type": "markdown",
   "metadata": {},
   "source": [
    "**For Linear model**"
   ]
  },
  {
   "cell_type": "code",
   "execution_count": 19,
   "metadata": {},
   "outputs": [
    {
     "name": "stdout",
     "output_type": "stream",
     "text": [
      "Test accuracy on unperturbed data\n",
      "32/32 [==============================] - 0s 2ms/step - loss: 1.7382 - accuracy: 0.3960\n",
      "32/32 [==============================] - 0s 8ms/step - loss: 1.4203 - accuracy: 0.4930\n",
      "32/32 [==============================] - 3s 81ms/step - loss: 0.3464 - accuracy: 0.8880\n"
     ]
    },
    {
     "data": {
      "image/png": "[encoded data removed]",
      "text/plain": [
       "<Figure size 432x288 with 1 Axes>"
      ]
     },
     "metadata": {
      "needs_background": "light"
     },
     "output_type": "display_data"
    }
   ],
   "source": [
    "df_all = pd.read_csv('Adversarial_Attacks_CIFAR10 [FGSM Attack].csv')\n",
    "df_Linear = df_all[df_all['Target model']=='Linear']\n",
    "print('Test accuracy on unperturbed data')\n",
    "_, accurcy_Linear = Linear_CIFAR10.evaluate(X_test[indexes],y_test[indexes]);\n",
    "_, accurcy_MLP = MLP_CIFAR10.evaluate(X_test[indexes],y_test[indexes]);\n",
    "_, accurcy_CNN = CNN_CIFAR10.evaluate(X_test[indexes],y_test[indexes]);\n",
    "df_Linear.loc[10] = ['-', '-', 0, accurcy_Linear, accurcy_MLP, accurcy_CNN]\n",
    "df_Linear\n",
    "df_Linear = df_Linear.sort_values('avg_l2_norm', ascending=True)\n",
    "plt.plot(df_Linear['avg_l2_norm'],df_Linear['Linear_CIFAR10_test_accuray'],'o-')\n",
    "plt.plot(df_Linear['avg_l2_norm'],df_Linear['MLP_CIFAR10_test_accuray'],'o--')\n",
    "plt.plot(df_Linear['avg_l2_norm'],df_Linear['CNN_CIFAR10_test_accuray'],'o-.')\n",
    "plt.xlabel('Average $l_2$ norm of the perturbation')\n",
    "plt.ylabel('Test accuracy')\n",
    "plt.ylim([-0.1, 1.1])\n",
    "plt.legend(['Linear model', 'MLP model','CNN model'])\n",
    "plt.title('Effect of FGSM attack on CIFAR10 \\nTraget model: Linear')\n",
    "plt.savefig('Effect of FGSM attack on CIFAR10 for Linear model [l2 norm]', dpi=600)\n",
    "plt.show()"
   ]
  },
  {
   "cell_type": "code",
   "execution_count": 20,
   "metadata": {},
   "outputs": [
    {
     "name": "stdout",
     "output_type": "stream",
     "text": [
      "Test accuracy on unperturbed data\n",
      "32/32 [==============================] - 0s 2ms/step - loss: 1.7382 - accuracy: 0.3960\n",
      "32/32 [==============================] - 0s 8ms/step - loss: 1.4203 - accuracy: 0.4930\n",
      "32/32 [==============================] - 3s 83ms/step - loss: 0.3464 - accuracy: 0.8880\n"
     ]
    },
    {
     "data": {
      "image/png": "[encoded data removed]",
      "text/plain": [
       "<Figure size 432x288 with 1 Axes>"
      ]
     },
     "metadata": {
      "needs_background": "light"
     },
     "output_type": "display_data"
    }
   ],
   "source": [
    "indexes = range(1000)\n",
    "df_all = pd.read_csv('Adversarial_Attacks_CIFAR10 [FGSM Attack].csv')\n",
    "df_Linear = df_all[df_all['Target model']=='Linear']\n",
    "print('Test accuracy on unperturbed data')\n",
    "_, accurcy_Linear = Linear_CIFAR10.evaluate(X_test[indexes],y_test[indexes]);\n",
    "_, accurcy_MLP = MLP_CIFAR10.evaluate(X_test[indexes],y_test[indexes]);\n",
    "_, accurcy_CNN = CNN_CIFAR10.evaluate(X_test[indexes],y_test[indexes]);\n",
    "df_Linear.loc[10] = [0, '-', 0, accurcy_Linear, accurcy_MLP, accurcy_CNN]\n",
    "df_Linear\n",
    "df_Linear = df_Linear.sort_values('eps value', ascending=True)\n",
    "plt.plot(df_Linear['eps value'],df_Linear['Linear_CIFAR10_test_accuray'],'o-')\n",
    "plt.plot(df_Linear['eps value'],df_Linear['MLP_CIFAR10_test_accuray'],'o--')\n",
    "plt.plot(df_Linear['eps value'],df_Linear['CNN_CIFAR10_test_accuray'],'o-.')\n",
    "plt.xlabel('$\\epsilon$-parameter value')\n",
    "plt.ylabel('Test accuracy')\n",
    "plt.ylim([-0.1, 1.1])\n",
    "plt.legend(['Linear model', 'MLP model','CNN model'])\n",
    "plt.title('Effect of FGSM attack on CIFAR10 \\nTraget model: Linear')\n",
    "plt.savefig('Effect of FGSM attack on CIFAR10 for Linear model [eps value]', dpi=600)\n",
    "plt.show()"
   ]
  },
  {
   "cell_type": "code",
   "execution_count": 22,
   "metadata": {
    "id": "8-X1B-j5MIoe",
    "outputId": "19db3cbe-db5b-4265-bcdd-d0e791bbd43a"
   },
   "outputs": [
    {
     "name": "stdout",
     "output_type": "stream",
     "text": [
      "Test accuracy on unperturbed data\n",
      "32/32 [==============================] - 0s 2ms/step - loss: 1.7382 - accuracy: 0.3960\n",
      "32/32 [==============================] - 0s 8ms/step - loss: 1.4203 - accuracy: 0.4930\n",
      "32/32 [==============================] - 3s 102ms/step - loss: 0.3464 - accuracy: 0.8880\n"
     ]
    },
    {
     "data": {
      "image/png": "[encoded data removed]",
      "text/plain": [
       "<Figure size 432x288 with 1 Axes>"
      ]
     },
     "metadata": {
      "needs_background": "light"
     },
     "output_type": "display_data"
    }
   ],
   "source": [
    "df_all = pd.read_csv('Adversarial_Attacks_CIFAR10 [FGSM Attack].csv')\n",
    "df_MLP = df_all[df_all['Target model']=='MLP']\n",
    "print('Test accuracy on unperturbed data')\n",
    "_, accurcy_Linear = Linear_CIFAR10.evaluate(X_test[indexes],y_test[indexes]);\n",
    "_, accurcy_MLP = MLP_CIFAR10.evaluate(X_test[indexes],y_test[indexes]);\n",
    "_, accurcy_CNN = CNN_CIFAR10.evaluate(X_test[indexes],y_test[indexes]);\n",
    "df_MLP.loc[0] = ['-', '-', 0, accurcy_Linear, accurcy_MLP, accurcy_CNN]\n",
    "df_MLP\n",
    "df_MLP = df_MLP.sort_values('avg_l2_norm', ascending=True)\n",
    "plt.plot(df_MLP['avg_l2_norm'],df_MLP['Linear_CIFAR10_test_accuray'],'o-')\n",
    "plt.plot(df_MLP['avg_l2_norm'],df_MLP['MLP_CIFAR10_test_accuray'],'o--')\n",
    "plt.plot(df_MLP['avg_l2_norm'],df_MLP['CNN_CIFAR10_test_accuray'],'o-.')\n",
    "plt.xlabel('Average $l_2$ norm of the perturbation')\n",
    "plt.ylabel('Test accuracy')\n",
    "plt.ylim([-0.1, 1.1])\n",
    "plt.legend(['Linear model', 'MLP model','CNN model'])\n",
    "plt.title('Effect of FGSM attack on CIFAR10 \\nTraget model: MLP')\n",
    "plt.savefig('Effect of FGSM attack on CIFAR10 for MLP model [l2 norm]', dpi=600)\n",
    "plt.show()"
   ]
  },
  {
   "cell_type": "code",
   "execution_count": 23,
   "metadata": {},
   "outputs": [
    {
     "name": "stdout",
     "output_type": "stream",
     "text": [
      "Test accuracy on unperturbed data\n",
      "32/32 [==============================] - 0s 2ms/step - loss: 1.7382 - accuracy: 0.3960\n",
      "32/32 [==============================] - 0s 9ms/step - loss: 1.4203 - accuracy: 0.4930\n",
      "32/32 [==============================] - 3s 83ms/step - loss: 0.3464 - accuracy: 0.8880\n"
     ]
    },
    {
     "data": {
      "image/png": "[encoded data removed]",
      "text/plain": [
       "<Figure size 432x288 with 1 Axes>"
      ]
     },
     "metadata": {
      "needs_background": "light"
     },
     "output_type": "display_data"
    }
   ],
   "source": [
    "df_all = pd.read_csv('Adversarial_Attacks_CIFAR10 [FGSM Attack].csv')\n",
    "df_MLP = df_all[df_all['Target model']=='MLP']\n",
    "print('Test accuracy on unperturbed data')\n",
    "_, accurcy_Linear = Linear_CIFAR10.evaluate(X_test[indexes],y_test[indexes]);\n",
    "_, accurcy_MLP = MLP_CIFAR10.evaluate(X_test[indexes],y_test[indexes]);\n",
    "_, accurcy_CNN = CNN_CIFAR10.evaluate(X_test[indexes],y_test[indexes]);\n",
    "df_MLP.loc[10] = [0, '-', 0, accurcy_Linear, accurcy_MLP, accurcy_CNN]\n",
    "df_MLP\n",
    "df_MLP = df_MLP.sort_values('eps value', ascending=True)\n",
    "plt.plot(df_MLP['eps value'],df_MLP['Linear_CIFAR10_test_accuray'],'o-')\n",
    "plt.plot(df_MLP['eps value'],df_MLP['MLP_CIFAR10_test_accuray'],'o--')\n",
    "plt.plot(df_MLP['eps value'],df_MLP['CNN_CIFAR10_test_accuray'],'o-.')\n",
    "plt.xlabel('$\\epsilon$-parameter value')\n",
    "plt.ylabel('Test accuracy')\n",
    "plt.ylim([-0.1, 1.1])\n",
    "plt.legend(['Linear model', 'MLP model','CNN model'])\n",
    "plt.title('Effect of FGSM attack on CIFAR10 \\nTraget model: MLP')\n",
    "plt.savefig('Effect of FGSM attack on CIFAR10 for MLP model [eps]', dpi=600)\n",
    "plt.show()"
   ]
  },
  {
   "cell_type": "code",
   "execution_count": 25,
   "metadata": {
    "id": "xSZP2oKnMIoe",
    "outputId": "1cf52e52-9ef0-4cc1-a318-8cdbcc00fd2f"
   },
   "outputs": [
    {
     "name": "stdout",
     "output_type": "stream",
     "text": [
      "Test accuracy on unperturbed data\n",
      "32/32 [==============================] - 0s 1ms/step - loss: 1.7382 - accuracy: 0.3960\n",
      "32/32 [==============================] - 0s 8ms/step - loss: 1.4203 - accuracy: 0.4930\n",
      "32/32 [==============================] - 3s 79ms/step - loss: 0.3464 - accuracy: 0.8880\n"
     ]
    },
    {
     "data": {
      "image/png": "[encoded data removed]",
      "text/plain": [
       "<Figure size 432x288 with 1 Axes>"
      ]
     },
     "metadata": {
      "needs_background": "light"
     },
     "output_type": "display_data"
    }
   ],
   "source": [
    "df_all = pd.read_csv('Adversarial_Attacks_CIFAR10 [FGSM Attack].csv')\n",
    "df_CNN = df_all[df_all['Target model']=='CNN']\n",
    "print('Test accuracy on unperturbed data')\n",
    "_, accurcy_Linear = Linear_CIFAR10.evaluate(X_test[indexes],y_test[indexes]);\n",
    "_, accurcy_MLP = MLP_CIFAR10.evaluate(X_test[indexes],y_test[indexes]);\n",
    "_, accurcy_CNN = CNN_CIFAR10.evaluate(X_test[indexes],y_test[indexes]);\n",
    "df_CNN.loc[10] = ['-', '-', 0, accurcy_Linear, accurcy_MLP, accurcy_CNN]\n",
    "df_CNN\n",
    "df_CNN = df_CNN.sort_values('avg_l2_norm', ascending=True)\n",
    "plt.plot(df_CNN['avg_l2_norm'],df_CNN['Linear_CIFAR10_test_accuray'],'o-')\n",
    "plt.plot(df_CNN['avg_l2_norm'],df_CNN['MLP_CIFAR10_test_accuray'],'o--')\n",
    "plt.plot(df_CNN['avg_l2_norm'],df_CNN['CNN_CIFAR10_test_accuray'],'o-.')\n",
    "plt.xlabel('Average $l_2$ norm of the perturbation')\n",
    "plt.ylabel('Test accuracy')\n",
    "plt.ylim([-0.1, 1.1])\n",
    "plt.legend(['Linear model', 'MLP model','CNN model'])\n",
    "plt.title('Effect of FGSM attack on CIFAR10 \\nTraget model: CNN')\n",
    "plt.savefig('Effect of FGSM attack on CIFAR10 for CNN model [l2 norm]', dpi=600)\n",
    "plt.show()"
   ]
  },
  {
   "cell_type": "code",
   "execution_count": 26,
   "metadata": {},
   "outputs": [
    {
     "name": "stdout",
     "output_type": "stream",
     "text": [
      "Test accuracy on unperturbed data\n",
      "32/32 [==============================] - 0s 2ms/step - loss: 1.7382 - accuracy: 0.3960\n",
      "32/32 [==============================] - 0s 9ms/step - loss: 1.4203 - accuracy: 0.4930\n",
      "32/32 [==============================] - 3s 83ms/step - loss: 0.3464 - accuracy: 0.8880\n"
     ]
    },
    {
     "data": {
      "image/png": "[encoded data removed]",
      "text/plain": [
       "<Figure size 432x288 with 1 Axes>"
      ]
     },
     "metadata": {
      "needs_background": "light"
     },
     "output_type": "display_data"
    }
   ],
   "source": [
    "df_all = pd.read_csv('Adversarial_Attacks_CIFAR10 [FGSM Attack].csv')\n",
    "df_CNN = df_all[df_all['Target model']=='CNN']\n",
    "print('Test accuracy on unperturbed data')\n",
    "_, accurcy_Linear = Linear_CIFAR10.evaluate(X_test[indexes],y_test[indexes]);\n",
    "_, accurcy_MLP = MLP_CIFAR10.evaluate(X_test[indexes],y_test[indexes]);\n",
    "_, accurcy_CNN = CNN_CIFAR10.evaluate(X_test[indexes],y_test[indexes]);\n",
    "df_CNN.loc[10] = [0, '-', 0, accurcy_Linear, accurcy_MLP, accurcy_CNN]\n",
    "df_CNN\n",
    "df_CNN = df_CNN.sort_values('eps value', ascending=True)\n",
    "plt.plot(df_CNN['eps value'],df_CNN['Linear_CIFAR10_test_accuray'],'o-')\n",
    "plt.plot(df_CNN['eps value'],df_CNN['MLP_CIFAR10_test_accuray'],'o--')\n",
    "plt.plot(df_CNN['eps value'],df_CNN['CNN_CIFAR10_test_accuray'],'o-.')\n",
    "plt.xlabel('$\\epsilon$-parameter value')\n",
    "plt.ylabel('Test accuracy')\n",
    "plt.ylim([-0.1, 1.1])\n",
    "plt.legend(['Linear model', 'MLP model','CNN model'])\n",
    "plt.title('Effect of FGSM attack on CIFAR10 \\nTraget model: CNN')\n",
    "plt.savefig('Effect of FGSM attack on CIFAR10 for CNN model [eps]', dpi=600)\n",
    "plt.show()"
   ]
  }
 ],
 "metadata": {
  "accelerator": "GPU",
  "colab": {
   "provenance": [
    {
     "file_id": "17t5wZdiu4KbtR9opaQcMZECSJAndropo",
     "timestamp": 1674347819943
    }
   ]
  },
  "gpuClass": "standard",
  "kernelspec": {
   "display_name": "Python 3",
   "language": "python",
   "name": "python3"
  },
  "language_info": {
   "codemirror_mode": {
    "name": "ipython",
    "version": 3
   },
   "file_extension": ".py",
   "mimetype": "text/x-python",
   "name": "python",
   "nbconvert_exporter": "python",
   "pygments_lexer": "ipython3",
   "version": "3.8.8"
  }
 },
 "nbformat": 4,
 "nbformat_minor": 1
}
