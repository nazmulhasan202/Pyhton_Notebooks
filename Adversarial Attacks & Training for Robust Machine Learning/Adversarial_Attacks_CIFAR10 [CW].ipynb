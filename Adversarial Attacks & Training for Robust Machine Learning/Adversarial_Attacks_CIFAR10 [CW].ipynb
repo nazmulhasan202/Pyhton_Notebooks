{
 "cells": [
  {
   "cell_type": "markdown",
   "metadata": {
    "id": "aiSUzqR_k38-"
   },
   "source": [
    "**Import packages**"
   ]
  },
  {
   "cell_type": "code",
   "execution_count": 1,
   "metadata": {
    "colab": {
     "base_uri": "https://localhost:8080/"
    },
    "executionInfo": {
     "elapsed": 4927,
     "status": "ok",
     "timestamp": 1678219231119,
     "user": {
      "displayName": "Nazmul Hasan",
      "userId": "02122416256231585764"
     },
     "user_tz": 420
    },
    "id": "ad5wwLh9culg",
    "outputId": "cb8411ed-04d2-48b2-df33-dfb1ff8bd6b4"
   },
   "outputs": [
    {
     "name": "stdout",
     "output_type": "stream",
     "text": [
      "Requirement already satisfied: pytictoc in c:\\programdata\\anaconda3\\lib\\site-packages (1.5.2)\n"
     ]
    }
   ],
   "source": [
    "!pip install pytictoc"
   ]
  },
  {
   "cell_type": "code",
   "execution_count": 2,
   "metadata": {
    "executionInfo": {
     "elapsed": 3862,
     "status": "ok",
     "timestamp": 1678219234977,
     "user": {
      "displayName": "Nazmul Hasan",
      "userId": "02122416256231585764"
     },
     "user_tz": 420
    },
    "id": "_z7kPblcHOH1"
   },
   "outputs": [],
   "source": [
    "import random\n",
    "import tensorflow as tf\n",
    "from tensorflow import keras\n",
    "from keras import datasets, layers, models\n",
    "import matplotlib.pyplot as plt\n",
    "import pandas as pd\n",
    "import numpy as np\n",
    "import warnings\n",
    "from pytictoc import TicToc\n",
    "warnings.filterwarnings( \"ignore\" )"
   ]
  },
  {
   "cell_type": "markdown",
   "metadata": {
    "id": "e7iTQt51HOH3"
   },
   "source": [
    "**Load the dataset**"
   ]
  },
  {
   "cell_type": "code",
   "execution_count": 3,
   "metadata": {
    "colab": {
     "base_uri": "https://localhost:8080/"
    },
    "executionInfo": {
     "elapsed": 17,
     "status": "ok",
     "timestamp": 1678219234977,
     "user": {
      "displayName": "Nazmul Hasan",
      "userId": "02122416256231585764"
     },
     "user_tz": 420
    },
    "id": "rPRPSMuwHOH4",
    "outputId": "002bd72e-b0d9-46c8-f34f-381259fb5a50"
   },
   "outputs": [
    {
     "data": {
      "text/plain": [
       "((50000, 32, 32, 3), (50000,), (10000, 32, 32, 3), (10000,))"
      ]
     },
     "execution_count": 3,
     "metadata": {},
     "output_type": "execute_result"
    }
   ],
   "source": [
    "(X_train, y_train), (X_test,y_test) = datasets.cifar10.load_data()\n",
    "y_train = y_train.reshape(-1,)\n",
    "y_test = y_test.reshape(-1,)\n",
    "X_train.shape, y_train.shape, X_test.shape, y_test.shape"
   ]
  },
  {
   "cell_type": "markdown",
   "metadata": {
    "id": "nfOobSrX9lZp"
   },
   "source": [
    "**Create helper functions**"
   ]
  },
  {
   "cell_type": "code",
   "execution_count": 4,
   "metadata": {
    "executionInfo": {
     "elapsed": 14,
     "status": "ok",
     "timestamp": 1678219234978,
     "user": {
      "displayName": "Nazmul Hasan",
      "userId": "02122416256231585764"
     },
     "user_tz": 420
    },
    "id": "29WNxxm-9oF1"
   },
   "outputs": [],
   "source": [
    "def plot_sample_image(X, y):\n",
    "    plt.figure(figsize = (15,2))\n",
    "    plt.imshow(X); plt.colorbar();\n",
    "    classes = [\"airplane\",\"automobile\",\"bird\",\"cat\",\"deer\",\"dog\",\"frog\",\"horse\",\"ship\",\"truck\"]\n",
    "    plt.xlabel('Image Label: {}'.format(classes[y]))\n",
    "\n",
    "def classification_results(X_test,y_test,y_pred_classes):\n",
    "  from sklearn.metrics import confusion_matrix , classification_report\n",
    "  import seaborn as sn\n",
    "\n",
    "  cm = tf.math.confusion_matrix(labels=y_test,predictions=y_pred_classes)\n",
    "  plt.figure(figsize = (7,5))\n",
    "  sn.heatmap(cm, annot=True, fmt='d', cmap='Greens')\n",
    "  plt.xlabel('Predicted');\n",
    "  plt.ylabel('Truth');\n",
    "\n",
    "  print(\"Classification Report: \\n\", classification_report(y_test, y_pred_classes))\n",
    "\n",
    "def plot_fitting_history(history,filename,dpi):\n",
    "  epochs = len(history.history['loss'])\n",
    "  epoch_data = np.arange(1,epochs+1)\n",
    "  plt.plot(epoch_data,history.history['loss'],'o-')\n",
    "  plt.plot(epoch_data,history.history['val_loss'],'o--')\n",
    "  plt.ylabel('Loss')\n",
    "  plt.xlabel('Epoch sequence' )\n",
    "  plt.xticks(np.arange(0, epochs + 1, step=1))\n",
    "  plt.legend(['Training','Validation'])\n",
    "  plt.savefig(filename, dpi=dpi)\n",
    "  plt.show()"
   ]
  },
  {
   "cell_type": "markdown",
   "metadata": {
    "id": "gL5ypIWkHOIE"
   },
   "source": [
    "**Normalize the input data**"
   ]
  },
  {
   "cell_type": "code",
   "execution_count": 5,
   "metadata": {
    "executionInfo": {
     "elapsed": 2171,
     "status": "ok",
     "timestamp": 1678219237136,
     "user": {
      "displayName": "Nazmul Hasan",
      "userId": "02122416256231585764"
     },
     "user_tz": 420
    },
    "id": "PxewI0kIHOIF"
   },
   "outputs": [],
   "source": [
    "X_train = X_train / 255.0\n",
    "X_test = X_test / 255.0"
   ]
  },
  {
   "cell_type": "markdown",
   "metadata": {
    "id": "ZUSUtJFkHOIB"
   },
   "source": [
    "**Plot sample image**"
   ]
  },
  {
   "cell_type": "code",
   "execution_count": 6,
   "metadata": {
    "colab": {
     "base_uri": "https://localhost:8080/",
     "height": 173
    },
    "executionInfo": {
     "elapsed": 10,
     "status": "ok",
     "timestamp": 1678219237137,
     "user": {
      "displayName": "Nazmul Hasan",
      "userId": "02122416256231585764"
     },
     "user_tz": 420
    },
    "id": "5SMVbqRZHOIC",
    "outputId": "87956840-864e-470c-9957-a0028bd8d4bb",
    "scrolled": true
   },
   "outputs": [
    {
     "data": {
      "image/png": "[encoded data removed]",
      "text/plain": [
       "<Figure size 1080x144 with 2 Axes>"
      ]
     },
     "metadata": {
      "needs_background": "light"
     },
     "output_type": "display_data"
    }
   ],
   "source": [
    "index = np.random.randint(100)\n",
    "plot_sample_image(X_train[index], y_train[index])"
   ]
  },
  {
   "cell_type": "code",
   "execution_count": 7,
   "metadata": {
    "colab": {
     "base_uri": "https://localhost:8080/"
    },
    "executionInfo": {
     "elapsed": 2139,
     "status": "ok",
     "timestamp": 1678219239268,
     "user": {
      "displayName": "Nazmul Hasan",
      "userId": "02122416256231585764"
     },
     "user_tz": 420
    },
    "id": "Usv8lPonYXF0",
    "outputId": "d7aac85f-6bd1-4175-c7c3-247475f842b9"
   },
   "outputs": [],
   "source": [
    "# from google.colab import drive\n",
    "# drive.mount('/content/gdrive')\n",
    "# %cd /content/gdrive/MyDrive/ECE 696B/Project - ECE696B"
   ]
  },
  {
   "cell_type": "markdown",
   "metadata": {
    "id": "O7TkT_B0gx0r"
   },
   "source": [
    "**Load the models**"
   ]
  },
  {
   "cell_type": "code",
   "execution_count": 9,
   "metadata": {
    "executionInfo": {
     "elapsed": 3357,
     "status": "ok",
     "timestamp": 1678219242619,
     "user": {
      "displayName": "Nazmul Hasan",
      "userId": "02122416256231585764"
     },
     "user_tz": 420
    },
    "id": "cacXKz9PZM7l"
   },
   "outputs": [
    {
     "name": "stdout",
     "output_type": "stream",
     "text": [
      "C:\\Users\\nh202\\My Drive (nh202@arizona.edu)\\ECE 696B\\Project - ECE696B\n"
     ]
    }
   ],
   "source": [
    "%cd C:\\Users\\nh202\\My Drive (nh202@arizona.edu)\\ECE 696B\\Project - ECE696B\n",
    "from keras.models import load_model\n",
    "Linear_CIFAR10 = load_model('Linear_CIFAR10.h5')\n",
    "MLP_CIFAR10 = load_model('MLP_CIFAR10.h5')\n",
    "CNN_CIFAR10 = load_model('CNN_CIFAR10.h5')"
   ]
  },
  {
   "cell_type": "code",
   "execution_count": 10,
   "metadata": {},
   "outputs": [
    {
     "name": "stdout",
     "output_type": "stream",
     "text": [
      "C:\\Users\\nh202\\OneDrive - University of Arizona\\Adversairal Examples - ECE 696B\\CW\n"
     ]
    }
   ],
   "source": [
    "%cd C:\\Users\\nh202\\OneDrive - University of Arizona\\Adversairal Examples - ECE 696B\\CW"
   ]
  },
  {
   "cell_type": "markdown",
   "metadata": {
    "id": "8N5BvZyij_I5"
   },
   "source": [
    "# Carlini-Wagner (CW) attack\n"
   ]
  },
  {
   "cell_type": "markdown",
   "metadata": {
    "id": "B8ZkL3fhzGaK"
   },
   "source": [
    "**Function for CW attack**"
   ]
  },
  {
   "cell_type": "code",
   "execution_count": 10,
   "metadata": {
    "executionInfo": {
     "elapsed": 6,
     "status": "ok",
     "timestamp": 1678219246440,
     "user": {
      "displayName": "Nazmul Hasan",
      "userId": "02122416256231585764"
     },
     "user_tz": 420
    },
    "id": "FFGdfoSAvvQ_"
   },
   "outputs": [],
   "source": [
    "def cw_attack_NH_version(model, x, c = 0.1, max_lr = 0.1, lr_factor = 100, max_iter = 100):\n",
    "  x = tf.convert_to_tensor(x[np.newaxis, ...])  \n",
    "\n",
    "  y_pred_x = model(x)\n",
    "  pred_class_x = np.argmax(y_pred_x)\n",
    "  t = int(np.argsort(-y_pred_x, axis = 1).T[1])\n",
    "  ratio = y_pred_x[0][pred_class_x]/y_pred_x[0][t]  \n",
    "\n",
    "  delta = x * 0.001\n",
    "\n",
    "  lr = max(max_lr,float(ratio/lr_factor));\n",
    "\n",
    "  success_flag = 0;\n",
    "  for j in range(max_iter):\n",
    "    for i in range(10):\n",
    "      with tf.GradientTape() as tape:\n",
    "        tape.watch(delta)\n",
    "        x_adv = x + delta           \n",
    "        y_pred = model(x_adv)\n",
    "        l2_norm = np.sqrt(np.sum((delta)**2, axis=(0,1,2,3)))\n",
    "        F_t = y_pred[0][t]\n",
    "        f_delta = l2_norm + c*max(0,0.5-F_t)        \n",
    "\n",
    "        if np.argmax(y_pred) == t:\n",
    "          break\n",
    "\n",
    "      try:  grads = tape.gradient(f_delta, delta)\n",
    "      except: continue\n",
    "\n",
    "      delta = delta - lr * grads\n",
    "          \n",
    "    x_adv = np.clip(x_adv, 0, 1)    \n",
    "    y_pred = model(x_adv)\n",
    "    ratio = y_pred_x[0][np.argmax(y_pred_x)]/y_pred[0][t]\n",
    "    delta = x_adv - x\n",
    "    l2_norm = np.sqrt(np.sum((delta)**2, axis=(0,1,2,3)))\n",
    "  \n",
    "    if np.argmax(y_pred) == t:\n",
    "      success_flag = 1\n",
    "      break\n",
    "    lr = max(max_lr,float(ratio/lr_factor));\n",
    "\n",
    "  return success_flag, x_adv, l2_norm"
   ]
  },
  {
   "cell_type": "code",
   "execution_count": 11,
   "metadata": {
    "executionInfo": {
     "elapsed": 7,
     "status": "ok",
     "timestamp": 1678219246441,
     "user": {
      "displayName": "Nazmul Hasan",
      "userId": "02122416256231585764"
     },
     "user_tz": 420
    },
    "id": "TJwcbXWYW9v4"
   },
   "outputs": [],
   "source": [
    "c = 0.1; lr_factor= 100;  max_lr = 0.1; max_iter = 100"
   ]
  },
  {
   "cell_type": "code",
   "execution_count": 12,
   "metadata": {
    "colab": {
     "base_uri": "https://localhost:8080/"
    },
    "executionInfo": {
     "elapsed": 3824,
     "status": "ok",
     "timestamp": 1678219246439,
     "user": {
      "displayName": "Nazmul Hasan",
      "userId": "02122416256231585764"
     },
     "user_tz": 420
    },
    "id": "NBS9HSr84Gvx",
    "outputId": "2d35f424-d015-4ec6-fb83-3f9972363c46"
   },
   "outputs": [
    {
     "name": "stdout",
     "output_type": "stream",
     "text": [
      "Test accuracy on unperturbed data\n",
      "32/32 [==============================] - 1s 5ms/step - loss: 1.7382 - accuracy: 0.3960\n",
      "32/32 [==============================] - 2s 25ms/step - loss: 1.4203 - accuracy: 0.4930\n",
      "32/32 [==============================] - 4s 93ms/step - loss: 0.3464 - accuracy: 0.8880\n",
      "\n",
      "\n"
     ]
    }
   ],
   "source": [
    "indexes = range(1000)\n",
    "print('Test accuracy on unperturbed data')\n",
    "Linear_CIFAR10.evaluate(X_test[indexes],y_test[indexes])\n",
    "MLP_CIFAR10.evaluate(X_test[indexes],y_test[indexes])\n",
    "CNN_CIFAR10.evaluate(X_test[indexes],y_test[indexes])\n",
    "print('\\n')"
   ]
  },
  {
   "cell_type": "markdown",
   "metadata": {
    "id": "S3UOuGGPAerR"
   },
   "source": [
    "# Function for visualizing the effect of CW-attack"
   ]
  },
  {
   "cell_type": "code",
   "execution_count": 19,
   "metadata": {
    "executionInfo": {
     "elapsed": 6,
     "status": "ok",
     "timestamp": 1678219246441,
     "user": {
      "displayName": "Nazmul Hasan",
      "userId": "02122416256231585764"
     },
     "user_tz": 420
    },
    "id": "m2t-g4495V3H"
   },
   "outputs": [],
   "source": [
    "def image_results(model,x,x_adv,l2_norm,success_flag):\n",
    "  classes = [\"airplane\",\"automobile\",\"bird\",\"cat\",\"deer\",\"dog\",\"frog\",\"horse\",\"ship\",\"truck\"]\n",
    "  y_pred_x = model(x.reshape(-1,32,32,3))\n",
    "  pred_class_x = np.argmax(y_pred_x)\n",
    "  t = int(np.argsort(-y_pred_x, axis = 1).T[1])\n",
    "  plt.figure(figsize = (15,2))\n",
    "  plt.imshow(x); plt.colorbar(); plt.title('Original Image');plt.show()\n",
    "  print(f'Prediction for original image: {classes[pred_class_x]} ({y_pred_x[0][pred_class_x]*100:.2f}%)')\n",
    "  print(f'Target class: {classes[t]}')\n",
    "  plt.figure(figsize = (15,2))\n",
    "  plt.imshow(x_adv[0]); plt.colorbar(); plt.title('Perturbed Image');plt.show()\n",
    "  y_pred_x_adv = model(x_adv)\n",
    "  pred_class_x_adv = np.argmax(y_pred_x_adv)\n",
    "  print(f'Prediction for perturbed image: {classes[pred_class_x_adv]}  ({y_pred_x_adv[0][pred_class_x_adv]*100:.2f}%)')\n",
    "  print(f'Probability for originally predicted class: {y_pred_x_adv[0][pred_class_x]*100:.2f}%')\n",
    "  print(f'Values of l2_norm of perturbation: {l2_norm}')\n",
    "  print(f'Success of attack: {success_flag}')\n",
    "  print('\\n')"
   ]
  },
  {
   "cell_type": "markdown",
   "metadata": {
    "id": "55McNu_-TFy2"
   },
   "source": [
    "# Visualize the effect of the CW attack"
   ]
  },
  {
   "cell_type": "code",
   "execution_count": 55,
   "metadata": {
    "colab": {
     "base_uri": "https://localhost:8080/",
     "height": 725
    },
    "executionInfo": {
     "elapsed": 15338,
     "status": "ok",
     "timestamp": 1678219261773,
     "user": {
      "displayName": "Nazmul Hasan",
      "userId": "02122416256231585764"
     },
     "user_tz": 420
    },
    "id": "BrdvtcDKC6h0",
    "outputId": "bd0832b6-9244-4e56-b812-5962bd5cb858"
   },
   "outputs": [
    {
     "name": "stdout",
     "output_type": "stream",
     "text": [
      "Index: 6888\n",
      "True class: deer\n"
     ]
    },
    {
     "data": {
      "image/png": "[encoded data removed]",
      "text/plain": [
       "<Figure size 1080x144 with 2 Axes>"
      ]
     },
     "metadata": {
      "needs_background": "light"
     },
     "output_type": "display_data"
    },
    {
     "name": "stdout",
     "output_type": "stream",
     "text": [
      "Prediction for original image: deer (99.77%)\n",
      "Target class: bird\n"
     ]
    },
    {
     "data": {
      "image/png": "[encoded data removed]",
      "text/plain": [
       "<Figure size 1080x144 with 2 Axes>"
      ]
     },
     "metadata": {
      "needs_background": "light"
     },
     "output_type": "display_data"
    },
    {
     "name": "stdout",
     "output_type": "stream",
     "text": [
      "Prediction for perturbed image: bird  (98.78%)\n",
      "Probability for originally predicted class: 0.20%\n",
      "Values of l2_norm of perturbation: 0.6141362577343268\n",
      "Success of attack: 1\n",
      "\n",
      "\n"
     ]
    }
   ],
   "source": [
    "model = CNN_CIFAR10; c = 0.1\n",
    "for idx in [np.random.randint(10000)]:\n",
    "  print(f'Index: {idx}') \n",
    "  x = X_test[idx];\n",
    "  y_true = y_test[idx];\n",
    "  classes = [\"airplane\",\"automobile\",\"bird\",\"cat\",\"deer\",\"dog\",\"frog\",\"horse\",\"ship\",\"truck\"]\n",
    "  print(f'True class: {classes[y_true]}')\n",
    "  success_flag, x_adv, l2_norm = cw_attack_NH_version(model, x, c = c, lr_factor= lr_factor, \\\n",
    "                                                      max_lr = max_lr, max_iter = max_iter)\n",
    "  image_results(model,x,x_adv,l2_norm,success_flag)"
   ]
  },
  {
   "cell_type": "markdown",
   "metadata": {
    "id": "waIXH5tS_K5P"
   },
   "source": [
    "# Function for preparing CW-advarsarial examples"
   ]
  },
  {
   "cell_type": "code",
   "execution_count": 15,
   "metadata": {
    "executionInfo": {
     "elapsed": 5,
     "status": "ok",
     "timestamp": 1678219261774,
     "user": {
      "displayName": "Nazmul Hasan",
      "userId": "02122416256231585764"
     },
     "user_tz": 420
    },
    "id": "jGZGl-f000hX"
   },
   "outputs": [],
   "source": [
    "def CW_advarsarial_examples(model, X_test, c, max_lr, lr_factor, max_iter, starting_point, num_samples):\n",
    "  \n",
    "  # Create an empty numpy array to store the adversarial examples\n",
    "  x_adv_stack = np.empty((0, 32, 32, 3))\n",
    "\n",
    "  # Loop over the test data to generate the adversarial examples and stack them in the numpy array\n",
    "  for i in np.arange(starting_point,starting_point+num_samples):\n",
    "      if i == starting_point: print(f'Starting from {i}... ')\n",
    "      if (i+1)%100 == 0:\n",
    "        print(f'First {i+1} completed')\n",
    "      x = X_test[i]\n",
    "\n",
    "      # Generate the adversarial example for the current test image\n",
    "      success_flag, x_adv, l2_norm = cw_attack_NH_version(model, x, c = c, lr_factor= lr_factor, \\\n",
    "                                                          max_lr = max_lr, max_iter = max_iter)\n",
    "      \n",
    "      # Stack the adversarial example in the numpy array\n",
    "      x_adv_stack = np.vstack((x_adv_stack, x_adv))\n",
    "\n",
    "  return x_adv_stack"
   ]
  },
  {
   "cell_type": "code",
   "execution_count": 16,
   "metadata": {
    "executionInfo": {
     "elapsed": 453,
     "status": "ok",
     "timestamp": 1678220740540,
     "user": {
      "displayName": "Nazmul Hasan",
      "userId": "02122416256231585764"
     },
     "user_tz": 420
    },
    "id": "VJjR-FkV_Zzd"
   },
   "outputs": [],
   "source": [
    "c = 0.1; num_samples = 1000"
   ]
  },
  {
   "cell_type": "markdown",
   "metadata": {
    "id": "mELAztcrBvd7"
   },
   "source": [
    "# Prepare batches of adversarial examples of Linear model"
   ]
  },
  {
   "cell_type": "markdown",
   "metadata": {
    "id": "9rniVVTvjQHJ"
   },
   "source": [
    "**Batches of 1000 for different $c$ values**"
   ]
  },
  {
   "cell_type": "code",
   "execution_count": 25,
   "metadata": {
    "colab": {
     "base_uri": "https://localhost:8080/"
    },
    "executionInfo": {
     "elapsed": 20321,
     "status": "ok",
     "timestamp": 1678219749046,
     "user": {
      "displayName": "Nazmul Hasan",
      "userId": "02122416256231585764"
     },
     "user_tz": 420
    },
    "id": "mgsDymTcjQHJ",
    "outputId": "7326f577-2ff5-4cf7-b780-75c148d2d2b0"
   },
   "outputs": [
    {
     "name": "stdout",
     "output_type": "stream",
     "text": [
      "Starting from 0... \n",
      "First 100 completed\n",
      "First 200 completed\n",
      "First 300 completed\n",
      "First 400 completed\n",
      "First 500 completed\n",
      "First 600 completed\n",
      "First 700 completed\n",
      "First 800 completed\n",
      "First 900 completed\n",
      "First 1000 completed\n",
      "Starting from 0... \n",
      "First 100 completed\n",
      "First 200 completed\n",
      "First 300 completed\n",
      "First 400 completed\n",
      "First 500 completed\n",
      "First 600 completed\n",
      "First 700 completed\n",
      "First 800 completed\n",
      "First 900 completed\n",
      "First 1000 completed\n",
      "Starting from 0... \n",
      "First 100 completed\n",
      "First 200 completed\n",
      "First 300 completed\n",
      "First 400 completed\n",
      "First 500 completed\n",
      "First 600 completed\n",
      "First 700 completed\n",
      "First 800 completed\n",
      "First 900 completed\n",
      "First 1000 completed\n",
      "Starting from 0... \n",
      "First 100 completed\n",
      "First 200 completed\n",
      "First 300 completed\n",
      "First 400 completed\n",
      "First 500 completed\n",
      "First 600 completed\n",
      "First 700 completed\n",
      "First 800 completed\n",
      "First 900 completed\n",
      "First 1000 completed\n",
      "Starting from 0... \n",
      "First 100 completed\n",
      "First 200 completed\n",
      "First 300 completed\n",
      "First 400 completed\n",
      "First 500 completed\n",
      "First 600 completed\n",
      "First 700 completed\n",
      "First 800 completed\n",
      "First 900 completed\n",
      "First 1000 completed\n",
      "Starting from 0... \n",
      "First 100 completed\n",
      "First 200 completed\n",
      "First 300 completed\n",
      "First 400 completed\n",
      "First 500 completed\n",
      "First 600 completed\n",
      "First 700 completed\n",
      "First 800 completed\n",
      "First 900 completed\n",
      "First 1000 completed\n",
      "Starting from 0... \n",
      "First 100 completed\n",
      "First 200 completed\n",
      "First 300 completed\n",
      "First 400 completed\n",
      "First 500 completed\n",
      "First 600 completed\n",
      "First 700 completed\n",
      "First 800 completed\n",
      "First 900 completed\n",
      "First 1000 completed\n",
      "Starting from 0... \n",
      "First 100 completed\n",
      "First 200 completed\n",
      "First 300 completed\n",
      "First 400 completed\n",
      "First 500 completed\n",
      "First 600 completed\n",
      "First 700 completed\n",
      "First 800 completed\n",
      "First 900 completed\n",
      "First 1000 completed\n",
      "Starting from 0... \n",
      "First 100 completed\n",
      "First 200 completed\n",
      "First 300 completed\n",
      "First 400 completed\n",
      "First 500 completed\n",
      "First 600 completed\n",
      "First 700 completed\n",
      "First 800 completed\n",
      "First 900 completed\n",
      "First 1000 completed\n"
     ]
    }
   ],
   "source": [
    "model = Linear_CIFAR10\n",
    "for c in np.arange(0.1,1.1,0.1):\n",
    "    print(f'c value: {np.round(c,1)}')\n",
    "    starting_point = 0;\n",
    "    for lot in [0]:\n",
    "      x_adv_stack_Linear_Lot = CW_advarsarial_examples(model, X_test, c = c, lr_factor= lr_factor, \\\n",
    "                                                                  max_lr = max_lr, max_iter = max_iter, \\\n",
    "                                                 starting_point = starting_point, num_samples = num_samples)\n",
    "      filename = 'CIFAR10_x_adv_stack_Linear_Lot' + str(lot+1) + '_c' + str(np.round(c,1)) + '.npy'\n",
    "      np.save(filename, x_adv_stack_Linear_Lot)\n",
    "      starting_point = starting_point + num_samples"
   ]
  },
  {
   "cell_type": "code",
   "execution_count": 26,
   "metadata": {
    "colab": {
     "base_uri": "https://localhost:8080/",
     "height": 220
    },
    "executionInfo": {
     "elapsed": 687,
     "status": "ok",
     "timestamp": 1678220717153,
     "user": {
      "displayName": "Nazmul Hasan",
      "userId": "02122416256231585764"
     },
     "user_tz": 420
    },
    "id": "swPXO97_jQHJ",
    "outputId": "1d31ccd6-9f42-4b90-92f8-e15b499f3f53"
   },
   "outputs": [
    {
     "name": "stdout",
     "output_type": "stream",
     "text": [
      "32/32 [==============================] - 0s 3ms/step - loss: 1.8002 - accuracy: 0.2010\n",
      "32/32 [==============================] - 0s 13ms/step - loss: 1.4388 - accuracy: 0.4840\n",
      "32/32 [==============================] - 3s 93ms/step - loss: 0.3564 - accuracy: 0.8880\n",
      "32/32 [==============================] - 0s 3ms/step - loss: 1.8020 - accuracy: 0.2010\n",
      "32/32 [==============================] - 0s 14ms/step - loss: 1.4394 - accuracy: 0.4840\n",
      "32/32 [==============================] - 3s 96ms/step - loss: 0.3567 - accuracy: 0.8870\n",
      "32/32 [==============================] - 0s 3ms/step - loss: 1.8032 - accuracy: 0.2010\n",
      "32/32 [==============================] - 1s 21ms/step - loss: 1.4397 - accuracy: 0.4850\n",
      "32/32 [==============================] - 3s 94ms/step - loss: 0.3569 - accuracy: 0.8870\n",
      "32/32 [==============================] - 0s 4ms/step - loss: 1.8050 - accuracy: 0.2010\n",
      "32/32 [==============================] - 0s 10ms/step - loss: 1.4400 - accuracy: 0.4870\n",
      "32/32 [==============================] - 3s 104ms/step - loss: 0.3570 - accuracy: 0.8870\n",
      "32/32 [==============================] - 0s 3ms/step - loss: 1.8062 - accuracy: 0.2010\n",
      "32/32 [==============================] - 0s 11ms/step - loss: 1.4405 - accuracy: 0.4850\n",
      "32/32 [==============================] - 3s 98ms/step - loss: 0.3571 - accuracy: 0.8860\n",
      "32/32 [==============================] - 0s 4ms/step - loss: 1.8088 - accuracy: 0.2010\n",
      "32/32 [==============================] - 1s 14ms/step - loss: 1.4410 - accuracy: 0.4880\n",
      "32/32 [==============================] - 3s 93ms/step - loss: 0.3575 - accuracy: 0.8850\n",
      "32/32 [==============================] - 0s 5ms/step - loss: 1.8109 - accuracy: 0.2010\n",
      "32/32 [==============================] - 1s 16ms/step - loss: 1.4418 - accuracy: 0.4840\n",
      "32/32 [==============================] - 3s 98ms/step - loss: 0.3575 - accuracy: 0.8860\n",
      "32/32 [==============================] - 0s 4ms/step - loss: 1.8114 - accuracy: 0.2010\n",
      "32/32 [==============================] - 0s 9ms/step - loss: 1.4416 - accuracy: 0.4850\n",
      "32/32 [==============================] - 3s 95ms/step - loss: 0.3574 - accuracy: 0.8860\n",
      "32/32 [==============================] - 0s 5ms/step - loss: 1.8143 - accuracy: 0.2010\n",
      "32/32 [==============================] - 0s 13ms/step - loss: 1.4414 - accuracy: 0.4860\n",
      "32/32 [==============================] - 3s 96ms/step - loss: 0.3582 - accuracy: 0.8850\n",
      "32/32 [==============================] - 0s 5ms/step - loss: 1.8167 - accuracy: 0.2010\n",
      "32/32 [==============================] - 1s 23ms/step - loss: 1.4423 - accuracy: 0.4850\n",
      "32/32 [==============================] - 3s 91ms/step - loss: 0.3580 - accuracy: 0.8840\n"
     ]
    },
    {
     "data": {
      "text/html": [
       "<div>\n",
       "<style scoped>\n",
       "    .dataframe tbody tr th:only-of-type {\n",
       "        vertical-align: middle;\n",
       "    }\n",
       "\n",
       "    .dataframe tbody tr th {\n",
       "        vertical-align: top;\n",
       "    }\n",
       "\n",
       "    .dataframe thead th {\n",
       "        text-align: right;\n",
       "    }\n",
       "</style>\n",
       "<table border=\"1\" class=\"dataframe\">\n",
       "  <thead>\n",
       "    <tr style=\"text-align: right;\">\n",
       "      <th></th>\n",
       "      <th>c value</th>\n",
       "      <th>Target model</th>\n",
       "      <th>avg_l2_norm</th>\n",
       "      <th>Linear_CIFAR10_test_accuray</th>\n",
       "      <th>MLP_CIFAR10_test_accuray</th>\n",
       "      <th>CNN_CIFAR10_test_accuray</th>\n",
       "    </tr>\n",
       "  </thead>\n",
       "  <tbody>\n",
       "    <tr>\n",
       "      <th>0</th>\n",
       "      <td>0.1</td>\n",
       "      <td>Linear</td>\n",
       "      <td>0.19696151851493512</td>\n",
       "      <td>0.20100000500679016</td>\n",
       "      <td>0.48399999737739563</td>\n",
       "      <td>0.8880000114440918</td>\n",
       "    </tr>\n",
       "    <tr>\n",
       "      <th>1</th>\n",
       "      <td>0.2</td>\n",
       "      <td>Linear</td>\n",
       "      <td>0.20004210883299203</td>\n",
       "      <td>0.20100000500679016</td>\n",
       "      <td>0.48399999737739563</td>\n",
       "      <td>0.8870000243186951</td>\n",
       "    </tr>\n",
       "    <tr>\n",
       "      <th>2</th>\n",
       "      <td>0.3</td>\n",
       "      <td>Linear</td>\n",
       "      <td>0.2029074903620796</td>\n",
       "      <td>0.20100000500679016</td>\n",
       "      <td>0.48500001430511475</td>\n",
       "      <td>0.8870000243186951</td>\n",
       "    </tr>\n",
       "    <tr>\n",
       "      <th>3</th>\n",
       "      <td>0.4</td>\n",
       "      <td>Linear</td>\n",
       "      <td>0.2060369365563596</td>\n",
       "      <td>0.20100000500679016</td>\n",
       "      <td>0.4869999885559082</td>\n",
       "      <td>0.8870000243186951</td>\n",
       "    </tr>\n",
       "    <tr>\n",
       "      <th>4</th>\n",
       "      <td>0.5</td>\n",
       "      <td>Linear</td>\n",
       "      <td>0.2092407207499819</td>\n",
       "      <td>0.20100000500679016</td>\n",
       "      <td>0.48500001430511475</td>\n",
       "      <td>0.8859999775886536</td>\n",
       "    </tr>\n",
       "    <tr>\n",
       "      <th>5</th>\n",
       "      <td>0.6</td>\n",
       "      <td>Linear</td>\n",
       "      <td>0.21273093046618846</td>\n",
       "      <td>0.20100000500679016</td>\n",
       "      <td>0.4880000054836273</td>\n",
       "      <td>0.8849999904632568</td>\n",
       "    </tr>\n",
       "    <tr>\n",
       "      <th>6</th>\n",
       "      <td>0.7</td>\n",
       "      <td>Linear</td>\n",
       "      <td>0.21519516522463905</td>\n",
       "      <td>0.20100000500679016</td>\n",
       "      <td>0.48399999737739563</td>\n",
       "      <td>0.8859999775886536</td>\n",
       "    </tr>\n",
       "    <tr>\n",
       "      <th>7</th>\n",
       "      <td>0.8</td>\n",
       "      <td>Linear</td>\n",
       "      <td>0.21848675574540005</td>\n",
       "      <td>0.20100000500679016</td>\n",
       "      <td>0.48500001430511475</td>\n",
       "      <td>0.8859999775886536</td>\n",
       "    </tr>\n",
       "    <tr>\n",
       "      <th>8</th>\n",
       "      <td>0.9</td>\n",
       "      <td>Linear</td>\n",
       "      <td>0.2222192720638049</td>\n",
       "      <td>0.20100000500679016</td>\n",
       "      <td>0.4860000014305115</td>\n",
       "      <td>0.8849999904632568</td>\n",
       "    </tr>\n",
       "    <tr>\n",
       "      <th>9</th>\n",
       "      <td>1.0</td>\n",
       "      <td>Linear</td>\n",
       "      <td>0.22548643202945404</td>\n",
       "      <td>0.20100000500679016</td>\n",
       "      <td>0.48500001430511475</td>\n",
       "      <td>0.8840000033378601</td>\n",
       "    </tr>\n",
       "  </tbody>\n",
       "</table>\n",
       "</div>"
      ],
      "text/plain": [
       "  c value Target model          avg_l2_norm Linear_CIFAR10_test_accuray  \\\n",
       "0     0.1       Linear  0.19696151851493512         0.20100000500679016   \n",
       "1     0.2       Linear  0.20004210883299203         0.20100000500679016   \n",
       "2     0.3       Linear   0.2029074903620796         0.20100000500679016   \n",
       "3     0.4       Linear   0.2060369365563596         0.20100000500679016   \n",
       "4     0.5       Linear   0.2092407207499819         0.20100000500679016   \n",
       "5     0.6       Linear  0.21273093046618846         0.20100000500679016   \n",
       "6     0.7       Linear  0.21519516522463905         0.20100000500679016   \n",
       "7     0.8       Linear  0.21848675574540005         0.20100000500679016   \n",
       "8     0.9       Linear   0.2222192720638049         0.20100000500679016   \n",
       "9     1.0       Linear  0.22548643202945404         0.20100000500679016   \n",
       "\n",
       "  MLP_CIFAR10_test_accuray CNN_CIFAR10_test_accuray  \n",
       "0      0.48399999737739563       0.8880000114440918  \n",
       "1      0.48399999737739563       0.8870000243186951  \n",
       "2      0.48500001430511475       0.8870000243186951  \n",
       "3       0.4869999885559082       0.8870000243186951  \n",
       "4      0.48500001430511475       0.8859999775886536  \n",
       "5       0.4880000054836273       0.8849999904632568  \n",
       "6      0.48399999737739563       0.8859999775886536  \n",
       "7      0.48500001430511475       0.8859999775886536  \n",
       "8       0.4860000014305115       0.8849999904632568  \n",
       "9      0.48500001430511475       0.8840000033378601  "
      ]
     },
     "execution_count": 26,
     "metadata": {},
     "output_type": "execute_result"
    }
   ],
   "source": [
    "stored_results = []\n",
    "lot = 0\n",
    "for c in np.arange(0.1,1.1,0.1):\n",
    "    filename = 'CIFAR10_x_adv_stack_Linear_Lot' + str(lot+1) + '_c' + str(np.round(c,1)) + '.npy'\n",
    "    x_adv_stack = np.load(filename)\n",
    "    \n",
    "    stored_results.append(np.round(c,1))\n",
    "    stored_results.append('Linear')\n",
    "    \n",
    "    avg_l2_norm = np.mean(np.sqrt(np.sum((x_adv_stack-X_test[:len(x_adv_stack)])**2, axis=(1,2,3))))    \n",
    "    \n",
    "    if np.isnan(avg_l2_norm):\n",
    "        # print(avg_l2_norm)\n",
    "        delta = x_adv_stack-X_test[:len(x_adv_stack)]\n",
    "        indices = np.argwhere(np.isnan(delta))\n",
    "        # print(indices)\n",
    "        delta[indices] = 1\n",
    "        x_adv_stack = X_test[:len(x_adv_stack)] + delta\n",
    "        x_adv_stack = np.clip(x_adv_stack, 0, 1)\n",
    "        delta = x_adv_stack-X_test[:len(x_adv_stack)]\n",
    "        avg_l2_norm = np.mean(np.sqrt(np.sum((x_adv_stack-X_test[:len(x_adv_stack)])**2, axis=(1,2,3))))\n",
    "\n",
    "    \n",
    "    # print(avg_l2_norm)\n",
    "    stored_results.append(avg_l2_norm)\n",
    "    \n",
    "    _, accuracy = Linear_CIFAR10.evaluate(x_adv_stack,y_test[:len(x_adv_stack)])\n",
    "    stored_results.append(accuracy)\n",
    "    _, accuracy = MLP_CIFAR10.evaluate(x_adv_stack,y_test[:len(x_adv_stack)])\n",
    "    stored_results.append(accuracy)\n",
    "    _, accuracy = CNN_CIFAR10.evaluate(x_adv_stack,y_test[:len(x_adv_stack)])\n",
    "    stored_results.append(accuracy)\n",
    "    \n",
    "stored_results = np.array(stored_results)\n",
    "stored_results = stored_results.reshape(-1,6)\n",
    "df = pd.DataFrame(stored_results, columns = ['c value','Target model','avg_l2_norm','Linear_CIFAR10_test_accuray',\\\n",
    "                                              'MLP_CIFAR10_test_accuray','CNN_CIFAR10_test_accuray'])\n",
    "filename = 'Adversarial_Attacks_CIFAR10 for Linear model [CW Attack].csv'\n",
    "df.to_csv(filename, index=False)\n",
    "df"
   ]
  },
  {
   "cell_type": "code",
   "execution_count": 31,
   "metadata": {
    "colab": {
     "base_uri": "https://localhost:8080/",
     "height": 386
    },
    "executionInfo": {
     "elapsed": 1553,
     "status": "ok",
     "timestamp": 1678220019671,
     "user": {
      "displayName": "Nazmul Hasan",
      "userId": "02122416256231585764"
     },
     "user_tz": 420
    },
    "id": "AWXppMhnjQHK",
    "outputId": "9f433b96-d680-452d-dfb7-a07ef8ff4608"
   },
   "outputs": [
    {
     "name": "stdout",
     "output_type": "stream",
     "text": [
      "Test accuracy on unperturbed data\n",
      "32/32 [==============================] - 0s 2ms/step - loss: 1.7382 - accuracy: 0.3960\n",
      "32/32 [==============================] - 0s 8ms/step - loss: 1.4203 - accuracy: 0.4930\n",
      "32/32 [==============================] - 3s 78ms/step - loss: 0.3464 - accuracy: 0.8880\n"
     ]
    },
    {
     "data": {
      "image/png": "[encoded data removed]",
      "text/plain": [
       "<Figure size 432x288 with 1 Axes>"
      ]
     },
     "metadata": {
      "needs_background": "light"
     },
     "output_type": "display_data"
    }
   ],
   "source": [
    "indexes = range(1000)\n",
    "df = pd.read_csv('Adversarial_Attacks_CIFAR10 for Linear model [CW Attack].csv')\n",
    "print('Test accuracy on unperturbed data')\n",
    "_, accurcy_Linear = Linear_CIFAR10.evaluate(X_test[indexes],y_test[indexes]);\n",
    "_, accurcy_MLP = MLP_CIFAR10.evaluate(X_test[indexes],y_test[indexes]);\n",
    "_, accurcy_CNN = CNN_CIFAR10.evaluate(X_test[indexes],y_test[indexes]);\n",
    "# print('\\n')\n",
    "df.loc[10] = ['-', '-', 0, accurcy_Linear, accurcy_MLP, accurcy_CNN]\n",
    "df\n",
    "df = df.sort_values('avg_l2_norm', ascending=True)\n",
    "plt.plot(df['avg_l2_norm'],df['Linear_CIFAR10_test_accuray'],'o-')\n",
    "plt.plot(df['avg_l2_norm'],df['MLP_CIFAR10_test_accuray'],'o--')\n",
    "plt.plot(df['avg_l2_norm'],df['CNN_CIFAR10_test_accuray'],'o-.')\n",
    "plt.xlabel('Average $l_2$ norm of the perturbation')\n",
    "plt.ylabel('Test accuracy')\n",
    "plt.legend(['Linear model', 'MLP model','CNN model'])\n",
    "plt.ylim([-0.1,1.1])\n",
    "plt.title('Effect of CW attack on CIFAR10 \\nTraget model: Linear')\n",
    "plt.savefig('Effect of CW attack on CIFAR10 for Linear model [l2 norm]', dpi=600)\n",
    "plt.show()"
   ]
  },
  {
   "cell_type": "code",
   "execution_count": 30,
   "metadata": {},
   "outputs": [
    {
     "name": "stdout",
     "output_type": "stream",
     "text": [
      "Test accuracy on unperturbed data\n",
      "32/32 [==============================] - 0s 1ms/step - loss: 1.7382 - accuracy: 0.3960\n",
      "32/32 [==============================] - 0s 9ms/step - loss: 1.4203 - accuracy: 0.4930\n",
      "32/32 [==============================] - 3s 88ms/step - loss: 0.3464 - accuracy: 0.8880\n"
     ]
    },
    {
     "data": {
      "image/png": "[encoded data removed]",
      "text/plain": [
       "<Figure size 432x288 with 1 Axes>"
      ]
     },
     "metadata": {
      "needs_background": "light"
     },
     "output_type": "display_data"
    }
   ],
   "source": [
    "df = pd.read_csv('Adversarial_Attacks_CIFAR10 for Linear model [CW Attack].csv')\n",
    "print('Test accuracy on unperturbed data')\n",
    "_, accurcy_Linear = Linear_CIFAR10.evaluate(X_test[indexes],y_test[indexes]);\n",
    "_, accurcy_MLP = MLP_CIFAR10.evaluate(X_test[indexes],y_test[indexes]);\n",
    "_, accurcy_CNN = CNN_CIFAR10.evaluate(X_test[indexes],y_test[indexes]);\n",
    "# print('\\n')\n",
    "df.loc[10] = [0, '-', 0, accurcy_Linear, accurcy_MLP, accurcy_CNN]\n",
    "df\n",
    "df = df.sort_values('c value', ascending=True)\n",
    "plt.plot(df['c value'],df['Linear_CIFAR10_test_accuray'],'o-')\n",
    "plt.plot(df['c value'],df['MLP_CIFAR10_test_accuray'],'o--')\n",
    "plt.plot(df['c value'],df['CNN_CIFAR10_test_accuray'],'o-.')\n",
    "plt.xlabel('$c$-parameter value')\n",
    "plt.ylabel('Test accuracy')\n",
    "plt.legend(['Linear model', 'MLP model','CNN model'])\n",
    "plt.ylim([-0.1,1.1])\n",
    "plt.title('Effect of CW attack on CIFAR10 \\nTraget model: Linear')\n",
    "plt.savefig('Effect of CW attack on CIFAR10 for Linear model [c value]', dpi=600)\n",
    "plt.show()"
   ]
  },
  {
   "cell_type": "markdown",
   "metadata": {
    "id": "ldp7OT4TDVMB"
   },
   "source": [
    "# Prepare batches of adversarial examples of MLP model"
   ]
  },
  {
   "cell_type": "markdown",
   "metadata": {
    "id": "u-EHzXcmjQHK"
   },
   "source": [
    "**Batches of 1000 for different $c$ values**"
   ]
  },
  {
   "cell_type": "code",
   "execution_count": 29,
   "metadata": {
    "colab": {
     "base_uri": "https://localhost:8080/"
    },
    "executionInfo": {
     "elapsed": 107790,
     "status": "ok",
     "timestamp": 1678220229012,
     "user": {
      "displayName": "Nazmul Hasan",
      "userId": "02122416256231585764"
     },
     "user_tz": 420
    },
    "id": "4-Z4yQGBjQHK",
    "outputId": "0d0ea39b-a985-4825-f1b1-9decd52152b1"
   },
   "outputs": [],
   "source": [
    "model = MLP_CIFAR10\n",
    "for c in np.arange(0.1,1.1,0.1):\n",
    "    print(f'c value: {np.round(c,1)}')\n",
    "    starting_point = 0;\n",
    "    for lot in [0]:\n",
    "      x_adv_stack_MLP_Lot = CW_advarsarial_examples(model, X_test, c = c, lr_factor= lr_factor, \\\n",
    "                                                                  max_lr = max_lr, max_iter = max_iter, \\\n",
    "                                                 starting_point = starting_point, num_samples = num_samples)\n",
    "      filename = 'CIFAR10_x_adv_stack_MLP_Lot' + str(lot+1) + '_c' + str(np.round(c,1)) + '.npy'\n",
    "      np.save(filename, x_adv_stack_MLP_Lot)\n",
    "      starting_point = starting_point + num_samples"
   ]
  },
  {
   "cell_type": "code",
   "execution_count": 25,
   "metadata": {
    "colab": {
     "base_uri": "https://localhost:8080/",
     "height": 220
    },
    "executionInfo": {
     "elapsed": 1694,
     "status": "ok",
     "timestamp": 1678220685759,
     "user": {
      "displayName": "Nazmul Hasan",
      "userId": "02122416256231585764"
     },
     "user_tz": 420
    },
    "id": "tgL_lqDWjQHK",
    "outputId": "e3552e77-a552-427c-8e74-2bcde817a2d1"
   },
   "outputs": [
    {
     "name": "stdout",
     "output_type": "stream",
     "text": [
      "32/32 [==============================] - 0s 4ms/step - loss: 1.8998 - accuracy: 0.2900\n",
      "32/32 [==============================] - 1s 15ms/step - loss: 1.5886 - accuracy: 0.2030\n",
      "32/32 [==============================] - 3s 93ms/step - loss: 0.4012 - accuracy: 0.8730\n",
      "32/32 [==============================] - 0s 3ms/step - loss: 1.9022 - accuracy: 0.2880\n",
      "32/32 [==============================] - 0s 9ms/step - loss: 1.5944 - accuracy: 0.2070\n",
      "32/32 [==============================] - 3s 96ms/step - loss: 0.4122 - accuracy: 0.8700\n",
      "32/32 [==============================] - 0s 5ms/step - loss: 1.9049 - accuracy: 0.2870\n",
      "32/32 [==============================] - 1s 14ms/step - loss: 1.6004 - accuracy: 0.2040\n",
      "32/32 [==============================] - 3s 96ms/step - loss: 0.4170 - accuracy: 0.8690\n",
      "32/32 [==============================] - 0s 6ms/step - loss: 1.9082 - accuracy: 0.2830\n",
      "32/32 [==============================] - 1s 24ms/step - loss: 1.6087 - accuracy: 0.2040\n",
      "32/32 [==============================] - 3s 93ms/step - loss: 0.4192 - accuracy: 0.8690\n",
      "32/32 [==============================] - 0s 3ms/step - loss: 1.9096 - accuracy: 0.2850\n",
      "32/32 [==============================] - 0s 11ms/step - loss: 1.6120 - accuracy: 0.2040\n",
      "32/32 [==============================] - 3s 99ms/step - loss: 0.4210 - accuracy: 0.8700\n",
      "32/32 [==============================] - 0s 2ms/step - loss: 1.9109 - accuracy: 0.2830\n",
      "32/32 [==============================] - 0s 10ms/step - loss: 1.6166 - accuracy: 0.2040\n",
      "32/32 [==============================] - 3s 92ms/step - loss: 0.4209 - accuracy: 0.8690\n",
      "32/32 [==============================] - 0s 3ms/step - loss: 1.9163 - accuracy: 0.2760\n",
      "32/32 [==============================] - 0s 11ms/step - loss: 1.6291 - accuracy: 0.2040\n",
      "32/32 [==============================] - 3s 90ms/step - loss: 0.4218 - accuracy: 0.8700\n",
      "32/32 [==============================] - 0s 4ms/step - loss: 1.9194 - accuracy: 0.2710\n",
      "32/32 [==============================] - 0s 9ms/step - loss: 1.6383 - accuracy: 0.2040\n",
      "32/32 [==============================] - 3s 90ms/step - loss: 0.4244 - accuracy: 0.8670\n",
      "32/32 [==============================] - 0s 4ms/step - loss: 1.9218 - accuracy: 0.2730\n",
      "32/32 [==============================] - 0s 10ms/step - loss: 1.6438 - accuracy: 0.2040\n",
      "32/32 [==============================] - 3s 95ms/step - loss: 0.4234 - accuracy: 0.8680\n",
      "32/32 [==============================] - 0s 2ms/step - loss: 1.9246 - accuracy: 0.2740\n",
      "32/32 [==============================] - 0s 12ms/step - loss: 1.6505 - accuracy: 0.2040\n",
      "32/32 [==============================] - 3s 92ms/step - loss: 0.4248 - accuracy: 0.8680\n"
     ]
    },
    {
     "data": {
      "text/html": [
       "<div>\n",
       "<style scoped>\n",
       "    .dataframe tbody tr th:only-of-type {\n",
       "        vertical-align: middle;\n",
       "    }\n",
       "\n",
       "    .dataframe tbody tr th {\n",
       "        vertical-align: top;\n",
       "    }\n",
       "\n",
       "    .dataframe thead th {\n",
       "        text-align: right;\n",
       "    }\n",
       "</style>\n",
       "<table border=\"1\" class=\"dataframe\">\n",
       "  <thead>\n",
       "    <tr style=\"text-align: right;\">\n",
       "      <th></th>\n",
       "      <th>c value</th>\n",
       "      <th>Target model</th>\n",
       "      <th>avg_l2_norm</th>\n",
       "      <th>Linear_CIFAR10_test_accuray</th>\n",
       "      <th>MLP_CIFAR10_test_accuray</th>\n",
       "      <th>CNN_CIFAR10_test_accuray</th>\n",
       "    </tr>\n",
       "  </thead>\n",
       "  <tbody>\n",
       "    <tr>\n",
       "      <th>0</th>\n",
       "      <td>0.1</td>\n",
       "      <td>MLP</td>\n",
       "      <td>0.47539672082695583</td>\n",
       "      <td>0.28999999165534973</td>\n",
       "      <td>0.2029999941587448</td>\n",
       "      <td>0.8730000257492065</td>\n",
       "    </tr>\n",
       "    <tr>\n",
       "      <th>1</th>\n",
       "      <td>0.2</td>\n",
       "      <td>MLP</td>\n",
       "      <td>0.4898159446961622</td>\n",
       "      <td>0.2879999876022339</td>\n",
       "      <td>0.2070000022649765</td>\n",
       "      <td>0.8700000047683716</td>\n",
       "    </tr>\n",
       "    <tr>\n",
       "      <th>2</th>\n",
       "      <td>0.3</td>\n",
       "      <td>MLP</td>\n",
       "      <td>0.4994537839402653</td>\n",
       "      <td>0.28700000047683716</td>\n",
       "      <td>0.20399999618530273</td>\n",
       "      <td>0.8690000176429749</td>\n",
       "    </tr>\n",
       "    <tr>\n",
       "      <th>3</th>\n",
       "      <td>0.4</td>\n",
       "      <td>MLP</td>\n",
       "      <td>0.5068948751811597</td>\n",
       "      <td>0.28299999237060547</td>\n",
       "      <td>0.20399999618530273</td>\n",
       "      <td>0.8690000176429749</td>\n",
       "    </tr>\n",
       "    <tr>\n",
       "      <th>4</th>\n",
       "      <td>0.5</td>\n",
       "      <td>MLP</td>\n",
       "      <td>0.5140633596862468</td>\n",
       "      <td>0.2849999964237213</td>\n",
       "      <td>0.20399999618530273</td>\n",
       "      <td>0.8700000047683716</td>\n",
       "    </tr>\n",
       "    <tr>\n",
       "      <th>5</th>\n",
       "      <td>0.6</td>\n",
       "      <td>MLP</td>\n",
       "      <td>0.5208009288443693</td>\n",
       "      <td>0.28299999237060547</td>\n",
       "      <td>0.20399999618530273</td>\n",
       "      <td>0.8690000176429749</td>\n",
       "    </tr>\n",
       "    <tr>\n",
       "      <th>6</th>\n",
       "      <td>0.7</td>\n",
       "      <td>MLP</td>\n",
       "      <td>0.5307875823660052</td>\n",
       "      <td>0.2759999930858612</td>\n",
       "      <td>0.20399999618530273</td>\n",
       "      <td>0.8700000047683716</td>\n",
       "    </tr>\n",
       "    <tr>\n",
       "      <th>7</th>\n",
       "      <td>0.8</td>\n",
       "      <td>MLP</td>\n",
       "      <td>0.5382077647915394</td>\n",
       "      <td>0.2709999978542328</td>\n",
       "      <td>0.20399999618530273</td>\n",
       "      <td>0.8669999837875366</td>\n",
       "    </tr>\n",
       "    <tr>\n",
       "      <th>8</th>\n",
       "      <td>0.9</td>\n",
       "      <td>MLP</td>\n",
       "      <td>0.5486176485902545</td>\n",
       "      <td>0.27300000190734863</td>\n",
       "      <td>0.20399999618530273</td>\n",
       "      <td>0.8679999709129333</td>\n",
       "    </tr>\n",
       "    <tr>\n",
       "      <th>9</th>\n",
       "      <td>1.0</td>\n",
       "      <td>MLP</td>\n",
       "      <td>0.5534360250025747</td>\n",
       "      <td>0.27399998903274536</td>\n",
       "      <td>0.20399999618530273</td>\n",
       "      <td>0.8679999709129333</td>\n",
       "    </tr>\n",
       "  </tbody>\n",
       "</table>\n",
       "</div>"
      ],
      "text/plain": [
       "  c value Target model          avg_l2_norm Linear_CIFAR10_test_accuray  \\\n",
       "0     0.1          MLP  0.47539672082695583         0.28999999165534973   \n",
       "1     0.2          MLP   0.4898159446961622          0.2879999876022339   \n",
       "2     0.3          MLP   0.4994537839402653         0.28700000047683716   \n",
       "3     0.4          MLP   0.5068948751811597         0.28299999237060547   \n",
       "4     0.5          MLP   0.5140633596862468          0.2849999964237213   \n",
       "5     0.6          MLP   0.5208009288443693         0.28299999237060547   \n",
       "6     0.7          MLP   0.5307875823660052          0.2759999930858612   \n",
       "7     0.8          MLP   0.5382077647915394          0.2709999978542328   \n",
       "8     0.9          MLP   0.5486176485902545         0.27300000190734863   \n",
       "9     1.0          MLP   0.5534360250025747         0.27399998903274536   \n",
       "\n",
       "  MLP_CIFAR10_test_accuray CNN_CIFAR10_test_accuray  \n",
       "0       0.2029999941587448       0.8730000257492065  \n",
       "1       0.2070000022649765       0.8700000047683716  \n",
       "2      0.20399999618530273       0.8690000176429749  \n",
       "3      0.20399999618530273       0.8690000176429749  \n",
       "4      0.20399999618530273       0.8700000047683716  \n",
       "5      0.20399999618530273       0.8690000176429749  \n",
       "6      0.20399999618530273       0.8700000047683716  \n",
       "7      0.20399999618530273       0.8669999837875366  \n",
       "8      0.20399999618530273       0.8679999709129333  \n",
       "9      0.20399999618530273       0.8679999709129333  "
      ]
     },
     "execution_count": 25,
     "metadata": {},
     "output_type": "execute_result"
    }
   ],
   "source": [
    "stored_results = []\n",
    "lot = 0\n",
    "for c in np.arange(0.1,1.1,0.1):\n",
    "    filename = 'CIFAR10_x_adv_stack_MLP_Lot' + str(lot+1) + '_c' + str(np.round(c,1)) + '.npy'\n",
    "    x_adv_stack = np.load(filename)\n",
    "    \n",
    "    stored_results.append(np.round(c,1))\n",
    "    stored_results.append('MLP')\n",
    "    \n",
    "    avg_l2_norm = np.mean(np.sqrt(np.sum((x_adv_stack-X_test[:len(x_adv_stack)])**2, axis=(1,2,3))))\n",
    "    \n",
    "    if np.isnan(avg_l2_norm):\n",
    "        # print(avg_l2_norm)\n",
    "        delta = x_adv_stack-X_test[:len(x_adv_stack)]\n",
    "        indices = np.argwhere(np.isnan(delta))\n",
    "        # print(indices)\n",
    "        delta[indices] = 1\n",
    "        x_adv_stack = X_test[:len(x_adv_stack)] + delta\n",
    "        x_adv_stack = np.clip(x_adv_stack, 0, 1)\n",
    "        delta = x_adv_stack-X_test[:len(x_adv_stack)]\n",
    "        avg_l2_norm = np.mean(np.sqrt(np.sum((x_adv_stack-X_test[:len(x_adv_stack)])**2, axis=(1,2,3))))\n",
    "\n",
    "    \n",
    "    # print(avg_l2_norm)\n",
    "    stored_results.append(avg_l2_norm)\n",
    "    \n",
    "    _, accuracy = Linear_CIFAR10.evaluate(x_adv_stack,y_test[:len(x_adv_stack)])\n",
    "    stored_results.append(accuracy)\n",
    "    _, accuracy = MLP_CIFAR10.evaluate(x_adv_stack,y_test[:len(x_adv_stack)])\n",
    "    stored_results.append(accuracy)\n",
    "    _, accuracy = CNN_CIFAR10.evaluate(x_adv_stack,y_test[:len(x_adv_stack)])\n",
    "    stored_results.append(accuracy)\n",
    "    \n",
    "stored_results = np.array(stored_results)\n",
    "stored_results = stored_results.reshape(-1,6)\n",
    "df = pd.DataFrame(stored_results, columns = ['c value','Target model','avg_l2_norm','Linear_CIFAR10_test_accuray',\\\n",
    "                                              'MLP_CIFAR10_test_accuray','CNN_CIFAR10_test_accuray'])\n",
    "filename = 'Adversarial_Attacks_CIFAR10 for MLP model [CW Attack].csv'\n",
    "df.to_csv(filename, index=False)\n",
    "df"
   ]
  },
  {
   "cell_type": "code",
   "execution_count": 29,
   "metadata": {
    "colab": {
     "base_uri": "https://localhost:8080/",
     "height": 386
    },
    "executionInfo": {
     "elapsed": 5724,
     "status": "ok",
     "timestamp": 1678220694409,
     "user": {
      "displayName": "Nazmul Hasan",
      "userId": "02122416256231585764"
     },
     "user_tz": 420
    },
    "id": "dRT8supyjQHL",
    "outputId": "7cd88285-c9cf-4b67-ff8e-e432c50728b5"
   },
   "outputs": [
    {
     "name": "stdout",
     "output_type": "stream",
     "text": [
      "Test accuracy on unperturbed data\n",
      "32/32 [==============================] - 0s 2ms/step - loss: 1.7382 - accuracy: 0.3960\n",
      "32/32 [==============================] - 0s 8ms/step - loss: 1.4203 - accuracy: 0.4930\n",
      "32/32 [==============================] - 3s 81ms/step - loss: 0.3464 - accuracy: 0.8880\n"
     ]
    },
    {
     "data": {
      "image/png": "[encoded data removed]",
      "text/plain": [
       "<Figure size 432x288 with 1 Axes>"
      ]
     },
     "metadata": {
      "needs_background": "light"
     },
     "output_type": "display_data"
    }
   ],
   "source": [
    "df = pd.read_csv('Adversarial_Attacks_CIFAR10 for MLP model [CW Attack].csv')\n",
    "print('Test accuracy on unperturbed data')\n",
    "_, accurcy_Linear = Linear_CIFAR10.evaluate(X_test[indexes],y_test[indexes]);\n",
    "_, accurcy_MLP = MLP_CIFAR10.evaluate(X_test[indexes],y_test[indexes]);\n",
    "_, accurcy_CNN = CNN_CIFAR10.evaluate(X_test[indexes],y_test[indexes]);\n",
    "# print('\\n')\n",
    "df.loc[10] = ['-', '-', 0, accurcy_Linear, accurcy_MLP, accurcy_CNN]\n",
    "df\n",
    "df = df.sort_values('avg_l2_norm', ascending=True)\n",
    "plt.plot(df['avg_l2_norm'],df['Linear_CIFAR10_test_accuray'],'o-')\n",
    "plt.plot(df['avg_l2_norm'],df['MLP_CIFAR10_test_accuray'],'o--')\n",
    "plt.plot(df['avg_l2_norm'],df['CNN_CIFAR10_test_accuray'],'o-.')\n",
    "plt.xlabel('Average $l_2$ norm of the perturbation')\n",
    "plt.ylabel('Test accuracy')\n",
    "plt.legend(['Linear model', 'MLP model','CNN model'])\n",
    "plt.ylim([-0.1,1.1])\n",
    "\n",
    "plt.title('Effect of CW attack on CIFAR10 \\nTraget model: MLP')\n",
    "plt.savefig('Effect of CW attack on CIFAR10 for MLP model [l2 norm]', dpi=600)\n",
    "plt.show()"
   ]
  },
  {
   "cell_type": "code",
   "execution_count": 28,
   "metadata": {},
   "outputs": [
    {
     "name": "stdout",
     "output_type": "stream",
     "text": [
      "Test accuracy on unperturbed data\n",
      "32/32 [==============================] - 0s 2ms/step - loss: 1.7382 - accuracy: 0.3960\n",
      "32/32 [==============================] - 0s 9ms/step - loss: 1.4203 - accuracy: 0.4930\n",
      "32/32 [==============================] - 3s 80ms/step - loss: 0.3464 - accuracy: 0.8880\n"
     ]
    },
    {
     "data": {
      "image/png": "[encoded data removed]",
      "text/plain": [
       "<Figure size 432x288 with 1 Axes>"
      ]
     },
     "metadata": {
      "needs_background": "light"
     },
     "output_type": "display_data"
    }
   ],
   "source": [
    "df = pd.read_csv('Adversarial_Attacks_CIFAR10 for MLP model [CW Attack].csv')\n",
    "print('Test accuracy on unperturbed data')\n",
    "_, accurcy_Linear = Linear_CIFAR10.evaluate(X_test[indexes],y_test[indexes]);\n",
    "_, accurcy_MLP = MLP_CIFAR10.evaluate(X_test[indexes],y_test[indexes]);\n",
    "_, accurcy_CNN = CNN_CIFAR10.evaluate(X_test[indexes],y_test[indexes]);\n",
    "# print('\\n')\n",
    "df.loc[10] = [0, '-', 0, accurcy_Linear, accurcy_MLP, accurcy_CNN]\n",
    "df\n",
    "df = df.sort_values('c value', ascending=True)\n",
    "plt.plot(df['c value'],df['Linear_CIFAR10_test_accuray'],'o-')\n",
    "plt.plot(df['c value'],df['MLP_CIFAR10_test_accuray'],'o--')\n",
    "plt.plot(df['c value'],df['CNN_CIFAR10_test_accuray'],'o-.')\n",
    "plt.xlabel('$c$-parameter value')\n",
    "plt.ylabel('Test accuracy')\n",
    "plt.legend(['Linear model', 'MLP model','CNN model'])\n",
    "plt.ylim([-0.1,1.1])\n",
    "\n",
    "plt.title('Effect of CW attack on CIFAR10 \\nTraget model: MLP')\n",
    "plt.savefig('Effect of CW attack on CIFAR10 for MLP model [c value]', dpi=600)\n",
    "plt.show()"
   ]
  },
  {
   "cell_type": "markdown",
   "metadata": {
    "id": "3uVyO7HmDYE8"
   },
   "source": [
    "# Prepare batches of adversarial examples of CNN model"
   ]
  },
  {
   "cell_type": "code",
   "execution_count": 20,
   "metadata": {
    "colab": {
     "base_uri": "https://localhost:8080/"
    },
    "executionInfo": {
     "elapsed": 113765,
     "status": "ok",
     "timestamp": 1678220345190,
     "user": {
      "displayName": "Nazmul Hasan",
      "userId": "02122416256231585764"
     },
     "user_tz": 420
    },
    "id": "JVWhrZ3wjQHL",
    "outputId": "b6a15157-f25e-4a68-f746-1c23766b2720"
   },
   "outputs": [
    {
     "name": "stdout",
     "output_type": "stream",
     "text": [
      "C value: 0.7\n",
      "Starting from 0... \n",
      "First 100 completed\n",
      "First 200 completed\n",
      "First 300 completed\n",
      "First 400 completed\n",
      "First 500 completed\n",
      "First 600 completed\n",
      "First 700 completed\n",
      "First 800 completed\n",
      "First 900 completed\n",
      "First 1000 completed\n",
      "C value: 0.8\n",
      "Starting from 0... \n",
      "First 100 completed\n",
      "First 200 completed\n",
      "First 300 completed\n",
      "First 400 completed\n",
      "First 500 completed\n",
      "First 600 completed\n",
      "First 700 completed\n",
      "First 800 completed\n",
      "First 900 completed\n",
      "First 1000 completed\n",
      "C value: 0.9\n",
      "Starting from 0... \n",
      "First 100 completed\n",
      "First 200 completed\n",
      "First 300 completed\n",
      "First 400 completed\n",
      "First 500 completed\n",
      "First 600 completed\n",
      "First 700 completed\n",
      "First 800 completed\n",
      "First 900 completed\n",
      "First 1000 completed\n",
      "C value: 1.0\n",
      "Starting from 0... \n",
      "First 100 completed\n",
      "First 200 completed\n",
      "First 300 completed\n",
      "First 400 completed\n",
      "First 500 completed\n",
      "First 600 completed\n",
      "First 700 completed\n",
      "First 800 completed\n",
      "First 900 completed\n",
      "First 1000 completed\n"
     ]
    }
   ],
   "source": [
    "model = CNN_CIFAR10\n",
    "for c in np.arange(0.1,1.1,0.1):\n",
    "    print(f'c value: {np.round(c,1)}')\n",
    "    starting_point = 0;\n",
    "    for lot in [0]:\n",
    "      x_adv_stack_CNN_Lot = CW_advarsarial_examples(model, X_test, c = c, lr_factor= lr_factor, \\\n",
    "                                                                  max_lr = max_lr, max_iter = max_iter, \\\n",
    "                                                 starting_point = starting_point, num_samples = num_samples)\n",
    "      filename = 'CIFAR10_x_adv_stack_CNN_Lot' + str(lot+1) + '_c' + str(np.round(c,1)) + '.npy'\n",
    "      np.save(filename, x_adv_stack_CNN_Lot)\n",
    "      starting_point = starting_point + num_samples"
   ]
  },
  {
   "cell_type": "code",
   "execution_count": 27,
   "metadata": {
    "colab": {
     "base_uri": "https://localhost:8080/",
     "height": 220
    },
    "executionInfo": {
     "elapsed": 1687,
     "status": "ok",
     "timestamp": 1678220709425,
     "user": {
      "displayName": "Nazmul Hasan",
      "userId": "02122416256231585764"
     },
     "user_tz": 420
    },
    "id": "EsylhMo7jQHL",
    "outputId": "e89af5a8-0e1a-4e33-a949-1bce28217605"
   },
   "outputs": [
    {
     "name": "stdout",
     "output_type": "stream",
     "text": [
      "32/32 [==============================] - 0s 4ms/step - loss: 1.9025 - accuracy: 0.3410\n",
      "32/32 [==============================] - 1s 21ms/step - loss: 1.5662 - accuracy: 0.4430\n",
      "32/32 [==============================] - 3s 93ms/step - loss: 3.7305 - accuracy: 0.0710\n",
      "32/32 [==============================] - 0s 6ms/step - loss: 1.9689 - accuracy: 0.3410\n",
      "32/32 [==============================] - 1s 16ms/step - loss: 1.6110 - accuracy: 0.4330\n",
      "32/32 [==============================] - 3s 99ms/step - loss: 3.8952 - accuracy: 0.0710\n",
      "32/32 [==============================] - 0s 4ms/step - loss: 1.9755 - accuracy: 0.3150\n",
      "32/32 [==============================] - 0s 9ms/step - loss: 1.6270 - accuracy: 0.4230\n",
      "32/32 [==============================] - 3s 92ms/step - loss: 3.8528 - accuracy: 0.0710\n",
      "32/32 [==============================] - 0s 3ms/step - loss: 2.0486 - accuracy: 0.3120\n",
      "32/32 [==============================] - 0s 14ms/step - loss: 1.6849 - accuracy: 0.3990\n",
      "32/32 [==============================] - 3s 100ms/step - loss: 3.9553 - accuracy: 0.0710\n",
      "32/32 [==============================] - 0s 4ms/step - loss: 1.9304 - accuracy: 0.3420\n",
      "32/32 [==============================] - 1s 14ms/step - loss: 1.5713 - accuracy: 0.4450\n",
      "32/32 [==============================] - 3s 96ms/step - loss: 3.8541 - accuracy: 0.0710\n",
      "32/32 [==============================] - 0s 4ms/step - loss: 1.9689 - accuracy: 0.3410\n",
      "32/32 [==============================] - 0s 10ms/step - loss: 1.6110 - accuracy: 0.4330\n",
      "32/32 [==============================] - 4s 109ms/step - loss: 3.8952 - accuracy: 0.0710\n",
      "32/32 [==============================] - 0s 5ms/step - loss: 1.9565 - accuracy: 0.3370\n",
      "32/32 [==============================] - 1s 14ms/step - loss: 1.6297 - accuracy: 0.4220\n",
      "32/32 [==============================] - 3s 100ms/step - loss: 3.8300 - accuracy: 0.0710\n",
      "32/32 [==============================] - 0s 2ms/step - loss: 1.9820 - accuracy: 0.3290\n",
      "32/32 [==============================] - 1s 20ms/step - loss: 1.6227 - accuracy: 0.4220\n",
      "32/32 [==============================] - 4s 108ms/step - loss: 3.8313 - accuracy: 0.0710\n",
      "32/32 [==============================] - 0s 5ms/step - loss: 1.9766 - accuracy: 0.3150\n",
      "32/32 [==============================] - 0s 10ms/step - loss: 1.6266 - accuracy: 0.4230\n",
      "32/32 [==============================] - 3s 97ms/step - loss: 3.8545 - accuracy: 0.0710\n",
      "32/32 [==============================] - 0s 5ms/step - loss: 2.0236 - accuracy: 0.3120\n",
      "32/32 [==============================] - 0s 13ms/step - loss: 1.6458 - accuracy: 0.4230\n",
      "32/32 [==============================] - 3s 106ms/step - loss: 3.8824 - accuracy: 0.0710\n"
     ]
    },
    {
     "data": {
      "text/html": [
       "<div>\n",
       "<style scoped>\n",
       "    .dataframe tbody tr th:only-of-type {\n",
       "        vertical-align: middle;\n",
       "    }\n",
       "\n",
       "    .dataframe tbody tr th {\n",
       "        vertical-align: top;\n",
       "    }\n",
       "\n",
       "    .dataframe thead th {\n",
       "        text-align: right;\n",
       "    }\n",
       "</style>\n",
       "<table border=\"1\" class=\"dataframe\">\n",
       "  <thead>\n",
       "    <tr style=\"text-align: right;\">\n",
       "      <th></th>\n",
       "      <th>c value</th>\n",
       "      <th>Target model</th>\n",
       "      <th>avg_l2_norm</th>\n",
       "      <th>Linear_CIFAR10_test_accuray</th>\n",
       "      <th>MLP_CIFAR10_test_accuray</th>\n",
       "      <th>CNN_CIFAR10_test_accuray</th>\n",
       "    </tr>\n",
       "  </thead>\n",
       "  <tbody>\n",
       "    <tr>\n",
       "      <th>0</th>\n",
       "      <td>0.1</td>\n",
       "      <td>CNN</td>\n",
       "      <td>3.2225710797874756</td>\n",
       "      <td>0.3409999907016754</td>\n",
       "      <td>0.4429999887943268</td>\n",
       "      <td>0.07100000232458115</td>\n",
       "    </tr>\n",
       "    <tr>\n",
       "      <th>1</th>\n",
       "      <td>0.2</td>\n",
       "      <td>CNN</td>\n",
       "      <td>4.248406332921626</td>\n",
       "      <td>0.3409999907016754</td>\n",
       "      <td>0.43299999833106995</td>\n",
       "      <td>0.07100000232458115</td>\n",
       "    </tr>\n",
       "    <tr>\n",
       "      <th>2</th>\n",
       "      <td>0.3</td>\n",
       "      <td>CNN</td>\n",
       "      <td>4.885302187714907</td>\n",
       "      <td>0.3149999976158142</td>\n",
       "      <td>0.4230000078678131</td>\n",
       "      <td>0.07100000232458115</td>\n",
       "    </tr>\n",
       "    <tr>\n",
       "      <th>3</th>\n",
       "      <td>0.4</td>\n",
       "      <td>CNN</td>\n",
       "      <td>5.281926688099801</td>\n",
       "      <td>0.31200000643730164</td>\n",
       "      <td>0.39899998903274536</td>\n",
       "      <td>0.07100000232458115</td>\n",
       "    </tr>\n",
       "    <tr>\n",
       "      <th>4</th>\n",
       "      <td>0.5</td>\n",
       "      <td>CNN</td>\n",
       "      <td>3.9102621306938716</td>\n",
       "      <td>0.34200000762939453</td>\n",
       "      <td>0.4449999928474426</td>\n",
       "      <td>0.07100000232458115</td>\n",
       "    </tr>\n",
       "    <tr>\n",
       "      <th>5</th>\n",
       "      <td>0.6</td>\n",
       "      <td>CNN</td>\n",
       "      <td>4.248406332921626</td>\n",
       "      <td>0.3409999907016754</td>\n",
       "      <td>0.43299999833106995</td>\n",
       "      <td>0.07100000232458115</td>\n",
       "    </tr>\n",
       "    <tr>\n",
       "      <th>6</th>\n",
       "      <td>0.7</td>\n",
       "      <td>CNN</td>\n",
       "      <td>4.447443401192919</td>\n",
       "      <td>0.3370000123977661</td>\n",
       "      <td>0.421999990940094</td>\n",
       "      <td>0.07100000232458115</td>\n",
       "    </tr>\n",
       "    <tr>\n",
       "      <th>7</th>\n",
       "      <td>0.8</td>\n",
       "      <td>CNN</td>\n",
       "      <td>4.684504496645344</td>\n",
       "      <td>0.32899999618530273</td>\n",
       "      <td>0.421999990940094</td>\n",
       "      <td>0.07100000232458115</td>\n",
       "    </tr>\n",
       "    <tr>\n",
       "      <th>8</th>\n",
       "      <td>0.9</td>\n",
       "      <td>CNN</td>\n",
       "      <td>4.8840166965970875</td>\n",
       "      <td>0.3149999976158142</td>\n",
       "      <td>0.4230000078678131</td>\n",
       "      <td>0.07100000232458115</td>\n",
       "    </tr>\n",
       "    <tr>\n",
       "      <th>9</th>\n",
       "      <td>1.0</td>\n",
       "      <td>CNN</td>\n",
       "      <td>5.054329274586325</td>\n",
       "      <td>0.31200000643730164</td>\n",
       "      <td>0.4230000078678131</td>\n",
       "      <td>0.07100000232458115</td>\n",
       "    </tr>\n",
       "  </tbody>\n",
       "</table>\n",
       "</div>"
      ],
      "text/plain": [
       "  c value Target model         avg_l2_norm Linear_CIFAR10_test_accuray  \\\n",
       "0     0.1          CNN  3.2225710797874756          0.3409999907016754   \n",
       "1     0.2          CNN   4.248406332921626          0.3409999907016754   \n",
       "2     0.3          CNN   4.885302187714907          0.3149999976158142   \n",
       "3     0.4          CNN   5.281926688099801         0.31200000643730164   \n",
       "4     0.5          CNN  3.9102621306938716         0.34200000762939453   \n",
       "5     0.6          CNN   4.248406332921626          0.3409999907016754   \n",
       "6     0.7          CNN   4.447443401192919          0.3370000123977661   \n",
       "7     0.8          CNN   4.684504496645344         0.32899999618530273   \n",
       "8     0.9          CNN  4.8840166965970875          0.3149999976158142   \n",
       "9     1.0          CNN   5.054329274586325         0.31200000643730164   \n",
       "\n",
       "  MLP_CIFAR10_test_accuray CNN_CIFAR10_test_accuray  \n",
       "0       0.4429999887943268      0.07100000232458115  \n",
       "1      0.43299999833106995      0.07100000232458115  \n",
       "2       0.4230000078678131      0.07100000232458115  \n",
       "3      0.39899998903274536      0.07100000232458115  \n",
       "4       0.4449999928474426      0.07100000232458115  \n",
       "5      0.43299999833106995      0.07100000232458115  \n",
       "6        0.421999990940094      0.07100000232458115  \n",
       "7        0.421999990940094      0.07100000232458115  \n",
       "8       0.4230000078678131      0.07100000232458115  \n",
       "9       0.4230000078678131      0.07100000232458115  "
      ]
     },
     "execution_count": 27,
     "metadata": {},
     "output_type": "execute_result"
    }
   ],
   "source": [
    "stored_results = []\n",
    "lot = 0\n",
    "for c in np.arange(0.1,1.1,0.1):\n",
    "    filename = 'CIFAR10_x_adv_stack_CNN_Lot' + str(lot+1) + '_c' + str(np.round(c,1)) + '.npy'\n",
    "    x_adv_stack = np.load(filename)\n",
    "    \n",
    "    stored_results.append(np.round(c,1))\n",
    "    stored_results.append('CNN')\n",
    "    \n",
    "    avg_l2_norm = np.mean(np.sqrt(np.sum((x_adv_stack-X_test[:len(x_adv_stack)])**2, axis=(1,2,3))))\n",
    "    \n",
    "    if np.isnan(avg_l2_norm):\n",
    "        # print(avg_l2_norm)\n",
    "        delta = x_adv_stack-X_test[:len(x_adv_stack)]\n",
    "        indices = np.argwhere(np.isnan(delta))\n",
    "        # print(indices)\n",
    "        delta[indices] = 1\n",
    "        x_adv_stack = X_test[:len(x_adv_stack)] + delta\n",
    "        x_adv_stack = np.clip(x_adv_stack, 0, 1)\n",
    "        delta = x_adv_stack-X_test[:len(x_adv_stack)]\n",
    "        avg_l2_norm = np.mean(np.sqrt(np.sum((x_adv_stack-X_test[:len(x_adv_stack)])**2, axis=(1,2,3))))\n",
    "        \n",
    "    # print(avg_l2_norm)\n",
    "    stored_results.append(avg_l2_norm)\n",
    "    \n",
    "    _, accuracy = Linear_CIFAR10.evaluate(x_adv_stack,y_test[:len(x_adv_stack)])\n",
    "    stored_results.append(accuracy)\n",
    "    _, accuracy = MLP_CIFAR10.evaluate(x_adv_stack,y_test[:len(x_adv_stack)])\n",
    "    stored_results.append(accuracy)\n",
    "    _, accuracy = CNN_CIFAR10.evaluate(x_adv_stack,y_test[:len(x_adv_stack)])\n",
    "    stored_results.append(accuracy)\n",
    "    \n",
    "stored_results = np.array(stored_results)\n",
    "stored_results = stored_results.reshape(-1,6)\n",
    "df = pd.DataFrame(stored_results, columns = ['c value','Target model','avg_l2_norm','Linear_CIFAR10_test_accuray',\\\n",
    "                                              'MLP_CIFAR10_test_accuray','CNN_CIFAR10_test_accuray'])\n",
    "filename = 'Adversarial_Attacks_CIFAR10 for CNN model [CW Attack].csv'\n",
    "df.to_csv(filename, index=False)\n",
    "df"
   ]
  },
  {
   "cell_type": "code",
   "execution_count": 27,
   "metadata": {
    "colab": {
     "base_uri": "https://localhost:8080/",
     "height": 386
    },
    "executionInfo": {
     "elapsed": 1998,
     "status": "ok",
     "timestamp": 1678220347586,
     "user": {
      "displayName": "Nazmul Hasan",
      "userId": "02122416256231585764"
     },
     "user_tz": 420
    },
    "id": "MY_fF9rcjQHM",
    "outputId": "4fa37a83-449b-4e18-ae60-8ffad402c985"
   },
   "outputs": [
    {
     "name": "stdout",
     "output_type": "stream",
     "text": [
      "Test accuracy on unperturbed data\n",
      "32/32 [==============================] - 0s 2ms/step - loss: 1.7382 - accuracy: 0.3960\n",
      "32/32 [==============================] - 0s 9ms/step - loss: 1.4203 - accuracy: 0.4930\n",
      "32/32 [==============================] - 3s 81ms/step - loss: 0.3464 - accuracy: 0.8880\n"
     ]
    },
    {
     "data": {
      "image/png": "[encoded data removed]",
      "text/plain": [
       "<Figure size 432x288 with 1 Axes>"
      ]
     },
     "metadata": {
      "needs_background": "light"
     },
     "output_type": "display_data"
    }
   ],
   "source": [
    "df = pd.read_csv('Adversarial_Attacks_CIFAR10 for CNN model [CW Attack].csv')\n",
    "print('Test accuracy on unperturbed data')\n",
    "_, accurcy_Linear = Linear_CIFAR10.evaluate(X_test[indexes],y_test[indexes]);\n",
    "_, accurcy_MLP = MLP_CIFAR10.evaluate(X_test[indexes],y_test[indexes]);\n",
    "_, accurcy_CNN = CNN_CIFAR10.evaluate(X_test[indexes],y_test[indexes]);\n",
    "# print('\\n')\n",
    "df.loc[10] = ['-', '-', 0, accurcy_Linear, accurcy_MLP, accurcy_CNN]\n",
    "df\n",
    "df = df.sort_values('avg_l2_norm', ascending=True)\n",
    "plt.plot(df['avg_l2_norm'],df['Linear_CIFAR10_test_accuray'],'o-')\n",
    "plt.plot(df['avg_l2_norm'],df['MLP_CIFAR10_test_accuray'],'o--')\n",
    "plt.plot(df['avg_l2_norm'],df['CNN_CIFAR10_test_accuray'],'o-.')\n",
    "plt.xlabel('Average $l_2$ norm of the perturbation')\n",
    "plt.ylabel('Test accuracy')\n",
    "plt.legend(['Linear model', 'MLP model','CNN model'])\n",
    "plt.ylim([-0.1,1.1])\n",
    "\n",
    "plt.title('Effect of CW attack on CIFAR10 \\nTraget model: CNN')\n",
    "plt.savefig('Effect of CW attack on CIFAR10 for CNN model [l2 norm]', dpi=600)\n",
    "plt.show()"
   ]
  },
  {
   "cell_type": "code",
   "execution_count": 25,
   "metadata": {},
   "outputs": [
    {
     "name": "stdout",
     "output_type": "stream",
     "text": [
      "Test accuracy on unperturbed data\n",
      "32/32 [==============================] - 0s 1ms/step - loss: 1.7382 - accuracy: 0.3960\n",
      "32/32 [==============================] - 0s 8ms/step - loss: 1.4203 - accuracy: 0.4930\n",
      "32/32 [==============================] - 3s 78ms/step - loss: 0.3464 - accuracy: 0.8880\n"
     ]
    },
    {
     "data": {
      "image/png": "[encoded data removed]",
      "text/plain": [
       "<Figure size 432x288 with 1 Axes>"
      ]
     },
     "metadata": {
      "needs_background": "light"
     },
     "output_type": "display_data"
    }
   ],
   "source": [
    "df = pd.read_csv('Adversarial_Attacks_CIFAR10 for CNN model [CW Attack].csv')\n",
    "print('Test accuracy on unperturbed data')\n",
    "_, accurcy_Linear = Linear_CIFAR10.evaluate(X_test[indexes],y_test[indexes]);\n",
    "_, accurcy_MLP = MLP_CIFAR10.evaluate(X_test[indexes],y_test[indexes]);\n",
    "_, accurcy_CNN = CNN_CIFAR10.evaluate(X_test[indexes],y_test[indexes]);\n",
    "# print('\\n')\n",
    "df.loc[10] = [0, '-', 0, accurcy_Linear, accurcy_MLP, accurcy_CNN]\n",
    "df\n",
    "df = df.sort_values('c value', ascending=True)\n",
    "plt.plot(df['c value'],df['Linear_CIFAR10_test_accuray'],'o-')\n",
    "plt.plot(df['c value'],df['MLP_CIFAR10_test_accuray'],'o--')\n",
    "plt.plot(df['c value'],df['CNN_CIFAR10_test_accuray'],'o-.')\n",
    "plt.xlabel('$c$-parameter value')\n",
    "plt.ylabel('Test accuracy')\n",
    "plt.legend(['Linear model', 'MLP model','CNN model'])\n",
    "plt.ylim([-0.1,1.1])\n",
    "\n",
    "plt.title('Effect of CW attack on CIFAR10 \\nTraget model: CNN')\n",
    "plt.savefig('Effect of CW attack on CIFAR10 for CNN model [c value]', dpi=600)\n",
    "plt.show()"
   ]
  },
  {
   "cell_type": "markdown",
   "metadata": {},
   "source": [
    "# Visualize the CW-adversarial examples"
   ]
  },
  {
   "cell_type": "code",
   "execution_count": 57,
   "metadata": {},
   "outputs": [
    {
     "data": {
      "image/png": "[encoded data removed]",
      "text/plain": [
       "<Figure size 1080x144 with 2 Axes>"
      ]
     },
     "metadata": {
      "needs_background": "light"
     },
     "output_type": "display_data"
    },
    {
     "name": "stdout",
     "output_type": "stream",
     "text": [
      "1/1 [==============================] - 0s 16ms/step\n"
     ]
    },
    {
     "data": {
      "image/png": "[encoded data removed]",
      "text/plain": [
       "<Figure size 1080x144 with 2 Axes>"
      ]
     },
     "metadata": {
      "needs_background": "light"
     },
     "output_type": "display_data"
    },
    {
     "name": "stdout",
     "output_type": "stream",
     "text": [
      "1/1 [==============================] - 0s 22ms/step\n"
     ]
    },
    {
     "data": {
      "image/png": "[encoded data removed]",
      "text/plain": [
       "<Figure size 1080x144 with 2 Axes>"
      ]
     },
     "metadata": {
      "needs_background": "light"
     },
     "output_type": "display_data"
    },
    {
     "name": "stdout",
     "output_type": "stream",
     "text": [
      "1/1 [==============================] - 0s 23ms/step\n"
     ]
    },
    {
     "data": {
      "image/png": "[encoded data removed]",
      "text/plain": [
       "<Figure size 1080x144 with 2 Axes>"
      ]
     },
     "metadata": {
      "needs_background": "light"
     },
     "output_type": "display_data"
    }
   ],
   "source": [
    "lot = 0; c = 0.1\n",
    "filename = 'CIFAR10_x_adv_stack_Linear_Lot' + str(lot+1) + '_c' + str(np.round(c,1)) + '.npy'\n",
    "X_test_CW_Linear = np.load(filename)\n",
    "filename = 'CIFAR10_x_adv_stack_MLP_Lot' + str(lot+1) + '_c' + str(np.round(c,1)) + '.npy'\n",
    "X_test_CW_MLP = np.load(filename)\n",
    "filename = 'CIFAR10_x_adv_stack_CNN_Lot' + str(lot+1) + '_c' + str(np.round(c,1)) + '.npy'\n",
    "X_test_CW_CNN = np.load(filename)\n",
    "\n",
    "\n",
    "index = np.random.randint(1000)\n",
    "plot_sample_image(X_test[index], y_test[index])\n",
    "plt.title('Original Image'); plt.show()\n",
    "plot_sample_image(X_test_CW_Linear[index], np.argmax(Linear_CIFAR10.predict(X_test_CW_Linear[index][np.newaxis, ...])))\n",
    "plt.title('CW adversarial example for Linear model'); plt.show()\n",
    "plot_sample_image(X_test_CW_MLP[index], np.argmax(MLP_CIFAR10.predict(X_test_CW_MLP[index][np.newaxis, ...])))\n",
    "plt.title('CW adversarial example for MLP model'); plt.show()\n",
    "plot_sample_image(X_test_CW_CNN[index], np.argmax(CNN_CIFAR10.predict(X_test_CW_CNN[index][np.newaxis, ...])))\n",
    "plt.title('CW adversarial example for CNN model'); plt.show()"
   ]
  }
 ],
 "metadata": {
  "accelerator": "GPU",
  "colab": {
   "provenance": [
    {
     "file_id": "17t5wZdiu4KbtR9opaQcMZECSJAndropo",
     "timestamp": 1674347819943
    }
   ]
  },
  "gpuClass": "standard",
  "kernelspec": {
   "display_name": "Python 3",
   "language": "python",
   "name": "python3"
  },
  "language_info": {
   "codemirror_mode": {
    "name": "ipython",
    "version": 3
   },
   "file_extension": ".py",
   "mimetype": "text/x-python",
   "name": "python",
   "nbconvert_exporter": "python",
   "pygments_lexer": "ipython3",
   "version": "3.8.8"
  }
 },
 "nbformat": 4,
 "nbformat_minor": 1
}
