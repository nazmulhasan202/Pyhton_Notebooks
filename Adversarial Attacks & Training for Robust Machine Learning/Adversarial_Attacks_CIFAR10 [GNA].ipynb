{
 "cells": [
  {
   "cell_type": "markdown",
   "metadata": {
    "id": "aiSUzqR_k38-"
   },
   "source": [
    "**Import packages**"
   ]
  },
  {
   "cell_type": "code",
   "execution_count": 1,
   "metadata": {
    "colab": {
     "base_uri": "https://localhost:8080/"
    },
    "executionInfo": {
     "elapsed": 9393,
     "status": "ok",
     "timestamp": 1677528320562,
     "user": {
      "displayName": "Nazmul Hasan",
      "userId": "02122416256231585764"
     },
     "user_tz": 420
    },
    "id": "ad5wwLh9culg",
    "outputId": "6a6a93fc-f83e-4ce0-bde8-d9af64975e52"
   },
   "outputs": [
    {
     "name": "stdout",
     "output_type": "stream",
     "text": [
      "Requirement already satisfied: pytictoc in c:\\programdata\\anaconda3\\lib\\site-packages (1.5.2)\n"
     ]
    }
   ],
   "source": [
    "!pip install pytictoc"
   ]
  },
  {
   "cell_type": "code",
   "execution_count": 2,
   "metadata": {
    "id": "_z7kPblcHOH1"
   },
   "outputs": [],
   "source": [
    "import random\n",
    "import tensorflow as tf\n",
    "import pandas as pd\n",
    "from tensorflow import keras\n",
    "from keras import datasets, layers, models\n",
    "import matplotlib.pyplot as plt\n",
    "import numpy as np\n",
    "import warnings\n",
    "from pytictoc import TicToc\n",
    "warnings.filterwarnings( \"ignore\" )"
   ]
  },
  {
   "cell_type": "markdown",
   "metadata": {
    "id": "e7iTQt51HOH3"
   },
   "source": [
    "**Load the dataset**"
   ]
  },
  {
   "cell_type": "code",
   "execution_count": 3,
   "metadata": {
    "colab": {
     "base_uri": "https://localhost:8080/"
    },
    "executionInfo": {
     "elapsed": 8718,
     "status": "ok",
     "timestamp": 1677528335550,
     "user": {
      "displayName": "Nazmul Hasan",
      "userId": "02122416256231585764"
     },
     "user_tz": 420
    },
    "id": "rPRPSMuwHOH4",
    "outputId": "773dd884-cfe9-41fb-ffc5-8c87b4565b16"
   },
   "outputs": [
    {
     "data": {
      "text/plain": [
       "((50000, 32, 32, 3), (50000,), (10000, 32, 32, 3), (10000,))"
      ]
     },
     "execution_count": 3,
     "metadata": {},
     "output_type": "execute_result"
    }
   ],
   "source": [
    "(X_train, y_train), (X_test,y_test) = datasets.cifar10.load_data()\n",
    "y_train = y_train.reshape(-1,)\n",
    "y_test = y_test.reshape(-1,)\n",
    "X_train.shape, y_train.shape, X_test.shape, y_test.shape"
   ]
  },
  {
   "cell_type": "markdown",
   "metadata": {
    "id": "nfOobSrX9lZp"
   },
   "source": [
    "**Create helper functions**"
   ]
  },
  {
   "cell_type": "code",
   "execution_count": 4,
   "metadata": {
    "id": "29WNxxm-9oF1"
   },
   "outputs": [],
   "source": [
    "def plot_sample_image(X, y):\n",
    "    plt.figure(figsize = (15,2))\n",
    "    plt.imshow(X)\n",
    "    classes = [\"airplane\",\"automobile\",\"bird\",\"cat\",\"deer\",\"dog\",\"frog\",\"horse\",\"ship\",\"truck\"]\n",
    "    plt.xlabel('Image Label: {}'.format(classes[y]))\n",
    "\n",
    "def classification_results(X_test,y_test,y_pred_classes):\n",
    "  from sklearn.metrics import confusion_matrix , classification_report\n",
    "  import seaborn as sn\n",
    "\n",
    "  cm = tf.math.confusion_matrix(labels=y_test,predictions=y_pred_classes)\n",
    "  plt.figure(figsize = (7,5))\n",
    "  sn.heatmap(cm, annot=True, fmt='d', cmap='Greens')\n",
    "  plt.xlabel('Predicted');\n",
    "  plt.ylabel('Truth');\n",
    "\n",
    "  print(\"Classification Report: \\n\", classification_report(y_test, y_pred_classes))\n",
    "\n",
    "def plot_fitting_history(history,filename,dpi):\n",
    "  epochs = len(history.history['loss'])\n",
    "  epoch_data = np.arange(1,epochs+1)\n",
    "  plt.plot(epoch_data,history.history['loss'],'o-')\n",
    "  plt.plot(epoch_data,history.history['val_loss'],'o--')\n",
    "  plt.ylabel('Loss')\n",
    "  plt.xlabel('Epoch sequence' )\n",
    "  plt.xticks(np.arange(0, epochs + 1, step=1))\n",
    "  plt.legend(['Training','Validation'])\n",
    "  plt.savefig(filename, dpi=dpi)\n",
    "  plt.show()"
   ]
  },
  {
   "cell_type": "markdown",
   "metadata": {
    "id": "ZUSUtJFkHOIB"
   },
   "source": [
    "**Plot sample image**"
   ]
  },
  {
   "cell_type": "code",
   "execution_count": 5,
   "metadata": {
    "colab": {
     "base_uri": "https://localhost:8080/",
     "height": 173
    },
    "executionInfo": {
     "elapsed": 23,
     "status": "ok",
     "timestamp": 1677528335552,
     "user": {
      "displayName": "Nazmul Hasan",
      "userId": "02122416256231585764"
     },
     "user_tz": 420
    },
    "id": "5SMVbqRZHOIC",
    "outputId": "e134fc09-3c70-47c2-947f-9b55cc5b640c",
    "scrolled": true
   },
   "outputs": [
    {
     "data": {
      "image/png": "[encoded data removed]",
      "text/plain": [
       "<Figure size 1080x144 with 1 Axes>"
      ]
     },
     "metadata": {
      "needs_background": "light"
     },
     "output_type": "display_data"
    }
   ],
   "source": [
    "index = np.random.randint(100)\n",
    "plot_sample_image(X_train[index], y_train[index])"
   ]
  },
  {
   "cell_type": "markdown",
   "metadata": {
    "id": "gL5ypIWkHOIE"
   },
   "source": [
    "**Normalize the input data**"
   ]
  },
  {
   "cell_type": "code",
   "execution_count": 6,
   "metadata": {
    "id": "PxewI0kIHOIF"
   },
   "outputs": [],
   "source": [
    "X_train = X_train / 255.0\n",
    "X_test = X_test / 255.0"
   ]
  },
  {
   "cell_type": "code",
   "execution_count": 7,
   "metadata": {
    "colab": {
     "base_uri": "https://localhost:8080/"
    },
    "executionInfo": {
     "elapsed": 26111,
     "status": "ok",
     "timestamp": 1677528362118,
     "user": {
      "displayName": "Nazmul Hasan",
      "userId": "02122416256231585764"
     },
     "user_tz": 420
    },
    "id": "Usv8lPonYXF0",
    "outputId": "50f22df4-c22c-4cb3-fe20-e7dde28aec22"
   },
   "outputs": [],
   "source": [
    "# from google.colab import drive\n",
    "# drive.mount('/content/gdrive')\n",
    "# %cd /content/gdrive/MyDrive/ECE 696B/Project - ECE696B"
   ]
  },
  {
   "cell_type": "markdown",
   "metadata": {
    "id": "O7TkT_B0gx0r"
   },
   "source": [
    "**Load the saved models**"
   ]
  },
  {
   "cell_type": "code",
   "execution_count": 8,
   "metadata": {
    "id": "cacXKz9PZM7l"
   },
   "outputs": [
    {
     "name": "stdout",
     "output_type": "stream",
     "text": [
      "C:\\Users\\nh202\\My Drive (nh202@arizona.edu)\\ECE 696B\\Project - ECE696B\n"
     ]
    }
   ],
   "source": [
    "%cd C:\\Users\\nh202\\My Drive (nh202@arizona.edu)\\ECE 696B\\Project - ECE696B\n",
    "from keras.models import load_model\n",
    "Linear_CIFAR10 = load_model('Linear_CIFAR10.h5')\n",
    "MLP_CIFAR10 = load_model('MLP_CIFAR10.h5')\n",
    "CNN_CIFAR10 = load_model('CNN_CIFAR10.h5')"
   ]
  },
  {
   "cell_type": "code",
   "execution_count": 9,
   "metadata": {},
   "outputs": [
    {
     "name": "stdout",
     "output_type": "stream",
     "text": [
      "C:\\Users\\nh202\\OneDrive - University of Arizona\\Adversairal Examples - ECE 696B\\GNA\n"
     ]
    }
   ],
   "source": [
    "%cd C:\\Users\\nh202\\OneDrive - University of Arizona\\Adversairal Examples - ECE 696B\\GNA"
   ]
  },
  {
   "cell_type": "markdown",
   "metadata": {
    "id": "G1qA-8V5Z-eg"
   },
   "source": [
    "# Gaussian noise attack (GNA)"
   ]
  },
  {
   "cell_type": "markdown",
   "metadata": {
    "id": "WSeqBDh650wP"
   },
   "source": [
    "**Evaluate test accuracy on unperturbed data**"
   ]
  },
  {
   "cell_type": "code",
   "execution_count": 10,
   "metadata": {
    "colab": {
     "base_uri": "https://localhost:8080/"
    },
    "executionInfo": {
     "elapsed": 16924,
     "status": "ok",
     "timestamp": 1677528393455,
     "user": {
      "displayName": "Nazmul Hasan",
      "userId": "02122416256231585764"
     },
     "user_tz": 420
    },
    "id": "cuhEnuwj4lU2",
    "outputId": "2edb84a1-2a81-4d0c-9618-8a7877259242"
   },
   "outputs": [
    {
     "name": "stdout",
     "output_type": "stream",
     "text": [
      "Test accuracy on unperturbed data\n",
      "32/32 [==============================] - 0s 2ms/step - loss: 1.7382 - accuracy: 0.3960\n",
      "32/32 [==============================] - 1s 8ms/step - loss: 1.4203 - accuracy: 0.4930\n",
      "32/32 [==============================] - 3s 74ms/step - loss: 0.3464 - accuracy: 0.8880\n",
      "\n"
     ]
    }
   ],
   "source": [
    "indexes = range(1000)\n",
    "print('Test accuracy on unperturbed data')\n",
    "Linear_CIFAR10.evaluate(X_test[indexes],y_test[indexes])\n",
    "MLP_CIFAR10.evaluate(X_test[indexes],y_test[indexes])\n",
    "CNN_CIFAR10.evaluate(X_test[indexes],y_test[indexes])\n",
    "print()"
   ]
  },
  {
   "cell_type": "markdown",
   "metadata": {
    "id": "Ldgfsee05ypw"
   },
   "source": [
    "**Evaluate test accuracy on perturbed data**"
   ]
  },
  {
   "cell_type": "code",
   "execution_count": 12,
   "metadata": {
    "colab": {
     "base_uri": "https://localhost:8080/"
    },
    "executionInfo": {
     "elapsed": 84790,
     "status": "ok",
     "timestamp": 1677528928281,
     "user": {
      "displayName": "Nazmul Hasan",
      "userId": "02122416256231585764"
     },
     "user_tz": 420
    },
    "id": "gd4HsaoU4mAn",
    "outputId": "78997bba-2090-4b56-eb6c-5efdc9923378"
   },
   "outputs": [
    {
     "name": "stdout",
     "output_type": "stream",
     "text": [
      "Average l2 distance of the perturbation: 0.0\n",
      "\n",
      "Test accuracy on perturbed data\n",
      "32/32 [==============================] - 0s 2ms/step - loss: 1.7382 - accuracy: 0.3960\n",
      "32/32 [==============================] - 0s 8ms/step - loss: 1.4203 - accuracy: 0.4930\n",
      "32/32 [==============================] - 2s 72ms/step - loss: 0.3464 - accuracy: 0.8880\n",
      "\n",
      "\n",
      "Average l2 distance of the perturbation: 5.342810507523255\n",
      "\n",
      "Test accuracy on perturbed data\n",
      "32/32 [==============================] - 0s 1ms/step - loss: 1.7623 - accuracy: 0.3990\n",
      "32/32 [==============================] - 0s 8ms/step - loss: 1.4430 - accuracy: 0.4910\n",
      "32/32 [==============================] - 2s 74ms/step - loss: 4.1989 - accuracy: 0.1650\n",
      "\n",
      "\n",
      "Average l2 distance of the perturbation: 10.099777876518854\n",
      "\n",
      "Test accuracy on perturbed data\n",
      "32/32 [==============================] - 0s 2ms/step - loss: 1.8489 - accuracy: 0.3590\n",
      "32/32 [==============================] - 0s 8ms/step - loss: 1.4851 - accuracy: 0.4650\n",
      "32/32 [==============================] - 2s 76ms/step - loss: 4.1456 - accuracy: 0.1080\n",
      "\n",
      "\n",
      "Average l2 distance of the perturbation: 14.035274273880479\n",
      "\n",
      "Test accuracy on perturbed data\n",
      "32/32 [==============================] - 0s 1ms/step - loss: 1.9222 - accuracy: 0.3410\n",
      "32/32 [==============================] - 0s 8ms/step - loss: 1.6046 - accuracy: 0.4340\n",
      "32/32 [==============================] - 2s 74ms/step - loss: 3.7939 - accuracy: 0.1090\n",
      "\n",
      "\n",
      "Average l2 distance of the perturbation: 17.075173699707396\n",
      "\n",
      "Test accuracy on perturbed data\n",
      "32/32 [==============================] - 0s 2ms/step - loss: 2.0639 - accuracy: 0.2780\n",
      "32/32 [==============================] - 0s 8ms/step - loss: 1.6977 - accuracy: 0.4210\n",
      "32/32 [==============================] - 2s 74ms/step - loss: 3.5280 - accuracy: 0.1220\n",
      "\n",
      "\n",
      "Average l2 distance of the perturbation: 19.38327585790626\n",
      "\n",
      "Test accuracy on perturbed data\n",
      "32/32 [==============================] - 0s 1ms/step - loss: 2.1739 - accuracy: 0.2460\n",
      "32/32 [==============================] - 0s 8ms/step - loss: 1.8230 - accuracy: 0.3790\n",
      "32/32 [==============================] - 3s 81ms/step - loss: 3.4165 - accuracy: 0.1070\n",
      "\n",
      "\n",
      "Average l2 distance of the perturbation: 21.108904851144427\n",
      "\n",
      "Test accuracy on perturbed data\n",
      "32/32 [==============================] - 0s 2ms/step - loss: 2.2143 - accuracy: 0.2510\n",
      "32/32 [==============================] - 0s 8ms/step - loss: 1.8616 - accuracy: 0.3420\n",
      "32/32 [==============================] - 3s 78ms/step - loss: 3.2904 - accuracy: 0.1140\n",
      "\n",
      "\n",
      "Average l2 distance of the perturbation: 22.427679074038362\n",
      "\n",
      "Test accuracy on perturbed data\n",
      "32/32 [==============================] - 0s 1ms/step - loss: 2.3868 - accuracy: 0.2080\n",
      "32/32 [==============================] - 0s 7ms/step - loss: 2.0137 - accuracy: 0.2950\n",
      "32/32 [==============================] - 3s 87ms/step - loss: 3.2904 - accuracy: 0.1120\n",
      "\n",
      "\n",
      "Average l2 distance of the perturbation: 23.459936811784786\n",
      "\n",
      "Test accuracy on perturbed data\n",
      "32/32 [==============================] - 0s 1ms/step - loss: 2.3770 - accuracy: 0.2200\n",
      "32/32 [==============================] - 0s 8ms/step - loss: 2.0885 - accuracy: 0.2750\n",
      "32/32 [==============================] - 3s 88ms/step - loss: 3.2661 - accuracy: 0.0980\n",
      "\n",
      "\n",
      "Average l2 distance of the perturbation: 24.284539696055557\n",
      "\n",
      "Test accuracy on perturbed data\n",
      "32/32 [==============================] - 0s 2ms/step - loss: 2.4616 - accuracy: 0.1990\n",
      "32/32 [==============================] - 0s 7ms/step - loss: 2.1534 - accuracy: 0.2540\n",
      "32/32 [==============================] - 3s 93ms/step - loss: 3.2630 - accuracy: 0.1050\n",
      "\n",
      "\n",
      "Average l2 distance of the perturbation: 24.960499834735444\n",
      "\n",
      "Test accuracy on perturbed data\n",
      "32/32 [==============================] - 0s 1ms/step - loss: 2.5101 - accuracy: 0.1760\n",
      "32/32 [==============================] - 0s 7ms/step - loss: 2.1941 - accuracy: 0.2280\n",
      "32/32 [==============================] - 3s 90ms/step - loss: 3.2257 - accuracy: 0.1170\n",
      "\n",
      "\n"
     ]
    }
   ],
   "source": [
    "sigmas = np.arange(0,1.1,0.1)\n",
    "avg_l2_norm_values = np.empty((0,1))\n",
    "stored_results = []\n",
    "for i in sigmas:\n",
    "  stored_results.append(i)\n",
    "  noise = np.random.normal(size=X_test[indexes].shape, loc=0.0, scale=i)\n",
    "  X_test_noisy = X_test[indexes] + noise\n",
    "  X_test_noisy = np.clip(X_test_noisy, 0, 1)\n",
    "    \n",
    "  filename = 'CIFAR10_X_test_noisy_GNA_sigma' + str(np.round(i,1)) + '.npy'\n",
    "  np.save(filename, X_test_noisy)\n",
    "  \n",
    "  avg_l2_norm = np.mean(np.sqrt(np.sum((X_test_noisy-X_test[indexes])**2, axis=(1,2,3))))\n",
    "  stored_results.append(avg_l2_norm)\n",
    "  print(\"Average l2 distance of the perturbation:\", avg_l2_norm)\n",
    "\n",
    "  print('\\nTest accuracy on perturbed data')\n",
    "  _,Linear_CIFAR10_test_accuray = Linear_CIFAR10.evaluate(X_test_noisy,y_test[indexes])\n",
    "  stored_results.append(Linear_CIFAR10_test_accuray)\n",
    "\n",
    "  _,MLP_CIFAR10_test_accuray = MLP_CIFAR10.evaluate(X_test_noisy,y_test[indexes])\n",
    "  stored_results.append(MLP_CIFAR10_test_accuray)\n",
    "\n",
    "  _,CNN_CIFAR10_test_accuray = CNN_CIFAR10.evaluate(X_test_noisy,y_test[indexes])\n",
    "  stored_results.append(CNN_CIFAR10_test_accuray)\n",
    "\n",
    "  print('\\n')"
   ]
  },
  {
   "cell_type": "code",
   "execution_count": 13,
   "metadata": {
    "colab": {
     "base_uri": "https://localhost:8080/",
     "height": 394
    },
    "executionInfo": {
     "elapsed": 36,
     "status": "ok",
     "timestamp": 1677528928282,
     "user": {
      "displayName": "Nazmul Hasan",
      "userId": "02122416256231585764"
     },
     "user_tz": 420
    },
    "id": "ijc9l6_K8_IO",
    "outputId": "3201cee7-89ce-4b86-dff6-e9bbe304a0c2"
   },
   "outputs": [
    {
     "data": {
      "text/html": [
       "<div>\n",
       "<style scoped>\n",
       "    .dataframe tbody tr th:only-of-type {\n",
       "        vertical-align: middle;\n",
       "    }\n",
       "\n",
       "    .dataframe tbody tr th {\n",
       "        vertical-align: top;\n",
       "    }\n",
       "\n",
       "    .dataframe thead th {\n",
       "        text-align: right;\n",
       "    }\n",
       "</style>\n",
       "<table border=\"1\" class=\"dataframe\">\n",
       "  <thead>\n",
       "    <tr style=\"text-align: right;\">\n",
       "      <th></th>\n",
       "      <th>sigma</th>\n",
       "      <th>avg_l2_norm</th>\n",
       "      <th>Linear_CIFAR10_test_accuray</th>\n",
       "      <th>MLP_CIFAR10_test_accuray</th>\n",
       "      <th>CNN_CIFAR10_test_accuray</th>\n",
       "    </tr>\n",
       "  </thead>\n",
       "  <tbody>\n",
       "    <tr>\n",
       "      <th>0</th>\n",
       "      <td>0.0</td>\n",
       "      <td>0.000000</td>\n",
       "      <td>0.396</td>\n",
       "      <td>0.493</td>\n",
       "      <td>0.888</td>\n",
       "    </tr>\n",
       "    <tr>\n",
       "      <th>1</th>\n",
       "      <td>0.1</td>\n",
       "      <td>5.342811</td>\n",
       "      <td>0.399</td>\n",
       "      <td>0.491</td>\n",
       "      <td>0.165</td>\n",
       "    </tr>\n",
       "    <tr>\n",
       "      <th>2</th>\n",
       "      <td>0.2</td>\n",
       "      <td>10.099778</td>\n",
       "      <td>0.359</td>\n",
       "      <td>0.465</td>\n",
       "      <td>0.108</td>\n",
       "    </tr>\n",
       "    <tr>\n",
       "      <th>3</th>\n",
       "      <td>0.3</td>\n",
       "      <td>14.035274</td>\n",
       "      <td>0.341</td>\n",
       "      <td>0.434</td>\n",
       "      <td>0.109</td>\n",
       "    </tr>\n",
       "    <tr>\n",
       "      <th>4</th>\n",
       "      <td>0.4</td>\n",
       "      <td>17.075174</td>\n",
       "      <td>0.278</td>\n",
       "      <td>0.421</td>\n",
       "      <td>0.122</td>\n",
       "    </tr>\n",
       "    <tr>\n",
       "      <th>5</th>\n",
       "      <td>0.5</td>\n",
       "      <td>19.383276</td>\n",
       "      <td>0.246</td>\n",
       "      <td>0.379</td>\n",
       "      <td>0.107</td>\n",
       "    </tr>\n",
       "    <tr>\n",
       "      <th>6</th>\n",
       "      <td>0.6</td>\n",
       "      <td>21.108905</td>\n",
       "      <td>0.251</td>\n",
       "      <td>0.342</td>\n",
       "      <td>0.114</td>\n",
       "    </tr>\n",
       "    <tr>\n",
       "      <th>7</th>\n",
       "      <td>0.7</td>\n",
       "      <td>22.427679</td>\n",
       "      <td>0.208</td>\n",
       "      <td>0.295</td>\n",
       "      <td>0.112</td>\n",
       "    </tr>\n",
       "    <tr>\n",
       "      <th>8</th>\n",
       "      <td>0.8</td>\n",
       "      <td>23.459937</td>\n",
       "      <td>0.220</td>\n",
       "      <td>0.275</td>\n",
       "      <td>0.098</td>\n",
       "    </tr>\n",
       "    <tr>\n",
       "      <th>9</th>\n",
       "      <td>0.9</td>\n",
       "      <td>24.284540</td>\n",
       "      <td>0.199</td>\n",
       "      <td>0.254</td>\n",
       "      <td>0.105</td>\n",
       "    </tr>\n",
       "    <tr>\n",
       "      <th>10</th>\n",
       "      <td>1.0</td>\n",
       "      <td>24.960500</td>\n",
       "      <td>0.176</td>\n",
       "      <td>0.228</td>\n",
       "      <td>0.117</td>\n",
       "    </tr>\n",
       "  </tbody>\n",
       "</table>\n",
       "</div>"
      ],
      "text/plain": [
       "    sigma  avg_l2_norm  Linear_CIFAR10_test_accuray  MLP_CIFAR10_test_accuray  \\\n",
       "0     0.0     0.000000                        0.396                     0.493   \n",
       "1     0.1     5.342811                        0.399                     0.491   \n",
       "2     0.2    10.099778                        0.359                     0.465   \n",
       "3     0.3    14.035274                        0.341                     0.434   \n",
       "4     0.4    17.075174                        0.278                     0.421   \n",
       "5     0.5    19.383276                        0.246                     0.379   \n",
       "6     0.6    21.108905                        0.251                     0.342   \n",
       "7     0.7    22.427679                        0.208                     0.295   \n",
       "8     0.8    23.459937                        0.220                     0.275   \n",
       "9     0.9    24.284540                        0.199                     0.254   \n",
       "10    1.0    24.960500                        0.176                     0.228   \n",
       "\n",
       "    CNN_CIFAR10_test_accuray  \n",
       "0                      0.888  \n",
       "1                      0.165  \n",
       "2                      0.108  \n",
       "3                      0.109  \n",
       "4                      0.122  \n",
       "5                      0.107  \n",
       "6                      0.114  \n",
       "7                      0.112  \n",
       "8                      0.098  \n",
       "9                      0.105  \n",
       "10                     0.117  "
      ]
     },
     "execution_count": 13,
     "metadata": {},
     "output_type": "execute_result"
    }
   ],
   "source": [
    "stored_results = np.array(stored_results)\n",
    "stored_results = stored_results.reshape(-1,5)\n",
    "df = pd.DataFrame(stored_results, columns = ['sigma','avg_l2_norm','Linear_CIFAR10_test_accuray',\\\n",
    "                                 'MLP_CIFAR10_test_accuray','CNN_CIFAR10_test_accuray'])\n",
    "df.to_csv('Adversarial_Attacks_CIFAR10 [Gaussian Noise Attack].csv', index=False)\n",
    "df"
   ]
  },
  {
   "cell_type": "code",
   "execution_count": 14,
   "metadata": {
    "colab": {
     "base_uri": "https://localhost:8080/",
     "height": 299
    },
    "executionInfo": {
     "elapsed": 469,
     "status": "ok",
     "timestamp": 1677528928743,
     "user": {
      "displayName": "Nazmul Hasan",
      "userId": "02122416256231585764"
     },
     "user_tz": 420
    },
    "id": "5c7D7YPIeQfa",
    "outputId": "58f254fb-ac8e-428b-bfb8-b797003c8e1a"
   },
   "outputs": [
    {
     "data": {
      "image/png": "[encoded data removed]",
      "text/plain": [
       "<Figure size 432x288 with 1 Axes>"
      ]
     },
     "metadata": {
      "needs_background": "light"
     },
     "output_type": "display_data"
    }
   ],
   "source": [
    "df = pd.read_csv('Adversarial_Attacks_CIFAR10 [Gaussian Noise Attack].csv')\n",
    "plt.plot(df['avg_l2_norm'],df['Linear_CIFAR10_test_accuray'],'o-')\n",
    "plt.plot(df['avg_l2_norm'],df['MLP_CIFAR10_test_accuray'],'o--')\n",
    "plt.plot(df['avg_l2_norm'],df['CNN_CIFAR10_test_accuray'],'o-.')\n",
    "plt.xlabel('Average $l_2$ norm of the perturbation')\n",
    "plt.ylabel('Test accuracy')\n",
    "plt.ylim([-0.1, 1.1])\n",
    "plt.legend(['Linear model', 'MLP model','CNN model'])\n",
    "plt.title('Effect of Gaussian noise attack on CIFAR10')\n",
    "plt.savefig('Effect of Gaussian noise attack on CIFAR10 [l2 norm]', dpi=600)\n",
    "plt.show()"
   ]
  },
  {
   "cell_type": "code",
   "execution_count": 11,
   "metadata": {},
   "outputs": [
    {
     "data": {
      "image/png": "[encoded data removed]",
      "text/plain": [
       "<Figure size 432x288 with 1 Axes>"
      ]
     },
     "metadata": {
      "needs_background": "light"
     },
     "output_type": "display_data"
    }
   ],
   "source": [
    "df = pd.read_csv('Adversarial_Attacks_CIFAR10 [Gaussian Noise Attack].csv')\n",
    "plt.plot(df['sigma'],df['Linear_CIFAR10_test_accuray'],'o-')\n",
    "plt.plot(df['sigma'],df['MLP_CIFAR10_test_accuray'],'o--')\n",
    "plt.plot(df['sigma'],df['CNN_CIFAR10_test_accuray'],'o-.')\n",
    "plt.xlabel('$\\sigma$-parameter value')\n",
    "plt.ylabel('Test accuracy')\n",
    "plt.ylim([-0.1, 1.1])\n",
    "plt.legend(['Linear model', 'MLP model','CNN model'])\n",
    "plt.title('Effect of Gaussian noise attack on CIFAR10')\n",
    "plt.savefig('Effect of Gaussian noise attack on CIFAR10 [sigma]', dpi=600)\n",
    "plt.show()"
   ]
  },
  {
   "cell_type": "markdown",
   "metadata": {
    "id": "xrNR5r9buIAm"
   },
   "source": [
    "**Visualize the effect of the added noise**"
   ]
  },
  {
   "cell_type": "code",
   "execution_count": 16,
   "metadata": {
    "colab": {
     "base_uri": "https://localhost:8080/",
     "height": 751
    },
    "executionInfo": {
     "elapsed": 2613,
     "status": "ok",
     "timestamp": 1677528931340,
     "user": {
      "displayName": "Nazmul Hasan",
      "userId": "02122416256231585764"
     },
     "user_tz": 420
    },
    "id": "94rJRpNKr2G6",
    "outputId": "f2aebbcf-e684-4d4a-d84f-f939bd592e3c"
   },
   "outputs": [
    {
     "data": {
      "image/png": "[encoded data removed]",
      "text/plain": [
       "<Figure size 1080x144 with 1 Axes>"
      ]
     },
     "metadata": {
      "needs_background": "light"
     },
     "output_type": "display_data"
    },
    {
     "name": "stdout",
     "output_type": "stream",
     "text": [
      "1/1 [==============================] - 0s 69ms/step\n"
     ]
    },
    {
     "data": {
      "image/png": "[encoded data removed]",
      "text/plain": [
       "<Figure size 1080x144 with 1 Axes>"
      ]
     },
     "metadata": {
      "needs_background": "light"
     },
     "output_type": "display_data"
    },
    {
     "name": "stdout",
     "output_type": "stream",
     "text": [
      "1/1 [==============================] - 0s 147ms/step\n"
     ]
    },
    {
     "data": {
      "image/png": "[encoded data removed]",
      "text/plain": [
       "<Figure size 1080x144 with 1 Axes>"
      ]
     },
     "metadata": {
      "needs_background": "light"
     },
     "output_type": "display_data"
    },
    {
     "name": "stdout",
     "output_type": "stream",
     "text": [
      "1/1 [==============================] - 0s 387ms/step\n"
     ]
    },
    {
     "data": {
      "image/png": "[encoded data removed]",
      "text/plain": [
       "<Figure size 1080x144 with 1 Axes>"
      ]
     },
     "metadata": {
      "needs_background": "light"
     },
     "output_type": "display_data"
    }
   ],
   "source": [
    "index = 100\n",
    "plot_sample_image(X_test[index], y_test[index])\n",
    "plt.title('Original Image'); plt.show()\n",
    "\n",
    "noise = np.random.normal(size=X_test.shape, loc=0.0, scale=0.1) # Tune scale here\n",
    "X_test_noisy = X_test + noise\n",
    "X_test_noisy = np.clip(X_test_noisy, 0, 1)\n",
    "\n",
    "plot_sample_image(X_test_noisy[index], np.argmax(Linear_CIFAR10.predict(X_test_noisy[index][np.newaxis, ...])))\n",
    "plt.title('Prediction by Linear model'); plt.show()\n",
    "plot_sample_image(X_test_noisy[index], np.argmax(MLP_CIFAR10.predict(X_test_noisy[index][np.newaxis, ...])))\n",
    "plt.title('Prediction by MLP model'); plt.show()\n",
    "plot_sample_image(X_test_noisy[index], np.argmax(CNN_CIFAR10.predict(X_test_noisy[index][np.newaxis, ...])))\n",
    "plt.title('Prediction by CNN model'); plt.show()"
   ]
  }
 ],
 "metadata": {
  "accelerator": "GPU",
  "colab": {
   "provenance": [
    {
     "file_id": "17t5wZdiu4KbtR9opaQcMZECSJAndropo",
     "timestamp": 1674347819943
    }
   ]
  },
  "gpuClass": "standard",
  "kernelspec": {
   "display_name": "Python 3",
   "language": "python",
   "name": "python3"
  },
  "language_info": {
   "codemirror_mode": {
    "name": "ipython",
    "version": 3
   },
   "file_extension": ".py",
   "mimetype": "text/x-python",
   "name": "python",
   "nbconvert_exporter": "python",
   "pygments_lexer": "ipython3",
   "version": "3.8.8"
  }
 },
 "nbformat": 4,
 "nbformat_minor": 1
}
