{
 "cells": [
  {
   "cell_type": "markdown",
   "metadata": {
    "id": "aiSUzqR_k38-"
   },
   "source": [
    "**Import packages**"
   ]
  },
  {
   "cell_type": "code",
   "execution_count": 27,
   "metadata": {
    "colab": {
     "base_uri": "https://localhost:8080/"
    },
    "executionInfo": {
     "elapsed": 6075,
     "status": "ok",
     "timestamp": 1678467624635,
     "user": {
      "displayName": "Nazmul Hasan",
      "userId": "02122416256231585764"
     },
     "user_tz": 420
    },
    "id": "ad5wwLh9culg",
    "outputId": "3a26d4f2-1957-4820-bcae-5a769878ff9c"
   },
   "outputs": [
    {
     "name": "stdout",
     "output_type": "stream",
     "text": [
      "Requirement already satisfied: pytictoc in c:\\programdata\\anaconda3\\lib\\site-packages (1.5.2)\n"
     ]
    }
   ],
   "source": [
    "!pip install pytictoc"
   ]
  },
  {
   "cell_type": "code",
   "execution_count": 28,
   "metadata": {
    "id": "TtE3hMD0_-HW",
    "outputId": "507021dc-f2a8-47e3-bc0e-5ec6062885fb"
   },
   "outputs": [
    {
     "name": "stdout",
     "output_type": "stream",
     "text": [
      "Requirement already satisfied: tensorflow in c:\\programdata\\anaconda3\\lib\\site-packages (2.11.0)\n",
      "Requirement already satisfied: tensorflow-intel==2.11.0 in c:\\programdata\\anaconda3\\lib\\site-packages (from tensorflow) (2.11.0)\n",
      "Requirement already satisfied: google-pasta>=0.1.1 in c:\\programdata\\anaconda3\\lib\\site-packages (from tensorflow-intel==2.11.0->tensorflow) (0.2.0)\n",
      "Requirement already satisfied: six>=1.12.0 in c:\\programdata\\anaconda3\\lib\\site-packages (from tensorflow-intel==2.11.0->tensorflow) (1.15.0)\n",
      "Requirement already satisfied: astunparse>=1.6.0 in c:\\programdata\\anaconda3\\lib\\site-packages (from tensorflow-intel==2.11.0->tensorflow) (1.6.3)\n",
      "Requirement already satisfied: opt-einsum>=2.3.2 in c:\\programdata\\anaconda3\\lib\\site-packages (from tensorflow-intel==2.11.0->tensorflow) (3.3.0)\n",
      "Requirement already satisfied: tensorboard<2.12,>=2.11 in c:\\programdata\\anaconda3\\lib\\site-packages (from tensorflow-intel==2.11.0->tensorflow) (2.11.2)\n",
      "Requirement already satisfied: h5py>=2.9.0 in c:\\programdata\\anaconda3\\lib\\site-packages (from tensorflow-intel==2.11.0->tensorflow) (2.10.0)\n",
      "Requirement already satisfied: wrapt>=1.11.0 in c:\\programdata\\anaconda3\\lib\\site-packages (from tensorflow-intel==2.11.0->tensorflow) (1.12.1)\n",
      "Requirement already satisfied: absl-py>=1.0.0 in c:\\programdata\\anaconda3\\lib\\site-packages (from tensorflow-intel==2.11.0->tensorflow) (1.4.0)\n",
      "Requirement already satisfied: flatbuffers>=2.0 in c:\\programdata\\anaconda3\\lib\\site-packages (from tensorflow-intel==2.11.0->tensorflow) (23.3.3)\n",
      "Requirement already satisfied: typing-extensions>=3.6.6 in c:\\programdata\\anaconda3\\lib\\site-packages (from tensorflow-intel==2.11.0->tensorflow) (3.7.4.3)\n",
      "Requirement already satisfied: setuptools in c:\\programdata\\anaconda3\\lib\\site-packages (from tensorflow-intel==2.11.0->tensorflow) (52.0.0.post20210125)\n",
      "Requirement already satisfied: grpcio<2.0,>=1.24.3 in c:\\programdata\\anaconda3\\lib\\site-packages (from tensorflow-intel==2.11.0->tensorflow) (1.51.3)\n",
      "Requirement already satisfied: numpy>=1.20 in c:\\programdata\\anaconda3\\lib\\site-packages (from tensorflow-intel==2.11.0->tensorflow) (1.20.1)\n",
      "Requirement already satisfied: tensorflow-estimator<2.12,>=2.11.0 in c:\\programdata\\anaconda3\\lib\\site-packages (from tensorflow-intel==2.11.0->tensorflow) (2.11.0)\n",
      "Requirement already satisfied: packaging in c:\\programdata\\anaconda3\\lib\\site-packages (from tensorflow-intel==2.11.0->tensorflow) (20.9)\n",
      "Requirement already satisfied: keras<2.12,>=2.11.0 in c:\\programdata\\anaconda3\\lib\\site-packages (from tensorflow-intel==2.11.0->tensorflow) (2.11.0)\n",
      "Requirement already satisfied: gast<=0.4.0,>=0.2.1 in c:\\programdata\\anaconda3\\lib\\site-packages (from tensorflow-intel==2.11.0->tensorflow) (0.4.0)\n",
      "Requirement already satisfied: protobuf<3.20,>=3.9.2 in c:\\programdata\\anaconda3\\lib\\site-packages (from tensorflow-intel==2.11.0->tensorflow) (3.19.6)\n",
      "Requirement already satisfied: tensorflow-io-gcs-filesystem>=0.23.1 in c:\\programdata\\anaconda3\\lib\\site-packages (from tensorflow-intel==2.11.0->tensorflow) (0.31.0)\n",
      "Requirement already satisfied: libclang>=13.0.0 in c:\\programdata\\anaconda3\\lib\\site-packages (from tensorflow-intel==2.11.0->tensorflow) (15.0.6.1)\n",
      "Requirement already satisfied: termcolor>=1.1.0 in c:\\programdata\\anaconda3\\lib\\site-packages (from tensorflow-intel==2.11.0->tensorflow) (2.2.0)\n",
      "Requirement already satisfied: wheel<1.0,>=0.23.0 in c:\\programdata\\anaconda3\\lib\\site-packages (from astunparse>=1.6.0->tensorflow-intel==2.11.0->tensorflow) (0.36.2)\n",
      "Requirement already satisfied: tensorboard-data-server<0.7.0,>=0.6.0 in c:\\programdata\\anaconda3\\lib\\site-packages (from tensorboard<2.12,>=2.11->tensorflow-intel==2.11.0->tensorflow) (0.6.1)\n",
      "Requirement already satisfied: werkzeug>=1.0.1 in c:\\programdata\\anaconda3\\lib\\site-packages (from tensorboard<2.12,>=2.11->tensorflow-intel==2.11.0->tensorflow) (1.0.1)\n",
      "Requirement already satisfied: requests<3,>=2.21.0 in c:\\programdata\\anaconda3\\lib\\site-packages (from tensorboard<2.12,>=2.11->tensorflow-intel==2.11.0->tensorflow) (2.25.1)\n",
      "Requirement already satisfied: google-auth-oauthlib<0.5,>=0.4.1 in c:\\programdata\\anaconda3\\lib\\site-packages (from tensorboard<2.12,>=2.11->tensorflow-intel==2.11.0->tensorflow) (0.4.6)\n",
      "Requirement already satisfied: tensorboard-plugin-wit>=1.6.0 in c:\\programdata\\anaconda3\\lib\\site-packages (from tensorboard<2.12,>=2.11->tensorflow-intel==2.11.0->tensorflow) (1.8.1)\n",
      "Requirement already satisfied: google-auth<3,>=1.6.3 in c:\\programdata\\anaconda3\\lib\\site-packages (from tensorboard<2.12,>=2.11->tensorflow-intel==2.11.0->tensorflow) (2.16.2)\n",
      "Requirement already satisfied: markdown>=2.6.8 in c:\\programdata\\anaconda3\\lib\\site-packages (from tensorboard<2.12,>=2.11->tensorflow-intel==2.11.0->tensorflow) (3.4.1)\n",
      "Requirement already satisfied: rsa<5,>=3.1.4 in c:\\programdata\\anaconda3\\lib\\site-packages (from google-auth<3,>=1.6.3->tensorboard<2.12,>=2.11->tensorflow-intel==2.11.0->tensorflow) (4.9)\n",
      "Requirement already satisfied: cachetools<6.0,>=2.0.0 in c:\\programdata\\anaconda3\\lib\\site-packages (from google-auth<3,>=1.6.3->tensorboard<2.12,>=2.11->tensorflow-intel==2.11.0->tensorflow) (5.3.0)\n",
      "Requirement already satisfied: pyasn1-modules>=0.2.1 in c:\\programdata\\anaconda3\\lib\\site-packages (from google-auth<3,>=1.6.3->tensorboard<2.12,>=2.11->tensorflow-intel==2.11.0->tensorflow) (0.2.8)\n",
      "Requirement already satisfied: requests-oauthlib>=0.7.0 in c:\\programdata\\anaconda3\\lib\\site-packages (from google-auth-oauthlib<0.5,>=0.4.1->tensorboard<2.12,>=2.11->tensorflow-intel==2.11.0->tensorflow) (1.3.1)\n",
      "Requirement already satisfied: importlib-metadata>=4.4 in c:\\programdata\\anaconda3\\lib\\site-packages (from markdown>=2.6.8->tensorboard<2.12,>=2.11->tensorflow-intel==2.11.0->tensorflow) (6.0.0)\n",
      "Requirement already satisfied: zipp>=0.5 in c:\\programdata\\anaconda3\\lib\\site-packages (from importlib-metadata>=4.4->markdown>=2.6.8->tensorboard<2.12,>=2.11->tensorflow-intel==2.11.0->tensorflow) (3.4.1)\n",
      "Requirement already satisfied: pyasn1<0.5.0,>=0.4.6 in c:\\programdata\\anaconda3\\lib\\site-packages (from pyasn1-modules>=0.2.1->google-auth<3,>=1.6.3->tensorboard<2.12,>=2.11->tensorflow-intel==2.11.0->tensorflow) (0.4.8)\n",
      "Requirement already satisfied: idna<3,>=2.5 in c:\\programdata\\anaconda3\\lib\\site-packages (from requests<3,>=2.21.0->tensorboard<2.12,>=2.11->tensorflow-intel==2.11.0->tensorflow) (2.10)\n",
      "Requirement already satisfied: urllib3<1.27,>=1.21.1 in c:\\programdata\\anaconda3\\lib\\site-packages (from requests<3,>=2.21.0->tensorboard<2.12,>=2.11->tensorflow-intel==2.11.0->tensorflow) (1.26.4)\n",
      "Requirement already satisfied: chardet<5,>=3.0.2 in c:\\programdata\\anaconda3\\lib\\site-packages (from requests<3,>=2.21.0->tensorboard<2.12,>=2.11->tensorflow-intel==2.11.0->tensorflow) (4.0.0)\n",
      "Requirement already satisfied: certifi>=2017.4.17 in c:\\programdata\\anaconda3\\lib\\site-packages (from requests<3,>=2.21.0->tensorboard<2.12,>=2.11->tensorflow-intel==2.11.0->tensorflow) (2020.12.5)\n",
      "Requirement already satisfied: oauthlib>=3.0.0 in c:\\programdata\\anaconda3\\lib\\site-packages (from requests-oauthlib>=0.7.0->google-auth-oauthlib<0.5,>=0.4.1->tensorboard<2.12,>=2.11->tensorflow-intel==2.11.0->tensorflow) (3.2.2)\n",
      "Requirement already satisfied: pyparsing>=2.0.2 in c:\\programdata\\anaconda3\\lib\\site-packages (from packaging->tensorflow-intel==2.11.0->tensorflow) (2.4.7)\n"
     ]
    }
   ],
   "source": [
    "!pip install tensorflow"
   ]
  },
  {
   "cell_type": "code",
   "execution_count": 29,
   "metadata": {
    "id": "_z7kPblcHOH1"
   },
   "outputs": [],
   "source": [
    "import random\n",
    "import tensorflow as tf\n",
    "import pandas as pd\n",
    "from tensorflow import keras\n",
    "from keras import datasets, layers, models\n",
    "import matplotlib.pyplot as plt\n",
    "import numpy as np\n",
    "import warnings\n",
    "from pytictoc import TicToc\n",
    "warnings.filterwarnings( \"ignore\" )"
   ]
  },
  {
   "cell_type": "markdown",
   "metadata": {
    "id": "e7iTQt51HOH3"
   },
   "source": [
    "**Load the dataset**"
   ]
  },
  {
   "cell_type": "code",
   "execution_count": 30,
   "metadata": {
    "colab": {
     "base_uri": "https://localhost:8080/"
    },
    "executionInfo": {
     "elapsed": 799,
     "status": "ok",
     "timestamp": 1678467635038,
     "user": {
      "displayName": "Nazmul Hasan",
      "userId": "02122416256231585764"
     },
     "user_tz": 420
    },
    "id": "rPRPSMuwHOH4",
    "outputId": "106fdb96-7d3c-4d9b-ba7d-85d264a97f1f"
   },
   "outputs": [
    {
     "data": {
      "text/plain": [
       "((60000, 28, 28), (60000,), (10000, 28, 28), (10000,))"
      ]
     },
     "execution_count": 30,
     "metadata": {},
     "output_type": "execute_result"
    }
   ],
   "source": [
    "(X_train, y_train), (X_test,y_test) = datasets.mnist.load_data()\n",
    "X_train.shape, y_train.shape, X_test.shape, y_test.shape"
   ]
  },
  {
   "cell_type": "markdown",
   "metadata": {
    "id": "gL5ypIWkHOIE"
   },
   "source": [
    "**Normalize the input data**"
   ]
  },
  {
   "cell_type": "code",
   "execution_count": 31,
   "metadata": {
    "id": "PxewI0kIHOIF"
   },
   "outputs": [],
   "source": [
    "X_train = X_train / 255.0\n",
    "X_test = X_test / 255.0"
   ]
  },
  {
   "cell_type": "markdown",
   "metadata": {
    "id": "Z_nl74yGFrHT"
   },
   "source": [
    "**Set directory to saved models**"
   ]
  },
  {
   "cell_type": "code",
   "execution_count": 32,
   "metadata": {
    "id": "Usv8lPonYXF0"
   },
   "outputs": [],
   "source": [
    "# from google.colab import drive\n",
    "# drive.mount('/content/gdrive')\n",
    "# %cd /content/gdrive/MyDrive/ECE 696B/Project - ECE696B\n",
    "# # %cd /content/gdrive/MyDrive/Colab Notebooks"
   ]
  },
  {
   "cell_type": "code",
   "execution_count": 33,
   "metadata": {
    "id": "DiuPFzjkDRUx",
    "outputId": "f51eb61f-de69-40ab-b783-db0bc084f705"
   },
   "outputs": [
    {
     "name": "stdout",
     "output_type": "stream",
     "text": [
      "C:\\Users\\nh202\\My Drive (nh202@arizona.edu)\\ECE 696B\\Project - ECE696B\n"
     ]
    }
   ],
   "source": [
    "%cd C:\\Users\\nh202\\My Drive (nh202@arizona.edu)\\ECE 696B\\Project - ECE696B"
   ]
  },
  {
   "cell_type": "code",
   "execution_count": 34,
   "metadata": {
    "id": "SAx4NoIYDgzZ"
   },
   "outputs": [],
   "source": [
    "from keras.models import load_model\n",
    "MLP_MNIST_base = load_model('MLP_MNIST.h5')\n",
    "MLP_MNIST_GNA_trained = load_model('MLP_MNIST_GNA_trained.h5')\n",
    "MLP_MNIST_FGSM_trained = load_model('MLP_MNIST_FGSM_trained.h5')\n",
    "MLP_MNIST_CW_trained = load_model('MLP_MNIST_CW_trained.h5')"
   ]
  },
  {
   "cell_type": "markdown",
   "metadata": {
    "id": "G1qA-8V5Z-eg"
   },
   "source": [
    "# Evaluate performance of MLP models"
   ]
  },
  {
   "cell_type": "markdown",
   "metadata": {
    "id": "uFedzBTJFx7-"
   },
   "source": [
    "**Performance on GNA adversarial examples**"
   ]
  },
  {
   "cell_type": "code",
   "execution_count": 35,
   "metadata": {
    "id": "rQRTiDohFlGt",
    "outputId": "addc75dc-265a-4d05-fc13-399e9f40aa4a"
   },
   "outputs": [
    {
     "name": "stdout",
     "output_type": "stream",
     "text": [
      "C:\\Users\\nh202\\OneDrive - University of Arizona\\Adversairal Examples - ECE 696B\\GNA\n"
     ]
    }
   ],
   "source": [
    "%cd C:\\Users\\nh202\\OneDrive - University of Arizona\\Adversairal Examples - ECE 696B\\GNA"
   ]
  },
  {
   "cell_type": "code",
   "execution_count": 36,
   "metadata": {
    "id": "6kV976-9EU-V",
    "outputId": "fffa23f5-bea0-46bc-b0f7-b2e7d4234b8b"
   },
   "outputs": [
    {
     "name": "stdout",
     "output_type": "stream",
     "text": [
      "Sigma value: 0.0\n",
      "Average l2 distance of the perturbation: 0.0\n",
      "\n",
      "Test accuracy on perturbed data\n",
      "32/32 [==============================] - 0s 1ms/step - loss: 0.0963 - accuracy: 0.9740\n",
      "32/32 [==============================] - 0s 1ms/step - loss: 0.1040 - accuracy: 0.9710\n",
      "32/32 [==============================] - 0s 2ms/step - loss: 0.1001 - accuracy: 0.9690\n",
      "32/32 [==============================] - 0s 1ms/step - loss: 0.1029 - accuracy: 0.9660\n",
      "\n",
      "\n",
      "Sigma value: 0.1\n",
      "Average l2 distance of the perturbation: 2.066130566536646\n",
      "\n",
      "Test accuracy on perturbed data\n",
      "32/32 [==============================] - 0s 1ms/step - loss: 0.2185 - accuracy: 0.9350\n",
      "32/32 [==============================] - 0s 1ms/step - loss: 0.1213 - accuracy: 0.9660\n",
      "32/32 [==============================] - 0s 3ms/step - loss: 0.1602 - accuracy: 0.9530\n",
      "32/32 [==============================] - 0s 1ms/step - loss: 2.3043 - accuracy: 0.1490\n",
      "\n",
      "\n",
      "Sigma value: 0.2\n",
      "Average l2 distance of the perturbation: 4.067851809879554\n",
      "\n",
      "Test accuracy on perturbed data\n",
      "32/32 [==============================] - 0s 1ms/step - loss: 1.0790 - accuracy: 0.7310\n",
      "32/32 [==============================] - 0s 2ms/step - loss: 0.1911 - accuracy: 0.9450\n",
      "32/32 [==============================] - 0s 1ms/step - loss: 0.4903 - accuracy: 0.8750\n",
      "32/32 [==============================] - 0s 2ms/step - loss: 2.2964 - accuracy: 0.1340\n",
      "\n",
      "\n",
      "Sigma value: 0.3\n",
      "Average l2 distance of the perturbation: 6.0360986091056335\n",
      "\n",
      "Test accuracy on perturbed data\n",
      "32/32 [==============================] - 0s 1ms/step - loss: 2.7598 - accuracy: 0.5480\n",
      "32/32 [==============================] - 0s 1ms/step - loss: 0.3711 - accuracy: 0.9010\n",
      "32/32 [==============================] - 0s 2ms/step - loss: 1.6759 - accuracy: 0.7130\n",
      "32/32 [==============================] - 0s 2ms/step - loss: 2.3026 - accuracy: 0.1270\n",
      "\n",
      "\n",
      "Sigma value: 0.4\n",
      "Average l2 distance of the perturbation: 7.875701370291492\n",
      "\n",
      "Test accuracy on perturbed data\n",
      "32/32 [==============================] - 0s 1ms/step - loss: 4.6521 - accuracy: 0.4430\n",
      "32/32 [==============================] - 0s 2ms/step - loss: 0.7514 - accuracy: 0.8130\n",
      "32/32 [==============================] - 0s 3ms/step - loss: 3.9025 - accuracy: 0.5270\n",
      "32/32 [==============================] - 0s 2ms/step - loss: 2.3016 - accuracy: 0.1260\n",
      "\n",
      "\n",
      "Sigma value: 0.5\n",
      "Average l2 distance of the perturbation: 9.512928544477452\n",
      "\n",
      "Test accuracy on perturbed data\n",
      "32/32 [==============================] - 0s 2ms/step - loss: 7.0551 - accuracy: 0.3550\n",
      "32/32 [==============================] - 0s 2ms/step - loss: 1.6163 - accuracy: 0.6850\n",
      "32/32 [==============================] - 0s 2ms/step - loss: 6.3488 - accuracy: 0.4450\n",
      "32/32 [==============================] - 0s 2ms/step - loss: 2.3019 - accuracy: 0.1260\n",
      "\n",
      "\n",
      "Sigma value: 0.6\n",
      "Average l2 distance of the perturbation: 10.834167591639122\n",
      "\n",
      "Test accuracy on perturbed data\n",
      "32/32 [==============================] - 0s 3ms/step - loss: 8.6054 - accuracy: 0.3160\n",
      "32/32 [==============================] - 0s 2ms/step - loss: 2.6647 - accuracy: 0.5730\n",
      "32/32 [==============================] - 0s 3ms/step - loss: 9.0247 - accuracy: 0.3210\n",
      "32/32 [==============================] - 0s 1ms/step - loss: 2.3017 - accuracy: 0.1260\n",
      "\n",
      "\n",
      "Sigma value: 0.7\n",
      "Average l2 distance of the perturbation: 11.929506341770034\n",
      "\n",
      "Test accuracy on perturbed data\n",
      "32/32 [==============================] - 0s 2ms/step - loss: 10.1666 - accuracy: 0.2690\n",
      "32/32 [==============================] - 0s 2ms/step - loss: 3.5291 - accuracy: 0.4980\n",
      "32/32 [==============================] - 0s 2ms/step - loss: 10.7790 - accuracy: 0.2830\n",
      "32/32 [==============================] - 0s 1ms/step - loss: 2.3017 - accuracy: 0.1260\n",
      "\n",
      "\n",
      "Sigma value: 0.8\n",
      "Average l2 distance of the perturbation: 12.802478547600437\n",
      "\n",
      "Test accuracy on perturbed data\n",
      "32/32 [==============================] - 0s 2ms/step - loss: 11.4347 - accuracy: 0.2300\n",
      "32/32 [==============================] - 0s 1ms/step - loss: 4.4280 - accuracy: 0.4460\n",
      "32/32 [==============================] - 0s 2ms/step - loss: 13.3197 - accuracy: 0.2240\n",
      "32/32 [==============================] - 0s 2ms/step - loss: 2.3017 - accuracy: 0.1260\n",
      "\n",
      "\n",
      "Sigma value: 0.9\n",
      "Average l2 distance of the perturbation: 13.493690626766867\n",
      "\n",
      "Test accuracy on perturbed data\n",
      "32/32 [==============================] - 0s 2ms/step - loss: 12.4841 - accuracy: 0.2110\n",
      "32/32 [==============================] - 0s 2ms/step - loss: 5.3362 - accuracy: 0.3730\n",
      "32/32 [==============================] - 0s 2ms/step - loss: 15.1782 - accuracy: 0.2260\n",
      "32/32 [==============================] - 0s 1ms/step - loss: 2.3017 - accuracy: 0.1260\n",
      "\n",
      "\n",
      "Sigma value: 1.0\n",
      "Average l2 distance of the perturbation: 14.064882254672023\n",
      "\n",
      "Test accuracy on perturbed data\n",
      "32/32 [==============================] - 0s 2ms/step - loss: 13.1570 - accuracy: 0.1950\n",
      "32/32 [==============================] - 0s 2ms/step - loss: 6.1921 - accuracy: 0.3630\n",
      "32/32 [==============================] - 0s 1ms/step - loss: 15.4426 - accuracy: 0.2100\n",
      "32/32 [==============================] - 0s 2ms/step - loss: 2.3017 - accuracy: 0.1260\n",
      "\n",
      "\n"
     ]
    }
   ],
   "source": [
    "indexes = range(1000)\n",
    "sigmas = np.arange(0,1.1,0.1)\n",
    "stored_results = []\n",
    "for i in sigmas:\n",
    "  print(f'Sigma value: {np.round(i,1)}')\n",
    "  stored_results.append(i)\n",
    "    \n",
    "  filename = 'MNIST_X_test_noisy_GNA_sigma' + str(np.round(i,1)) + '.npy'\n",
    "  X_test_noisy = np.load(filename)\n",
    "  \n",
    "  avg_l2_norm = np.mean(np.sqrt(np.sum((X_test_noisy-X_test[indexes])**2, axis=(1,2))))\n",
    "  stored_results.append(avg_l2_norm)\n",
    "  print(\"Average l2 distance of the perturbation:\", avg_l2_norm)\n",
    "\n",
    "  print('\\nTest accuracy on perturbed data')\n",
    "  _,accuracy = MLP_MNIST_base.evaluate(X_test_noisy,y_test[indexes])\n",
    "  stored_results.append(accuracy)\n",
    "\n",
    "  _,accuracy = MLP_MNIST_GNA_trained.evaluate(X_test_noisy,y_test[indexes])\n",
    "  stored_results.append(accuracy)\n",
    "\n",
    "  _,accuracy = MLP_MNIST_FGSM_trained.evaluate(X_test_noisy,y_test[indexes])\n",
    "  stored_results.append(accuracy)\n",
    "\n",
    "  _,accuracy = MLP_MNIST_CW_trained.evaluate(X_test_noisy,y_test[indexes])\n",
    "  stored_results.append(accuracy)\n",
    "\n",
    "  print('\\n')"
   ]
  },
  {
   "cell_type": "code",
   "execution_count": 37,
   "metadata": {
    "id": "ISyENOQPEovC",
    "outputId": "6dcda473-5f92-4339-fa09-e6ef34199eb6"
   },
   "outputs": [
    {
     "data": {
      "text/html": [
       "<div>\n",
       "<style scoped>\n",
       "    .dataframe tbody tr th:only-of-type {\n",
       "        vertical-align: middle;\n",
       "    }\n",
       "\n",
       "    .dataframe tbody tr th {\n",
       "        vertical-align: top;\n",
       "    }\n",
       "\n",
       "    .dataframe thead th {\n",
       "        text-align: right;\n",
       "    }\n",
       "</style>\n",
       "<table border=\"1\" class=\"dataframe\">\n",
       "  <thead>\n",
       "    <tr style=\"text-align: right;\">\n",
       "      <th></th>\n",
       "      <th>sigma</th>\n",
       "      <th>avg_l2_norm</th>\n",
       "      <th>MLP_MNIST_base</th>\n",
       "      <th>MLP_MNIST_GNA_trained</th>\n",
       "      <th>MLP_MNIST_FGSM_trained</th>\n",
       "      <th>MLP_MNIST_CW_trained</th>\n",
       "    </tr>\n",
       "  </thead>\n",
       "  <tbody>\n",
       "    <tr>\n",
       "      <th>0</th>\n",
       "      <td>0.0</td>\n",
       "      <td>0.000000</td>\n",
       "      <td>0.974</td>\n",
       "      <td>0.971</td>\n",
       "      <td>0.969</td>\n",
       "      <td>0.966</td>\n",
       "    </tr>\n",
       "    <tr>\n",
       "      <th>1</th>\n",
       "      <td>0.1</td>\n",
       "      <td>2.066131</td>\n",
       "      <td>0.935</td>\n",
       "      <td>0.966</td>\n",
       "      <td>0.953</td>\n",
       "      <td>0.149</td>\n",
       "    </tr>\n",
       "    <tr>\n",
       "      <th>2</th>\n",
       "      <td>0.2</td>\n",
       "      <td>4.067852</td>\n",
       "      <td>0.731</td>\n",
       "      <td>0.945</td>\n",
       "      <td>0.875</td>\n",
       "      <td>0.134</td>\n",
       "    </tr>\n",
       "    <tr>\n",
       "      <th>3</th>\n",
       "      <td>0.3</td>\n",
       "      <td>6.036099</td>\n",
       "      <td>0.548</td>\n",
       "      <td>0.901</td>\n",
       "      <td>0.713</td>\n",
       "      <td>0.127</td>\n",
       "    </tr>\n",
       "    <tr>\n",
       "      <th>4</th>\n",
       "      <td>0.4</td>\n",
       "      <td>7.875701</td>\n",
       "      <td>0.443</td>\n",
       "      <td>0.813</td>\n",
       "      <td>0.527</td>\n",
       "      <td>0.126</td>\n",
       "    </tr>\n",
       "    <tr>\n",
       "      <th>5</th>\n",
       "      <td>0.5</td>\n",
       "      <td>9.512929</td>\n",
       "      <td>0.355</td>\n",
       "      <td>0.685</td>\n",
       "      <td>0.445</td>\n",
       "      <td>0.126</td>\n",
       "    </tr>\n",
       "    <tr>\n",
       "      <th>6</th>\n",
       "      <td>0.6</td>\n",
       "      <td>10.834168</td>\n",
       "      <td>0.316</td>\n",
       "      <td>0.573</td>\n",
       "      <td>0.321</td>\n",
       "      <td>0.126</td>\n",
       "    </tr>\n",
       "    <tr>\n",
       "      <th>7</th>\n",
       "      <td>0.7</td>\n",
       "      <td>11.929506</td>\n",
       "      <td>0.269</td>\n",
       "      <td>0.498</td>\n",
       "      <td>0.283</td>\n",
       "      <td>0.126</td>\n",
       "    </tr>\n",
       "    <tr>\n",
       "      <th>8</th>\n",
       "      <td>0.8</td>\n",
       "      <td>12.802479</td>\n",
       "      <td>0.230</td>\n",
       "      <td>0.446</td>\n",
       "      <td>0.224</td>\n",
       "      <td>0.126</td>\n",
       "    </tr>\n",
       "    <tr>\n",
       "      <th>9</th>\n",
       "      <td>0.9</td>\n",
       "      <td>13.493691</td>\n",
       "      <td>0.211</td>\n",
       "      <td>0.373</td>\n",
       "      <td>0.226</td>\n",
       "      <td>0.126</td>\n",
       "    </tr>\n",
       "    <tr>\n",
       "      <th>10</th>\n",
       "      <td>1.0</td>\n",
       "      <td>14.064882</td>\n",
       "      <td>0.195</td>\n",
       "      <td>0.363</td>\n",
       "      <td>0.210</td>\n",
       "      <td>0.126</td>\n",
       "    </tr>\n",
       "  </tbody>\n",
       "</table>\n",
       "</div>"
      ],
      "text/plain": [
       "    sigma  avg_l2_norm  MLP_MNIST_base  MLP_MNIST_GNA_trained  \\\n",
       "0     0.0     0.000000           0.974                  0.971   \n",
       "1     0.1     2.066131           0.935                  0.966   \n",
       "2     0.2     4.067852           0.731                  0.945   \n",
       "3     0.3     6.036099           0.548                  0.901   \n",
       "4     0.4     7.875701           0.443                  0.813   \n",
       "5     0.5     9.512929           0.355                  0.685   \n",
       "6     0.6    10.834168           0.316                  0.573   \n",
       "7     0.7    11.929506           0.269                  0.498   \n",
       "8     0.8    12.802479           0.230                  0.446   \n",
       "9     0.9    13.493691           0.211                  0.373   \n",
       "10    1.0    14.064882           0.195                  0.363   \n",
       "\n",
       "    MLP_MNIST_FGSM_trained  MLP_MNIST_CW_trained  \n",
       "0                    0.969                 0.966  \n",
       "1                    0.953                 0.149  \n",
       "2                    0.875                 0.134  \n",
       "3                    0.713                 0.127  \n",
       "4                    0.527                 0.126  \n",
       "5                    0.445                 0.126  \n",
       "6                    0.321                 0.126  \n",
       "7                    0.283                 0.126  \n",
       "8                    0.224                 0.126  \n",
       "9                    0.226                 0.126  \n",
       "10                   0.210                 0.126  "
      ]
     },
     "execution_count": 37,
     "metadata": {},
     "output_type": "execute_result"
    }
   ],
   "source": [
    "stored_results = np.array(stored_results)\n",
    "stored_results = stored_results.reshape(-1,6)\n",
    "df = pd.DataFrame(stored_results, columns = ['sigma','avg_l2_norm','MLP_MNIST_base',\\\n",
    "                                 'MLP_MNIST_GNA_trained','MLP_MNIST_FGSM_trained','MLP_MNIST_CW_trained'])\n",
    "df.to_csv('Performance of adversarially trained MLP models on GNA [MNIST].csv', index=False)\n",
    "df"
   ]
  },
  {
   "cell_type": "code",
   "execution_count": 38,
   "metadata": {
    "id": "Q6CDjIErGGcJ",
    "outputId": "579e6f0a-ce4f-4ee7-b258-3fb3bde37e9c"
   },
   "outputs": [
    {
     "data": {
      "image/png": "[encoded data removed]",
      "text/plain": [
       "<Figure size 432x288 with 1 Axes>"
      ]
     },
     "metadata": {
      "needs_background": "light"
     },
     "output_type": "display_data"
    }
   ],
   "source": [
    "df = pd.read_csv('Performance of adversarially trained MLP models on GNA [MNIST].csv')\n",
    "plt.plot(df['avg_l2_norm'],df['MLP_MNIST_base'],'o--', color = 'C1')\n",
    "plt.plot(df['avg_l2_norm'],df['MLP_MNIST_GNA_trained'],'*-', color = 'C1')\n",
    "plt.plot(df['avg_l2_norm'],df['MLP_MNIST_FGSM_trained'],'v-', color = 'C1')\n",
    "plt.plot(df['avg_l2_norm'],df['MLP_MNIST_CW_trained'],'d-', color = 'C1')\n",
    "\n",
    "\n",
    "plt.xlabel('Average $l_2$ norm of the perturbation')\n",
    "plt.ylabel('Test accuracy')\n",
    "plt.ylim([-0.1, 1.1])\n",
    "plt.legend(['MLP_MNIST (base)', 'MLP_MNIST (GNA trained)',\\\n",
    "            'MLP_MNIST (FGSM trained)', 'MLP_MNIST (CW trained)'])\n",
    "plt.title('Effect of Gaussian noise attack on MNIST')\n",
    "plt.savefig('Adversarially trained MLP models GNA on MNIST [l2 norm]', dpi=600)\n",
    "plt.show()"
   ]
  },
  {
   "cell_type": "markdown",
   "metadata": {
    "id": "5OWZCnHeSBli"
   },
   "source": [
    "**Performance on FGSM adversarial examples**"
   ]
  },
  {
   "cell_type": "code",
   "execution_count": 39,
   "metadata": {
    "id": "SNkDU3eLSBli",
    "outputId": "b9afa6ef-903c-4134-cff6-eabd74374608"
   },
   "outputs": [
    {
     "name": "stdout",
     "output_type": "stream",
     "text": [
      "C:\\Users\\nh202\\OneDrive - University of Arizona\\Adversairal Examples - ECE 696B\\FGSM\n"
     ]
    }
   ],
   "source": [
    "%cd C:\\Users\\nh202\\OneDrive - University of Arizona\\Adversairal Examples - ECE 696B\\FGSM"
   ]
  },
  {
   "cell_type": "code",
   "execution_count": 40,
   "metadata": {
    "id": "ys_OE3HhSBli",
    "outputId": "3842f2d3-cd60-488f-9b2f-4c3d2348b04c"
   },
   "outputs": [
    {
     "name": "stdout",
     "output_type": "stream",
     "text": [
      "eps value: 0.1\n",
      "32/32 [==============================] - 0s 2ms/step - loss: 10.4019 - accuracy: 0.0590\n",
      "32/32 [==============================] - 0s 1ms/step - loss: 3.5352 - accuracy: 0.3480\n",
      "32/32 [==============================] - 0s 1ms/step - loss: 0.0494 - accuracy: 0.9870\n",
      "32/32 [==============================] - 0s 2ms/step - loss: 2.3164 - accuracy: 0.1450\n",
      "eps value: 0.2\n",
      "32/32 [==============================] - 0s 1ms/step - loss: 24.0238 - accuracy: 0.0130\n",
      "32/32 [==============================] - 0s 1ms/step - loss: 13.8734 - accuracy: 0.0290\n",
      "32/32 [==============================] - 0s 1ms/step - loss: 0.0381 - accuracy: 0.9930\n",
      "32/32 [==============================] - 0s 1ms/step - loss: 2.2993 - accuracy: 0.1290\n",
      "eps value: 0.3\n",
      "32/32 [==============================] - 0s 1ms/step - loss: 36.6002 - accuracy: 0.0030\n",
      "32/32 [==============================] - 0s 2ms/step - loss: 24.0692 - accuracy: 0.0110\n",
      "32/32 [==============================] - 0s 1ms/step - loss: 0.0416 - accuracy: 0.9910\n",
      "32/32 [==============================] - 0s 1ms/step - loss: 2.3009 - accuracy: 0.1270\n",
      "eps value: 0.4\n",
      "32/32 [==============================] - 0s 1ms/step - loss: 48.9655 - accuracy: 0.0010\n",
      "32/32 [==============================] - 0s 2ms/step - loss: 33.6526 - accuracy: 0.0010\n",
      "32/32 [==============================] - 0s 1ms/step - loss: 0.0601 - accuracy: 0.9870\n",
      "32/32 [==============================] - 0s 2ms/step - loss: 2.3016 - accuracy: 0.1260\n",
      "eps value: 0.5\n",
      "32/32 [==============================] - 0s 2ms/step - loss: 61.2791 - accuracy: 0.0000e+00\n",
      "32/32 [==============================] - 0s 2ms/step - loss: 43.0539 - accuracy: 0.0000e+00\n",
      "32/32 [==============================] - 0s 3ms/step - loss: 0.1096 - accuracy: 0.9840\n",
      "32/32 [==============================] - 0s 2ms/step - loss: 2.3017 - accuracy: 0.1260\n",
      "eps value: 0.6\n",
      "32/32 [==============================] - 0s 2ms/step - loss: 73.4349 - accuracy: 0.0000e+00\n",
      "32/32 [==============================] - 0s 1ms/step - loss: 52.2190 - accuracy: 0.0000e+00\n",
      "32/32 [==============================] - 0s 1ms/step - loss: 0.2324 - accuracy: 0.9660\n",
      "32/32 [==============================] - 0s 2ms/step - loss: 2.3017 - accuracy: 0.1260\n",
      "eps value: 0.7\n",
      "32/32 [==============================] - 0s 2ms/step - loss: 85.4711 - accuracy: 0.0000e+00\n",
      "32/32 [==============================] - 0s 1ms/step - loss: 61.1983 - accuracy: 0.0000e+00\n",
      "32/32 [==============================] - 0s 2ms/step - loss: 0.4364 - accuracy: 0.9550\n",
      "32/32 [==============================] - 0s 872us/step - loss: 2.3017 - accuracy: 0.1260\n",
      "eps value: 0.8\n",
      "32/32 [==============================] - 0s 1ms/step - loss: 97.3755 - accuracy: 0.0000e+00\n",
      "32/32 [==============================] - 0s 3ms/step - loss: 70.1199 - accuracy: 0.0000e+00\n",
      "32/32 [==============================] - 0s 1ms/step - loss: 0.6961 - accuracy: 0.9450\n",
      "32/32 [==============================] - 0s 2ms/step - loss: 2.3017 - accuracy: 0.1260\n",
      "eps value: 0.9\n",
      "32/32 [==============================] - 0s 1ms/step - loss: 109.1020 - accuracy: 0.0000e+00\n",
      "32/32 [==============================] - 0s 1ms/step - loss: 78.9434 - accuracy: 0.0000e+00\n",
      "32/32 [==============================] - 0s 2ms/step - loss: 0.9864 - accuracy: 0.9330\n",
      "32/32 [==============================] - 0s 2ms/step - loss: 2.3017 - accuracy: 0.1260\n",
      "eps value: 1.0\n",
      "32/32 [==============================] - 0s 3ms/step - loss: 120.5732 - accuracy: 0.0000e+00\n",
      "32/32 [==============================] - 0s 2ms/step - loss: 87.5512 - accuracy: 0.0000e+00\n",
      "32/32 [==============================] - 0s 2ms/step - loss: 1.2848 - accuracy: 0.9260\n",
      "32/32 [==============================] - 0s 2ms/step - loss: 2.3017 - accuracy: 0.1260\n"
     ]
    }
   ],
   "source": [
    "indexes = range(1000)\n",
    "stored_results = []\n",
    "for eps in np.arange(0.1,1.1,0.1):\n",
    "    \n",
    "  print(f'eps value: {np.round(eps,1)}')\n",
    "  stored_results.append(eps)\n",
    "\n",
    "  np_array_filename = 'MNIST_FGSM_'+ str(len(indexes)) +'_adv_examples_eps_'+ str(round(eps,1)) + '.npz'\n",
    "  data = np.load(np_array_filename)\n",
    "\n",
    "  # access the arrays using their keys\n",
    "  X_test_FGSM_MLP = data['X_test_FGSM_MLP']\n",
    "\n",
    "  avg_l2_norm_MLP = np.mean(np.sqrt(np.sum((X_test_FGSM_MLP-X_test[:len(indexes)])**2, axis=(1,2))))\n",
    "  stored_results.append(avg_l2_norm_MLP)\n",
    "    \n",
    "  _,accuracy = MLP_MNIST_base.evaluate(X_test_FGSM_MLP[indexes],y_test[indexes])\n",
    "  stored_results.append(accuracy)\n",
    "\n",
    "  _,accuracy = MLP_MNIST_GNA_trained.evaluate(X_test_FGSM_MLP[indexes],y_test[indexes])\n",
    "  stored_results.append(accuracy)\n",
    "\n",
    "  _,accuracy = MLP_MNIST_FGSM_trained.evaluate(X_test_FGSM_MLP[indexes],y_test[indexes])\n",
    "  stored_results.append(accuracy)\n",
    "\n",
    "  _,accuracy = MLP_MNIST_CW_trained.evaluate(X_test_FGSM_MLP[indexes],y_test[indexes])\n",
    "  stored_results.append(accuracy)\n",
    "    "
   ]
  },
  {
   "cell_type": "code",
   "execution_count": 41,
   "metadata": {
    "id": "kT0RwecOSBli",
    "outputId": "0a7e58f6-8982-4166-8c39-c3cc9ba84fc4"
   },
   "outputs": [
    {
     "data": {
      "text/html": [
       "<div>\n",
       "<style scoped>\n",
       "    .dataframe tbody tr th:only-of-type {\n",
       "        vertical-align: middle;\n",
       "    }\n",
       "\n",
       "    .dataframe tbody tr th {\n",
       "        vertical-align: top;\n",
       "    }\n",
       "\n",
       "    .dataframe thead th {\n",
       "        text-align: right;\n",
       "    }\n",
       "</style>\n",
       "<table border=\"1\" class=\"dataframe\">\n",
       "  <thead>\n",
       "    <tr style=\"text-align: right;\">\n",
       "      <th></th>\n",
       "      <th>sigma</th>\n",
       "      <th>avg_l2_norm</th>\n",
       "      <th>MLP_MNIST_base</th>\n",
       "      <th>MLP_MNIST_GNA_trained</th>\n",
       "      <th>MLP_MNIST_FGSM_trained</th>\n",
       "      <th>MLP_MNIST_CW_trained</th>\n",
       "    </tr>\n",
       "  </thead>\n",
       "  <tbody>\n",
       "    <tr>\n",
       "      <th>0</th>\n",
       "      <td>0.1</td>\n",
       "      <td>2.130851</td>\n",
       "      <td>0.059</td>\n",
       "      <td>0.348</td>\n",
       "      <td>0.987</td>\n",
       "      <td>0.145</td>\n",
       "    </tr>\n",
       "    <tr>\n",
       "      <th>1</th>\n",
       "      <td>0.2</td>\n",
       "      <td>4.227887</td>\n",
       "      <td>0.013</td>\n",
       "      <td>0.029</td>\n",
       "      <td>0.993</td>\n",
       "      <td>0.129</td>\n",
       "    </tr>\n",
       "    <tr>\n",
       "      <th>2</th>\n",
       "      <td>0.3</td>\n",
       "      <td>6.298463</td>\n",
       "      <td>0.003</td>\n",
       "      <td>0.011</td>\n",
       "      <td>0.991</td>\n",
       "      <td>0.127</td>\n",
       "    </tr>\n",
       "    <tr>\n",
       "      <th>3</th>\n",
       "      <td>0.4</td>\n",
       "      <td>8.345658</td>\n",
       "      <td>0.001</td>\n",
       "      <td>0.001</td>\n",
       "      <td>0.987</td>\n",
       "      <td>0.126</td>\n",
       "    </tr>\n",
       "    <tr>\n",
       "      <th>4</th>\n",
       "      <td>0.5</td>\n",
       "      <td>10.370325</td>\n",
       "      <td>0.000</td>\n",
       "      <td>0.000</td>\n",
       "      <td>0.984</td>\n",
       "      <td>0.126</td>\n",
       "    </tr>\n",
       "    <tr>\n",
       "      <th>5</th>\n",
       "      <td>0.6</td>\n",
       "      <td>12.366749</td>\n",
       "      <td>0.000</td>\n",
       "      <td>0.000</td>\n",
       "      <td>0.966</td>\n",
       "      <td>0.126</td>\n",
       "    </tr>\n",
       "    <tr>\n",
       "      <th>6</th>\n",
       "      <td>0.7</td>\n",
       "      <td>14.339213</td>\n",
       "      <td>0.000</td>\n",
       "      <td>0.000</td>\n",
       "      <td>0.955</td>\n",
       "      <td>0.126</td>\n",
       "    </tr>\n",
       "    <tr>\n",
       "      <th>7</th>\n",
       "      <td>0.8</td>\n",
       "      <td>16.285007</td>\n",
       "      <td>0.000</td>\n",
       "      <td>0.000</td>\n",
       "      <td>0.945</td>\n",
       "      <td>0.126</td>\n",
       "    </tr>\n",
       "    <tr>\n",
       "      <th>8</th>\n",
       "      <td>0.9</td>\n",
       "      <td>18.197527</td>\n",
       "      <td>0.000</td>\n",
       "      <td>0.000</td>\n",
       "      <td>0.933</td>\n",
       "      <td>0.126</td>\n",
       "    </tr>\n",
       "    <tr>\n",
       "      <th>9</th>\n",
       "      <td>1.0</td>\n",
       "      <td>20.054006</td>\n",
       "      <td>0.000</td>\n",
       "      <td>0.000</td>\n",
       "      <td>0.926</td>\n",
       "      <td>0.126</td>\n",
       "    </tr>\n",
       "  </tbody>\n",
       "</table>\n",
       "</div>"
      ],
      "text/plain": [
       "   sigma  avg_l2_norm  MLP_MNIST_base  MLP_MNIST_GNA_trained  \\\n",
       "0    0.1     2.130851           0.059                  0.348   \n",
       "1    0.2     4.227887           0.013                  0.029   \n",
       "2    0.3     6.298463           0.003                  0.011   \n",
       "3    0.4     8.345658           0.001                  0.001   \n",
       "4    0.5    10.370325           0.000                  0.000   \n",
       "5    0.6    12.366749           0.000                  0.000   \n",
       "6    0.7    14.339213           0.000                  0.000   \n",
       "7    0.8    16.285007           0.000                  0.000   \n",
       "8    0.9    18.197527           0.000                  0.000   \n",
       "9    1.0    20.054006           0.000                  0.000   \n",
       "\n",
       "   MLP_MNIST_FGSM_trained  MLP_MNIST_CW_trained  \n",
       "0                   0.987                 0.145  \n",
       "1                   0.993                 0.129  \n",
       "2                   0.991                 0.127  \n",
       "3                   0.987                 0.126  \n",
       "4                   0.984                 0.126  \n",
       "5                   0.966                 0.126  \n",
       "6                   0.955                 0.126  \n",
       "7                   0.945                 0.126  \n",
       "8                   0.933                 0.126  \n",
       "9                   0.926                 0.126  "
      ]
     },
     "execution_count": 41,
     "metadata": {},
     "output_type": "execute_result"
    }
   ],
   "source": [
    "stored_results = np.array(stored_results)\n",
    "stored_results = stored_results.reshape(-1,6)\n",
    "df = pd.DataFrame(stored_results, columns = ['sigma','avg_l2_norm','MLP_MNIST_base',\\\n",
    "                                 'MLP_MNIST_GNA_trained','MLP_MNIST_FGSM_trained','MLP_MNIST_CW_trained'])\n",
    "df.to_csv('Performance of adversarially trained MLP models on FGSM [MNIST].csv', index=False)\n",
    "df"
   ]
  },
  {
   "cell_type": "code",
   "execution_count": 42,
   "metadata": {
    "id": "RLIMt6nYSBlj",
    "outputId": "fef60408-3c2e-473d-9361-e60b88ab4d85"
   },
   "outputs": [
    {
     "name": "stdout",
     "output_type": "stream",
     "text": [
      "Test accuracy on unperturbed data\n",
      "32/32 [==============================] - 0s 1ms/step - loss: 0.0963 - accuracy: 0.9740\n",
      "32/32 [==============================] - 0s 2ms/step - loss: 0.1040 - accuracy: 0.9710\n",
      "32/32 [==============================] - 0s 2ms/step - loss: 0.1001 - accuracy: 0.9690\n",
      "32/32 [==============================] - 0s 1ms/step - loss: 0.1029 - accuracy: 0.9660\n"
     ]
    },
    {
     "data": {
      "image/png": "[encoded data removed]",
      "text/plain": [
       "<Figure size 432x288 with 1 Axes>"
      ]
     },
     "metadata": {
      "needs_background": "light"
     },
     "output_type": "display_data"
    }
   ],
   "source": [
    "df = pd.read_csv('Performance of adversarially trained MLP models on FGSM [MNIST].csv')\n",
    "\n",
    "df = df.shift(1)\n",
    "print('Test accuracy on unperturbed data')\n",
    "_, accuracy_base = MLP_MNIST_base.evaluate(X_test[indexes],y_test[indexes]);\n",
    "_, accuracy_GNA_trained = MLP_MNIST_GNA_trained.evaluate(X_test[indexes],y_test[indexes]);\n",
    "_, accuracy_FGSM_trained = MLP_MNIST_FGSM_trained.evaluate(X_test[indexes],y_test[indexes]);\n",
    "_, accuracy_CW_trained = MLP_MNIST_CW_trained.evaluate(X_test[indexes],y_test[indexes]);\n",
    "df.iloc[0] = [0, 0, accuracy_base, accuracy_GNA_trained, accuracy_FGSM_trained, accuracy_CW_trained]\n",
    "\n",
    "plt.plot(df['avg_l2_norm'],df['MLP_MNIST_base'],'o--', color = 'C1')\n",
    "plt.plot(df['avg_l2_norm'],df['MLP_MNIST_GNA_trained'],'*-', color = 'C1')\n",
    "plt.plot(df['avg_l2_norm'],df['MLP_MNIST_FGSM_trained'],'v-', color = 'C1')\n",
    "plt.plot(df['avg_l2_norm'],df['MLP_MNIST_CW_trained'],'d-', color = 'C1')\n",
    "\n",
    "\n",
    "plt.xlabel('Average $l_2$ norm of the perturbation')\n",
    "plt.ylabel('Test accuracy')\n",
    "plt.ylim([-0.1, 1.1])\n",
    "plt.legend(['MLP_MNIST (base)', 'MLP_MNIST (GNA trained)',\\\n",
    "            'MLP_MNIST (FGSM trained)', 'MLP_MNIST (CW trained)'])\n",
    "plt.title('Effect of FGSM attack on MNIST')\n",
    "plt.savefig('Adversarially trained MLP models FGSM on MNIST [l2 norm]', dpi=600)\n",
    "plt.show()"
   ]
  },
  {
   "cell_type": "markdown",
   "metadata": {
    "id": "rD-TVooLSBlj"
   },
   "source": [
    "**Performance on CW adversarial examples**"
   ]
  },
  {
   "cell_type": "code",
   "execution_count": 43,
   "metadata": {
    "id": "dHxS_oIVSBlj",
    "outputId": "94a2aaf8-9e15-47a9-843a-833962590fae"
   },
   "outputs": [
    {
     "name": "stdout",
     "output_type": "stream",
     "text": [
      "C:\\Users\\nh202\\OneDrive - University of Arizona\\Adversairal Examples - ECE 696B\\CW\n"
     ]
    }
   ],
   "source": [
    "%cd C:\\Users\\nh202\\OneDrive - University of Arizona\\Adversairal Examples - ECE 696B\\CW"
   ]
  },
  {
   "cell_type": "code",
   "execution_count": 44,
   "metadata": {
    "id": "CFO1WsKFSBlj",
    "outputId": "52787070-94fb-4a57-9942-cf517e41023e"
   },
   "outputs": [
    {
     "name": "stdout",
     "output_type": "stream",
     "text": [
      "32/32 [==============================] - 0s 1ms/step - loss: 24.4377 - accuracy: 0.0180\n",
      "32/32 [==============================] - 0s 2ms/step - loss: 14.7819 - accuracy: 0.5220\n",
      "32/32 [==============================] - 0s 1ms/step - loss: 1.5422 - accuracy: 0.8930\n",
      "32/32 [==============================] - 0s 1ms/step - loss: 2.0930 - accuracy: 0.2390\n",
      "32/32 [==============================] - 0s 3ms/step - loss: 26.6730 - accuracy: 0.0180\n",
      "32/32 [==============================] - 0s 2ms/step - loss: 16.3480 - accuracy: 0.4820\n",
      "32/32 [==============================] - 0s 2ms/step - loss: 2.2854 - accuracy: 0.8710\n",
      "32/32 [==============================] - 0s 1ms/step - loss: 2.1445 - accuracy: 0.2100\n",
      "32/32 [==============================] - 0s 2ms/step - loss: 32.2472 - accuracy: 0.0180\n",
      "32/32 [==============================] - 0s 1ms/step - loss: 20.8864 - accuracy: 0.3960\n",
      "32/32 [==============================] - 0s 651us/step - loss: 2.0621 - accuracy: 0.8710\n",
      "32/32 [==============================] - 0s 1ms/step - loss: 2.1687 - accuracy: 0.2050\n",
      "32/32 [==============================] - 0s 1ms/step - loss: 36.3322 - accuracy: 0.0180\n",
      "32/32 [==============================] - 0s 2ms/step - loss: 22.8540 - accuracy: 0.4220\n",
      "32/32 [==============================] - 0s 2ms/step - loss: 2.6307 - accuracy: 0.8630\n",
      "32/32 [==============================] - 0s 2ms/step - loss: 2.1575 - accuracy: 0.2140\n",
      "32/32 [==============================] - 0s 1ms/step - loss: 27.0478 - accuracy: 0.0180\n",
      "32/32 [==============================] - 0s 1ms/step - loss: 17.4217 - accuracy: 0.4930\n",
      "32/32 [==============================] - 0s 1ms/step - loss: 2.9933 - accuracy: 0.8770\n",
      "32/32 [==============================] - 0s 2ms/step - loss: 2.2149 - accuracy: 0.1660\n",
      "32/32 [==============================] - 0s 2ms/step - loss: 24.7036 - accuracy: 0.0180\n",
      "32/32 [==============================] - 0s 2ms/step - loss: 16.0852 - accuracy: 0.4630\n",
      "32/32 [==============================] - 0s 815us/step - loss: 2.8709 - accuracy: 0.8820\n",
      "32/32 [==============================] - 0s 2ms/step - loss: 2.2422 - accuracy: 0.1590\n",
      "32/32 [==============================] - 0s 1ms/step - loss: 23.6267 - accuracy: 0.0180\n",
      "32/32 [==============================] - 0s 2ms/step - loss: 14.6570 - accuracy: 0.4200\n",
      "32/32 [==============================] - 0s 1ms/step - loss: 1.7201 - accuracy: 0.8880\n",
      "32/32 [==============================] - 0s 2ms/step - loss: 2.2611 - accuracy: 0.1620\n",
      "32/32 [==============================] - 0s 1ms/step - loss: 26.4039 - accuracy: 0.0180\n",
      "32/32 [==============================] - 0s 1ms/step - loss: 16.4302 - accuracy: 0.3550\n",
      "32/32 [==============================] - 0s 1ms/step - loss: 1.3637 - accuracy: 0.8780\n",
      "32/32 [==============================] - 0s 2ms/step - loss: 2.2723 - accuracy: 0.1800\n",
      "32/32 [==============================] - 0s 1ms/step - loss: 32.0475 - accuracy: 0.0180\n",
      "32/32 [==============================] - 0s 2ms/step - loss: 20.1576 - accuracy: 0.2880\n",
      "32/32 [==============================] - 0s 2ms/step - loss: 1.4173 - accuracy: 0.8660\n",
      "32/32 [==============================] - 0s 2ms/step - loss: 2.2789 - accuracy: 0.1780\n",
      "32/32 [==============================] - 0s 2ms/step - loss: 37.0638 - accuracy: 0.0180\n",
      "32/32 [==============================] - 0s 1ms/step - loss: 23.4252 - accuracy: 0.2390\n",
      "32/32 [==============================] - 0s 1ms/step - loss: 1.4468 - accuracy: 0.8470\n",
      "32/32 [==============================] - 0s 1ms/step - loss: 2.2672 - accuracy: 0.1870\n"
     ]
    }
   ],
   "source": [
    "indexes = range(1000)\n",
    "stored_results = []\n",
    "lot = 0\n",
    "for c in np.arange(0.1,1.1,0.1):\n",
    "    filename = 'MNIST_x_adv_stack_MLP_Lot' + str(lot+1) + '_c' + str(np.round(c,1)) + '.npy'\n",
    "    x_adv_stack = np.load(filename)\n",
    "    \n",
    "    stored_results.append(np.round(c,1))\n",
    "    \n",
    "    avg_l2_norm = np.mean(np.sqrt(np.sum((x_adv_stack-X_test[:len(x_adv_stack)])**2, axis=(1,2))))    \n",
    "    \n",
    "    if np.isnan(avg_l2_norm):\n",
    "        delta = x_adv_stack-X_test[:len(x_adv_stack)]\n",
    "        indices = np.argwhere(np.isnan(delta))\n",
    "        delta[indices] = 1\n",
    "        x_adv_stack = X_test[:len(x_adv_stack)] + delta\n",
    "        x_adv_stack = np.clip(x_adv_stack, 0, 1)\n",
    "        delta = x_adv_stack-X_test[:len(x_adv_stack)]\n",
    "        avg_l2_norm = np.mean(np.sqrt(np.sum((x_adv_stack-X_test[:len(x_adv_stack)])**2, axis=(1,2))))\n",
    "        \n",
    "    stored_results.append(avg_l2_norm)\n",
    "    \n",
    "    _,accuracy = MLP_MNIST_base.evaluate(x_adv_stack,y_test[indexes])\n",
    "    stored_results.append(accuracy)\n",
    "\n",
    "    _,accuracy = MLP_MNIST_GNA_trained.evaluate(x_adv_stack,y_test[indexes])\n",
    "    stored_results.append(accuracy)\n",
    "\n",
    "    _,accuracy = MLP_MNIST_FGSM_trained.evaluate(x_adv_stack,y_test[indexes])\n",
    "    stored_results.append(accuracy)\n",
    "\n",
    "    _,accuracy = MLP_MNIST_CW_trained.evaluate(x_adv_stack,y_test[indexes])\n",
    "    stored_results.append(accuracy)"
   ]
  },
  {
   "cell_type": "code",
   "execution_count": 45,
   "metadata": {
    "id": "jvDDvQV0SBlk",
    "outputId": "534eba9d-1cde-4030-8000-c92409a14fe6"
   },
   "outputs": [
    {
     "data": {
      "text/html": [
       "<div>\n",
       "<style scoped>\n",
       "    .dataframe tbody tr th:only-of-type {\n",
       "        vertical-align: middle;\n",
       "    }\n",
       "\n",
       "    .dataframe tbody tr th {\n",
       "        vertical-align: top;\n",
       "    }\n",
       "\n",
       "    .dataframe thead th {\n",
       "        text-align: right;\n",
       "    }\n",
       "</style>\n",
       "<table border=\"1\" class=\"dataframe\">\n",
       "  <thead>\n",
       "    <tr style=\"text-align: right;\">\n",
       "      <th></th>\n",
       "      <th>sigma</th>\n",
       "      <th>avg_l2_norm</th>\n",
       "      <th>MLP_MNIST_base</th>\n",
       "      <th>MLP_MNIST_GNA_trained</th>\n",
       "      <th>MLP_MNIST_FGSM_trained</th>\n",
       "      <th>MLP_MNIST_CW_trained</th>\n",
       "    </tr>\n",
       "  </thead>\n",
       "  <tbody>\n",
       "    <tr>\n",
       "      <th>0</th>\n",
       "      <td>0.1</td>\n",
       "      <td>4.480253</td>\n",
       "      <td>0.018</td>\n",
       "      <td>0.522</td>\n",
       "      <td>0.893</td>\n",
       "      <td>0.239</td>\n",
       "    </tr>\n",
       "    <tr>\n",
       "      <th>1</th>\n",
       "      <td>0.2</td>\n",
       "      <td>4.851502</td>\n",
       "      <td>0.018</td>\n",
       "      <td>0.482</td>\n",
       "      <td>0.871</td>\n",
       "      <td>0.210</td>\n",
       "    </tr>\n",
       "    <tr>\n",
       "      <th>2</th>\n",
       "      <td>0.3</td>\n",
       "      <td>5.168909</td>\n",
       "      <td>0.018</td>\n",
       "      <td>0.396</td>\n",
       "      <td>0.871</td>\n",
       "      <td>0.205</td>\n",
       "    </tr>\n",
       "    <tr>\n",
       "      <th>3</th>\n",
       "      <td>0.4</td>\n",
       "      <td>6.436206</td>\n",
       "      <td>0.018</td>\n",
       "      <td>0.422</td>\n",
       "      <td>0.863</td>\n",
       "      <td>0.214</td>\n",
       "    </tr>\n",
       "    <tr>\n",
       "      <th>4</th>\n",
       "      <td>0.5</td>\n",
       "      <td>4.955546</td>\n",
       "      <td>0.018</td>\n",
       "      <td>0.493</td>\n",
       "      <td>0.877</td>\n",
       "      <td>0.166</td>\n",
       "    </tr>\n",
       "    <tr>\n",
       "      <th>5</th>\n",
       "      <td>0.6</td>\n",
       "      <td>4.402416</td>\n",
       "      <td>0.018</td>\n",
       "      <td>0.463</td>\n",
       "      <td>0.882</td>\n",
       "      <td>0.159</td>\n",
       "    </tr>\n",
       "    <tr>\n",
       "      <th>6</th>\n",
       "      <td>0.7</td>\n",
       "      <td>3.908870</td>\n",
       "      <td>0.018</td>\n",
       "      <td>0.420</td>\n",
       "      <td>0.888</td>\n",
       "      <td>0.162</td>\n",
       "    </tr>\n",
       "    <tr>\n",
       "      <th>7</th>\n",
       "      <td>0.8</td>\n",
       "      <td>3.996072</td>\n",
       "      <td>0.018</td>\n",
       "      <td>0.355</td>\n",
       "      <td>0.878</td>\n",
       "      <td>0.180</td>\n",
       "    </tr>\n",
       "    <tr>\n",
       "      <th>8</th>\n",
       "      <td>0.9</td>\n",
       "      <td>4.624011</td>\n",
       "      <td>0.018</td>\n",
       "      <td>0.288</td>\n",
       "      <td>0.866</td>\n",
       "      <td>0.178</td>\n",
       "    </tr>\n",
       "    <tr>\n",
       "      <th>9</th>\n",
       "      <td>1.0</td>\n",
       "      <td>5.207092</td>\n",
       "      <td>0.018</td>\n",
       "      <td>0.239</td>\n",
       "      <td>0.847</td>\n",
       "      <td>0.187</td>\n",
       "    </tr>\n",
       "  </tbody>\n",
       "</table>\n",
       "</div>"
      ],
      "text/plain": [
       "   sigma  avg_l2_norm  MLP_MNIST_base  MLP_MNIST_GNA_trained  \\\n",
       "0    0.1     4.480253           0.018                  0.522   \n",
       "1    0.2     4.851502           0.018                  0.482   \n",
       "2    0.3     5.168909           0.018                  0.396   \n",
       "3    0.4     6.436206           0.018                  0.422   \n",
       "4    0.5     4.955546           0.018                  0.493   \n",
       "5    0.6     4.402416           0.018                  0.463   \n",
       "6    0.7     3.908870           0.018                  0.420   \n",
       "7    0.8     3.996072           0.018                  0.355   \n",
       "8    0.9     4.624011           0.018                  0.288   \n",
       "9    1.0     5.207092           0.018                  0.239   \n",
       "\n",
       "   MLP_MNIST_FGSM_trained  MLP_MNIST_CW_trained  \n",
       "0                   0.893                 0.239  \n",
       "1                   0.871                 0.210  \n",
       "2                   0.871                 0.205  \n",
       "3                   0.863                 0.214  \n",
       "4                   0.877                 0.166  \n",
       "5                   0.882                 0.159  \n",
       "6                   0.888                 0.162  \n",
       "7                   0.878                 0.180  \n",
       "8                   0.866                 0.178  \n",
       "9                   0.847                 0.187  "
      ]
     },
     "execution_count": 45,
     "metadata": {},
     "output_type": "execute_result"
    }
   ],
   "source": [
    "stored_results = np.array(stored_results)\n",
    "stored_results = stored_results.reshape(-1,6)\n",
    "df = pd.DataFrame(stored_results, columns = ['sigma','avg_l2_norm','MLP_MNIST_base',\\\n",
    "                                 'MLP_MNIST_GNA_trained','MLP_MNIST_FGSM_trained','MLP_MNIST_CW_trained'])\n",
    "df.to_csv('Performance of adversarially trained MLP models on CW [MNIST].csv', index=False)\n",
    "df"
   ]
  },
  {
   "cell_type": "code",
   "execution_count": 46,
   "metadata": {
    "id": "pXHBrC4ISBlk",
    "outputId": "690ec1fe-8039-4684-e956-7f30e2a45e65"
   },
   "outputs": [
    {
     "name": "stdout",
     "output_type": "stream",
     "text": [
      "Test accuracy on unperturbed data\n",
      "32/32 [==============================] - 0s 1ms/step - loss: 0.0963 - accuracy: 0.9740\n",
      "32/32 [==============================] - 0s 1ms/step - loss: 0.1040 - accuracy: 0.9710\n",
      "32/32 [==============================] - 0s 938us/step - loss: 0.1001 - accuracy: 0.9690\n",
      "32/32 [==============================] - 0s 2ms/step - loss: 0.1029 - accuracy: 0.9660\n"
     ]
    },
    {
     "data": {
      "image/png": "[encoded data removed]",
      "text/plain": [
       "<Figure size 432x288 with 1 Axes>"
      ]
     },
     "metadata": {
      "needs_background": "light"
     },
     "output_type": "display_data"
    }
   ],
   "source": [
    "df = pd.read_csv('Performance of adversarially trained MLP models on CW [MNIST].csv')\n",
    "\n",
    "df = df.shift(1)\n",
    "print('Test accuracy on unperturbed data')\n",
    "_, accuracy_base = MLP_MNIST_base.evaluate(X_test[indexes],y_test[indexes]);\n",
    "_, accuracy_GNA_trained = MLP_MNIST_GNA_trained.evaluate(X_test[indexes],y_test[indexes]);\n",
    "_, accuracy_FGSM_trained = MLP_MNIST_FGSM_trained.evaluate(X_test[indexes],y_test[indexes]);\n",
    "_, accuracy_CW_trained = MLP_MNIST_CW_trained.evaluate(X_test[indexes],y_test[indexes]);\n",
    "df.iloc[0] = [0, 0, accuracy_base, accuracy_GNA_trained, accuracy_FGSM_trained, accuracy_CW_trained]\n",
    "\n",
    "df = df.sort_values('avg_l2_norm', ascending=True)\n",
    "\n",
    "plt.plot(df['avg_l2_norm'],df['MLP_MNIST_base'],'o--', color = 'C1')\n",
    "plt.plot(df['avg_l2_norm'],df['MLP_MNIST_GNA_trained'],'*-', color = 'C1')\n",
    "plt.plot(df['avg_l2_norm'],df['MLP_MNIST_FGSM_trained'],'v-', color = 'C1')\n",
    "plt.plot(df['avg_l2_norm'],df['MLP_MNIST_CW_trained'],'d-', color = 'C1')\n",
    "\n",
    "\n",
    "plt.xlabel('Average $l_2$ norm of the perturbation')\n",
    "plt.ylabel('Test accuracy')\n",
    "plt.ylim([-0.1, 1.1])\n",
    "plt.legend(['MLP_MNIST (base)', 'MLP_MNIST (GNA trained)',\\\n",
    "            'MLP_MNIST (FGSM trained)', 'MLP_MNIST (CW trained)'])\n",
    "plt.title('Effect of CW attack on MNIST')\n",
    "plt.savefig('Adversarially trained MLP models CW on MNIST [l2 norm]', dpi=600)\n",
    "plt.show()"
   ]
  }
 ],
 "metadata": {
  "accelerator": "GPU",
  "colab": {
   "provenance": [
    {
     "file_id": "17t5wZdiu4KbtR9opaQcMZECSJAndropo",
     "timestamp": 1674347819943
    }
   ]
  },
  "gpuClass": "standard",
  "kernelspec": {
   "display_name": "Python 3",
   "language": "python",
   "name": "python3"
  },
  "language_info": {
   "codemirror_mode": {
    "name": "ipython",
    "version": 3
   },
   "file_extension": ".py",
   "mimetype": "text/x-python",
   "name": "python",
   "nbconvert_exporter": "python",
   "pygments_lexer": "ipython3",
   "version": "3.8.8"
  }
 },
 "nbformat": 4,
 "nbformat_minor": 1
}
