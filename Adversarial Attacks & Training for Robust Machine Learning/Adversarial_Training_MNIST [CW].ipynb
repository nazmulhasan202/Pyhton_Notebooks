{
 "cells": [
  {
   "cell_type": "markdown",
   "metadata": {
    "id": "aiSUzqR_k38-"
   },
   "source": [
    "**Import packages**"
   ]
  },
  {
   "cell_type": "code",
   "execution_count": 1,
   "metadata": {
    "colab": {
     "base_uri": "https://localhost:8080/"
    },
    "executionInfo": {
     "elapsed": 11475,
     "status": "ok",
     "timestamp": 1678516226478,
     "user": {
      "displayName": "Nazmul Hasan",
      "userId": "13411611242505533411"
     },
     "user_tz": 420
    },
    "id": "ad5wwLh9culg",
    "outputId": "0b08501a-7145-405a-b466-3de587f3e58c"
   },
   "outputs": [
    {
     "name": "stdout",
     "output_type": "stream",
     "text": [
      "Requirement already satisfied: pytictoc in c:\\programdata\\anaconda3\\lib\\site-packages (1.5.2)\n"
     ]
    }
   ],
   "source": [
    "!pip install pytictoc"
   ]
  },
  {
   "cell_type": "code",
   "execution_count": 2,
   "metadata": {
    "executionInfo": {
     "elapsed": 6365,
     "status": "ok",
     "timestamp": 1678516232840,
     "user": {
      "displayName": "Nazmul Hasan",
      "userId": "13411611242505533411"
     },
     "user_tz": 420
    },
    "id": "_z7kPblcHOH1"
   },
   "outputs": [],
   "source": [
    "import random\n",
    "import tensorflow as tf\n",
    "from tensorflow import keras\n",
    "from keras import datasets, layers, models\n",
    "import matplotlib.pyplot as plt\n",
    "import pandas as pd\n",
    "import numpy as np\n",
    "import warnings\n",
    "from pytictoc import TicToc\n",
    "warnings.filterwarnings( \"ignore\" )"
   ]
  },
  {
   "cell_type": "markdown",
   "metadata": {
    "id": "e7iTQt51HOH3"
   },
   "source": [
    "**Load the dataset**"
   ]
  },
  {
   "cell_type": "code",
   "execution_count": 3,
   "metadata": {
    "colab": {
     "base_uri": "https://localhost:8080/"
    },
    "executionInfo": {
     "elapsed": 867,
     "status": "ok",
     "timestamp": 1678516233691,
     "user": {
      "displayName": "Nazmul Hasan",
      "userId": "13411611242505533411"
     },
     "user_tz": 420
    },
    "id": "rPRPSMuwHOH4",
    "outputId": "b8b39cc5-3311-4c58-fd19-5077ab525857"
   },
   "outputs": [
    {
     "data": {
      "text/plain": [
       "((60000, 28, 28), (60000,), (10000, 28, 28), (10000,))"
      ]
     },
     "execution_count": 3,
     "metadata": {},
     "output_type": "execute_result"
    }
   ],
   "source": [
    "(X_train, y_train), (X_test,y_test) = datasets.mnist.load_data()\n",
    "X_train.shape, y_train.shape, X_test.shape, y_test.shape"
   ]
  },
  {
   "cell_type": "markdown",
   "metadata": {
    "id": "nfOobSrX9lZp"
   },
   "source": [
    "**Create helper functions**"
   ]
  },
  {
   "cell_type": "code",
   "execution_count": 4,
   "metadata": {
    "executionInfo": {
     "elapsed": 17,
     "status": "ok",
     "timestamp": 1678516233693,
     "user": {
      "displayName": "Nazmul Hasan",
      "userId": "13411611242505533411"
     },
     "user_tz": 420
    },
    "id": "29WNxxm-9oF1"
   },
   "outputs": [],
   "source": [
    "def plot_sample_image(X, y):\n",
    "    plt.figure(figsize = (15,2))\n",
    "    plt.imshow(X)\n",
    "    classes = [\"0\",\"1\",\"2\",\"3\",\"4\",\"5\",\"6\",\"7\",\"8\",\"9\"]\n",
    "    plt.xlabel('Image Label: {}'.format(classes[y]))\n",
    "\n",
    "def classification_results(X_test,y_test,y_pred_classes):\n",
    "  from sklearn.metrics import confusion_matrix , classification_report\n",
    "  import seaborn as sn\n",
    "\n",
    "  cm = tf.math.confusion_matrix(labels=y_test,predictions=y_pred_classes)\n",
    "  plt.figure(figsize = (7,5))\n",
    "  sn.heatmap(cm, annot=True, fmt='d', cmap='Greens')\n",
    "  plt.xlabel('Predicted');\n",
    "  plt.ylabel('Truth');\n",
    "\n",
    "  print(\"Classification Report: \\n\", classification_report(y_test, y_pred_classes))\n",
    "\n",
    "def plot_fitting_history(history,filename,dpi):\n",
    "  epochs = len(history.history['loss'])\n",
    "  epoch_data = np.arange(1,epochs+1)\n",
    "  plt.plot(epoch_data,history.history['loss'],'o-')\n",
    "  plt.plot(epoch_data,history.history['val_loss'],'o--')\n",
    "  plt.ylabel('Loss')\n",
    "  plt.xlabel('Epoch sequence' )\n",
    "  plt.xticks(np.arange(0, epochs + 1, step=1))\n",
    "  plt.legend(['Training','Validation'])\n",
    "  plt.savefig(filename, dpi=dpi)\n",
    "  plt.show()"
   ]
  },
  {
   "cell_type": "markdown",
   "metadata": {
    "id": "ZUSUtJFkHOIB"
   },
   "source": [
    "**Plot sample image**"
   ]
  },
  {
   "cell_type": "code",
   "execution_count": 5,
   "metadata": {
    "colab": {
     "base_uri": "https://localhost:8080/",
     "height": 173
    },
    "executionInfo": {
     "elapsed": 330,
     "status": "ok",
     "timestamp": 1678516234010,
     "user": {
      "displayName": "Nazmul Hasan",
      "userId": "13411611242505533411"
     },
     "user_tz": 420
    },
    "id": "5SMVbqRZHOIC",
    "outputId": "8117c91a-b8dc-430e-eae8-2ce3d1fb940f",
    "scrolled": true
   },
   "outputs": [
    {
     "data": {
      "image/png": "[encoded data removed]",
      "text/plain": [
       "<Figure size 1080x144 with 1 Axes>"
      ]
     },
     "metadata": {
      "needs_background": "light"
     },
     "output_type": "display_data"
    }
   ],
   "source": [
    "index = np.random.randint(100)\n",
    "plot_sample_image(X_train[index], y_train[index])"
   ]
  },
  {
   "cell_type": "markdown",
   "metadata": {
    "id": "gL5ypIWkHOIE"
   },
   "source": [
    "**Normalize the input data**"
   ]
  },
  {
   "cell_type": "code",
   "execution_count": 6,
   "metadata": {
    "executionInfo": {
     "elapsed": 4,
     "status": "ok",
     "timestamp": 1678516234011,
     "user": {
      "displayName": "Nazmul Hasan",
      "userId": "13411611242505533411"
     },
     "user_tz": 420
    },
    "id": "PxewI0kIHOIF"
   },
   "outputs": [],
   "source": [
    "X_train = X_train / 255.0\n",
    "X_test = X_test / 255.0"
   ]
  },
  {
   "cell_type": "markdown",
   "metadata": {
    "id": "O7TkT_B0gx0r"
   },
   "source": [
    "**Load the models**"
   ]
  },
  {
   "cell_type": "code",
   "execution_count": 7,
   "metadata": {
    "colab": {
     "base_uri": "https://localhost:8080/"
    },
    "executionInfo": {
     "elapsed": 1276,
     "status": "ok",
     "timestamp": 1678516263742,
     "user": {
      "displayName": "Nazmul Hasan",
      "userId": "13411611242505533411"
     },
     "user_tz": 420
    },
    "id": "HxfvKWZnquHt",
    "outputId": "0f3fb642-180e-4077-e8f6-19f832ddedfd"
   },
   "outputs": [],
   "source": [
    "# from google.colab import drive\n",
    "# drive.mount('/content/gdrive')\n",
    "# # %cd /content/gdrive/MyDrive/ECE 696B/Project - ECE696B\n",
    "# %cd /content/gdrive/MyDrive/Colab Notebooks"
   ]
  },
  {
   "cell_type": "code",
   "execution_count": 8,
   "metadata": {
    "executionInfo": {
     "elapsed": 5708,
     "status": "ok",
     "timestamp": 1678516382263,
     "user": {
      "displayName": "Nazmul Hasan",
      "userId": "13411611242505533411"
     },
     "user_tz": 420
    },
    "id": "cacXKz9PZM7l"
   },
   "outputs": [
    {
     "name": "stdout",
     "output_type": "stream",
     "text": [
      "C:\\Users\\nh202\\My Drive (nh202@arizona.edu)\\ECE 696B\\Project - ECE696B\n"
     ]
    }
   ],
   "source": [
    "%cd C:\\Users\\nh202\\My Drive (nh202@arizona.edu)\\ECE 696B\\Project - ECE696B\n",
    "from keras.models import load_model\n",
    "Linear_MNIST = load_model('Linear_MNIST.h5')\n",
    "MLP_MNIST = load_model('MLP_MNIST.h5')\n",
    "CNN_MNIST = load_model('CNN_MNIST.h5')"
   ]
  },
  {
   "cell_type": "markdown",
   "metadata": {
    "id": "8N5BvZyij_I5"
   },
   "source": [
    "# Carlini-Wagner (CW) attack\n"
   ]
  },
  {
   "cell_type": "markdown",
   "metadata": {
    "id": "B8ZkL3fhzGaK"
   },
   "source": [
    "**Function for CW attack**"
   ]
  },
  {
   "cell_type": "code",
   "execution_count": 9,
   "metadata": {
    "executionInfo": {
     "elapsed": 167,
     "status": "ok",
     "timestamp": 1678516272521,
     "user": {
      "displayName": "Nazmul Hasan",
      "userId": "13411611242505533411"
     },
     "user_tz": 420
    },
    "id": "FFGdfoSAvvQ_"
   },
   "outputs": [],
   "source": [
    "def cw_attack_NH_version(model, x, c = 0.1, max_lr = 0.1, lr_factor = 100, max_iter = 100):\n",
    "  \n",
    "  x = tf.convert_to_tensor(x[np.newaxis, ...])  \n",
    "\n",
    "  y_pred_x = model(x)\n",
    "  pred_class_x = np.argmax(y_pred_x)\n",
    "  t = int(np.argsort(-y_pred_x, axis = 1).T[1])\n",
    "  ratio = y_pred_x[0][pred_class_x]/y_pred_x[0][t]  \n",
    "\n",
    "  delta = x * 0.001\n",
    "\n",
    "  lr = max(max_lr,float(ratio/lr_factor));\n",
    "\n",
    "  success_flag = 0;\n",
    "  for j in range(max_iter):\n",
    "    for i in range(10):\n",
    "      with tf.GradientTape() as tape:\n",
    "        tape.watch(delta)\n",
    "        x_adv = x + delta           \n",
    "        y_pred = model(x_adv)\n",
    "        l2_norm = np.sqrt(np.sum((delta)**2, axis=(0,1,2)))\n",
    "        F_t = y_pred[0][t]\n",
    "        f_delta = l2_norm + c*max(0,0.5-F_t)        \n",
    "\n",
    "        if np.argmax(y_pred) == t:\n",
    "          break\n",
    "\n",
    "      try:  grads = tape.gradient(f_delta, delta)\n",
    "      except: continue\n",
    "\n",
    "      delta = delta - lr * grads\n",
    "          \n",
    "    x_adv = np.clip(x_adv, 0, 1)    \n",
    "    y_pred = model(x_adv)\n",
    "    ratio = y_pred_x[0][np.argmax(y_pred_x)]/y_pred[0][t]\n",
    "    delta = x_adv - x\n",
    "    l2_norm = np.sqrt(np.sum((delta)**2, axis=(0,1,2)))\n",
    "  \n",
    "    if np.argmax(y_pred) == t:\n",
    "      success_flag = 1\n",
    "      break\n",
    "    lr = max(max_lr,float(ratio/lr_factor));\n",
    "\n",
    "  return success_flag, x_adv, l2_norm"
   ]
  },
  {
   "cell_type": "code",
   "execution_count": 10,
   "metadata": {
    "executionInfo": {
     "elapsed": 2,
     "status": "ok",
     "timestamp": 1678516272730,
     "user": {
      "displayName": "Nazmul Hasan",
      "userId": "13411611242505533411"
     },
     "user_tz": 420
    },
    "id": "TJwcbXWYW9v4"
   },
   "outputs": [],
   "source": [
    "c = 0.1; lr_factor= 100;  max_lr = 0.1; max_iter = 100"
   ]
  },
  {
   "cell_type": "markdown",
   "metadata": {
    "id": "waIXH5tS_K5P"
   },
   "source": [
    "# Function for preparing CW-advarsarial examples"
   ]
  },
  {
   "cell_type": "code",
   "execution_count": 11,
   "metadata": {
    "executionInfo": {
     "elapsed": 168,
     "status": "ok",
     "timestamp": 1678516276863,
     "user": {
      "displayName": "Nazmul Hasan",
      "userId": "13411611242505533411"
     },
     "user_tz": 420
    },
    "id": "jGZGl-f000hX"
   },
   "outputs": [],
   "source": [
    "def CW_advarsarial_examples(model, X_test, c, max_lr, lr_factor, max_iter):\n",
    "  \n",
    "  # Create an empty numpy array to store the adversarial examples\n",
    "  x_adv_stack = np.empty((0, 28, 28))\n",
    "\n",
    "  # Loop over the test data to generate the adversarial examples and stack them in the numpy array\n",
    "  for i in range(X_test.shape[0]):\n",
    "      if (i+1)%500 == 0:\n",
    "        print(f'First {i+1} completed')\n",
    "      x = X_test[i]\n",
    "\n",
    "      # Generate the adversarial example for the current test image\n",
    "      success_flag, x_adv, l2_norm = cw_attack_NH_version(model, x, c = c, lr_factor= lr_factor, \\\n",
    "                                                          max_lr = max_lr, max_iter = max_iter)\n",
    "      # Stack the adversarial example in the numpy array\n",
    "      x_adv_stack = np.vstack((x_adv_stack, x_adv))\n",
    "\n",
    "  return x_adv_stack"
   ]
  },
  {
   "cell_type": "code",
   "execution_count": 12,
   "metadata": {
    "executionInfo": {
     "elapsed": 2,
     "status": "ok",
     "timestamp": 1678516277008,
     "user": {
      "displayName": "Nazmul Hasan",
      "userId": "13411611242505533411"
     },
     "user_tz": 420
    },
    "id": "m49cpIMpaEiL"
   },
   "outputs": [],
   "source": [
    "def correction_for_nan_entries(x_adv_stack, X_test):\n",
    "\n",
    "  avg_l2_norm = np.mean(np.sqrt(np.sum((x_adv_stack-X_test)**2, axis=(1,2))))    \n",
    "    \n",
    "  if np.isnan(avg_l2_norm):\n",
    "        delta = x_adv_stack-X_test[:len(x_adv_stack)]\n",
    "        indices = np.argwhere(np.isnan(delta))\n",
    "        delta[indices] = 1\n",
    "        x_adv_stack = X_test + delta\n",
    "        x_adv_stack = np.clip(x_adv_stack, 0, 1)\n",
    "\n",
    "  return x_adv_stack"
   ]
  },
  {
   "cell_type": "markdown",
   "metadata": {
    "id": "SjVG7MYhseOb"
   },
   "source": [
    "# Adversarial training of Linear model"
   ]
  },
  {
   "cell_type": "code",
   "execution_count": null,
   "metadata": {
    "colab": {
     "base_uri": "https://localhost:8080/"
    },
    "executionInfo": {
     "elapsed": 468854,
     "status": "ok",
     "timestamp": 1678482097292,
     "user": {
      "displayName": "Nazmul Hasan",
      "userId": "02122416256231585764"
     },
     "user_tz": 420
    },
    "id": "R8N-HQk6qvtF",
    "outputId": "e2289262-e086-4e3e-d0af-1acc86c5feaf"
   },
   "outputs": [
    {
     "name": "stdout",
     "output_type": "stream",
     "text": [
      "First 500 completed\n",
      "First 1000 completed\n",
      "First 1500 completed\n",
      "First 2000 completed\n",
      "First 2500 completed\n",
      "First 3000 completed\n",
      "First 3500 completed\n",
      "First 4000 completed\n",
      "First 4500 completed\n",
      "First 5000 completed\n",
      "First 500 completed\n",
      "First 1000 completed\n",
      "First 1500 completed\n",
      "First 2000 completed\n",
      "First 2500 completed\n",
      "First 500 completed\n",
      "First 1000 completed\n",
      "First 500 completed\n",
      "First 500 completed\n",
      "Average l2 distance of the perturbation: 10.163406947259585\n"
     ]
    }
   ],
   "source": [
    "# indexes = np.arange(0,5000); c = 0.1\n",
    "# X_train_CW_Linear_1 = CW_advarsarial_examples(Linear_MNIST, X_test[indexes], c = c, \\\n",
    "#                                               lr_factor= lr_factor, max_lr = max_lr, max_iter = max_iter)\n",
    "# X_train_CW_Linear_1 = correction_for_nan_entries(X_train_CW_Linear_1, X_test[indexes])\n",
    "\n",
    "# indexes = np.arange(5000,7500); c = 0.2\n",
    "# X_train_CW_Linear_2 = CW_advarsarial_examples(Linear_MNIST, X_test[indexes], c = c, \\\n",
    "#                                               lr_factor= lr_factor, max_lr = max_lr, max_iter = max_iter)\n",
    "# X_train_CW_Linear_2 = correction_for_nan_entries(X_train_CW_Linear_2, X_test[indexes])\n",
    "\n",
    "# indexes = np.arange(7500,8750); c = 0.3\n",
    "# X_train_CW_Linear_3 = CW_advarsarial_examples(Linear_MNIST, X_test[indexes], c = c, \\\n",
    "#                                               lr_factor= lr_factor, max_lr = max_lr, max_iter = max_iter)\n",
    "# X_train_CW_Linear_3 = correction_for_nan_entries(X_train_CW_Linear_3, X_test[indexes])\n",
    "\n",
    "# indexes = np.arange(8750, 9375); c = 0.4\n",
    "# X_train_CW_Linear_4 = CW_advarsarial_examples(Linear_MNIST, X_test[indexes], c = c, \\\n",
    "#                                               lr_factor= lr_factor, max_lr = max_lr, max_iter = max_iter)\n",
    "# X_train_CW_Linear_4 = correction_for_nan_entries(X_train_CW_Linear_4, X_test[indexes])\n",
    "\n",
    "# indexes = np.arange(9375, 10000); c = 0.5\n",
    "# X_train_CW_Linear_5 = CW_advarsarial_examples(Linear_MNIST, X_test[indexes], c = c, \\\n",
    "#                                               lr_factor= lr_factor, max_lr = max_lr, max_iter = max_iter)\n",
    "# X_train_CW_Linear_5 = correction_for_nan_entries(X_train_CW_Linear_5, X_test[indexes])\n",
    "\n",
    "# X_train_CW_Linear = np.concatenate((X_train_CW_Linear_1, X_train_CW_Linear_2, X_train_CW_Linear_3,\\\n",
    "#                                 X_train_CW_Linear_4, X_train_CW_Linear_5), axis = 0)\n",
    "\n",
    "# indexes = range(10000)\n",
    "# avg_l2_norm = np.mean(np.sqrt(np.sum((X_train_CW_Linear-X_train[indexes])**2, axis=(1,2))))\n",
    "# print(\"Average l2 distance of the perturbation:\", avg_l2_norm)"
   ]
  },
  {
   "cell_type": "code",
   "execution_count": null,
   "metadata": {
    "colab": {
     "base_uri": "https://localhost:8080/"
    },
    "executionInfo": {
     "elapsed": 664,
     "status": "ok",
     "timestamp": 1678482115880,
     "user": {
      "displayName": "Nazmul Hasan",
      "userId": "02122416256231585764"
     },
     "user_tz": 420
    },
    "id": "PUx2ePsuuxpp",
    "outputId": "d2ab4b76-e99e-4836-d54b-0c51dec7eb4e"
   },
   "outputs": [
    {
     "data": {
      "text/plain": [
       "((70000, 28, 28), (70000,))"
      ]
     },
     "execution_count": 41,
     "metadata": {},
     "output_type": "execute_result"
    }
   ],
   "source": [
    "# X_train_stack = np.concatenate((X_train, X_train_CW_Linear), axis = 0)\n",
    "# y_train_stack = np.concatenate((y_train, y_train[indexes]), axis = 0)\n",
    "\n",
    "# p = np.random.permutation(len(X_train_stack))\n",
    "# X_train_stack, y_train_stack = X_train_stack[p], y_train_stack[p]\n",
    "\n",
    "# X_train_stack.shape, y_train_stack.shape"
   ]
  },
  {
   "cell_type": "code",
   "execution_count": null,
   "metadata": {
    "colab": {
     "base_uri": "https://localhost:8080/",
     "height": 1000
    },
    "executionInfo": {
     "elapsed": 265885,
     "status": "ok",
     "timestamp": 1678482386432,
     "user": {
      "displayName": "Nazmul Hasan",
      "userId": "02122416256231585764"
     },
     "user_tz": 420
    },
    "id": "hVGwp_OIvJkK",
    "outputId": "b3f2f525-30c7-466e-a313-e87384b99eff"
   },
   "outputs": [
    {
     "name": "stdout",
     "output_type": "stream",
     "text": [
      "Epoch 1/50\n",
      "1750/1750 [==============================] - 5s 3ms/step - loss: 1.0611 - accuracy: 0.7558 - val_loss: 0.9539 - val_accuracy: 0.7842\n",
      "Epoch 2/50\n",
      "1750/1750 [==============================] - 5s 3ms/step - loss: 0.9443 - accuracy: 0.7856 - val_loss: 0.9233 - val_accuracy: 0.7874\n",
      "Epoch 3/50\n",
      "1750/1750 [==============================] - 4s 2ms/step - loss: 0.9126 - accuracy: 0.7887 - val_loss: 0.9035 - val_accuracy: 0.7890\n",
      "Epoch 4/50\n",
      "1750/1750 [==============================] - 4s 2ms/step - loss: 0.8921 - accuracy: 0.7894 - val_loss: 0.8907 - val_accuracy: 0.7911\n",
      "Epoch 5/50\n",
      "1750/1750 [==============================] - 5s 3ms/step - loss: 0.8763 - accuracy: 0.7909 - val_loss: 0.8874 - val_accuracy: 0.7863\n",
      "Epoch 6/50\n",
      "1750/1750 [==============================] - 4s 2ms/step - loss: 0.8647 - accuracy: 0.7913 - val_loss: 0.8796 - val_accuracy: 0.7893\n",
      "Epoch 7/50\n",
      "1750/1750 [==============================] - 4s 2ms/step - loss: 0.8545 - accuracy: 0.7917 - val_loss: 0.8748 - val_accuracy: 0.7848\n",
      "Epoch 8/50\n",
      "1750/1750 [==============================] - 5s 3ms/step - loss: 0.8466 - accuracy: 0.7923 - val_loss: 0.8698 - val_accuracy: 0.7881\n",
      "Epoch 9/50\n",
      "1750/1750 [==============================] - 4s 3ms/step - loss: 0.8392 - accuracy: 0.7923 - val_loss: 0.8638 - val_accuracy: 0.7888\n",
      "Epoch 10/50\n",
      "1750/1750 [==============================] - 4s 2ms/step - loss: 0.8334 - accuracy: 0.7935 - val_loss: 0.8607 - val_accuracy: 0.7882\n",
      "Epoch 11/50\n",
      "1750/1750 [==============================] - 4s 2ms/step - loss: 0.8290 - accuracy: 0.7931 - val_loss: 0.8570 - val_accuracy: 0.7884\n",
      "Epoch 12/50\n",
      "1750/1750 [==============================] - 5s 3ms/step - loss: 0.8244 - accuracy: 0.7925 - val_loss: 0.8548 - val_accuracy: 0.7897\n",
      "Epoch 13/50\n",
      "1750/1750 [==============================] - 4s 2ms/step - loss: 0.8203 - accuracy: 0.7936 - val_loss: 0.8541 - val_accuracy: 0.7893\n",
      "Epoch 14/50\n",
      "1750/1750 [==============================] - 4s 2ms/step - loss: 0.8162 - accuracy: 0.7951 - val_loss: 0.8517 - val_accuracy: 0.7886\n",
      "Epoch 15/50\n",
      "1750/1750 [==============================] - 5s 3ms/step - loss: 0.8127 - accuracy: 0.7939 - val_loss: 0.8525 - val_accuracy: 0.7880\n",
      "Epoch 16/50\n",
      "1750/1750 [==============================] - 4s 2ms/step - loss: 0.8092 - accuracy: 0.7948 - val_loss: 0.8496 - val_accuracy: 0.7870\n",
      "Epoch 17/50\n",
      "1750/1750 [==============================] - 5s 3ms/step - loss: 0.8056 - accuracy: 0.7944 - val_loss: 0.8496 - val_accuracy: 0.7847\n",
      "Epoch 18/50\n",
      "1750/1750 [==============================] - 5s 3ms/step - loss: 0.8042 - accuracy: 0.7940 - val_loss: 0.8524 - val_accuracy: 0.7841\n",
      "Epoch 19/50\n",
      "1750/1750 [==============================] - 4s 2ms/step - loss: 0.8007 - accuracy: 0.7958 - val_loss: 0.8481 - val_accuracy: 0.7891\n",
      "Epoch 20/50\n",
      "1750/1750 [==============================] - 4s 2ms/step - loss: 0.7982 - accuracy: 0.7953 - val_loss: 0.8457 - val_accuracy: 0.7882\n",
      "Epoch 21/50\n",
      "1750/1750 [==============================] - 4s 3ms/step - loss: 0.7958 - accuracy: 0.7950 - val_loss: 0.8520 - val_accuracy: 0.7810\n",
      "Epoch 22/50\n",
      "1750/1750 [==============================] - 5s 3ms/step - loss: 0.7941 - accuracy: 0.7944 - val_loss: 0.8411 - val_accuracy: 0.7880\n",
      "Epoch 23/50\n",
      "1750/1750 [==============================] - 4s 2ms/step - loss: 0.7918 - accuracy: 0.7952 - val_loss: 0.8419 - val_accuracy: 0.7860\n",
      "Epoch 24/50\n",
      "1750/1750 [==============================] - 4s 2ms/step - loss: 0.7894 - accuracy: 0.7964 - val_loss: 0.8421 - val_accuracy: 0.7863\n",
      "Epoch 25/50\n",
      "1750/1750 [==============================] - 6s 3ms/step - loss: 0.7871 - accuracy: 0.7962 - val_loss: 0.8405 - val_accuracy: 0.7869\n",
      "Epoch 26/50\n",
      "1750/1750 [==============================] - 4s 2ms/step - loss: 0.7860 - accuracy: 0.7970 - val_loss: 0.8424 - val_accuracy: 0.7851\n",
      "Epoch 27/50\n",
      "1750/1750 [==============================] - 4s 2ms/step - loss: 0.7841 - accuracy: 0.7968 - val_loss: 0.8418 - val_accuracy: 0.7854\n",
      "Epoch 28/50\n",
      "1750/1750 [==============================] - 5s 3ms/step - loss: 0.7827 - accuracy: 0.7964 - val_loss: 0.8404 - val_accuracy: 0.7859\n",
      "Epoch 29/50\n",
      "1750/1750 [==============================] - 4s 2ms/step - loss: 0.7806 - accuracy: 0.7975 - val_loss: 0.8366 - val_accuracy: 0.7870\n",
      "Epoch 30/50\n",
      "1750/1750 [==============================] - 4s 2ms/step - loss: 0.7795 - accuracy: 0.7970 - val_loss: 0.8389 - val_accuracy: 0.7872\n",
      "Epoch 31/50\n",
      "1750/1750 [==============================] - 4s 2ms/step - loss: 0.7780 - accuracy: 0.7969 - val_loss: 0.8422 - val_accuracy: 0.7841\n",
      "Epoch 32/50\n",
      "1750/1750 [==============================] - 5s 3ms/step - loss: 0.7767 - accuracy: 0.7976 - val_loss: 0.8362 - val_accuracy: 0.7864\n",
      "Epoch 33/50\n",
      "1750/1750 [==============================] - 4s 2ms/step - loss: 0.7751 - accuracy: 0.7981 - val_loss: 0.8407 - val_accuracy: 0.7837\n",
      "Epoch 34/50\n",
      "1750/1750 [==============================] - 4s 2ms/step - loss: 0.7739 - accuracy: 0.7978 - val_loss: 0.8362 - val_accuracy: 0.7836\n",
      "Epoch 35/50\n",
      "1750/1750 [==============================] - 5s 3ms/step - loss: 0.7728 - accuracy: 0.7982 - val_loss: 0.8389 - val_accuracy: 0.7818\n",
      "Epoch 36/50\n",
      "1750/1750 [==============================] - 4s 2ms/step - loss: 0.7710 - accuracy: 0.7980 - val_loss: 0.8366 - val_accuracy: 0.7874\n",
      "Epoch 37/50\n",
      "1750/1750 [==============================] - 4s 2ms/step - loss: 0.7701 - accuracy: 0.7976 - val_loss: 0.8343 - val_accuracy: 0.7854\n",
      "Epoch 38/50\n",
      "1750/1750 [==============================] - 5s 3ms/step - loss: 0.7684 - accuracy: 0.7983 - val_loss: 0.8399 - val_accuracy: 0.7845\n",
      "Epoch 39/50\n",
      "1750/1750 [==============================] - 4s 3ms/step - loss: 0.7682 - accuracy: 0.7986 - val_loss: 0.8412 - val_accuracy: 0.7825\n",
      "Epoch 40/50\n",
      "1750/1750 [==============================] - 4s 2ms/step - loss: 0.7669 - accuracy: 0.7984 - val_loss: 0.8427 - val_accuracy: 0.7849\n",
      "Epoch 41/50\n",
      "1750/1750 [==============================] - 4s 2ms/step - loss: 0.7662 - accuracy: 0.7981 - val_loss: 0.8408 - val_accuracy: 0.7817\n",
      "Epoch 42/50\n",
      "1750/1750 [==============================] - 5s 3ms/step - loss: 0.7652 - accuracy: 0.7990 - val_loss: 0.8332 - val_accuracy: 0.7851\n",
      "Epoch 43/50\n",
      "1750/1750 [==============================] - 4s 2ms/step - loss: 0.7643 - accuracy: 0.7988 - val_loss: 0.8345 - val_accuracy: 0.7836\n",
      "Epoch 44/50\n",
      "1750/1750 [==============================] - 4s 2ms/step - loss: 0.7629 - accuracy: 0.7986 - val_loss: 0.8407 - val_accuracy: 0.7816\n",
      "Epoch 45/50\n",
      "1750/1750 [==============================] - 5s 3ms/step - loss: 0.7625 - accuracy: 0.7979 - val_loss: 0.8353 - val_accuracy: 0.7848\n",
      "Epoch 46/50\n",
      "1750/1750 [==============================] - 4s 3ms/step - loss: 0.7614 - accuracy: 0.7994 - val_loss: 0.8326 - val_accuracy: 0.7866\n",
      "Epoch 47/50\n",
      "1750/1750 [==============================] - 4s 2ms/step - loss: 0.7607 - accuracy: 0.7988 - val_loss: 0.8369 - val_accuracy: 0.7835\n",
      "Epoch 48/50\n",
      "1750/1750 [==============================] - 4s 2ms/step - loss: 0.7598 - accuracy: 0.7987 - val_loss: 0.8351 - val_accuracy: 0.7862\n",
      "Epoch 49/50\n",
      "1750/1750 [==============================] - 5s 3ms/step - loss: 0.7600 - accuracy: 0.7996 - val_loss: 0.8366 - val_accuracy: 0.7839\n",
      "Epoch 50/50\n",
      "1750/1750 [==============================] - 4s 2ms/step - loss: 0.7587 - accuracy: 0.7987 - val_loss: 0.8304 - val_accuracy: 0.7854\n"
     ]
    },
    {
     "data": {
      "image/png": "[encoded data removed]",
      "text/plain": [
       "<Figure size 432x288 with 1 Axes>"
      ]
     },
     "metadata": {},
     "output_type": "display_data"
    },
    {
     "name": "stdout",
     "output_type": "stream",
     "text": [
      "313/313 [==============================] - 1s 1ms/step\n",
      "Classification Report: \n",
      "               precision    recall  f1-score   support\n",
      "\n",
      "           0       0.92      0.97      0.95       980\n",
      "           1       0.93      0.97      0.95      1135\n",
      "           2       0.94      0.87      0.91      1032\n",
      "           3       0.90      0.88      0.89      1010\n",
      "           4       0.89      0.94      0.91       982\n",
      "           5       0.89      0.85      0.87       892\n",
      "           6       0.92      0.94      0.93       958\n",
      "           7       0.91      0.89      0.90      1028\n",
      "           8       0.87      0.85      0.86       974\n",
      "           9       0.87      0.90      0.88      1009\n",
      "\n",
      "    accuracy                           0.91     10000\n",
      "   macro avg       0.91      0.91      0.91     10000\n",
      "weighted avg       0.91      0.91      0.91     10000\n",
      "\n"
     ]
    },
    {
     "data": {
      "image/png": "[encoded data removed]",
      "text/plain": [
       "<Figure size 504x360 with 2 Axes>"
      ]
     },
     "metadata": {},
     "output_type": "display_data"
    }
   ],
   "source": [
    "# import random\n",
    "# import tensorflow as tf\n",
    "# seed = 42\n",
    "# random.seed(seed)\n",
    "# np.random.seed(seed)\n",
    "# tf.random.set_seed(seed)\n",
    "\n",
    "# Linear_MNIST = models.Sequential([\n",
    "#         layers.Flatten(input_shape=X_train.shape[1:]),\n",
    "#         layers.Dense(10, activation='softmax'),  \n",
    "#     ])\n",
    "\n",
    "# learning_rate =  0.001\n",
    "# Linear_MNIST.compile(optimizer=tf.keras.optimizers.Adam(learning_rate),\n",
    "#               loss='sparse_categorical_crossentropy',\n",
    "#               metrics=['accuracy'])\n",
    "\n",
    "# early_callbacks = keras.callbacks.EarlyStopping(monitor='val_loss', patience=5)\n",
    "# history_C_Linear_CW = Linear_MNIST.fit(X_train_stack, y_train_stack, epochs=50, batch_size=32,\n",
    "#             validation_split = 0.2, callbacks = early_callbacks, verbose=1, shuffle = True)\n",
    "\n",
    "# filename = 'CW Adversarial Training history MNIST [Linear]'+'.png'\n",
    "# plot_fitting_history(history_C_Linear_CW, filename, dpi = 100)\n",
    "\n",
    "# y_pred = Linear_MNIST.predict(X_test)\n",
    "# y_pred_classes = [np.argmax(element) for element in y_pred]\n",
    "# classification_results(X_test,y_test,y_pred_classes)\n",
    "\n",
    "# Linear_MNIST.save('Linear_MNIST_CW_trained.h5')"
   ]
  },
  {
   "cell_type": "markdown",
   "metadata": {
    "id": "G_areyPtvigA"
   },
   "source": [
    "# Adversarial training of MLP model"
   ]
  },
  {
   "cell_type": "code",
   "execution_count": null,
   "metadata": {
    "colab": {
     "base_uri": "https://localhost:8080/"
    },
    "executionInfo": {
     "elapsed": 600132,
     "status": "ok",
     "timestamp": 1678484521908,
     "user": {
      "displayName": "Nazmul Hasan",
      "userId": "02122416256231585764"
     },
     "user_tz": 420
    },
    "id": "dj5tSZM6vJSk",
    "outputId": "00941620-e8b3-4f0a-9203-50470a3b525a"
   },
   "outputs": [
    {
     "name": "stdout",
     "output_type": "stream",
     "text": [
      "First 500 completed\n",
      "First 1000 completed\n",
      "First 1500 completed\n",
      "First 2000 completed\n",
      "First 2500 completed\n",
      "First 3000 completed\n",
      "First 3500 completed\n",
      "First 4000 completed\n",
      "First 4500 completed\n",
      "First 5000 completed\n",
      "First 500 completed\n",
      "First 1000 completed\n",
      "First 1500 completed\n",
      "First 2000 completed\n",
      "First 2500 completed\n",
      "First 500 completed\n",
      "First 1000 completed\n",
      "First 500 completed\n",
      "First 500 completed\n",
      "Average l2 distance of the perturbation: 12.02635653264644\n"
     ]
    }
   ],
   "source": [
    "# indexes = np.arange(0,5000); c = 0.1\n",
    "# X_train_CW_MLP_1 = CW_advarsarial_examples(MLP_MNIST, X_test[indexes], c = c, \\\n",
    "#                                               lr_factor= lr_factor, max_lr = max_lr, max_iter = max_iter)\n",
    "# X_train_CW_MLP_1 = correction_for_nan_entries(X_train_CW_MLP_1, X_test[indexes])\n",
    "\n",
    "# indexes = np.arange(5000,7500); c = 0.2\n",
    "# X_train_CW_MLP_2 = CW_advarsarial_examples(MLP_MNIST, X_test[indexes], c = c, \\\n",
    "#                                               lr_factor= lr_factor, max_lr = max_lr, max_iter = max_iter)\n",
    "# X_train_CW_MLP_2 = correction_for_nan_entries(X_train_CW_MLP_2, X_test[indexes])\n",
    "\n",
    "# indexes = np.arange(7500,8750); c = 0.3\n",
    "# X_train_CW_MLP_3 = CW_advarsarial_examples(MLP_MNIST, X_test[indexes], c = c, \\\n",
    "#                                               lr_factor= lr_factor, max_lr = max_lr, max_iter = max_iter)\n",
    "# X_train_CW_MLP_3 = correction_for_nan_entries(X_train_CW_MLP_3, X_test[indexes])\n",
    "\n",
    "# indexes = np.arange(8750, 9375); c = 0.4\n",
    "# X_train_CW_MLP_4 = CW_advarsarial_examples(MLP_MNIST, X_test[indexes], c = c, \\\n",
    "#                                               lr_factor= lr_factor, max_lr = max_lr, max_iter = max_iter)\n",
    "# X_train_CW_MLP_4 = correction_for_nan_entries(X_train_CW_MLP_4, X_test[indexes])\n",
    "\n",
    "# indexes = np.arange(9375, 10000); c = 0.5\n",
    "# X_train_CW_MLP_5 = CW_advarsarial_examples(MLP_MNIST, X_test[indexes], c = c, \\\n",
    "#                                               lr_factor= lr_factor, max_lr = max_lr, max_iter = max_iter)\n",
    "# X_train_CW_MLP_5 = correction_for_nan_entries(X_train_CW_MLP_5, X_test[indexes])\n",
    "\n",
    "# X_train_CW_MLP = np.concatenate((X_train_CW_MLP_1, X_train_CW_MLP_2, X_train_CW_MLP_3,\\\n",
    "#                                 X_train_CW_MLP_4, X_train_CW_MLP_5), axis = 0)\n",
    "\n",
    "# indexes = range(10000)\n",
    "# avg_l2_norm = np.mean(np.sqrt(np.sum((X_train_CW_MLP-X_train[indexes])**2, axis=(1,2))))\n",
    "# print(\"Average l2 distance of the perturbation:\", avg_l2_norm)"
   ]
  },
  {
   "cell_type": "code",
   "execution_count": null,
   "metadata": {
    "colab": {
     "base_uri": "https://localhost:8080/"
    },
    "executionInfo": {
     "elapsed": 319,
     "status": "ok",
     "timestamp": 1678484522202,
     "user": {
      "displayName": "Nazmul Hasan",
      "userId": "02122416256231585764"
     },
     "user_tz": 420
    },
    "id": "F3-yHLdNvJMP",
    "outputId": "0b973e61-1437-4a00-d9d3-1bf12a68ec84"
   },
   "outputs": [
    {
     "data": {
      "text/plain": [
       "((70000, 28, 28), (70000,))"
      ]
     },
     "execution_count": 54,
     "metadata": {},
     "output_type": "execute_result"
    }
   ],
   "source": [
    "# X_train_stack = np.concatenate((X_train, X_train_CW_MLP), axis = 0)\n",
    "# y_train_stack = np.concatenate((y_train, y_train[indexes]), axis = 0)\n",
    "\n",
    "# p = np.random.permutation(len(X_train_stack))\n",
    "# X_train_stack, y_train_stack = X_train_stack[p], y_train_stack[p]\n",
    "\n",
    "# X_train_stack.shape, y_train_stack.shape"
   ]
  },
  {
   "cell_type": "code",
   "execution_count": null,
   "metadata": {
    "colab": {
     "base_uri": "https://localhost:8080/",
     "height": 1000
    },
    "executionInfo": {
     "elapsed": 71311,
     "status": "ok",
     "timestamp": 1678484892013,
     "user": {
      "displayName": "Nazmul Hasan",
      "userId": "02122416256231585764"
     },
     "user_tz": 420
    },
    "id": "6-bF77V0vJJd",
    "outputId": "82fb8229-9a03-4c93-dd83-a1ce9203e3d1"
   },
   "outputs": [
    {
     "name": "stdout",
     "output_type": "stream",
     "text": [
      "Epoch 1/50\n",
      "1750/1750 [==============================] - 8s 4ms/step - loss: 0.7704 - accuracy: 0.7930 - val_loss: 0.6334 - val_accuracy: 0.8191\n",
      "Epoch 2/50\n",
      "1750/1750 [==============================] - 7s 4ms/step - loss: 0.5520 - accuracy: 0.8328 - val_loss: 0.5315 - val_accuracy: 0.8374\n",
      "Epoch 3/50\n",
      "1750/1750 [==============================] - 7s 4ms/step - loss: 0.4886 - accuracy: 0.8436 - val_loss: 0.5077 - val_accuracy: 0.8371\n",
      "Epoch 4/50\n",
      "1750/1750 [==============================] - 7s 4ms/step - loss: 0.4537 - accuracy: 0.8504 - val_loss: 0.4878 - val_accuracy: 0.8406\n",
      "Epoch 5/50\n",
      "1750/1750 [==============================] - 6s 3ms/step - loss: 0.4316 - accuracy: 0.8553 - val_loss: 0.4765 - val_accuracy: 0.8411\n",
      "Epoch 6/50\n",
      "1750/1750 [==============================] - 7s 4ms/step - loss: 0.4144 - accuracy: 0.8581 - val_loss: 0.4783 - val_accuracy: 0.8404\n",
      "Epoch 7/50\n",
      "1750/1750 [==============================] - 6s 3ms/step - loss: 0.4004 - accuracy: 0.8616 - val_loss: 0.4780 - val_accuracy: 0.8440\n",
      "Epoch 8/50\n",
      "1750/1750 [==============================] - 7s 4ms/step - loss: 0.3887 - accuracy: 0.8649 - val_loss: 0.4813 - val_accuracy: 0.8406\n",
      "Epoch 9/50\n",
      "1750/1750 [==============================] - 6s 3ms/step - loss: 0.3801 - accuracy: 0.8665 - val_loss: 0.4817 - val_accuracy: 0.8424\n",
      "Epoch 10/50\n",
      "1750/1750 [==============================] - 7s 4ms/step - loss: 0.3713 - accuracy: 0.8690 - val_loss: 0.4815 - val_accuracy: 0.8436\n"
     ]
    },
    {
     "data": {
      "image/png": "[encoded data removed]",
      "text/plain": [
       "<Figure size 432x288 with 1 Axes>"
      ]
     },
     "metadata": {},
     "output_type": "display_data"
    },
    {
     "name": "stdout",
     "output_type": "stream",
     "text": [
      "313/313 [==============================] - 1s 2ms/step\n",
      "Classification Report: \n",
      "               precision    recall  f1-score   support\n",
      "\n",
      "           0       0.99      0.98      0.98       980\n",
      "           1       0.99      0.98      0.98      1135\n",
      "           2       0.96      0.95      0.96      1032\n",
      "           3       0.96      0.97      0.96      1010\n",
      "           4       0.97      0.96      0.96       982\n",
      "           5       0.96      0.96      0.96       892\n",
      "           6       0.96      0.97      0.97       958\n",
      "           7       0.98      0.96      0.97      1028\n",
      "           8       0.93      0.96      0.94       974\n",
      "           9       0.96      0.96      0.96      1009\n",
      "\n",
      "    accuracy                           0.97     10000\n",
      "   macro avg       0.96      0.97      0.96     10000\n",
      "weighted avg       0.97      0.97      0.97     10000\n",
      "\n"
     ]
    },
    {
     "data": {
      "image/png": "[encoded data removed]",
      "text/plain": [
       "<Figure size 504x360 with 2 Axes>"
      ]
     },
     "metadata": {},
     "output_type": "display_data"
    }
   ],
   "source": [
    "# import random\n",
    "# import tensorflow as tf\n",
    "# seed = 42\n",
    "# random.seed(seed)\n",
    "# np.random.seed(seed)\n",
    "# tf.random.set_seed(seed)\n",
    "\n",
    "# MLP_MNIST = models.Sequential([\n",
    "#         layers.Flatten(input_shape=X_train.shape[1:]),\n",
    "#         layers.Dense(2**6, activation='relu'),\n",
    "#         layers.Dense(10, activation='softmax')    \n",
    "#     ])\n",
    "\n",
    "# learning_rate =  0.001\n",
    "# MLP_MNIST.compile(optimizer=tf.keras.optimizers.Adam(learning_rate),\n",
    "#               loss='sparse_categorical_crossentropy',\n",
    "#               metrics=['accuracy'])\n",
    "\n",
    "\n",
    "# early_callbacks = keras.callbacks.EarlyStopping(monitor='val_loss', patience=5)\n",
    "# history_C_MLP_CW = MLP_MNIST.fit(X_train_stack, y_train_stack, epochs=50, batch_size=32,\n",
    "#             validation_split = 0.2, callbacks = early_callbacks, verbose=1, shuffle = True)\n",
    "\n",
    "# filename = 'CW Adversarial Training history MNIST [MLP]'+'.png'\n",
    "# plot_fitting_history(history_C_MLP_CW, filename, dpi = 100)\n",
    "\n",
    "# y_pred = MLP_MNIST.predict(X_test)\n",
    "# y_pred_classes = [np.argmax(element) for element in y_pred]\n",
    "# classification_results(X_test,y_test,y_pred_classes)\n",
    "\n",
    "# MLP_MNIST.save('MLP_MNIST_CW_trained.h5')"
   ]
  },
  {
   "cell_type": "markdown",
   "metadata": {
    "id": "0N6D2BW-v3xT"
   },
   "source": [
    "# Adversarial training of CNN model"
   ]
  },
  {
   "cell_type": "code",
   "execution_count": 16,
   "metadata": {
    "colab": {
     "base_uri": "https://localhost:8080/"
    },
    "executionInfo": {
     "elapsed": 1831373,
     "status": "ok",
     "timestamp": 1678518221497,
     "user": {
      "displayName": "Nazmul Hasan",
      "userId": "13411611242505533411"
     },
     "user_tz": 420
    },
    "id": "ArQC8y76vJIC",
    "outputId": "c0506a1c-11a9-46ee-ee8c-1a9476439601"
   },
   "outputs": [
    {
     "name": "stdout",
     "output_type": "stream",
     "text": [
      "First 500 completed\n",
      "First 1000 completed\n",
      "First 1500 completed\n",
      "First 2000 completed\n",
      "First 2500 completed\n",
      "First 3000 completed\n",
      "First 3500 completed\n",
      "First 4000 completed\n",
      "First 4500 completed\n",
      "First 5000 completed\n",
      "First 500 completed\n",
      "First 1000 completed\n",
      "First 1500 completed\n",
      "First 2000 completed\n",
      "First 2500 completed\n",
      "First 500 completed\n",
      "First 1000 completed\n",
      "First 500 completed\n",
      "First 500 completed\n",
      "Average l2 distance of the perturbation: 12.552330866440478\n"
     ]
    }
   ],
   "source": [
    "indexes = np.arange(0,5000); c = 0.1\n",
    "X_train_CW_CNN_1 = CW_advarsarial_examples(CNN_MNIST, X_test[indexes], c = c, \\\n",
    "                                              lr_factor= lr_factor, max_lr = max_lr, max_iter = max_iter)\n",
    "X_train_CW_CNN_1 = correction_for_nan_entries(X_train_CW_CNN_1, X_test[indexes])\n",
    "\n",
    "indexes = np.arange(5000,7500); c = 0.2\n",
    "X_train_CW_CNN_2 = CW_advarsarial_examples(CNN_MNIST, X_test[indexes], c = c, \\\n",
    "                                              lr_factor= lr_factor, max_lr = max_lr, max_iter = max_iter)\n",
    "X_train_CW_CNN_2 = correction_for_nan_entries(X_train_CW_CNN_2, X_test[indexes])\n",
    "\n",
    "indexes = np.arange(7500,8750); c = 0.3\n",
    "X_train_CW_CNN_3 = CW_advarsarial_examples(CNN_MNIST, X_test[indexes], c = c, \\\n",
    "                                              lr_factor= lr_factor, max_lr = max_lr, max_iter = max_iter)\n",
    "X_train_CW_CNN_3 = correction_for_nan_entries(X_train_CW_CNN_3, X_test[indexes])\n",
    "\n",
    "indexes = np.arange(8750, 9375); c = 0.4\n",
    "X_train_CW_CNN_4 = CW_advarsarial_examples(CNN_MNIST, X_test[indexes], c = c, \\\n",
    "                                              lr_factor= lr_factor, max_lr = max_lr, max_iter = max_iter)\n",
    "X_train_CW_CNN_4 = correction_for_nan_entries(X_train_CW_CNN_4, X_test[indexes])\n",
    "\n",
    "indexes = np.arange(9375, 10000); c = 0.5\n",
    "X_train_CW_CNN_5 = CW_advarsarial_examples(CNN_MNIST, X_test[indexes], c = c, \\\n",
    "                                              lr_factor= lr_factor, max_lr = max_lr, max_iter = max_iter)\n",
    "X_train_CW_CNN_5 = correction_for_nan_entries(X_train_CW_CNN_5, X_test[indexes])\n",
    "\n",
    "X_train_CW_CNN = np.concatenate((X_train_CW_CNN_1, X_train_CW_CNN_2, X_train_CW_CNN_3,\\\n",
    "                                X_train_CW_CNN_4, X_train_CW_CNN_5), axis = 0)\n",
    "\n",
    "indexes = range(10000)\n",
    "avg_l2_norm = np.mean(np.sqrt(np.sum((X_train_CW_CNN-X_train[indexes])**2, axis=(1,2))))\n",
    "print(\"Average l2 distance of the perturbation:\", avg_l2_norm)"
   ]
  },
  {
   "cell_type": "code",
   "execution_count": 17,
   "metadata": {
    "colab": {
     "base_uri": "https://localhost:8080/"
    },
    "executionInfo": {
     "elapsed": 291,
     "status": "ok",
     "timestamp": 1678518221738,
     "user": {
      "displayName": "Nazmul Hasan",
      "userId": "13411611242505533411"
     },
     "user_tz": 420
    },
    "id": "xO88xS1cvI-4",
    "outputId": "a2a9bd33-ad3f-4631-ea04-6a72b12d7f5e"
   },
   "outputs": [
    {
     "data": {
      "text/plain": [
       "((70000, 28, 28), (70000,))"
      ]
     },
     "execution_count": 17,
     "metadata": {},
     "output_type": "execute_result"
    }
   ],
   "source": [
    "X_train_stack = np.concatenate((X_train, X_train_CW_CNN), axis = 0)\n",
    "y_train_stack = np.concatenate((y_train, y_train[indexes]), axis = 0)\n",
    "\n",
    "p = np.random.permutation(len(X_train_stack))\n",
    "X_train_stack, y_train_stack = X_train_stack[p], y_train_stack[p]\n",
    "\n",
    "X_train_stack.shape, y_train_stack.shape"
   ]
  },
  {
   "cell_type": "code",
   "execution_count": 18,
   "metadata": {
    "colab": {
     "base_uri": "https://localhost:8080/",
     "height": 1000
    },
    "executionInfo": {
     "elapsed": 146861,
     "status": "ok",
     "timestamp": 1678518368595,
     "user": {
      "displayName": "Nazmul Hasan",
      "userId": "13411611242505533411"
     },
     "user_tz": 420
    },
    "id": "WgvFkkMrwI1z",
    "outputId": "5261d72c-36f1-46e9-9e95-29a62c62a1b2"
   },
   "outputs": [
    {
     "name": "stdout",
     "output_type": "stream",
     "text": [
      "Epoch 1/50\n",
      "1750/1750 [==============================] - 10s 4ms/step - loss: 0.7355 - accuracy: 0.7931 - val_loss: 0.5501 - val_accuracy: 0.8349\n",
      "Epoch 2/50\n",
      "1750/1750 [==============================] - 6s 4ms/step - loss: 0.5000 - accuracy: 0.8437 - val_loss: 0.4813 - val_accuracy: 0.8429\n",
      "Epoch 3/50\n",
      "1750/1750 [==============================] - 9s 5ms/step - loss: 0.4523 - accuracy: 0.8517 - val_loss: 0.4552 - val_accuracy: 0.8465\n",
      "Epoch 4/50\n",
      "1750/1750 [==============================] - 7s 4ms/step - loss: 0.4284 - accuracy: 0.8545 - val_loss: 0.4541 - val_accuracy: 0.8444\n",
      "Epoch 5/50\n",
      "1750/1750 [==============================] - 7s 4ms/step - loss: 0.4116 - accuracy: 0.8579 - val_loss: 0.4395 - val_accuracy: 0.8464\n",
      "Epoch 6/50\n",
      "1750/1750 [==============================] - 7s 4ms/step - loss: 0.3992 - accuracy: 0.8601 - val_loss: 0.4279 - val_accuracy: 0.8476\n",
      "Epoch 7/50\n",
      "1750/1750 [==============================] - 7s 4ms/step - loss: 0.3903 - accuracy: 0.8622 - val_loss: 0.4339 - val_accuracy: 0.8489\n",
      "Epoch 8/50\n",
      "1750/1750 [==============================] - 6s 4ms/step - loss: 0.3822 - accuracy: 0.8636 - val_loss: 0.4197 - val_accuracy: 0.8503\n",
      "Epoch 9/50\n",
      "1750/1750 [==============================] - 9s 5ms/step - loss: 0.3745 - accuracy: 0.8655 - val_loss: 0.4300 - val_accuracy: 0.8476\n",
      "Epoch 10/50\n",
      "1750/1750 [==============================] - 7s 4ms/step - loss: 0.3684 - accuracy: 0.8667 - val_loss: 0.4285 - val_accuracy: 0.8468\n",
      "Epoch 11/50\n",
      "1750/1750 [==============================] - 8s 4ms/step - loss: 0.3624 - accuracy: 0.8679 - val_loss: 0.4211 - val_accuracy: 0.8500\n",
      "Epoch 12/50\n",
      "1750/1750 [==============================] - 7s 4ms/step - loss: 0.3577 - accuracy: 0.8685 - val_loss: 0.4210 - val_accuracy: 0.8487\n",
      "Epoch 13/50\n",
      "1750/1750 [==============================] - 7s 4ms/step - loss: 0.3531 - accuracy: 0.8695 - val_loss: 0.4215 - val_accuracy: 0.8505\n"
     ]
    },
    {
     "data": {
      "image/png": "[encoded data removed]",
      "text/plain": [
       "<Figure size 432x288 with 1 Axes>"
      ]
     },
     "metadata": {
      "needs_background": "light"
     },
     "output_type": "display_data"
    },
    {
     "name": "stdout",
     "output_type": "stream",
     "text": [
      "313/313 [==============================] - 1s 2ms/step\n",
      "Classification Report: \n",
      "               precision    recall  f1-score   support\n",
      "\n",
      "           0       0.98      0.98      0.98       980\n",
      "           1       0.99      0.99      0.99      1135\n",
      "           2       0.98      0.97      0.97      1032\n",
      "           3       0.98      0.98      0.98      1010\n",
      "           4       0.98      0.97      0.98       982\n",
      "           5       0.97      0.97      0.97       892\n",
      "           6       0.97      0.99      0.98       958\n",
      "           7       0.96      0.98      0.97      1028\n",
      "           8       0.98      0.97      0.97       974\n",
      "           9       0.97      0.97      0.97      1009\n",
      "\n",
      "    accuracy                           0.98     10000\n",
      "   macro avg       0.98      0.98      0.98     10000\n",
      "weighted avg       0.98      0.98      0.98     10000\n",
      "\n"
     ]
    },
    {
     "data": {
      "image/png": "[encoded data removed]",
      "text/plain": [
       "<Figure size 504x360 with 2 Axes>"
      ]
     },
     "metadata": {
      "needs_background": "light"
     },
     "output_type": "display_data"
    }
   ],
   "source": [
    "import random\n",
    "import tensorflow as tf\n",
    "seed = 42\n",
    "random.seed(seed)\n",
    "np.random.seed(seed)\n",
    "tf.random.set_seed(seed)\n",
    "\n",
    "CNN_MNIST = models.Sequential([\n",
    "    layers.Conv2D(filters=2**4, kernel_size=(3, 3), padding = 'same', \n",
    "                  activation='relu', input_shape=(28,28,1)),\n",
    "    layers.MaxPooling2D((2, 2)),\n",
    "    \n",
    "    layers.Flatten(),\n",
    "    layers.Dense(2**4, activation='relu'),\n",
    "    layers.Dense(10, activation='softmax')\n",
    "])\n",
    "\n",
    "learning_rate =  0.001\n",
    "CNN_MNIST.compile(optimizer=tf.keras.optimizers.Adam(learning_rate),\n",
    "              loss='sparse_categorical_crossentropy',\n",
    "              metrics=['accuracy'])\n",
    "\n",
    "early_callbacks = keras.callbacks.EarlyStopping(monitor='val_loss', patience=5)\n",
    "history_C_CNN_CW = CNN_MNIST.fit(X_train_stack, y_train_stack, epochs=50, batch_size=32,\n",
    "            validation_split = 0.2, callbacks = early_callbacks, verbose=1, shuffle = True)\n",
    "\n",
    "filename = 'CW Adversarial Training history MNIST [CNN]'+'.png'\n",
    "plot_fitting_history(history_C_CNN_CW, filename, dpi = 100)\n",
    "\n",
    "y_pred = CNN_MNIST.predict(X_test)\n",
    "y_pred_classes = [np.argmax(element) for element in y_pred]\n",
    "classification_results(X_test,y_test,y_pred_classes)\n",
    "\n",
    "CNN_MNIST.save('CNN_MNIST_CW_trained.h5')"
   ]
  },
  {
   "cell_type": "markdown",
   "metadata": {
    "id": "eV6J8d6jwnTm"
   },
   "source": [
    "# Evaluate performance of adversarial training"
   ]
  },
  {
   "cell_type": "code",
   "execution_count": 8,
   "metadata": {},
   "outputs": [
    {
     "name": "stdout",
     "output_type": "stream",
     "text": [
      "C:\\Users\\nh202\\My Drive (nh202@arizona.edu)\\ECE 696B\\Project - ECE696B\n"
     ]
    }
   ],
   "source": [
    "%cd C:\\Users\\nh202\\My Drive (nh202@arizona.edu)\\ECE 696B\\Project - ECE696B\n",
    "from keras.models import load_model\n",
    "Linear_MNIST = load_model('Linear_MNIST_CW_trained.h5')\n",
    "MLP_MNIST = load_model('MLP_MNIST_CW_trained.h5')\n",
    "CNN_MNIST = load_model('CNN_MNIST_CW_trained.h5')"
   ]
  },
  {
   "cell_type": "code",
   "execution_count": 9,
   "metadata": {
    "id": "cshQXUnApVqT",
    "outputId": "ec4bca7c-acad-4003-c4ef-1e6b83320cab"
   },
   "outputs": [
    {
     "name": "stdout",
     "output_type": "stream",
     "text": [
      "C:\\Users\\nh202\\OneDrive - University of Arizona\\Adversairal Examples - ECE 696B\\CW\n"
     ]
    }
   ],
   "source": [
    "%cd C:\\Users\\nh202\\OneDrive - University of Arizona\\Adversairal Examples - ECE 696B\\CW"
   ]
  },
  {
   "cell_type": "markdown",
   "metadata": {
    "id": "mELAztcrBvd7"
   },
   "source": [
    "# Prepare batches of adversarial examples of Linear model"
   ]
  },
  {
   "cell_type": "markdown",
   "metadata": {
    "id": "6W3xuwbXpVqU"
   },
   "source": [
    "**Batches of 1000 for different $c$ values**"
   ]
  },
  {
   "cell_type": "code",
   "execution_count": 11,
   "metadata": {
    "id": "M1Y5TBzwpVqU"
   },
   "outputs": [],
   "source": [
    "model = Linear_MNIST\n",
    "for c in np.arange(0.6,1.1,0.1):\n",
    "    starting_point = 0;\n",
    "    for lot in [0]:\n",
    "      x_adv_stack_Linear_Lot = CW_advarsarial_examples(model, X_test, c = c, lr_factor= lr_factor, \\\n",
    "                                                                  max_lr = max_lr, max_iter = max_iter, \\\n",
    "                                                 starting_point = starting_point, num_samples = num_samples)\n",
    "      filename = 'MNIST_x_adv_stack_Linear_Lot' + str(lot+1) + '_c' + str(np.round(c,1)) + '.npy'\n",
    "      np.save(filename, x_adv_stack_Linear_Lot)\n",
    "      starting_point = starting_point + 1000"
   ]
  },
  {
   "cell_type": "code",
   "execution_count": null,
   "metadata": {
    "id": "ZAsMszXspVqU",
    "outputId": "75e5ad1c-f7bc-470f-baf3-84e5485656d2"
   },
   "outputs": [],
   "source": [
    "stored_results = []\n",
    "lot = 0\n",
    "for c in np.arange(0.1,1.1,0.1):\n",
    "    filename = 'MNIST_x_adv_stack_Linear_Lot' + str(lot+1) + '_c' + str(np.round(c,1)) + '.npy'\n",
    "    x_adv_stack = np.load(filename)\n",
    "    \n",
    "    stored_results.append(np.round(c,1))\n",
    "    stored_results.append('Linear')\n",
    "    \n",
    "    avg_l2_norm = np.mean(np.sqrt(np.sum((x_adv_stack-X_test[:len(x_adv_stack)])**2, axis=(1,2))))    \n",
    "    \n",
    "    if np.isnan(avg_l2_norm):\n",
    "        # print(avg_l2_norm)\n",
    "        delta = x_adv_stack-X_test[:len(x_adv_stack)]\n",
    "        indices = np.argwhere(np.isnan(delta))\n",
    "        # print(indices)\n",
    "        delta[indices] = 1\n",
    "        x_adv_stack = X_test[:len(x_adv_stack)] + delta\n",
    "        x_adv_stack = np.clip(x_adv_stack, 0, 1)\n",
    "        delta = x_adv_stack-X_test[:len(x_adv_stack)]\n",
    "        avg_l2_norm = np.mean(np.sqrt(np.sum((x_adv_stack-X_test[:len(x_adv_stack)])**2, axis=(1,2))))\n",
    "\n",
    "    \n",
    "    # print(avg_l2_norm)\n",
    "    stored_results.append(avg_l2_norm)\n",
    "    \n",
    "    _, accuracy = Linear_MNIST.evaluate(x_adv_stack,y_test[:len(x_adv_stack)])\n",
    "    stored_results.append(accuracy)\n",
    "    _, accuracy = MLP_MNIST.evaluate(x_adv_stack,y_test[:len(x_adv_stack)])\n",
    "    stored_results.append(accuracy)\n",
    "    _, accuracy = CNN_MNIST.evaluate(x_adv_stack,y_test[:len(x_adv_stack)])\n",
    "    stored_results.append(accuracy)\n",
    "    \n",
    "stored_results = np.array(stored_results)\n",
    "stored_results = stored_results.reshape(-1,6)\n",
    "df = pd.DataFrame(stored_results, columns = ['c value','Target model','avg_l2_norm','Linear_MNIST_test_accuray',\\\n",
    "                                              'MLP_MNIST_test_accuray','CNN_MNIST_test_accuray'])\n",
    "filename = 'Post training Adversarial_Attacks_MNIST for Linear model [CW Attack].csv'\n",
    "df.to_csv(filename, index=False)\n",
    "df"
   ]
  },
  {
   "cell_type": "code",
   "execution_count": 14,
   "metadata": {
    "id": "OUZ-0pUSpVqV",
    "outputId": "c1d37d93-9f6e-4d5b-e599-dc4230d51095"
   },
   "outputs": [
    {
     "name": "stdout",
     "output_type": "stream",
     "text": [
      "Test accuracy on unperturbed data\n",
      "32/32 [==============================] - 0s 997us/step - loss: 0.4194 - accuracy: 0.9030\n",
      "32/32 [==============================] - 0s 1ms/step - loss: 0.1029 - accuracy: 0.9660\n",
      "32/32 [==============================] - 0s 3ms/step - loss: 0.0901 - accuracy: 0.9720\n",
      "Test accuracy on unperturbed data\n",
      "32/32 [==============================] - 0s 901us/step - loss: 0.4194 - accuracy: 0.9030\n",
      "32/32 [==============================] - 0s 1ms/step - loss: 0.1029 - accuracy: 0.9660\n",
      "32/32 [==============================] - 0s 3ms/step - loss: 0.0901 - accuracy: 0.9720\n"
     ]
    },
    {
     "data": {
      "image/png": "[encoded data removed]",
      "text/plain": [
       "<Figure size 432x288 with 1 Axes>"
      ]
     },
     "metadata": {
      "needs_background": "light"
     },
     "output_type": "display_data"
    }
   ],
   "source": [
    "indexes = range(1000)\n",
    "df = pd.read_csv('Post training Adversarial_Attacks_MNIST for Linear model [CW Attack].csv')\n",
    "print('Test accuracy on unperturbed data')\n",
    "_, accurcy_Linear = Linear_MNIST.evaluate(X_test[indexes],y_test[indexes]);\n",
    "_, accurcy_MLP = MLP_MNIST.evaluate(X_test[indexes],y_test[indexes]);\n",
    "_, accurcy_CNN = CNN_MNIST.evaluate(X_test[indexes],y_test[indexes]);\n",
    "# print('\\n')\n",
    "df.loc[10] = [0, '-', 0, accurcy_Linear, accurcy_MLP, accurcy_CNN]\n",
    "df\n",
    "df = df.sort_values('avg_l2_norm', ascending=True)\n",
    "# plt.plot(df['avg_l2_norm'],df['Linear_MNIST_test_accuray'],'o-')\n",
    "# plt.plot(df['avg_l2_norm'],df['MLP_MNIST_test_accuray'],'o-')\n",
    "# plt.plot(df['avg_l2_norm'],df['CNN_MNIST_test_accuray'],'o-')\n",
    "plt.plot(df['avg_l2_norm'],df['Linear_MNIST_test_accuray'],'o-', color = 'C0')\n",
    "\n",
    "df = pd.read_csv('Adversarial_Attacks_MNIST for Linear model [CW Attack].csv')\n",
    "print('Test accuracy on unperturbed data')\n",
    "_, accurcy_Linear = Linear_MNIST.evaluate(X_test[indexes],y_test[indexes]);\n",
    "_, accurcy_MLP = MLP_MNIST.evaluate(X_test[indexes],y_test[indexes]);\n",
    "_, accurcy_CNN = CNN_MNIST.evaluate(X_test[indexes],y_test[indexes]);\n",
    "# print('\\n')\n",
    "df.loc[10] = [0, '-', 0, accurcy_Linear, accurcy_MLP, accurcy_CNN]\n",
    "df\n",
    "df = df.sort_values('avg_l2_norm', ascending=True)\n",
    "# plt.plot(df['avg_l2_norm'],df['Linear_MNIST_test_accuray'],'o--', color = 'C0')\n",
    "# plt.plot(df['avg_l2_norm'],df['MLP_MNIST_test_accuray'],'o--', color = 'C1')\n",
    "# plt.plot(df['avg_l2_norm'],df['CNN_MNIST_test_accuray'],'o--', color = 'C2')\n",
    "plt.plot(df['avg_l2_norm'],df['Linear_MNIST_test_accuray'],'o--', color = 'C0')\n",
    "\n",
    "plt.xlabel('Average $l_2$ norm of the perturbation')\n",
    "plt.ylabel('Test accuracy')\n",
    "# plt.legend(['Linear (after AT)', 'MLP (after AT)','CNN (after AT)', \\\n",
    "#             'Linear (before AT)', 'MLP (before AT)','CNN (before AT)'])\n",
    "plt.legend(['Linear (after AT)', 'Linear (before AT)'])\n",
    "plt.ylim([-0.1,1.1])\n",
    "\n",
    "plt.title('Effect of CW attack on MNIST\\nbefore and after adversarial training (AT)') #\\nTraget model: Linear')\n",
    "plt.savefig('Post training Effect of CW attack on MNIST for Linear model [l2 norm]_1', dpi=600)\n",
    "plt.show()"
   ]
  },
  {
   "cell_type": "markdown",
   "metadata": {
    "id": "ldp7OT4TDVMB"
   },
   "source": [
    "# Prepare batches of adversarial examples of MLP model"
   ]
  },
  {
   "cell_type": "markdown",
   "metadata": {
    "id": "clI1lYg3pVqV"
   },
   "source": [
    "**Batches of 1000 for different $c$ values**"
   ]
  },
  {
   "cell_type": "code",
   "execution_count": null,
   "metadata": {
    "id": "pMDpcxB5pVqV",
    "outputId": "4f515583-5ab1-44b3-8549-6835785e8053"
   },
   "outputs": [],
   "source": [
    "model = MLP_MNIST\n",
    "for c in np.arange(0.1,1.1,0.1):\n",
    "    starting_point = 0;\n",
    "    for lot in [0]:\n",
    "      x_adv_stack_MLP_Lot = CW_advarsarial_examples(model, X_test, c = c, lr_factor= lr_factor, \\\n",
    "                                                                  max_lr = max_lr, max_iter = max_iter, \\\n",
    "                                                 starting_point = starting_point, num_samples = num_samples)\n",
    "      filename = 'MNIST_x_adv_stack_MLP_Lot' + str(lot+1) + '_c' + str(np.round(c,1)) + '.npy'\n",
    "      np.save(filename, x_adv_stack_MLP_Lot)\n",
    "      starting_point = starting_point + 1000"
   ]
  },
  {
   "cell_type": "code",
   "execution_count": null,
   "metadata": {
    "id": "dXrmja-YpVqW",
    "outputId": "19e296fd-b5e2-4843-9b82-0cabbc03752d"
   },
   "outputs": [],
   "source": [
    "stored_results = []\n",
    "lot = 0\n",
    "for c in np.arange(0.1,1.1,0.1):\n",
    "    filename = 'MNIST_x_adv_stack_MLP_Lot' + str(lot+1) + '_c' + str(np.round(c,1)) + '.npy'\n",
    "    x_adv_stack = np.load(filename)\n",
    "    \n",
    "    stored_results.append(np.round(c,1))\n",
    "    stored_results.append('MLP')\n",
    "    \n",
    "    avg_l2_norm = np.mean(np.sqrt(np.sum((x_adv_stack-X_test[:len(x_adv_stack)])**2, axis=(1,2))))    \n",
    "    \n",
    "    if np.isnan(avg_l2_norm):\n",
    "        # print(avg_l2_norm)\n",
    "        delta = x_adv_stack-X_test[:len(x_adv_stack)]\n",
    "        indices = np.argwhere(np.isnan(delta))\n",
    "        # print(indices)\n",
    "        delta[indices] = 1\n",
    "        x_adv_stack = X_test[:len(x_adv_stack)] + delta\n",
    "        x_adv_stack = np.clip(x_adv_stack, 0, 1)\n",
    "        delta = x_adv_stack-X_test[:len(x_adv_stack)]\n",
    "        avg_l2_norm = np.mean(np.sqrt(np.sum((x_adv_stack-X_test[:len(x_adv_stack)])**2, axis=(1,2))))\n",
    "\n",
    "    \n",
    "    # print(avg_l2_norm)\n",
    "    stored_results.append(avg_l2_norm)\n",
    "    \n",
    "    _, accuracy = Linear_MNIST.evaluate(x_adv_stack,y_test[:len(x_adv_stack)])\n",
    "    stored_results.append(accuracy)\n",
    "    _, accuracy = MLP_MNIST.evaluate(x_adv_stack,y_test[:len(x_adv_stack)])\n",
    "    stored_results.append(accuracy)\n",
    "    _, accuracy = CNN_MNIST.evaluate(x_adv_stack,y_test[:len(x_adv_stack)])\n",
    "    stored_results.append(accuracy)\n",
    "    \n",
    "stored_results = np.array(stored_results)\n",
    "stored_results = stored_results.reshape(-1,6)\n",
    "df = pd.DataFrame(stored_results, columns = ['c value','Target model','avg_l2_norm','Linear_MNIST_test_accuray',\\\n",
    "                                              'MLP_MNIST_test_accuray','CNN_MNIST_test_accuray'])\n",
    "filename = 'Post training Adversarial_Attacks_MNIST for MLP model [CW Attack].csv'\n",
    "df.to_csv(filename, index=False)\n",
    "df"
   ]
  },
  {
   "cell_type": "code",
   "execution_count": 15,
   "metadata": {
    "id": "9WnQGus-pVqW",
    "outputId": "299894bd-1546-43b3-b23b-bd77ada6022b"
   },
   "outputs": [
    {
     "name": "stdout",
     "output_type": "stream",
     "text": [
      "Test accuracy on unperturbed data\n",
      "32/32 [==============================] - 0s 993us/step - loss: 0.4194 - accuracy: 0.9030\n",
      "32/32 [==============================] - 0s 1ms/step - loss: 0.1029 - accuracy: 0.9660\n",
      "32/32 [==============================] - 0s 2ms/step - loss: 0.0901 - accuracy: 0.9720\n",
      "Test accuracy on unperturbed data\n",
      "32/32 [==============================] - 0s 997us/step - loss: 0.4194 - accuracy: 0.9030\n",
      "32/32 [==============================] - 0s 1ms/step - loss: 0.1029 - accuracy: 0.9660\n",
      "32/32 [==============================] - 0s 3ms/step - loss: 0.0901 - accuracy: 0.9720\n"
     ]
    },
    {
     "data": {
      "image/png": "[encoded data removed]",
      "text/plain": [
       "<Figure size 432x288 with 1 Axes>"
      ]
     },
     "metadata": {
      "needs_background": "light"
     },
     "output_type": "display_data"
    }
   ],
   "source": [
    "indexes = range(1000)\n",
    "df = pd.read_csv('Post training Adversarial_Attacks_MNIST for MLP model [CW Attack].csv')\n",
    "print('Test accuracy on unperturbed data')\n",
    "_, accurcy_Linear = Linear_MNIST.evaluate(X_test[indexes],y_test[indexes]);\n",
    "_, accurcy_MLP = MLP_MNIST.evaluate(X_test[indexes],y_test[indexes]);\n",
    "_, accurcy_CNN = CNN_MNIST.evaluate(X_test[indexes],y_test[indexes]);\n",
    "# print('\\n')\n",
    "df.loc[10] = [0, '-', 0, accurcy_Linear, accurcy_MLP, accurcy_CNN]\n",
    "df\n",
    "df = df.sort_values('avg_l2_norm', ascending=True)\n",
    "# plt.plot(df['avg_l2_norm'],df['Linear_MNIST_test_accuray'],'o-')\n",
    "# plt.plot(df['avg_l2_norm'],df['MLP_MNIST_test_accuray'],'o-')\n",
    "# plt.plot(df['avg_l2_norm'],df['CNN_MNIST_test_accuray'],'o-')\n",
    "plt.plot(df['avg_l2_norm'],df['MLP_MNIST_test_accuray'],'o-', color = 'C1')\n",
    "\n",
    "df = pd.read_csv('Adversarial_Attacks_MNIST for MLP model [CW Attack].csv')\n",
    "print('Test accuracy on unperturbed data')\n",
    "_, accurcy_Linear = Linear_MNIST.evaluate(X_test[indexes],y_test[indexes]);\n",
    "_, accurcy_MLP = MLP_MNIST.evaluate(X_test[indexes],y_test[indexes]);\n",
    "_, accurcy_CNN = CNN_MNIST.evaluate(X_test[indexes],y_test[indexes]);\n",
    "# print('\\n')\n",
    "df.loc[10] = [0, '-', 0, accurcy_Linear, accurcy_MLP, accurcy_CNN]\n",
    "df\n",
    "df = df.sort_values('avg_l2_norm', ascending=True)\n",
    "# plt.plot(df['avg_l2_norm'],df['Linear_MNIST_test_accuray'],'o--', color = 'C0')\n",
    "# plt.plot(df['avg_l2_norm'],df['MLP_MNIST_test_accuray'],'o--', color = 'C1')\n",
    "# plt.plot(df['avg_l2_norm'],df['CNN_MNIST_test_accuray'],'o--', color = 'C2')\n",
    "plt.plot(df['avg_l2_norm'],df['MLP_MNIST_test_accuray'],'o--', color = 'C1')\n",
    "\n",
    "plt.xlabel('Average $l_2$ norm of the perturbation')\n",
    "plt.ylabel('Test accuracy')\n",
    "# plt.legend(['Linear (after AT)', 'MLP (after AT)','CNN (after AT)', \\\n",
    "#             'Linear (before AT)', 'MLP (before AT)','CNN (before AT)'])\n",
    "plt.legend(['MLP (after AT)', 'MLP (before AT)'])\n",
    "plt.ylim([-0.1,1.1])\n",
    "\n",
    "plt.title('Effect of CW attack on MNIST\\nbefore and after adversarial training (AT)') #\\nTraget model: MLP')\n",
    "plt.savefig('Post training Effect of CW attack on MNIST for MLP model [l2 norm]_1', dpi=600)\n",
    "plt.show()"
   ]
  },
  {
   "cell_type": "markdown",
   "metadata": {
    "id": "3uVyO7HmDYE8"
   },
   "source": [
    "# Prepare batches of adversarial examples of CNN model"
   ]
  },
  {
   "cell_type": "code",
   "execution_count": null,
   "metadata": {
    "id": "HWPQ69bmpVqX",
    "outputId": "43c05a6e-e573-4fcc-bc1c-5501ff6f3244"
   },
   "outputs": [],
   "source": [
    "model = CNN_MNIST\n",
    "for c in np.arange(0.1,1.1,0.1):\n",
    "    starting_point = 0;\n",
    "    for lot in [0]:\n",
    "      x_adv_stack_CNN_Lot = CW_advarsarial_examples(model, X_test, c = c, lr_factor= lr_factor, \\\n",
    "                                                                  max_lr = max_lr, max_iter = max_iter, \\\n",
    "                                                 starting_point = starting_point, num_samples = num_samples)\n",
    "      filename = 'MNIST_x_adv_stack_CNN_Lot' + str(lot+1) + '_c' + str(np.round(c,1)) + '.npy'\n",
    "      np.save(filename, x_adv_stack_CNN_Lot)\n",
    "      starting_point = starting_point + 1000"
   ]
  },
  {
   "cell_type": "code",
   "execution_count": null,
   "metadata": {
    "id": "dv1ZHvaMpVqX",
    "outputId": "2c393452-40b5-44c3-87fc-ba6c0f9f0766"
   },
   "outputs": [],
   "source": [
    "stored_results = []\n",
    "lot  = 0\n",
    "for c in np.arange(0.1,1.1,0.1):\n",
    "    filename = 'MNIST_x_adv_stack_CNN_Lot' + str(lot+1) + '_c' + str(np.round(c,1)) + '.npy'\n",
    "    x_adv_stack = np.load(filename)\n",
    "    \n",
    "    stored_results.append(np.round(c,1))\n",
    "    stored_results.append('CNN')\n",
    "    \n",
    "    avg_l2_norm = np.mean(np.sqrt(np.sum((x_adv_stack-X_test[:len(x_adv_stack)])**2, axis=(1,2))))\n",
    "    \n",
    "    if np.isnan(avg_l2_norm):\n",
    "        # print(avg_l2_norm)\n",
    "        delta = x_adv_stack-X_test[:len(x_adv_stack)]\n",
    "        indices = np.argwhere(np.isnan(delta))\n",
    "        # print(indices)\n",
    "        delta[indices] = 1\n",
    "        x_adv_stack = X_test[:len(x_adv_stack)] + delta\n",
    "        x_adv_stack = np.clip(x_adv_stack, 0, 1)\n",
    "        delta = x_adv_stack-X_test[:len(x_adv_stack)]\n",
    "        avg_l2_norm = np.mean(np.sqrt(np.sum((x_adv_stack-X_test[:len(x_adv_stack)])**2, axis=(1,2))))\n",
    "        \n",
    "    # print(avg_l2_norm)\n",
    "    stored_results.append(avg_l2_norm)\n",
    "    \n",
    "    _, accuracy = Linear_MNIST.evaluate(x_adv_stack,y_test[:len(x_adv_stack)])\n",
    "    stored_results.append(accuracy)\n",
    "    _, accuracy = MLP_MNIST.evaluate(x_adv_stack,y_test[:len(x_adv_stack)])\n",
    "    stored_results.append(accuracy)\n",
    "    _, accuracy = CNN_MNIST.evaluate(x_adv_stack,y_test[:len(x_adv_stack)])\n",
    "    stored_results.append(accuracy)\n",
    "    \n",
    "stored_results = np.array(stored_results)\n",
    "stored_results = stored_results.reshape(-1,6)\n",
    "df = pd.DataFrame(stored_results, columns = ['c value','Target model','avg_l2_norm','Linear_MNIST_test_accuray',\\\n",
    "                                              'MLP_MNIST_test_accuray','CNN_MNIST_test_accuray'])\n",
    "filename = 'Post training Adversarial_Attacks_MNIST for CNN model [CW Attack].csv'\n",
    "df.to_csv(filename, index=False)\n",
    "df"
   ]
  },
  {
   "cell_type": "code",
   "execution_count": 16,
   "metadata": {
    "id": "GpUtkIk5pVqX",
    "outputId": "3a3f98ec-e435-4221-8d1c-ff435d91cb26"
   },
   "outputs": [
    {
     "name": "stdout",
     "output_type": "stream",
     "text": [
      "Test accuracy on unperturbed data\n",
      "32/32 [==============================] - 0s 836us/step - loss: 0.4194 - accuracy: 0.9030\n",
      "32/32 [==============================] - 0s 965us/step - loss: 0.1029 - accuracy: 0.9660\n",
      "32/32 [==============================] - 0s 2ms/step - loss: 0.0901 - accuracy: 0.9720\n",
      "Test accuracy on unperturbed data\n",
      "32/32 [==============================] - 0s 804us/step - loss: 0.4194 - accuracy: 0.9030\n",
      "32/32 [==============================] - 0s 1ms/step - loss: 0.1029 - accuracy: 0.9660\n",
      "32/32 [==============================] - 0s 3ms/step - loss: 0.0901 - accuracy: 0.9720\n"
     ]
    },
    {
     "data": {
      "image/png": "[encoded data removed]",
      "text/plain": [
       "<Figure size 432x288 with 1 Axes>"
      ]
     },
     "metadata": {
      "needs_background": "light"
     },
     "output_type": "display_data"
    }
   ],
   "source": [
    "indexes = range(1000)\n",
    "df = pd.read_csv('Post training Adversarial_Attacks_MNIST for CNN model [CW Attack].csv')\n",
    "print('Test accuracy on unperturbed data')\n",
    "_, accurcy_Linear = Linear_MNIST.evaluate(X_test[indexes],y_test[indexes]);\n",
    "_, accurcy_MLP = MLP_MNIST.evaluate(X_test[indexes],y_test[indexes]);\n",
    "_, accurcy_CNN = CNN_MNIST.evaluate(X_test[indexes],y_test[indexes]);\n",
    "# print('\\n')\n",
    "df.loc[10] = [0, '-', 0, accurcy_Linear, accurcy_MLP, accurcy_CNN]\n",
    "df\n",
    "df = df.sort_values('avg_l2_norm', ascending=True)\n",
    "# plt.plot(df['avg_l2_norm'],df['Linear_MNIST_test_accuray'],'o-')\n",
    "# plt.plot(df['avg_l2_norm'],df['MLP_MNIST_test_accuray'],'o-')\n",
    "# plt.plot(df['avg_l2_norm'],df['CNN_MNIST_test_accuray'],'o-')\n",
    "plt.plot(df['avg_l2_norm'],df['CNN_MNIST_test_accuray'],'o-', color = 'C2')\n",
    "\n",
    "df = pd.read_csv('Adversarial_Attacks_MNIST for CNN model [CW Attack].csv')\n",
    "print('Test accuracy on unperturbed data')\n",
    "_, accurcy_Linear = Linear_MNIST.evaluate(X_test[indexes],y_test[indexes]);\n",
    "_, accurcy_MLP = MLP_MNIST.evaluate(X_test[indexes],y_test[indexes]);\n",
    "_, accurcy_CNN = CNN_MNIST.evaluate(X_test[indexes],y_test[indexes]);\n",
    "# print('\\n')\n",
    "df.loc[10] = [0, '-', 0, accurcy_Linear, accurcy_MLP, accurcy_CNN]\n",
    "df\n",
    "df = df.sort_values('avg_l2_norm', ascending=True)\n",
    "# plt.plot(df['avg_l2_norm'],df['Linear_MNIST_test_accuray'],'o--', color = 'C0')\n",
    "# plt.plot(df['avg_l2_norm'],df['MLP_MNIST_test_accuray'],'o--', color = 'C1')\n",
    "# plt.plot(df['avg_l2_norm'],df['CNN_MNIST_test_accuray'],'o--', color = 'C2')\n",
    "plt.plot(df['avg_l2_norm'],df['CNN_MNIST_test_accuray'],'o--', color = 'C2')\n",
    "\n",
    "plt.xlabel('Average $l_2$ norm of the perturbation')\n",
    "plt.ylabel('Test accuracy')\n",
    "# plt.legend(['Linear (after AT)', 'MLP (after AT)','CNN (after AT)', \\\n",
    "#             'Linear (before AT)', 'MLP (before AT)','CNN (before AT)'])\n",
    "plt.legend(['CNN (after AT)', 'CNN (before AT)'])\n",
    "plt.ylim([-0.1,1.1])\n",
    "\n",
    "plt.title('Effect of CW attack on MNIST\\nbefore and after adversarial training (AT)') #\\nTraget model: CNN')\n",
    "plt.savefig('Post training Effect of CW attack on MNIST for CNN model [l2 norm]_1', dpi=600)\n",
    "plt.show()"
   ]
  },
  {
   "cell_type": "code",
   "execution_count": null,
   "metadata": {
    "id": "2Ht3je5sqk41"
   },
   "outputs": [],
   "source": [
    "indexes = range(1000)\n",
    "print('Test accuracy on unperturbed data')\n",
    "Linear_MNIST.evaluate(X_test[indexes],y_test[indexes])\n",
    "MLP_MNIST.evaluate(X_test[indexes],y_test[indexes])\n",
    "CNN_MNIST.evaluate(X_test[indexes],y_test[indexes])\n",
    "print('\\n')"
   ]
  }
 ],
 "metadata": {
  "accelerator": "GPU",
  "colab": {
   "collapsed_sections": [
    "SjVG7MYhseOb",
    "G_areyPtvigA",
    "0N6D2BW-v3xT",
    "ldp7OT4TDVMB"
   ],
   "provenance": [
    {
     "file_id": "17t5wZdiu4KbtR9opaQcMZECSJAndropo",
     "timestamp": 1674347819943
    }
   ]
  },
  "gpuClass": "standard",
  "kernelspec": {
   "display_name": "Python 3",
   "language": "python",
   "name": "python3"
  },
  "language_info": {
   "codemirror_mode": {
    "name": "ipython",
    "version": 3
   },
   "file_extension": ".py",
   "mimetype": "text/x-python",
   "name": "python",
   "nbconvert_exporter": "python",
   "pygments_lexer": "ipython3",
   "version": "3.8.8"
  }
 },
 "nbformat": 4,
 "nbformat_minor": 1
}
