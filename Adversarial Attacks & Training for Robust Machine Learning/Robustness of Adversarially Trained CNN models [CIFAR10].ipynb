{
 "cells": [
  {
   "cell_type": "markdown",
   "metadata": {
    "id": "aiSUzqR_k38-"
   },
   "source": [
    "**Import packages**"
   ]
  },
  {
   "cell_type": "code",
   "execution_count": 1,
   "metadata": {
    "colab": {
     "base_uri": "https://localhost:8080/"
    },
    "executionInfo": {
     "elapsed": 6075,
     "status": "ok",
     "timestamp": 1678467624635,
     "user": {
      "displayName": "Nazmul Hasan",
      "userId": "02122416256231585764"
     },
     "user_tz": 420
    },
    "id": "ad5wwLh9culg",
    "outputId": "3a26d4f2-1957-4820-bcae-5a769878ff9c"
   },
   "outputs": [
    {
     "name": "stdout",
     "output_type": "stream",
     "text": [
      "Requirement already satisfied: pytictoc in c:\\programdata\\anaconda3\\lib\\site-packages (1.5.2)\n"
     ]
    }
   ],
   "source": [
    "!pip install pytictoc"
   ]
  },
  {
   "cell_type": "code",
   "execution_count": 2,
   "metadata": {
    "id": "TtE3hMD0_-HW",
    "outputId": "0855dc32-50aa-4d63-988e-cc83a4f3d88b"
   },
   "outputs": [
    {
     "name": "stdout",
     "output_type": "stream",
     "text": [
      "Requirement already satisfied: tensorflow in c:\\programdata\\anaconda3\\lib\\site-packages (2.11.0)\n",
      "Requirement already satisfied: tensorflow-intel==2.11.0 in c:\\programdata\\anaconda3\\lib\\site-packages (from tensorflow) (2.11.0)\n",
      "Requirement already satisfied: protobuf<3.20,>=3.9.2 in c:\\programdata\\anaconda3\\lib\\site-packages (from tensorflow-intel==2.11.0->tensorflow) (3.19.6)\n",
      "Requirement already satisfied: wrapt>=1.11.0 in c:\\programdata\\anaconda3\\lib\\site-packages (from tensorflow-intel==2.11.0->tensorflow) (1.12.1)\n",
      "Requirement already satisfied: gast<=0.4.0,>=0.2.1 in c:\\programdata\\anaconda3\\lib\\site-packages (from tensorflow-intel==2.11.0->tensorflow) (0.4.0)\n",
      "Requirement already satisfied: termcolor>=1.1.0 in c:\\programdata\\anaconda3\\lib\\site-packages (from tensorflow-intel==2.11.0->tensorflow) (2.2.0)\n",
      "Requirement already satisfied: h5py>=2.9.0 in c:\\programdata\\anaconda3\\lib\\site-packages (from tensorflow-intel==2.11.0->tensorflow) (2.10.0)\n",
      "Requirement already satisfied: tensorflow-io-gcs-filesystem>=0.23.1 in c:\\programdata\\anaconda3\\lib\\site-packages (from tensorflow-intel==2.11.0->tensorflow) (0.31.0)\n",
      "Requirement already satisfied: libclang>=13.0.0 in c:\\programdata\\anaconda3\\lib\\site-packages (from tensorflow-intel==2.11.0->tensorflow) (15.0.6.1)\n",
      "Requirement already satisfied: grpcio<2.0,>=1.24.3 in c:\\programdata\\anaconda3\\lib\\site-packages (from tensorflow-intel==2.11.0->tensorflow) (1.51.3)\n",
      "Requirement already satisfied: google-pasta>=0.1.1 in c:\\programdata\\anaconda3\\lib\\site-packages (from tensorflow-intel==2.11.0->tensorflow) (0.2.0)\n",
      "Requirement already satisfied: numpy>=1.20 in c:\\programdata\\anaconda3\\lib\\site-packages (from tensorflow-intel==2.11.0->tensorflow) (1.20.1)\n",
      "Requirement already satisfied: typing-extensions>=3.6.6 in c:\\programdata\\anaconda3\\lib\\site-packages (from tensorflow-intel==2.11.0->tensorflow) (3.7.4.3)\n",
      "Requirement already satisfied: astunparse>=1.6.0 in c:\\programdata\\anaconda3\\lib\\site-packages (from tensorflow-intel==2.11.0->tensorflow) (1.6.3)\n",
      "Requirement already satisfied: opt-einsum>=2.3.2 in c:\\programdata\\anaconda3\\lib\\site-packages (from tensorflow-intel==2.11.0->tensorflow) (3.3.0)\n",
      "Requirement already satisfied: flatbuffers>=2.0 in c:\\programdata\\anaconda3\\lib\\site-packages (from tensorflow-intel==2.11.0->tensorflow) (23.3.3)\n",
      "Requirement already satisfied: keras<2.12,>=2.11.0 in c:\\programdata\\anaconda3\\lib\\site-packages (from tensorflow-intel==2.11.0->tensorflow) (2.11.0)\n",
      "Requirement already satisfied: tensorflow-estimator<2.12,>=2.11.0 in c:\\programdata\\anaconda3\\lib\\site-packages (from tensorflow-intel==2.11.0->tensorflow) (2.11.0)\n",
      "Requirement already satisfied: packaging in c:\\programdata\\anaconda3\\lib\\site-packages (from tensorflow-intel==2.11.0->tensorflow) (20.9)\n",
      "Requirement already satisfied: setuptools in c:\\programdata\\anaconda3\\lib\\site-packages (from tensorflow-intel==2.11.0->tensorflow) (52.0.0.post20210125)\n",
      "Requirement already satisfied: tensorboard<2.12,>=2.11 in c:\\programdata\\anaconda3\\lib\\site-packages (from tensorflow-intel==2.11.0->tensorflow) (2.11.2)\n",
      "Requirement already satisfied: six>=1.12.0 in c:\\programdata\\anaconda3\\lib\\site-packages (from tensorflow-intel==2.11.0->tensorflow) (1.15.0)\n",
      "Requirement already satisfied: absl-py>=1.0.0 in c:\\programdata\\anaconda3\\lib\\site-packages (from tensorflow-intel==2.11.0->tensorflow) (1.4.0)\n",
      "Requirement already satisfied: wheel<1.0,>=0.23.0 in c:\\programdata\\anaconda3\\lib\\site-packages (from astunparse>=1.6.0->tensorflow-intel==2.11.0->tensorflow) (0.36.2)\n",
      "Requirement already satisfied: tensorboard-data-server<0.7.0,>=0.6.0 in c:\\programdata\\anaconda3\\lib\\site-packages (from tensorboard<2.12,>=2.11->tensorflow-intel==2.11.0->tensorflow) (0.6.1)\n",
      "Requirement already satisfied: requests<3,>=2.21.0 in c:\\programdata\\anaconda3\\lib\\site-packages (from tensorboard<2.12,>=2.11->tensorflow-intel==2.11.0->tensorflow) (2.25.1)\n",
      "Requirement already satisfied: tensorboard-plugin-wit>=1.6.0 in c:\\programdata\\anaconda3\\lib\\site-packages (from tensorboard<2.12,>=2.11->tensorflow-intel==2.11.0->tensorflow) (1.8.1)\n",
      "Requirement already satisfied: werkzeug>=1.0.1 in c:\\programdata\\anaconda3\\lib\\site-packages (from tensorboard<2.12,>=2.11->tensorflow-intel==2.11.0->tensorflow) (1.0.1)\n",
      "Requirement already satisfied: google-auth-oauthlib<0.5,>=0.4.1 in c:\\programdata\\anaconda3\\lib\\site-packages (from tensorboard<2.12,>=2.11->tensorflow-intel==2.11.0->tensorflow) (0.4.6)\n",
      "Requirement already satisfied: markdown>=2.6.8 in c:\\programdata\\anaconda3\\lib\\site-packages (from tensorboard<2.12,>=2.11->tensorflow-intel==2.11.0->tensorflow) (3.4.1)\n",
      "Requirement already satisfied: google-auth<3,>=1.6.3 in c:\\programdata\\anaconda3\\lib\\site-packages (from tensorboard<2.12,>=2.11->tensorflow-intel==2.11.0->tensorflow) (2.16.2)\n",
      "Requirement already satisfied: cachetools<6.0,>=2.0.0 in c:\\programdata\\anaconda3\\lib\\site-packages (from google-auth<3,>=1.6.3->tensorboard<2.12,>=2.11->tensorflow-intel==2.11.0->tensorflow) (5.3.0)\n",
      "Requirement already satisfied: pyasn1-modules>=0.2.1 in c:\\programdata\\anaconda3\\lib\\site-packages (from google-auth<3,>=1.6.3->tensorboard<2.12,>=2.11->tensorflow-intel==2.11.0->tensorflow) (0.2.8)\n",
      "Requirement already satisfied: rsa<5,>=3.1.4 in c:\\programdata\\anaconda3\\lib\\site-packages (from google-auth<3,>=1.6.3->tensorboard<2.12,>=2.11->tensorflow-intel==2.11.0->tensorflow) (4.9)\n",
      "Requirement already satisfied: requests-oauthlib>=0.7.0 in c:\\programdata\\anaconda3\\lib\\site-packages (from google-auth-oauthlib<0.5,>=0.4.1->tensorboard<2.12,>=2.11->tensorflow-intel==2.11.0->tensorflow) (1.3.1)\n",
      "Requirement already satisfied: importlib-metadata>=4.4 in c:\\programdata\\anaconda3\\lib\\site-packages (from markdown>=2.6.8->tensorboard<2.12,>=2.11->tensorflow-intel==2.11.0->tensorflow) (6.0.0)\n",
      "Requirement already satisfied: zipp>=0.5 in c:\\programdata\\anaconda3\\lib\\site-packages (from importlib-metadata>=4.4->markdown>=2.6.8->tensorboard<2.12,>=2.11->tensorflow-intel==2.11.0->tensorflow) (3.4.1)\n",
      "Requirement already satisfied: pyasn1<0.5.0,>=0.4.6 in c:\\programdata\\anaconda3\\lib\\site-packages (from pyasn1-modules>=0.2.1->google-auth<3,>=1.6.3->tensorboard<2.12,>=2.11->tensorflow-intel==2.11.0->tensorflow) (0.4.8)\n",
      "Requirement already satisfied: idna<3,>=2.5 in c:\\programdata\\anaconda3\\lib\\site-packages (from requests<3,>=2.21.0->tensorboard<2.12,>=2.11->tensorflow-intel==2.11.0->tensorflow) (2.10)\n",
      "Requirement already satisfied: urllib3<1.27,>=1.21.1 in c:\\programdata\\anaconda3\\lib\\site-packages (from requests<3,>=2.21.0->tensorboard<2.12,>=2.11->tensorflow-intel==2.11.0->tensorflow) (1.26.4)\n",
      "Requirement already satisfied: certifi>=2017.4.17 in c:\\programdata\\anaconda3\\lib\\site-packages (from requests<3,>=2.21.0->tensorboard<2.12,>=2.11->tensorflow-intel==2.11.0->tensorflow) (2020.12.5)\n",
      "Requirement already satisfied: chardet<5,>=3.0.2 in c:\\programdata\\anaconda3\\lib\\site-packages (from requests<3,>=2.21.0->tensorboard<2.12,>=2.11->tensorflow-intel==2.11.0->tensorflow) (4.0.0)\n",
      "Requirement already satisfied: oauthlib>=3.0.0 in c:\\programdata\\anaconda3\\lib\\site-packages (from requests-oauthlib>=0.7.0->google-auth-oauthlib<0.5,>=0.4.1->tensorboard<2.12,>=2.11->tensorflow-intel==2.11.0->tensorflow) (3.2.2)\n",
      "Requirement already satisfied: pyparsing>=2.0.2 in c:\\programdata\\anaconda3\\lib\\site-packages (from packaging->tensorflow-intel==2.11.0->tensorflow) (2.4.7)\n"
     ]
    }
   ],
   "source": [
    "!pip install tensorflow"
   ]
  },
  {
   "cell_type": "code",
   "execution_count": 3,
   "metadata": {
    "id": "_z7kPblcHOH1"
   },
   "outputs": [],
   "source": [
    "import random\n",
    "import tensorflow as tf\n",
    "import pandas as pd\n",
    "from tensorflow import keras\n",
    "from keras import datasets, layers, models\n",
    "import matplotlib.pyplot as plt\n",
    "import numpy as np\n",
    "import warnings\n",
    "from pytictoc import TicToc\n",
    "warnings.filterwarnings( \"ignore\" )"
   ]
  },
  {
   "cell_type": "markdown",
   "metadata": {
    "id": "e7iTQt51HOH3"
   },
   "source": [
    "**Load the dataset**"
   ]
  },
  {
   "cell_type": "code",
   "execution_count": 4,
   "metadata": {
    "colab": {
     "base_uri": "https://localhost:8080/"
    },
    "executionInfo": {
     "elapsed": 799,
     "status": "ok",
     "timestamp": 1678467635038,
     "user": {
      "displayName": "Nazmul Hasan",
      "userId": "02122416256231585764"
     },
     "user_tz": 420
    },
    "id": "rPRPSMuwHOH4",
    "outputId": "106fdb96-7d3c-4d9b-ba7d-85d264a97f1f"
   },
   "outputs": [
    {
     "data": {
      "text/plain": [
       "((50000, 32, 32, 3), (50000,), (10000, 32, 32, 3), (10000,))"
      ]
     },
     "execution_count": 4,
     "metadata": {},
     "output_type": "execute_result"
    }
   ],
   "source": [
    "(X_train, y_train), (X_test,y_test) = datasets.cifar10.load_data()\n",
    "y_train = y_train.reshape(-1,)\n",
    "y_test = y_test.reshape(-1,)\n",
    "X_train.shape, y_train.shape, X_test.shape, y_test.shape"
   ]
  },
  {
   "cell_type": "markdown",
   "metadata": {
    "id": "gL5ypIWkHOIE"
   },
   "source": [
    "**Normalize the input data**"
   ]
  },
  {
   "cell_type": "code",
   "execution_count": 5,
   "metadata": {
    "id": "PxewI0kIHOIF"
   },
   "outputs": [],
   "source": [
    "X_train = X_train / 255.0\n",
    "X_test = X_test / 255.0"
   ]
  },
  {
   "cell_type": "markdown",
   "metadata": {
    "id": "Z_nl74yGFrHT"
   },
   "source": [
    "**Set directory to saved models**"
   ]
  },
  {
   "cell_type": "code",
   "execution_count": 6,
   "metadata": {
    "id": "Usv8lPonYXF0"
   },
   "outputs": [],
   "source": [
    "# from google.colab import drive\n",
    "# drive.mount('/content/gdrive')\n",
    "# %cd /content/gdrive/MyDrive/ECE 696B/Project - ECE696B\n",
    "# # %cd /content/gdrive/MyDrive/Colab Notebooks"
   ]
  },
  {
   "cell_type": "code",
   "execution_count": 7,
   "metadata": {
    "id": "DiuPFzjkDRUx",
    "outputId": "f51eb61f-de69-40ab-b783-db0bc084f705"
   },
   "outputs": [
    {
     "name": "stdout",
     "output_type": "stream",
     "text": [
      "C:\\Users\\nh202\\My Drive (nh202@arizona.edu)\\ECE 696B\\Project - ECE696B\n"
     ]
    }
   ],
   "source": [
    "%cd C:\\Users\\nh202\\My Drive (nh202@arizona.edu)\\ECE 696B\\Project - ECE696B"
   ]
  },
  {
   "cell_type": "code",
   "execution_count": 8,
   "metadata": {
    "id": "SAx4NoIYDgzZ"
   },
   "outputs": [],
   "source": [
    "from keras.models import load_model\n",
    "CNN_CIFAR10_base = load_model('CNN_CIFAR10.h5')\n",
    "CNN_CIFAR10_GNA_trained = load_model('CNN_CIFAR10_GNA_trained.h5')\n",
    "CNN_CIFAR10_FGSM_trained = load_model('CNN_CIFAR10_FGSM_trained.h5')\n",
    "# CNN_CIFAR10_CW_trained = load_model('CNN_CIFAR10_CW_trained.h5')"
   ]
  },
  {
   "cell_type": "markdown",
   "metadata": {
    "id": "G1qA-8V5Z-eg"
   },
   "source": [
    "# Evaluate performance of CNN models"
   ]
  },
  {
   "cell_type": "markdown",
   "metadata": {
    "id": "uFedzBTJFx7-"
   },
   "source": [
    "**Performance on GNA adversarial examples**"
   ]
  },
  {
   "cell_type": "code",
   "execution_count": 9,
   "metadata": {
    "id": "rQRTiDohFlGt",
    "outputId": "4cd9ad6f-0ded-4969-89aa-924fbd1b0cde"
   },
   "outputs": [
    {
     "name": "stdout",
     "output_type": "stream",
     "text": [
      "C:\\Users\\nh202\\OneDrive - University of Arizona\\Adversairal Examples - ECE 696B\\GNA\n"
     ]
    }
   ],
   "source": [
    "%cd C:\\Users\\nh202\\OneDrive - University of Arizona\\Adversairal Examples - ECE 696B\\GNA"
   ]
  },
  {
   "cell_type": "code",
   "execution_count": 10,
   "metadata": {
    "id": "6kV976-9EU-V",
    "outputId": "3f2cce5b-6b46-4da4-b123-a044bd676254"
   },
   "outputs": [
    {
     "name": "stdout",
     "output_type": "stream",
     "text": [
      "Sigma value: 0.0\n",
      "Average l2 distance of the perturbation: 0.0\n",
      "\n",
      "Test accuracy on perturbed data\n",
      "32/32 [==============================] - 4s 107ms/step - loss: 0.3464 - accuracy: 0.8880\n",
      "32/32 [==============================] - 4s 106ms/step - loss: 0.5191 - accuracy: 0.8540\n",
      "32/32 [==============================] - 4s 105ms/step - loss: 0.5391 - accuracy: 0.8510\n",
      "\n",
      "\n",
      "Sigma value: 0.1\n",
      "Average l2 distance of the perturbation: 3.0837902228127985\n",
      "\n",
      "Test accuracy on perturbed data\n",
      "32/32 [==============================] - 4s 122ms/step - loss: 4.1989 - accuracy: 0.1650\n",
      "32/32 [==============================] - 4s 130ms/step - loss: 0.7801 - accuracy: 0.7900\n",
      "32/32 [==============================] - 5s 141ms/step - loss: 1.1129 - accuracy: 0.6940\n",
      "\n",
      "\n",
      "Sigma value: 0.2\n",
      "Average l2 distance of the perturbation: 5.828913201938512\n",
      "\n",
      "Test accuracy on perturbed data\n",
      "32/32 [==============================] - 4s 132ms/step - loss: 4.1456 - accuracy: 0.1080\n",
      "32/32 [==============================] - 4s 132ms/step - loss: 1.2524 - accuracy: 0.6510\n",
      "32/32 [==============================] - 4s 134ms/step - loss: 1.8951 - accuracy: 0.5230\n",
      "\n",
      "\n",
      "Sigma value: 0.3\n",
      "Average l2 distance of the perturbation: 8.100654975115406\n",
      "\n",
      "Test accuracy on perturbed data\n",
      "32/32 [==============================] - 3s 97ms/step - loss: 3.7939 - accuracy: 0.1090\n",
      "32/32 [==============================] - 3s 84ms/step - loss: 1.7326 - accuracy: 0.5590\n",
      "32/32 [==============================] - 3s 84ms/step - loss: 2.8213 - accuracy: 0.3900\n",
      "\n",
      "\n",
      "Sigma value: 0.4\n",
      "Average l2 distance of the perturbation: 9.856309148560845\n",
      "\n",
      "Test accuracy on perturbed data\n",
      "32/32 [==============================] - 3s 90ms/step - loss: 3.5280 - accuracy: 0.1220\n",
      "32/32 [==============================] - 3s 86ms/step - loss: 2.2516 - accuracy: 0.4810\n",
      "32/32 [==============================] - 3s 84ms/step - loss: 3.5526 - accuracy: 0.2880\n",
      "\n",
      "\n",
      "Sigma value: 0.5\n",
      "Average l2 distance of the perturbation: 11.18933107493163\n",
      "\n",
      "Test accuracy on perturbed data\n",
      "32/32 [==============================] - 4s 131ms/step - loss: 3.4165 - accuracy: 0.1070\n",
      "32/32 [==============================] - 5s 143ms/step - loss: 2.9095 - accuracy: 0.3680\n",
      "32/32 [==============================] - 3s 102ms/step - loss: 4.0311 - accuracy: 0.2240\n",
      "\n",
      "\n",
      "Sigma value: 0.6\n",
      "Average l2 distance of the perturbation: 12.185753371618615\n",
      "\n",
      "Test accuracy on perturbed data\n",
      "32/32 [==============================] - 3s 95ms/step - loss: 3.2904 - accuracy: 0.1140\n",
      "32/32 [==============================] - 3s 97ms/step - loss: 3.1102 - accuracy: 0.3340\n",
      "32/32 [==============================] - 3s 98ms/step - loss: 4.4620 - accuracy: 0.1880\n",
      "\n",
      "\n",
      "Sigma value: 0.7\n",
      "Average l2 distance of the perturbation: 12.947098414009078\n",
      "\n",
      "Test accuracy on perturbed data\n",
      "32/32 [==============================] - 3s 93ms/step - loss: 3.2904 - accuracy: 0.1120\n",
      "32/32 [==============================] - 3s 99ms/step - loss: 3.4736 - accuracy: 0.2860\n",
      "32/32 [==============================] - 3s 99ms/step - loss: 4.7577 - accuracy: 0.1630\n",
      "\n",
      "\n",
      "Sigma value: 0.8\n",
      "Average l2 distance of the perturbation: 13.5429253990039\n",
      "\n",
      "Test accuracy on perturbed data\n",
      "32/32 [==============================] - 3s 95ms/step - loss: 3.2661 - accuracy: 0.0980\n",
      "32/32 [==============================] - 3s 98ms/step - loss: 3.8414 - accuracy: 0.2220\n",
      "32/32 [==============================] - 3s 101ms/step - loss: 5.1093 - accuracy: 0.1430\n",
      "\n",
      "\n",
      "Sigma value: 0.9\n",
      "Average l2 distance of the perturbation: 14.018838013436627\n",
      "\n",
      "Test accuracy on perturbed data\n",
      "32/32 [==============================] - 3s 103ms/step - loss: 3.2630 - accuracy: 0.1050\n",
      "32/32 [==============================] - 3s 104ms/step - loss: 4.1043 - accuracy: 0.2000\n",
      "32/32 [==============================] - 3s 94ms/step - loss: 5.1739 - accuracy: 0.1370\n",
      "\n",
      "\n",
      "Sigma value: 1.0\n",
      "Average l2 distance of the perturbation: 14.408837474899961\n",
      "\n",
      "Test accuracy on perturbed data\n",
      "32/32 [==============================] - 3s 93ms/step - loss: 3.2257 - accuracy: 0.1170\n",
      "32/32 [==============================] - 3s 93ms/step - loss: 4.1757 - accuracy: 0.2080\n",
      "32/32 [==============================] - 3s 97ms/step - loss: 5.2087 - accuracy: 0.1410\n",
      "\n",
      "\n"
     ]
    }
   ],
   "source": [
    "indexes = range(1000)\n",
    "sigmas = np.arange(0,1.1,0.1)\n",
    "stored_results = []\n",
    "for i in sigmas:\n",
    "  print(f'Sigma value: {np.round(i,1)}')\n",
    "  stored_results.append(i)\n",
    "    \n",
    "  filename = 'CIFAR10_X_test_noisy_GNA_sigma' + str(np.round(i,1)) + '.npy'\n",
    "  X_test_noisy = np.load(filename)\n",
    "  \n",
    "  avg_l2_norm = np.mean(np.sqrt(np.sum((X_test_noisy-X_test[indexes])**2, axis=(1,2))))\n",
    "  stored_results.append(avg_l2_norm)\n",
    "  print(\"Average l2 distance of the perturbation:\", avg_l2_norm)\n",
    "\n",
    "  print('\\nTest accuracy on perturbed data')\n",
    "  _,accuracy = CNN_CIFAR10_base.evaluate(X_test_noisy,y_test[indexes])\n",
    "  stored_results.append(accuracy)\n",
    "\n",
    "  _,accuracy = CNN_CIFAR10_GNA_trained.evaluate(X_test_noisy,y_test[indexes])\n",
    "  stored_results.append(accuracy)\n",
    "\n",
    "  _,accuracy = CNN_CIFAR10_FGSM_trained.evaluate(X_test_noisy,y_test[indexes])\n",
    "  stored_results.append(accuracy)\n",
    "\n",
    "#   _,accuracy = CNN_CIFAR10_CW_trained.evaluate(X_test_noisy,y_test[indexes])\n",
    "#   stored_results.append(accuracy)\n",
    "\n",
    "  print('\\n')"
   ]
  },
  {
   "cell_type": "code",
   "execution_count": 11,
   "metadata": {
    "id": "ISyENOQPEovC",
    "outputId": "c33fc48c-81be-4b82-edf7-bc5eb1503259"
   },
   "outputs": [
    {
     "data": {
      "text/html": [
       "<div>\n",
       "<style scoped>\n",
       "    .dataframe tbody tr th:only-of-type {\n",
       "        vertical-align: middle;\n",
       "    }\n",
       "\n",
       "    .dataframe tbody tr th {\n",
       "        vertical-align: top;\n",
       "    }\n",
       "\n",
       "    .dataframe thead th {\n",
       "        text-align: right;\n",
       "    }\n",
       "</style>\n",
       "<table border=\"1\" class=\"dataframe\">\n",
       "  <thead>\n",
       "    <tr style=\"text-align: right;\">\n",
       "      <th></th>\n",
       "      <th>sigma</th>\n",
       "      <th>avg_l2_norm</th>\n",
       "      <th>CNN_CIFAR10_base</th>\n",
       "      <th>CNN_CIFAR10_GNA_trained</th>\n",
       "      <th>CNN_CIFAR10_FGSM_trained</th>\n",
       "    </tr>\n",
       "  </thead>\n",
       "  <tbody>\n",
       "    <tr>\n",
       "      <th>0</th>\n",
       "      <td>0.0</td>\n",
       "      <td>0.000000</td>\n",
       "      <td>0.888</td>\n",
       "      <td>0.854</td>\n",
       "      <td>0.851</td>\n",
       "    </tr>\n",
       "    <tr>\n",
       "      <th>1</th>\n",
       "      <td>0.1</td>\n",
       "      <td>3.083790</td>\n",
       "      <td>0.165</td>\n",
       "      <td>0.790</td>\n",
       "      <td>0.694</td>\n",
       "    </tr>\n",
       "    <tr>\n",
       "      <th>2</th>\n",
       "      <td>0.2</td>\n",
       "      <td>5.828913</td>\n",
       "      <td>0.108</td>\n",
       "      <td>0.651</td>\n",
       "      <td>0.523</td>\n",
       "    </tr>\n",
       "    <tr>\n",
       "      <th>3</th>\n",
       "      <td>0.3</td>\n",
       "      <td>8.100655</td>\n",
       "      <td>0.109</td>\n",
       "      <td>0.559</td>\n",
       "      <td>0.390</td>\n",
       "    </tr>\n",
       "    <tr>\n",
       "      <th>4</th>\n",
       "      <td>0.4</td>\n",
       "      <td>9.856309</td>\n",
       "      <td>0.122</td>\n",
       "      <td>0.481</td>\n",
       "      <td>0.288</td>\n",
       "    </tr>\n",
       "    <tr>\n",
       "      <th>5</th>\n",
       "      <td>0.5</td>\n",
       "      <td>11.189331</td>\n",
       "      <td>0.107</td>\n",
       "      <td>0.368</td>\n",
       "      <td>0.224</td>\n",
       "    </tr>\n",
       "    <tr>\n",
       "      <th>6</th>\n",
       "      <td>0.6</td>\n",
       "      <td>12.185753</td>\n",
       "      <td>0.114</td>\n",
       "      <td>0.334</td>\n",
       "      <td>0.188</td>\n",
       "    </tr>\n",
       "    <tr>\n",
       "      <th>7</th>\n",
       "      <td>0.7</td>\n",
       "      <td>12.947098</td>\n",
       "      <td>0.112</td>\n",
       "      <td>0.286</td>\n",
       "      <td>0.163</td>\n",
       "    </tr>\n",
       "    <tr>\n",
       "      <th>8</th>\n",
       "      <td>0.8</td>\n",
       "      <td>13.542925</td>\n",
       "      <td>0.098</td>\n",
       "      <td>0.222</td>\n",
       "      <td>0.143</td>\n",
       "    </tr>\n",
       "    <tr>\n",
       "      <th>9</th>\n",
       "      <td>0.9</td>\n",
       "      <td>14.018838</td>\n",
       "      <td>0.105</td>\n",
       "      <td>0.200</td>\n",
       "      <td>0.137</td>\n",
       "    </tr>\n",
       "    <tr>\n",
       "      <th>10</th>\n",
       "      <td>1.0</td>\n",
       "      <td>14.408837</td>\n",
       "      <td>0.117</td>\n",
       "      <td>0.208</td>\n",
       "      <td>0.141</td>\n",
       "    </tr>\n",
       "  </tbody>\n",
       "</table>\n",
       "</div>"
      ],
      "text/plain": [
       "    sigma  avg_l2_norm  CNN_CIFAR10_base  CNN_CIFAR10_GNA_trained  \\\n",
       "0     0.0     0.000000             0.888                    0.854   \n",
       "1     0.1     3.083790             0.165                    0.790   \n",
       "2     0.2     5.828913             0.108                    0.651   \n",
       "3     0.3     8.100655             0.109                    0.559   \n",
       "4     0.4     9.856309             0.122                    0.481   \n",
       "5     0.5    11.189331             0.107                    0.368   \n",
       "6     0.6    12.185753             0.114                    0.334   \n",
       "7     0.7    12.947098             0.112                    0.286   \n",
       "8     0.8    13.542925             0.098                    0.222   \n",
       "9     0.9    14.018838             0.105                    0.200   \n",
       "10    1.0    14.408837             0.117                    0.208   \n",
       "\n",
       "    CNN_CIFAR10_FGSM_trained  \n",
       "0                      0.851  \n",
       "1                      0.694  \n",
       "2                      0.523  \n",
       "3                      0.390  \n",
       "4                      0.288  \n",
       "5                      0.224  \n",
       "6                      0.188  \n",
       "7                      0.163  \n",
       "8                      0.143  \n",
       "9                      0.137  \n",
       "10                     0.141  "
      ]
     },
     "execution_count": 11,
     "metadata": {},
     "output_type": "execute_result"
    }
   ],
   "source": [
    "stored_results = np.array(stored_results)\n",
    "stored_results = stored_results.reshape(-1,5)\n",
    "# stored_results = stored_results.reshape(-1,6)\n",
    "df = pd.DataFrame(stored_results, columns = ['sigma','avg_l2_norm','CNN_CIFAR10_base',\\\n",
    "                                 'CNN_CIFAR10_GNA_trained','CNN_CIFAR10_FGSM_trained'])\n",
    "# df = pd.DataFrame(stored_results, columns = ['sigma','avg_l2_norm','CNN_CIFAR10_base',\\\n",
    "#                                  'CNN_CIFAR10_GNA_trained','CNN_CIFAR10_FGSM_trained','CNN_CIFAR10_CW_trained'])\n",
    "df.to_csv('Performance of adversarially trained CNN models on GNA [CIFAR10].csv', index=False)\n",
    "df"
   ]
  },
  {
   "cell_type": "code",
   "execution_count": 12,
   "metadata": {
    "id": "Q6CDjIErGGcJ",
    "outputId": "1e164a31-1ea0-4597-bf69-1de38696b019"
   },
   "outputs": [
    {
     "data": {
      "image/png": "[encoded data removed]",
      "text/plain": [
       "<Figure size 432x288 with 1 Axes>"
      ]
     },
     "metadata": {
      "needs_background": "light"
     },
     "output_type": "display_data"
    }
   ],
   "source": [
    "df = pd.read_csv('Performance of adversarially trained CNN models on GNA [CIFAR10].csv')\n",
    "plt.plot(df['avg_l2_norm'],df['CNN_CIFAR10_base'],'o--', color = 'C2')\n",
    "plt.plot(df['avg_l2_norm'],df['CNN_CIFAR10_GNA_trained'],'*-', color = 'C2')\n",
    "plt.plot(df['avg_l2_norm'],df['CNN_CIFAR10_FGSM_trained'],'v-', color = 'C2')\n",
    "# plt.plot(df['avg_l2_norm'],df['CNN_CIFAR10_CW_trained'],'d-', color = 'C2')\n",
    "\n",
    "\n",
    "plt.xlabel('Average $l_2$ norm of the perturbation')\n",
    "plt.ylabel('Test accuracy')\n",
    "plt.ylim([-0.1, 1.1])\n",
    "plt.legend(['CNN_CIFAR10 (base)', 'CNN_CIFAR10 (GNA trained)',\\\n",
    "            'CNN_CIFAR10 (FGSM trained)'])\n",
    "# plt.legend(['CNN_CIFAR10 (base)', 'CNN_CIFAR10 (GNA trained)',\\\n",
    "#             'CNN_CIFAR10 (FGSM trained)', 'CNN_CIFAR10 (CW trained)'])\n",
    "plt.title('Effect of Gaussian noise attack on CIFAR10')\n",
    "plt.savefig('Adversarially trained CNN models GNA on CIFAR10 [l2 norm]', dpi=600)\n",
    "plt.show()"
   ]
  },
  {
   "cell_type": "markdown",
   "metadata": {
    "id": "bCCjdjo6SejE"
   },
   "source": [
    "**Performance on FGSM adversarial examples**"
   ]
  },
  {
   "cell_type": "code",
   "execution_count": 13,
   "metadata": {
    "id": "56o6h_rQSejF",
    "outputId": "fee8392f-8f69-4f1b-cc9f-f678adb0024d"
   },
   "outputs": [
    {
     "name": "stdout",
     "output_type": "stream",
     "text": [
      "C:\\Users\\nh202\\OneDrive - University of Arizona\\Adversairal Examples - ECE 696B\\FGSM\n"
     ]
    }
   ],
   "source": [
    "%cd C:\\Users\\nh202\\OneDrive - University of Arizona\\Adversairal Examples - ECE 696B\\FGSM"
   ]
  },
  {
   "cell_type": "code",
   "execution_count": 14,
   "metadata": {
    "id": "gl-lifnGSejF",
    "outputId": "13dc1cae-a1de-4826-fbaf-66f810f2a182"
   },
   "outputs": [
    {
     "name": "stdout",
     "output_type": "stream",
     "text": [
      "eps value: 0.1\n",
      "32/32 [==============================] - 3s 96ms/step - loss: 4.9748 - accuracy: 0.0740\n",
      "32/32 [==============================] - 3s 90ms/step - loss: 3.1920 - accuracy: 0.3530\n",
      "32/32 [==============================] - 3s 89ms/step - loss: 0.7548 - accuracy: 0.7880\n",
      "eps value: 0.2\n",
      "32/32 [==============================] - 3s 87ms/step - loss: 4.2301 - accuracy: 0.0970\n",
      "32/32 [==============================] - 3s 94ms/step - loss: 3.8000 - accuracy: 0.2630\n",
      "32/32 [==============================] - 3s 92ms/step - loss: 0.8695 - accuracy: 0.7800\n",
      "eps value: 0.3\n",
      "32/32 [==============================] - 3s 92ms/step - loss: 3.7758 - accuracy: 0.0890\n",
      "32/32 [==============================] - 3s 95ms/step - loss: 4.0693 - accuracy: 0.2390\n",
      "32/32 [==============================] - 3s 94ms/step - loss: 1.1454 - accuracy: 0.7150\n",
      "eps value: 0.4\n",
      "32/32 [==============================] - 3s 94ms/step - loss: 3.6633 - accuracy: 0.0960\n",
      "32/32 [==============================] - 3s 92ms/step - loss: 4.3890 - accuracy: 0.2020\n",
      "32/32 [==============================] - 3s 95ms/step - loss: 1.5446 - accuracy: 0.6150\n",
      "eps value: 0.5\n",
      "32/32 [==============================] - 3s 93ms/step - loss: 3.7949 - accuracy: 0.0860\n",
      "32/32 [==============================] - 3s 96ms/step - loss: 4.7249 - accuracy: 0.1700\n",
      "32/32 [==============================] - 3s 100ms/step - loss: 1.9828 - accuracy: 0.5440\n",
      "eps value: 0.6\n",
      "32/32 [==============================] - 3s 95ms/step - loss: 3.9557 - accuracy: 0.0950\n",
      "32/32 [==============================] - 4s 108ms/step - loss: 4.8869 - accuracy: 0.1430\n",
      "32/32 [==============================] - 3s 108ms/step - loss: 2.4488 - accuracy: 0.4600\n",
      "eps value: 0.7\n",
      "32/32 [==============================] - 4s 108ms/step - loss: 4.0823 - accuracy: 0.1010\n",
      "32/32 [==============================] - 3s 103ms/step - loss: 5.0147 - accuracy: 0.1330\n",
      "32/32 [==============================] - 3s 96ms/step - loss: 2.8327 - accuracy: 0.3860\n",
      "eps value: 0.8\n",
      "32/32 [==============================] - 3s 96ms/step - loss: 4.1624 - accuracy: 0.1020\n",
      "32/32 [==============================] - 3s 100ms/step - loss: 5.1057 - accuracy: 0.1170\n",
      "32/32 [==============================] - 3s 98ms/step - loss: 3.1016 - accuracy: 0.3550\n",
      "eps value: 0.9\n",
      "32/32 [==============================] - 4s 108ms/step - loss: 4.2077 - accuracy: 0.1010\n",
      "32/32 [==============================] - 3s 95ms/step - loss: 5.1549 - accuracy: 0.1160\n",
      "32/32 [==============================] - 3s 95ms/step - loss: 3.2418 - accuracy: 0.3390\n",
      "eps value: 1.0\n",
      "32/32 [==============================] - 3s 97ms/step - loss: 4.2318 - accuracy: 0.0990\n",
      "32/32 [==============================] - 4s 107ms/step - loss: 5.1534 - accuracy: 0.1160\n",
      "32/32 [==============================] - 3s 97ms/step - loss: 3.2794 - accuracy: 0.3330\n"
     ]
    }
   ],
   "source": [
    "indexes = range(1000)\n",
    "stored_results = []\n",
    "for eps in np.arange(0.1,1.1,0.1):\n",
    "    \n",
    "  print(f'eps value: {np.round(eps,1)}')\n",
    "  stored_results.append(eps)\n",
    "\n",
    "  np_array_filename = 'CIFAR10_FGSM_'+ str(len(indexes)) +'_adv_examples_eps_'+ str(round(eps,1)) + '.npz'\n",
    "  data = np.load(np_array_filename)\n",
    "\n",
    "  # access the arrays using their keys\n",
    "  X_test_FGSM_CNN = data['X_test_FGSM_CNN']\n",
    "\n",
    "  avg_l2_norm_CNN = np.mean(np.sqrt(np.sum((X_test_FGSM_CNN-X_test[:len(indexes)])**2, axis=(1,2))))\n",
    "  stored_results.append(avg_l2_norm_CNN)\n",
    "    \n",
    "  _,accuracy = CNN_CIFAR10_base.evaluate(X_test_FGSM_CNN[indexes],y_test[indexes])\n",
    "  stored_results.append(accuracy)\n",
    "\n",
    "  _,accuracy = CNN_CIFAR10_GNA_trained.evaluate(X_test_FGSM_CNN[indexes],y_test[indexes])\n",
    "  stored_results.append(accuracy)\n",
    "\n",
    "  _,accuracy = CNN_CIFAR10_FGSM_trained.evaluate(X_test_FGSM_CNN[indexes],y_test[indexes])\n",
    "  stored_results.append(accuracy)\n",
    "\n",
    "#   _,accuracy = CNN_CIFAR10_CW_trained.evaluate(X_test_FGSM_CNN[indexes],y_test[indexes])\n",
    "#   stored_results.append(accuracy)\n",
    "    "
   ]
  },
  {
   "cell_type": "code",
   "execution_count": 15,
   "metadata": {
    "id": "tHn2FCcJSejG",
    "outputId": "6ca48123-972a-42b6-e334-58c5c07cfc4d"
   },
   "outputs": [
    {
     "data": {
      "text/html": [
       "<div>\n",
       "<style scoped>\n",
       "    .dataframe tbody tr th:only-of-type {\n",
       "        vertical-align: middle;\n",
       "    }\n",
       "\n",
       "    .dataframe tbody tr th {\n",
       "        vertical-align: top;\n",
       "    }\n",
       "\n",
       "    .dataframe thead th {\n",
       "        text-align: right;\n",
       "    }\n",
       "</style>\n",
       "<table border=\"1\" class=\"dataframe\">\n",
       "  <thead>\n",
       "    <tr style=\"text-align: right;\">\n",
       "      <th></th>\n",
       "      <th>sigma</th>\n",
       "      <th>avg_l2_norm</th>\n",
       "      <th>CNN_CIFAR10_base</th>\n",
       "      <th>CNN_CIFAR10_GNA_trained</th>\n",
       "      <th>CNN_CIFAR10_FGSM_trained</th>\n",
       "    </tr>\n",
       "  </thead>\n",
       "  <tbody>\n",
       "    <tr>\n",
       "      <th>0</th>\n",
       "      <td>0.1</td>\n",
       "      <td>3.134012</td>\n",
       "      <td>0.074</td>\n",
       "      <td>0.353</td>\n",
       "      <td>0.788</td>\n",
       "    </tr>\n",
       "    <tr>\n",
       "      <th>1</th>\n",
       "      <td>0.2</td>\n",
       "      <td>6.113226</td>\n",
       "      <td>0.097</td>\n",
       "      <td>0.263</td>\n",
       "      <td>0.780</td>\n",
       "    </tr>\n",
       "    <tr>\n",
       "      <th>2</th>\n",
       "      <td>0.3</td>\n",
       "      <td>8.860026</td>\n",
       "      <td>0.089</td>\n",
       "      <td>0.239</td>\n",
       "      <td>0.715</td>\n",
       "    </tr>\n",
       "    <tr>\n",
       "      <th>3</th>\n",
       "      <td>0.4</td>\n",
       "      <td>11.309061</td>\n",
       "      <td>0.096</td>\n",
       "      <td>0.202</td>\n",
       "      <td>0.615</td>\n",
       "    </tr>\n",
       "    <tr>\n",
       "      <th>4</th>\n",
       "      <td>0.5</td>\n",
       "      <td>13.409303</td>\n",
       "      <td>0.086</td>\n",
       "      <td>0.170</td>\n",
       "      <td>0.544</td>\n",
       "    </tr>\n",
       "    <tr>\n",
       "      <th>5</th>\n",
       "      <td>0.6</td>\n",
       "      <td>15.122277</td>\n",
       "      <td>0.095</td>\n",
       "      <td>0.143</td>\n",
       "      <td>0.460</td>\n",
       "    </tr>\n",
       "    <tr>\n",
       "      <th>6</th>\n",
       "      <td>0.7</td>\n",
       "      <td>16.410184</td>\n",
       "      <td>0.101</td>\n",
       "      <td>0.133</td>\n",
       "      <td>0.386</td>\n",
       "    </tr>\n",
       "    <tr>\n",
       "      <th>7</th>\n",
       "      <td>0.8</td>\n",
       "      <td>17.268572</td>\n",
       "      <td>0.102</td>\n",
       "      <td>0.117</td>\n",
       "      <td>0.355</td>\n",
       "    </tr>\n",
       "    <tr>\n",
       "      <th>8</th>\n",
       "      <td>0.9</td>\n",
       "      <td>17.736445</td>\n",
       "      <td>0.101</td>\n",
       "      <td>0.116</td>\n",
       "      <td>0.339</td>\n",
       "    </tr>\n",
       "    <tr>\n",
       "      <th>9</th>\n",
       "      <td>1.0</td>\n",
       "      <td>17.897171</td>\n",
       "      <td>0.099</td>\n",
       "      <td>0.116</td>\n",
       "      <td>0.333</td>\n",
       "    </tr>\n",
       "  </tbody>\n",
       "</table>\n",
       "</div>"
      ],
      "text/plain": [
       "   sigma  avg_l2_norm  CNN_CIFAR10_base  CNN_CIFAR10_GNA_trained  \\\n",
       "0    0.1     3.134012             0.074                    0.353   \n",
       "1    0.2     6.113226             0.097                    0.263   \n",
       "2    0.3     8.860026             0.089                    0.239   \n",
       "3    0.4    11.309061             0.096                    0.202   \n",
       "4    0.5    13.409303             0.086                    0.170   \n",
       "5    0.6    15.122277             0.095                    0.143   \n",
       "6    0.7    16.410184             0.101                    0.133   \n",
       "7    0.8    17.268572             0.102                    0.117   \n",
       "8    0.9    17.736445             0.101                    0.116   \n",
       "9    1.0    17.897171             0.099                    0.116   \n",
       "\n",
       "   CNN_CIFAR10_FGSM_trained  \n",
       "0                     0.788  \n",
       "1                     0.780  \n",
       "2                     0.715  \n",
       "3                     0.615  \n",
       "4                     0.544  \n",
       "5                     0.460  \n",
       "6                     0.386  \n",
       "7                     0.355  \n",
       "8                     0.339  \n",
       "9                     0.333  "
      ]
     },
     "execution_count": 15,
     "metadata": {},
     "output_type": "execute_result"
    }
   ],
   "source": [
    "stored_results = np.array(stored_results)\n",
    "stored_results = stored_results.reshape(-1,5)\n",
    "# stored_results = stored_results.reshape(-1,6)\n",
    "df = pd.DataFrame(stored_results, columns = ['sigma','avg_l2_norm','CNN_CIFAR10_base',\\\n",
    "                                 'CNN_CIFAR10_GNA_trained','CNN_CIFAR10_FGSM_trained'])\n",
    "# df = pd.DataFrame(stored_results, columns = ['sigma','avg_l2_norm','CNN_CIFAR10_base',\\\n",
    "#                                  'CNN_CIFAR10_GNA_trained','CNN_CIFAR10_FGSM_trained','CNN_CIFAR10_CW_trained'])\n",
    "df.to_csv('Performance of adversarially trained CNN models on FGSM [CIFAR10].csv', index=False)\n",
    "df"
   ]
  },
  {
   "cell_type": "code",
   "execution_count": 16,
   "metadata": {
    "id": "Y1oJzirVSejG",
    "outputId": "0581bfa3-9768-4292-ebf6-aabc18b3f1c9"
   },
   "outputs": [
    {
     "name": "stdout",
     "output_type": "stream",
     "text": [
      "Test accuracy on unperturbed data\n",
      "32/32 [==============================] - 3s 105ms/step - loss: 0.3464 - accuracy: 0.8880\n",
      "32/32 [==============================] - 3s 95ms/step - loss: 0.5191 - accuracy: 0.8540\n",
      "32/32 [==============================] - 3s 98ms/step - loss: 0.5391 - accuracy: 0.8510\n"
     ]
    },
    {
     "data": {
      "image/png": "[encoded data removed]",
      "text/plain": [
       "<Figure size 432x288 with 1 Axes>"
      ]
     },
     "metadata": {
      "needs_background": "light"
     },
     "output_type": "display_data"
    }
   ],
   "source": [
    "df = pd.read_csv('Performance of adversarially trained CNN models on FGSM [CIFAR10].csv')\n",
    "\n",
    "df = df.shift(1)\n",
    "print('Test accuracy on unperturbed data')\n",
    "_, accuracy_base = CNN_CIFAR10_base.evaluate(X_test[indexes],y_test[indexes]);\n",
    "_, accuracy_GNA_trained = CNN_CIFAR10_GNA_trained.evaluate(X_test[indexes],y_test[indexes]);\n",
    "_, accuracy_FGSM_trained = CNN_CIFAR10_FGSM_trained.evaluate(X_test[indexes],y_test[indexes]);\n",
    "# _, accuracy_CW_trained = CNN_CIFAR10_CW_trained.evaluate(X_test[indexes],y_test[indexes]);\n",
    "\n",
    "df.iloc[0] = [0, 0, accuracy_base, accuracy_GNA_trained, accuracy_FGSM_trained]\n",
    "# df.iloc[0] = [0, 0, accuracy_base, accuracy_GNA_trained, accuracy_FGSM_trained, accuracy_CW_trained]\n",
    "\n",
    "plt.plot(df['avg_l2_norm'],df['CNN_CIFAR10_base'],'o--', color = 'C2')\n",
    "plt.plot(df['avg_l2_norm'],df['CNN_CIFAR10_GNA_trained'],'*-', color = 'C2')\n",
    "plt.plot(df['avg_l2_norm'],df['CNN_CIFAR10_FGSM_trained'],'v-', color = 'C2')\n",
    "# plt.plot(df['avg_l2_norm'],df['CNN_CIFAR10_CW_trained'],'d-', color = 'C2')\n",
    "\n",
    "\n",
    "plt.xlabel('Average $l_2$ norm of the perturbation')\n",
    "plt.ylabel('Test accuracy')\n",
    "plt.ylim([-0.1, 1.1])\n",
    "plt.legend(['CNN_CIFAR10 (base)', 'CNN_CIFAR10 (GNA trained)',\\\n",
    "            'CNN_CIFAR10 (FGSM trained)'])\n",
    "# plt.legend(['CNN_CIFAR10 (base)', 'CNN_CIFAR10 (GNA trained)',\\\n",
    "#             'CNN_CIFAR10 (FGSM trained)', 'CNN_CIFAR10 (CW trained)'])\n",
    "plt.title('Effect of FGSM attack on CIFAR10')\n",
    "plt.savefig('Adversarially trained CNN models FGSM on CIFAR10 [l2 norm]', dpi=600)\n",
    "plt.show()"
   ]
  },
  {
   "cell_type": "markdown",
   "metadata": {
    "id": "roaZ62EVSejG"
   },
   "source": [
    "**Performance on CW adversarial examples**"
   ]
  },
  {
   "cell_type": "code",
   "execution_count": 17,
   "metadata": {
    "id": "4xxSD7ldSejH",
    "outputId": "946d0e8c-ea66-455d-9580-792ec91e7c61"
   },
   "outputs": [
    {
     "name": "stdout",
     "output_type": "stream",
     "text": [
      "C:\\Users\\nh202\\OneDrive - University of Arizona\\Adversairal Examples - ECE 696B\\CW\n"
     ]
    }
   ],
   "source": [
    "%cd C:\\Users\\nh202\\OneDrive - University of Arizona\\Adversairal Examples - ECE 696B\\CW"
   ]
  },
  {
   "cell_type": "code",
   "execution_count": 18,
   "metadata": {
    "id": "nVTG1CCYSejH",
    "outputId": "581ad084-dbc1-432a-fbba-edaf55f5f12e"
   },
   "outputs": [
    {
     "name": "stdout",
     "output_type": "stream",
     "text": [
      "32/32 [==============================] - 3s 96ms/step - loss: 3.7305 - accuracy: 0.0710\n",
      "32/32 [==============================] - 4s 111ms/step - loss: 1.5804 - accuracy: 0.6490\n",
      "32/32 [==============================] - 3s 106ms/step - loss: 0.9812 - accuracy: 0.7480\n",
      "32/32 [==============================] - 4s 114ms/step - loss: 3.8952 - accuracy: 0.0710\n",
      "32/32 [==============================] - 4s 126ms/step - loss: 1.6939 - accuracy: 0.6160\n",
      "32/32 [==============================] - 3s 103ms/step - loss: 0.9923 - accuracy: 0.7410\n",
      "32/32 [==============================] - 3s 99ms/step - loss: 3.8528 - accuracy: 0.0710\n",
      "32/32 [==============================] - 3s 97ms/step - loss: 1.8397 - accuracy: 0.5990\n",
      "32/32 [==============================] - 3s 103ms/step - loss: 1.2095 - accuracy: 0.7070\n",
      "32/32 [==============================] - 3s 103ms/step - loss: 3.9553 - accuracy: 0.0710\n",
      "32/32 [==============================] - 3s 105ms/step - loss: 1.8397 - accuracy: 0.5980\n",
      "32/32 [==============================] - 3s 103ms/step - loss: 1.2866 - accuracy: 0.6900\n",
      "32/32 [==============================] - 3s 107ms/step - loss: 3.8541 - accuracy: 0.0710\n",
      "32/32 [==============================] - 3s 95ms/step - loss: 1.6385 - accuracy: 0.6230\n",
      "32/32 [==============================] - 4s 108ms/step - loss: 0.9520 - accuracy: 0.7460\n",
      "32/32 [==============================] - 3s 103ms/step - loss: 3.8952 - accuracy: 0.0710\n",
      "32/32 [==============================] - 3s 99ms/step - loss: 1.6939 - accuracy: 0.6160\n",
      "32/32 [==============================] - 3s 102ms/step - loss: 0.9923 - accuracy: 0.7410\n",
      "32/32 [==============================] - 3s 106ms/step - loss: 3.8300 - accuracy: 0.0710\n",
      "32/32 [==============================] - 4s 113ms/step - loss: 1.8024 - accuracy: 0.5970\n",
      "32/32 [==============================] - 4s 107ms/step - loss: 1.1086 - accuracy: 0.7370\n",
      "32/32 [==============================] - 3s 102ms/step - loss: 3.8313 - accuracy: 0.0710\n",
      "32/32 [==============================] - 4s 108ms/step - loss: 1.7905 - accuracy: 0.6040\n",
      "32/32 [==============================] - 3s 99ms/step - loss: 1.2063 - accuracy: 0.7030\n",
      "32/32 [==============================] - 3s 94ms/step - loss: 3.8545 - accuracy: 0.0710\n",
      "32/32 [==============================] - 3s 96ms/step - loss: 1.8433 - accuracy: 0.5980\n",
      "32/32 [==============================] - 3s 96ms/step - loss: 1.2108 - accuracy: 0.7070\n",
      "32/32 [==============================] - 3s 92ms/step - loss: 3.8824 - accuracy: 0.0710\n",
      "32/32 [==============================] - 3s 96ms/step - loss: 1.8456 - accuracy: 0.5870\n",
      "32/32 [==============================] - 3s 98ms/step - loss: 1.2541 - accuracy: 0.6930\n"
     ]
    }
   ],
   "source": [
    "indexes = range(1000)\n",
    "stored_results = []\n",
    "lot = 0\n",
    "for c in np.arange(0.1,1.1,0.1):\n",
    "    filename = 'CIFAR10_x_adv_stack_CNN_Lot' + str(lot+1) + '_c' + str(np.round(c,1)) + '.npy'\n",
    "    x_adv_stack = np.load(filename)\n",
    "    \n",
    "    stored_results.append(np.round(c,1))\n",
    "    \n",
    "    avg_l2_norm = np.mean(np.sqrt(np.sum((x_adv_stack-X_test[:len(x_adv_stack)])**2, axis=(1,2))))    \n",
    "    \n",
    "    if np.isnan(avg_l2_norm):\n",
    "        delta = x_adv_stack-X_test[:len(x_adv_stack)]\n",
    "        indices = np.argwhere(np.isnan(delta))\n",
    "        delta[indices] = 1\n",
    "        x_adv_stack = X_test[:len(x_adv_stack)] + delta\n",
    "        x_adv_stack = np.clip(x_adv_stack, 0, 1)\n",
    "        delta = x_adv_stack-X_test[:len(x_adv_stack)]\n",
    "        avg_l2_norm = np.mean(np.sqrt(np.sum((x_adv_stack-X_test[:len(x_adv_stack)])**2, axis=(1,2))))\n",
    "        \n",
    "    stored_results.append(avg_l2_norm)\n",
    "    \n",
    "    _,accuracy = CNN_CIFAR10_base.evaluate(x_adv_stack,y_test[indexes])\n",
    "    stored_results.append(accuracy)\n",
    "\n",
    "    _,accuracy = CNN_CIFAR10_GNA_trained.evaluate(x_adv_stack,y_test[indexes])\n",
    "    stored_results.append(accuracy)\n",
    "\n",
    "    _,accuracy = CNN_CIFAR10_FGSM_trained.evaluate(x_adv_stack,y_test[indexes])\n",
    "    stored_results.append(accuracy)\n",
    "\n",
    "#     _,accuracy = CNN_CIFAR10_CW_trained.evaluate(x_adv_stack,y_test[indexes])\n",
    "#     stored_results.append(accuracy)"
   ]
  },
  {
   "cell_type": "code",
   "execution_count": 19,
   "metadata": {
    "id": "B8hLoU3hSejH",
    "outputId": "776d967b-ff43-4a0f-e178-e3f848419469"
   },
   "outputs": [
    {
     "data": {
      "text/html": [
       "<div>\n",
       "<style scoped>\n",
       "    .dataframe tbody tr th:only-of-type {\n",
       "        vertical-align: middle;\n",
       "    }\n",
       "\n",
       "    .dataframe tbody tr th {\n",
       "        vertical-align: top;\n",
       "    }\n",
       "\n",
       "    .dataframe thead th {\n",
       "        text-align: right;\n",
       "    }\n",
       "</style>\n",
       "<table border=\"1\" class=\"dataframe\">\n",
       "  <thead>\n",
       "    <tr style=\"text-align: right;\">\n",
       "      <th></th>\n",
       "      <th>sigma</th>\n",
       "      <th>avg_l2_norm</th>\n",
       "      <th>CNN_CIFAR10_base</th>\n",
       "      <th>CNN_CIFAR10_GNA_trained</th>\n",
       "      <th>CNN_CIFAR10_FGSM_trained</th>\n",
       "    </tr>\n",
       "  </thead>\n",
       "  <tbody>\n",
       "    <tr>\n",
       "      <th>0</th>\n",
       "      <td>0.1</td>\n",
       "      <td>1.854422</td>\n",
       "      <td>0.071</td>\n",
       "      <td>0.649</td>\n",
       "      <td>0.748</td>\n",
       "    </tr>\n",
       "    <tr>\n",
       "      <th>1</th>\n",
       "      <td>0.2</td>\n",
       "      <td>2.446433</td>\n",
       "      <td>0.071</td>\n",
       "      <td>0.616</td>\n",
       "      <td>0.741</td>\n",
       "    </tr>\n",
       "    <tr>\n",
       "      <th>2</th>\n",
       "      <td>0.3</td>\n",
       "      <td>2.813692</td>\n",
       "      <td>0.071</td>\n",
       "      <td>0.599</td>\n",
       "      <td>0.707</td>\n",
       "    </tr>\n",
       "    <tr>\n",
       "      <th>3</th>\n",
       "      <td>0.4</td>\n",
       "      <td>3.042917</td>\n",
       "      <td>0.071</td>\n",
       "      <td>0.598</td>\n",
       "      <td>0.690</td>\n",
       "    </tr>\n",
       "    <tr>\n",
       "      <th>4</th>\n",
       "      <td>0.5</td>\n",
       "      <td>2.250976</td>\n",
       "      <td>0.071</td>\n",
       "      <td>0.623</td>\n",
       "      <td>0.746</td>\n",
       "    </tr>\n",
       "    <tr>\n",
       "      <th>5</th>\n",
       "      <td>0.6</td>\n",
       "      <td>2.446433</td>\n",
       "      <td>0.071</td>\n",
       "      <td>0.616</td>\n",
       "      <td>0.741</td>\n",
       "    </tr>\n",
       "    <tr>\n",
       "      <th>6</th>\n",
       "      <td>0.7</td>\n",
       "      <td>2.561476</td>\n",
       "      <td>0.071</td>\n",
       "      <td>0.597</td>\n",
       "      <td>0.737</td>\n",
       "    </tr>\n",
       "    <tr>\n",
       "      <th>7</th>\n",
       "      <td>0.8</td>\n",
       "      <td>2.698132</td>\n",
       "      <td>0.071</td>\n",
       "      <td>0.604</td>\n",
       "      <td>0.703</td>\n",
       "    </tr>\n",
       "    <tr>\n",
       "      <th>8</th>\n",
       "      <td>0.9</td>\n",
       "      <td>2.812948</td>\n",
       "      <td>0.071</td>\n",
       "      <td>0.598</td>\n",
       "      <td>0.707</td>\n",
       "    </tr>\n",
       "    <tr>\n",
       "      <th>9</th>\n",
       "      <td>1.0</td>\n",
       "      <td>2.911540</td>\n",
       "      <td>0.071</td>\n",
       "      <td>0.587</td>\n",
       "      <td>0.693</td>\n",
       "    </tr>\n",
       "  </tbody>\n",
       "</table>\n",
       "</div>"
      ],
      "text/plain": [
       "   sigma  avg_l2_norm  CNN_CIFAR10_base  CNN_CIFAR10_GNA_trained  \\\n",
       "0    0.1     1.854422             0.071                    0.649   \n",
       "1    0.2     2.446433             0.071                    0.616   \n",
       "2    0.3     2.813692             0.071                    0.599   \n",
       "3    0.4     3.042917             0.071                    0.598   \n",
       "4    0.5     2.250976             0.071                    0.623   \n",
       "5    0.6     2.446433             0.071                    0.616   \n",
       "6    0.7     2.561476             0.071                    0.597   \n",
       "7    0.8     2.698132             0.071                    0.604   \n",
       "8    0.9     2.812948             0.071                    0.598   \n",
       "9    1.0     2.911540             0.071                    0.587   \n",
       "\n",
       "   CNN_CIFAR10_FGSM_trained  \n",
       "0                     0.748  \n",
       "1                     0.741  \n",
       "2                     0.707  \n",
       "3                     0.690  \n",
       "4                     0.746  \n",
       "5                     0.741  \n",
       "6                     0.737  \n",
       "7                     0.703  \n",
       "8                     0.707  \n",
       "9                     0.693  "
      ]
     },
     "execution_count": 19,
     "metadata": {},
     "output_type": "execute_result"
    }
   ],
   "source": [
    "stored_results = np.array(stored_results)\n",
    "stored_results = stored_results.reshape(-1,5)\n",
    "# stored_results = stored_results.reshape(-1,6)\n",
    "df = pd.DataFrame(stored_results, columns = ['sigma','avg_l2_norm','CNN_CIFAR10_base',\\\n",
    "                                 'CNN_CIFAR10_GNA_trained','CNN_CIFAR10_FGSM_trained'])\n",
    "# df = pd.DataFrame(stored_results, columns = ['sigma','avg_l2_norm','CNN_CIFAR10_base',\\\n",
    "#                                  'CNN_CIFAR10_GNA_trained','CNN_CIFAR10_FGSM_trained','CNN_CIFAR10_CW_trained'])\n",
    "df.to_csv('Performance of adversarially trained CNN models on CW [CIFAR10].csv', index=False)\n",
    "df"
   ]
  },
  {
   "cell_type": "code",
   "execution_count": 20,
   "metadata": {
    "id": "ee1rppfNSejI",
    "outputId": "acc32974-38ac-44e6-e1c6-8ec08d68891b"
   },
   "outputs": [
    {
     "name": "stdout",
     "output_type": "stream",
     "text": [
      "Test accuracy on unperturbed data\n",
      "32/32 [==============================] - 3s 105ms/step - loss: 0.3464 - accuracy: 0.8880\n",
      "32/32 [==============================] - 3s 98ms/step - loss: 0.5191 - accuracy: 0.8540\n",
      "32/32 [==============================] - 3s 95ms/step - loss: 0.5391 - accuracy: 0.8510\n"
     ]
    },
    {
     "data": {
      "image/png": "[encoded data removed]",
      "text/plain": [
       "<Figure size 432x288 with 1 Axes>"
      ]
     },
     "metadata": {
      "needs_background": "light"
     },
     "output_type": "display_data"
    }
   ],
   "source": [
    "df = pd.read_csv('Performance of adversarially trained CNN models on CW [CIFAR10].csv')\n",
    "\n",
    "df = df.shift(1)\n",
    "print('Test accuracy on unperturbed data')\n",
    "_, accuracy_base = CNN_CIFAR10_base.evaluate(X_test[indexes],y_test[indexes]);\n",
    "_, accuracy_GNA_trained = CNN_CIFAR10_GNA_trained.evaluate(X_test[indexes],y_test[indexes]);\n",
    "_, accuracy_FGSM_trained = CNN_CIFAR10_FGSM_trained.evaluate(X_test[indexes],y_test[indexes]);\n",
    "# _, accuracy_CW_trained = CNN_CIFAR10_CW_trained.evaluate(X_test[indexes],y_test[indexes]);\n",
    "df.iloc[0] = [0, 0, accuracy_base, accuracy_GNA_trained, accuracy_FGSM_trained]\n",
    "# df.iloc[0] = [0, 0, accuracy_base, accuracy_GNA_trained, accuracy_FGSM_trained, accuracy_CW_trained]\n",
    "\n",
    "df = df.sort_values('avg_l2_norm', ascending=True)\n",
    "\n",
    "plt.plot(df['avg_l2_norm'],df['CNN_CIFAR10_base'],'o--', color = 'C2')\n",
    "plt.plot(df['avg_l2_norm'],df['CNN_CIFAR10_GNA_trained'],'*-', color = 'C2')\n",
    "plt.plot(df['avg_l2_norm'],df['CNN_CIFAR10_FGSM_trained'],'v-', color = 'C2')\n",
    "# plt.plot(df['avg_l2_norm'],df['CNN_CIFAR10_CW_trained'],'d-', color = 'C2')\n",
    "\n",
    "\n",
    "plt.xlabel('Average $l_2$ norm of the perturbation')\n",
    "plt.ylabel('Test accuracy')\n",
    "plt.ylim([-0.1, 1.1])\n",
    "plt.legend(['CNN_CIFAR10 (base)', 'CNN_CIFAR10 (GNA trained)',\\\n",
    "            'CNN_CIFAR10 (FGSM trained)'])\n",
    "# plt.legend(['CNN_CIFAR10 (base)', 'CNN_CIFAR10 (GNA trained)',\\\n",
    "#             'CNN_CIFAR10 (FGSM trained)', 'CNN_CIFAR10 (CW trained)'])\n",
    "plt.title('Effect of CW attack on CIFAR10')\n",
    "plt.savefig('Adversarially trained CNN models CW on CIFAR10 [l2 norm]', dpi=600)\n",
    "plt.show()"
   ]
  }
 ],
 "metadata": {
  "accelerator": "GPU",
  "colab": {
   "provenance": [
    {
     "file_id": "17t5wZdiu4KbtR9opaQcMZECSJAndropo",
     "timestamp": 1674347819943
    }
   ]
  },
  "gpuClass": "standard",
  "kernelspec": {
   "display_name": "Python 3",
   "language": "python",
   "name": "python3"
  },
  "language_info": {
   "codemirror_mode": {
    "name": "ipython",
    "version": 3
   },
   "file_extension": ".py",
   "mimetype": "text/x-python",
   "name": "python",
   "nbconvert_exporter": "python",
   "pygments_lexer": "ipython3",
   "version": "3.8.8"
  }
 },
 "nbformat": 4,
 "nbformat_minor": 1
}
