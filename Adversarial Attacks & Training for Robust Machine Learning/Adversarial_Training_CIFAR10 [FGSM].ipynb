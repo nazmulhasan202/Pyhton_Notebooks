{
 "cells": [
  {
   "cell_type": "markdown",
   "metadata": {
    "id": "aiSUzqR_k38-"
   },
   "source": [
    "**Import packages**"
   ]
  },
  {
   "cell_type": "code",
   "execution_count": 23,
   "metadata": {
    "colab": {
     "base_uri": "https://localhost:8080/"
    },
    "executionInfo": {
     "elapsed": 7988,
     "status": "ok",
     "timestamp": 1678519365752,
     "user": {
      "displayName": "Nazmul Hasan",
      "userId": "13411611242505533411"
     },
     "user_tz": 420
    },
    "id": "ad5wwLh9culg",
    "outputId": "3ac0a3a8-9ffa-4f42-9c3f-acb711c6eabc"
   },
   "outputs": [
    {
     "name": "stdout",
     "output_type": "stream",
     "text": [
      "Requirement already satisfied: pytictoc in c:\\programdata\\anaconda3\\lib\\site-packages (1.5.2)\n"
     ]
    }
   ],
   "source": [
    "!pip install pytictoc"
   ]
  },
  {
   "cell_type": "code",
   "execution_count": 24,
   "metadata": {
    "colab": {
     "base_uri": "https://localhost:8080/"
    },
    "executionInfo": {
     "elapsed": 5574,
     "status": "ok",
     "timestamp": 1678519371311,
     "user": {
      "displayName": "Nazmul Hasan",
      "userId": "13411611242505533411"
     },
     "user_tz": 420
    },
    "id": "qoJw6787qpoU",
    "outputId": "c469deac-d64f-46ea-e9ff-b731420df3d7"
   },
   "outputs": [
    {
     "name": "stdout",
     "output_type": "stream",
     "text": [
      "Requirement already satisfied: tensorflow in c:\\programdata\\anaconda3\\lib\\site-packages (2.11.0)\n",
      "Requirement already satisfied: tensorflow-intel==2.11.0 in c:\\programdata\\anaconda3\\lib\\site-packages (from tensorflow) (2.11.0)\n",
      "Requirement already satisfied: tensorboard<2.12,>=2.11 in c:\\programdata\\anaconda3\\lib\\site-packages (from tensorflow-intel==2.11.0->tensorflow) (2.11.2)\n",
      "Requirement already satisfied: h5py>=2.9.0 in c:\\programdata\\anaconda3\\lib\\site-packages (from tensorflow-intel==2.11.0->tensorflow) (2.10.0)\n",
      "Requirement already satisfied: opt-einsum>=2.3.2 in c:\\programdata\\anaconda3\\lib\\site-packages (from tensorflow-intel==2.11.0->tensorflow) (3.3.0)\n",
      "Requirement already satisfied: flatbuffers>=2.0 in c:\\programdata\\anaconda3\\lib\\site-packages (from tensorflow-intel==2.11.0->tensorflow) (23.3.3)\n",
      "Requirement already satisfied: wrapt>=1.11.0 in c:\\programdata\\anaconda3\\lib\\site-packages (from tensorflow-intel==2.11.0->tensorflow) (1.12.1)\n",
      "Requirement already satisfied: google-pasta>=0.1.1 in c:\\programdata\\anaconda3\\lib\\site-packages (from tensorflow-intel==2.11.0->tensorflow) (0.2.0)\n",
      "Requirement already satisfied: astunparse>=1.6.0 in c:\\programdata\\anaconda3\\lib\\site-packages (from tensorflow-intel==2.11.0->tensorflow) (1.6.3)\n",
      "Requirement already satisfied: grpcio<2.0,>=1.24.3 in c:\\programdata\\anaconda3\\lib\\site-packages (from tensorflow-intel==2.11.0->tensorflow) (1.51.3)\n",
      "Requirement already satisfied: typing-extensions>=3.6.6 in c:\\programdata\\anaconda3\\lib\\site-packages (from tensorflow-intel==2.11.0->tensorflow) (3.7.4.3)\n",
      "Requirement already satisfied: tensorflow-io-gcs-filesystem>=0.23.1 in c:\\programdata\\anaconda3\\lib\\site-packages (from tensorflow-intel==2.11.0->tensorflow) (0.31.0)\n",
      "Requirement already satisfied: tensorflow-estimator<2.12,>=2.11.0 in c:\\programdata\\anaconda3\\lib\\site-packages (from tensorflow-intel==2.11.0->tensorflow) (2.11.0)\n",
      "Requirement already satisfied: absl-py>=1.0.0 in c:\\programdata\\anaconda3\\lib\\site-packages (from tensorflow-intel==2.11.0->tensorflow) (1.4.0)\n",
      "Requirement already satisfied: numpy>=1.20 in c:\\programdata\\anaconda3\\lib\\site-packages (from tensorflow-intel==2.11.0->tensorflow) (1.20.1)\n",
      "Requirement already satisfied: keras<2.12,>=2.11.0 in c:\\programdata\\anaconda3\\lib\\site-packages (from tensorflow-intel==2.11.0->tensorflow) (2.11.0)\n",
      "Requirement already satisfied: gast<=0.4.0,>=0.2.1 in c:\\programdata\\anaconda3\\lib\\site-packages (from tensorflow-intel==2.11.0->tensorflow) (0.4.0)\n",
      "Requirement already satisfied: termcolor>=1.1.0 in c:\\programdata\\anaconda3\\lib\\site-packages (from tensorflow-intel==2.11.0->tensorflow) (2.2.0)\n",
      "Requirement already satisfied: packaging in c:\\programdata\\anaconda3\\lib\\site-packages (from tensorflow-intel==2.11.0->tensorflow) (20.9)\n",
      "Requirement already satisfied: setuptools in c:\\programdata\\anaconda3\\lib\\site-packages (from tensorflow-intel==2.11.0->tensorflow) (52.0.0.post20210125)\n",
      "Requirement already satisfied: libclang>=13.0.0 in c:\\programdata\\anaconda3\\lib\\site-packages (from tensorflow-intel==2.11.0->tensorflow) (15.0.6.1)\n",
      "Requirement already satisfied: six>=1.12.0 in c:\\programdata\\anaconda3\\lib\\site-packages (from tensorflow-intel==2.11.0->tensorflow) (1.15.0)\n",
      "Requirement already satisfied: protobuf<3.20,>=3.9.2 in c:\\programdata\\anaconda3\\lib\\site-packages (from tensorflow-intel==2.11.0->tensorflow) (3.19.6)\n",
      "Requirement already satisfied: wheel<1.0,>=0.23.0 in c:\\programdata\\anaconda3\\lib\\site-packages (from astunparse>=1.6.0->tensorflow-intel==2.11.0->tensorflow) (0.36.2)\n",
      "Requirement already satisfied: google-auth-oauthlib<0.5,>=0.4.1 in c:\\programdata\\anaconda3\\lib\\site-packages (from tensorboard<2.12,>=2.11->tensorflow-intel==2.11.0->tensorflow) (0.4.6)\n",
      "Requirement already satisfied: werkzeug>=1.0.1 in c:\\programdata\\anaconda3\\lib\\site-packages (from tensorboard<2.12,>=2.11->tensorflow-intel==2.11.0->tensorflow) (1.0.1)\n",
      "Requirement already satisfied: markdown>=2.6.8 in c:\\programdata\\anaconda3\\lib\\site-packages (from tensorboard<2.12,>=2.11->tensorflow-intel==2.11.0->tensorflow) (3.4.1)\n",
      "Requirement already satisfied: tensorboard-data-server<0.7.0,>=0.6.0 in c:\\programdata\\anaconda3\\lib\\site-packages (from tensorboard<2.12,>=2.11->tensorflow-intel==2.11.0->tensorflow) (0.6.1)\n",
      "Requirement already satisfied: google-auth<3,>=1.6.3 in c:\\programdata\\anaconda3\\lib\\site-packages (from tensorboard<2.12,>=2.11->tensorflow-intel==2.11.0->tensorflow) (2.16.2)\n",
      "Requirement already satisfied: tensorboard-plugin-wit>=1.6.0 in c:\\programdata\\anaconda3\\lib\\site-packages (from tensorboard<2.12,>=2.11->tensorflow-intel==2.11.0->tensorflow) (1.8.1)\n",
      "Requirement already satisfied: requests<3,>=2.21.0 in c:\\programdata\\anaconda3\\lib\\site-packages (from tensorboard<2.12,>=2.11->tensorflow-intel==2.11.0->tensorflow) (2.25.1)\n",
      "Requirement already satisfied: cachetools<6.0,>=2.0.0 in c:\\programdata\\anaconda3\\lib\\site-packages (from google-auth<3,>=1.6.3->tensorboard<2.12,>=2.11->tensorflow-intel==2.11.0->tensorflow) (5.3.0)\n",
      "Requirement already satisfied: rsa<5,>=3.1.4 in c:\\programdata\\anaconda3\\lib\\site-packages (from google-auth<3,>=1.6.3->tensorboard<2.12,>=2.11->tensorflow-intel==2.11.0->tensorflow) (4.9)\n",
      "Requirement already satisfied: pyasn1-modules>=0.2.1 in c:\\programdata\\anaconda3\\lib\\site-packages (from google-auth<3,>=1.6.3->tensorboard<2.12,>=2.11->tensorflow-intel==2.11.0->tensorflow) (0.2.8)\n",
      "Requirement already satisfied: requests-oauthlib>=0.7.0 in c:\\programdata\\anaconda3\\lib\\site-packages (from google-auth-oauthlib<0.5,>=0.4.1->tensorboard<2.12,>=2.11->tensorflow-intel==2.11.0->tensorflow) (1.3.1)\n",
      "Requirement already satisfied: importlib-metadata>=4.4 in c:\\programdata\\anaconda3\\lib\\site-packages (from markdown>=2.6.8->tensorboard<2.12,>=2.11->tensorflow-intel==2.11.0->tensorflow) (6.0.0)\n",
      "Requirement already satisfied: zipp>=0.5 in c:\\programdata\\anaconda3\\lib\\site-packages (from importlib-metadata>=4.4->markdown>=2.6.8->tensorboard<2.12,>=2.11->tensorflow-intel==2.11.0->tensorflow) (3.4.1)\n",
      "Requirement already satisfied: pyasn1<0.5.0,>=0.4.6 in c:\\programdata\\anaconda3\\lib\\site-packages (from pyasn1-modules>=0.2.1->google-auth<3,>=1.6.3->tensorboard<2.12,>=2.11->tensorflow-intel==2.11.0->tensorflow) (0.4.8)\n",
      "Requirement already satisfied: certifi>=2017.4.17 in c:\\programdata\\anaconda3\\lib\\site-packages (from requests<3,>=2.21.0->tensorboard<2.12,>=2.11->tensorflow-intel==2.11.0->tensorflow) (2020.12.5)\n",
      "Requirement already satisfied: idna<3,>=2.5 in c:\\programdata\\anaconda3\\lib\\site-packages (from requests<3,>=2.21.0->tensorboard<2.12,>=2.11->tensorflow-intel==2.11.0->tensorflow) (2.10)\n",
      "Requirement already satisfied: chardet<5,>=3.0.2 in c:\\programdata\\anaconda3\\lib\\site-packages (from requests<3,>=2.21.0->tensorboard<2.12,>=2.11->tensorflow-intel==2.11.0->tensorflow) (4.0.0)\n",
      "Requirement already satisfied: urllib3<1.27,>=1.21.1 in c:\\programdata\\anaconda3\\lib\\site-packages (from requests<3,>=2.21.0->tensorboard<2.12,>=2.11->tensorflow-intel==2.11.0->tensorflow) (1.26.4)\n",
      "Requirement already satisfied: oauthlib>=3.0.0 in c:\\programdata\\anaconda3\\lib\\site-packages (from requests-oauthlib>=0.7.0->google-auth-oauthlib<0.5,>=0.4.1->tensorboard<2.12,>=2.11->tensorflow-intel==2.11.0->tensorflow) (3.2.2)\n",
      "Requirement already satisfied: pyparsing>=2.0.2 in c:\\programdata\\anaconda3\\lib\\site-packages (from packaging->tensorflow-intel==2.11.0->tensorflow) (2.4.7)\n"
     ]
    }
   ],
   "source": [
    "!pip install tensorflow"
   ]
  },
  {
   "cell_type": "code",
   "execution_count": 25,
   "metadata": {
    "executionInfo": {
     "elapsed": 3549,
     "status": "ok",
     "timestamp": 1678519375541,
     "user": {
      "displayName": "Nazmul Hasan",
      "userId": "13411611242505533411"
     },
     "user_tz": 420
    },
    "id": "_z7kPblcHOH1"
   },
   "outputs": [],
   "source": [
    "import random\n",
    "import tensorflow as tf\n",
    "from tensorflow import keras\n",
    "from keras import datasets, layers, models\n",
    "import matplotlib.pyplot as plt\n",
    "import numpy as np\n",
    "import warnings\n",
    "import pandas as pd\n",
    "from pytictoc import TicToc\n",
    "warnings.filterwarnings( \"ignore\" )"
   ]
  },
  {
   "cell_type": "markdown",
   "metadata": {
    "id": "e7iTQt51HOH3"
   },
   "source": [
    "**Load the dataset**"
   ]
  },
  {
   "cell_type": "code",
   "execution_count": 26,
   "metadata": {
    "colab": {
     "base_uri": "https://localhost:8080/"
    },
    "executionInfo": {
     "elapsed": 18524,
     "status": "ok",
     "timestamp": 1678519394049,
     "user": {
      "displayName": "Nazmul Hasan",
      "userId": "13411611242505533411"
     },
     "user_tz": 420
    },
    "id": "rPRPSMuwHOH4",
    "outputId": "b1bf612b-7eed-4cb6-f35a-e7b61d9410df"
   },
   "outputs": [
    {
     "data": {
      "text/plain": [
       "((50000, 32, 32, 3), (50000,), (10000, 32, 32, 3), (10000,))"
      ]
     },
     "execution_count": 26,
     "metadata": {},
     "output_type": "execute_result"
    }
   ],
   "source": [
    "(X_train, y_train), (X_test,y_test) = keras.datasets.cifar10.load_data()\n",
    "y_train = y_train.reshape(-1,)\n",
    "y_test = y_test.reshape(-1,)\n",
    "X_train.shape, y_train.shape, X_test.shape, y_test.shape"
   ]
  },
  {
   "cell_type": "markdown",
   "metadata": {
    "id": "NHhX3GI-dv55"
   },
   "source": [
    "**Create helper functions**"
   ]
  },
  {
   "cell_type": "code",
   "execution_count": 27,
   "metadata": {
    "executionInfo": {
     "elapsed": 21,
     "status": "ok",
     "timestamp": 1678519394050,
     "user": {
      "displayName": "Nazmul Hasan",
      "userId": "13411611242505533411"
     },
     "user_tz": 420
    },
    "id": "tx3qy9jkdwx_"
   },
   "outputs": [],
   "source": [
    "def plot_sample_image(X, y):\n",
    "    plt.figure(figsize = (15,2))\n",
    "    plt.imshow(X)\n",
    "    classes = [\"airplane\",\"automobile\",\"bird\",\"cat\",\"deer\",\"dog\",\"frog\",\"horse\",\"ship\",\"truck\"]\n",
    "    plt.xlabel('Image Label: {}'.format(classes[y]))\n",
    "\n",
    "def classification_results(X_test,y_test,y_pred_classes):\n",
    "  from sklearn.metrics import confusion_matrix , classification_report\n",
    "  import seaborn as sn\n",
    "\n",
    "  cm = tf.math.confusion_matrix(labels=y_test,predictions=y_pred_classes)\n",
    "  plt.figure(figsize = (7,5))\n",
    "  sn.heatmap(cm, annot=True, fmt='d', cmap='Greens')\n",
    "  plt.xlabel('Predicted');\n",
    "  plt.ylabel('Truth');\n",
    "\n",
    "  print(\"Classification Report: \\n\", classification_report(y_test, y_pred_classes))\n",
    "\n",
    "def plot_fitting_history(history,filename,dpi):\n",
    "  epochs = len(history.history['loss'])\n",
    "  epoch_data = np.arange(1,epochs+1)\n",
    "  plt.plot(epoch_data,history.history['loss'],'o-')\n",
    "  plt.plot(epoch_data,history.history['val_loss'],'o--')\n",
    "  plt.ylabel('Loss')\n",
    "  plt.xlabel('Epoch sequence' )\n",
    "  plt.xticks(np.arange(0, epochs + 1, step=1))\n",
    "  plt.legend(['Training','Validation'])\n",
    "  plt.savefig(filename, dpi=dpi)\n",
    "  plt.show()"
   ]
  },
  {
   "cell_type": "markdown",
   "metadata": {
    "id": "gL5ypIWkHOIE"
   },
   "source": [
    "**Normalize the input data**"
   ]
  },
  {
   "cell_type": "code",
   "execution_count": 28,
   "metadata": {
    "executionInfo": {
     "elapsed": 450,
     "status": "ok",
     "timestamp": 1678519394481,
     "user": {
      "displayName": "Nazmul Hasan",
      "userId": "13411611242505533411"
     },
     "user_tz": 420
    },
    "id": "PxewI0kIHOIF"
   },
   "outputs": [],
   "source": [
    "X_train = X_train / 255.0\n",
    "X_test = X_test / 255.0"
   ]
  },
  {
   "cell_type": "code",
   "execution_count": 29,
   "metadata": {
    "colab": {
     "base_uri": "https://localhost:8080/"
    },
    "executionInfo": {
     "elapsed": 29923,
     "status": "ok",
     "timestamp": 1678519424400,
     "user": {
      "displayName": "Nazmul Hasan",
      "userId": "13411611242505533411"
     },
     "user_tz": 420
    },
    "id": "Usv8lPonYXF0",
    "outputId": "7597bbb3-9f6d-4ba7-9b4b-3e4df3d77dff"
   },
   "outputs": [],
   "source": [
    "# from google.colab import drive\n",
    "# drive.mount('/content/gdrive')\n",
    "# # %cd /content/gdrive/MyDrive/ECE 696B/Project - ECE696B\n",
    "# %cd /content/gdrive/MyDrive/Colab Notebooks"
   ]
  },
  {
   "cell_type": "markdown",
   "metadata": {
    "id": "O7TkT_B0gx0r"
   },
   "source": [
    "**Load the models**"
   ]
  },
  {
   "cell_type": "code",
   "execution_count": 30,
   "metadata": {
    "executionInfo": {
     "elapsed": 13757,
     "status": "ok",
     "timestamp": 1678519438149,
     "user": {
      "displayName": "Nazmul Hasan",
      "userId": "13411611242505533411"
     },
     "user_tz": 420
    },
    "id": "cacXKz9PZM7l"
   },
   "outputs": [
    {
     "name": "stdout",
     "output_type": "stream",
     "text": [
      "C:\\Users\\nh202\\My Drive (nh202@arizona.edu)\\ECE 696B\\Project - ECE696B\n"
     ]
    }
   ],
   "source": [
    "%cd C:\\Users\\nh202\\My Drive (nh202@arizona.edu)\\ECE 696B\\Project - ECE696B\n",
    "from keras.models import load_model\n",
    "Linear_CIFAR10 = load_model('Linear_CIFAR10.h5')\n",
    "MLP_CIFAR10 = load_model('MLP_CIFAR10.h5')\n",
    "CNN_CIFAR10 = load_model('CNN_CIFAR10.h5')"
   ]
  },
  {
   "cell_type": "markdown",
   "metadata": {
    "id": "G1qA-8V5Z-eg"
   },
   "source": [
    "# Fast gradient sign method (FGSM) attack"
   ]
  },
  {
   "cell_type": "markdown",
   "metadata": {
    "id": "0J56ssCnYF3G"
   },
   "source": [
    "**Function for FGSM attack**"
   ]
  },
  {
   "cell_type": "code",
   "execution_count": 51,
   "metadata": {
    "executionInfo": {
     "elapsed": 46,
     "status": "ok",
     "timestamp": 1678519438151,
     "user": {
      "displayName": "Nazmul Hasan",
      "userId": "13411611242505533411"
     },
     "user_tz": 420
    },
    "id": "N233mqhAYEoC"
   },
   "outputs": [],
   "source": [
    "def fgsm_attack(model, x, y_true, eps):\n",
    "\n",
    "    x_tensor = tf.convert_to_tensor(x)\n",
    "    \n",
    "    # Set tape to watch the input tensor\n",
    "    with tf.GradientTape() as tape:\n",
    "        tape.watch(x_tensor)\n",
    "        y_pred = model(x_tensor)\n",
    "        loss = tf.keras.losses.sparse_categorical_crossentropy(y_true, y_pred)  \n",
    "    \n",
    "    # Calculate the gradient of the loss with respect to the input image\n",
    "    grads = tape.gradient(loss, x_tensor)\n",
    "    \n",
    "    # Calculate the sign of the gradient\n",
    "    sign = tf.math.sign(grads)    \n",
    "\n",
    "    # Notes:\n",
    "    # sign[0] matches the shape of x, sign matches the shape of x_tensor\n",
    "    # print(sign[0].shape, x.shape, sign.shape, x_tensor.shape)\n",
    "    \n",
    "    # Generate the adversarial example by adding the sign of the gradient times epsilon to the input image    \n",
    "    x_adv = x + eps * sign\n",
    "    \n",
    "    # Clip the adversarial example to maintain pixel values in [0,1] range\n",
    "    x_adv = tf.clip_by_value(x_adv, clip_value_min=0, clip_value_max=1)\n",
    "    \n",
    "    return x_adv.numpy()"
   ]
  },
  {
   "cell_type": "markdown",
   "metadata": {
    "id": "dhlYutUuFoPA"
   },
   "source": [
    "# Adversarial training of Linear model"
   ]
  },
  {
   "cell_type": "code",
   "execution_count": 23,
   "metadata": {
    "colab": {
     "base_uri": "https://localhost:8080/"
    },
    "executionInfo": {
     "elapsed": 2576,
     "status": "ok",
     "timestamp": 1678517857984,
     "user": {
      "displayName": "Nazmul Hasan",
      "userId": "02122416256231585764"
     },
     "user_tz": 420
    },
    "id": "z1SFaq0CFQHu",
    "outputId": "dc341b85-3f7c-4f64-e48f-569fb64b0a45"
   },
   "outputs": [],
   "source": [
    "# indexes = np.arange(0,5000); eps = 0.1\n",
    "# X_train_FGSM_Linear_1 = fgsm_attack(Linear_CIFAR10,X_train[indexes],y_train[indexes],eps)\n",
    "\n",
    "# indexes = np.arange(5000,7500); eps = 0.2\n",
    "# X_train_FGSM_Linear_2 = fgsm_attack(Linear_CIFAR10,X_train[indexes],y_train[indexes],eps)\n",
    "\n",
    "# indexes = np.arange(7500,8750); eps = 0.3\n",
    "# X_train_FGSM_Linear_3 = fgsm_attack(Linear_CIFAR10,X_train[indexes],y_train[indexes],eps)\n",
    "\n",
    "# indexes = np.arange(8750, 9375); eps = 0.4\n",
    "# X_train_FGSM_Linear_4 = fgsm_attack(Linear_CIFAR10,X_train[indexes],y_train[indexes],eps)\n",
    "\n",
    "# indexes = np.arange(9375, 10000); eps = 0.5\n",
    "# X_train_FGSM_Linear_5 = fgsm_attack(Linear_CIFAR10,X_train[indexes],y_train[indexes],eps)\n",
    "\n",
    "# X_train_FGSM_Linear = np.concatenate((X_train_FGSM_Linear_1, X_train_FGSM_Linear_2, X_train_FGSM_Linear_3,\\\n",
    "#                                 X_train_FGSM_Linear_4, X_train_FGSM_Linear_5), axis = 0)\n",
    "\n",
    "# indexes = range(10000)\n",
    "# avg_l2_norm = np.mean(np.sqrt(np.sum((X_train_FGSM_Linear-X_train[indexes])**2, axis=(1,2,3))))\n",
    "# print(\"Average l2 distance of the perturbation:\", avg_l2_norm)"
   ]
  },
  {
   "cell_type": "code",
   "execution_count": 24,
   "metadata": {
    "colab": {
     "base_uri": "https://localhost:8080/"
    },
    "executionInfo": {
     "elapsed": 2103,
     "status": "ok",
     "timestamp": 1678517860078,
     "user": {
      "displayName": "Nazmul Hasan",
      "userId": "02122416256231585764"
     },
     "user_tz": 420
    },
    "id": "HbEwn_DxGNNM",
    "outputId": "51c93c1c-5491-497b-a32b-03f19686af1f"
   },
   "outputs": [],
   "source": [
    "# X_train_stack = np.concatenate((X_train, X_train_FGSM_Linear), axis = 0)\n",
    "# y_train_stack = np.concatenate((y_train, y_train[indexes]), axis = 0)\n",
    "\n",
    "# p = np.random.permutation(len(X_train_stack))\n",
    "# X_train_stack, y_train_stack = X_train_stack[p], y_train_stack[p]\n",
    "\n",
    "# X_train_stack.shape, y_train_stack.shape"
   ]
  },
  {
   "cell_type": "code",
   "execution_count": 25,
   "metadata": {
    "colab": {
     "base_uri": "https://localhost:8080/"
    },
    "executionInfo": {
     "elapsed": 608756,
     "status": "ok",
     "timestamp": 1678518468828,
     "user": {
      "displayName": "Nazmul Hasan",
      "userId": "02122416256231585764"
     },
     "user_tz": 420
    },
    "id": "vANZ1T8FGUZp",
    "outputId": "39c44702-3f7e-4e2a-f95d-b04707a39e53"
   },
   "outputs": [],
   "source": [
    "# import random\n",
    "# import tensorflow as tf\n",
    "# seed = 42\n",
    "# random.seed(seed)\n",
    "# np.random.seed(seed)\n",
    "# tf.random.set_seed(seed)\n",
    "\n",
    "# Linear_CIFAR10 = models.Sequential([\n",
    "#         layers.Flatten(input_shape=X_train.shape[1:]),\n",
    "#         layers.Dense(10, activation='softmax'),  \n",
    "#     ])\n",
    "\n",
    "# learning_rate =  0.0001\n",
    "# Linear_CIFAR10.compile(optimizer=tf.keras.optimizers.Adam(learning_rate),\n",
    "#               loss='sparse_categorical_crossentropy',\n",
    "#               metrics=['accuracy'])\n",
    "\n",
    "# early_callbacks = keras.callbacks.EarlyStopping(monitor='val_loss', patience=20)\n",
    "# history_C_Linear_FGSM = Linear_CIFAR10.fit(X_train_stack, y_train_stack, epochs=200, batch_size=32,\n",
    "#             validation_split = 0.1, callbacks = early_callbacks, verbose=1, shuffle = True)"
   ]
  },
  {
   "cell_type": "code",
   "execution_count": 26,
   "metadata": {
    "colab": {
     "base_uri": "https://localhost:8080/",
     "height": 282
    },
    "executionInfo": {
     "elapsed": 2160,
     "status": "ok",
     "timestamp": 1678518550181,
     "user": {
      "displayName": "Nazmul Hasan",
      "userId": "02122416256231585764"
     },
     "user_tz": 420
    },
    "id": "A9WwZTB4GWWQ",
    "outputId": "82889f2c-9cac-410a-fcdd-d64acdfa27fd"
   },
   "outputs": [],
   "source": [
    "# filename = 'FGSM Adversarial Training history CIFAR10 [Linear]'+'.png'\n",
    "# plot_fitting_history(history_C_Linear_FGSM, filename, dpi = 100)"
   ]
  },
  {
   "cell_type": "code",
   "execution_count": 27,
   "metadata": {
    "colab": {
     "base_uri": "https://localhost:8080/",
     "height": 677
    },
    "executionInfo": {
     "elapsed": 4590,
     "status": "ok",
     "timestamp": 1678518576153,
     "user": {
      "displayName": "Nazmul Hasan",
      "userId": "02122416256231585764"
     },
     "user_tz": 420
    },
    "id": "k4I6t7v7GWxR",
    "outputId": "c1d8fad0-4786-4541-ad08-2ff8f6a96b8c"
   },
   "outputs": [],
   "source": [
    "# y_pred = Linear_CIFAR10.predict(X_test)\n",
    "# y_pred_classes = [np.argmax(element) for element in y_pred]\n",
    "# classification_results(X_test,y_test,y_pred_classes)"
   ]
  },
  {
   "cell_type": "code",
   "execution_count": 28,
   "metadata": {
    "id": "k4Ev-CVlGXD1"
   },
   "outputs": [],
   "source": [
    "# Linear_CIFAR10.save('Linear_CIFAR10_FGSM_trained.h5')"
   ]
  },
  {
   "cell_type": "markdown",
   "metadata": {
    "id": "5oMrKbL7Gwrj"
   },
   "source": [
    "# Adversarial training of MLP model"
   ]
  },
  {
   "cell_type": "code",
   "execution_count": 30,
   "metadata": {
    "colab": {
     "base_uri": "https://localhost:8080/"
    },
    "executionInfo": {
     "elapsed": 5054,
     "status": "ok",
     "timestamp": 1678519443162,
     "user": {
      "displayName": "Nazmul Hasan",
      "userId": "13411611242505533411"
     },
     "user_tz": 420
    },
    "id": "6U8aaEGPJMl0",
    "outputId": "f8b86c3c-e85f-4d09-9229-4b1a7521716e"
   },
   "outputs": [
    {
     "name": "stdout",
     "output_type": "stream",
     "text": [
      "Average l2 distance of the perturbation: 9.964862718364214\n"
     ]
    }
   ],
   "source": [
    "indexes = np.arange(0,5000); eps = 0.1\n",
    "X_train_FGSM_MLP_1 = fgsm_attack(MLP_CIFAR10,X_train[indexes],y_train[indexes],eps)\n",
    "\n",
    "indexes = np.arange(5000,7500); eps = 0.2\n",
    "X_train_FGSM_MLP_2 = fgsm_attack(MLP_CIFAR10,X_train[indexes],y_train[indexes],eps)\n",
    "\n",
    "indexes = np.arange(7500,8750); eps = 0.3\n",
    "X_train_FGSM_MLP_3 = fgsm_attack(MLP_CIFAR10,X_train[indexes],y_train[indexes],eps)\n",
    "\n",
    "indexes = np.arange(8750, 9375); eps = 0.4\n",
    "X_train_FGSM_MLP_4 = fgsm_attack(MLP_CIFAR10,X_train[indexes],y_train[indexes],eps)\n",
    "\n",
    "indexes = np.arange(9375, 10000); eps = 0.5\n",
    "X_train_FGSM_MLP_5 = fgsm_attack(MLP_CIFAR10,X_train[indexes],y_train[indexes],eps)\n",
    "\n",
    "X_train_FGSM_MLP = np.concatenate((X_train_FGSM_MLP_1, X_train_FGSM_MLP_2, X_train_FGSM_MLP_3,\\\n",
    "                                X_train_FGSM_MLP_4, X_train_FGSM_MLP_5), axis = 0)\n",
    "\n",
    "indexes = range(10000)\n",
    "avg_l2_norm = np.mean(np.sqrt(np.sum((X_train_FGSM_MLP-X_train[indexes])**2, axis=(1,2,3))))\n",
    "print(\"Average l2 distance of the perturbation:\", avg_l2_norm)"
   ]
  },
  {
   "cell_type": "code",
   "execution_count": null,
   "metadata": {
    "colab": {
     "base_uri": "https://localhost:8080/"
    },
    "executionInfo": {
     "elapsed": 1054,
     "status": "ok",
     "timestamp": 1678519444207,
     "user": {
      "displayName": "Nazmul Hasan",
      "userId": "13411611242505533411"
     },
     "user_tz": 420
    },
    "id": "kEqzPD5AJMiS",
    "outputId": "941f6f71-ac8a-4361-e920-e6f4accc8e04"
   },
   "outputs": [],
   "source": [
    "X_train_stack = np.concatenate((X_train, X_train_FGSM_MLP), axis = 0)\n",
    "y_train_stack = np.concatenate((y_train, y_train[indexes]), axis = 0)\n",
    "\n",
    "p = np.random.permutation(len(X_train_stack))\n",
    "X_train_stack, y_train_stack = X_train_stack[p], y_train_stack[p]\n",
    "\n",
    "X_train_stack.shape, y_train_stack.shape"
   ]
  },
  {
   "cell_type": "code",
   "execution_count": null,
   "metadata": {
    "colab": {
     "base_uri": "https://localhost:8080/"
    },
    "executionInfo": {
     "elapsed": 1093341,
     "status": "ok",
     "timestamp": 1678520537540,
     "user": {
      "displayName": "Nazmul Hasan",
      "userId": "13411611242505533411"
     },
     "user_tz": 420
    },
    "id": "qJGr1uDDJMe4",
    "outputId": "69481d08-fc41-424c-cb85-0d01e4404d50"
   },
   "outputs": [],
   "source": [
    "import random\n",
    "import tensorflow as tf\n",
    "seed = 42\n",
    "random.seed(seed)\n",
    "np.random.seed(seed)\n",
    "tf.random.set_seed(seed)\n",
    "\n",
    "MLP_CIFAR10 = models.Sequential([\n",
    "        layers.Flatten(input_shape=X_train.shape[1:]),\n",
    "        layers.Dense(1024, activation='relu'),\n",
    "        layers.BatchNormalization(),\n",
    "        layers.Dropout(0.5),\n",
    "        layers.Dense(512, activation='relu'),\n",
    "        layers.BatchNormalization(),\n",
    "        layers.Dropout(0.5),\n",
    "        layers.Dense(512, activation='relu'),\n",
    "        layers.BatchNormalization(),\n",
    "        layers.Dropout(0.5),\n",
    "        layers.Dense(512, activation='relu'),\n",
    "        layers.BatchNormalization(),\n",
    "        layers.Dropout(0.5),\n",
    "        layers.Dense(1024, activation='relu'),\n",
    "        layers.BatchNormalization(),\n",
    "        layers.Dropout(0.5),\n",
    "        layers.Dense(10, activation='softmax')    \n",
    "    ])\n",
    "\n",
    "learning_rate =  0.0001\n",
    "MLP_CIFAR10.compile(optimizer=tf.keras.optimizers.Adam(learning_rate),\n",
    "              loss='sparse_categorical_crossentropy',\n",
    "              metrics=['accuracy'])\n",
    "\n",
    "early_callbacks = keras.callbacks.EarlyStopping(monitor='val_loss', patience=20)\n",
    "history_C_MLP_FGSM = MLP_CIFAR10.fit(X_train_stack, y_train_stack, epochs=200, batch_size=32,\n",
    "            validation_split = 0.1, callbacks = early_callbacks, verbose=1, shuffle = True)"
   ]
  },
  {
   "cell_type": "code",
   "execution_count": null,
   "metadata": {
    "colab": {
     "base_uri": "https://localhost:8080/",
     "height": 279
    },
    "executionInfo": {
     "elapsed": 14661,
     "status": "ok",
     "timestamp": 1678520552189,
     "user": {
      "displayName": "Nazmul Hasan",
      "userId": "13411611242505533411"
     },
     "user_tz": 420
    },
    "id": "lG8K6bmAJMaP",
    "outputId": "5e8272bb-a334-4a08-dba0-e33695b6c5f2"
   },
   "outputs": [],
   "source": [
    "filename = 'FGSM Adversarial Training history CIFAR10 [MLP]'+'.png'\n",
    "plot_fitting_history(history_C_MLP_FGSM, filename, dpi = 100)"
   ]
  },
  {
   "cell_type": "code",
   "execution_count": null,
   "metadata": {
    "colab": {
     "base_uri": "https://localhost:8080/",
     "height": 677
    },
    "executionInfo": {
     "elapsed": 6155,
     "status": "ok",
     "timestamp": 1678520558341,
     "user": {
      "displayName": "Nazmul Hasan",
      "userId": "13411611242505533411"
     },
     "user_tz": 420
    },
    "id": "VD1MlJpbJMNI",
    "outputId": "e929af8b-c88e-48d0-d368-dfa9eca65ba8"
   },
   "outputs": [],
   "source": [
    "y_pred = MLP_CIFAR10.predict(X_test)\n",
    "y_pred_classes = [np.argmax(element) for element in y_pred]\n",
    "classification_results(X_test,y_test,y_pred_classes)"
   ]
  },
  {
   "cell_type": "code",
   "execution_count": null,
   "metadata": {
    "executionInfo": {
     "elapsed": 472,
     "status": "ok",
     "timestamp": 1678520558764,
     "user": {
      "displayName": "Nazmul Hasan",
      "userId": "13411611242505533411"
     },
     "user_tz": 420
    },
    "id": "67jr5v7LJMBW"
   },
   "outputs": [],
   "source": [
    "MLP_CIFAR10.save('MLP_CIFAR10_FGSM_trained.h5')"
   ]
  },
  {
   "cell_type": "markdown",
   "metadata": {
    "id": "NqhkmVEBJrkY"
   },
   "source": [
    "# Adversarial training of CNN model"
   ]
  },
  {
   "cell_type": "code",
   "execution_count": null,
   "metadata": {
    "colab": {
     "base_uri": "https://localhost:8080/"
    },
    "executionInfo": {
     "elapsed": 5947,
     "status": "ok",
     "timestamp": 1678520911467,
     "user": {
      "displayName": "Nazmul Hasan",
      "userId": "13411611242505533411"
     },
     "user_tz": 420
    },
    "id": "zYT8t-RZJvCY",
    "outputId": "0ab47322-ddaa-4f57-d61b-2ed2dcc736c9"
   },
   "outputs": [],
   "source": [
    "indexes = np.arange(0,1250); eps = 0.1\n",
    "X_train_FGSM_CNN_11 = fgsm_attack(CNN_CIFAR10,X_train[indexes],y_train[indexes],eps)\n",
    "\n",
    "indexes = np.arange(1250,2500); eps = 0.1\n",
    "X_train_FGSM_CNN_12 = fgsm_attack(CNN_CIFAR10,X_train[indexes],y_train[indexes],eps)\n",
    "\n",
    "indexes = np.arange(2500,3750); eps = 0.1\n",
    "X_train_FGSM_CNN_13 = fgsm_attack(CNN_CIFAR10,X_train[indexes],y_train[indexes],eps)\n",
    "\n",
    "indexes = np.arange(3750,5000); eps = 0.1\n",
    "X_train_FGSM_CNN_14 = fgsm_attack(CNN_CIFAR10,X_train[indexes],y_train[indexes],eps)\n",
    "\n",
    "indexes = np.arange(5000,6250); eps = 0.2\n",
    "X_train_FGSM_CNN_21 = fgsm_attack(CNN_CIFAR10,X_train[indexes],y_train[indexes],eps)\n",
    "\n",
    "indexes = np.arange(6250,7500); eps = 0.2\n",
    "X_train_FGSM_CNN_22 = fgsm_attack(CNN_CIFAR10,X_train[indexes],y_train[indexes],eps)\n",
    "\n",
    "indexes = np.arange(7500,8750); eps = 0.3\n",
    "X_train_FGSM_CNN_3 = fgsm_attack(CNN_CIFAR10,X_train[indexes],y_train[indexes],eps)\n",
    "\n",
    "indexes = np.arange(8750, 9375); eps = 0.4\n",
    "X_train_FGSM_CNN_4 = fgsm_attack(CNN_CIFAR10,X_train[indexes],y_train[indexes],eps)\n",
    "\n",
    "indexes = np.arange(9375, 10000); eps = 0.5\n",
    "X_train_FGSM_CNN_5 = fgsm_attack(CNN_CIFAR10,X_train[indexes],y_train[indexes],eps)\n",
    "\n",
    "X_train_FGSM_CNN = np.concatenate((X_train_FGSM_CNN_11, X_train_FGSM_CNN_12, X_train_FGSM_CNN_13, \\\n",
    "                                   X_train_FGSM_CNN_14, X_train_FGSM_CNN_21, X_train_FGSM_CNN_22,\\\n",
    "                                   X_train_FGSM_CNN_3, X_train_FGSM_CNN_4, X_train_FGSM_CNN_5), axis = 0)\n",
    "\n",
    "indexes = range(10000)\n",
    "avg_l2_norm = np.mean(np.sqrt(np.sum((X_train_FGSM_CNN-X_train[indexes])**2, axis=(1,2,3))))\n",
    "print(\"Average l2 distance of the perturbation:\", avg_l2_norm)"
   ]
  },
  {
   "cell_type": "code",
   "execution_count": null,
   "metadata": {
    "colab": {
     "base_uri": "https://localhost:8080/"
    },
    "executionInfo": {
     "elapsed": 3003,
     "status": "ok",
     "timestamp": 1678520918560,
     "user": {
      "displayName": "Nazmul Hasan",
      "userId": "13411611242505533411"
     },
     "user_tz": 420
    },
    "id": "vJxI3yXCJu95",
    "outputId": "0f15de95-4283-44b6-a4e8-83d185bdeaa4"
   },
   "outputs": [],
   "source": [
    "X_train_stack = np.concatenate((X_train, X_train_FGSM_CNN), axis = 0)\n",
    "y_train_stack = np.concatenate((y_train, y_train[indexes]), axis = 0)\n",
    "\n",
    "p = np.random.permutation(len(X_train_stack))\n",
    "X_train_stack, y_train_stack = X_train_stack[p], y_train_stack[p]\n",
    "\n",
    "X_train_stack.shape, y_train_stack.shape"
   ]
  },
  {
   "cell_type": "code",
   "execution_count": null,
   "metadata": {
    "colab": {
     "base_uri": "https://localhost:8080/"
    },
    "executionInfo": {
     "elapsed": 2341272,
     "status": "ok",
     "timestamp": 1678523262352,
     "user": {
      "displayName": "Nazmul Hasan",
      "userId": "13411611242505533411"
     },
     "user_tz": 420
    },
    "id": "6QPj6RXiJu5w",
    "outputId": "ea1f9056-6076-4b75-8cd9-1b30fde1d698"
   },
   "outputs": [],
   "source": [
    "import random\n",
    "import tensorflow as tf\n",
    "seed = 42\n",
    "random.seed(seed)\n",
    "np.random.seed(seed)\n",
    "tf.random.set_seed(seed)\n",
    "\n",
    "CNN_CIFAR10 = models.Sequential([\n",
    "\n",
    "    layers.Conv2D(128, (3, 3), padding='same', input_shape=(32, 32, 3), activation='relu'),\n",
    "    layers.BatchNormalization(),\n",
    "    layers.Conv2D(128, (3, 3), activation='relu'),\n",
    "    layers.BatchNormalization(),\n",
    "    layers.MaxPooling2D(pool_size=(2, 2)),\n",
    "    layers.Dropout(0.25),\n",
    "\n",
    "    layers.Conv2D(128, (3, 3), padding='same', activation='relu'),\n",
    "    layers.BatchNormalization(),\n",
    "    layers.Conv2D(128, (3, 3), activation='relu'),\n",
    "    layers.BatchNormalization(),\n",
    "    layers.MaxPooling2D(pool_size=(2, 2)),\n",
    "    layers.Dropout(0.25),\n",
    "\n",
    "    layers.Conv2D(128, (3, 3), padding='same', activation='relu'),\n",
    "    layers.BatchNormalization(),\n",
    "    layers.Conv2D(128, (3, 3), activation='relu'),\n",
    "    layers.BatchNormalization(),\n",
    "    layers.MaxPooling2D(pool_size=(2, 2)),\n",
    "    layers.Dropout(0.25),\n",
    "\n",
    "    layers.Flatten(),\n",
    "\n",
    "    layers.Dense(2048, activation='relu'),\n",
    "    layers.BatchNormalization(),\n",
    "    layers.Dropout(0.5),\n",
    "\n",
    "    layers.Dense(1024, activation='relu'),\n",
    "    layers.BatchNormalization(),\n",
    "    layers.Dropout(0.5),\n",
    "\n",
    "    layers.Dense(512, activation='relu'),\n",
    "    layers.BatchNormalization(),\n",
    "    layers.Dropout(0.5),\n",
    "\n",
    "    layers.Dense(256, activation='relu'),\n",
    "    layers.BatchNormalization(),\n",
    "    layers.Dropout(0.5),\n",
    "\n",
    "    layers.Dense(128, activation='relu'),\n",
    "    layers.BatchNormalization(),\n",
    "    layers.Dropout(0.5),\n",
    "    \n",
    "    layers.Dense(256, activation='relu'), \n",
    "    layers.BatchNormalization(),\n",
    "    layers.Dropout(0.5),\n",
    "\n",
    "    layers.Dense(10, activation='softmax'),\n",
    "])\n",
    "\n",
    "learning_rate =  0.0001\n",
    "CNN_CIFAR10.compile(optimizer=tf.keras.optimizers.Adam(learning_rate),\n",
    "                loss='sparse_categorical_crossentropy',\n",
    "                metrics=['accuracy'])\n",
    "\n",
    "early_callbacks = keras.callbacks.EarlyStopping(monitor='val_loss', patience=20)\n",
    "history_C_CNN_FGSM = CNN_CIFAR10.fit(X_train_stack, y_train_stack, epochs=200, batch_size=32,\n",
    "            validation_split = 0.1, callbacks = early_callbacks, verbose=1, shuffle = True)"
   ]
  },
  {
   "cell_type": "code",
   "execution_count": null,
   "metadata": {
    "colab": {
     "base_uri": "https://localhost:8080/",
     "height": 279
    },
    "executionInfo": {
     "elapsed": 26795,
     "status": "ok",
     "timestamp": 1678523289530,
     "user": {
      "displayName": "Nazmul Hasan",
      "userId": "13411611242505533411"
     },
     "user_tz": 420
    },
    "id": "Q7Z8jbZoJu05",
    "outputId": "24b25db9-70df-49c9-e2a8-ae0df1560472"
   },
   "outputs": [],
   "source": [
    "filename = 'FGSM Adversarial Training history CIFAR10 [CNN]'+'.png'\n",
    "plot_fitting_history(history_C_CNN_FGSM, filename, dpi = 100)"
   ]
  },
  {
   "cell_type": "code",
   "execution_count": null,
   "metadata": {
    "colab": {
     "base_uri": "https://localhost:8080/",
     "height": 677
    },
    "executionInfo": {
     "elapsed": 2745,
     "status": "ok",
     "timestamp": 1678523292266,
     "user": {
      "displayName": "Nazmul Hasan",
      "userId": "13411611242505533411"
     },
     "user_tz": 420
    },
    "id": "IDadI_j2JvpY",
    "outputId": "9d6dc108-79bf-48ee-aa21-3fab0579d8ed"
   },
   "outputs": [],
   "source": [
    "y_pred = CNN_CIFAR10.predict(X_test)\n",
    "y_pred_classes = [np.argmax(element) for element in y_pred]\n",
    "classification_results(X_test,y_test,y_pred_classes)"
   ]
  },
  {
   "cell_type": "code",
   "execution_count": null,
   "metadata": {
    "executionInfo": {
     "elapsed": 535,
     "status": "ok",
     "timestamp": 1678523292797,
     "user": {
      "displayName": "Nazmul Hasan",
      "userId": "13411611242505533411"
     },
     "user_tz": 420
    },
    "id": "-NaxfTTbJush"
   },
   "outputs": [],
   "source": [
    "CNN_CIFAR10.save('CNN_CIFAR10_FGSM_trained.h5')"
   ]
  },
  {
   "cell_type": "markdown",
   "metadata": {
    "id": "wLdrmsddiHBh"
   },
   "source": [
    "# Evaluate performance of adversarial training"
   ]
  },
  {
   "cell_type": "code",
   "execution_count": 31,
   "metadata": {
    "id": "5UPqBlG1KrHR",
    "outputId": "6afce670-2f99-4b2e-936f-13c9631c2b19"
   },
   "outputs": [
    {
     "name": "stdout",
     "output_type": "stream",
     "text": [
      "C:\\Users\\nh202\\My Drive (nh202@arizona.edu)\\ECE 696B\\Project - ECE696B\n"
     ]
    }
   ],
   "source": [
    "%cd C:\\Users\\nh202\\My Drive (nh202@arizona.edu)\\ECE 696B\\Project - ECE696B\n",
    "from keras.models import load_model\n",
    "Linear_CIFAR10 = load_model('Linear_CIFAR10_FGSM_trained.h5')\n",
    "MLP_CIFAR10 = load_model('MLP_CIFAR10_FGSM_trained.h5')\n",
    "CNN_CIFAR10 = load_model('CNN_CIFAR10_FGSM_trained.h5')"
   ]
  },
  {
   "cell_type": "code",
   "execution_count": 32,
   "metadata": {
    "id": "1o32HZkpqpo5",
    "outputId": "a66a3558-5f6a-4a9f-fd31-7fe744b331d2"
   },
   "outputs": [
    {
     "name": "stdout",
     "output_type": "stream",
     "text": [
      "Test accuracy on unperturbed data\n",
      "32/32 [==============================] - 0s 1ms/step - loss: 1.7600 - accuracy: 0.3980\n",
      "32/32 [==============================] - 0s 7ms/step - loss: 1.5407 - accuracy: 0.4430\n",
      "32/32 [==============================] - 4s 114ms/step - loss: 0.5391 - accuracy: 0.8510\n",
      "\n",
      "\n"
     ]
    }
   ],
   "source": [
    "indexes = range(1000)\n",
    "print('Test accuracy on unperturbed data')\n",
    "Linear_CIFAR10.evaluate(X_test[indexes],y_test[indexes])\n",
    "MLP_CIFAR10.evaluate(X_test[indexes],y_test[indexes])\n",
    "CNN_CIFAR10.evaluate(X_test[indexes],y_test[indexes])\n",
    "print('\\n')"
   ]
  },
  {
   "cell_type": "code",
   "execution_count": 33,
   "metadata": {
    "id": "vZAl6IvIEdwf",
    "outputId": "fc54e81f-0c5f-4522-e845-4043cf8936a1"
   },
   "outputs": [
    {
     "name": "stdout",
     "output_type": "stream",
     "text": [
      "C:\\Users\\nh202\\OneDrive - University of Arizona\\Adversairal Examples - ECE 696B\\FGSM\n"
     ]
    }
   ],
   "source": [
    "%cd C:\\Users\\nh202\\OneDrive - University of Arizona\\Adversairal Examples - ECE 696B\\FGSM"
   ]
  },
  {
   "cell_type": "markdown",
   "metadata": {
    "id": "7cPtDvu0cf2X"
   },
   "source": [
    "**Performance on adversarial examples**"
   ]
  },
  {
   "cell_type": "code",
   "execution_count": 34,
   "metadata": {
    "id": "KepelXnJq8Wx",
    "outputId": "467bee9f-46a2-4adf-d2e4-8286d3cac125"
   },
   "outputs": [
    {
     "name": "stdout",
     "output_type": "stream",
     "text": [
      "eps value: 0.1\n",
      "\n",
      "\n",
      "Test accuracy on perturbed data targeted for Linear model\n",
      "32/32 [==============================] - 0s 1ms/step - loss: 0.1196 - accuracy: 0.9850\n",
      "32/32 [==============================] - 0s 7ms/step - loss: 2.1247 - accuracy: 0.2350\n",
      "32/32 [==============================] - 4s 119ms/step - loss: 1.8205 - accuracy: 0.5680\n",
      "\n",
      "\n",
      "Test accuracy on perturbed data targeted for MLP model\n",
      "32/32 [==============================] - 0s 2ms/step - loss: 3.3992 - accuracy: 0.0270\n",
      "32/32 [==============================] - 0s 8ms/step - loss: 0.5734 - accuracy: 0.8390\n",
      "32/32 [==============================] - 4s 111ms/step - loss: 2.4129 - accuracy: 0.4980\n",
      "\n",
      "\n",
      "Test accuracy on perturbed data targeted for CNN model\n",
      "32/32 [==============================] - 0s 2ms/step - loss: 1.9334 - accuracy: 0.3190\n",
      "32/32 [==============================] - 0s 8ms/step - loss: 1.6539 - accuracy: 0.3870\n",
      "32/32 [==============================] - 3s 107ms/step - loss: 0.7548 - accuracy: 0.7880\n",
      "\n",
      "eps value: 0.2\n",
      "\n",
      "\n",
      "Test accuracy on perturbed data targeted for Linear model\n",
      "32/32 [==============================] - 0s 2ms/step - loss: 0.0104 - accuracy: 0.9990\n",
      "32/32 [==============================] - 0s 7ms/step - loss: 2.7079 - accuracy: 0.1350\n",
      "32/32 [==============================] - 4s 114ms/step - loss: 3.0854 - accuracy: 0.3640\n",
      "\n",
      "\n",
      "Test accuracy on perturbed data targeted for MLP model\n",
      "32/32 [==============================] - 0s 2ms/step - loss: 5.5336 - accuracy: 0.0010\n",
      "32/32 [==============================] - 0s 10ms/step - loss: 0.3474 - accuracy: 0.8860\n",
      "32/32 [==============================] - 4s 115ms/step - loss: 3.9556 - accuracy: 0.2590\n",
      "\n",
      "\n",
      "Test accuracy on perturbed data targeted for CNN model\n",
      "32/32 [==============================] - 0s 2ms/step - loss: 2.1845 - accuracy: 0.2450\n",
      "32/32 [==============================] - 0s 8ms/step - loss: 1.8377 - accuracy: 0.3200\n",
      "32/32 [==============================] - 4s 111ms/step - loss: 0.8695 - accuracy: 0.7800\n",
      "\n",
      "eps value: 0.3\n",
      "\n",
      "\n",
      "Test accuracy on perturbed data targeted for Linear model\n",
      "32/32 [==============================] - 0s 2ms/step - loss: 0.0017 - accuracy: 1.0000\n",
      "32/32 [==============================] - 0s 8ms/step - loss: 3.2510 - accuracy: 0.0810\n",
      "32/32 [==============================] - 4s 116ms/step - loss: 3.8986 - accuracy: 0.2530\n",
      "\n",
      "\n",
      "Test accuracy on perturbed data targeted for MLP model\n",
      "32/32 [==============================] - 0s 2ms/step - loss: 7.6843 - accuracy: 0.0000e+00\n",
      "32/32 [==============================] - 0s 8ms/step - loss: 0.2985 - accuracy: 0.8980\n",
      "32/32 [==============================] - 4s 123ms/step - loss: 4.7035 - accuracy: 0.1820\n",
      "\n",
      "\n",
      "Test accuracy on perturbed data targeted for CNN model\n",
      "32/32 [==============================] - 0s 2ms/step - loss: 2.5016 - accuracy: 0.1790\n",
      "32/32 [==============================] - 0s 8ms/step - loss: 2.0801 - accuracy: 0.2420\n",
      "32/32 [==============================] - 4s 116ms/step - loss: 1.1454 - accuracy: 0.7150\n",
      "\n",
      "eps value: 0.4\n",
      "\n",
      "\n",
      "Test accuracy on perturbed data targeted for Linear model\n",
      "32/32 [==============================] - 0s 2ms/step - loss: 4.2357e-04 - accuracy: 1.0000\n",
      "32/32 [==============================] - 0s 8ms/step - loss: 3.7933 - accuracy: 0.0610\n",
      "32/32 [==============================] - 4s 118ms/step - loss: 4.4127 - accuracy: 0.2070\n",
      "\n",
      "\n",
      "Test accuracy on perturbed data targeted for MLP model\n",
      "32/32 [==============================] - 0s 2ms/step - loss: 9.6277 - accuracy: 0.0000e+00\n",
      "32/32 [==============================] - 0s 8ms/step - loss: 0.3001 - accuracy: 0.8970\n",
      "32/32 [==============================] - 4s 120ms/step - loss: 5.0715 - accuracy: 0.1490\n",
      "\n",
      "\n",
      "Test accuracy on perturbed data targeted for CNN model\n",
      "32/32 [==============================] - 0s 2ms/step - loss: 2.8575 - accuracy: 0.1330\n",
      "32/32 [==============================] - 0s 8ms/step - loss: 2.3534 - accuracy: 0.1910\n",
      "32/32 [==============================] - 4s 114ms/step - loss: 1.5446 - accuracy: 0.6150\n",
      "\n",
      "eps value: 0.5\n",
      "\n",
      "\n",
      "Test accuracy on perturbed data targeted for Linear model\n",
      "32/32 [==============================] - 0s 2ms/step - loss: 2.1418e-04 - accuracy: 1.0000\n",
      "32/32 [==============================] - 0s 8ms/step - loss: 4.3160 - accuracy: 0.0510\n",
      "32/32 [==============================] - 4s 116ms/step - loss: 4.7839 - accuracy: 0.1740\n",
      "\n",
      "\n",
      "Test accuracy on perturbed data targeted for MLP model\n",
      "32/32 [==============================] - 0s 2ms/step - loss: 11.2718 - accuracy: 0.0000e+00\n",
      "32/32 [==============================] - 0s 8ms/step - loss: 0.3161 - accuracy: 0.8970\n",
      "32/32 [==============================] - 4s 115ms/step - loss: 5.2285 - accuracy: 0.1470\n",
      "\n",
      "\n",
      "Test accuracy on perturbed data targeted for CNN model\n",
      "32/32 [==============================] - 0s 2ms/step - loss: 3.2278 - accuracy: 0.0920\n",
      "32/32 [==============================] - 0s 9ms/step - loss: 2.6421 - accuracy: 0.1230\n",
      "32/32 [==============================] - 4s 119ms/step - loss: 1.9828 - accuracy: 0.5440\n",
      "\n",
      "eps value: 0.6\n",
      "\n",
      "\n",
      "Test accuracy on perturbed data targeted for Linear model\n",
      "32/32 [==============================] - 0s 1ms/step - loss: 1.7480e-04 - accuracy: 1.0000\n",
      "32/32 [==============================] - 0s 8ms/step - loss: 4.7677 - accuracy: 0.0470\n",
      "32/32 [==============================] - 4s 120ms/step - loss: 4.9798 - accuracy: 0.1570\n",
      "\n",
      "\n",
      "Test accuracy on perturbed data targeted for MLP model\n",
      "32/32 [==============================] - 0s 2ms/step - loss: 12.5719 - accuracy: 0.0000e+00\n",
      "32/32 [==============================] - 0s 8ms/step - loss: 0.3470 - accuracy: 0.8860\n",
      "32/32 [==============================] - 4s 120ms/step - loss: 5.3167 - accuracy: 0.1500\n",
      "\n",
      "\n",
      "Test accuracy on perturbed data targeted for CNN model\n",
      "32/32 [==============================] - 0s 2ms/step - loss: 3.5906 - accuracy: 0.0680\n",
      "32/32 [==============================] - 0s 8ms/step - loss: 2.9049 - accuracy: 0.0940\n",
      "32/32 [==============================] - 4s 129ms/step - loss: 2.4488 - accuracy: 0.4600\n",
      "\n",
      "eps value: 0.7\n",
      "\n",
      "\n",
      "Test accuracy on perturbed data targeted for Linear model\n",
      "32/32 [==============================] - 0s 2ms/step - loss: 1.7262e-04 - accuracy: 1.0000\n",
      "32/32 [==============================] - 0s 9ms/step - loss: 5.1185 - accuracy: 0.0420\n",
      "32/32 [==============================] - 4s 123ms/step - loss: 5.0266 - accuracy: 0.1670\n",
      "\n",
      "\n",
      "Test accuracy on perturbed data targeted for MLP model\n",
      "32/32 [==============================] - 0s 2ms/step - loss: 13.5075 - accuracy: 0.0000e+00\n",
      "32/32 [==============================] - 0s 8ms/step - loss: 0.3857 - accuracy: 0.8830\n",
      "32/32 [==============================] - 4s 118ms/step - loss: 5.3019 - accuracy: 0.1420\n",
      "\n",
      "\n",
      "Test accuracy on perturbed data targeted for CNN model\n",
      "32/32 [==============================] - 0s 2ms/step - loss: 3.9049 - accuracy: 0.0580\n",
      "32/32 [==============================] - 0s 8ms/step - loss: 3.1091 - accuracy: 0.0800\n",
      "32/32 [==============================] - 4s 116ms/step - loss: 2.8327 - accuracy: 0.3860\n",
      "\n",
      "eps value: 0.8\n",
      "\n",
      "\n",
      "Test accuracy on perturbed data targeted for Linear model\n",
      "32/32 [==============================] - 0s 2ms/step - loss: 1.6686e-04 - accuracy: 1.0000\n",
      "32/32 [==============================] - 0s 9ms/step - loss: 5.3564 - accuracy: 0.0360\n",
      "32/32 [==============================] - 4s 126ms/step - loss: 5.0449 - accuracy: 0.1780\n",
      "\n",
      "\n",
      "Test accuracy on perturbed data targeted for MLP model\n",
      "32/32 [==============================] - 0s 2ms/step - loss: 14.1031 - accuracy: 0.0010\n",
      "32/32 [==============================] - 0s 8ms/step - loss: 0.4167 - accuracy: 0.8780\n",
      "32/32 [==============================] - 4s 113ms/step - loss: 5.2759 - accuracy: 0.1550\n",
      "\n",
      "\n",
      "Test accuracy on perturbed data targeted for CNN model\n",
      "32/32 [==============================] - 0s 2ms/step - loss: 4.1413 - accuracy: 0.0460\n",
      "32/32 [==============================] - 0s 8ms/step - loss: 3.2410 - accuracy: 0.0670\n",
      "32/32 [==============================] - 4s 117ms/step - loss: 3.1016 - accuracy: 0.3550\n",
      "\n",
      "eps value: 0.9\n",
      "\n",
      "\n",
      "Test accuracy on perturbed data targeted for Linear model\n",
      "32/32 [==============================] - 0s 1ms/step - loss: 1.4071e-04 - accuracy: 1.0000\n",
      "32/32 [==============================] - 0s 8ms/step - loss: 5.4919 - accuracy: 0.0350\n"
     ]
    },
    {
     "name": "stdout",
     "output_type": "stream",
     "text": [
      "32/32 [==============================] - 4s 124ms/step - loss: 5.0376 - accuracy: 0.1850\n",
      "\n",
      "\n",
      "Test accuracy on perturbed data targeted for MLP model\n",
      "32/32 [==============================] - 0s 2ms/step - loss: 14.4009 - accuracy: 0.0010\n",
      "32/32 [==============================] - 0s 8ms/step - loss: 0.4328 - accuracy: 0.8730\n",
      "32/32 [==============================] - 4s 113ms/step - loss: 5.2519 - accuracy: 0.1500\n",
      "\n",
      "\n",
      "Test accuracy on perturbed data targeted for CNN model\n",
      "32/32 [==============================] - 0s 2ms/step - loss: 4.2755 - accuracy: 0.0430\n",
      "32/32 [==============================] - 0s 8ms/step - loss: 3.3075 - accuracy: 0.0560\n",
      "32/32 [==============================] - 4s 119ms/step - loss: 3.2418 - accuracy: 0.3390\n",
      "\n",
      "eps value: 1.0\n",
      "\n",
      "\n",
      "Test accuracy on perturbed data targeted for Linear model\n",
      "32/32 [==============================] - 0s 2ms/step - loss: 1.3834e-04 - accuracy: 1.0000\n",
      "32/32 [==============================] - 0s 10ms/step - loss: 5.5379 - accuracy: 0.0320\n",
      "32/32 [==============================] - 4s 127ms/step - loss: 5.0305 - accuracy: 0.1830\n",
      "\n",
      "\n",
      "Test accuracy on perturbed data targeted for MLP model\n",
      "32/32 [==============================] - 0s 2ms/step - loss: 14.4922 - accuracy: 0.0010\n",
      "32/32 [==============================] - 0s 9ms/step - loss: 0.4371 - accuracy: 0.8700\n",
      "32/32 [==============================] - 4s 115ms/step - loss: 5.2446 - accuracy: 0.1520\n",
      "\n",
      "\n",
      "Test accuracy on perturbed data targeted for CNN model\n",
      "32/32 [==============================] - 0s 2ms/step - loss: 4.3220 - accuracy: 0.0420\n",
      "32/32 [==============================] - 0s 8ms/step - loss: 3.3281 - accuracy: 0.0540\n",
      "32/32 [==============================] - 4s 118ms/step - loss: 3.2794 - accuracy: 0.3330\n",
      "\n"
     ]
    }
   ],
   "source": [
    "indexes = range(1000)\n",
    "for eps in np.arange(0.1,1.1,0.1):\n",
    "    \n",
    "  print(f'eps value: {np.round(eps,1)}')\n",
    "\n",
    "  np_array_filename = 'CIFAR10_FGSM_'+ str(len(indexes)) +'_adv_examples_eps_'+ str(round(eps,1)) + '.npz'\n",
    "  data = np.load(np_array_filename)\n",
    "\n",
    "  # access the arrays using their keys\n",
    "  X_test_FGSM_Linear = data['X_test_FGSM_Linear']\n",
    "  X_test_FGSM_MLP = data['X_test_FGSM_MLP']\n",
    "  X_test_FGSM_CNN = data['X_test_FGSM_CNN']\n",
    "\n",
    "  stored_results = []\n",
    "  print('\\n')\n",
    "  print('Test accuracy on perturbed data targeted for Linear model')\n",
    "  avg_l2_norm_Linear = np.mean(np.sqrt(np.sum((X_test_FGSM_Linear-X_test[:len(indexes)])**2, axis=(1,2,3))))\n",
    "  stored_results.append(avg_l2_norm_Linear)\n",
    "  _, accuracy = Linear_CIFAR10.evaluate(X_test_FGSM_Linear[indexes],y_test[indexes])\n",
    "  stored_results.append(accuracy)\n",
    "  _, accuracy = MLP_CIFAR10.evaluate(X_test_FGSM_Linear[indexes],y_test[indexes])\n",
    "  stored_results.append(accuracy)\n",
    "  _, accuracy = CNN_CIFAR10.evaluate(X_test_FGSM_Linear[indexes],y_test[indexes])\n",
    "  stored_results.append(accuracy)\n",
    "  print('\\n')\n",
    "  print('Test accuracy on perturbed data targeted for MLP model')\n",
    "  avg_l2_norm_MLP = np.mean(np.sqrt(np.sum((X_test_FGSM_MLP-X_test[:len(indexes)])**2, axis=(1,2,3))))\n",
    "  stored_results.append(avg_l2_norm_MLP)\n",
    "  _, accuracy = Linear_CIFAR10.evaluate(X_test_FGSM_MLP[indexes],y_test[indexes])\n",
    "  stored_results.append(accuracy)\n",
    "  _, accuracy = MLP_CIFAR10.evaluate(X_test_FGSM_MLP[indexes],y_test[indexes])\n",
    "  stored_results.append(accuracy)\n",
    "  _, accuracy = CNN_CIFAR10.evaluate(X_test_FGSM_MLP[indexes],y_test[indexes])\n",
    "  stored_results.append(accuracy)\n",
    "  print('\\n')\n",
    "  print('Test accuracy on perturbed data targeted for CNN model')\n",
    "  avg_l2_norm_CNN = np.mean(np.sqrt(np.sum((X_test_FGSM_CNN-X_test[:len(indexes)])**2, axis=(1,2,3))))\n",
    "  stored_results.append(avg_l2_norm_CNN)\n",
    "  _, accuracy = Linear_CIFAR10.evaluate(X_test_FGSM_CNN[indexes],y_test[indexes])\n",
    "  stored_results.append(accuracy)\n",
    "  _, accuracy = MLP_CIFAR10.evaluate(X_test_FGSM_CNN[indexes],y_test[indexes])\n",
    "  stored_results.append(accuracy)\n",
    "  _, accuracy = CNN_CIFAR10.evaluate(X_test_FGSM_CNN[indexes],y_test[indexes])\n",
    "  stored_results.append(accuracy)\n",
    "  print()\n",
    "\n",
    "  stored_results = np.array(stored_results)\n",
    "  stored_results = stored_results.reshape(-1,4)\n",
    "  df = pd.DataFrame(stored_results, columns = ['avg_l2_norm','Linear_CIFAR10_test_accuray',\\\n",
    "                                   'MLP_CIFAR10_test_accuray','CNN_CIFAR10_test_accuray'])\n",
    "\n",
    "  filename = 'Post training Adversarial_Attacks_CIFAR10_'+ str(len(indexes)) +' [FGSM Attack - eps '+ str(round(eps,1)) + '].csv'\n",
    "  df.to_csv(filename, index=False)"
   ]
  },
  {
   "cell_type": "markdown",
   "metadata": {
    "id": "Un_HkH6aqppD"
   },
   "source": [
    "# Compile the results into a dataframe"
   ]
  },
  {
   "cell_type": "code",
   "execution_count": 35,
   "metadata": {
    "id": "DpUMXMNWqppE"
   },
   "outputs": [],
   "source": [
    "target_models = []\n",
    "for i in range(10):\n",
    "    target_models.append('Linear')\n",
    "    target_models.append('MLP')    \n",
    "    target_models.append('CNN') \n",
    "target_models = np.array(target_models).reshape(-1,1)"
   ]
  },
  {
   "cell_type": "code",
   "execution_count": 36,
   "metadata": {
    "id": "MlVtvgrwqppG"
   },
   "outputs": [],
   "source": [
    "eps_values = []\n",
    "for eps in np.arange(0.1,1.1,0.1):\n",
    "    eps_values.append(eps)\n",
    "    eps_values.append(eps)    \n",
    "    eps_values.append(eps) \n",
    "eps_values = np.array(eps_values).reshape(-1,1)"
   ]
  },
  {
   "cell_type": "code",
   "execution_count": 37,
   "metadata": {
    "id": "9t8uy6vwqppH",
    "outputId": "579862ba-6410-49b7-d1a7-26bd8b30e403"
   },
   "outputs": [
    {
     "data": {
      "text/html": [
       "<div>\n",
       "<style scoped>\n",
       "    .dataframe tbody tr th:only-of-type {\n",
       "        vertical-align: middle;\n",
       "    }\n",
       "\n",
       "    .dataframe tbody tr th {\n",
       "        vertical-align: top;\n",
       "    }\n",
       "\n",
       "    .dataframe thead th {\n",
       "        text-align: right;\n",
       "    }\n",
       "</style>\n",
       "<table border=\"1\" class=\"dataframe\">\n",
       "  <thead>\n",
       "    <tr style=\"text-align: right;\">\n",
       "      <th></th>\n",
       "      <th>eps value</th>\n",
       "      <th>Target model</th>\n",
       "      <th>avg_l2_norm</th>\n",
       "      <th>Linear_CIFAR10_test_accuray</th>\n",
       "      <th>MLP_CIFAR10_test_accuray</th>\n",
       "      <th>CNN_CIFAR10_test_accuray</th>\n",
       "    </tr>\n",
       "  </thead>\n",
       "  <tbody>\n",
       "    <tr>\n",
       "      <th>0</th>\n",
       "      <td>0.1</td>\n",
       "      <td>Linear</td>\n",
       "      <td>5.428031</td>\n",
       "      <td>0.985</td>\n",
       "      <td>0.235</td>\n",
       "      <td>0.568</td>\n",
       "    </tr>\n",
       "    <tr>\n",
       "      <th>1</th>\n",
       "      <td>0.1</td>\n",
       "      <td>MLP</td>\n",
       "      <td>5.429167</td>\n",
       "      <td>0.027</td>\n",
       "      <td>0.839</td>\n",
       "      <td>0.498</td>\n",
       "    </tr>\n",
       "    <tr>\n",
       "      <th>2</th>\n",
       "      <td>0.1</td>\n",
       "      <td>CNN</td>\n",
       "      <td>5.428654</td>\n",
       "      <td>0.319</td>\n",
       "      <td>0.387</td>\n",
       "      <td>0.788</td>\n",
       "    </tr>\n",
       "    <tr>\n",
       "      <th>3</th>\n",
       "      <td>0.2</td>\n",
       "      <td>Linear</td>\n",
       "      <td>10.591667</td>\n",
       "      <td>0.999</td>\n",
       "      <td>0.135</td>\n",
       "      <td>0.364</td>\n",
       "    </tr>\n",
       "    <tr>\n",
       "      <th>4</th>\n",
       "      <td>0.2</td>\n",
       "      <td>MLP</td>\n",
       "      <td>10.595510</td>\n",
       "      <td>0.001</td>\n",
       "      <td>0.886</td>\n",
       "      <td>0.259</td>\n",
       "    </tr>\n",
       "    <tr>\n",
       "      <th>5</th>\n",
       "      <td>0.2</td>\n",
       "      <td>CNN</td>\n",
       "      <td>10.590528</td>\n",
       "      <td>0.245</td>\n",
       "      <td>0.320</td>\n",
       "      <td>0.780</td>\n",
       "    </tr>\n",
       "    <tr>\n",
       "      <th>6</th>\n",
       "      <td>0.3</td>\n",
       "      <td>Linear</td>\n",
       "      <td>15.359060</td>\n",
       "      <td>1.000</td>\n",
       "      <td>0.081</td>\n",
       "      <td>0.253</td>\n",
       "    </tr>\n",
       "    <tr>\n",
       "      <th>7</th>\n",
       "      <td>0.3</td>\n",
       "      <td>MLP</td>\n",
       "      <td>15.367175</td>\n",
       "      <td>0.000</td>\n",
       "      <td>0.898</td>\n",
       "      <td>0.182</td>\n",
       "    </tr>\n",
       "    <tr>\n",
       "      <th>8</th>\n",
       "      <td>0.3</td>\n",
       "      <td>CNN</td>\n",
       "      <td>15.351246</td>\n",
       "      <td>0.179</td>\n",
       "      <td>0.242</td>\n",
       "      <td>0.715</td>\n",
       "    </tr>\n",
       "    <tr>\n",
       "      <th>9</th>\n",
       "      <td>0.4</td>\n",
       "      <td>Linear</td>\n",
       "      <td>19.613840</td>\n",
       "      <td>1.000</td>\n",
       "      <td>0.061</td>\n",
       "      <td>0.207</td>\n",
       "    </tr>\n",
       "    <tr>\n",
       "      <th>10</th>\n",
       "      <td>0.4</td>\n",
       "      <td>MLP</td>\n",
       "      <td>19.629382</td>\n",
       "      <td>0.000</td>\n",
       "      <td>0.897</td>\n",
       "      <td>0.149</td>\n",
       "    </tr>\n",
       "    <tr>\n",
       "      <th>11</th>\n",
       "      <td>0.4</td>\n",
       "      <td>CNN</td>\n",
       "      <td>19.596286</td>\n",
       "      <td>0.133</td>\n",
       "      <td>0.191</td>\n",
       "      <td>0.615</td>\n",
       "    </tr>\n",
       "    <tr>\n",
       "      <th>12</th>\n",
       "      <td>0.5</td>\n",
       "      <td>Linear</td>\n",
       "      <td>23.261484</td>\n",
       "      <td>1.000</td>\n",
       "      <td>0.051</td>\n",
       "      <td>0.174</td>\n",
       "    </tr>\n",
       "    <tr>\n",
       "      <th>13</th>\n",
       "      <td>0.5</td>\n",
       "      <td>MLP</td>\n",
       "      <td>23.289474</td>\n",
       "      <td>0.000</td>\n",
       "      <td>0.897</td>\n",
       "      <td>0.147</td>\n",
       "    </tr>\n",
       "    <tr>\n",
       "      <th>14</th>\n",
       "      <td>0.5</td>\n",
       "      <td>CNN</td>\n",
       "      <td>23.233957</td>\n",
       "      <td>0.092</td>\n",
       "      <td>0.123</td>\n",
       "      <td>0.544</td>\n",
       "    </tr>\n",
       "    <tr>\n",
       "      <th>15</th>\n",
       "      <td>0.6</td>\n",
       "      <td>Linear</td>\n",
       "      <td>26.234756</td>\n",
       "      <td>1.000</td>\n",
       "      <td>0.047</td>\n",
       "      <td>0.157</td>\n",
       "    </tr>\n",
       "    <tr>\n",
       "      <th>16</th>\n",
       "      <td>0.6</td>\n",
       "      <td>MLP</td>\n",
       "      <td>26.275507</td>\n",
       "      <td>0.000</td>\n",
       "      <td>0.886</td>\n",
       "      <td>0.150</td>\n",
       "    </tr>\n",
       "    <tr>\n",
       "      <th>17</th>\n",
       "      <td>0.6</td>\n",
       "      <td>CNN</td>\n",
       "      <td>26.196722</td>\n",
       "      <td>0.068</td>\n",
       "      <td>0.094</td>\n",
       "      <td>0.460</td>\n",
       "    </tr>\n",
       "    <tr>\n",
       "      <th>18</th>\n",
       "      <td>0.7</td>\n",
       "      <td>Linear</td>\n",
       "      <td>28.474781</td>\n",
       "      <td>1.000</td>\n",
       "      <td>0.042</td>\n",
       "      <td>0.167</td>\n",
       "    </tr>\n",
       "    <tr>\n",
       "      <th>19</th>\n",
       "      <td>0.7</td>\n",
       "      <td>MLP</td>\n",
       "      <td>28.523747</td>\n",
       "      <td>0.000</td>\n",
       "      <td>0.883</td>\n",
       "      <td>0.142</td>\n",
       "    </tr>\n",
       "    <tr>\n",
       "      <th>20</th>\n",
       "      <td>0.7</td>\n",
       "      <td>CNN</td>\n",
       "      <td>28.425631</td>\n",
       "      <td>0.058</td>\n",
       "      <td>0.080</td>\n",
       "      <td>0.386</td>\n",
       "    </tr>\n",
       "    <tr>\n",
       "      <th>21</th>\n",
       "      <td>0.8</td>\n",
       "      <td>Linear</td>\n",
       "      <td>29.972163</td>\n",
       "      <td>1.000</td>\n",
       "      <td>0.036</td>\n",
       "      <td>0.178</td>\n",
       "    </tr>\n",
       "    <tr>\n",
       "      <th>22</th>\n",
       "      <td>0.8</td>\n",
       "      <td>MLP</td>\n",
       "      <td>30.026740</td>\n",
       "      <td>0.001</td>\n",
       "      <td>0.878</td>\n",
       "      <td>0.155</td>\n",
       "    </tr>\n",
       "    <tr>\n",
       "      <th>23</th>\n",
       "      <td>0.8</td>\n",
       "      <td>CNN</td>\n",
       "      <td>29.915366</td>\n",
       "      <td>0.046</td>\n",
       "      <td>0.067</td>\n",
       "      <td>0.355</td>\n",
       "    </tr>\n",
       "    <tr>\n",
       "      <th>24</th>\n",
       "      <td>0.9</td>\n",
       "      <td>Linear</td>\n",
       "      <td>30.787715</td>\n",
       "      <td>1.000</td>\n",
       "      <td>0.035</td>\n",
       "      <td>0.185</td>\n",
       "    </tr>\n",
       "    <tr>\n",
       "      <th>25</th>\n",
       "      <td>0.9</td>\n",
       "      <td>MLP</td>\n",
       "      <td>30.846784</td>\n",
       "      <td>0.001</td>\n",
       "      <td>0.873</td>\n",
       "      <td>0.150</td>\n",
       "    </tr>\n",
       "    <tr>\n",
       "      <th>26</th>\n",
       "      <td>0.9</td>\n",
       "      <td>CNN</td>\n",
       "      <td>30.730165</td>\n",
       "      <td>0.043</td>\n",
       "      <td>0.056</td>\n",
       "      <td>0.339</td>\n",
       "    </tr>\n",
       "    <tr>\n",
       "      <th>27</th>\n",
       "      <td>1.0</td>\n",
       "      <td>Linear</td>\n",
       "      <td>31.065790</td>\n",
       "      <td>1.000</td>\n",
       "      <td>0.032</td>\n",
       "      <td>0.183</td>\n",
       "    </tr>\n",
       "    <tr>\n",
       "      <th>28</th>\n",
       "      <td>1.0</td>\n",
       "      <td>MLP</td>\n",
       "      <td>31.127443</td>\n",
       "      <td>0.001</td>\n",
       "      <td>0.870</td>\n",
       "      <td>0.152</td>\n",
       "    </tr>\n",
       "    <tr>\n",
       "      <th>29</th>\n",
       "      <td>1.0</td>\n",
       "      <td>CNN</td>\n",
       "      <td>31.010497</td>\n",
       "      <td>0.042</td>\n",
       "      <td>0.054</td>\n",
       "      <td>0.333</td>\n",
       "    </tr>\n",
       "  </tbody>\n",
       "</table>\n",
       "</div>"
      ],
      "text/plain": [
       "    eps value Target model  avg_l2_norm  Linear_CIFAR10_test_accuray  \\\n",
       "0         0.1       Linear     5.428031                        0.985   \n",
       "1         0.1          MLP     5.429167                        0.027   \n",
       "2         0.1          CNN     5.428654                        0.319   \n",
       "3         0.2       Linear    10.591667                        0.999   \n",
       "4         0.2          MLP    10.595510                        0.001   \n",
       "5         0.2          CNN    10.590528                        0.245   \n",
       "6         0.3       Linear    15.359060                        1.000   \n",
       "7         0.3          MLP    15.367175                        0.000   \n",
       "8         0.3          CNN    15.351246                        0.179   \n",
       "9         0.4       Linear    19.613840                        1.000   \n",
       "10        0.4          MLP    19.629382                        0.000   \n",
       "11        0.4          CNN    19.596286                        0.133   \n",
       "12        0.5       Linear    23.261484                        1.000   \n",
       "13        0.5          MLP    23.289474                        0.000   \n",
       "14        0.5          CNN    23.233957                        0.092   \n",
       "15        0.6       Linear    26.234756                        1.000   \n",
       "16        0.6          MLP    26.275507                        0.000   \n",
       "17        0.6          CNN    26.196722                        0.068   \n",
       "18        0.7       Linear    28.474781                        1.000   \n",
       "19        0.7          MLP    28.523747                        0.000   \n",
       "20        0.7          CNN    28.425631                        0.058   \n",
       "21        0.8       Linear    29.972163                        1.000   \n",
       "22        0.8          MLP    30.026740                        0.001   \n",
       "23        0.8          CNN    29.915366                        0.046   \n",
       "24        0.9       Linear    30.787715                        1.000   \n",
       "25        0.9          MLP    30.846784                        0.001   \n",
       "26        0.9          CNN    30.730165                        0.043   \n",
       "27        1.0       Linear    31.065790                        1.000   \n",
       "28        1.0          MLP    31.127443                        0.001   \n",
       "29        1.0          CNN    31.010497                        0.042   \n",
       "\n",
       "    MLP_CIFAR10_test_accuray  CNN_CIFAR10_test_accuray  \n",
       "0                      0.235                     0.568  \n",
       "1                      0.839                     0.498  \n",
       "2                      0.387                     0.788  \n",
       "3                      0.135                     0.364  \n",
       "4                      0.886                     0.259  \n",
       "5                      0.320                     0.780  \n",
       "6                      0.081                     0.253  \n",
       "7                      0.898                     0.182  \n",
       "8                      0.242                     0.715  \n",
       "9                      0.061                     0.207  \n",
       "10                     0.897                     0.149  \n",
       "11                     0.191                     0.615  \n",
       "12                     0.051                     0.174  \n",
       "13                     0.897                     0.147  \n",
       "14                     0.123                     0.544  \n",
       "15                     0.047                     0.157  \n",
       "16                     0.886                     0.150  \n",
       "17                     0.094                     0.460  \n",
       "18                     0.042                     0.167  \n",
       "19                     0.883                     0.142  \n",
       "20                     0.080                     0.386  \n",
       "21                     0.036                     0.178  \n",
       "22                     0.878                     0.155  \n",
       "23                     0.067                     0.355  \n",
       "24                     0.035                     0.185  \n",
       "25                     0.873                     0.150  \n",
       "26                     0.056                     0.339  \n",
       "27                     0.032                     0.183  \n",
       "28                     0.870                     0.152  \n",
       "29                     0.054                     0.333  "
      ]
     },
     "execution_count": 37,
     "metadata": {},
     "output_type": "execute_result"
    }
   ],
   "source": [
    "df_all = pd.DataFrame()\n",
    "for eps in np.arange(0.1,1.1,0.1):\n",
    "    filename = 'Post training Adversarial_Attacks_CIFAR10_'+ str(len(indexes)) +' [FGSM Attack - eps '+ str(round(eps,1)) + '].csv'\n",
    "    df = pd.read_csv(filename)\n",
    "    df_all = pd.concat([df_all, df], ignore_index=True)\n",
    "df_all['Target model'] = target_models\n",
    "df_all['eps value'] = eps_values\n",
    "df_all = df_all[['eps value', 'Target model', 'avg_l2_norm', 'Linear_CIFAR10_test_accuray', 'MLP_CIFAR10_test_accuray',\n",
    "       'CNN_CIFAR10_test_accuray']]\n",
    "df_all.to_csv('Post training Adversarial_Attacks_CIFAR10 [FGSM Attack].csv', index=False)\n",
    "df_all"
   ]
  },
  {
   "cell_type": "markdown",
   "metadata": {
    "id": "mJo_YW3tqppJ"
   },
   "source": [
    "# Prepare the plots"
   ]
  },
  {
   "cell_type": "code",
   "execution_count": 13,
   "metadata": {
    "id": "Msurttznbdqv",
    "outputId": "aed9800c-1d02-478d-c99d-4616b364b265"
   },
   "outputs": [
    {
     "name": "stdout",
     "output_type": "stream",
     "text": [
      "Test accuracy on unperturbed data\n",
      "32/32 [==============================] - 0s 1ms/step - loss: 1.7600 - accuracy: 0.3980\n",
      "32/32 [==============================] - 0s 7ms/step - loss: 1.5407 - accuracy: 0.4430\n",
      "32/32 [==============================] - 4s 121ms/step - loss: 0.5391 - accuracy: 0.8510\n",
      "Test accuracy on unperturbed data\n",
      "32/32 [==============================] - 0s 2ms/step - loss: 1.7600 - accuracy: 0.3980\n",
      "32/32 [==============================] - 0s 8ms/step - loss: 1.5407 - accuracy: 0.4430\n",
      "32/32 [==============================] - 4s 116ms/step - loss: 0.5391 - accuracy: 0.8510\n"
     ]
    },
    {
     "data": {
      "image/png": "[encoded data removed]",
      "text/plain": [
       "<Figure size 432x288 with 1 Axes>"
      ]
     },
     "metadata": {
      "needs_background": "light"
     },
     "output_type": "display_data"
    }
   ],
   "source": [
    "df_all = pd.read_csv('Post training Adversarial_Attacks_CIFAR10 [FGSM Attack].csv')\n",
    "df_Linear = df_all[df_all['Target model']=='Linear']\n",
    "df_Linear = df_Linear.shift(1)\n",
    "print('Test accuracy on unperturbed data')\n",
    "_, accurcy_Linear = Linear_CIFAR10.evaluate(X_test[indexes],y_test[indexes]);\n",
    "_, accurcy_MLP = MLP_CIFAR10.evaluate(X_test[indexes],y_test[indexes]);\n",
    "_, accurcy_CNN = CNN_CIFAR10.evaluate(X_test[indexes],y_test[indexes]);\n",
    "df_Linear.iloc[0] = [0, '-', 0, accurcy_Linear, accurcy_MLP, accurcy_CNN]\n",
    "df_Linear\n",
    "plt.plot(df_Linear['eps value'],df_Linear['Linear_CIFAR10_test_accuray'],'o-')\n",
    "plt.plot(df_Linear['eps value'],df_Linear['MLP_CIFAR10_test_accuray'],'o-')\n",
    "plt.plot(df_Linear['eps value'],df_Linear['CNN_CIFAR10_test_accuray'],'o-')\n",
    "\n",
    "df_all = pd.read_csv('Adversarial_Attacks_CIFAR10 [FGSM Attack].csv')\n",
    "df_Linear = df_all[df_all['Target model']=='Linear']\n",
    "df_Linear = df_Linear.shift(1)\n",
    "print('Test accuracy on unperturbed data')\n",
    "_, accurcy_Linear = Linear_CIFAR10.evaluate(X_test[indexes],y_test[indexes]);\n",
    "_, accurcy_MLP = MLP_CIFAR10.evaluate(X_test[indexes],y_test[indexes]);\n",
    "_, accurcy_CNN = CNN_CIFAR10.evaluate(X_test[indexes],y_test[indexes]);\n",
    "df_Linear.iloc[0] = [0, '-', 0, accurcy_Linear, accurcy_MLP, accurcy_CNN]\n",
    "df_Linear\n",
    "plt.plot(df_Linear['eps value'],df_Linear['Linear_CIFAR10_test_accuray'],'o--', color = 'C0')\n",
    "plt.plot(df_Linear['eps value'],df_Linear['MLP_CIFAR10_test_accuray'],'o--', color = 'C1')\n",
    "plt.plot(df_Linear['eps value'],df_Linear['CNN_CIFAR10_test_accuray'],'o--', color = 'C2')\n",
    "\n",
    "plt.xlabel('$\\epsilon$ value')\n",
    "plt.ylabel('Test accuracy')\n",
    "plt.ylim([-0.1, 1.1])\n",
    "# plt.legend(['Linear (after AT)', 'Linear (before AT)'])\n",
    "plt.legend(['Linear (after AT)', 'MLP (after AT)','CNN (after AT)', \\\n",
    "            'Linear (before AT)', 'MLP (before AT)','CNN (before AT)'])\n",
    "plt.title('Effect of FGSM attack on CIFAR10\\nbefore and after adversarial training (AT)\\nTarget model: Linear')\n",
    "plt.savefig('Post training Effect of FGSM attack on CIFAR10 for Linear model [eps]', dpi=600)\n",
    "plt.show()"
   ]
  },
  {
   "cell_type": "code",
   "execution_count": 21,
   "metadata": {
    "id": "Y1vsLgflbdqw",
    "outputId": "8868ea33-59a0-44c3-dd71-c2af2e200a01"
   },
   "outputs": [
    {
     "name": "stdout",
     "output_type": "stream",
     "text": [
      "Test accuracy on unperturbed data\n",
      "32/32 [==============================] - 0s 2ms/step - loss: 1.7600 - accuracy: 0.3980\n",
      "32/32 [==============================] - 0s 9ms/step - loss: 1.5407 - accuracy: 0.4430\n",
      "32/32 [==============================] - 4s 132ms/step - loss: 0.5391 - accuracy: 0.8510\n",
      "Test accuracy on unperturbed data\n",
      "32/32 [==============================] - 0s 2ms/step - loss: 1.7600 - accuracy: 0.3980\n",
      "32/32 [==============================] - 0s 8ms/step - loss: 1.5407 - accuracy: 0.4430\n",
      "32/32 [==============================] - 4s 115ms/step - loss: 0.5391 - accuracy: 0.8510\n"
     ]
    },
    {
     "data": {
      "image/png": "[encoded data removed]",
      "text/plain": [
       "<Figure size 432x288 with 1 Axes>"
      ]
     },
     "metadata": {
      "needs_background": "light"
     },
     "output_type": "display_data"
    }
   ],
   "source": [
    "df_all = pd.read_csv('Post training Adversarial_Attacks_CIFAR10 [FGSM Attack].csv')\n",
    "df_Linear = df_all[df_all['Target model']=='Linear']\n",
    "df_Linear = df_Linear.shift(1)\n",
    "print('Test accuracy on unperturbed data')\n",
    "_, accurcy_Linear = Linear_CIFAR10.evaluate(X_test[indexes],y_test[indexes]);\n",
    "_, accurcy_MLP = MLP_CIFAR10.evaluate(X_test[indexes],y_test[indexes]);\n",
    "_, accurcy_CNN = CNN_CIFAR10.evaluate(X_test[indexes],y_test[indexes]);\n",
    "df_Linear.iloc[0] = ['-', '-', 0, accurcy_Linear, accurcy_MLP, accurcy_CNN]\n",
    "df_Linear\n",
    "# plt.plot(df_Linear['avg_l2_norm'],df_Linear['Linear_CIFAR10_test_accuray'],'o-')\n",
    "# plt.plot(df_Linear['avg_l2_norm'],df_Linear['MLP_CIFAR10_test_accuray'],'o-')\n",
    "# plt.plot(df_Linear['avg_l2_norm'],df_Linear['CNN_CIFAR10_test_accuray'],'o-')\n",
    "plt.plot(df_Linear['avg_l2_norm'],df_Linear['Linear_CIFAR10_test_accuray'],'o-', color = 'C0')\n",
    "\n",
    "df_all = pd.read_csv('Adversarial_Attacks_CIFAR10 [FGSM Attack].csv')\n",
    "df_Linear = df_all[df_all['Target model']=='Linear']\n",
    "df_Linear = df_Linear.shift(1)\n",
    "print('Test accuracy on unperturbed data')\n",
    "_, accurcy_Linear = Linear_CIFAR10.evaluate(X_test[indexes],y_test[indexes]);\n",
    "_, accurcy_MLP = MLP_CIFAR10.evaluate(X_test[indexes],y_test[indexes]);\n",
    "_, accurcy_CNN = CNN_CIFAR10.evaluate(X_test[indexes],y_test[indexes]);\n",
    "df_Linear.iloc[0] = ['-', '-', 0, accurcy_Linear, accurcy_MLP, accurcy_CNN]\n",
    "df_Linear\n",
    "plt.plot(df_Linear['avg_l2_norm'],df_Linear['Linear_CIFAR10_test_accuray'],'o--', color = 'C0')\n",
    "# plt.plot(df_Linear['avg_l2_norm'],df_Linear['MLP_CIFAR10_test_accuray'],'o--', color = 'C1')\n",
    "# plt.plot(df_Linear['avg_l2_norm'],df_Linear['CNN_CIFAR10_test_accuray'],'o--', color = 'C2')\n",
    "\n",
    "plt.xlabel('Average $l_2$ norm of the perturbation')\n",
    "plt.ylabel('Test accuracy')\n",
    "plt.ylim([-0.1, 1.1])\n",
    "plt.legend(['Linear (after AT)', 'Linear (before AT)'])\n",
    "# plt.legend(['Linear (after AT)', 'MLP (after AT)','CNN (after AT)', \\\n",
    "#             'Linear (before AT)', 'MLP (before AT)','CNN (before AT)'])\n",
    "plt.title('Effect of FGSM attack on CIFAR10\\nbefore and after adversarial training (AT)') #\\nTarget model: Linear')\n",
    "plt.savefig('Post training Effect of FGSM attack on CIFAR10 for Linear model [l2 norm]_1', dpi=600)\n",
    "plt.show()"
   ]
  },
  {
   "cell_type": "code",
   "execution_count": null,
   "metadata": {
    "id": "Jhi01CTMbdqx",
    "outputId": "5bf8468d-6a0c-4062-bb19-86ff52b49098"
   },
   "outputs": [],
   "source": [
    "df_all = pd.read_csv('Post training Adversarial_Attacks_CIFAR10 [FGSM Attack].csv')\n",
    "df_MLP = df_all[df_all['Target model']=='MLP']\n",
    "df_MLP = df_MLP.shift(1)\n",
    "print('Test accuracy on unperturbed data')\n",
    "_, accurcy_Linear = Linear_CIFAR10.evaluate(X_test[indexes],y_test[indexes]);\n",
    "_, accurcy_MLP = MLP_CIFAR10.evaluate(X_test[indexes],y_test[indexes]);\n",
    "_, accurcy_CNN = CNN_CIFAR10.evaluate(X_test[indexes],y_test[indexes]);\n",
    "df_MLP.iloc[0] = [0, '-', 0, accurcy_Linear, accurcy_MLP, accurcy_CNN]\n",
    "df_MLP\n",
    "plt.plot(df_MLP['eps value'],df_MLP['Linear_CIFAR10_test_accuray'],'o-')\n",
    "plt.plot(df_MLP['eps value'],df_MLP['MLP_CIFAR10_test_accuray'],'o-')\n",
    "plt.plot(df_MLP['eps value'],df_MLP['CNN_CIFAR10_test_accuray'],'o-')\n",
    "\n",
    "df_all = pd.read_csv('Adversarial_Attacks_CIFAR10 [FGSM Attack].csv')\n",
    "df_MLP = df_all[df_all['Target model']=='MLP']\n",
    "df_MLP = df_MLP.shift(1)\n",
    "print('Test accuracy on unperturbed data')\n",
    "_, accurcy_Linear = Linear_CIFAR10.evaluate(X_test[indexes],y_test[indexes]);\n",
    "_, accurcy_MLP = MLP_CIFAR10.evaluate(X_test[indexes],y_test[indexes]);\n",
    "_, accurcy_CNN = CNN_CIFAR10.evaluate(X_test[indexes],y_test[indexes]);\n",
    "df_MLP.iloc[0] = [0, '-', 0, accurcy_Linear, accurcy_MLP, accurcy_CNN]\n",
    "df_MLP\n",
    "plt.plot(df_MLP['eps value'],df_MLP['Linear_CIFAR10_test_accuray'],'o--', color = 'C0')\n",
    "plt.plot(df_MLP['eps value'],df_MLP['MLP_CIFAR10_test_accuray'],'o--', color = 'C1')\n",
    "plt.plot(df_MLP['eps value'],df_MLP['CNN_CIFAR10_test_accuray'],'o--', color = 'C2')\n",
    "\n",
    "plt.xlabel('$\\epsilon$ value')\n",
    "plt.ylabel('Test accuracy')\n",
    "plt.ylim([-0.1, 1.1])\n",
    "# plt.legend(['MLP (after AT)', 'MLP (before AT)'])\n",
    "plt.legend(['Linear (after AT)', 'MLP (after AT)','CNN (after AT)', \\\n",
    "            'Linear (before AT)', 'MLP (before AT)','CNN (before AT)'])\n",
    "plt.title('Effect of FGSM attack on CIFAR10\\nbefore and after adversarial training (AT)\\nTarget model: MLP')\n",
    "plt.savefig('Post training Effect of FGSM attack on CIFAR10 for MLP model [eps]', dpi=600)\n",
    "plt.show()"
   ]
  },
  {
   "cell_type": "code",
   "execution_count": 20,
   "metadata": {
    "id": "2MEsJ1GVqppK",
    "outputId": "4381a237-6cee-4417-8fd4-dae6e235da80"
   },
   "outputs": [
    {
     "name": "stdout",
     "output_type": "stream",
     "text": [
      "Test accuracy on unperturbed data\n",
      "32/32 [==============================] - 0s 1ms/step - loss: 1.7600 - accuracy: 0.3980\n",
      "32/32 [==============================] - 0s 7ms/step - loss: 1.5407 - accuracy: 0.4430\n",
      "32/32 [==============================] - 4s 129ms/step - loss: 0.5391 - accuracy: 0.8510\n",
      "Test accuracy on unperturbed data\n",
      "32/32 [==============================] - 0s 2ms/step - loss: 1.7600 - accuracy: 0.3980\n",
      "32/32 [==============================] - 0s 9ms/step - loss: 1.5407 - accuracy: 0.4430\n",
      "32/32 [==============================] - 4s 124ms/step - loss: 0.5391 - accuracy: 0.8510\n"
     ]
    },
    {
     "data": {
      "image/png": "[encoded data removed]",
      "text/plain": [
       "<Figure size 432x288 with 1 Axes>"
      ]
     },
     "metadata": {
      "needs_background": "light"
     },
     "output_type": "display_data"
    }
   ],
   "source": [
    "df_all = pd.read_csv('Post training Adversarial_Attacks_CIFAR10 [FGSM Attack].csv')\n",
    "df_MLP = df_all[df_all['Target model']=='MLP']\n",
    "df_MLP = df_MLP.shift(1)\n",
    "print('Test accuracy on unperturbed data')\n",
    "_, accurcy_Linear = Linear_CIFAR10.evaluate(X_test[indexes],y_test[indexes]);\n",
    "_, accurcy_MLP = MLP_CIFAR10.evaluate(X_test[indexes],y_test[indexes]);\n",
    "_, accurcy_CNN = CNN_CIFAR10.evaluate(X_test[indexes],y_test[indexes]);\n",
    "df_MLP.iloc[0] = ['-', '-', 0, accurcy_Linear, accurcy_MLP, accurcy_CNN]\n",
    "df_MLP\n",
    "# plt.plot(df_MLP['avg_l2_norm'],df_MLP['Linear_CIFAR10_test_accuray'],'o-')\n",
    "# plt.plot(df_MLP['avg_l2_norm'],df_MLP['MLP_CIFAR10_test_accuray'],'o-')\n",
    "# plt.plot(df_MLP['avg_l2_norm'],df_MLP['CNN_CIFAR10_test_accuray'],'o-')\n",
    "plt.plot(df_MLP['avg_l2_norm'],df_MLP['MLP_CIFAR10_test_accuray'],'o-', color = 'C1')\n",
    "\n",
    "df_all = pd.read_csv('Adversarial_Attacks_CIFAR10 [FGSM Attack].csv')\n",
    "df_MLP = df_all[df_all['Target model']=='MLP']\n",
    "df_MLP = df_MLP.shift(1)\n",
    "print('Test accuracy on unperturbed data')\n",
    "_, accurcy_Linear = Linear_CIFAR10.evaluate(X_test[indexes],y_test[indexes]);\n",
    "_, accurcy_MLP = MLP_CIFAR10.evaluate(X_test[indexes],y_test[indexes]);\n",
    "_, accurcy_CNN = CNN_CIFAR10.evaluate(X_test[indexes],y_test[indexes]);\n",
    "df_MLP.iloc[0] = ['-', '-', 0, accurcy_Linear, accurcy_MLP, accurcy_CNN]\n",
    "df_MLP\n",
    "# plt.plot(df_MLP['avg_l2_norm'],df_MLP['Linear_CIFAR10_test_accuray'],'o--', color = 'C0')\n",
    "plt.plot(df_MLP['avg_l2_norm'],df_MLP['MLP_CIFAR10_test_accuray'],'o--', color = 'C1')\n",
    "# plt.plot(df_MLP['avg_l2_norm'],df_MLP['CNN_CIFAR10_test_accuray'],'o--', color = 'C2')\n",
    "\n",
    "plt.xlabel('Average $l_2$ norm of the perturbation')\n",
    "plt.ylabel('Test accuracy')\n",
    "plt.ylim([-0.1, 1.1])\n",
    "plt.legend(['MLP (after AT)', 'MLP (before AT)'])\n",
    "# plt.legend(['Linear (after AT)', 'MLP (after AT)','CNN (after AT)', \\\n",
    "#             'Linear (before AT)', 'MLP (before AT)','CNN (before AT)'])\n",
    "plt.title('Effect of FGSM attack on CIFAR10\\nbefore and after adversarial training (AT)') #\\nTarget model: MLP')\n",
    "plt.savefig('Post training Effect of FGSM attack on CIFAR10 for MLP model [l2 norm]_1', dpi=600)\n",
    "plt.show()"
   ]
  },
  {
   "cell_type": "code",
   "execution_count": null,
   "metadata": {
    "id": "tQZXPIwlbdqy",
    "outputId": "5a36c4db-3f62-4a07-cf76-a19c26e8121d"
   },
   "outputs": [],
   "source": [
    "df_all = pd.read_csv('Post training Adversarial_Attacks_CIFAR10 [FGSM Attack].csv')\n",
    "df_CNN = df_all[df_all['Target model']=='CNN']\n",
    "df_CNN = df_CNN.shift(1)\n",
    "print('Test accuracy on unperturbed data')\n",
    "_, accurcy_Linear = Linear_CIFAR10.evaluate(X_test[indexes],y_test[indexes]);\n",
    "_, accurcy_MLP = MLP_CIFAR10.evaluate(X_test[indexes],y_test[indexes]);\n",
    "_, accurcy_CNN = CNN_CIFAR10.evaluate(X_test[indexes],y_test[indexes]);\n",
    "df_CNN.iloc[0] = [0, '-', 0, accurcy_Linear, accurcy_MLP, accurcy_CNN]\n",
    "df_CNN\n",
    "plt.plot(df_CNN['eps value'],df_CNN['Linear_CIFAR10_test_accuray'],'o-')\n",
    "plt.plot(df_CNN['eps value'],df_CNN['MLP_CIFAR10_test_accuray'],'o-')\n",
    "plt.plot(df_CNN['eps value'],df_CNN['CNN_CIFAR10_test_accuray'],'o-')\n",
    "\n",
    "df_all = pd.read_csv('Adversarial_Attacks_CIFAR10 [FGSM Attack].csv')\n",
    "df_CNN = df_all[df_all['Target model']=='CNN']\n",
    "df_CNN = df_CNN.shift(1)\n",
    "print('Test accuracy on unperturbed data')\n",
    "_, accurcy_Linear = Linear_CIFAR10.evaluate(X_test[indexes],y_test[indexes]);\n",
    "_, accurcy_MLP = MLP_CIFAR10.evaluate(X_test[indexes],y_test[indexes]);\n",
    "_, accurcy_CNN = CNN_CIFAR10.evaluate(X_test[indexes],y_test[indexes]);\n",
    "df_CNN.iloc[0] = [0, '-', 0, accurcy_Linear, accurcy_MLP, accurcy_CNN]\n",
    "df_CNN\n",
    "plt.plot(df_CNN['eps value'],df_CNN['Linear_CIFAR10_test_accuray'],'o--', color = 'C0')\n",
    "plt.plot(df_CNN['eps value'],df_CNN['MLP_CIFAR10_test_accuray'],'o--', color = 'C1')\n",
    "plt.plot(df_CNN['eps value'],df_CNN['CNN_CIFAR10_test_accuray'],'o--', color = 'C2')\n",
    "\n",
    "plt.xlabel('$\\epsilon$ value')\n",
    "plt.ylabel('Test accuracy')\n",
    "plt.ylim([-0.1, 1.1])\n",
    "# plt.legend(['CNN (after AT)', 'CNN (before AT)'])\n",
    "plt.legend(['Linear (after AT)', 'MLP (after AT)','CNN (after AT)', \\\n",
    "            'Linear (before AT)', 'MLP (before AT)','CNN (before AT)'])\n",
    "plt.title('Effect of FGSM attack on CIFAR10\\nbefore and after adversarial training (AT)\\nTarget model: CNN')\n",
    "plt.savefig('Post training Effect of FGSM attack on CIFAR10 for CNN model [eps]', dpi=600)\n",
    "plt.show()"
   ]
  },
  {
   "cell_type": "code",
   "execution_count": 19,
   "metadata": {
    "id": "oXwgXM_PqppM",
    "outputId": "414d663e-c907-494d-c046-c57e569ec4e5"
   },
   "outputs": [
    {
     "name": "stdout",
     "output_type": "stream",
     "text": [
      "Test accuracy on unperturbed data\n",
      "32/32 [==============================] - 0s 1ms/step - loss: 1.7600 - accuracy: 0.3980\n",
      "32/32 [==============================] - 0s 7ms/step - loss: 1.5407 - accuracy: 0.4430\n",
      "32/32 [==============================] - 4s 114ms/step - loss: 0.5391 - accuracy: 0.8510\n",
      "Test accuracy on unperturbed data\n",
      "32/32 [==============================] - 0s 2ms/step - loss: 1.7600 - accuracy: 0.3980\n",
      "32/32 [==============================] - 0s 8ms/step - loss: 1.5407 - accuracy: 0.4430\n",
      "32/32 [==============================] - 4s 115ms/step - loss: 0.5391 - accuracy: 0.8510\n"
     ]
    },
    {
     "data": {
      "image/png": "[encoded data removed]",
      "text/plain": [
       "<Figure size 432x288 with 1 Axes>"
      ]
     },
     "metadata": {
      "needs_background": "light"
     },
     "output_type": "display_data"
    }
   ],
   "source": [
    "df_all = pd.read_csv('Post training Adversarial_Attacks_CIFAR10 [FGSM Attack].csv')\n",
    "df_CNN = df_all[df_all['Target model']=='CNN']\n",
    "df_CNN = df_CNN.shift(1)\n",
    "print('Test accuracy on unperturbed data')\n",
    "_, accurcy_Linear = Linear_CIFAR10.evaluate(X_test[indexes],y_test[indexes]);\n",
    "_, accurcy_MLP = MLP_CIFAR10.evaluate(X_test[indexes],y_test[indexes]);\n",
    "_, accurcy_CNN = CNN_CIFAR10.evaluate(X_test[indexes],y_test[indexes]);\n",
    "df_CNN.iloc[0] = ['-', '-', 0, accurcy_Linear, accurcy_MLP, accurcy_CNN]\n",
    "df_CNN\n",
    "# plt.plot(df_CNN['avg_l2_norm'],df_CNN['Linear_CIFAR10_test_accuray'],'o-')\n",
    "# plt.plot(df_CNN['avg_l2_norm'],df_CNN['MLP_CIFAR10_test_accuray'],'o-')\n",
    "# plt.plot(df_CNN['avg_l2_norm'],df_CNN['CNN_CIFAR10_test_accuray'],'o-')\n",
    "plt.plot(df_CNN['avg_l2_norm'],df_CNN['CNN_CIFAR10_test_accuray'],'o-', color = 'C2')\n",
    "\n",
    "df_all = pd.read_csv('Adversarial_Attacks_CIFAR10 [FGSM Attack].csv')\n",
    "df_CNN = df_all[df_all['Target model']=='CNN']\n",
    "df_CNN = df_CNN.shift(1)\n",
    "print('Test accuracy on unperturbed data')\n",
    "_, accurcy_Linear = Linear_CIFAR10.evaluate(X_test[indexes],y_test[indexes]);\n",
    "_, accurcy_MLP = MLP_CIFAR10.evaluate(X_test[indexes],y_test[indexes]);\n",
    "_, accurcy_CNN = CNN_CIFAR10.evaluate(X_test[indexes],y_test[indexes]);\n",
    "df_CNN.iloc[0] = ['-', '-', 0, accurcy_Linear, accurcy_MLP, accurcy_CNN]\n",
    "df_CNN\n",
    "# plt.plot(df_CNN['avg_l2_norm'],df_CNN['Linear_CIFAR10_test_accuray'],'o--', color = 'C0')\n",
    "# plt.plot(df_CNN['avg_l2_norm'],df_CNN['MLP_CIFAR10_test_accuray'],'o--', color = 'C1')\n",
    "plt.plot(df_CNN['avg_l2_norm'],df_CNN['CNN_CIFAR10_test_accuray'],'o--', color = 'C2')\n",
    "\n",
    "plt.xlabel('Average $l_2$ norm of the perturbation')\n",
    "plt.ylabel('Test accuracy')\n",
    "plt.ylim([-0.1, 1.1])\n",
    "plt.legend(['CNN (after AT)', 'CNN (before AT)'])\n",
    "# plt.legend(['Linear (after AT)', 'MLP (after AT)','CNN (after AT)', \\\n",
    "#             'Linear (before AT)', 'MLP (before AT)','CNN (before AT)'])\n",
    "plt.title('Effect of FGSM attack on CIFAR10\\nbefore and after adversarial training (AT)') #\\nTarget model: CNN')\n",
    "plt.savefig('Post training Effect of FGSM attack on CIFAR10 for CNN model [l2 norm]_1', dpi=600)\n",
    "plt.show()"
   ]
  },
  {
   "cell_type": "markdown",
   "metadata": {},
   "source": [
    "# 100% accuracy on CIFAR10!!!"
   ]
  },
  {
   "cell_type": "code",
   "execution_count": 52,
   "metadata": {},
   "outputs": [
    {
     "data": {
      "text/plain": [
       "((50000, 32, 32, 3), (50000,), (10000, 32, 32, 3), (10000,))"
      ]
     },
     "execution_count": 52,
     "metadata": {},
     "output_type": "execute_result"
    }
   ],
   "source": [
    "(X_train, y_train), (X_test,y_test) = keras.datasets.cifar10.load_data()\n",
    "y_train = y_train.reshape(-1,)\n",
    "y_test = y_test.reshape(-1,)\n",
    "X_test = X_test/255.\n",
    "X_train = X_train/255.\n",
    "X_train.shape, y_train.shape, X_test.shape, y_test.shape"
   ]
  },
  {
   "cell_type": "code",
   "execution_count": 54,
   "metadata": {
    "scrolled": false
   },
   "outputs": [
    {
     "name": "stdout",
     "output_type": "stream",
     "text": [
      "313/313 [==============================] - 1s 2ms/step - loss: 6.0166e-05 - accuracy: 1.0000\n"
     ]
    },
    {
     "data": {
      "text/plain": [
       "[6.0166210460010916e-05, 1.0]"
      ]
     },
     "execution_count": 54,
     "metadata": {},
     "output_type": "execute_result"
    }
   ],
   "source": [
    "Linear_CIFAR10 = load_model('Linear_CIFAR10.h5')\n",
    "parameter = 1.0\n",
    "X_test_tuned = fgsm_attack(Linear_CIFAR10,X_test,y_test,parameter)\n",
    "\n",
    "Linear_CIFAR10_adversarial_trained = load_model('Linear_CIFAR10_FGSM_trained.h5')\n",
    "Linear_CIFAR10_adversarial_trained.evaluate(X_test_tuned,y_test)"
   ]
  },
  {
   "cell_type": "code",
   "execution_count": 55,
   "metadata": {},
   "outputs": [
    {
     "name": "stdout",
     "output_type": "stream",
     "text": [
      "1563/1563 [==============================] - 6s 3ms/step - loss: 9.3327e-05 - accuracy: 1.0000\n"
     ]
    },
    {
     "data": {
      "text/plain": [
       "[9.332710033049807e-05, 1.0]"
      ]
     },
     "execution_count": 55,
     "metadata": {},
     "output_type": "execute_result"
    }
   ],
   "source": [
    "X_train_tuned = fgsm_attack(Linear_CIFAR10,X_train,y_train,parameter)\n",
    "Linear_CIFAR10_adversarial_trained.evaluate(X_train_tuned,y_train)"
   ]
  }
 ],
 "metadata": {
  "accelerator": "GPU",
  "colab": {
   "collapsed_sections": [
    "G1qA-8V5Z-eg",
    "dhlYutUuFoPA",
    "NqhkmVEBJrkY"
   ],
   "provenance": [
    {
     "file_id": "17t5wZdiu4KbtR9opaQcMZECSJAndropo",
     "timestamp": 1674347819943
    }
   ]
  },
  "gpuClass": "standard",
  "kernelspec": {
   "display_name": "Python 3",
   "language": "python",
   "name": "python3"
  },
  "language_info": {
   "codemirror_mode": {
    "name": "ipython",
    "version": 3
   },
   "file_extension": ".py",
   "mimetype": "text/x-python",
   "name": "python",
   "nbconvert_exporter": "python",
   "pygments_lexer": "ipython3",
   "version": "3.8.8"
  }
 },
 "nbformat": 4,
 "nbformat_minor": 1
}
