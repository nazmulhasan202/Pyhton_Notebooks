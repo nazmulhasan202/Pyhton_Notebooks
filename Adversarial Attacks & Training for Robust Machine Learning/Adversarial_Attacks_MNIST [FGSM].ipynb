{
 "cells": [
  {
   "cell_type": "markdown",
   "metadata": {
    "id": "aiSUzqR_k38-"
   },
   "source": [
    "**Import packages**"
   ]
  },
  {
   "cell_type": "code",
   "execution_count": 1,
   "metadata": {
    "colab": {
     "base_uri": "https://localhost:8080/"
    },
    "executionInfo": {
     "elapsed": 7914,
     "status": "ok",
     "timestamp": 1677479695646,
     "user": {
      "displayName": "Nazmul Hasan",
      "userId": "02122416256231585764"
     },
     "user_tz": 420
    },
    "id": "ad5wwLh9culg",
    "outputId": "440d613b-deec-43a0-c68d-0b9142e0f76b"
   },
   "outputs": [
    {
     "name": "stdout",
     "output_type": "stream",
     "text": [
      "Requirement already satisfied: pytictoc in c:\\programdata\\anaconda3\\lib\\site-packages (1.5.2)\n"
     ]
    }
   ],
   "source": [
    "!pip install pytictoc"
   ]
  },
  {
   "cell_type": "code",
   "execution_count": 2,
   "metadata": {
    "id": "qoJw6787qpoU",
    "outputId": "2ea5a86f-b3de-4486-ddfb-9f8c8d5f8099"
   },
   "outputs": [
    {
     "name": "stdout",
     "output_type": "stream",
     "text": [
      "Requirement already satisfied: tensorflow in c:\\programdata\\anaconda3\\lib\\site-packages (2.11.0)\n",
      "Requirement already satisfied: tensorflow-intel==2.11.0 in c:\\programdata\\anaconda3\\lib\\site-packages (from tensorflow) (2.11.0)\n",
      "Requirement already satisfied: wrapt>=1.11.0 in c:\\programdata\\anaconda3\\lib\\site-packages (from tensorflow-intel==2.11.0->tensorflow) (1.12.1)\n",
      "Requirement already satisfied: astunparse>=1.6.0 in c:\\programdata\\anaconda3\\lib\\site-packages (from tensorflow-intel==2.11.0->tensorflow) (1.6.3)\n",
      "Requirement already satisfied: termcolor>=1.1.0 in c:\\programdata\\anaconda3\\lib\\site-packages (from tensorflow-intel==2.11.0->tensorflow) (2.2.0)\n",
      "Requirement already satisfied: packaging in c:\\programdata\\anaconda3\\lib\\site-packages (from tensorflow-intel==2.11.0->tensorflow) (20.9)\n",
      "Requirement already satisfied: gast<=0.4.0,>=0.2.1 in c:\\programdata\\anaconda3\\lib\\site-packages (from tensorflow-intel==2.11.0->tensorflow) (0.4.0)\n",
      "Requirement already satisfied: opt-einsum>=2.3.2 in c:\\programdata\\anaconda3\\lib\\site-packages (from tensorflow-intel==2.11.0->tensorflow) (3.3.0)\n",
      "Requirement already satisfied: setuptools in c:\\programdata\\anaconda3\\lib\\site-packages (from tensorflow-intel==2.11.0->tensorflow) (52.0.0.post20210125)\n",
      "Requirement already satisfied: grpcio<2.0,>=1.24.3 in c:\\programdata\\anaconda3\\lib\\site-packages (from tensorflow-intel==2.11.0->tensorflow) (1.51.3)\n",
      "Requirement already satisfied: typing-extensions>=3.6.6 in c:\\programdata\\anaconda3\\lib\\site-packages (from tensorflow-intel==2.11.0->tensorflow) (3.7.4.3)\n",
      "Requirement already satisfied: tensorflow-io-gcs-filesystem>=0.23.1 in c:\\programdata\\anaconda3\\lib\\site-packages (from tensorflow-intel==2.11.0->tensorflow) (0.31.0)\n",
      "Requirement already satisfied: google-pasta>=0.1.1 in c:\\programdata\\anaconda3\\lib\\site-packages (from tensorflow-intel==2.11.0->tensorflow) (0.2.0)\n",
      "Requirement already satisfied: absl-py>=1.0.0 in c:\\programdata\\anaconda3\\lib\\site-packages (from tensorflow-intel==2.11.0->tensorflow) (1.4.0)\n",
      "Requirement already satisfied: libclang>=13.0.0 in c:\\programdata\\anaconda3\\lib\\site-packages (from tensorflow-intel==2.11.0->tensorflow) (15.0.6.1)\n",
      "Requirement already satisfied: keras<2.12,>=2.11.0 in c:\\programdata\\anaconda3\\lib\\site-packages (from tensorflow-intel==2.11.0->tensorflow) (2.11.0)\n",
      "Requirement already satisfied: flatbuffers>=2.0 in c:\\programdata\\anaconda3\\lib\\site-packages (from tensorflow-intel==2.11.0->tensorflow) (23.3.3)\n",
      "Requirement already satisfied: protobuf<3.20,>=3.9.2 in c:\\programdata\\anaconda3\\lib\\site-packages (from tensorflow-intel==2.11.0->tensorflow) (3.19.6)\n",
      "Requirement already satisfied: tensorboard<2.12,>=2.11 in c:\\programdata\\anaconda3\\lib\\site-packages (from tensorflow-intel==2.11.0->tensorflow) (2.11.2)\n",
      "Requirement already satisfied: numpy>=1.20 in c:\\programdata\\anaconda3\\lib\\site-packages (from tensorflow-intel==2.11.0->tensorflow) (1.20.1)\n",
      "Requirement already satisfied: h5py>=2.9.0 in c:\\programdata\\anaconda3\\lib\\site-packages (from tensorflow-intel==2.11.0->tensorflow) (2.10.0)\n",
      "Requirement already satisfied: tensorflow-estimator<2.12,>=2.11.0 in c:\\programdata\\anaconda3\\lib\\site-packages (from tensorflow-intel==2.11.0->tensorflow) (2.11.0)\n",
      "Requirement already satisfied: six>=1.12.0 in c:\\programdata\\anaconda3\\lib\\site-packages (from tensorflow-intel==2.11.0->tensorflow) (1.15.0)\n",
      "Requirement already satisfied: wheel<1.0,>=0.23.0 in c:\\programdata\\anaconda3\\lib\\site-packages (from astunparse>=1.6.0->tensorflow-intel==2.11.0->tensorflow) (0.36.2)\n",
      "Requirement already satisfied: requests<3,>=2.21.0 in c:\\programdata\\anaconda3\\lib\\site-packages (from tensorboard<2.12,>=2.11->tensorflow-intel==2.11.0->tensorflow) (2.25.1)\n",
      "Requirement already satisfied: tensorboard-plugin-wit>=1.6.0 in c:\\programdata\\anaconda3\\lib\\site-packages (from tensorboard<2.12,>=2.11->tensorflow-intel==2.11.0->tensorflow) (1.8.1)\n",
      "Requirement already satisfied: tensorboard-data-server<0.7.0,>=0.6.0 in c:\\programdata\\anaconda3\\lib\\site-packages (from tensorboard<2.12,>=2.11->tensorflow-intel==2.11.0->tensorflow) (0.6.1)\n",
      "Requirement already satisfied: markdown>=2.6.8 in c:\\programdata\\anaconda3\\lib\\site-packages (from tensorboard<2.12,>=2.11->tensorflow-intel==2.11.0->tensorflow) (3.4.1)\n",
      "Requirement already satisfied: werkzeug>=1.0.1 in c:\\programdata\\anaconda3\\lib\\site-packages (from tensorboard<2.12,>=2.11->tensorflow-intel==2.11.0->tensorflow) (1.0.1)\n",
      "Requirement already satisfied: google-auth-oauthlib<0.5,>=0.4.1 in c:\\programdata\\anaconda3\\lib\\site-packages (from tensorboard<2.12,>=2.11->tensorflow-intel==2.11.0->tensorflow) (0.4.6)\n",
      "Requirement already satisfied: google-auth<3,>=1.6.3 in c:\\programdata\\anaconda3\\lib\\site-packages (from tensorboard<2.12,>=2.11->tensorflow-intel==2.11.0->tensorflow) (2.16.2)\n",
      "Requirement already satisfied: rsa<5,>=3.1.4 in c:\\programdata\\anaconda3\\lib\\site-packages (from google-auth<3,>=1.6.3->tensorboard<2.12,>=2.11->tensorflow-intel==2.11.0->tensorflow) (4.9)\n",
      "Requirement already satisfied: pyasn1-modules>=0.2.1 in c:\\programdata\\anaconda3\\lib\\site-packages (from google-auth<3,>=1.6.3->tensorboard<2.12,>=2.11->tensorflow-intel==2.11.0->tensorflow) (0.2.8)\n",
      "Requirement already satisfied: cachetools<6.0,>=2.0.0 in c:\\programdata\\anaconda3\\lib\\site-packages (from google-auth<3,>=1.6.3->tensorboard<2.12,>=2.11->tensorflow-intel==2.11.0->tensorflow) (5.3.0)\n",
      "Requirement already satisfied: requests-oauthlib>=0.7.0 in c:\\programdata\\anaconda3\\lib\\site-packages (from google-auth-oauthlib<0.5,>=0.4.1->tensorboard<2.12,>=2.11->tensorflow-intel==2.11.0->tensorflow) (1.3.1)\n",
      "Requirement already satisfied: importlib-metadata>=4.4 in c:\\programdata\\anaconda3\\lib\\site-packages (from markdown>=2.6.8->tensorboard<2.12,>=2.11->tensorflow-intel==2.11.0->tensorflow) (6.0.0)\n",
      "Requirement already satisfied: zipp>=0.5 in c:\\programdata\\anaconda3\\lib\\site-packages (from importlib-metadata>=4.4->markdown>=2.6.8->tensorboard<2.12,>=2.11->tensorflow-intel==2.11.0->tensorflow) (3.4.1)\n",
      "Requirement already satisfied: pyasn1<0.5.0,>=0.4.6 in c:\\programdata\\anaconda3\\lib\\site-packages (from pyasn1-modules>=0.2.1->google-auth<3,>=1.6.3->tensorboard<2.12,>=2.11->tensorflow-intel==2.11.0->tensorflow) (0.4.8)\n",
      "Requirement already satisfied: idna<3,>=2.5 in c:\\programdata\\anaconda3\\lib\\site-packages (from requests<3,>=2.21.0->tensorboard<2.12,>=2.11->tensorflow-intel==2.11.0->tensorflow) (2.10)\n",
      "Requirement already satisfied: urllib3<1.27,>=1.21.1 in c:\\programdata\\anaconda3\\lib\\site-packages (from requests<3,>=2.21.0->tensorboard<2.12,>=2.11->tensorflow-intel==2.11.0->tensorflow) (1.26.4)\n",
      "Requirement already satisfied: certifi>=2017.4.17 in c:\\programdata\\anaconda3\\lib\\site-packages (from requests<3,>=2.21.0->tensorboard<2.12,>=2.11->tensorflow-intel==2.11.0->tensorflow) (2020.12.5)\n",
      "Requirement already satisfied: chardet<5,>=3.0.2 in c:\\programdata\\anaconda3\\lib\\site-packages (from requests<3,>=2.21.0->tensorboard<2.12,>=2.11->tensorflow-intel==2.11.0->tensorflow) (4.0.0)\n",
      "Requirement already satisfied: oauthlib>=3.0.0 in c:\\programdata\\anaconda3\\lib\\site-packages (from requests-oauthlib>=0.7.0->google-auth-oauthlib<0.5,>=0.4.1->tensorboard<2.12,>=2.11->tensorflow-intel==2.11.0->tensorflow) (3.2.2)\n",
      "Requirement already satisfied: pyparsing>=2.0.2 in c:\\programdata\\anaconda3\\lib\\site-packages (from packaging->tensorflow-intel==2.11.0->tensorflow) (2.4.7)\n"
     ]
    }
   ],
   "source": [
    "!pip install tensorflow"
   ]
  },
  {
   "cell_type": "code",
   "execution_count": 3,
   "metadata": {
    "id": "_z7kPblcHOH1"
   },
   "outputs": [],
   "source": [
    "import random\n",
    "import tensorflow as tf\n",
    "from tensorflow import keras\n",
    "from keras import datasets, layers, models\n",
    "import matplotlib.pyplot as plt\n",
    "import numpy as np\n",
    "import warnings\n",
    "import pandas as pd\n",
    "from pytictoc import TicToc\n",
    "warnings.filterwarnings( \"ignore\" )"
   ]
  },
  {
   "cell_type": "markdown",
   "metadata": {
    "id": "e7iTQt51HOH3"
   },
   "source": [
    "**Load the dataset**"
   ]
  },
  {
   "cell_type": "code",
   "execution_count": 4,
   "metadata": {
    "colab": {
     "base_uri": "https://localhost:8080/"
    },
    "executionInfo": {
     "elapsed": 1004,
     "status": "ok",
     "timestamp": 1677479696640,
     "user": {
      "displayName": "Nazmul Hasan",
      "userId": "02122416256231585764"
     },
     "user_tz": 420
    },
    "id": "rPRPSMuwHOH4",
    "outputId": "112c4b26-0d26-42c6-8d80-70465d7250e5"
   },
   "outputs": [
    {
     "data": {
      "text/plain": [
       "((60000, 28, 28), (60000,), (10000, 28, 28), (10000,))"
      ]
     },
     "execution_count": 4,
     "metadata": {},
     "output_type": "execute_result"
    }
   ],
   "source": [
    "(X_train, y_train), (X_test,y_test) = datasets.mnist.load_data()\n",
    "X_train.shape, y_train.shape, X_test.shape, y_test.shape"
   ]
  },
  {
   "cell_type": "markdown",
   "metadata": {
    "id": "nfOobSrX9lZp"
   },
   "source": [
    "**Create helper functions**"
   ]
  },
  {
   "cell_type": "code",
   "execution_count": 5,
   "metadata": {
    "id": "29WNxxm-9oF1"
   },
   "outputs": [],
   "source": [
    "def plot_sample_image(X, y):\n",
    "    plt.figure(figsize = (15,2))\n",
    "    plt.imshow(X); plt.colorbar();\n",
    "    classes = [\"0\",\"1\",\"2\",\"3\",\"4\",\"5\",\"6\",\"7\",\"8\",\"9\"]\n",
    "    plt.xlabel('Image Label: {}'.format(classes[y]))\n",
    "\n",
    "def classification_results(X_test,y_test,y_pred_classes):\n",
    "  from sklearn.metrics import confusion_matrix , classification_report\n",
    "  import seaborn as sn\n",
    "\n",
    "  cm = tf.math.confusion_matrix(labels=y_test,predictions=y_pred_classes)\n",
    "  plt.figure(figsize = (7,5))\n",
    "  sn.heatmap(cm, annot=True, fmt='d', cmap='Greens')\n",
    "  plt.xlabel('Predicted');\n",
    "  plt.ylabel('Truth');\n",
    "\n",
    "  print(\"Classification Report: \\n\", classification_report(y_test, y_pred_classes))\n",
    "\n",
    "def plot_fitting_history(history,filename,dpi):\n",
    "  epochs = len(history.history['loss'])\n",
    "  epoch_data = np.arange(1,epochs+1)\n",
    "  plt.plot(epoch_data,history.history['loss'],'o-')\n",
    "  plt.plot(epoch_data,history.history['val_loss'],'o--')\n",
    "  plt.ylabel('Loss')\n",
    "  plt.xlabel('Epoch sequence' )\n",
    "  plt.xticks(np.arange(0, epochs + 1, step=1))\n",
    "  plt.legend(['Training','Validation'])\n",
    "  plt.savefig(filename, dpi=dpi)\n",
    "  plt.show()"
   ]
  },
  {
   "cell_type": "markdown",
   "metadata": {
    "id": "ZUSUtJFkHOIB"
   },
   "source": [
    "**Plot sample image**"
   ]
  },
  {
   "cell_type": "markdown",
   "metadata": {
    "id": "gL5ypIWkHOIE"
   },
   "source": [
    "**Normalize the input data**"
   ]
  },
  {
   "cell_type": "code",
   "execution_count": 6,
   "metadata": {
    "id": "PxewI0kIHOIF"
   },
   "outputs": [],
   "source": [
    "X_train = X_train / 255.0\n",
    "X_test = X_test / 255.0"
   ]
  },
  {
   "cell_type": "code",
   "execution_count": 7,
   "metadata": {
    "colab": {
     "base_uri": "https://localhost:8080/",
     "height": 173
    },
    "executionInfo": {
     "elapsed": 35,
     "status": "ok",
     "timestamp": 1677479696644,
     "user": {
      "displayName": "Nazmul Hasan",
      "userId": "02122416256231585764"
     },
     "user_tz": 420
    },
    "id": "5SMVbqRZHOIC",
    "outputId": "54dda61a-dad7-408f-9080-5348e6377533",
    "scrolled": true
   },
   "outputs": [
    {
     "data": {
      "image/png": "[encoded data removed]",
      "text/plain": [
       "<Figure size 1080x144 with 2 Axes>"
      ]
     },
     "metadata": {
      "needs_background": "light"
     },
     "output_type": "display_data"
    }
   ],
   "source": [
    "index = np.random.randint(100)\n",
    "plot_sample_image(X_train[index], y_train[index]);"
   ]
  },
  {
   "cell_type": "code",
   "execution_count": 8,
   "metadata": {
    "colab": {
     "base_uri": "https://localhost:8080/"
    },
    "executionInfo": {
     "elapsed": 39945,
     "status": "ok",
     "timestamp": 1677479736564,
     "user": {
      "displayName": "Nazmul Hasan",
      "userId": "02122416256231585764"
     },
     "user_tz": 420
    },
    "id": "Usv8lPonYXF0",
    "outputId": "4087b1d6-0627-4ae4-e4a6-17631f7a8113"
   },
   "outputs": [],
   "source": [
    "# from google.colab import drive\n",
    "# drive.mount('/content/gdrive')\n",
    "# %cd /content/gdrive/MyDrive/ECE 696B/Project - ECE696B"
   ]
  },
  {
   "cell_type": "markdown",
   "metadata": {
    "id": "O7TkT_B0gx0r"
   },
   "source": [
    "**Load the models**"
   ]
  },
  {
   "cell_type": "code",
   "execution_count": 12,
   "metadata": {
    "id": "cacXKz9PZM7l"
   },
   "outputs": [
    {
     "name": "stdout",
     "output_type": "stream",
     "text": [
      "C:\\Users\\nh202\\My Drive (nh202@arizona.edu)\\ECE 696B\\Project - ECE696B\n"
     ]
    }
   ],
   "source": [
    "%cd C:\\Users\\nh202\\My Drive (nh202@arizona.edu)\\ECE 696B\\Project - ECE696B\n",
    "from keras.models import load_model\n",
    "Linear_MNIST = load_model('Linear_MNIST.h5')\n",
    "MLP_MNIST = load_model('MLP_MNIST.h5')\n",
    "CNN_MNIST = load_model('CNN_MNIST.h5')"
   ]
  },
  {
   "cell_type": "markdown",
   "metadata": {
    "id": "G1qA-8V5Z-eg"
   },
   "source": [
    "# Fast gradient sign method (FGSM) attack"
   ]
  },
  {
   "cell_type": "markdown",
   "metadata": {
    "id": "0J56ssCnYF3G"
   },
   "source": [
    "**Function for FGSM attack**"
   ]
  },
  {
   "cell_type": "code",
   "execution_count": 11,
   "metadata": {
    "id": "N233mqhAYEoC"
   },
   "outputs": [],
   "source": [
    "def fgsm_attack(model, x, y_true, eps):\n",
    "\n",
    "    if len(x.shape) == 2:\n",
    "        # Create a tensor for the input image to make it compatible with the tensor shape expected by the model\n",
    "        x_tensor = tf.convert_to_tensor(x[np.newaxis, ...])\n",
    "    if len(x.shape) == 3:\n",
    "        x_tensor = tf.convert_to_tensor(x)\n",
    "    \n",
    "    # Set tape to watch the input tensor\n",
    "    with tf.GradientTape() as tape:\n",
    "        tape.watch(x_tensor)\n",
    "        y_pred = model(x_tensor)\n",
    "        loss = tf.keras.losses.sparse_categorical_crossentropy(y_true, y_pred)  \n",
    "    \n",
    "    # Calculate the gradient of the loss with respect to the input image\n",
    "    grads = tape.gradient(loss, x_tensor)\n",
    "    \n",
    "    # Calculate the sign of the gradient\n",
    "    if len(x.shape) == 2:\n",
    "        x_adv = x + eps * sign[0]\n",
    "    if len(x.shape) == 3:\n",
    "        x_adv = x + eps * sign\n",
    "\n",
    "    # Notes:\n",
    "    # sign[0] matches the shape of x, sign matches the shape of x_tensor\n",
    "    # print(sign[0].shape, x.shape, sign.shape, x_tensor.shape)\n",
    "    \n",
    "    # Generate the adversarial example by adding the sign of the gradient times epsilon to the input image\n",
    "    x_adv = x + eps * sign\n",
    "    \n",
    "    # Clip the adversarial example to maintain pixel values in [0,1] range\n",
    "    x_adv = tf.clip_by_value(x_adv, clip_value_min=0, clip_value_max=1)\n",
    "    \n",
    "    return x_adv.numpy()"
   ]
  },
  {
   "cell_type": "markdown",
   "metadata": {
    "id": "wLdrmsddiHBh"
   },
   "source": [
    "**Evaluate test accuracy on unperturbed vs perturbed data**"
   ]
  },
  {
   "cell_type": "code",
   "execution_count": 13,
   "metadata": {
    "id": "1o32HZkpqpo5",
    "outputId": "a66a3558-5f6a-4a9f-fd31-7fe744b331d2"
   },
   "outputs": [
    {
     "name": "stdout",
     "output_type": "stream",
     "text": [
      "Test accuracy on unperturbed data\n",
      "32/32 [==============================] - 1s 3ms/step - loss: 0.2790 - accuracy: 0.9190\n",
      "32/32 [==============================] - 0s 4ms/step - loss: 0.0963 - accuracy: 0.9740\n",
      "32/32 [==============================] - 1s 6ms/step - loss: 0.0597 - accuracy: 0.9790\n",
      "\n",
      "\n"
     ]
    }
   ],
   "source": [
    "indexes = range(1000)\n",
    "print('Test accuracy on unperturbed data')\n",
    "Linear_MNIST.evaluate(X_test[indexes],y_test[indexes])\n",
    "MLP_MNIST.evaluate(X_test[indexes],y_test[indexes])\n",
    "CNN_MNIST.evaluate(X_test[indexes],y_test[indexes])\n",
    "print('\\n')"
   ]
  },
  {
   "cell_type": "code",
   "execution_count": 14,
   "metadata": {},
   "outputs": [
    {
     "name": "stdout",
     "output_type": "stream",
     "text": [
      "C:\\Users\\nh202\\OneDrive - University of Arizona\\Adversairal Examples - ECE 696B\\FGSM\n"
     ]
    }
   ],
   "source": [
    "%cd C:\\Users\\nh202\\OneDrive - University of Arizona\\Adversairal Examples - ECE 696B\\FGSM"
   ]
  },
  {
   "cell_type": "markdown",
   "metadata": {
    "id": "7cPtDvu0cf2X"
   },
   "source": [
    "**Create adversarial examples**"
   ]
  },
  {
   "cell_type": "code",
   "execution_count": 13,
   "metadata": {
    "id": "KepelXnJq8Wx"
   },
   "outputs": [
    {
     "name": "stdout",
     "output_type": "stream",
     "text": [
      "eps value: 0.1\n",
      "X_test_FGSM_Linear is complete\n",
      "X_test_FGSM_MLP is complete\n",
      "X_test_FGSM_CNN is complete\n",
      "Elapsed time is 0.299820 seconds.\n",
      "\n",
      "\n",
      "Test accuracy on perturbed data targeted for Linear model\n",
      "32/32 [==============================] - 0s 2ms/step - loss: 9.4517 - accuracy: 0.0020\n",
      "32/32 [==============================] - 0s 2ms/step - loss: 5.2413 - accuracy: 0.2240\n",
      "32/32 [==============================] - 0s 3ms/step - loss: 0.2275 - accuracy: 0.9300\n",
      "\n",
      "\n",
      "Test accuracy on perturbed data targeted for MLP model\n",
      "32/32 [==============================] - 0s 2ms/step - loss: 4.2317 - accuracy: 0.1380\n",
      "32/32 [==============================] - 0s 1ms/step - loss: 10.4019 - accuracy: 0.0590\n",
      "32/32 [==============================] - 0s 3ms/step - loss: 0.2175 - accuracy: 0.9340\n",
      "\n",
      "\n",
      "Test accuracy on perturbed data targeted for CNN model\n",
      "32/32 [==============================] - 0s 1ms/step - loss: 0.7899 - accuracy: 0.7180\n",
      "32/32 [==============================] - 0s 1ms/step - loss: 0.6162 - accuracy: 0.7970\n",
      "32/32 [==============================] - 0s 3ms/step - loss: 2.6504 - accuracy: 0.4390\n",
      "\n",
      "eps value: 0.2\n",
      "X_test_FGSM_Linear is complete\n",
      "X_test_FGSM_MLP is complete\n",
      "X_test_FGSM_CNN is complete\n",
      "Elapsed time is 0.218768 seconds.\n",
      "\n",
      "\n",
      "Test accuracy on perturbed data targeted for Linear model\n",
      "32/32 [==============================] - 0s 1ms/step - loss: 22.4857 - accuracy: 0.0000e+00\n",
      "32/32 [==============================] - 0s 1ms/step - loss: 17.4743 - accuracy: 0.0130\n",
      "32/32 [==============================] - 0s 3ms/step - loss: 1.5958 - accuracy: 0.6410\n",
      "\n",
      "\n",
      "Test accuracy on perturbed data targeted for MLP model\n",
      "32/32 [==============================] - 0s 1ms/step - loss: 12.2177 - accuracy: 0.0240\n",
      "32/32 [==============================] - 0s 1ms/step - loss: 24.0238 - accuracy: 0.0130\n",
      "32/32 [==============================] - 0s 3ms/step - loss: 1.3776 - accuracy: 0.6610\n",
      "\n",
      "\n",
      "Test accuracy on perturbed data targeted for CNN model\n",
      "32/32 [==============================] - 0s 1ms/step - loss: 2.9196 - accuracy: 0.3590\n",
      "32/32 [==============================] - 0s 1ms/step - loss: 3.2718 - accuracy: 0.5220\n",
      "32/32 [==============================] - 0s 3ms/step - loss: 8.7979 - accuracy: 0.1520\n",
      "\n",
      "eps value: 0.3\n",
      "X_test_FGSM_Linear is complete\n",
      "X_test_FGSM_MLP is complete\n",
      "X_test_FGSM_CNN is complete\n",
      "Elapsed time is 0.213998 seconds.\n",
      "\n",
      "\n",
      "Test accuracy on perturbed data targeted for Linear model\n",
      "32/32 [==============================] - 0s 1ms/step - loss: 35.4367 - accuracy: 0.0000e+00\n",
      "32/32 [==============================] - 0s 1ms/step - loss: 29.6353 - accuracy: 0.0000e+00\n",
      "32/32 [==============================] - 0s 3ms/step - loss: 6.2382 - accuracy: 0.3230\n",
      "\n",
      "\n",
      "Test accuracy on perturbed data targeted for MLP model\n",
      "32/32 [==============================] - 0s 1ms/step - loss: 20.7890 - accuracy: 0.0050\n",
      "32/32 [==============================] - 0s 1ms/step - loss: 36.6002 - accuracy: 0.0030\n",
      "32/32 [==============================] - 0s 3ms/step - loss: 5.5021 - accuracy: 0.3340\n",
      "\n",
      "\n",
      "Test accuracy on perturbed data targeted for CNN model\n",
      "32/32 [==============================] - 0s 1ms/step - loss: 5.9580 - accuracy: 0.2470\n",
      "32/32 [==============================] - 0s 2ms/step - loss: 6.9063 - accuracy: 0.3340\n",
      "32/32 [==============================] - 0s 3ms/step - loss: 14.5256 - accuracy: 0.0910\n",
      "\n",
      "eps value: 0.4\n",
      "X_test_FGSM_Linear is complete\n",
      "X_test_FGSM_MLP is complete\n",
      "X_test_FGSM_CNN is complete\n",
      "Elapsed time is 0.216975 seconds.\n",
      "\n",
      "\n",
      "Test accuracy on perturbed data targeted for Linear model\n",
      "32/32 [==============================] - 0s 1ms/step - loss: 48.2907 - accuracy: 0.0000e+00\n",
      "32/32 [==============================] - 0s 1ms/step - loss: 41.3422 - accuracy: 0.0000e+00\n",
      "32/32 [==============================] - 0s 3ms/step - loss: 13.2523 - accuracy: 0.1490\n",
      "\n",
      "\n",
      "Test accuracy on perturbed data targeted for MLP model\n",
      "32/32 [==============================] - 0s 1ms/step - loss: 29.5112 - accuracy: 0.0020\n",
      "32/32 [==============================] - 0s 2ms/step - loss: 48.9655 - accuracy: 0.0010\n",
      "32/32 [==============================] - 0s 3ms/step - loss: 11.8915 - accuracy: 0.1620\n",
      "\n",
      "\n",
      "Test accuracy on perturbed data targeted for CNN model\n",
      "32/32 [==============================] - 0s 1ms/step - loss: 9.3056 - accuracy: 0.1690\n",
      "32/32 [==============================] - 0s 2ms/step - loss: 10.6600 - accuracy: 0.2090\n",
      "32/32 [==============================] - 0s 3ms/step - loss: 19.8316 - accuracy: 0.0600\n",
      "\n",
      "eps value: 0.5\n",
      "X_test_FGSM_Linear is complete\n",
      "X_test_FGSM_MLP is complete\n",
      "X_test_FGSM_CNN is complete\n",
      "Elapsed time is 0.210003 seconds.\n",
      "\n",
      "\n",
      "Test accuracy on perturbed data targeted for Linear model\n",
      "32/32 [==============================] - 0s 1ms/step - loss: 61.0450 - accuracy: 0.0000e+00\n",
      "32/32 [==============================] - 0s 1ms/step - loss: 52.7942 - accuracy: 0.0000e+00\n",
      "32/32 [==============================] - 0s 3ms/step - loss: 21.5709 - accuracy: 0.0290\n",
      "\n",
      "\n",
      "Test accuracy on perturbed data targeted for MLP model\n",
      "32/32 [==============================] - 0s 1ms/step - loss: 38.2696 - accuracy: 0.0010\n",
      "32/32 [==============================] - 0s 2ms/step - loss: 61.2791 - accuracy: 0.0000e+00\n",
      "32/32 [==============================] - 0s 3ms/step - loss: 19.3840 - accuracy: 0.0470\n",
      "\n",
      "\n",
      "Test accuracy on perturbed data targeted for CNN model\n",
      "32/32 [==============================] - 0s 1ms/step - loss: 12.8231 - accuracy: 0.1150\n",
      "32/32 [==============================] - 0s 1ms/step - loss: 14.4638 - accuracy: 0.1420\n",
      "32/32 [==============================] - 0s 3ms/step - loss: 24.8739 - accuracy: 0.0350\n",
      "\n",
      "eps value: 0.6\n",
      "X_test_FGSM_Linear is complete\n",
      "X_test_FGSM_MLP is complete\n",
      "X_test_FGSM_CNN is complete\n",
      "Elapsed time is 0.227710 seconds.\n",
      "\n",
      "\n",
      "Test accuracy on perturbed data targeted for Linear model\n",
      "32/32 [==============================] - 0s 1ms/step - loss: 73.6650 - accuracy: 0.0000e+00\n",
      "32/32 [==============================] - 0s 1ms/step - loss: 64.0056 - accuracy: 0.0000e+00\n",
      "32/32 [==============================] - 0s 3ms/step - loss: 30.5008 - accuracy: 0.0050\n",
      "\n",
      "\n",
      "Test accuracy on perturbed data targeted for MLP model\n",
      "32/32 [==============================] - 0s 1ms/step - loss: 47.0051 - accuracy: 0.0010\n",
      "32/32 [==============================] - 0s 1ms/step - loss: 73.4349 - accuracy: 0.0000e+00\n",
      "32/32 [==============================] - 0s 3ms/step - loss: 27.2590 - accuracy: 0.0130\n",
      "\n",
      "\n",
      "Test accuracy on perturbed data targeted for CNN model\n",
      "32/32 [==============================] - 0s 1ms/step - loss: 16.4466 - accuracy: 0.0880\n",
      "32/32 [==============================] - 0s 1ms/step - loss: 18.3080 - accuracy: 0.1130\n",
      "32/32 [==============================] - 0s 3ms/step - loss: 29.4742 - accuracy: 0.0270\n",
      "\n",
      "eps value: 0.7\n",
      "X_test_FGSM_Linear is complete\n",
      "X_test_FGSM_MLP is complete\n",
      "X_test_FGSM_CNN is complete\n",
      "Elapsed time is 0.210276 seconds.\n",
      "\n",
      "\n",
      "Test accuracy on perturbed data targeted for Linear model\n",
      "32/32 [==============================] - 0s 1ms/step - loss: 86.1610 - accuracy: 0.0000e+00\n",
      "32/32 [==============================] - 0s 2ms/step - loss: 75.0256 - accuracy: 0.0000e+00\n",
      "32/32 [==============================] - 0s 3ms/step - loss: 39.2986 - accuracy: 0.0020\n",
      "\n",
      "\n",
      "Test accuracy on perturbed data targeted for MLP model\n",
      "32/32 [==============================] - 0s 1ms/step - loss: 55.6951 - accuracy: 0.0010\n",
      "32/32 [==============================] - 0s 2ms/step - loss: 85.4711 - accuracy: 0.0000e+00\n",
      "32/32 [==============================] - 0s 3ms/step - loss: 34.9404 - accuracy: 0.0080\n",
      "\n",
      "\n",
      "Test accuracy on perturbed data targeted for CNN model\n",
      "32/32 [==============================] - 0s 1ms/step - loss: 20.1340 - accuracy: 0.0680\n",
      "32/32 [==============================] - 0s 2ms/step - loss: 22.2107 - accuracy: 0.0940\n",
      "32/32 [==============================] - 0s 3ms/step - loss: 33.5380 - accuracy: 0.0250\n",
      "\n",
      "eps value: 0.8\n",
      "X_test_FGSM_Linear is complete\n",
      "X_test_FGSM_MLP is complete\n",
      "X_test_FGSM_CNN is complete\n",
      "Elapsed time is 0.213842 seconds.\n",
      "\n",
      "\n",
      "Test accuracy on perturbed data targeted for Linear model\n",
      "32/32 [==============================] - 0s 1ms/step - loss: 98.5195 - accuracy: 0.0000e+00\n",
      "32/32 [==============================] - 0s 2ms/step - loss: 85.8961 - accuracy: 0.0000e+00\n",
      "32/32 [==============================] - 0s 3ms/step - loss: 47.7116 - accuracy: 0.0020\n",
      "\n",
      "\n",
      "Test accuracy on perturbed data targeted for MLP model\n",
      "32/32 [==============================] - 0s 2ms/step - loss: 64.3223 - accuracy: 0.0010\n",
      "32/32 [==============================] - 0s 1ms/step - loss: 97.3755 - accuracy: 0.0000e+00\n",
      "32/32 [==============================] - 0s 3ms/step - loss: 42.2796 - accuracy: 0.0050\n",
      "\n",
      "\n",
      "Test accuracy on perturbed data targeted for CNN model\n",
      "32/32 [==============================] - 0s 1ms/step - loss: 23.8526 - accuracy: 0.0620\n",
      "32/32 [==============================] - 0s 1ms/step - loss: 26.1738 - accuracy: 0.0840\n",
      "32/32 [==============================] - 0s 3ms/step - loss: 37.3290 - accuracy: 0.0290\n",
      "\n",
      "eps value: 0.9\n",
      "X_test_FGSM_Linear is complete\n",
      "X_test_FGSM_MLP is complete\n",
      "X_test_FGSM_CNN is complete\n",
      "Elapsed time is 0.217702 seconds.\n",
      "\n",
      "\n",
      "Test accuracy on perturbed data targeted for Linear model\n",
      "32/32 [==============================] - 0s 1ms/step - loss: 110.7103 - accuracy: 0.0000e+00\n",
      "32/32 [==============================] - 0s 2ms/step - loss: 96.5982 - accuracy: 0.0000e+00\n",
      "32/32 [==============================] - 0s 3ms/step - loss: 55.6763 - accuracy: 0.0020\n",
      "\n",
      "\n",
      "Test accuracy on perturbed data targeted for MLP model\n",
      "32/32 [==============================] - 0s 1ms/step - loss: 72.8638 - accuracy: 0.0010\n",
      "32/32 [==============================] - 0s 1ms/step - loss: 109.1020 - accuracy: 0.0000e+00\n",
      "32/32 [==============================] - 0s 3ms/step - loss: 49.2633 - accuracy: 0.0070\n",
      "\n",
      "\n",
      "Test accuracy on perturbed data targeted for CNN model\n",
      "32/32 [==============================] - 0s 1ms/step - loss: 27.5763 - accuracy: 0.0530\n",
      "32/32 [==============================] - 0s 2ms/step - loss: 30.1913 - accuracy: 0.0710\n",
      "32/32 [==============================] - 0s 3ms/step - loss: 41.1113 - accuracy: 0.0380\n",
      "\n",
      "eps value: 1.0\n",
      "X_test_FGSM_Linear is complete\n",
      "X_test_FGSM_MLP is complete\n",
      "X_test_FGSM_CNN is complete\n",
      "Elapsed time is 0.220796 seconds.\n",
      "\n",
      "\n",
      "Test accuracy on perturbed data targeted for Linear model\n",
      "32/32 [==============================] - 0s 1ms/step - loss: 122.6347 - accuracy: 0.0000e+00\n",
      "32/32 [==============================] - 0s 1ms/step - loss: 106.9841 - accuracy: 0.0000e+00\n",
      "32/32 [==============================] - 0s 3ms/step - loss: 63.2569 - accuracy: 0.0010\n",
      "\n",
      "\n",
      "Test accuracy on perturbed data targeted for MLP model\n",
      "32/32 [==============================] - 0s 1ms/step - loss: 81.2500 - accuracy: 0.0010\n",
      "32/32 [==============================] - 0s 1ms/step - loss: 120.5732 - accuracy: 0.0000e+00\n",
      "32/32 [==============================] - 0s 3ms/step - loss: 55.9602 - accuracy: 0.0090\n",
      "\n",
      "\n",
      "Test accuracy on perturbed data targeted for CNN model\n",
      "32/32 [==============================] - 0s 1ms/step - loss: 31.2537 - accuracy: 0.0490\n",
      "32/32 [==============================] - 0s 2ms/step - loss: 34.1873 - accuracy: 0.0660\n",
      "32/32 [==============================] - 0s 3ms/step - loss: 45.1943 - accuracy: 0.0430\n",
      "\n"
     ]
    }
   ],
   "source": [
    "for eps in np.arange(0.1,1.1,0.1):\n",
    "    \n",
    "  print(f'eps value: {np.round(eps,1)}')\n",
    "\n",
    "  t = TicToc()\n",
    "  t.tic()\n",
    "  X_test_FGSM_Linear = fgsm_attack(Linear_MNIST,X_test[indexes],y_test[indexes],eps)\n",
    "  print('X_test_FGSM_Linear is complete')\n",
    "  X_test_FGSM_MLP = fgsm_attack(MLP_MNIST,X_test[indexes],y_test[indexes],eps)\n",
    "  print('X_test_FGSM_MLP is complete')\n",
    "  X_test_FGSM_CNN = fgsm_attack(CNN_MNIST,X_test[indexes],y_test[indexes],eps)\n",
    "  print('X_test_FGSM_CNN is complete')\n",
    "  t.toc()\n",
    "\n",
    "  # Save the adversarial examples\n",
    "  np_array_filename = 'MNIST_FGSM_'+ str(len(indexes)) +'_adv_examples_eps_'+ str(round(eps,1)) + '.npz'\n",
    "  np.savez(np_array_filename, X_test_FGSM_Linear=X_test_FGSM_Linear, \\\n",
    "          X_test_FGSM_MLP=X_test_FGSM_MLP, X_test_FGSM_CNN=X_test_FGSM_CNN)\n",
    "\n",
    "  stored_results = []\n",
    "  print('\\n')\n",
    "  print('Test accuracy on perturbed data targeted for Linear model')\n",
    "  avg_l2_norm_Linear = np.mean(np.sqrt(np.sum((X_test_FGSM_Linear-X_test[:len(indexes)])**2, axis=(1,2))))\n",
    "  stored_results.append(avg_l2_norm_Linear)\n",
    "  _, accuracy = Linear_MNIST.evaluate(X_test_FGSM_Linear[indexes],y_test[indexes])\n",
    "  stored_results.append(accuracy)\n",
    "  _, accuracy = MLP_MNIST.evaluate(X_test_FGSM_Linear[indexes],y_test[indexes])\n",
    "  stored_results.append(accuracy)\n",
    "  _, accuracy = CNN_MNIST.evaluate(X_test_FGSM_Linear[indexes],y_test[indexes])\n",
    "  stored_results.append(accuracy)\n",
    "  print('\\n')\n",
    "  print('Test accuracy on perturbed data targeted for MLP model')\n",
    "  avg_l2_norm_MLP = np.mean(np.sqrt(np.sum((X_test_FGSM_MLP-X_test[:len(indexes)])**2, axis=(1,2))))\n",
    "  stored_results.append(avg_l2_norm_MLP)\n",
    "  _, accuracy = Linear_MNIST.evaluate(X_test_FGSM_MLP[indexes],y_test[indexes])\n",
    "  stored_results.append(accuracy)\n",
    "  _, accuracy = MLP_MNIST.evaluate(X_test_FGSM_MLP[indexes],y_test[indexes])\n",
    "  stored_results.append(accuracy)\n",
    "  _, accuracy = CNN_MNIST.evaluate(X_test_FGSM_MLP[indexes],y_test[indexes])\n",
    "  stored_results.append(accuracy)\n",
    "  print('\\n')\n",
    "  print('Test accuracy on perturbed data targeted for CNN model')\n",
    "  avg_l2_norm_CNN = np.mean(np.sqrt(np.sum((X_test_FGSM_CNN-X_test[:len(indexes)])**2, axis=(1,2))))\n",
    "  stored_results.append(avg_l2_norm_CNN)\n",
    "  _, accuracy = Linear_MNIST.evaluate(X_test_FGSM_CNN[indexes],y_test[indexes])\n",
    "  stored_results.append(accuracy)\n",
    "  _, accuracy = MLP_MNIST.evaluate(X_test_FGSM_CNN[indexes],y_test[indexes])\n",
    "  stored_results.append(accuracy)\n",
    "  _, accuracy = CNN_MNIST.evaluate(X_test_FGSM_CNN[indexes],y_test[indexes])\n",
    "  stored_results.append(accuracy)\n",
    "  print()\n",
    "\n",
    "  stored_results = np.array(stored_results)\n",
    "  stored_results = stored_results.reshape(-1,4)\n",
    "  df = pd.DataFrame(stored_results, columns = ['avg_l2_norm','Linear_MNIST_test_accuray',\\\n",
    "                                   'MLP_MNIST_test_accuray','CNN_MNIST_test_accuray'])\n",
    "\n",
    "  filename = 'Adversarial_Attacks_MNIST_'+ str(len(indexes)) +' [FGSM Attack - eps '+ str(round(eps,1)) + '].csv'\n",
    "  df.to_csv(filename, index=False)"
   ]
  },
  {
   "cell_type": "markdown",
   "metadata": {
    "id": "xZIfzRmPhsHo"
   },
   "source": [
    "**Load the adversarial examples**"
   ]
  },
  {
   "cell_type": "code",
   "execution_count": 14,
   "metadata": {
    "id": "1HJlBnD0qpo_",
    "outputId": "b6f1ee5b-b6a0-4beb-9f64-265d2eed6c08"
   },
   "outputs": [
    {
     "name": "stdout",
     "output_type": "stream",
     "text": [
      "Test accuracy on unperturbed data\n",
      "32/32 [==============================] - 0s 1ms/step - loss: 0.2790 - accuracy: 0.9190\n",
      "32/32 [==============================] - 0s 2ms/step - loss: 0.0963 - accuracy: 0.9740\n",
      "32/32 [==============================] - 0s 3ms/step - loss: 0.0597 - accuracy: 0.9790\n",
      "\n",
      "\n",
      "Test accuracy on perturbed data targeted for Linear model\n",
      "32/32 [==============================] - 0s 2ms/step - loss: 122.6347 - accuracy: 0.0000e+00\n",
      "32/32 [==============================] - 0s 2ms/step - loss: 106.9841 - accuracy: 0.0000e+00\n",
      "32/32 [==============================] - 0s 4ms/step - loss: 63.2569 - accuracy: 0.0010\n",
      "\n",
      "\n",
      "Test accuracy on perturbed data targeted for MLP model\n",
      "32/32 [==============================] - 0s 1ms/step - loss: 81.2500 - accuracy: 0.0010\n",
      "32/32 [==============================] - 0s 1ms/step - loss: 120.5732 - accuracy: 0.0000e+00\n",
      "32/32 [==============================] - 0s 3ms/step - loss: 55.9602 - accuracy: 0.0090\n",
      "\n",
      "\n",
      "Test accuracy on perturbed data targeted for CNN model\n",
      "32/32 [==============================] - 0s 1ms/step - loss: 31.2537 - accuracy: 0.0490\n",
      "32/32 [==============================] - 0s 2ms/step - loss: 34.1873 - accuracy: 0.0660\n",
      "32/32 [==============================] - 0s 3ms/step - loss: 45.1943 - accuracy: 0.0430\n",
      "\n"
     ]
    }
   ],
   "source": [
    "np_array_filename = 'MNIST_FGSM_'+ str(len(indexes)) +'_adv_examples_eps_'+ str(round(eps,1)) + '.npz'\n",
    "data = np.load(np_array_filename)\n",
    "\n",
    "# access the arrays using their keys\n",
    "X_test_FGSM_Linear = data['X_test_FGSM_Linear']\n",
    "X_test_FGSM_MLP = data['X_test_FGSM_MLP']\n",
    "X_test_FGSM_CNN = data['X_test_FGSM_CNN']\n",
    "\n",
    "print('Test accuracy on unperturbed data')\n",
    "Linear_MNIST.evaluate(X_test[indexes],y_test[indexes])\n",
    "MLP_MNIST.evaluate(X_test[indexes],y_test[indexes])\n",
    "CNN_MNIST.evaluate(X_test[indexes],y_test[indexes])\n",
    "print('\\n')\n",
    "print('Test accuracy on perturbed data targeted for Linear model')\n",
    "Linear_MNIST.evaluate(X_test_FGSM_Linear[indexes],y_test[indexes])\n",
    "MLP_MNIST.evaluate(X_test_FGSM_Linear[indexes],y_test[indexes])\n",
    "CNN_MNIST.evaluate(X_test_FGSM_Linear[indexes],y_test[indexes])\n",
    "print('\\n')\n",
    "print('Test accuracy on perturbed data targeted for MLP model')\n",
    "Linear_MNIST.evaluate(X_test_FGSM_MLP[indexes],y_test[indexes])\n",
    "MLP_MNIST.evaluate(X_test_FGSM_MLP[indexes],y_test[indexes])\n",
    "CNN_MNIST.evaluate(X_test_FGSM_MLP[indexes],y_test[indexes])\n",
    "print('\\n')\n",
    "print('Test accuracy on perturbed data targeted for CNN model')\n",
    "Linear_MNIST.evaluate(X_test_FGSM_CNN[indexes],y_test[indexes])\n",
    "MLP_MNIST.evaluate(X_test_FGSM_CNN[indexes],y_test[indexes])\n",
    "CNN_MNIST.evaluate(X_test_FGSM_CNN[indexes],y_test[indexes])\n",
    "print()"
   ]
  },
  {
   "cell_type": "markdown",
   "metadata": {
    "id": "xrNR5r9buIAm"
   },
   "source": [
    "**Visualize the effect of the added noise**"
   ]
  },
  {
   "cell_type": "code",
   "execution_count": 23,
   "metadata": {
    "colab": {
     "base_uri": "https://localhost:8080/",
     "height": 751
    },
    "executionInfo": {
     "elapsed": 980,
     "status": "ok",
     "timestamp": 1677477722897,
     "user": {
      "displayName": "Nazmul Hasan",
      "userId": "02122416256231585764"
     },
     "user_tz": 420
    },
    "id": "94rJRpNKr2G6",
    "outputId": "ea83b648-7670-4abc-9578-5562b8aed6fc"
   },
   "outputs": [
    {
     "data": {
      "image/png": "[encoded data removed]",
      "text/plain": [
       "<Figure size 1080x144 with 2 Axes>"
      ]
     },
     "metadata": {
      "needs_background": "light"
     },
     "output_type": "display_data"
    },
    {
     "name": "stdout",
     "output_type": "stream",
     "text": [
      "1/1 [==============================] - 0s 25ms/step\n"
     ]
    },
    {
     "data": {
      "image/png": "[encoded data removed]",
      "text/plain": [
       "<Figure size 1080x144 with 2 Axes>"
      ]
     },
     "metadata": {
      "needs_background": "light"
     },
     "output_type": "display_data"
    },
    {
     "name": "stdout",
     "output_type": "stream",
     "text": [
      "1/1 [==============================] - 0s 27ms/step\n"
     ]
    },
    {
     "data": {
      "image/png": "[encoded data removed]",
      "text/plain": [
       "<Figure size 1080x144 with 2 Axes>"
      ]
     },
     "metadata": {
      "needs_background": "light"
     },
     "output_type": "display_data"
    },
    {
     "name": "stdout",
     "output_type": "stream",
     "text": [
      "1/1 [==============================] - 0s 20ms/step\n"
     ]
    },
    {
     "data": {
      "image/png": "[encoded data removed]",
      "text/plain": [
       "<Figure size 1080x144 with 2 Axes>"
      ]
     },
     "metadata": {
      "needs_background": "light"
     },
     "output_type": "display_data"
    }
   ],
   "source": [
    "np_array_filename = 'MNIST_FGSM_'+ str(len(indexes)) +'_adv_examples_eps_'+ str(round(0.1,1)) + '.npz'\n",
    "data = np.load(np_array_filename)\n",
    "\n",
    "# access the arrays using their keys\n",
    "X_test_FGSM_Linear = data['X_test_FGSM_Linear']\n",
    "X_test_FGSM_MLP = data['X_test_FGSM_MLP']\n",
    "X_test_FGSM_CNN = data['X_test_FGSM_CNN']\n",
    "\n",
    "index = np.random.randint(100)\n",
    "plot_sample_image(X_test[index], y_test[index])\n",
    "plt.title('Original Image'); plt.show()\n",
    "plot_sample_image(X_test_FGSM_Linear[index], np.argmax(Linear_MNIST.predict(X_test_FGSM_Linear[index][np.newaxis, ...])))\n",
    "plt.title('FGSM adversarial example for Linear model'); plt.show()\n",
    "plot_sample_image(X_test_FGSM_MLP[index], np.argmax(MLP_MNIST.predict(X_test_FGSM_Linear[index][np.newaxis, ...])))\n",
    "plt.title('FGSM adversarial example for MLP model'); plt.show()\n",
    "plot_sample_image(X_test_FGSM_CNN[index], np.argmax(CNN_MNIST.predict(X_test_FGSM_Linear[index][np.newaxis, ...])))\n",
    "plt.title('FGSM adversarial example for CNN model'); plt.show()"
   ]
  },
  {
   "cell_type": "markdown",
   "metadata": {
    "id": "Un_HkH6aqppD"
   },
   "source": [
    "# Compile the results into a dataframe"
   ]
  },
  {
   "cell_type": "code",
   "execution_count": 17,
   "metadata": {
    "id": "DpUMXMNWqppE"
   },
   "outputs": [],
   "source": [
    "target_models = []\n",
    "for i in range(10):\n",
    "    target_models.append('Linear')\n",
    "    target_models.append('MLP')    \n",
    "    target_models.append('CNN') \n",
    "target_models = np.array(target_models).reshape(-1,1)"
   ]
  },
  {
   "cell_type": "code",
   "execution_count": 18,
   "metadata": {
    "id": "MlVtvgrwqppG"
   },
   "outputs": [],
   "source": [
    "eps_values = []\n",
    "for eps in np.arange(0.1,1.1,0.1):\n",
    "    eps_values.append(eps)\n",
    "    eps_values.append(eps)    \n",
    "    eps_values.append(eps) \n",
    "eps_values = np.array(eps_values).reshape(-1,1)"
   ]
  },
  {
   "cell_type": "code",
   "execution_count": 19,
   "metadata": {
    "id": "9t8uy6vwqppH",
    "outputId": "579862ba-6410-49b7-d1a7-26bd8b30e403"
   },
   "outputs": [
    {
     "data": {
      "text/html": [
       "<div>\n",
       "<style scoped>\n",
       "    .dataframe tbody tr th:only-of-type {\n",
       "        vertical-align: middle;\n",
       "    }\n",
       "\n",
       "    .dataframe tbody tr th {\n",
       "        vertical-align: top;\n",
       "    }\n",
       "\n",
       "    .dataframe thead th {\n",
       "        text-align: right;\n",
       "    }\n",
       "</style>\n",
       "<table border=\"1\" class=\"dataframe\">\n",
       "  <thead>\n",
       "    <tr style=\"text-align: right;\">\n",
       "      <th></th>\n",
       "      <th>eps value</th>\n",
       "      <th>Target model</th>\n",
       "      <th>avg_l2_norm</th>\n",
       "      <th>Linear_MNIST_test_accuray</th>\n",
       "      <th>MLP_MNIST_test_accuray</th>\n",
       "      <th>CNN_MNIST_test_accuray</th>\n",
       "    </tr>\n",
       "  </thead>\n",
       "  <tbody>\n",
       "    <tr>\n",
       "      <th>0</th>\n",
       "      <td>0.1</td>\n",
       "      <td>Linear</td>\n",
       "      <td>2.104669</td>\n",
       "      <td>0.002</td>\n",
       "      <td>0.224</td>\n",
       "      <td>0.930</td>\n",
       "    </tr>\n",
       "    <tr>\n",
       "      <th>1</th>\n",
       "      <td>0.1</td>\n",
       "      <td>MLP</td>\n",
       "      <td>2.130851</td>\n",
       "      <td>0.138</td>\n",
       "      <td>0.059</td>\n",
       "      <td>0.934</td>\n",
       "    </tr>\n",
       "    <tr>\n",
       "      <th>2</th>\n",
       "      <td>0.1</td>\n",
       "      <td>CNN</td>\n",
       "      <td>2.139995</td>\n",
       "      <td>0.718</td>\n",
       "      <td>0.797</td>\n",
       "      <td>0.439</td>\n",
       "    </tr>\n",
       "    <tr>\n",
       "      <th>3</th>\n",
       "      <td>0.2</td>\n",
       "      <td>Linear</td>\n",
       "      <td>4.174779</td>\n",
       "      <td>0.000</td>\n",
       "      <td>0.013</td>\n",
       "      <td>0.641</td>\n",
       "    </tr>\n",
       "    <tr>\n",
       "      <th>4</th>\n",
       "      <td>0.2</td>\n",
       "      <td>MLP</td>\n",
       "      <td>4.227887</td>\n",
       "      <td>0.024</td>\n",
       "      <td>0.013</td>\n",
       "      <td>0.661</td>\n",
       "    </tr>\n",
       "    <tr>\n",
       "      <th>5</th>\n",
       "      <td>0.2</td>\n",
       "      <td>CNN</td>\n",
       "      <td>4.248348</td>\n",
       "      <td>0.359</td>\n",
       "      <td>0.522</td>\n",
       "      <td>0.152</td>\n",
       "    </tr>\n",
       "    <tr>\n",
       "      <th>6</th>\n",
       "      <td>0.3</td>\n",
       "      <td>Linear</td>\n",
       "      <td>6.217968</td>\n",
       "      <td>0.000</td>\n",
       "      <td>0.000</td>\n",
       "      <td>0.323</td>\n",
       "    </tr>\n",
       "    <tr>\n",
       "      <th>7</th>\n",
       "      <td>0.3</td>\n",
       "      <td>MLP</td>\n",
       "      <td>6.298463</td>\n",
       "      <td>0.005</td>\n",
       "      <td>0.003</td>\n",
       "      <td>0.334</td>\n",
       "    </tr>\n",
       "    <tr>\n",
       "      <th>8</th>\n",
       "      <td>0.3</td>\n",
       "      <td>CNN</td>\n",
       "      <td>6.331492</td>\n",
       "      <td>0.247</td>\n",
       "      <td>0.334</td>\n",
       "      <td>0.091</td>\n",
       "    </tr>\n",
       "    <tr>\n",
       "      <th>9</th>\n",
       "      <td>0.4</td>\n",
       "      <td>Linear</td>\n",
       "      <td>8.237682</td>\n",
       "      <td>0.000</td>\n",
       "      <td>0.000</td>\n",
       "      <td>0.149</td>\n",
       "    </tr>\n",
       "    <tr>\n",
       "      <th>10</th>\n",
       "      <td>0.4</td>\n",
       "      <td>MLP</td>\n",
       "      <td>8.345658</td>\n",
       "      <td>0.002</td>\n",
       "      <td>0.001</td>\n",
       "      <td>0.162</td>\n",
       "    </tr>\n",
       "    <tr>\n",
       "      <th>11</th>\n",
       "      <td>0.4</td>\n",
       "      <td>CNN</td>\n",
       "      <td>8.392001</td>\n",
       "      <td>0.169</td>\n",
       "      <td>0.209</td>\n",
       "      <td>0.060</td>\n",
       "    </tr>\n",
       "    <tr>\n",
       "      <th>12</th>\n",
       "      <td>0.5</td>\n",
       "      <td>Linear</td>\n",
       "      <td>10.234820</td>\n",
       "      <td>0.000</td>\n",
       "      <td>0.000</td>\n",
       "      <td>0.029</td>\n",
       "    </tr>\n",
       "    <tr>\n",
       "      <th>13</th>\n",
       "      <td>0.5</td>\n",
       "      <td>MLP</td>\n",
       "      <td>10.370325</td>\n",
       "      <td>0.001</td>\n",
       "      <td>0.000</td>\n",
       "      <td>0.047</td>\n",
       "    </tr>\n",
       "    <tr>\n",
       "      <th>14</th>\n",
       "      <td>0.5</td>\n",
       "      <td>CNN</td>\n",
       "      <td>10.429860</td>\n",
       "      <td>0.115</td>\n",
       "      <td>0.142</td>\n",
       "      <td>0.035</td>\n",
       "    </tr>\n",
       "    <tr>\n",
       "      <th>15</th>\n",
       "      <td>0.6</td>\n",
       "      <td>Linear</td>\n",
       "      <td>12.203357</td>\n",
       "      <td>0.000</td>\n",
       "      <td>0.000</td>\n",
       "      <td>0.005</td>\n",
       "    </tr>\n",
       "    <tr>\n",
       "      <th>16</th>\n",
       "      <td>0.6</td>\n",
       "      <td>MLP</td>\n",
       "      <td>12.366749</td>\n",
       "      <td>0.001</td>\n",
       "      <td>0.000</td>\n",
       "      <td>0.013</td>\n",
       "    </tr>\n",
       "    <tr>\n",
       "      <th>17</th>\n",
       "      <td>0.6</td>\n",
       "      <td>CNN</td>\n",
       "      <td>12.439137</td>\n",
       "      <td>0.088</td>\n",
       "      <td>0.113</td>\n",
       "      <td>0.027</td>\n",
       "    </tr>\n",
       "    <tr>\n",
       "      <th>18</th>\n",
       "      <td>0.7</td>\n",
       "      <td>Linear</td>\n",
       "      <td>14.147400</td>\n",
       "      <td>0.000</td>\n",
       "      <td>0.000</td>\n",
       "      <td>0.002</td>\n",
       "    </tr>\n",
       "    <tr>\n",
       "      <th>19</th>\n",
       "      <td>0.7</td>\n",
       "      <td>MLP</td>\n",
       "      <td>14.339213</td>\n",
       "      <td>0.001</td>\n",
       "      <td>0.000</td>\n",
       "      <td>0.008</td>\n",
       "    </tr>\n",
       "    <tr>\n",
       "      <th>20</th>\n",
       "      <td>0.7</td>\n",
       "      <td>CNN</td>\n",
       "      <td>14.423671</td>\n",
       "      <td>0.068</td>\n",
       "      <td>0.094</td>\n",
       "      <td>0.025</td>\n",
       "    </tr>\n",
       "    <tr>\n",
       "      <th>21</th>\n",
       "      <td>0.8</td>\n",
       "      <td>Linear</td>\n",
       "      <td>16.064335</td>\n",
       "      <td>0.000</td>\n",
       "      <td>0.000</td>\n",
       "      <td>0.002</td>\n",
       "    </tr>\n",
       "    <tr>\n",
       "      <th>22</th>\n",
       "      <td>0.8</td>\n",
       "      <td>MLP</td>\n",
       "      <td>16.285007</td>\n",
       "      <td>0.001</td>\n",
       "      <td>0.000</td>\n",
       "      <td>0.005</td>\n",
       "    </tr>\n",
       "    <tr>\n",
       "      <th>23</th>\n",
       "      <td>0.8</td>\n",
       "      <td>CNN</td>\n",
       "      <td>16.379772</td>\n",
       "      <td>0.062</td>\n",
       "      <td>0.084</td>\n",
       "      <td>0.029</td>\n",
       "    </tr>\n",
       "    <tr>\n",
       "      <th>24</th>\n",
       "      <td>0.9</td>\n",
       "      <td>Linear</td>\n",
       "      <td>17.947981</td>\n",
       "      <td>0.000</td>\n",
       "      <td>0.000</td>\n",
       "      <td>0.002</td>\n",
       "    </tr>\n",
       "    <tr>\n",
       "      <th>25</th>\n",
       "      <td>0.9</td>\n",
       "      <td>MLP</td>\n",
       "      <td>18.197527</td>\n",
       "      <td>0.001</td>\n",
       "      <td>0.000</td>\n",
       "      <td>0.007</td>\n",
       "    </tr>\n",
       "    <tr>\n",
       "      <th>26</th>\n",
       "      <td>0.9</td>\n",
       "      <td>CNN</td>\n",
       "      <td>18.300023</td>\n",
       "      <td>0.053</td>\n",
       "      <td>0.071</td>\n",
       "      <td>0.038</td>\n",
       "    </tr>\n",
       "    <tr>\n",
       "      <th>27</th>\n",
       "      <td>1.0</td>\n",
       "      <td>Linear</td>\n",
       "      <td>19.775777</td>\n",
       "      <td>0.000</td>\n",
       "      <td>0.000</td>\n",
       "      <td>0.001</td>\n",
       "    </tr>\n",
       "    <tr>\n",
       "      <th>28</th>\n",
       "      <td>1.0</td>\n",
       "      <td>MLP</td>\n",
       "      <td>20.054006</td>\n",
       "      <td>0.001</td>\n",
       "      <td>0.000</td>\n",
       "      <td>0.009</td>\n",
       "    </tr>\n",
       "    <tr>\n",
       "      <th>29</th>\n",
       "      <td>1.0</td>\n",
       "      <td>CNN</td>\n",
       "      <td>20.159997</td>\n",
       "      <td>0.049</td>\n",
       "      <td>0.066</td>\n",
       "      <td>0.043</td>\n",
       "    </tr>\n",
       "  </tbody>\n",
       "</table>\n",
       "</div>"
      ],
      "text/plain": [
       "    eps value Target model  avg_l2_norm  Linear_MNIST_test_accuray  \\\n",
       "0         0.1       Linear     2.104669                      0.002   \n",
       "1         0.1          MLP     2.130851                      0.138   \n",
       "2         0.1          CNN     2.139995                      0.718   \n",
       "3         0.2       Linear     4.174779                      0.000   \n",
       "4         0.2          MLP     4.227887                      0.024   \n",
       "5         0.2          CNN     4.248348                      0.359   \n",
       "6         0.3       Linear     6.217968                      0.000   \n",
       "7         0.3          MLP     6.298463                      0.005   \n",
       "8         0.3          CNN     6.331492                      0.247   \n",
       "9         0.4       Linear     8.237682                      0.000   \n",
       "10        0.4          MLP     8.345658                      0.002   \n",
       "11        0.4          CNN     8.392001                      0.169   \n",
       "12        0.5       Linear    10.234820                      0.000   \n",
       "13        0.5          MLP    10.370325                      0.001   \n",
       "14        0.5          CNN    10.429860                      0.115   \n",
       "15        0.6       Linear    12.203357                      0.000   \n",
       "16        0.6          MLP    12.366749                      0.001   \n",
       "17        0.6          CNN    12.439137                      0.088   \n",
       "18        0.7       Linear    14.147400                      0.000   \n",
       "19        0.7          MLP    14.339213                      0.001   \n",
       "20        0.7          CNN    14.423671                      0.068   \n",
       "21        0.8       Linear    16.064335                      0.000   \n",
       "22        0.8          MLP    16.285007                      0.001   \n",
       "23        0.8          CNN    16.379772                      0.062   \n",
       "24        0.9       Linear    17.947981                      0.000   \n",
       "25        0.9          MLP    18.197527                      0.001   \n",
       "26        0.9          CNN    18.300023                      0.053   \n",
       "27        1.0       Linear    19.775777                      0.000   \n",
       "28        1.0          MLP    20.054006                      0.001   \n",
       "29        1.0          CNN    20.159997                      0.049   \n",
       "\n",
       "    MLP_MNIST_test_accuray  CNN_MNIST_test_accuray  \n",
       "0                    0.224                   0.930  \n",
       "1                    0.059                   0.934  \n",
       "2                    0.797                   0.439  \n",
       "3                    0.013                   0.641  \n",
       "4                    0.013                   0.661  \n",
       "5                    0.522                   0.152  \n",
       "6                    0.000                   0.323  \n",
       "7                    0.003                   0.334  \n",
       "8                    0.334                   0.091  \n",
       "9                    0.000                   0.149  \n",
       "10                   0.001                   0.162  \n",
       "11                   0.209                   0.060  \n",
       "12                   0.000                   0.029  \n",
       "13                   0.000                   0.047  \n",
       "14                   0.142                   0.035  \n",
       "15                   0.000                   0.005  \n",
       "16                   0.000                   0.013  \n",
       "17                   0.113                   0.027  \n",
       "18                   0.000                   0.002  \n",
       "19                   0.000                   0.008  \n",
       "20                   0.094                   0.025  \n",
       "21                   0.000                   0.002  \n",
       "22                   0.000                   0.005  \n",
       "23                   0.084                   0.029  \n",
       "24                   0.000                   0.002  \n",
       "25                   0.000                   0.007  \n",
       "26                   0.071                   0.038  \n",
       "27                   0.000                   0.001  \n",
       "28                   0.000                   0.009  \n",
       "29                   0.066                   0.043  "
      ]
     },
     "execution_count": 19,
     "metadata": {},
     "output_type": "execute_result"
    }
   ],
   "source": [
    "df_all = pd.DataFrame()\n",
    "for eps in np.arange(0.1,1.1,0.1):\n",
    "    filename = 'Adversarial_Attacks_MNIST_'+ str(len(indexes)) +' [FGSM Attack - eps '+ str(round(eps,1)) + '].csv'\n",
    "    df = pd.read_csv(filename)\n",
    "    df_all = pd.concat([df_all, df], ignore_index=True)\n",
    "df_all['Target model'] = target_models\n",
    "df_all['eps value'] = eps_values\n",
    "df_all = df_all[['eps value', 'Target model', 'avg_l2_norm', 'Linear_MNIST_test_accuray', 'MLP_MNIST_test_accuray',\n",
    "       'CNN_MNIST_test_accuray']]\n",
    "df_all.to_csv('Adversarial_Attacks_MNIST [FGSM Attack].csv', index=False)\n",
    "df_all"
   ]
  },
  {
   "cell_type": "markdown",
   "metadata": {
    "id": "mJo_YW3tqppJ"
   },
   "source": [
    "# Prepare the plots"
   ]
  },
  {
   "cell_type": "code",
   "execution_count": 15,
   "metadata": {},
   "outputs": [
    {
     "name": "stdout",
     "output_type": "stream",
     "text": [
      "Test accuracy on unperturbed data\n",
      "32/32 [==============================] - 0s 4ms/step - loss: 0.2790 - accuracy: 0.9190\n",
      "32/32 [==============================] - 0s 3ms/step - loss: 0.0963 - accuracy: 0.9740\n",
      "32/32 [==============================] - 0s 7ms/step - loss: 0.0597 - accuracy: 0.9790\n"
     ]
    },
    {
     "data": {
      "image/png": "[encoded data removed]",
      "text/plain": [
       "<Figure size 432x288 with 1 Axes>"
      ]
     },
     "metadata": {
      "needs_background": "light"
     },
     "output_type": "display_data"
    }
   ],
   "source": [
    "df_all = pd.read_csv('Adversarial_Attacks_MNIST [FGSM Attack].csv')\n",
    "df_Linear = df_all[df_all['Target model']=='Linear']\n",
    "print('Test accuracy on unperturbed data')\n",
    "_, accurcy_Linear = Linear_MNIST.evaluate(X_test[indexes],y_test[indexes]);\n",
    "_, accurcy_MLP = MLP_MNIST.evaluate(X_test[indexes],y_test[indexes]);\n",
    "_, accurcy_CNN = CNN_MNIST.evaluate(X_test[indexes],y_test[indexes]);\n",
    "df_Linear.loc[10] = [0, '-', 0, accurcy_Linear, accurcy_MLP, accurcy_CNN]\n",
    "df_Linear\n",
    "df_Linear = df_Linear.sort_values('avg_l2_norm', ascending=True)\n",
    "plt.plot(df_Linear['avg_l2_norm'],df_Linear['Linear_MNIST_test_accuray'],'o-')\n",
    "plt.plot(df_Linear['avg_l2_norm'],df_Linear['MLP_MNIST_test_accuray'],'o--')\n",
    "plt.plot(df_Linear['avg_l2_norm'],df_Linear['CNN_MNIST_test_accuray'],'o-.')\n",
    "plt.xlabel('Average $l_2$ norm of the perturbation')\n",
    "plt.ylabel('Test accuracy')\n",
    "plt.ylim([-0.1, 1.1])\n",
    "plt.legend(['Linear model', 'MLP model','CNN model'])\n",
    "plt.title('Effect of FGSM attack on MNIST \\nTraget model: Linear')\n",
    "plt.savefig('Effect of FGSM attack on MNIST for Linear model [l2 norm]', dpi=600)\n",
    "plt.show()"
   ]
  },
  {
   "cell_type": "code",
   "execution_count": 16,
   "metadata": {},
   "outputs": [
    {
     "name": "stdout",
     "output_type": "stream",
     "text": [
      "Test accuracy on unperturbed data\n",
      "32/32 [==============================] - 0s 3ms/step - loss: 0.2790 - accuracy: 0.9190\n",
      "32/32 [==============================] - 0s 3ms/step - loss: 0.0963 - accuracy: 0.9740\n",
      "32/32 [==============================] - 0s 6ms/step - loss: 0.0597 - accuracy: 0.9790\n"
     ]
    },
    {
     "data": {
      "image/png": "[encoded data removed]",
      "text/plain": [
       "<Figure size 432x288 with 1 Axes>"
      ]
     },
     "metadata": {
      "needs_background": "light"
     },
     "output_type": "display_data"
    }
   ],
   "source": [
    "df_all = pd.read_csv('Adversarial_Attacks_MNIST [FGSM Attack].csv')\n",
    "df_Linear = df_all[df_all['Target model']=='Linear']\n",
    "print('Test accuracy on unperturbed data')\n",
    "_, accurcy_Linear = Linear_MNIST.evaluate(X_test[indexes],y_test[indexes]);\n",
    "_, accurcy_MLP = MLP_MNIST.evaluate(X_test[indexes],y_test[indexes]);\n",
    "_, accurcy_CNN = CNN_MNIST.evaluate(X_test[indexes],y_test[indexes]);\n",
    "df_Linear.loc[10] = [0, '-', 0, accurcy_Linear, accurcy_MLP, accurcy_CNN]\n",
    "df_Linear\n",
    "df_Linear = df_Linear.sort_values('eps value', ascending=True)\n",
    "plt.plot(df_Linear['eps value'],df_Linear['Linear_MNIST_test_accuray'],'o-')\n",
    "plt.plot(df_Linear['eps value'],df_Linear['MLP_MNIST_test_accuray'],'o--')\n",
    "plt.plot(df_Linear['eps value'],df_Linear['CNN_MNIST_test_accuray'],'o-.')\n",
    "plt.xlabel('$\\epsilon$-parameter value')\n",
    "plt.ylabel('Test accuracy')\n",
    "plt.ylim([-0.1, 1.1])\n",
    "plt.legend(['Linear model', 'MLP model','CNN model'])\n",
    "plt.title('Effect of FGSM attack on MNIST \\nTraget model: Linear')\n",
    "plt.savefig('Effect of FGSM attack on MNIST for Linear model [eps value]', dpi=600)\n",
    "plt.show()"
   ]
  },
  {
   "cell_type": "code",
   "execution_count": 17,
   "metadata": {
    "id": "2MEsJ1GVqppK",
    "outputId": "4381a237-6cee-4417-8fd4-dae6e235da80"
   },
   "outputs": [
    {
     "name": "stdout",
     "output_type": "stream",
     "text": [
      "Test accuracy on unperturbed data\n",
      "32/32 [==============================] - 0s 3ms/step - loss: 0.2790 - accuracy: 0.9190\n",
      "32/32 [==============================] - 0s 3ms/step - loss: 0.0963 - accuracy: 0.9740\n",
      "32/32 [==============================] - 0s 6ms/step - loss: 0.0597 - accuracy: 0.9790\n"
     ]
    },
    {
     "data": {
      "image/png": "[encoded data removed]",
      "text/plain": [
       "<Figure size 432x288 with 1 Axes>"
      ]
     },
     "metadata": {
      "needs_background": "light"
     },
     "output_type": "display_data"
    }
   ],
   "source": [
    "df_all = pd.read_csv('Adversarial_Attacks_MNIST [FGSM Attack].csv')\n",
    "df_MLP = df_all[df_all['Target model']=='MLP']\n",
    "print('Test accuracy on unperturbed data')\n",
    "_, accurcy_Linear = Linear_MNIST.evaluate(X_test[indexes],y_test[indexes]);\n",
    "_, accurcy_MLP = MLP_MNIST.evaluate(X_test[indexes],y_test[indexes]);\n",
    "_, accurcy_CNN = CNN_MNIST.evaluate(X_test[indexes],y_test[indexes]);\n",
    "df_MLP.loc[10] = [0, '-', 0, accurcy_Linear, accurcy_MLP, accurcy_CNN]\n",
    "df_MLP\n",
    "df_MLP = df_MLP.sort_values('avg_l2_norm', ascending=True)\n",
    "plt.plot(df_MLP['avg_l2_norm'],df_MLP['Linear_MNIST_test_accuray'],'o-')\n",
    "plt.plot(df_MLP['avg_l2_norm'],df_MLP['MLP_MNIST_test_accuray'],'o--')\n",
    "plt.plot(df_MLP['avg_l2_norm'],df_MLP['CNN_MNIST_test_accuray'],'o-.')\n",
    "plt.xlabel('Average $l_2$ norm of the perturbation')\n",
    "plt.ylabel('Test accuracy')\n",
    "plt.ylim([-0.1, 1.1])\n",
    "plt.legend(['Linear model', 'MLP model','CNN model'])\n",
    "plt.title('Effect of FGSM attack on MNIST \\nTraget model: MLP')\n",
    "plt.savefig('Effect of FGSM attack on MNIST for MLP model [l2 norm]', dpi=600)\n",
    "plt.show()"
   ]
  },
  {
   "cell_type": "code",
   "execution_count": 20,
   "metadata": {},
   "outputs": [
    {
     "name": "stdout",
     "output_type": "stream",
     "text": [
      "Test accuracy on unperturbed data\n",
      "32/32 [==============================] - 0s 3ms/step - loss: 0.2790 - accuracy: 0.9190\n",
      "32/32 [==============================] - 0s 5ms/step - loss: 0.0963 - accuracy: 0.9740\n",
      "32/32 [==============================] - 0s 6ms/step - loss: 0.0597 - accuracy: 0.9790\n"
     ]
    },
    {
     "data": {
      "image/png": "[encoded data removed]",
      "text/plain": [
       "<Figure size 432x288 with 1 Axes>"
      ]
     },
     "metadata": {
      "needs_background": "light"
     },
     "output_type": "display_data"
    }
   ],
   "source": [
    "df_all = pd.read_csv('Adversarial_Attacks_MNIST [FGSM Attack].csv')\n",
    "df_MLP = df_all[df_all['Target model']=='MLP']\n",
    "print('Test accuracy on unperturbed data')\n",
    "_, accurcy_Linear = Linear_MNIST.evaluate(X_test[indexes],y_test[indexes]);\n",
    "_, accurcy_MLP = MLP_MNIST.evaluate(X_test[indexes],y_test[indexes]);\n",
    "_, accurcy_CNN = CNN_MNIST.evaluate(X_test[indexes],y_test[indexes]);\n",
    "df_MLP.loc[10] = [0, '-', 0, accurcy_Linear, accurcy_MLP, accurcy_CNN]\n",
    "df_MLP\n",
    "df_MLP = df_MLP.sort_values('eps value', ascending=True)\n",
    "plt.plot(df_MLP['eps value'],df_MLP['Linear_MNIST_test_accuray'],'o-')\n",
    "plt.plot(df_MLP['eps value'],df_MLP['MLP_MNIST_test_accuray'],'o--')\n",
    "plt.plot(df_MLP['eps value'],df_MLP['CNN_MNIST_test_accuray'],'o-.')\n",
    "plt.xlabel('$\\epsilon$-parameter value')\n",
    "plt.ylabel('Test accuracy')\n",
    "plt.ylim([-0.1, 1.1])\n",
    "plt.legend(['Linear model', 'MLP model','CNN model'])\n",
    "plt.title('Effect of FGSM attack on MNIST \\nTraget model: MLP')\n",
    "plt.savefig('Effect of FGSM attack on MNIST for MLP model [eps value]', dpi=600)\n",
    "plt.show()"
   ]
  },
  {
   "cell_type": "code",
   "execution_count": 18,
   "metadata": {
    "id": "oXwgXM_PqppM",
    "outputId": "414d663e-c907-494d-c046-c57e569ec4e5"
   },
   "outputs": [
    {
     "name": "stdout",
     "output_type": "stream",
     "text": [
      "Test accuracy on unperturbed data\n",
      "32/32 [==============================] - 0s 3ms/step - loss: 0.2790 - accuracy: 0.9190\n",
      "32/32 [==============================] - 0s 3ms/step - loss: 0.0963 - accuracy: 0.9740\n",
      "32/32 [==============================] - 0s 8ms/step - loss: 0.0597 - accuracy: 0.9790\n"
     ]
    },
    {
     "data": {
      "image/png": "[encoded data removed]",
      "text/plain": [
       "<Figure size 432x288 with 1 Axes>"
      ]
     },
     "metadata": {
      "needs_background": "light"
     },
     "output_type": "display_data"
    }
   ],
   "source": [
    "df_all = pd.read_csv('Adversarial_Attacks_MNIST [FGSM Attack].csv')\n",
    "df_CNN = df_all[df_all['Target model']=='CNN']\n",
    "print('Test accuracy on unperturbed data')\n",
    "_, accurcy_Linear = Linear_MNIST.evaluate(X_test[indexes],y_test[indexes]);\n",
    "_, accurcy_MLP = MLP_MNIST.evaluate(X_test[indexes],y_test[indexes]);\n",
    "_, accurcy_CNN = CNN_MNIST.evaluate(X_test[indexes],y_test[indexes]);\n",
    "df_CNN.loc[10] = [0, '-', 0, accurcy_Linear, accurcy_MLP, accurcy_CNN]\n",
    "df_CNN\n",
    "df_CNN = df_CNN.sort_values('avg_l2_norm', ascending=True)\n",
    "plt.plot(df_CNN['avg_l2_norm'],df_CNN['Linear_MNIST_test_accuray'],'o-')\n",
    "plt.plot(df_CNN['avg_l2_norm'],df_CNN['MLP_MNIST_test_accuray'],'o--')\n",
    "plt.plot(df_CNN['avg_l2_norm'],df_CNN['CNN_MNIST_test_accuray'],'o-.')\n",
    "plt.xlabel('Average $l_2$ norm of the perturbation')\n",
    "plt.ylabel('Test accuracy')\n",
    "plt.ylim([-0.1, 1.1])\n",
    "plt.legend(['Linear model', 'MLP model','CNN model'])\n",
    "plt.title('Effect of FGSM attack on MNIST \\nTraget model: CNN')\n",
    "plt.savefig('Effect of FGSM attack on MNIST for CNN model [l2 norm]', dpi=600)\n",
    "plt.show()"
   ]
  },
  {
   "cell_type": "code",
   "execution_count": 19,
   "metadata": {},
   "outputs": [
    {
     "name": "stdout",
     "output_type": "stream",
     "text": [
      "Test accuracy on unperturbed data\n",
      "32/32 [==============================] - 0s 3ms/step - loss: 0.2790 - accuracy: 0.9190\n",
      "32/32 [==============================] - 0s 3ms/step - loss: 0.0963 - accuracy: 0.9740\n",
      "32/32 [==============================] - 0s 6ms/step - loss: 0.0597 - accuracy: 0.9790\n"
     ]
    },
    {
     "data": {
      "image/png": "[encoded data removed]",
      "text/plain": [
       "<Figure size 432x288 with 1 Axes>"
      ]
     },
     "metadata": {
      "needs_background": "light"
     },
     "output_type": "display_data"
    }
   ],
   "source": [
    "df_all = pd.read_csv('Adversarial_Attacks_MNIST [FGSM Attack].csv')\n",
    "df_CNN = df_all[df_all['Target model']=='CNN']\n",
    "print('Test accuracy on unperturbed data')\n",
    "_, accurcy_Linear = Linear_MNIST.evaluate(X_test[indexes],y_test[indexes]);\n",
    "_, accurcy_MLP = MLP_MNIST.evaluate(X_test[indexes],y_test[indexes]);\n",
    "_, accurcy_CNN = CNN_MNIST.evaluate(X_test[indexes],y_test[indexes]);\n",
    "df_CNN.loc[10] = [0, '-', 0, accurcy_Linear, accurcy_MLP, accurcy_CNN]\n",
    "df_CNN\n",
    "df_CNN = df_CNN.sort_values('eps value', ascending=True)\n",
    "plt.plot(df_CNN['eps value'],df_CNN['Linear_MNIST_test_accuray'],'o-')\n",
    "plt.plot(df_CNN['eps value'],df_CNN['MLP_MNIST_test_accuray'],'o--')\n",
    "plt.plot(df_CNN['eps value'],df_CNN['CNN_MNIST_test_accuray'],'o-.')\n",
    "plt.xlabel('$\\epsilon$-parameter value')\n",
    "plt.ylabel('Test accuracy')\n",
    "plt.ylim([-0.1, 1.1])\n",
    "plt.legend(['Linear model', 'MLP model','CNN model'])\n",
    "plt.title('Effect of FGSM attack on MNIST \\nTraget model: CNN')\n",
    "plt.savefig('Effect of FGSM attack on MNIST for CNN model [eps value]', dpi=600)\n",
    "plt.show()"
   ]
  }
 ],
 "metadata": {
  "accelerator": "GPU",
  "colab": {
   "provenance": [
    {
     "file_id": "17t5wZdiu4KbtR9opaQcMZECSJAndropo",
     "timestamp": 1674347819943
    }
   ]
  },
  "gpuClass": "standard",
  "kernelspec": {
   "display_name": "Python 3",
   "language": "python",
   "name": "python3"
  },
  "language_info": {
   "codemirror_mode": {
    "name": "ipython",
    "version": 3
   },
   "file_extension": ".py",
   "mimetype": "text/x-python",
   "name": "python",
   "nbconvert_exporter": "python",
   "pygments_lexer": "ipython3",
   "version": "3.8.8"
  }
 },
 "nbformat": 4,
 "nbformat_minor": 1
}
