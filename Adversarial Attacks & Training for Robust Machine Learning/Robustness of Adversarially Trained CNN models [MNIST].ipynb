{
 "cells": [
  {
   "cell_type": "markdown",
   "metadata": {
    "id": "aiSUzqR_k38-"
   },
   "source": [
    "**Import packages**"
   ]
  },
  {
   "cell_type": "code",
   "execution_count": 32,
   "metadata": {
    "colab": {
     "base_uri": "https://localhost:8080/"
    },
    "executionInfo": {
     "elapsed": 6075,
     "status": "ok",
     "timestamp": 1678467624635,
     "user": {
      "displayName": "Nazmul Hasan",
      "userId": "02122416256231585764"
     },
     "user_tz": 420
    },
    "id": "ad5wwLh9culg",
    "outputId": "3a26d4f2-1957-4820-bcae-5a769878ff9c"
   },
   "outputs": [
    {
     "name": "stdout",
     "output_type": "stream",
     "text": [
      "Requirement already satisfied: pytictoc in c:\\programdata\\anaconda3\\lib\\site-packages (1.5.2)\n"
     ]
    }
   ],
   "source": [
    "!pip install pytictoc"
   ]
  },
  {
   "cell_type": "code",
   "execution_count": 33,
   "metadata": {
    "id": "TtE3hMD0_-HW",
    "outputId": "507021dc-f2a8-47e3-bc0e-5ec6062885fb"
   },
   "outputs": [
    {
     "name": "stdout",
     "output_type": "stream",
     "text": [
      "Requirement already satisfied: tensorflow in c:\\programdata\\anaconda3\\lib\\site-packages (2.11.0)\n",
      "Requirement already satisfied: tensorflow-intel==2.11.0 in c:\\programdata\\anaconda3\\lib\\site-packages (from tensorflow) (2.11.0)\n",
      "Requirement already satisfied: keras<2.12,>=2.11.0 in c:\\programdata\\anaconda3\\lib\\site-packages (from tensorflow-intel==2.11.0->tensorflow) (2.11.0)\n",
      "Requirement already satisfied: numpy>=1.20 in c:\\programdata\\anaconda3\\lib\\site-packages (from tensorflow-intel==2.11.0->tensorflow) (1.20.1)\n",
      "Requirement already satisfied: absl-py>=1.0.0 in c:\\programdata\\anaconda3\\lib\\site-packages (from tensorflow-intel==2.11.0->tensorflow) (1.4.0)\n",
      "Requirement already satisfied: google-pasta>=0.1.1 in c:\\programdata\\anaconda3\\lib\\site-packages (from tensorflow-intel==2.11.0->tensorflow) (0.2.0)\n",
      "Requirement already satisfied: termcolor>=1.1.0 in c:\\programdata\\anaconda3\\lib\\site-packages (from tensorflow-intel==2.11.0->tensorflow) (2.2.0)\n",
      "Requirement already satisfied: opt-einsum>=2.3.2 in c:\\programdata\\anaconda3\\lib\\site-packages (from tensorflow-intel==2.11.0->tensorflow) (3.3.0)\n",
      "Requirement already satisfied: libclang>=13.0.0 in c:\\programdata\\anaconda3\\lib\\site-packages (from tensorflow-intel==2.11.0->tensorflow) (15.0.6.1)\n",
      "Requirement already satisfied: setuptools in c:\\programdata\\anaconda3\\lib\\site-packages (from tensorflow-intel==2.11.0->tensorflow) (52.0.0.post20210125)\n",
      "Requirement already satisfied: h5py>=2.9.0 in c:\\programdata\\anaconda3\\lib\\site-packages (from tensorflow-intel==2.11.0->tensorflow) (2.10.0)\n",
      "Requirement already satisfied: packaging in c:\\programdata\\anaconda3\\lib\\site-packages (from tensorflow-intel==2.11.0->tensorflow) (20.9)\n",
      "Requirement already satisfied: grpcio<2.0,>=1.24.3 in c:\\programdata\\anaconda3\\lib\\site-packages (from tensorflow-intel==2.11.0->tensorflow) (1.51.3)\n",
      "Requirement already satisfied: tensorboard<2.12,>=2.11 in c:\\programdata\\anaconda3\\lib\\site-packages (from tensorflow-intel==2.11.0->tensorflow) (2.11.2)\n",
      "Requirement already satisfied: flatbuffers>=2.0 in c:\\programdata\\anaconda3\\lib\\site-packages (from tensorflow-intel==2.11.0->tensorflow) (23.3.3)\n",
      "Requirement already satisfied: six>=1.12.0 in c:\\programdata\\anaconda3\\lib\\site-packages (from tensorflow-intel==2.11.0->tensorflow) (1.15.0)\n",
      "Requirement already satisfied: tensorflow-io-gcs-filesystem>=0.23.1 in c:\\programdata\\anaconda3\\lib\\site-packages (from tensorflow-intel==2.11.0->tensorflow) (0.31.0)\n",
      "Requirement already satisfied: gast<=0.4.0,>=0.2.1 in c:\\programdata\\anaconda3\\lib\\site-packages (from tensorflow-intel==2.11.0->tensorflow) (0.4.0)\n",
      "Requirement already satisfied: protobuf<3.20,>=3.9.2 in c:\\programdata\\anaconda3\\lib\\site-packages (from tensorflow-intel==2.11.0->tensorflow) (3.19.6)\n",
      "Requirement already satisfied: astunparse>=1.6.0 in c:\\programdata\\anaconda3\\lib\\site-packages (from tensorflow-intel==2.11.0->tensorflow) (1.6.3)\n",
      "Requirement already satisfied: typing-extensions>=3.6.6 in c:\\programdata\\anaconda3\\lib\\site-packages (from tensorflow-intel==2.11.0->tensorflow) (3.7.4.3)\n",
      "Requirement already satisfied: wrapt>=1.11.0 in c:\\programdata\\anaconda3\\lib\\site-packages (from tensorflow-intel==2.11.0->tensorflow) (1.12.1)\n",
      "Requirement already satisfied: tensorflow-estimator<2.12,>=2.11.0 in c:\\programdata\\anaconda3\\lib\\site-packages (from tensorflow-intel==2.11.0->tensorflow) (2.11.0)\n",
      "Requirement already satisfied: wheel<1.0,>=0.23.0 in c:\\programdata\\anaconda3\\lib\\site-packages (from astunparse>=1.6.0->tensorflow-intel==2.11.0->tensorflow) (0.36.2)\n",
      "Requirement already satisfied: google-auth<3,>=1.6.3 in c:\\programdata\\anaconda3\\lib\\site-packages (from tensorboard<2.12,>=2.11->tensorflow-intel==2.11.0->tensorflow) (2.16.2)\n",
      "Requirement already satisfied: google-auth-oauthlib<0.5,>=0.4.1 in c:\\programdata\\anaconda3\\lib\\site-packages (from tensorboard<2.12,>=2.11->tensorflow-intel==2.11.0->tensorflow) (0.4.6)\n",
      "Requirement already satisfied: requests<3,>=2.21.0 in c:\\programdata\\anaconda3\\lib\\site-packages (from tensorboard<2.12,>=2.11->tensorflow-intel==2.11.0->tensorflow) (2.25.1)\n",
      "Requirement already satisfied: tensorboard-plugin-wit>=1.6.0 in c:\\programdata\\anaconda3\\lib\\site-packages (from tensorboard<2.12,>=2.11->tensorflow-intel==2.11.0->tensorflow) (1.8.1)\n",
      "Requirement already satisfied: tensorboard-data-server<0.7.0,>=0.6.0 in c:\\programdata\\anaconda3\\lib\\site-packages (from tensorboard<2.12,>=2.11->tensorflow-intel==2.11.0->tensorflow) (0.6.1)\n",
      "Requirement already satisfied: werkzeug>=1.0.1 in c:\\programdata\\anaconda3\\lib\\site-packages (from tensorboard<2.12,>=2.11->tensorflow-intel==2.11.0->tensorflow) (1.0.1)\n",
      "Requirement already satisfied: markdown>=2.6.8 in c:\\programdata\\anaconda3\\lib\\site-packages (from tensorboard<2.12,>=2.11->tensorflow-intel==2.11.0->tensorflow) (3.4.1)\n",
      "Requirement already satisfied: cachetools<6.0,>=2.0.0 in c:\\programdata\\anaconda3\\lib\\site-packages (from google-auth<3,>=1.6.3->tensorboard<2.12,>=2.11->tensorflow-intel==2.11.0->tensorflow) (5.3.0)\n",
      "Requirement already satisfied: rsa<5,>=3.1.4 in c:\\programdata\\anaconda3\\lib\\site-packages (from google-auth<3,>=1.6.3->tensorboard<2.12,>=2.11->tensorflow-intel==2.11.0->tensorflow) (4.9)\n",
      "Requirement already satisfied: pyasn1-modules>=0.2.1 in c:\\programdata\\anaconda3\\lib\\site-packages (from google-auth<3,>=1.6.3->tensorboard<2.12,>=2.11->tensorflow-intel==2.11.0->tensorflow) (0.2.8)\n",
      "Requirement already satisfied: requests-oauthlib>=0.7.0 in c:\\programdata\\anaconda3\\lib\\site-packages (from google-auth-oauthlib<0.5,>=0.4.1->tensorboard<2.12,>=2.11->tensorflow-intel==2.11.0->tensorflow) (1.3.1)\n",
      "Requirement already satisfied: importlib-metadata>=4.4 in c:\\programdata\\anaconda3\\lib\\site-packages (from markdown>=2.6.8->tensorboard<2.12,>=2.11->tensorflow-intel==2.11.0->tensorflow) (6.0.0)\n",
      "Requirement already satisfied: zipp>=0.5 in c:\\programdata\\anaconda3\\lib\\site-packages (from importlib-metadata>=4.4->markdown>=2.6.8->tensorboard<2.12,>=2.11->tensorflow-intel==2.11.0->tensorflow) (3.4.1)\n",
      "Requirement already satisfied: pyasn1<0.5.0,>=0.4.6 in c:\\programdata\\anaconda3\\lib\\site-packages (from pyasn1-modules>=0.2.1->google-auth<3,>=1.6.3->tensorboard<2.12,>=2.11->tensorflow-intel==2.11.0->tensorflow) (0.4.8)\n",
      "Requirement already satisfied: urllib3<1.27,>=1.21.1 in c:\\programdata\\anaconda3\\lib\\site-packages (from requests<3,>=2.21.0->tensorboard<2.12,>=2.11->tensorflow-intel==2.11.0->tensorflow) (1.26.4)\n",
      "Requirement already satisfied: chardet<5,>=3.0.2 in c:\\programdata\\anaconda3\\lib\\site-packages (from requests<3,>=2.21.0->tensorboard<2.12,>=2.11->tensorflow-intel==2.11.0->tensorflow) (4.0.0)\n",
      "Requirement already satisfied: idna<3,>=2.5 in c:\\programdata\\anaconda3\\lib\\site-packages (from requests<3,>=2.21.0->tensorboard<2.12,>=2.11->tensorflow-intel==2.11.0->tensorflow) (2.10)\n",
      "Requirement already satisfied: certifi>=2017.4.17 in c:\\programdata\\anaconda3\\lib\\site-packages (from requests<3,>=2.21.0->tensorboard<2.12,>=2.11->tensorflow-intel==2.11.0->tensorflow) (2020.12.5)\n",
      "Requirement already satisfied: oauthlib>=3.0.0 in c:\\programdata\\anaconda3\\lib\\site-packages (from requests-oauthlib>=0.7.0->google-auth-oauthlib<0.5,>=0.4.1->tensorboard<2.12,>=2.11->tensorflow-intel==2.11.0->tensorflow) (3.2.2)\n",
      "Requirement already satisfied: pyparsing>=2.0.2 in c:\\programdata\\anaconda3\\lib\\site-packages (from packaging->tensorflow-intel==2.11.0->tensorflow) (2.4.7)\n"
     ]
    }
   ],
   "source": [
    "!pip install tensorflow"
   ]
  },
  {
   "cell_type": "code",
   "execution_count": 34,
   "metadata": {
    "id": "_z7kPblcHOH1"
   },
   "outputs": [],
   "source": [
    "import random\n",
    "import tensorflow as tf\n",
    "import pandas as pd\n",
    "from tensorflow import keras\n",
    "from keras import datasets, layers, models\n",
    "import matplotlib.pyplot as plt\n",
    "import numpy as np\n",
    "import warnings\n",
    "from pytictoc import TicToc\n",
    "warnings.filterwarnings( \"ignore\" )"
   ]
  },
  {
   "cell_type": "markdown",
   "metadata": {
    "id": "e7iTQt51HOH3"
   },
   "source": [
    "**Load the dataset**"
   ]
  },
  {
   "cell_type": "code",
   "execution_count": 35,
   "metadata": {
    "colab": {
     "base_uri": "https://localhost:8080/"
    },
    "executionInfo": {
     "elapsed": 799,
     "status": "ok",
     "timestamp": 1678467635038,
     "user": {
      "displayName": "Nazmul Hasan",
      "userId": "02122416256231585764"
     },
     "user_tz": 420
    },
    "id": "rPRPSMuwHOH4",
    "outputId": "106fdb96-7d3c-4d9b-ba7d-85d264a97f1f"
   },
   "outputs": [
    {
     "data": {
      "text/plain": [
       "((60000, 28, 28), (60000,), (10000, 28, 28), (10000,))"
      ]
     },
     "execution_count": 35,
     "metadata": {},
     "output_type": "execute_result"
    }
   ],
   "source": [
    "(X_train, y_train), (X_test,y_test) = datasets.mnist.load_data()\n",
    "X_train.shape, y_train.shape, X_test.shape, y_test.shape"
   ]
  },
  {
   "cell_type": "markdown",
   "metadata": {
    "id": "gL5ypIWkHOIE"
   },
   "source": [
    "**Normalize the input data**"
   ]
  },
  {
   "cell_type": "code",
   "execution_count": 36,
   "metadata": {
    "id": "PxewI0kIHOIF"
   },
   "outputs": [],
   "source": [
    "X_train = X_train / 255.0\n",
    "X_test = X_test / 255.0"
   ]
  },
  {
   "cell_type": "markdown",
   "metadata": {
    "id": "Z_nl74yGFrHT"
   },
   "source": [
    "**Set directory to saved models**"
   ]
  },
  {
   "cell_type": "code",
   "execution_count": 37,
   "metadata": {
    "id": "Usv8lPonYXF0"
   },
   "outputs": [],
   "source": [
    "# from google.colab import drive\n",
    "# drive.mount('/content/gdrive')\n",
    "# %cd /content/gdrive/MyDrive/ECE 696B/Project - ECE696B\n",
    "# # %cd /content/gdrive/MyDrive/Colab Notebooks"
   ]
  },
  {
   "cell_type": "code",
   "execution_count": 38,
   "metadata": {
    "id": "DiuPFzjkDRUx",
    "outputId": "f51eb61f-de69-40ab-b783-db0bc084f705"
   },
   "outputs": [
    {
     "name": "stdout",
     "output_type": "stream",
     "text": [
      "C:\\Users\\nh202\\My Drive (nh202@arizona.edu)\\ECE 696B\\Project - ECE696B\n"
     ]
    }
   ],
   "source": [
    "%cd C:\\Users\\nh202\\My Drive (nh202@arizona.edu)\\ECE 696B\\Project - ECE696B"
   ]
  },
  {
   "cell_type": "code",
   "execution_count": 39,
   "metadata": {
    "id": "SAx4NoIYDgzZ"
   },
   "outputs": [],
   "source": [
    "from keras.models import load_model\n",
    "CNN_MNIST_base = load_model('CNN_MNIST.h5')\n",
    "CNN_MNIST_GNA_trained = load_model('CNN_MNIST_GNA_trained.h5')\n",
    "CNN_MNIST_FGSM_trained = load_model('CNN_MNIST_FGSM_trained.h5')\n",
    "CNN_MNIST_CW_trained = load_model('CNN_MNIST_CW_trained.h5')"
   ]
  },
  {
   "cell_type": "markdown",
   "metadata": {
    "id": "G1qA-8V5Z-eg"
   },
   "source": [
    "# Evaluate performance of CNN models"
   ]
  },
  {
   "cell_type": "markdown",
   "metadata": {
    "id": "uFedzBTJFx7-"
   },
   "source": [
    "**Performance on GNA adversarial examples**"
   ]
  },
  {
   "cell_type": "code",
   "execution_count": 40,
   "metadata": {
    "id": "rQRTiDohFlGt",
    "outputId": "addc75dc-265a-4d05-fc13-399e9f40aa4a"
   },
   "outputs": [
    {
     "name": "stdout",
     "output_type": "stream",
     "text": [
      "C:\\Users\\nh202\\OneDrive - University of Arizona\\Adversairal Examples - ECE 696B\\GNA\n"
     ]
    }
   ],
   "source": [
    "%cd C:\\Users\\nh202\\OneDrive - University of Arizona\\Adversairal Examples - ECE 696B\\GNA"
   ]
  },
  {
   "cell_type": "code",
   "execution_count": 41,
   "metadata": {
    "id": "6kV976-9EU-V",
    "outputId": "fffa23f5-bea0-46bc-b0f7-b2e7d4234b8b"
   },
   "outputs": [
    {
     "name": "stdout",
     "output_type": "stream",
     "text": [
      "Sigma value: 0.0\n",
      "Average l2 distance of the perturbation: 0.0\n",
      "\n",
      "Test accuracy on perturbed data\n",
      "32/32 [==============================] - 0s 6ms/step - loss: 0.0597 - accuracy: 0.9790\n",
      "32/32 [==============================] - 0s 6ms/step - loss: 0.0516 - accuracy: 0.9800\n",
      "32/32 [==============================] - 0s 6ms/step - loss: 0.0706 - accuracy: 0.9790\n",
      "32/32 [==============================] - 1s 6ms/step - loss: 0.0901 - accuracy: 0.9720\n",
      "\n",
      "\n",
      "Sigma value: 0.1\n",
      "Average l2 distance of the perturbation: 2.066130566536646\n",
      "\n",
      "Test accuracy on perturbed data\n",
      "32/32 [==============================] - 0s 6ms/step - loss: 0.0979 - accuracy: 0.9680\n",
      "32/32 [==============================] - 0s 6ms/step - loss: 0.0560 - accuracy: 0.9780\n",
      "32/32 [==============================] - 0s 6ms/step - loss: 0.1255 - accuracy: 0.9670\n",
      "32/32 [==============================] - 0s 9ms/step - loss: 2.2995 - accuracy: 0.1260\n",
      "\n",
      "\n",
      "Sigma value: 0.2\n",
      "Average l2 distance of the perturbation: 4.067851809879554\n",
      "\n",
      "Test accuracy on perturbed data\n",
      "32/32 [==============================] - 0s 8ms/step - loss: 0.6963 - accuracy: 0.8320\n",
      "32/32 [==============================] - 0s 10ms/step - loss: 0.0920 - accuracy: 0.9690\n",
      "32/32 [==============================] - 0s 7ms/step - loss: 0.6207 - accuracy: 0.8290\n",
      "32/32 [==============================] - 0s 6ms/step - loss: 2.2995 - accuracy: 0.1260\n",
      "\n",
      "\n",
      "Sigma value: 0.3\n",
      "Average l2 distance of the perturbation: 6.0360986091056335\n",
      "\n",
      "Test accuracy on perturbed data\n",
      "32/32 [==============================] - 0s 6ms/step - loss: 3.1227 - accuracy: 0.5550\n",
      "32/32 [==============================] - 0s 6ms/step - loss: 0.1902 - accuracy: 0.9470\n",
      "32/32 [==============================] - 0s 6ms/step - loss: 2.3733 - accuracy: 0.6310\n",
      "32/32 [==============================] - 0s 4ms/step - loss: 2.2995 - accuracy: 0.1260\n",
      "\n",
      "\n",
      "Sigma value: 0.4\n",
      "Average l2 distance of the perturbation: 7.875701370291492\n",
      "\n",
      "Test accuracy on perturbed data\n",
      "32/32 [==============================] - 0s 6ms/step - loss: 7.4161 - accuracy: 0.3860\n",
      "32/32 [==============================] - 0s 8ms/step - loss: 0.5720 - accuracy: 0.8550\n",
      "32/32 [==============================] - 0s 10ms/step - loss: 5.8143 - accuracy: 0.4140\n",
      "32/32 [==============================] - 0s 10ms/step - loss: 2.2995 - accuracy: 0.1260\n",
      "\n",
      "\n",
      "Sigma value: 0.5\n",
      "Average l2 distance of the perturbation: 9.512928544477452\n",
      "\n",
      "Test accuracy on perturbed data\n",
      "32/32 [==============================] - 0s 10ms/step - loss: 11.6514 - accuracy: 0.3020\n",
      "32/32 [==============================] - 0s 10ms/step - loss: 1.2868 - accuracy: 0.7270\n",
      "32/32 [==============================] - 0s 4ms/step - loss: 9.7738 - accuracy: 0.2810\n",
      "32/32 [==============================] - 0s 4ms/step - loss: 2.2995 - accuracy: 0.1260\n",
      "\n",
      "\n",
      "Sigma value: 0.6\n",
      "Average l2 distance of the perturbation: 10.834167591639122\n",
      "\n",
      "Test accuracy on perturbed data\n",
      "32/32 [==============================] - 0s 5ms/step - loss: 14.4904 - accuracy: 0.2570\n",
      "32/32 [==============================] - 0s 5ms/step - loss: 2.5766 - accuracy: 0.5430\n",
      "32/32 [==============================] - 0s 6ms/step - loss: 12.7753 - accuracy: 0.2460\n",
      "32/32 [==============================] - 0s 10ms/step - loss: 2.2995 - accuracy: 0.1260\n",
      "\n",
      "\n",
      "Sigma value: 0.7\n",
      "Average l2 distance of the perturbation: 11.929506341770034\n",
      "\n",
      "Test accuracy on perturbed data\n",
      "32/32 [==============================] - 0s 10ms/step - loss: 17.2374 - accuracy: 0.2460\n",
      "32/32 [==============================] - 0s 10ms/step - loss: 3.8141 - accuracy: 0.4530\n",
      "32/32 [==============================] - 0s 4ms/step - loss: 15.5952 - accuracy: 0.2000\n",
      "32/32 [==============================] - 0s 5ms/step - loss: 2.2995 - accuracy: 0.1260\n",
      "\n",
      "\n",
      "Sigma value: 0.8\n",
      "Average l2 distance of the perturbation: 12.802478547600437\n",
      "\n",
      "Test accuracy on perturbed data\n",
      "32/32 [==============================] - 0s 10ms/step - loss: 19.2598 - accuracy: 0.2140\n",
      "32/32 [==============================] - 0s 10ms/step - loss: 4.8657 - accuracy: 0.3810\n",
      "32/32 [==============================] - 0s 10ms/step - loss: 17.9274 - accuracy: 0.1780\n",
      "32/32 [==============================] - 0s 10ms/step - loss: 2.2995 - accuracy: 0.1260\n",
      "\n",
      "\n",
      "Sigma value: 0.9\n",
      "Average l2 distance of the perturbation: 13.493690626766867\n",
      "\n",
      "Test accuracy on perturbed data\n",
      "32/32 [==============================] - 0s 7ms/step - loss: 21.0284 - accuracy: 0.1900\n",
      "32/32 [==============================] - 0s 7ms/step - loss: 6.0455 - accuracy: 0.3140\n",
      "32/32 [==============================] - 0s 10ms/step - loss: 20.6191 - accuracy: 0.1520\n",
      "32/32 [==============================] - 0s 10ms/step - loss: 2.2995 - accuracy: 0.1260\n",
      "\n",
      "\n",
      "Sigma value: 1.0\n",
      "Average l2 distance of the perturbation: 14.064882254672023\n",
      "\n",
      "Test accuracy on perturbed data\n",
      "32/32 [==============================] - 0s 10ms/step - loss: 22.2811 - accuracy: 0.1960\n",
      "32/32 [==============================] - 0s 4ms/step - loss: 7.0334 - accuracy: 0.2670\n",
      "32/32 [==============================] - 0s 4ms/step - loss: 20.5525 - accuracy: 0.1490\n",
      "32/32 [==============================] - 0s 6ms/step - loss: 2.2995 - accuracy: 0.1260\n",
      "\n",
      "\n"
     ]
    }
   ],
   "source": [
    "indexes = range(1000)\n",
    "sigmas = np.arange(0,1.1,0.1)\n",
    "stored_results = []\n",
    "for i in sigmas:\n",
    "  print(f'Sigma value: {np.round(i,1)}')\n",
    "  stored_results.append(i)\n",
    "    \n",
    "  filename = 'MNIST_X_test_noisy_GNA_sigma' + str(np.round(i,1)) + '.npy'\n",
    "  X_test_noisy = np.load(filename)\n",
    "  \n",
    "  avg_l2_norm = np.mean(np.sqrt(np.sum((X_test_noisy-X_test[indexes])**2, axis=(1,2))))\n",
    "  stored_results.append(avg_l2_norm)\n",
    "  print(\"Average l2 distance of the perturbation:\", avg_l2_norm)\n",
    "\n",
    "  print('\\nTest accuracy on perturbed data')\n",
    "  _,accuracy = CNN_MNIST_base.evaluate(X_test_noisy,y_test[indexes])\n",
    "  stored_results.append(accuracy)\n",
    "\n",
    "  _,accuracy = CNN_MNIST_GNA_trained.evaluate(X_test_noisy,y_test[indexes])\n",
    "  stored_results.append(accuracy)\n",
    "\n",
    "  _,accuracy = CNN_MNIST_FGSM_trained.evaluate(X_test_noisy,y_test[indexes])\n",
    "  stored_results.append(accuracy)\n",
    "\n",
    "  _,accuracy = CNN_MNIST_CW_trained.evaluate(X_test_noisy,y_test[indexes])\n",
    "  stored_results.append(accuracy)\n",
    "\n",
    "  print('\\n')"
   ]
  },
  {
   "cell_type": "code",
   "execution_count": 42,
   "metadata": {
    "id": "ISyENOQPEovC",
    "outputId": "6dcda473-5f92-4339-fa09-e6ef34199eb6"
   },
   "outputs": [
    {
     "data": {
      "text/html": [
       "<div>\n",
       "<style scoped>\n",
       "    .dataframe tbody tr th:only-of-type {\n",
       "        vertical-align: middle;\n",
       "    }\n",
       "\n",
       "    .dataframe tbody tr th {\n",
       "        vertical-align: top;\n",
       "    }\n",
       "\n",
       "    .dataframe thead th {\n",
       "        text-align: right;\n",
       "    }\n",
       "</style>\n",
       "<table border=\"1\" class=\"dataframe\">\n",
       "  <thead>\n",
       "    <tr style=\"text-align: right;\">\n",
       "      <th></th>\n",
       "      <th>sigma</th>\n",
       "      <th>avg_l2_norm</th>\n",
       "      <th>CNN_MNIST_base</th>\n",
       "      <th>CNN_MNIST_GNA_trained</th>\n",
       "      <th>CNN_MNIST_FGSM_trained</th>\n",
       "      <th>CNN_MNIST_CW_trained</th>\n",
       "    </tr>\n",
       "  </thead>\n",
       "  <tbody>\n",
       "    <tr>\n",
       "      <th>0</th>\n",
       "      <td>0.0</td>\n",
       "      <td>0.000000</td>\n",
       "      <td>0.979</td>\n",
       "      <td>0.980</td>\n",
       "      <td>0.979</td>\n",
       "      <td>0.972</td>\n",
       "    </tr>\n",
       "    <tr>\n",
       "      <th>1</th>\n",
       "      <td>0.1</td>\n",
       "      <td>2.066131</td>\n",
       "      <td>0.968</td>\n",
       "      <td>0.978</td>\n",
       "      <td>0.967</td>\n",
       "      <td>0.126</td>\n",
       "    </tr>\n",
       "    <tr>\n",
       "      <th>2</th>\n",
       "      <td>0.2</td>\n",
       "      <td>4.067852</td>\n",
       "      <td>0.832</td>\n",
       "      <td>0.969</td>\n",
       "      <td>0.829</td>\n",
       "      <td>0.126</td>\n",
       "    </tr>\n",
       "    <tr>\n",
       "      <th>3</th>\n",
       "      <td>0.3</td>\n",
       "      <td>6.036099</td>\n",
       "      <td>0.555</td>\n",
       "      <td>0.947</td>\n",
       "      <td>0.631</td>\n",
       "      <td>0.126</td>\n",
       "    </tr>\n",
       "    <tr>\n",
       "      <th>4</th>\n",
       "      <td>0.4</td>\n",
       "      <td>7.875701</td>\n",
       "      <td>0.386</td>\n",
       "      <td>0.855</td>\n",
       "      <td>0.414</td>\n",
       "      <td>0.126</td>\n",
       "    </tr>\n",
       "    <tr>\n",
       "      <th>5</th>\n",
       "      <td>0.5</td>\n",
       "      <td>9.512929</td>\n",
       "      <td>0.302</td>\n",
       "      <td>0.727</td>\n",
       "      <td>0.281</td>\n",
       "      <td>0.126</td>\n",
       "    </tr>\n",
       "    <tr>\n",
       "      <th>6</th>\n",
       "      <td>0.6</td>\n",
       "      <td>10.834168</td>\n",
       "      <td>0.257</td>\n",
       "      <td>0.543</td>\n",
       "      <td>0.246</td>\n",
       "      <td>0.126</td>\n",
       "    </tr>\n",
       "    <tr>\n",
       "      <th>7</th>\n",
       "      <td>0.7</td>\n",
       "      <td>11.929506</td>\n",
       "      <td>0.246</td>\n",
       "      <td>0.453</td>\n",
       "      <td>0.200</td>\n",
       "      <td>0.126</td>\n",
       "    </tr>\n",
       "    <tr>\n",
       "      <th>8</th>\n",
       "      <td>0.8</td>\n",
       "      <td>12.802479</td>\n",
       "      <td>0.214</td>\n",
       "      <td>0.381</td>\n",
       "      <td>0.178</td>\n",
       "      <td>0.126</td>\n",
       "    </tr>\n",
       "    <tr>\n",
       "      <th>9</th>\n",
       "      <td>0.9</td>\n",
       "      <td>13.493691</td>\n",
       "      <td>0.190</td>\n",
       "      <td>0.314</td>\n",
       "      <td>0.152</td>\n",
       "      <td>0.126</td>\n",
       "    </tr>\n",
       "    <tr>\n",
       "      <th>10</th>\n",
       "      <td>1.0</td>\n",
       "      <td>14.064882</td>\n",
       "      <td>0.196</td>\n",
       "      <td>0.267</td>\n",
       "      <td>0.149</td>\n",
       "      <td>0.126</td>\n",
       "    </tr>\n",
       "  </tbody>\n",
       "</table>\n",
       "</div>"
      ],
      "text/plain": [
       "    sigma  avg_l2_norm  CNN_MNIST_base  CNN_MNIST_GNA_trained  \\\n",
       "0     0.0     0.000000           0.979                  0.980   \n",
       "1     0.1     2.066131           0.968                  0.978   \n",
       "2     0.2     4.067852           0.832                  0.969   \n",
       "3     0.3     6.036099           0.555                  0.947   \n",
       "4     0.4     7.875701           0.386                  0.855   \n",
       "5     0.5     9.512929           0.302                  0.727   \n",
       "6     0.6    10.834168           0.257                  0.543   \n",
       "7     0.7    11.929506           0.246                  0.453   \n",
       "8     0.8    12.802479           0.214                  0.381   \n",
       "9     0.9    13.493691           0.190                  0.314   \n",
       "10    1.0    14.064882           0.196                  0.267   \n",
       "\n",
       "    CNN_MNIST_FGSM_trained  CNN_MNIST_CW_trained  \n",
       "0                    0.979                 0.972  \n",
       "1                    0.967                 0.126  \n",
       "2                    0.829                 0.126  \n",
       "3                    0.631                 0.126  \n",
       "4                    0.414                 0.126  \n",
       "5                    0.281                 0.126  \n",
       "6                    0.246                 0.126  \n",
       "7                    0.200                 0.126  \n",
       "8                    0.178                 0.126  \n",
       "9                    0.152                 0.126  \n",
       "10                   0.149                 0.126  "
      ]
     },
     "execution_count": 42,
     "metadata": {},
     "output_type": "execute_result"
    }
   ],
   "source": [
    "stored_results = np.array(stored_results)\n",
    "stored_results = stored_results.reshape(-1,6)\n",
    "df = pd.DataFrame(stored_results, columns = ['sigma','avg_l2_norm','CNN_MNIST_base',\\\n",
    "                                 'CNN_MNIST_GNA_trained','CNN_MNIST_FGSM_trained','CNN_MNIST_CW_trained'])\n",
    "df.to_csv('Performance of adversarially trained CNN models on GNA [MNIST].csv', index=False)\n",
    "df"
   ]
  },
  {
   "cell_type": "code",
   "execution_count": 43,
   "metadata": {
    "id": "Q6CDjIErGGcJ",
    "outputId": "579e6f0a-ce4f-4ee7-b258-3fb3bde37e9c"
   },
   "outputs": [
    {
     "data": {
      "image/png": "[encoded data removed]",
      "text/plain": [
       "<Figure size 432x288 with 1 Axes>"
      ]
     },
     "metadata": {
      "needs_background": "light"
     },
     "output_type": "display_data"
    }
   ],
   "source": [
    "df = pd.read_csv('Performance of adversarially trained CNN models on GNA [MNIST].csv')\n",
    "plt.plot(df['avg_l2_norm'],df['CNN_MNIST_base'],'o--', color = 'C2')\n",
    "plt.plot(df['avg_l2_norm'],df['CNN_MNIST_GNA_trained'],'*-', color = 'C2')\n",
    "plt.plot(df['avg_l2_norm'],df['CNN_MNIST_FGSM_trained'],'v-', color = 'C2')\n",
    "plt.plot(df['avg_l2_norm'],df['CNN_MNIST_CW_trained'],'d-', color = 'C2')\n",
    "\n",
    "\n",
    "plt.xlabel('Average $l_2$ norm of the perturbation')\n",
    "plt.ylabel('Test accuracy')\n",
    "plt.ylim([-0.1, 1.1])\n",
    "plt.legend(['CNN_MNIST (base)', 'CNN_MNIST (GNA trained)',\\\n",
    "            'CNN_MNIST (FGSM trained)', 'CNN_MNIST (CW trained)'])\n",
    "plt.title('Effect of Gaussian noise attack on MNIST')\n",
    "plt.savefig('Adversarially trained CNN models GNA on MNIST [l2 norm]', dpi=600)\n",
    "plt.show()"
   ]
  },
  {
   "cell_type": "markdown",
   "metadata": {
    "id": "5OWZCnHeSBli"
   },
   "source": [
    "**Performance on FGSM adversarial examples**"
   ]
  },
  {
   "cell_type": "code",
   "execution_count": 44,
   "metadata": {
    "id": "SNkDU3eLSBli",
    "outputId": "b9afa6ef-903c-4134-cff6-eabd74374608"
   },
   "outputs": [
    {
     "name": "stdout",
     "output_type": "stream",
     "text": [
      "C:\\Users\\nh202\\OneDrive - University of Arizona\\Adversairal Examples - ECE 696B\\FGSM\n"
     ]
    }
   ],
   "source": [
    "%cd C:\\Users\\nh202\\OneDrive - University of Arizona\\Adversairal Examples - ECE 696B\\FGSM"
   ]
  },
  {
   "cell_type": "code",
   "execution_count": 45,
   "metadata": {
    "id": "ys_OE3HhSBli",
    "outputId": "3842f2d3-cd60-488f-9b2f-4c3d2348b04c"
   },
   "outputs": [
    {
     "name": "stdout",
     "output_type": "stream",
     "text": [
      "eps value: 0.1\n",
      "32/32 [==============================] - 0s 4ms/step - loss: 2.6504 - accuracy: 0.4390\n",
      "32/32 [==============================] - 0s 8ms/step - loss: 1.3563 - accuracy: 0.6630\n",
      "32/32 [==============================] - 0s 8ms/step - loss: 0.0317 - accuracy: 0.9910\n",
      "32/32 [==============================] - 0s 4ms/step - loss: 2.2995 - accuracy: 0.1260\n",
      "eps value: 0.2\n",
      "32/32 [==============================] - 0s 4ms/step - loss: 8.7979 - accuracy: 0.1520\n",
      "32/32 [==============================] - 0s 4ms/step - loss: 5.6009 - accuracy: 0.1690\n",
      "32/32 [==============================] - 0s 7ms/step - loss: 0.0209 - accuracy: 0.9940\n",
      "32/32 [==============================] - 0s 4ms/step - loss: 2.2995 - accuracy: 0.1260\n",
      "eps value: 0.3\n",
      "32/32 [==============================] - 0s 6ms/step - loss: 14.5256 - accuracy: 0.0910\n",
      "32/32 [==============================] - 0s 5ms/step - loss: 10.0209 - accuracy: 0.0600\n",
      "32/32 [==============================] - 0s 3ms/step - loss: 0.0158 - accuracy: 0.9940\n",
      "32/32 [==============================] - 0s 5ms/step - loss: 2.2995 - accuracy: 0.1260\n",
      "eps value: 0.4\n",
      "32/32 [==============================] - 0s 4ms/step - loss: 19.8316 - accuracy: 0.0600\n",
      "32/32 [==============================] - 0s 6ms/step - loss: 13.5228 - accuracy: 0.0310\n",
      "32/32 [==============================] - 0s 6ms/step - loss: 0.0369 - accuracy: 0.9900\n",
      "32/32 [==============================] - 0s 4ms/step - loss: 2.2995 - accuracy: 0.1260\n",
      "eps value: 0.5\n",
      "32/32 [==============================] - 0s 7ms/step - loss: 24.8739 - accuracy: 0.0350\n",
      "32/32 [==============================] - 0s 4ms/step - loss: 16.4202 - accuracy: 0.0220\n",
      "32/32 [==============================] - 0s 4ms/step - loss: 0.1158 - accuracy: 0.9800\n",
      "32/32 [==============================] - 0s 4ms/step - loss: 2.2995 - accuracy: 0.1260\n",
      "eps value: 0.6\n",
      "32/32 [==============================] - 0s 4ms/step - loss: 29.4742 - accuracy: 0.0270\n",
      "32/32 [==============================] - 0s 6ms/step - loss: 18.7637 - accuracy: 0.0170\n",
      "32/32 [==============================] - 0s 6ms/step - loss: 0.2327 - accuracy: 0.9700\n",
      "32/32 [==============================] - 0s 6ms/step - loss: 2.2995 - accuracy: 0.1260\n",
      "eps value: 0.7\n",
      "32/32 [==============================] - 0s 4ms/step - loss: 33.5380 - accuracy: 0.0250\n",
      "32/32 [==============================] - 0s 6ms/step - loss: 20.5918 - accuracy: 0.0170\n",
      "32/32 [==============================] - 0s 6ms/step - loss: 0.3666 - accuracy: 0.9610\n",
      "32/32 [==============================] - 0s 6ms/step - loss: 2.2995 - accuracy: 0.1260\n",
      "eps value: 0.8\n",
      "32/32 [==============================] - 0s 4ms/step - loss: 37.3290 - accuracy: 0.0290\n",
      "32/32 [==============================] - 0s 4ms/step - loss: 22.5789 - accuracy: 0.0170\n",
      "32/32 [==============================] - 0s 6ms/step - loss: 0.5175 - accuracy: 0.9470\n",
      "32/32 [==============================] - 0s 6ms/step - loss: 2.2995 - accuracy: 0.1260\n",
      "eps value: 0.9\n",
      "32/32 [==============================] - 0s 9ms/step - loss: 41.1113 - accuracy: 0.0380\n",
      "32/32 [==============================] - 0s 8ms/step - loss: 25.0574 - accuracy: 0.0220\n",
      "32/32 [==============================] - 0s 5ms/step - loss: 0.6762 - accuracy: 0.9380\n",
      "32/32 [==============================] - 0s 6ms/step - loss: 2.2995 - accuracy: 0.1260\n",
      "eps value: 1.0\n",
      "32/32 [==============================] - 0s 4ms/step - loss: 45.1943 - accuracy: 0.0430\n",
      "32/32 [==============================] - 0s 4ms/step - loss: 28.1563 - accuracy: 0.0260\n",
      "32/32 [==============================] - 0s 3ms/step - loss: 0.8406 - accuracy: 0.9350\n",
      "32/32 [==============================] - 0s 4ms/step - loss: 2.2995 - accuracy: 0.1260\n"
     ]
    }
   ],
   "source": [
    "indexes = range(1000)\n",
    "stored_results = []\n",
    "for eps in np.arange(0.1,1.1,0.1):\n",
    "    \n",
    "  print(f'eps value: {np.round(eps,1)}')\n",
    "  stored_results.append(eps)\n",
    "\n",
    "  np_array_filename = 'MNIST_FGSM_'+ str(len(indexes)) +'_adv_examples_eps_'+ str(round(eps,1)) + '.npz'\n",
    "  data = np.load(np_array_filename)\n",
    "\n",
    "  # access the arrays using their keys\n",
    "  X_test_FGSM_CNN = data['X_test_FGSM_CNN']\n",
    "\n",
    "  avg_l2_norm_CNN = np.mean(np.sqrt(np.sum((X_test_FGSM_CNN-X_test[:len(indexes)])**2, axis=(1,2))))\n",
    "  stored_results.append(avg_l2_norm_CNN)\n",
    "    \n",
    "  _,accuracy = CNN_MNIST_base.evaluate(X_test_FGSM_CNN[indexes],y_test[indexes])\n",
    "  stored_results.append(accuracy)\n",
    "\n",
    "  _,accuracy = CNN_MNIST_GNA_trained.evaluate(X_test_FGSM_CNN[indexes],y_test[indexes])\n",
    "  stored_results.append(accuracy)\n",
    "\n",
    "  _,accuracy = CNN_MNIST_FGSM_trained.evaluate(X_test_FGSM_CNN[indexes],y_test[indexes])\n",
    "  stored_results.append(accuracy)\n",
    "\n",
    "  _,accuracy = CNN_MNIST_CW_trained.evaluate(X_test_FGSM_CNN[indexes],y_test[indexes])\n",
    "  stored_results.append(accuracy)\n",
    "    "
   ]
  },
  {
   "cell_type": "code",
   "execution_count": 46,
   "metadata": {
    "id": "kT0RwecOSBli",
    "outputId": "0a7e58f6-8982-4166-8c39-c3cc9ba84fc4"
   },
   "outputs": [
    {
     "data": {
      "text/html": [
       "<div>\n",
       "<style scoped>\n",
       "    .dataframe tbody tr th:only-of-type {\n",
       "        vertical-align: middle;\n",
       "    }\n",
       "\n",
       "    .dataframe tbody tr th {\n",
       "        vertical-align: top;\n",
       "    }\n",
       "\n",
       "    .dataframe thead th {\n",
       "        text-align: right;\n",
       "    }\n",
       "</style>\n",
       "<table border=\"1\" class=\"dataframe\">\n",
       "  <thead>\n",
       "    <tr style=\"text-align: right;\">\n",
       "      <th></th>\n",
       "      <th>sigma</th>\n",
       "      <th>avg_l2_norm</th>\n",
       "      <th>CNN_MNIST_base</th>\n",
       "      <th>CNN_MNIST_GNA_trained</th>\n",
       "      <th>CNN_MNIST_FGSM_trained</th>\n",
       "      <th>CNN_MNIST_CW_trained</th>\n",
       "    </tr>\n",
       "  </thead>\n",
       "  <tbody>\n",
       "    <tr>\n",
       "      <th>0</th>\n",
       "      <td>0.1</td>\n",
       "      <td>2.139995</td>\n",
       "      <td>0.439</td>\n",
       "      <td>0.663</td>\n",
       "      <td>0.991</td>\n",
       "      <td>0.126</td>\n",
       "    </tr>\n",
       "    <tr>\n",
       "      <th>1</th>\n",
       "      <td>0.2</td>\n",
       "      <td>4.248348</td>\n",
       "      <td>0.152</td>\n",
       "      <td>0.169</td>\n",
       "      <td>0.994</td>\n",
       "      <td>0.126</td>\n",
       "    </tr>\n",
       "    <tr>\n",
       "      <th>2</th>\n",
       "      <td>0.3</td>\n",
       "      <td>6.331492</td>\n",
       "      <td>0.091</td>\n",
       "      <td>0.060</td>\n",
       "      <td>0.994</td>\n",
       "      <td>0.126</td>\n",
       "    </tr>\n",
       "    <tr>\n",
       "      <th>3</th>\n",
       "      <td>0.4</td>\n",
       "      <td>8.392001</td>\n",
       "      <td>0.060</td>\n",
       "      <td>0.031</td>\n",
       "      <td>0.990</td>\n",
       "      <td>0.126</td>\n",
       "    </tr>\n",
       "    <tr>\n",
       "      <th>4</th>\n",
       "      <td>0.5</td>\n",
       "      <td>10.429860</td>\n",
       "      <td>0.035</td>\n",
       "      <td>0.022</td>\n",
       "      <td>0.980</td>\n",
       "      <td>0.126</td>\n",
       "    </tr>\n",
       "    <tr>\n",
       "      <th>5</th>\n",
       "      <td>0.6</td>\n",
       "      <td>12.439137</td>\n",
       "      <td>0.027</td>\n",
       "      <td>0.017</td>\n",
       "      <td>0.970</td>\n",
       "      <td>0.126</td>\n",
       "    </tr>\n",
       "    <tr>\n",
       "      <th>6</th>\n",
       "      <td>0.7</td>\n",
       "      <td>14.423671</td>\n",
       "      <td>0.025</td>\n",
       "      <td>0.017</td>\n",
       "      <td>0.961</td>\n",
       "      <td>0.126</td>\n",
       "    </tr>\n",
       "    <tr>\n",
       "      <th>7</th>\n",
       "      <td>0.8</td>\n",
       "      <td>16.379772</td>\n",
       "      <td>0.029</td>\n",
       "      <td>0.017</td>\n",
       "      <td>0.947</td>\n",
       "      <td>0.126</td>\n",
       "    </tr>\n",
       "    <tr>\n",
       "      <th>8</th>\n",
       "      <td>0.9</td>\n",
       "      <td>18.300023</td>\n",
       "      <td>0.038</td>\n",
       "      <td>0.022</td>\n",
       "      <td>0.938</td>\n",
       "      <td>0.126</td>\n",
       "    </tr>\n",
       "    <tr>\n",
       "      <th>9</th>\n",
       "      <td>1.0</td>\n",
       "      <td>20.159997</td>\n",
       "      <td>0.043</td>\n",
       "      <td>0.026</td>\n",
       "      <td>0.935</td>\n",
       "      <td>0.126</td>\n",
       "    </tr>\n",
       "  </tbody>\n",
       "</table>\n",
       "</div>"
      ],
      "text/plain": [
       "   sigma  avg_l2_norm  CNN_MNIST_base  CNN_MNIST_GNA_trained  \\\n",
       "0    0.1     2.139995           0.439                  0.663   \n",
       "1    0.2     4.248348           0.152                  0.169   \n",
       "2    0.3     6.331492           0.091                  0.060   \n",
       "3    0.4     8.392001           0.060                  0.031   \n",
       "4    0.5    10.429860           0.035                  0.022   \n",
       "5    0.6    12.439137           0.027                  0.017   \n",
       "6    0.7    14.423671           0.025                  0.017   \n",
       "7    0.8    16.379772           0.029                  0.017   \n",
       "8    0.9    18.300023           0.038                  0.022   \n",
       "9    1.0    20.159997           0.043                  0.026   \n",
       "\n",
       "   CNN_MNIST_FGSM_trained  CNN_MNIST_CW_trained  \n",
       "0                   0.991                 0.126  \n",
       "1                   0.994                 0.126  \n",
       "2                   0.994                 0.126  \n",
       "3                   0.990                 0.126  \n",
       "4                   0.980                 0.126  \n",
       "5                   0.970                 0.126  \n",
       "6                   0.961                 0.126  \n",
       "7                   0.947                 0.126  \n",
       "8                   0.938                 0.126  \n",
       "9                   0.935                 0.126  "
      ]
     },
     "execution_count": 46,
     "metadata": {},
     "output_type": "execute_result"
    }
   ],
   "source": [
    "stored_results = np.array(stored_results)\n",
    "stored_results = stored_results.reshape(-1,6)\n",
    "df = pd.DataFrame(stored_results, columns = ['sigma','avg_l2_norm','CNN_MNIST_base',\\\n",
    "                                 'CNN_MNIST_GNA_trained','CNN_MNIST_FGSM_trained','CNN_MNIST_CW_trained'])\n",
    "df.to_csv('Performance of adversarially trained CNN models on FGSM [MNIST].csv', index=False)\n",
    "df"
   ]
  },
  {
   "cell_type": "code",
   "execution_count": 47,
   "metadata": {
    "id": "RLIMt6nYSBlj",
    "outputId": "fef60408-3c2e-473d-9361-e60b88ab4d85"
   },
   "outputs": [
    {
     "name": "stdout",
     "output_type": "stream",
     "text": [
      "Test accuracy on unperturbed data\n",
      "32/32 [==============================] - 0s 6ms/step - loss: 0.0597 - accuracy: 0.9790\n",
      "32/32 [==============================] - 0s 10ms/step - loss: 0.0516 - accuracy: 0.9800\n",
      "32/32 [==============================] - 0s 9ms/step - loss: 0.0706 - accuracy: 0.9790\n",
      "32/32 [==============================] - 0s 9ms/step - loss: 0.0901 - accuracy: 0.9720\n"
     ]
    },
    {
     "data": {
      "image/png": "[encoded data removed]",
      "text/plain": [
       "<Figure size 432x288 with 1 Axes>"
      ]
     },
     "metadata": {
      "needs_background": "light"
     },
     "output_type": "display_data"
    }
   ],
   "source": [
    "df = pd.read_csv('Performance of adversarially trained CNN models on FGSM [MNIST].csv')\n",
    "\n",
    "df = df.shift(1)\n",
    "print('Test accuracy on unperturbed data')\n",
    "_, accuracy_base = CNN_MNIST_base.evaluate(X_test[indexes],y_test[indexes]);\n",
    "_, accuracy_GNA_trained = CNN_MNIST_GNA_trained.evaluate(X_test[indexes],y_test[indexes]);\n",
    "_, accuracy_FGSM_trained = CNN_MNIST_FGSM_trained.evaluate(X_test[indexes],y_test[indexes]);\n",
    "_, accuracy_CW_trained = CNN_MNIST_CW_trained.evaluate(X_test[indexes],y_test[indexes]);\n",
    "df.iloc[0] = [0, 0, accuracy_base, accuracy_GNA_trained, accuracy_FGSM_trained, accuracy_CW_trained]\n",
    "\n",
    "plt.plot(df['avg_l2_norm'],df['CNN_MNIST_base'],'o--', color = 'C2')\n",
    "plt.plot(df['avg_l2_norm'],df['CNN_MNIST_GNA_trained'],'*-', color = 'C2')\n",
    "plt.plot(df['avg_l2_norm'],df['CNN_MNIST_FGSM_trained'],'v-', color = 'C2')\n",
    "plt.plot(df['avg_l2_norm'],df['CNN_MNIST_CW_trained'],'d-', color = 'C2')\n",
    "\n",
    "\n",
    "plt.xlabel('Average $l_2$ norm of the perturbation')\n",
    "plt.ylabel('Test accuracy')\n",
    "plt.ylim([-0.1, 1.1])\n",
    "plt.legend(['CNN_MNIST (base)', 'CNN_MNIST (GNA trained)',\\\n",
    "            'CNN_MNIST (FGSM trained)', 'CNN_MNIST (CW trained)'])\n",
    "plt.title('Effect of FGSM attack on MNIST')\n",
    "plt.savefig('Adversarially trained CNN models FGSM on MNIST [l2 norm]', dpi=600)\n",
    "plt.show()"
   ]
  },
  {
   "cell_type": "markdown",
   "metadata": {
    "id": "rD-TVooLSBlj"
   },
   "source": [
    "**Performance on CW adversarial examples**"
   ]
  },
  {
   "cell_type": "code",
   "execution_count": 48,
   "metadata": {
    "id": "dHxS_oIVSBlj",
    "outputId": "94a2aaf8-9e15-47a9-843a-833962590fae"
   },
   "outputs": [
    {
     "name": "stdout",
     "output_type": "stream",
     "text": [
      "C:\\Users\\nh202\\OneDrive - University of Arizona\\Adversairal Examples - ECE 696B\\CW\n"
     ]
    }
   ],
   "source": [
    "%cd C:\\Users\\nh202\\OneDrive - University of Arizona\\Adversairal Examples - ECE 696B\\CW"
   ]
  },
  {
   "cell_type": "code",
   "execution_count": 49,
   "metadata": {
    "id": "CFO1WsKFSBlj",
    "outputId": "52787070-94fb-4a57-9942-cf517e41023e"
   },
   "outputs": [
    {
     "name": "stdout",
     "output_type": "stream",
     "text": [
      "32/32 [==============================] - 0s 5ms/step - loss: 16.7541 - accuracy: 0.0180\n",
      "32/32 [==============================] - 0s 5ms/step - loss: 11.4234 - accuracy: 0.4680\n",
      "32/32 [==============================] - 0s 6ms/step - loss: 9.1190 - accuracy: 0.5300\n",
      "32/32 [==============================] - 0s 6ms/step - loss: 2.1916 - accuracy: 0.1890\n",
      "32/32 [==============================] - 0s 8ms/step - loss: 18.6961 - accuracy: 0.0190\n",
      "32/32 [==============================] - 0s 10ms/step - loss: 13.8104 - accuracy: 0.3530\n",
      "32/32 [==============================] - 0s 11ms/step - loss: 11.2485 - accuracy: 0.4470\n",
      "32/32 [==============================] - 0s 10ms/step - loss: 2.2247 - accuracy: 0.1760\n",
      "32/32 [==============================] - 0s 10ms/step - loss: 22.1489 - accuracy: 0.0170\n",
      "32/32 [==============================] - 0s 7ms/step - loss: 15.8132 - accuracy: 0.3170\n",
      "32/32 [==============================] - 0s 9ms/step - loss: 12.9971 - accuracy: 0.4180\n",
      "32/32 [==============================] - 0s 9ms/step - loss: 2.2266 - accuracy: 0.1720\n",
      "32/32 [==============================] - 0s 7ms/step - loss: 24.9989 - accuracy: 0.0170\n",
      "32/32 [==============================] - 0s 7ms/step - loss: 18.3032 - accuracy: 0.2670\n",
      "32/32 [==============================] - 0s 4ms/step - loss: 15.1342 - accuracy: 0.3770\n",
      "32/32 [==============================] - 0s 8ms/step - loss: 2.2439 - accuracy: 0.1700\n",
      "32/32 [==============================] - 0s 7ms/step - loss: 25.9525 - accuracy: 0.0170\n",
      "32/32 [==============================] - 0s 8ms/step - loss: 19.7550 - accuracy: 0.2540\n",
      "32/32 [==============================] - 0s 3ms/step - loss: 16.3358 - accuracy: 0.3590\n",
      "32/32 [==============================] - 0s 5ms/step - loss: 2.2415 - accuracy: 0.1700\n",
      "32/32 [==============================] - 0s 6ms/step - loss: 22.5354 - accuracy: 0.0210\n",
      "32/32 [==============================] - 0s 4ms/step - loss: 17.2938 - accuracy: 0.2730\n",
      "32/32 [==============================] - 0s 3ms/step - loss: 14.5678 - accuracy: 0.4140\n",
      "32/32 [==============================] - 0s 6ms/step - loss: 2.2374 - accuracy: 0.1710\n",
      "32/32 [==============================] - 0s 6ms/step - loss: 20.2848 - accuracy: 0.0380\n",
      "32/32 [==============================] - 0s 6ms/step - loss: 15.3660 - accuracy: 0.2790\n",
      "32/32 [==============================] - 0s 6ms/step - loss: 13.8594 - accuracy: 0.4330\n",
      "32/32 [==============================] - 0s 5ms/step - loss: 2.2386 - accuracy: 0.1600\n",
      "32/32 [==============================] - 0s 10ms/step - loss: 18.8782 - accuracy: 0.0380\n",
      "32/32 [==============================] - 0s 9ms/step - loss: 14.4813 - accuracy: 0.2850\n",
      "32/32 [==============================] - 0s 8ms/step - loss: 14.3524 - accuracy: 0.3860\n",
      "32/32 [==============================] - 0s 5ms/step - loss: 2.2537 - accuracy: 0.1530\n",
      "32/32 [==============================] - 0s 4ms/step - loss: 16.3761 - accuracy: 0.0360\n",
      "32/32 [==============================] - 0s 6ms/step - loss: 12.6172 - accuracy: 0.3040\n",
      "32/32 [==============================] - 0s 6ms/step - loss: 13.2431 - accuracy: 0.3940\n",
      "32/32 [==============================] - 0s 4ms/step - loss: 2.2558 - accuracy: 0.1490\n",
      "32/32 [==============================] - 0s 7ms/step - loss: 15.7927 - accuracy: 0.0370\n",
      "32/32 [==============================] - 0s 6ms/step - loss: 12.2308 - accuracy: 0.2900\n",
      "32/32 [==============================] - 0s 6ms/step - loss: 12.5217 - accuracy: 0.3590\n",
      "32/32 [==============================] - 0s 6ms/step - loss: 2.2599 - accuracy: 0.1490\n"
     ]
    }
   ],
   "source": [
    "indexes = range(1000)\n",
    "stored_results = []\n",
    "lot = 0\n",
    "for c in np.arange(0.1,1.1,0.1):\n",
    "    filename = 'MNIST_x_adv_stack_CNN_Lot' + str(lot+1) + '_c' + str(np.round(c,1)) + '.npy'\n",
    "    x_adv_stack = np.load(filename)\n",
    "    \n",
    "    stored_results.append(np.round(c,1))\n",
    "    \n",
    "    avg_l2_norm = np.mean(np.sqrt(np.sum((x_adv_stack-X_test[:len(x_adv_stack)])**2, axis=(1,2))))    \n",
    "    \n",
    "    if np.isnan(avg_l2_norm):\n",
    "        delta = x_adv_stack-X_test[:len(x_adv_stack)]\n",
    "        indices = np.argwhere(np.isnan(delta))\n",
    "        delta[indices] = 1\n",
    "        x_adv_stack = X_test[:len(x_adv_stack)] + delta\n",
    "        x_adv_stack = np.clip(x_adv_stack, 0, 1)\n",
    "        delta = x_adv_stack-X_test[:len(x_adv_stack)]\n",
    "        avg_l2_norm = np.mean(np.sqrt(np.sum((x_adv_stack-X_test[:len(x_adv_stack)])**2, axis=(1,2))))\n",
    "        \n",
    "    stored_results.append(avg_l2_norm)\n",
    "    \n",
    "    _,accuracy = CNN_MNIST_base.evaluate(x_adv_stack,y_test[indexes])\n",
    "    stored_results.append(accuracy)\n",
    "\n",
    "    _,accuracy = CNN_MNIST_GNA_trained.evaluate(x_adv_stack,y_test[indexes])\n",
    "    stored_results.append(accuracy)\n",
    "\n",
    "    _,accuracy = CNN_MNIST_FGSM_trained.evaluate(x_adv_stack,y_test[indexes])\n",
    "    stored_results.append(accuracy)\n",
    "\n",
    "    _,accuracy = CNN_MNIST_CW_trained.evaluate(x_adv_stack,y_test[indexes])\n",
    "    stored_results.append(accuracy)"
   ]
  },
  {
   "cell_type": "code",
   "execution_count": 50,
   "metadata": {
    "id": "jvDDvQV0SBlk",
    "outputId": "534eba9d-1cde-4030-8000-c92409a14fe6"
   },
   "outputs": [
    {
     "data": {
      "text/html": [
       "<div>\n",
       "<style scoped>\n",
       "    .dataframe tbody tr th:only-of-type {\n",
       "        vertical-align: middle;\n",
       "    }\n",
       "\n",
       "    .dataframe tbody tr th {\n",
       "        vertical-align: top;\n",
       "    }\n",
       "\n",
       "    .dataframe thead th {\n",
       "        text-align: right;\n",
       "    }\n",
       "</style>\n",
       "<table border=\"1\" class=\"dataframe\">\n",
       "  <thead>\n",
       "    <tr style=\"text-align: right;\">\n",
       "      <th></th>\n",
       "      <th>sigma</th>\n",
       "      <th>avg_l2_norm</th>\n",
       "      <th>CNN_MNIST_base</th>\n",
       "      <th>CNN_MNIST_GNA_trained</th>\n",
       "      <th>CNN_MNIST_FGSM_trained</th>\n",
       "      <th>CNN_MNIST_CW_trained</th>\n",
       "    </tr>\n",
       "  </thead>\n",
       "  <tbody>\n",
       "    <tr>\n",
       "      <th>0</th>\n",
       "      <td>0.1</td>\n",
       "      <td>5.262308</td>\n",
       "      <td>0.018</td>\n",
       "      <td>0.468</td>\n",
       "      <td>0.530</td>\n",
       "      <td>0.189</td>\n",
       "    </tr>\n",
       "    <tr>\n",
       "      <th>1</th>\n",
       "      <td>0.2</td>\n",
       "      <td>7.467623</td>\n",
       "      <td>0.019</td>\n",
       "      <td>0.353</td>\n",
       "      <td>0.447</td>\n",
       "      <td>0.176</td>\n",
       "    </tr>\n",
       "    <tr>\n",
       "      <th>2</th>\n",
       "      <td>0.3</td>\n",
       "      <td>7.945407</td>\n",
       "      <td>0.017</td>\n",
       "      <td>0.317</td>\n",
       "      <td>0.418</td>\n",
       "      <td>0.172</td>\n",
       "    </tr>\n",
       "    <tr>\n",
       "      <th>3</th>\n",
       "      <td>0.4</td>\n",
       "      <td>8.382603</td>\n",
       "      <td>0.017</td>\n",
       "      <td>0.267</td>\n",
       "      <td>0.377</td>\n",
       "      <td>0.170</td>\n",
       "    </tr>\n",
       "    <tr>\n",
       "      <th>4</th>\n",
       "      <td>0.5</td>\n",
       "      <td>9.680635</td>\n",
       "      <td>0.017</td>\n",
       "      <td>0.254</td>\n",
       "      <td>0.359</td>\n",
       "      <td>0.170</td>\n",
       "    </tr>\n",
       "    <tr>\n",
       "      <th>5</th>\n",
       "      <td>0.6</td>\n",
       "      <td>9.714402</td>\n",
       "      <td>0.021</td>\n",
       "      <td>0.273</td>\n",
       "      <td>0.414</td>\n",
       "      <td>0.171</td>\n",
       "    </tr>\n",
       "    <tr>\n",
       "      <th>6</th>\n",
       "      <td>0.7</td>\n",
       "      <td>9.259683</td>\n",
       "      <td>0.038</td>\n",
       "      <td>0.279</td>\n",
       "      <td>0.433</td>\n",
       "      <td>0.160</td>\n",
       "    </tr>\n",
       "    <tr>\n",
       "      <th>7</th>\n",
       "      <td>0.8</td>\n",
       "      <td>8.725523</td>\n",
       "      <td>0.038</td>\n",
       "      <td>0.285</td>\n",
       "      <td>0.386</td>\n",
       "      <td>0.153</td>\n",
       "    </tr>\n",
       "    <tr>\n",
       "      <th>8</th>\n",
       "      <td>0.9</td>\n",
       "      <td>7.852937</td>\n",
       "      <td>0.036</td>\n",
       "      <td>0.304</td>\n",
       "      <td>0.394</td>\n",
       "      <td>0.149</td>\n",
       "    </tr>\n",
       "    <tr>\n",
       "      <th>9</th>\n",
       "      <td>1.0</td>\n",
       "      <td>7.612374</td>\n",
       "      <td>0.037</td>\n",
       "      <td>0.290</td>\n",
       "      <td>0.359</td>\n",
       "      <td>0.149</td>\n",
       "    </tr>\n",
       "  </tbody>\n",
       "</table>\n",
       "</div>"
      ],
      "text/plain": [
       "   sigma  avg_l2_norm  CNN_MNIST_base  CNN_MNIST_GNA_trained  \\\n",
       "0    0.1     5.262308           0.018                  0.468   \n",
       "1    0.2     7.467623           0.019                  0.353   \n",
       "2    0.3     7.945407           0.017                  0.317   \n",
       "3    0.4     8.382603           0.017                  0.267   \n",
       "4    0.5     9.680635           0.017                  0.254   \n",
       "5    0.6     9.714402           0.021                  0.273   \n",
       "6    0.7     9.259683           0.038                  0.279   \n",
       "7    0.8     8.725523           0.038                  0.285   \n",
       "8    0.9     7.852937           0.036                  0.304   \n",
       "9    1.0     7.612374           0.037                  0.290   \n",
       "\n",
       "   CNN_MNIST_FGSM_trained  CNN_MNIST_CW_trained  \n",
       "0                   0.530                 0.189  \n",
       "1                   0.447                 0.176  \n",
       "2                   0.418                 0.172  \n",
       "3                   0.377                 0.170  \n",
       "4                   0.359                 0.170  \n",
       "5                   0.414                 0.171  \n",
       "6                   0.433                 0.160  \n",
       "7                   0.386                 0.153  \n",
       "8                   0.394                 0.149  \n",
       "9                   0.359                 0.149  "
      ]
     },
     "execution_count": 50,
     "metadata": {},
     "output_type": "execute_result"
    }
   ],
   "source": [
    "stored_results = np.array(stored_results)\n",
    "stored_results = stored_results.reshape(-1,6)\n",
    "df = pd.DataFrame(stored_results, columns = ['sigma','avg_l2_norm','CNN_MNIST_base',\\\n",
    "                                 'CNN_MNIST_GNA_trained','CNN_MNIST_FGSM_trained','CNN_MNIST_CW_trained'])\n",
    "df.to_csv('Performance of adversarially trained CNN models on CW [MNIST].csv', index=False)\n",
    "df"
   ]
  },
  {
   "cell_type": "code",
   "execution_count": 51,
   "metadata": {
    "id": "pXHBrC4ISBlk",
    "outputId": "690ec1fe-8039-4684-e956-7f30e2a45e65"
   },
   "outputs": [
    {
     "name": "stdout",
     "output_type": "stream",
     "text": [
      "Test accuracy on unperturbed data\n",
      "32/32 [==============================] - 0s 10ms/step - loss: 0.0597 - accuracy: 0.9790\n",
      "32/32 [==============================] - 0s 9ms/step - loss: 0.0516 - accuracy: 0.9800\n",
      "32/32 [==============================] - 0s 9ms/step - loss: 0.0706 - accuracy: 0.9790\n",
      "32/32 [==============================] - 0s 6ms/step - loss: 0.0901 - accuracy: 0.9720\n"
     ]
    },
    {
     "data": {
      "image/png": "[encoded data removed]",
      "text/plain": [
       "<Figure size 432x288 with 1 Axes>"
      ]
     },
     "metadata": {
      "needs_background": "light"
     },
     "output_type": "display_data"
    }
   ],
   "source": [
    "df = pd.read_csv('Performance of adversarially trained CNN models on CW [MNIST].csv')\n",
    "\n",
    "df = df.shift(1)\n",
    "print('Test accuracy on unperturbed data')\n",
    "_, accuracy_base = CNN_MNIST_base.evaluate(X_test[indexes],y_test[indexes]);\n",
    "_, accuracy_GNA_trained = CNN_MNIST_GNA_trained.evaluate(X_test[indexes],y_test[indexes]);\n",
    "_, accuracy_FGSM_trained = CNN_MNIST_FGSM_trained.evaluate(X_test[indexes],y_test[indexes]);\n",
    "_, accuracy_CW_trained = CNN_MNIST_CW_trained.evaluate(X_test[indexes],y_test[indexes]);\n",
    "df.iloc[0] = [0, 0, accuracy_base, accuracy_GNA_trained, accuracy_FGSM_trained, accuracy_CW_trained]\n",
    "\n",
    "df = df.sort_values('avg_l2_norm', ascending=True)\n",
    "\n",
    "plt.plot(df['avg_l2_norm'],df['CNN_MNIST_base'],'o--', color = 'C2')\n",
    "plt.plot(df['avg_l2_norm'],df['CNN_MNIST_GNA_trained'],'*-', color = 'C2')\n",
    "plt.plot(df['avg_l2_norm'],df['CNN_MNIST_FGSM_trained'],'v-', color = 'C2')\n",
    "plt.plot(df['avg_l2_norm'],df['CNN_MNIST_CW_trained'],'d-', color = 'C2')\n",
    "\n",
    "\n",
    "plt.xlabel('Average $l_2$ norm of the perturbation')\n",
    "plt.ylabel('Test accuracy')\n",
    "plt.ylim([-0.1, 1.1])\n",
    "plt.legend(['CNN_MNIST (base)', 'CNN_MNIST (GNA trained)',\\\n",
    "            'CNN_MNIST (FGSM trained)', 'CNN_MNIST (CW trained)'])\n",
    "plt.title('Effect of CW attack on MNIST')\n",
    "plt.savefig('Adversarially trained CNN models CW on MNIST [l2 norm]', dpi=600)\n",
    "plt.show()"
   ]
  }
 ],
 "metadata": {
  "accelerator": "GPU",
  "colab": {
   "provenance": [
    {
     "file_id": "17t5wZdiu4KbtR9opaQcMZECSJAndropo",
     "timestamp": 1674347819943
    }
   ]
  },
  "gpuClass": "standard",
  "kernelspec": {
   "display_name": "Python 3",
   "language": "python",
   "name": "python3"
  },
  "language_info": {
   "codemirror_mode": {
    "name": "ipython",
    "version": 3
   },
   "file_extension": ".py",
   "mimetype": "text/x-python",
   "name": "python",
   "nbconvert_exporter": "python",
   "pygments_lexer": "ipython3",
   "version": "3.8.8"
  }
 },
 "nbformat": 4,
 "nbformat_minor": 1
}
