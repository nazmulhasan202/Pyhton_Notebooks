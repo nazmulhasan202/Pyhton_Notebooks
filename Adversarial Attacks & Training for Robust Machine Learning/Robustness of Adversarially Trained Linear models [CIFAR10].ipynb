{
 "cells": [
  {
   "cell_type": "markdown",
   "metadata": {
    "id": "aiSUzqR_k38-"
   },
   "source": [
    "**Import packages**"
   ]
  },
  {
   "cell_type": "code",
   "execution_count": 1,
   "metadata": {
    "colab": {
     "base_uri": "https://localhost:8080/"
    },
    "executionInfo": {
     "elapsed": 6075,
     "status": "ok",
     "timestamp": 1678467624635,
     "user": {
      "displayName": "Nazmul Hasan",
      "userId": "02122416256231585764"
     },
     "user_tz": 420
    },
    "id": "ad5wwLh9culg",
    "outputId": "3a26d4f2-1957-4820-bcae-5a769878ff9c"
   },
   "outputs": [
    {
     "name": "stdout",
     "output_type": "stream",
     "text": [
      "Requirement already satisfied: pytictoc in c:\\programdata\\anaconda3\\lib\\site-packages (1.5.2)\n"
     ]
    }
   ],
   "source": [
    "!pip install pytictoc"
   ]
  },
  {
   "cell_type": "code",
   "execution_count": 2,
   "metadata": {
    "id": "TtE3hMD0_-HW",
    "outputId": "a21313de-5193-445f-de68-3cd10c9aa6e5"
   },
   "outputs": [
    {
     "name": "stdout",
     "output_type": "stream",
     "text": [
      "Requirement already satisfied: tensorflow in c:\\programdata\\anaconda3\\lib\\site-packages (2.11.0)\n",
      "Requirement already satisfied: tensorflow-intel==2.11.0 in c:\\programdata\\anaconda3\\lib\\site-packages (from tensorflow) (2.11.0)\n",
      "Requirement already satisfied: typing-extensions>=3.6.6 in c:\\programdata\\anaconda3\\lib\\site-packages (from tensorflow-intel==2.11.0->tensorflow) (3.7.4.3)\n",
      "Requirement already satisfied: google-pasta>=0.1.1 in c:\\programdata\\anaconda3\\lib\\site-packages (from tensorflow-intel==2.11.0->tensorflow) (0.2.0)\n",
      "Requirement already satisfied: tensorflow-estimator<2.12,>=2.11.0 in c:\\programdata\\anaconda3\\lib\\site-packages (from tensorflow-intel==2.11.0->tensorflow) (2.11.0)\n",
      "Requirement already satisfied: opt-einsum>=2.3.2 in c:\\programdata\\anaconda3\\lib\\site-packages (from tensorflow-intel==2.11.0->tensorflow) (3.3.0)\n",
      "Requirement already satisfied: six>=1.12.0 in c:\\programdata\\anaconda3\\lib\\site-packages (from tensorflow-intel==2.11.0->tensorflow) (1.15.0)\n",
      "Requirement already satisfied: astunparse>=1.6.0 in c:\\programdata\\anaconda3\\lib\\site-packages (from tensorflow-intel==2.11.0->tensorflow) (1.6.3)\n",
      "Requirement already satisfied: keras<2.12,>=2.11.0 in c:\\programdata\\anaconda3\\lib\\site-packages (from tensorflow-intel==2.11.0->tensorflow) (2.11.0)\n",
      "Requirement already satisfied: numpy>=1.20 in c:\\programdata\\anaconda3\\lib\\site-packages (from tensorflow-intel==2.11.0->tensorflow) (1.20.1)\n",
      "Requirement already satisfied: tensorboard<2.12,>=2.11 in c:\\programdata\\anaconda3\\lib\\site-packages (from tensorflow-intel==2.11.0->tensorflow) (2.11.2)\n",
      "Requirement already satisfied: h5py>=2.9.0 in c:\\programdata\\anaconda3\\lib\\site-packages (from tensorflow-intel==2.11.0->tensorflow) (2.10.0)\n",
      "Requirement already satisfied: termcolor>=1.1.0 in c:\\programdata\\anaconda3\\lib\\site-packages (from tensorflow-intel==2.11.0->tensorflow) (2.2.0)\n",
      "Requirement already satisfied: flatbuffers>=2.0 in c:\\programdata\\anaconda3\\lib\\site-packages (from tensorflow-intel==2.11.0->tensorflow) (23.3.3)\n",
      "Requirement already satisfied: gast<=0.4.0,>=0.2.1 in c:\\programdata\\anaconda3\\lib\\site-packages (from tensorflow-intel==2.11.0->tensorflow) (0.4.0)\n",
      "Requirement already satisfied: setuptools in c:\\programdata\\anaconda3\\lib\\site-packages (from tensorflow-intel==2.11.0->tensorflow) (52.0.0.post20210125)\n",
      "Requirement already satisfied: grpcio<2.0,>=1.24.3 in c:\\programdata\\anaconda3\\lib\\site-packages (from tensorflow-intel==2.11.0->tensorflow) (1.51.3)\n",
      "Requirement already satisfied: protobuf<3.20,>=3.9.2 in c:\\programdata\\anaconda3\\lib\\site-packages (from tensorflow-intel==2.11.0->tensorflow) (3.19.6)\n",
      "Requirement already satisfied: packaging in c:\\programdata\\anaconda3\\lib\\site-packages (from tensorflow-intel==2.11.0->tensorflow) (20.9)\n",
      "Requirement already satisfied: libclang>=13.0.0 in c:\\programdata\\anaconda3\\lib\\site-packages (from tensorflow-intel==2.11.0->tensorflow) (15.0.6.1)\n",
      "Requirement already satisfied: wrapt>=1.11.0 in c:\\programdata\\anaconda3\\lib\\site-packages (from tensorflow-intel==2.11.0->tensorflow) (1.12.1)\n",
      "Requirement already satisfied: absl-py>=1.0.0 in c:\\programdata\\anaconda3\\lib\\site-packages (from tensorflow-intel==2.11.0->tensorflow) (1.4.0)\n",
      "Requirement already satisfied: tensorflow-io-gcs-filesystem>=0.23.1 in c:\\programdata\\anaconda3\\lib\\site-packages (from tensorflow-intel==2.11.0->tensorflow) (0.31.0)\n",
      "Requirement already satisfied: wheel<1.0,>=0.23.0 in c:\\programdata\\anaconda3\\lib\\site-packages (from astunparse>=1.6.0->tensorflow-intel==2.11.0->tensorflow) (0.36.2)\n",
      "Requirement already satisfied: werkzeug>=1.0.1 in c:\\programdata\\anaconda3\\lib\\site-packages (from tensorboard<2.12,>=2.11->tensorflow-intel==2.11.0->tensorflow) (1.0.1)\n",
      "Requirement already satisfied: markdown>=2.6.8 in c:\\programdata\\anaconda3\\lib\\site-packages (from tensorboard<2.12,>=2.11->tensorflow-intel==2.11.0->tensorflow) (3.4.1)\n",
      "Requirement already satisfied: requests<3,>=2.21.0 in c:\\programdata\\anaconda3\\lib\\site-packages (from tensorboard<2.12,>=2.11->tensorflow-intel==2.11.0->tensorflow) (2.25.1)\n",
      "Requirement already satisfied: google-auth<3,>=1.6.3 in c:\\programdata\\anaconda3\\lib\\site-packages (from tensorboard<2.12,>=2.11->tensorflow-intel==2.11.0->tensorflow) (2.16.2)\n",
      "Requirement already satisfied: tensorboard-data-server<0.7.0,>=0.6.0 in c:\\programdata\\anaconda3\\lib\\site-packages (from tensorboard<2.12,>=2.11->tensorflow-intel==2.11.0->tensorflow) (0.6.1)\n",
      "Requirement already satisfied: google-auth-oauthlib<0.5,>=0.4.1 in c:\\programdata\\anaconda3\\lib\\site-packages (from tensorboard<2.12,>=2.11->tensorflow-intel==2.11.0->tensorflow) (0.4.6)\n",
      "Requirement already satisfied: tensorboard-plugin-wit>=1.6.0 in c:\\programdata\\anaconda3\\lib\\site-packages (from tensorboard<2.12,>=2.11->tensorflow-intel==2.11.0->tensorflow) (1.8.1)\n",
      "Requirement already satisfied: pyasn1-modules>=0.2.1 in c:\\programdata\\anaconda3\\lib\\site-packages (from google-auth<3,>=1.6.3->tensorboard<2.12,>=2.11->tensorflow-intel==2.11.0->tensorflow) (0.2.8)\n",
      "Requirement already satisfied: cachetools<6.0,>=2.0.0 in c:\\programdata\\anaconda3\\lib\\site-packages (from google-auth<3,>=1.6.3->tensorboard<2.12,>=2.11->tensorflow-intel==2.11.0->tensorflow) (5.3.0)\n",
      "Requirement already satisfied: rsa<5,>=3.1.4 in c:\\programdata\\anaconda3\\lib\\site-packages (from google-auth<3,>=1.6.3->tensorboard<2.12,>=2.11->tensorflow-intel==2.11.0->tensorflow) (4.9)\n",
      "Requirement already satisfied: requests-oauthlib>=0.7.0 in c:\\programdata\\anaconda3\\lib\\site-packages (from google-auth-oauthlib<0.5,>=0.4.1->tensorboard<2.12,>=2.11->tensorflow-intel==2.11.0->tensorflow) (1.3.1)\n",
      "Requirement already satisfied: importlib-metadata>=4.4 in c:\\programdata\\anaconda3\\lib\\site-packages (from markdown>=2.6.8->tensorboard<2.12,>=2.11->tensorflow-intel==2.11.0->tensorflow) (6.0.0)\n",
      "Requirement already satisfied: zipp>=0.5 in c:\\programdata\\anaconda3\\lib\\site-packages (from importlib-metadata>=4.4->markdown>=2.6.8->tensorboard<2.12,>=2.11->tensorflow-intel==2.11.0->tensorflow) (3.4.1)\n",
      "Requirement already satisfied: pyasn1<0.5.0,>=0.4.6 in c:\\programdata\\anaconda3\\lib\\site-packages (from pyasn1-modules>=0.2.1->google-auth<3,>=1.6.3->tensorboard<2.12,>=2.11->tensorflow-intel==2.11.0->tensorflow) (0.4.8)\n",
      "Requirement already satisfied: certifi>=2017.4.17 in c:\\programdata\\anaconda3\\lib\\site-packages (from requests<3,>=2.21.0->tensorboard<2.12,>=2.11->tensorflow-intel==2.11.0->tensorflow) (2020.12.5)\n",
      "Requirement already satisfied: chardet<5,>=3.0.2 in c:\\programdata\\anaconda3\\lib\\site-packages (from requests<3,>=2.21.0->tensorboard<2.12,>=2.11->tensorflow-intel==2.11.0->tensorflow) (4.0.0)\n",
      "Requirement already satisfied: idna<3,>=2.5 in c:\\programdata\\anaconda3\\lib\\site-packages (from requests<3,>=2.21.0->tensorboard<2.12,>=2.11->tensorflow-intel==2.11.0->tensorflow) (2.10)\n",
      "Requirement already satisfied: urllib3<1.27,>=1.21.1 in c:\\programdata\\anaconda3\\lib\\site-packages (from requests<3,>=2.21.0->tensorboard<2.12,>=2.11->tensorflow-intel==2.11.0->tensorflow) (1.26.4)\n",
      "Requirement already satisfied: oauthlib>=3.0.0 in c:\\programdata\\anaconda3\\lib\\site-packages (from requests-oauthlib>=0.7.0->google-auth-oauthlib<0.5,>=0.4.1->tensorboard<2.12,>=2.11->tensorflow-intel==2.11.0->tensorflow) (3.2.2)\n",
      "Requirement already satisfied: pyparsing>=2.0.2 in c:\\programdata\\anaconda3\\lib\\site-packages (from packaging->tensorflow-intel==2.11.0->tensorflow) (2.4.7)\n"
     ]
    }
   ],
   "source": [
    "!pip install tensorflow"
   ]
  },
  {
   "cell_type": "code",
   "execution_count": 3,
   "metadata": {
    "id": "_z7kPblcHOH1"
   },
   "outputs": [],
   "source": [
    "import random\n",
    "import tensorflow as tf\n",
    "import pandas as pd\n",
    "from tensorflow import keras\n",
    "from keras import datasets, layers, models\n",
    "import matplotlib.pyplot as plt\n",
    "import numpy as np\n",
    "import warnings\n",
    "from pytictoc import TicToc\n",
    "warnings.filterwarnings( \"ignore\" )"
   ]
  },
  {
   "cell_type": "markdown",
   "metadata": {
    "id": "e7iTQt51HOH3"
   },
   "source": [
    "**Load the dataset**"
   ]
  },
  {
   "cell_type": "code",
   "execution_count": 4,
   "metadata": {
    "colab": {
     "base_uri": "https://localhost:8080/"
    },
    "executionInfo": {
     "elapsed": 799,
     "status": "ok",
     "timestamp": 1678467635038,
     "user": {
      "displayName": "Nazmul Hasan",
      "userId": "02122416256231585764"
     },
     "user_tz": 420
    },
    "id": "rPRPSMuwHOH4",
    "outputId": "106fdb96-7d3c-4d9b-ba7d-85d264a97f1f"
   },
   "outputs": [
    {
     "data": {
      "text/plain": [
       "((50000, 32, 32, 3), (50000,), (10000, 32, 32, 3), (10000,))"
      ]
     },
     "execution_count": 4,
     "metadata": {},
     "output_type": "execute_result"
    }
   ],
   "source": [
    "(X_train, y_train), (X_test,y_test) = datasets.cifar10.load_data()\n",
    "y_train = y_train.reshape(-1,)\n",
    "y_test = y_test.reshape(-1,)\n",
    "X_train.shape, y_train.shape, X_test.shape, y_test.shape"
   ]
  },
  {
   "cell_type": "markdown",
   "metadata": {
    "id": "gL5ypIWkHOIE"
   },
   "source": [
    "**Normalize the input data**"
   ]
  },
  {
   "cell_type": "code",
   "execution_count": 5,
   "metadata": {
    "id": "PxewI0kIHOIF"
   },
   "outputs": [],
   "source": [
    "X_train = X_train / 255.0\n",
    "X_test = X_test / 255.0"
   ]
  },
  {
   "cell_type": "markdown",
   "metadata": {
    "id": "Z_nl74yGFrHT"
   },
   "source": [
    "**Set directory to saved models**"
   ]
  },
  {
   "cell_type": "code",
   "execution_count": 6,
   "metadata": {
    "id": "Usv8lPonYXF0"
   },
   "outputs": [],
   "source": [
    "# from google.colab import drive\n",
    "# drive.mount('/content/gdrive')\n",
    "# %cd /content/gdrive/MyDrive/ECE 696B/Project - ECE696B\n",
    "# # %cd /content/gdrive/MyDrive/Colab Notebooks"
   ]
  },
  {
   "cell_type": "code",
   "execution_count": 7,
   "metadata": {
    "id": "DiuPFzjkDRUx",
    "outputId": "f51eb61f-de69-40ab-b783-db0bc084f705"
   },
   "outputs": [
    {
     "name": "stdout",
     "output_type": "stream",
     "text": [
      "C:\\Users\\nh202\\My Drive (nh202@arizona.edu)\\ECE 696B\\Project - ECE696B\n"
     ]
    }
   ],
   "source": [
    "%cd C:\\Users\\nh202\\My Drive (nh202@arizona.edu)\\ECE 696B\\Project - ECE696B"
   ]
  },
  {
   "cell_type": "code",
   "execution_count": 9,
   "metadata": {
    "id": "SAx4NoIYDgzZ"
   },
   "outputs": [],
   "source": [
    "from keras.models import load_model\n",
    "Linear_CIFAR10_base = load_model('Linear_CIFAR10.h5')\n",
    "Linear_CIFAR10_GNA_trained = load_model('Linear_CIFAR10_GNA_trained.h5')\n",
    "Linear_CIFAR10_FGSM_trained = load_model('Linear_CIFAR10_FGSM_trained.h5')\n",
    "Linear_CIFAR10_CW_trained = load_model('Linear_CIFAR10_CW_trained.h5')"
   ]
  },
  {
   "cell_type": "markdown",
   "metadata": {
    "id": "G1qA-8V5Z-eg"
   },
   "source": [
    "# Evaluate performance of Linear models"
   ]
  },
  {
   "cell_type": "markdown",
   "metadata": {
    "id": "uFedzBTJFx7-"
   },
   "source": [
    "**Performance on GNA adversarial examples**"
   ]
  },
  {
   "cell_type": "code",
   "execution_count": 10,
   "metadata": {
    "id": "rQRTiDohFlGt",
    "outputId": "3e5b3da5-3fb4-44a8-a403-1065b65090db"
   },
   "outputs": [
    {
     "name": "stdout",
     "output_type": "stream",
     "text": [
      "C:\\Users\\nh202\\OneDrive - University of Arizona\\Adversairal Examples - ECE 696B\\GNA\n"
     ]
    }
   ],
   "source": [
    "%cd C:\\Users\\nh202\\OneDrive - University of Arizona\\Adversairal Examples - ECE 696B\\GNA"
   ]
  },
  {
   "cell_type": "code",
   "execution_count": 11,
   "metadata": {
    "id": "6kV976-9EU-V",
    "outputId": "67220610-f364-46af-d10c-f6b423c31c06"
   },
   "outputs": [
    {
     "name": "stdout",
     "output_type": "stream",
     "text": [
      "Sigma value: 0.0\n",
      "Average l2 distance of the perturbation: 0.0\n",
      "\n",
      "Test accuracy on perturbed data\n",
      "32/32 [==============================] - 1s 3ms/step - loss: 1.7382 - accuracy: 0.3960\n",
      "32/32 [==============================] - 0s 2ms/step - loss: 1.7727 - accuracy: 0.3860\n",
      "32/32 [==============================] - 0s 2ms/step - loss: 1.7600 - accuracy: 0.3980\n",
      "32/32 [==============================] - 0s 2ms/step - loss: 1.7732 - accuracy: 0.3910\n",
      "\n",
      "\n",
      "Sigma value: 0.1\n",
      "Average l2 distance of the perturbation: 3.0837902228127985\n",
      "\n",
      "Test accuracy on perturbed data\n",
      "32/32 [==============================] - 0s 3ms/step - loss: 1.7623 - accuracy: 0.3990\n",
      "32/32 [==============================] - 0s 3ms/step - loss: 1.7945 - accuracy: 0.3630\n",
      "32/32 [==============================] - 0s 3ms/step - loss: 1.7927 - accuracy: 0.3660\n",
      "32/32 [==============================] - 0s 3ms/step - loss: 1.7951 - accuracy: 0.3860\n",
      "\n",
      "\n",
      "Sigma value: 0.2\n",
      "Average l2 distance of the perturbation: 5.828913201938512\n",
      "\n",
      "Test accuracy on perturbed data\n",
      "32/32 [==============================] - 0s 4ms/step - loss: 1.8489 - accuracy: 0.3590\n",
      "32/32 [==============================] - 0s 3ms/step - loss: 1.8680 - accuracy: 0.3390\n",
      "32/32 [==============================] - 0s 3ms/step - loss: 1.8791 - accuracy: 0.3370\n",
      "32/32 [==============================] - 0s 3ms/step - loss: 1.8757 - accuracy: 0.3350\n",
      "\n",
      "\n",
      "Sigma value: 0.3\n",
      "Average l2 distance of the perturbation: 8.100654975115406\n",
      "\n",
      "Test accuracy on perturbed data\n",
      "32/32 [==============================] - 0s 2ms/step - loss: 1.9222 - accuracy: 0.3410\n",
      "32/32 [==============================] - 0s 2ms/step - loss: 1.9263 - accuracy: 0.3330\n",
      "32/32 [==============================] - 0s 3ms/step - loss: 2.0016 - accuracy: 0.2960\n",
      "32/32 [==============================] - 0s 2ms/step - loss: 1.9330 - accuracy: 0.3220\n",
      "\n",
      "\n",
      "Sigma value: 0.4\n",
      "Average l2 distance of the perturbation: 9.856309148560845\n",
      "\n",
      "Test accuracy on perturbed data\n",
      "32/32 [==============================] - 0s 2ms/step - loss: 2.0639 - accuracy: 0.2780\n",
      "32/32 [==============================] - 0s 4ms/step - loss: 2.0489 - accuracy: 0.2850\n",
      "32/32 [==============================] - 0s 3ms/step - loss: 2.1670 - accuracy: 0.2450\n",
      "32/32 [==============================] - 0s 3ms/step - loss: 2.0485 - accuracy: 0.2740\n",
      "\n",
      "\n",
      "Sigma value: 0.5\n",
      "Average l2 distance of the perturbation: 11.18933107493163\n",
      "\n",
      "Test accuracy on perturbed data\n",
      "32/32 [==============================] - 0s 3ms/step - loss: 2.1739 - accuracy: 0.2460\n",
      "32/32 [==============================] - 0s 3ms/step - loss: 2.1493 - accuracy: 0.2520\n",
      "32/32 [==============================] - 0s 2ms/step - loss: 2.2359 - accuracy: 0.2250\n",
      "32/32 [==============================] - 0s 3ms/step - loss: 2.1608 - accuracy: 0.2400\n",
      "\n",
      "\n",
      "Sigma value: 0.6\n",
      "Average l2 distance of the perturbation: 12.185753371618615\n",
      "\n",
      "Test accuracy on perturbed data\n",
      "32/32 [==============================] - 0s 3ms/step - loss: 2.2143 - accuracy: 0.2510\n",
      "32/32 [==============================] - 0s 3ms/step - loss: 2.2015 - accuracy: 0.2290\n",
      "32/32 [==============================] - 0s 2ms/step - loss: 2.3365 - accuracy: 0.2220\n",
      "32/32 [==============================] - 0s 2ms/step - loss: 2.2131 - accuracy: 0.2280\n",
      "\n",
      "\n",
      "Sigma value: 0.7\n",
      "Average l2 distance of the perturbation: 12.947098414009078\n",
      "\n",
      "Test accuracy on perturbed data\n",
      "32/32 [==============================] - 0s 3ms/step - loss: 2.3868 - accuracy: 0.2080\n",
      "32/32 [==============================] - 0s 3ms/step - loss: 2.2904 - accuracy: 0.2120\n",
      "32/32 [==============================] - 0s 3ms/step - loss: 2.4618 - accuracy: 0.1880\n",
      "32/32 [==============================] - 0s 3ms/step - loss: 2.3472 - accuracy: 0.2000\n",
      "\n",
      "\n",
      "Sigma value: 0.8\n",
      "Average l2 distance of the perturbation: 13.5429253990039\n",
      "\n",
      "Test accuracy on perturbed data\n",
      "32/32 [==============================] - 0s 3ms/step - loss: 2.3770 - accuracy: 0.2200\n",
      "32/32 [==============================] - 0s 3ms/step - loss: 2.3071 - accuracy: 0.2240\n",
      "32/32 [==============================] - 0s 3ms/step - loss: 2.5223 - accuracy: 0.1780\n",
      "32/32 [==============================] - 0s 2ms/step - loss: 2.3356 - accuracy: 0.2180\n",
      "\n",
      "\n",
      "Sigma value: 0.9\n",
      "Average l2 distance of the perturbation: 14.018838013436627\n",
      "\n",
      "Test accuracy on perturbed data\n",
      "32/32 [==============================] - 0s 2ms/step - loss: 2.4616 - accuracy: 0.1990\n",
      "32/32 [==============================] - 0s 2ms/step - loss: 2.4129 - accuracy: 0.1900\n",
      "32/32 [==============================] - 0s 2ms/step - loss: 2.5840 - accuracy: 0.1840\n",
      "32/32 [==============================] - 0s 4ms/step - loss: 2.3793 - accuracy: 0.1970\n",
      "\n",
      "\n",
      "Sigma value: 1.0\n",
      "Average l2 distance of the perturbation: 14.408837474899961\n",
      "\n",
      "Test accuracy on perturbed data\n",
      "32/32 [==============================] - 0s 3ms/step - loss: 2.5101 - accuracy: 0.1760\n",
      "32/32 [==============================] - 0s 2ms/step - loss: 2.4223 - accuracy: 0.1740\n",
      "32/32 [==============================] - 0s 2ms/step - loss: 2.7072 - accuracy: 0.1620\n",
      "32/32 [==============================] - 0s 3ms/step - loss: 2.4513 - accuracy: 0.1580\n",
      "\n",
      "\n"
     ]
    }
   ],
   "source": [
    "indexes = range(1000)\n",
    "sigmas = np.arange(0,1.1,0.1)\n",
    "stored_results = []\n",
    "for i in sigmas:\n",
    "  print(f'Sigma value: {np.round(i,1)}')\n",
    "  stored_results.append(i)\n",
    "    \n",
    "  filename = 'CIFAR10_X_test_noisy_GNA_sigma' + str(np.round(i,1)) + '.npy'\n",
    "  X_test_noisy = np.load(filename)\n",
    "  \n",
    "  avg_l2_norm = np.mean(np.sqrt(np.sum((X_test_noisy-X_test[indexes])**2, axis=(1,2))))\n",
    "  stored_results.append(avg_l2_norm)\n",
    "  print(\"Average l2 distance of the perturbation:\", avg_l2_norm)\n",
    "\n",
    "  print('\\nTest accuracy on perturbed data')\n",
    "  _,accuracy = Linear_CIFAR10_base.evaluate(X_test_noisy,y_test[indexes])\n",
    "  stored_results.append(accuracy)\n",
    "\n",
    "  _,accuracy = Linear_CIFAR10_GNA_trained.evaluate(X_test_noisy,y_test[indexes])\n",
    "  stored_results.append(accuracy)\n",
    "\n",
    "  _,accuracy = Linear_CIFAR10_FGSM_trained.evaluate(X_test_noisy,y_test[indexes])\n",
    "  stored_results.append(accuracy)\n",
    "\n",
    "  _,accuracy = Linear_CIFAR10_CW_trained.evaluate(X_test_noisy,y_test[indexes])\n",
    "  stored_results.append(accuracy)\n",
    "\n",
    "  print('\\n')"
   ]
  },
  {
   "cell_type": "code",
   "execution_count": 12,
   "metadata": {
    "id": "ISyENOQPEovC",
    "outputId": "63b83f57-c0c0-46a4-e0ab-119a38350196"
   },
   "outputs": [
    {
     "data": {
      "text/html": [
       "<div>\n",
       "<style scoped>\n",
       "    .dataframe tbody tr th:only-of-type {\n",
       "        vertical-align: middle;\n",
       "    }\n",
       "\n",
       "    .dataframe tbody tr th {\n",
       "        vertical-align: top;\n",
       "    }\n",
       "\n",
       "    .dataframe thead th {\n",
       "        text-align: right;\n",
       "    }\n",
       "</style>\n",
       "<table border=\"1\" class=\"dataframe\">\n",
       "  <thead>\n",
       "    <tr style=\"text-align: right;\">\n",
       "      <th></th>\n",
       "      <th>sigma</th>\n",
       "      <th>avg_l2_norm</th>\n",
       "      <th>Linear_CIFAR10_base</th>\n",
       "      <th>Linear_CIFAR10_GNA_trained</th>\n",
       "      <th>Linear_CIFAR10_FGSM_trained</th>\n",
       "      <th>Linear_CIFAR10_CW_trained</th>\n",
       "    </tr>\n",
       "  </thead>\n",
       "  <tbody>\n",
       "    <tr>\n",
       "      <th>0</th>\n",
       "      <td>0.0</td>\n",
       "      <td>0.000000</td>\n",
       "      <td>0.396</td>\n",
       "      <td>0.386</td>\n",
       "      <td>0.398</td>\n",
       "      <td>0.391</td>\n",
       "    </tr>\n",
       "    <tr>\n",
       "      <th>1</th>\n",
       "      <td>0.1</td>\n",
       "      <td>3.083790</td>\n",
       "      <td>0.399</td>\n",
       "      <td>0.363</td>\n",
       "      <td>0.366</td>\n",
       "      <td>0.386</td>\n",
       "    </tr>\n",
       "    <tr>\n",
       "      <th>2</th>\n",
       "      <td>0.2</td>\n",
       "      <td>5.828913</td>\n",
       "      <td>0.359</td>\n",
       "      <td>0.339</td>\n",
       "      <td>0.337</td>\n",
       "      <td>0.335</td>\n",
       "    </tr>\n",
       "    <tr>\n",
       "      <th>3</th>\n",
       "      <td>0.3</td>\n",
       "      <td>8.100655</td>\n",
       "      <td>0.341</td>\n",
       "      <td>0.333</td>\n",
       "      <td>0.296</td>\n",
       "      <td>0.322</td>\n",
       "    </tr>\n",
       "    <tr>\n",
       "      <th>4</th>\n",
       "      <td>0.4</td>\n",
       "      <td>9.856309</td>\n",
       "      <td>0.278</td>\n",
       "      <td>0.285</td>\n",
       "      <td>0.245</td>\n",
       "      <td>0.274</td>\n",
       "    </tr>\n",
       "    <tr>\n",
       "      <th>5</th>\n",
       "      <td>0.5</td>\n",
       "      <td>11.189331</td>\n",
       "      <td>0.246</td>\n",
       "      <td>0.252</td>\n",
       "      <td>0.225</td>\n",
       "      <td>0.240</td>\n",
       "    </tr>\n",
       "    <tr>\n",
       "      <th>6</th>\n",
       "      <td>0.6</td>\n",
       "      <td>12.185753</td>\n",
       "      <td>0.251</td>\n",
       "      <td>0.229</td>\n",
       "      <td>0.222</td>\n",
       "      <td>0.228</td>\n",
       "    </tr>\n",
       "    <tr>\n",
       "      <th>7</th>\n",
       "      <td>0.7</td>\n",
       "      <td>12.947098</td>\n",
       "      <td>0.208</td>\n",
       "      <td>0.212</td>\n",
       "      <td>0.188</td>\n",
       "      <td>0.200</td>\n",
       "    </tr>\n",
       "    <tr>\n",
       "      <th>8</th>\n",
       "      <td>0.8</td>\n",
       "      <td>13.542925</td>\n",
       "      <td>0.220</td>\n",
       "      <td>0.224</td>\n",
       "      <td>0.178</td>\n",
       "      <td>0.218</td>\n",
       "    </tr>\n",
       "    <tr>\n",
       "      <th>9</th>\n",
       "      <td>0.9</td>\n",
       "      <td>14.018838</td>\n",
       "      <td>0.199</td>\n",
       "      <td>0.190</td>\n",
       "      <td>0.184</td>\n",
       "      <td>0.197</td>\n",
       "    </tr>\n",
       "    <tr>\n",
       "      <th>10</th>\n",
       "      <td>1.0</td>\n",
       "      <td>14.408837</td>\n",
       "      <td>0.176</td>\n",
       "      <td>0.174</td>\n",
       "      <td>0.162</td>\n",
       "      <td>0.158</td>\n",
       "    </tr>\n",
       "  </tbody>\n",
       "</table>\n",
       "</div>"
      ],
      "text/plain": [
       "    sigma  avg_l2_norm  Linear_CIFAR10_base  Linear_CIFAR10_GNA_trained  \\\n",
       "0     0.0     0.000000                0.396                       0.386   \n",
       "1     0.1     3.083790                0.399                       0.363   \n",
       "2     0.2     5.828913                0.359                       0.339   \n",
       "3     0.3     8.100655                0.341                       0.333   \n",
       "4     0.4     9.856309                0.278                       0.285   \n",
       "5     0.5    11.189331                0.246                       0.252   \n",
       "6     0.6    12.185753                0.251                       0.229   \n",
       "7     0.7    12.947098                0.208                       0.212   \n",
       "8     0.8    13.542925                0.220                       0.224   \n",
       "9     0.9    14.018838                0.199                       0.190   \n",
       "10    1.0    14.408837                0.176                       0.174   \n",
       "\n",
       "    Linear_CIFAR10_FGSM_trained  Linear_CIFAR10_CW_trained  \n",
       "0                         0.398                      0.391  \n",
       "1                         0.366                      0.386  \n",
       "2                         0.337                      0.335  \n",
       "3                         0.296                      0.322  \n",
       "4                         0.245                      0.274  \n",
       "5                         0.225                      0.240  \n",
       "6                         0.222                      0.228  \n",
       "7                         0.188                      0.200  \n",
       "8                         0.178                      0.218  \n",
       "9                         0.184                      0.197  \n",
       "10                        0.162                      0.158  "
      ]
     },
     "execution_count": 12,
     "metadata": {},
     "output_type": "execute_result"
    }
   ],
   "source": [
    "stored_results = np.array(stored_results)\n",
    "stored_results = stored_results.reshape(-1,6)\n",
    "df = pd.DataFrame(stored_results, columns = ['sigma','avg_l2_norm','Linear_CIFAR10_base',\\\n",
    "                                 'Linear_CIFAR10_GNA_trained','Linear_CIFAR10_FGSM_trained','Linear_CIFAR10_CW_trained'])\n",
    "df.to_csv('Performance of adversarially trained Linear models on GNA [CIFAR10].csv', index=False)\n",
    "df"
   ]
  },
  {
   "cell_type": "code",
   "execution_count": 13,
   "metadata": {
    "id": "Q6CDjIErGGcJ",
    "outputId": "ac8cfae0-ae12-4842-f28f-74f7031b065f"
   },
   "outputs": [
    {
     "data": {
      "image/png": "[encoded data removed]",
      "text/plain": [
       "<Figure size 432x288 with 1 Axes>"
      ]
     },
     "metadata": {
      "needs_background": "light"
     },
     "output_type": "display_data"
    }
   ],
   "source": [
    "df = pd.read_csv('Performance of adversarially trained Linear models on GNA [CIFAR10].csv')\n",
    "plt.plot(df['avg_l2_norm'],df['Linear_CIFAR10_base'],'o--', color = 'C0')\n",
    "plt.plot(df['avg_l2_norm'],df['Linear_CIFAR10_GNA_trained'],'*-', color = 'C0')\n",
    "plt.plot(df['avg_l2_norm'],df['Linear_CIFAR10_FGSM_trained'],'v-', color = 'C0')\n",
    "plt.plot(df['avg_l2_norm'],df['Linear_CIFAR10_CW_trained'],'d-', color = 'C0')\n",
    "\n",
    "\n",
    "plt.xlabel('Average $l_2$ norm of the perturbation')\n",
    "plt.ylabel('Test accuracy')\n",
    "plt.ylim([-0.1, 1.1])\n",
    "plt.legend(['Linear_CIFAR10 (base)', 'Linear_CIFAR10 (GNA trained)',\\\n",
    "            'Linear_CIFAR10 (FGSM trained)', 'Linear_CIFAR10 (CW trained)'])\n",
    "plt.title('Effect of Gaussian noise attack on CIFAR10')\n",
    "plt.savefig('Adversarially trained Linear models GNA on CIFAR10 [l2 norm]', dpi=600)\n",
    "plt.show()"
   ]
  },
  {
   "cell_type": "markdown",
   "metadata": {
    "id": "IOOaoZ3CSYfC"
   },
   "source": [
    "**Performance on FGSM adversarial examples**"
   ]
  },
  {
   "cell_type": "code",
   "execution_count": 14,
   "metadata": {
    "id": "sQpSyrzzSYfC",
    "outputId": "14f1fcdf-261b-4f20-ea21-dac21cda5521"
   },
   "outputs": [
    {
     "name": "stdout",
     "output_type": "stream",
     "text": [
      "C:\\Users\\nh202\\OneDrive - University of Arizona\\Adversairal Examples - ECE 696B\\FGSM\n"
     ]
    }
   ],
   "source": [
    "%cd C:\\Users\\nh202\\OneDrive - University of Arizona\\Adversairal Examples - ECE 696B\\FGSM"
   ]
  },
  {
   "cell_type": "code",
   "execution_count": 15,
   "metadata": {
    "id": "8ofOV1NgSYfC",
    "outputId": "84313c1b-24a9-4519-9de3-b50c076e877e"
   },
   "outputs": [
    {
     "name": "stdout",
     "output_type": "stream",
     "text": [
      "eps value: 0.1\n",
      "32/32 [==============================] - 0s 3ms/step - loss: 15.5954 - accuracy: 0.0000e+00\n",
      "32/32 [==============================] - 0s 3ms/step - loss: 11.8911 - accuracy: 0.0000e+00\n",
      "32/32 [==============================] - 0s 2ms/step - loss: 0.1196 - accuracy: 0.9850\n",
      "32/32 [==============================] - 0s 3ms/step - loss: 12.4521 - accuracy: 0.0000e+00\n",
      "eps value: 0.2\n",
      "32/32 [==============================] - 0s 3ms/step - loss: 29.4172 - accuracy: 0.0000e+00\n",
      "32/32 [==============================] - 0s 2ms/step - loss: 22.1459 - accuracy: 0.0000e+00\n",
      "32/32 [==============================] - 0s 2ms/step - loss: 0.0104 - accuracy: 0.9990\n",
      "32/32 [==============================] - 0s 3ms/step - loss: 23.2747 - accuracy: 0.0000e+00\n",
      "eps value: 0.3\n",
      "32/32 [==============================] - 0s 2ms/step - loss: 41.9004 - accuracy: 0.0000e+00\n",
      "32/32 [==============================] - 0s 2ms/step - loss: 31.4505 - accuracy: 0.0000e+00\n",
      "32/32 [==============================] - 0s 3ms/step - loss: 0.0017 - accuracy: 1.0000\n",
      "32/32 [==============================] - 0s 3ms/step - loss: 33.0951 - accuracy: 0.0000e+00\n",
      "eps value: 0.4\n",
      "32/32 [==============================] - 0s 2ms/step - loss: 52.6203 - accuracy: 0.0000e+00\n",
      "32/32 [==============================] - 0s 2ms/step - loss: 39.4536 - accuracy: 0.0000e+00\n",
      "32/32 [==============================] - 0s 2ms/step - loss: 4.2357e-04 - accuracy: 1.0000\n",
      "32/32 [==============================] - 0s 2ms/step - loss: 41.5388 - accuracy: 0.0000e+00\n",
      "eps value: 0.5\n",
      "32/32 [==============================] - 0s 4ms/step - loss: 61.3416 - accuracy: 0.0000e+00\n",
      "32/32 [==============================] - 0s 2ms/step - loss: 45.9708 - accuracy: 0.0000e+00\n",
      "32/32 [==============================] - 0s 2ms/step - loss: 2.1418e-04 - accuracy: 1.0000\n",
      "32/32 [==============================] - 0s 3ms/step - loss: 48.4130 - accuracy: 0.0000e+00\n",
      "eps value: 0.6\n",
      "32/32 [==============================] - 0s 3ms/step - loss: 68.0174 - accuracy: 0.0000e+00\n",
      "32/32 [==============================] - 0s 3ms/step - loss: 50.9658 - accuracy: 0.0000e+00\n",
      "32/32 [==============================] - 0s 2ms/step - loss: 1.7480e-04 - accuracy: 1.0000\n",
      "32/32 [==============================] - 0s 2ms/step - loss: 53.6736 - accuracy: 0.0000e+00\n",
      "eps value: 0.7\n",
      "32/32 [==============================] - 0s 2ms/step - loss: 72.7148 - accuracy: 0.0000e+00\n",
      "32/32 [==============================] - 0s 4ms/step - loss: 54.4842 - accuracy: 0.0000e+00\n",
      "32/32 [==============================] - 0s 4ms/step - loss: 1.7262e-04 - accuracy: 1.0000\n",
      "32/32 [==============================] - 0s 2ms/step - loss: 57.3720 - accuracy: 0.0000e+00\n",
      "eps value: 0.8\n",
      "32/32 [==============================] - 0s 4ms/step - loss: 75.6402 - accuracy: 0.0000e+00\n",
      "32/32 [==============================] - 0s 2ms/step - loss: 56.6766 - accuracy: 0.0000e+00\n",
      "32/32 [==============================] - 0s 2ms/step - loss: 1.6686e-04 - accuracy: 1.0000\n",
      "32/32 [==============================] - 0s 3ms/step - loss: 59.6734 - accuracy: 0.0000e+00\n",
      "eps value: 0.9\n",
      "32/32 [==============================] - 0s 3ms/step - loss: 77.1182 - accuracy: 0.0000e+00\n",
      "32/32 [==============================] - 0s 2ms/step - loss: 57.7841 - accuracy: 0.0000e+00\n",
      "32/32 [==============================] - 0s 2ms/step - loss: 1.4071e-04 - accuracy: 1.0000\n",
      "32/32 [==============================] - 0s 3ms/step - loss: 60.8375 - accuracy: 0.0000e+00\n",
      "eps value: 1.0\n",
      "32/32 [==============================] - 0s 2ms/step - loss: 77.5898 - accuracy: 0.0000e+00\n",
      "32/32 [==============================] - 0s 2ms/step - loss: 58.1373 - accuracy: 0.0000e+00\n",
      "32/32 [==============================] - 0s 2ms/step - loss: 1.3834e-04 - accuracy: 1.0000\n",
      "32/32 [==============================] - 0s 3ms/step - loss: 61.2113 - accuracy: 0.0000e+00\n"
     ]
    }
   ],
   "source": [
    "indexes = range(1000)\n",
    "stored_results = []\n",
    "for eps in np.arange(0.1,1.1,0.1):\n",
    "    \n",
    "  print(f'eps value: {np.round(eps,1)}')\n",
    "  stored_results.append(eps)\n",
    "\n",
    "  np_array_filename = 'CIFAR10_FGSM_'+ str(len(indexes)) +'_adv_examples_eps_'+ str(round(eps,1)) + '.npz'\n",
    "  data = np.load(np_array_filename)\n",
    "\n",
    "  # access the arrays using their keys\n",
    "  X_test_FGSM_Linear = data['X_test_FGSM_Linear']\n",
    "\n",
    "  avg_l2_norm_Linear = np.mean(np.sqrt(np.sum((X_test_FGSM_Linear-X_test[:len(indexes)])**2, axis=(1,2))))\n",
    "  stored_results.append(avg_l2_norm_Linear)\n",
    "    \n",
    "  _,accuracy = Linear_CIFAR10_base.evaluate(X_test_FGSM_Linear[indexes],y_test[indexes])\n",
    "  stored_results.append(accuracy)\n",
    "\n",
    "  _,accuracy = Linear_CIFAR10_GNA_trained.evaluate(X_test_FGSM_Linear[indexes],y_test[indexes])\n",
    "  stored_results.append(accuracy)\n",
    "\n",
    "  _,accuracy = Linear_CIFAR10_FGSM_trained.evaluate(X_test_FGSM_Linear[indexes],y_test[indexes])\n",
    "  stored_results.append(accuracy)\n",
    "\n",
    "  _,accuracy = Linear_CIFAR10_CW_trained.evaluate(X_test_FGSM_Linear[indexes],y_test[indexes])\n",
    "  stored_results.append(accuracy)\n",
    "    "
   ]
  },
  {
   "cell_type": "code",
   "execution_count": 16,
   "metadata": {
    "id": "jqnfjwwsSYfD",
    "outputId": "182e72cd-2244-4a7d-8da5-06a8504142a1"
   },
   "outputs": [
    {
     "data": {
      "text/html": [
       "<div>\n",
       "<style scoped>\n",
       "    .dataframe tbody tr th:only-of-type {\n",
       "        vertical-align: middle;\n",
       "    }\n",
       "\n",
       "    .dataframe tbody tr th {\n",
       "        vertical-align: top;\n",
       "    }\n",
       "\n",
       "    .dataframe thead th {\n",
       "        text-align: right;\n",
       "    }\n",
       "</style>\n",
       "<table border=\"1\" class=\"dataframe\">\n",
       "  <thead>\n",
       "    <tr style=\"text-align: right;\">\n",
       "      <th></th>\n",
       "      <th>sigma</th>\n",
       "      <th>avg_l2_norm</th>\n",
       "      <th>Linear_CIFAR10_base</th>\n",
       "      <th>Linear_CIFAR10_GNA_trained</th>\n",
       "      <th>Linear_CIFAR10_FGSM_trained</th>\n",
       "      <th>Linear_CIFAR10_CW_trained</th>\n",
       "    </tr>\n",
       "  </thead>\n",
       "  <tbody>\n",
       "    <tr>\n",
       "      <th>0</th>\n",
       "      <td>0.1</td>\n",
       "      <td>3.133576</td>\n",
       "      <td>0.0</td>\n",
       "      <td>0.0</td>\n",
       "      <td>0.985</td>\n",
       "      <td>0.0</td>\n",
       "    </tr>\n",
       "    <tr>\n",
       "      <th>1</th>\n",
       "      <td>0.2</td>\n",
       "      <td>6.113562</td>\n",
       "      <td>0.0</td>\n",
       "      <td>0.0</td>\n",
       "      <td>0.999</td>\n",
       "      <td>0.0</td>\n",
       "    </tr>\n",
       "    <tr>\n",
       "      <th>2</th>\n",
       "      <td>0.3</td>\n",
       "      <td>8.863693</td>\n",
       "      <td>0.0</td>\n",
       "      <td>0.0</td>\n",
       "      <td>1.000</td>\n",
       "      <td>0.0</td>\n",
       "    </tr>\n",
       "    <tr>\n",
       "      <th>3</th>\n",
       "      <td>0.4</td>\n",
       "      <td>11.317410</td>\n",
       "      <td>0.0</td>\n",
       "      <td>0.0</td>\n",
       "      <td>1.000</td>\n",
       "      <td>0.0</td>\n",
       "    </tr>\n",
       "    <tr>\n",
       "      <th>4</th>\n",
       "      <td>0.5</td>\n",
       "      <td>13.421781</td>\n",
       "      <td>0.0</td>\n",
       "      <td>0.0</td>\n",
       "      <td>1.000</td>\n",
       "      <td>0.0</td>\n",
       "    </tr>\n",
       "    <tr>\n",
       "      <th>5</th>\n",
       "      <td>0.6</td>\n",
       "      <td>15.138398</td>\n",
       "      <td>0.0</td>\n",
       "      <td>0.0</td>\n",
       "      <td>1.000</td>\n",
       "      <td>0.0</td>\n",
       "    </tr>\n",
       "    <tr>\n",
       "      <th>6</th>\n",
       "      <td>0.7</td>\n",
       "      <td>16.430072</td>\n",
       "      <td>0.0</td>\n",
       "      <td>0.0</td>\n",
       "      <td>1.000</td>\n",
       "      <td>0.0</td>\n",
       "    </tr>\n",
       "    <tr>\n",
       "      <th>7</th>\n",
       "      <td>0.8</td>\n",
       "      <td>17.290757</td>\n",
       "      <td>0.0</td>\n",
       "      <td>0.0</td>\n",
       "      <td>1.000</td>\n",
       "      <td>0.0</td>\n",
       "    </tr>\n",
       "    <tr>\n",
       "      <th>8</th>\n",
       "      <td>0.9</td>\n",
       "      <td>17.757956</td>\n",
       "      <td>0.0</td>\n",
       "      <td>0.0</td>\n",
       "      <td>1.000</td>\n",
       "      <td>0.0</td>\n",
       "    </tr>\n",
       "    <tr>\n",
       "      <th>9</th>\n",
       "      <td>1.0</td>\n",
       "      <td>17.917131</td>\n",
       "      <td>0.0</td>\n",
       "      <td>0.0</td>\n",
       "      <td>1.000</td>\n",
       "      <td>0.0</td>\n",
       "    </tr>\n",
       "  </tbody>\n",
       "</table>\n",
       "</div>"
      ],
      "text/plain": [
       "   sigma  avg_l2_norm  Linear_CIFAR10_base  Linear_CIFAR10_GNA_trained  \\\n",
       "0    0.1     3.133576                  0.0                         0.0   \n",
       "1    0.2     6.113562                  0.0                         0.0   \n",
       "2    0.3     8.863693                  0.0                         0.0   \n",
       "3    0.4    11.317410                  0.0                         0.0   \n",
       "4    0.5    13.421781                  0.0                         0.0   \n",
       "5    0.6    15.138398                  0.0                         0.0   \n",
       "6    0.7    16.430072                  0.0                         0.0   \n",
       "7    0.8    17.290757                  0.0                         0.0   \n",
       "8    0.9    17.757956                  0.0                         0.0   \n",
       "9    1.0    17.917131                  0.0                         0.0   \n",
       "\n",
       "   Linear_CIFAR10_FGSM_trained  Linear_CIFAR10_CW_trained  \n",
       "0                        0.985                        0.0  \n",
       "1                        0.999                        0.0  \n",
       "2                        1.000                        0.0  \n",
       "3                        1.000                        0.0  \n",
       "4                        1.000                        0.0  \n",
       "5                        1.000                        0.0  \n",
       "6                        1.000                        0.0  \n",
       "7                        1.000                        0.0  \n",
       "8                        1.000                        0.0  \n",
       "9                        1.000                        0.0  "
      ]
     },
     "execution_count": 16,
     "metadata": {},
     "output_type": "execute_result"
    }
   ],
   "source": [
    "stored_results = np.array(stored_results)\n",
    "stored_results = stored_results.reshape(-1,6)\n",
    "df = pd.DataFrame(stored_results, columns = ['sigma','avg_l2_norm','Linear_CIFAR10_base',\\\n",
    "                                 'Linear_CIFAR10_GNA_trained','Linear_CIFAR10_FGSM_trained','Linear_CIFAR10_CW_trained'])\n",
    "df.to_csv('Performance of adversarially trained Linear models on FGSM [CIFAR10].csv', index=False)\n",
    "df"
   ]
  },
  {
   "cell_type": "code",
   "execution_count": 17,
   "metadata": {
    "id": "R0sGJZ8MSYfD",
    "outputId": "0621a7ed-80ef-4f4b-d067-c2edcabd00e5"
   },
   "outputs": [
    {
     "name": "stdout",
     "output_type": "stream",
     "text": [
      "Test accuracy on unperturbed data\n",
      "32/32 [==============================] - 0s 3ms/step - loss: 1.7382 - accuracy: 0.3960\n",
      "32/32 [==============================] - 0s 4ms/step - loss: 1.7727 - accuracy: 0.3860\n",
      "32/32 [==============================] - 0s 3ms/step - loss: 1.7600 - accuracy: 0.3980\n",
      "32/32 [==============================] - 0s 2ms/step - loss: 1.7732 - accuracy: 0.3910\n"
     ]
    },
    {
     "data": {
      "image/png": "[encoded data removed]",
      "text/plain": [
       "<Figure size 432x288 with 1 Axes>"
      ]
     },
     "metadata": {
      "needs_background": "light"
     },
     "output_type": "display_data"
    }
   ],
   "source": [
    "df = pd.read_csv('Performance of adversarially trained Linear models on FGSM [CIFAR10].csv')\n",
    "\n",
    "df = df.shift(1)\n",
    "print('Test accuracy on unperturbed data')\n",
    "_, accuracy_base = Linear_CIFAR10_base.evaluate(X_test[indexes],y_test[indexes]);\n",
    "_, accuracy_GNA_trained = Linear_CIFAR10_GNA_trained.evaluate(X_test[indexes],y_test[indexes]);\n",
    "_, accuracy_FGSM_trained = Linear_CIFAR10_FGSM_trained.evaluate(X_test[indexes],y_test[indexes]);\n",
    "_, accuracy_CW_trained = Linear_CIFAR10_CW_trained.evaluate(X_test[indexes],y_test[indexes]);\n",
    "df.iloc[0] = [0, 0, accuracy_base, accuracy_GNA_trained, accuracy_FGSM_trained, accuracy_CW_trained]\n",
    "\n",
    "plt.plot(df['avg_l2_norm'],df['Linear_CIFAR10_base'],'o--', color = 'C0')\n",
    "plt.plot(df['avg_l2_norm'],df['Linear_CIFAR10_GNA_trained'],'*-', color = 'C0')\n",
    "plt.plot(df['avg_l2_norm'],df['Linear_CIFAR10_FGSM_trained'],'v-', color = 'C0')\n",
    "plt.plot(df['avg_l2_norm'],df['Linear_CIFAR10_CW_trained'],'d-', color = 'C0')\n",
    "\n",
    "\n",
    "plt.xlabel('Average $l_2$ norm of the perturbation')\n",
    "plt.ylabel('Test accuracy')\n",
    "plt.ylim([-0.1, 1.1])\n",
    "plt.legend(['Linear_CIFAR10 (base)', 'Linear_CIFAR10 (GNA trained)',\\\n",
    "            'Linear_CIFAR10 (FGSM trained)', 'Linear_CIFAR10 (CW trained)'])\n",
    "plt.title('Effect of FGSM attack on CIFAR10')\n",
    "plt.savefig('Adversarially trained Linear models FGSM on CIFAR10 [l2 norm]', dpi=600)\n",
    "plt.show()"
   ]
  },
  {
   "cell_type": "markdown",
   "metadata": {
    "id": "Qa51NDzuSYfD"
   },
   "source": [
    "**Performance on CW adversarial examples**"
   ]
  },
  {
   "cell_type": "code",
   "execution_count": 18,
   "metadata": {
    "id": "lFLsl82FSYfD",
    "outputId": "095f672c-d11c-4c60-8f07-4cc9f181d032"
   },
   "outputs": [
    {
     "name": "stdout",
     "output_type": "stream",
     "text": [
      "C:\\Users\\nh202\\OneDrive - University of Arizona\\Adversairal Examples - ECE 696B\\CW\n"
     ]
    }
   ],
   "source": [
    "%cd C:\\Users\\nh202\\OneDrive - University of Arizona\\Adversairal Examples - ECE 696B\\CW"
   ]
  },
  {
   "cell_type": "code",
   "execution_count": 19,
   "metadata": {
    "id": "zXvfQaNtSYfD",
    "outputId": "1972cda6-692a-4b47-d546-74cbe23bf823"
   },
   "outputs": [
    {
     "name": "stdout",
     "output_type": "stream",
     "text": [
      "32/32 [==============================] - 0s 3ms/step - loss: 1.8002 - accuracy: 0.2010\n",
      "32/32 [==============================] - 0s 2ms/step - loss: 1.8151 - accuracy: 0.3240\n",
      "32/32 [==============================] - 0s 2ms/step - loss: 1.7610 - accuracy: 0.3950\n",
      "32/32 [==============================] - 0s 4ms/step - loss: 1.8367 - accuracy: 0.3000\n",
      "32/32 [==============================] - 0s 2ms/step - loss: 1.8020 - accuracy: 0.2010\n",
      "32/32 [==============================] - 0s 2ms/step - loss: 1.8162 - accuracy: 0.3220\n",
      "32/32 [==============================] - 0s 3ms/step - loss: 1.7611 - accuracy: 0.3960\n",
      "32/32 [==============================] - 0s 3ms/step - loss: 1.8380 - accuracy: 0.2990\n",
      "32/32 [==============================] - 0s 4ms/step - loss: 1.8032 - accuracy: 0.2010\n",
      "32/32 [==============================] - 0s 2ms/step - loss: 1.8168 - accuracy: 0.3220\n",
      "32/32 [==============================] - 0s 2ms/step - loss: 1.7611 - accuracy: 0.3950\n",
      "32/32 [==============================] - 0s 4ms/step - loss: 1.8388 - accuracy: 0.3010\n",
      "32/32 [==============================] - 0s 2ms/step - loss: 1.8050 - accuracy: 0.2010\n",
      "32/32 [==============================] - 0s 2ms/step - loss: 1.8180 - accuracy: 0.3220\n",
      "32/32 [==============================] - 0s 2ms/step - loss: 1.7611 - accuracy: 0.3950\n",
      "32/32 [==============================] - 0s 2ms/step - loss: 1.8402 - accuracy: 0.2950\n",
      "32/32 [==============================] - 0s 2ms/step - loss: 1.8062 - accuracy: 0.2010\n",
      "32/32 [==============================] - 0s 3ms/step - loss: 1.8186 - accuracy: 0.3190\n",
      "32/32 [==============================] - 0s 2ms/step - loss: 1.7611 - accuracy: 0.3960\n",
      "32/32 [==============================] - 0s 2ms/step - loss: 1.8410 - accuracy: 0.2920\n",
      "32/32 [==============================] - 0s 3ms/step - loss: 1.8088 - accuracy: 0.2010\n",
      "32/32 [==============================] - 0s 2ms/step - loss: 1.8202 - accuracy: 0.3150\n",
      "32/32 [==============================] - 0s 3ms/step - loss: 1.7612 - accuracy: 0.3960\n",
      "32/32 [==============================] - 0s 3ms/step - loss: 1.8428 - accuracy: 0.2960\n",
      "32/32 [==============================] - 0s 3ms/step - loss: 1.8109 - accuracy: 0.2010\n",
      "32/32 [==============================] - 0s 3ms/step - loss: 1.8216 - accuracy: 0.3140\n",
      "32/32 [==============================] - 0s 3ms/step - loss: 1.7611 - accuracy: 0.3960\n",
      "32/32 [==============================] - 0s 2ms/step - loss: 1.8444 - accuracy: 0.2900\n",
      "32/32 [==============================] - 0s 3ms/step - loss: 1.8114 - accuracy: 0.2010\n",
      "32/32 [==============================] - 0s 2ms/step - loss: 1.8216 - accuracy: 0.3130\n",
      "32/32 [==============================] - 0s 3ms/step - loss: 1.7612 - accuracy: 0.3960\n",
      "32/32 [==============================] - 0s 3ms/step - loss: 1.8446 - accuracy: 0.2850\n",
      "32/32 [==============================] - 0s 2ms/step - loss: 1.8143 - accuracy: 0.2010\n",
      "32/32 [==============================] - 0s 2ms/step - loss: 1.8235 - accuracy: 0.3110\n",
      "32/32 [==============================] - 0s 2ms/step - loss: 1.7612 - accuracy: 0.3950\n",
      "32/32 [==============================] - 0s 4ms/step - loss: 1.8466 - accuracy: 0.2840\n",
      "32/32 [==============================] - 0s 2ms/step - loss: 1.8167 - accuracy: 0.2010\n",
      "32/32 [==============================] - 0s 2ms/step - loss: 1.8243 - accuracy: 0.3070\n",
      "32/32 [==============================] - 0s 3ms/step - loss: 1.7612 - accuracy: 0.3980\n",
      "32/32 [==============================] - 0s 3ms/step - loss: 1.8484 - accuracy: 0.2830\n"
     ]
    }
   ],
   "source": [
    "indexes = range(1000)\n",
    "stored_results = []\n",
    "lot = 0\n",
    "for c in np.arange(0.1,1.1,0.1):\n",
    "    filename = 'CIFAR10_x_adv_stack_Linear_Lot' + str(lot+1) + '_c' + str(np.round(c,1)) + '.npy'\n",
    "    x_adv_stack = np.load(filename)\n",
    "    \n",
    "    stored_results.append(np.round(c,1))\n",
    "    \n",
    "    avg_l2_norm = np.mean(np.sqrt(np.sum((x_adv_stack-X_test[:len(x_adv_stack)])**2, axis=(1,2))))    \n",
    "    \n",
    "    if np.isnan(avg_l2_norm):\n",
    "        delta = x_adv_stack-X_test[:len(x_adv_stack)]\n",
    "        indices = np.argwhere(np.isnan(delta))\n",
    "        delta[indices] = 1\n",
    "        x_adv_stack = X_test[:len(x_adv_stack)] + delta\n",
    "        x_adv_stack = np.clip(x_adv_stack, 0, 1)\n",
    "        delta = x_adv_stack-X_test[:len(x_adv_stack)]\n",
    "        avg_l2_norm = np.mean(np.sqrt(np.sum((x_adv_stack-X_test[:len(x_adv_stack)])**2, axis=(1,2))))\n",
    "        \n",
    "    stored_results.append(avg_l2_norm)\n",
    "    \n",
    "    _,accuracy = Linear_CIFAR10_base.evaluate(x_adv_stack,y_test[indexes])\n",
    "    stored_results.append(accuracy)\n",
    "\n",
    "    _,accuracy = Linear_CIFAR10_GNA_trained.evaluate(x_adv_stack,y_test[indexes])\n",
    "    stored_results.append(accuracy)\n",
    "\n",
    "    _,accuracy = Linear_CIFAR10_FGSM_trained.evaluate(x_adv_stack,y_test[indexes])\n",
    "    stored_results.append(accuracy)\n",
    "\n",
    "    _,accuracy = Linear_CIFAR10_CW_trained.evaluate(x_adv_stack,y_test[indexes])\n",
    "    stored_results.append(accuracy)"
   ]
  },
  {
   "cell_type": "code",
   "execution_count": 20,
   "metadata": {
    "id": "Kr5qSta1SYfE",
    "outputId": "364aa216-117b-460a-bc7b-c4d8952eab8e"
   },
   "outputs": [
    {
     "data": {
      "text/html": [
       "<div>\n",
       "<style scoped>\n",
       "    .dataframe tbody tr th:only-of-type {\n",
       "        vertical-align: middle;\n",
       "    }\n",
       "\n",
       "    .dataframe tbody tr th {\n",
       "        vertical-align: top;\n",
       "    }\n",
       "\n",
       "    .dataframe thead th {\n",
       "        text-align: right;\n",
       "    }\n",
       "</style>\n",
       "<table border=\"1\" class=\"dataframe\">\n",
       "  <thead>\n",
       "    <tr style=\"text-align: right;\">\n",
       "      <th></th>\n",
       "      <th>sigma</th>\n",
       "      <th>avg_l2_norm</th>\n",
       "      <th>Linear_CIFAR10_base</th>\n",
       "      <th>Linear_CIFAR10_GNA_trained</th>\n",
       "      <th>Linear_CIFAR10_FGSM_trained</th>\n",
       "      <th>Linear_CIFAR10_CW_trained</th>\n",
       "    </tr>\n",
       "  </thead>\n",
       "  <tbody>\n",
       "    <tr>\n",
       "      <th>0</th>\n",
       "      <td>0.1</td>\n",
       "      <td>0.113272</td>\n",
       "      <td>0.201</td>\n",
       "      <td>0.324</td>\n",
       "      <td>0.395</td>\n",
       "      <td>0.300</td>\n",
       "    </tr>\n",
       "    <tr>\n",
       "      <th>1</th>\n",
       "      <td>0.2</td>\n",
       "      <td>0.115043</td>\n",
       "      <td>0.201</td>\n",
       "      <td>0.322</td>\n",
       "      <td>0.396</td>\n",
       "      <td>0.299</td>\n",
       "    </tr>\n",
       "    <tr>\n",
       "      <th>2</th>\n",
       "      <td>0.3</td>\n",
       "      <td>0.116691</td>\n",
       "      <td>0.201</td>\n",
       "      <td>0.322</td>\n",
       "      <td>0.395</td>\n",
       "      <td>0.301</td>\n",
       "    </tr>\n",
       "    <tr>\n",
       "      <th>3</th>\n",
       "      <td>0.4</td>\n",
       "      <td>0.118492</td>\n",
       "      <td>0.201</td>\n",
       "      <td>0.322</td>\n",
       "      <td>0.395</td>\n",
       "      <td>0.295</td>\n",
       "    </tr>\n",
       "    <tr>\n",
       "      <th>4</th>\n",
       "      <td>0.5</td>\n",
       "      <td>0.120333</td>\n",
       "      <td>0.201</td>\n",
       "      <td>0.319</td>\n",
       "      <td>0.396</td>\n",
       "      <td>0.292</td>\n",
       "    </tr>\n",
       "    <tr>\n",
       "      <th>5</th>\n",
       "      <td>0.6</td>\n",
       "      <td>0.122343</td>\n",
       "      <td>0.201</td>\n",
       "      <td>0.315</td>\n",
       "      <td>0.396</td>\n",
       "      <td>0.296</td>\n",
       "    </tr>\n",
       "    <tr>\n",
       "      <th>6</th>\n",
       "      <td>0.7</td>\n",
       "      <td>0.123759</td>\n",
       "      <td>0.201</td>\n",
       "      <td>0.314</td>\n",
       "      <td>0.396</td>\n",
       "      <td>0.290</td>\n",
       "    </tr>\n",
       "    <tr>\n",
       "      <th>7</th>\n",
       "      <td>0.8</td>\n",
       "      <td>0.125652</td>\n",
       "      <td>0.201</td>\n",
       "      <td>0.313</td>\n",
       "      <td>0.396</td>\n",
       "      <td>0.285</td>\n",
       "    </tr>\n",
       "    <tr>\n",
       "      <th>8</th>\n",
       "      <td>0.9</td>\n",
       "      <td>0.127795</td>\n",
       "      <td>0.201</td>\n",
       "      <td>0.311</td>\n",
       "      <td>0.395</td>\n",
       "      <td>0.284</td>\n",
       "    </tr>\n",
       "    <tr>\n",
       "      <th>9</th>\n",
       "      <td>1.0</td>\n",
       "      <td>0.129676</td>\n",
       "      <td>0.201</td>\n",
       "      <td>0.307</td>\n",
       "      <td>0.398</td>\n",
       "      <td>0.283</td>\n",
       "    </tr>\n",
       "  </tbody>\n",
       "</table>\n",
       "</div>"
      ],
      "text/plain": [
       "   sigma  avg_l2_norm  Linear_CIFAR10_base  Linear_CIFAR10_GNA_trained  \\\n",
       "0    0.1     0.113272                0.201                       0.324   \n",
       "1    0.2     0.115043                0.201                       0.322   \n",
       "2    0.3     0.116691                0.201                       0.322   \n",
       "3    0.4     0.118492                0.201                       0.322   \n",
       "4    0.5     0.120333                0.201                       0.319   \n",
       "5    0.6     0.122343                0.201                       0.315   \n",
       "6    0.7     0.123759                0.201                       0.314   \n",
       "7    0.8     0.125652                0.201                       0.313   \n",
       "8    0.9     0.127795                0.201                       0.311   \n",
       "9    1.0     0.129676                0.201                       0.307   \n",
       "\n",
       "   Linear_CIFAR10_FGSM_trained  Linear_CIFAR10_CW_trained  \n",
       "0                        0.395                      0.300  \n",
       "1                        0.396                      0.299  \n",
       "2                        0.395                      0.301  \n",
       "3                        0.395                      0.295  \n",
       "4                        0.396                      0.292  \n",
       "5                        0.396                      0.296  \n",
       "6                        0.396                      0.290  \n",
       "7                        0.396                      0.285  \n",
       "8                        0.395                      0.284  \n",
       "9                        0.398                      0.283  "
      ]
     },
     "execution_count": 20,
     "metadata": {},
     "output_type": "execute_result"
    }
   ],
   "source": [
    "stored_results = np.array(stored_results)\n",
    "stored_results = stored_results.reshape(-1,6)\n",
    "df = pd.DataFrame(stored_results, columns = ['sigma','avg_l2_norm','Linear_CIFAR10_base',\\\n",
    "                                 'Linear_CIFAR10_GNA_trained','Linear_CIFAR10_FGSM_trained','Linear_CIFAR10_CW_trained'])\n",
    "df.to_csv('Performance of adversarially trained Linear models on CW [CIFAR10].csv', index=False)\n",
    "df"
   ]
  },
  {
   "cell_type": "code",
   "execution_count": 21,
   "metadata": {
    "id": "uBVvBniOSYfE",
    "outputId": "471b0df9-f911-4586-e1ea-fcbf3399e1aa"
   },
   "outputs": [
    {
     "name": "stdout",
     "output_type": "stream",
     "text": [
      "Test accuracy on unperturbed data\n",
      "32/32 [==============================] - 0s 3ms/step - loss: 1.7382 - accuracy: 0.3960\n",
      "32/32 [==============================] - 0s 2ms/step - loss: 1.7727 - accuracy: 0.3860\n",
      "32/32 [==============================] - 0s 2ms/step - loss: 1.7600 - accuracy: 0.3980\n",
      "32/32 [==============================] - 0s 2ms/step - loss: 1.7732 - accuracy: 0.3910\n"
     ]
    },
    {
     "data": {
      "image/png": "[encoded data removed]",
      "text/plain": [
       "<Figure size 432x288 with 1 Axes>"
      ]
     },
     "metadata": {
      "needs_background": "light"
     },
     "output_type": "display_data"
    }
   ],
   "source": [
    "df = pd.read_csv('Performance of adversarially trained Linear models on CW [CIFAR10].csv')\n",
    "\n",
    "df = df.shift(1)\n",
    "print('Test accuracy on unperturbed data')\n",
    "_, accuracy_base = Linear_CIFAR10_base.evaluate(X_test[indexes],y_test[indexes]);\n",
    "_, accuracy_GNA_trained = Linear_CIFAR10_GNA_trained.evaluate(X_test[indexes],y_test[indexes]);\n",
    "_, accuracy_FGSM_trained = Linear_CIFAR10_FGSM_trained.evaluate(X_test[indexes],y_test[indexes]);\n",
    "_, accuracy_CW_trained = Linear_CIFAR10_CW_trained.evaluate(X_test[indexes],y_test[indexes]);\n",
    "df.iloc[0] = [0, 0, accuracy_base, accuracy_GNA_trained, accuracy_FGSM_trained, accuracy_CW_trained]\n",
    "\n",
    "df = df.sort_values('avg_l2_norm', ascending=True)\n",
    "\n",
    "plt.plot(df['avg_l2_norm'],df['Linear_CIFAR10_base'],'o--', color = 'C0')\n",
    "plt.plot(df['avg_l2_norm'],df['Linear_CIFAR10_GNA_trained'],'*-', color = 'C0')\n",
    "plt.plot(df['avg_l2_norm'],df['Linear_CIFAR10_FGSM_trained'],'v-', color = 'C0')\n",
    "plt.plot(df['avg_l2_norm'],df['Linear_CIFAR10_CW_trained'],'d-', color = 'C0')\n",
    "\n",
    "\n",
    "plt.xlabel('Average $l_2$ norm of the perturbation')\n",
    "plt.ylabel('Test accuracy')\n",
    "plt.ylim([-0.1, 1.1])\n",
    "plt.legend(['Linear_CIFAR10 (base)', 'Linear_CIFAR10 (GNA trained)',\\\n",
    "            'Linear_CIFAR10 (FGSM trained)', 'Linear_CIFAR10 (CW trained)'])\n",
    "plt.title('Effect of CW attack on CIFAR10')\n",
    "plt.savefig('Adversarially trained Linear models CW on CIFAR10 [l2 norm]', dpi=600)\n",
    "plt.show()"
   ]
  }
 ],
 "metadata": {
  "accelerator": "GPU",
  "colab": {
   "provenance": [
    {
     "file_id": "17t5wZdiu4KbtR9opaQcMZECSJAndropo",
     "timestamp": 1674347819943
    }
   ]
  },
  "gpuClass": "standard",
  "kernelspec": {
   "display_name": "Python 3",
   "language": "python",
   "name": "python3"
  }
 },
 "nbformat": 4,
 "nbformat_minor": 1
}
