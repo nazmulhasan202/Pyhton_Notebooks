{
 "cells": [
  {
   "cell_type": "markdown",
   "metadata": {
    "id": "aiSUzqR_k38-"
   },
   "source": [
    "**Import packages**"
   ]
  },
  {
   "cell_type": "code",
   "execution_count": 1,
   "metadata": {
    "colab": {
     "base_uri": "https://localhost:8080/"
    },
    "executionInfo": {
     "elapsed": 5461,
     "status": "ok",
     "timestamp": 1678470195060,
     "user": {
      "displayName": "Nazmul Hasan",
      "userId": "02122416256231585764"
     },
     "user_tz": 420
    },
    "id": "ad5wwLh9culg",
    "outputId": "f60a7e6d-d728-4e9c-c65a-511838542b8f"
   },
   "outputs": [
    {
     "name": "stdout",
     "output_type": "stream",
     "text": [
      "Requirement already satisfied: pytictoc in c:\\programdata\\anaconda3\\lib\\site-packages (1.5.2)\n"
     ]
    }
   ],
   "source": [
    "!pip install pytictoc"
   ]
  },
  {
   "cell_type": "code",
   "execution_count": 2,
   "metadata": {
    "colab": {
     "base_uri": "https://localhost:8080/"
    },
    "executionInfo": {
     "elapsed": 5986,
     "status": "ok",
     "timestamp": 1678470201039,
     "user": {
      "displayName": "Nazmul Hasan",
      "userId": "02122416256231585764"
     },
     "user_tz": 420
    },
    "id": "qoJw6787qpoU",
    "outputId": "b30b35b0-b0de-4b28-9653-b1158e8fd321"
   },
   "outputs": [
    {
     "name": "stdout",
     "output_type": "stream",
     "text": [
      "Requirement already satisfied: tensorflow in c:\\programdata\\anaconda3\\lib\\site-packages (2.11.0)\n",
      "Requirement already satisfied: tensorflow-intel==2.11.0 in c:\\programdata\\anaconda3\\lib\\site-packages (from tensorflow) (2.11.0)\n",
      "Requirement already satisfied: termcolor>=1.1.0 in c:\\programdata\\anaconda3\\lib\\site-packages (from tensorflow-intel==2.11.0->tensorflow) (2.2.0)\n",
      "Requirement already satisfied: six>=1.12.0 in c:\\programdata\\anaconda3\\lib\\site-packages (from tensorflow-intel==2.11.0->tensorflow) (1.15.0)\n",
      "Requirement already satisfied: gast<=0.4.0,>=0.2.1 in c:\\programdata\\anaconda3\\lib\\site-packages (from tensorflow-intel==2.11.0->tensorflow) (0.4.0)\n",
      "Requirement already satisfied: h5py>=2.9.0 in c:\\programdata\\anaconda3\\lib\\site-packages (from tensorflow-intel==2.11.0->tensorflow) (2.10.0)\n",
      "Requirement already satisfied: flatbuffers>=2.0 in c:\\programdata\\anaconda3\\lib\\site-packages (from tensorflow-intel==2.11.0->tensorflow) (23.3.3)\n",
      "Requirement already satisfied: google-pasta>=0.1.1 in c:\\programdata\\anaconda3\\lib\\site-packages (from tensorflow-intel==2.11.0->tensorflow) (0.2.0)\n",
      "Requirement already satisfied: absl-py>=1.0.0 in c:\\programdata\\anaconda3\\lib\\site-packages (from tensorflow-intel==2.11.0->tensorflow) (1.4.0)\n",
      "Requirement already satisfied: protobuf<3.20,>=3.9.2 in c:\\programdata\\anaconda3\\lib\\site-packages (from tensorflow-intel==2.11.0->tensorflow) (3.19.6)\n",
      "Requirement already satisfied: numpy>=1.20 in c:\\programdata\\anaconda3\\lib\\site-packages (from tensorflow-intel==2.11.0->tensorflow) (1.20.1)\n",
      "Requirement already satisfied: keras<2.12,>=2.11.0 in c:\\programdata\\anaconda3\\lib\\site-packages (from tensorflow-intel==2.11.0->tensorflow) (2.11.0)\n",
      "Requirement already satisfied: tensorflow-estimator<2.12,>=2.11.0 in c:\\programdata\\anaconda3\\lib\\site-packages (from tensorflow-intel==2.11.0->tensorflow) (2.11.0)\n",
      "Requirement already satisfied: tensorflow-io-gcs-filesystem>=0.23.1 in c:\\programdata\\anaconda3\\lib\\site-packages (from tensorflow-intel==2.11.0->tensorflow) (0.31.0)\n",
      "Requirement already satisfied: wrapt>=1.11.0 in c:\\programdata\\anaconda3\\lib\\site-packages (from tensorflow-intel==2.11.0->tensorflow) (1.12.1)\n",
      "Requirement already satisfied: grpcio<2.0,>=1.24.3 in c:\\programdata\\anaconda3\\lib\\site-packages (from tensorflow-intel==2.11.0->tensorflow) (1.51.3)\n",
      "Requirement already satisfied: typing-extensions>=3.6.6 in c:\\programdata\\anaconda3\\lib\\site-packages (from tensorflow-intel==2.11.0->tensorflow) (3.7.4.3)\n",
      "Requirement already satisfied: packaging in c:\\programdata\\anaconda3\\lib\\site-packages (from tensorflow-intel==2.11.0->tensorflow) (20.9)\n",
      "Requirement already satisfied: libclang>=13.0.0 in c:\\programdata\\anaconda3\\lib\\site-packages (from tensorflow-intel==2.11.0->tensorflow) (15.0.6.1)\n",
      "Requirement already satisfied: opt-einsum>=2.3.2 in c:\\programdata\\anaconda3\\lib\\site-packages (from tensorflow-intel==2.11.0->tensorflow) (3.3.0)\n",
      "Requirement already satisfied: astunparse>=1.6.0 in c:\\programdata\\anaconda3\\lib\\site-packages (from tensorflow-intel==2.11.0->tensorflow) (1.6.3)\n",
      "Requirement already satisfied: setuptools in c:\\programdata\\anaconda3\\lib\\site-packages (from tensorflow-intel==2.11.0->tensorflow) (52.0.0.post20210125)\n",
      "Requirement already satisfied: tensorboard<2.12,>=2.11 in c:\\programdata\\anaconda3\\lib\\site-packages (from tensorflow-intel==2.11.0->tensorflow) (2.11.2)\n",
      "Requirement already satisfied: wheel<1.0,>=0.23.0 in c:\\programdata\\anaconda3\\lib\\site-packages (from astunparse>=1.6.0->tensorflow-intel==2.11.0->tensorflow) (0.36.2)\n",
      "Requirement already satisfied: werkzeug>=1.0.1 in c:\\programdata\\anaconda3\\lib\\site-packages (from tensorboard<2.12,>=2.11->tensorflow-intel==2.11.0->tensorflow) (1.0.1)\n",
      "Requirement already satisfied: markdown>=2.6.8 in c:\\programdata\\anaconda3\\lib\\site-packages (from tensorboard<2.12,>=2.11->tensorflow-intel==2.11.0->tensorflow) (3.4.1)\n",
      "Requirement already satisfied: requests<3,>=2.21.0 in c:\\programdata\\anaconda3\\lib\\site-packages (from tensorboard<2.12,>=2.11->tensorflow-intel==2.11.0->tensorflow) (2.25.1)\n",
      "Requirement already satisfied: tensorboard-data-server<0.7.0,>=0.6.0 in c:\\programdata\\anaconda3\\lib\\site-packages (from tensorboard<2.12,>=2.11->tensorflow-intel==2.11.0->tensorflow) (0.6.1)\n",
      "Requirement already satisfied: tensorboard-plugin-wit>=1.6.0 in c:\\programdata\\anaconda3\\lib\\site-packages (from tensorboard<2.12,>=2.11->tensorflow-intel==2.11.0->tensorflow) (1.8.1)\n",
      "Requirement already satisfied: google-auth-oauthlib<0.5,>=0.4.1 in c:\\programdata\\anaconda3\\lib\\site-packages (from tensorboard<2.12,>=2.11->tensorflow-intel==2.11.0->tensorflow) (0.4.6)\n",
      "Requirement already satisfied: google-auth<3,>=1.6.3 in c:\\programdata\\anaconda3\\lib\\site-packages (from tensorboard<2.12,>=2.11->tensorflow-intel==2.11.0->tensorflow) (2.16.2)\n",
      "Requirement already satisfied: rsa<5,>=3.1.4 in c:\\programdata\\anaconda3\\lib\\site-packages (from google-auth<3,>=1.6.3->tensorboard<2.12,>=2.11->tensorflow-intel==2.11.0->tensorflow) (4.9)\n",
      "Requirement already satisfied: cachetools<6.0,>=2.0.0 in c:\\programdata\\anaconda3\\lib\\site-packages (from google-auth<3,>=1.6.3->tensorboard<2.12,>=2.11->tensorflow-intel==2.11.0->tensorflow) (5.3.0)\n",
      "Requirement already satisfied: pyasn1-modules>=0.2.1 in c:\\programdata\\anaconda3\\lib\\site-packages (from google-auth<3,>=1.6.3->tensorboard<2.12,>=2.11->tensorflow-intel==2.11.0->tensorflow) (0.2.8)\n",
      "Requirement already satisfied: requests-oauthlib>=0.7.0 in c:\\programdata\\anaconda3\\lib\\site-packages (from google-auth-oauthlib<0.5,>=0.4.1->tensorboard<2.12,>=2.11->tensorflow-intel==2.11.0->tensorflow) (1.3.1)\n",
      "Requirement already satisfied: importlib-metadata>=4.4 in c:\\programdata\\anaconda3\\lib\\site-packages (from markdown>=2.6.8->tensorboard<2.12,>=2.11->tensorflow-intel==2.11.0->tensorflow) (6.0.0)\n",
      "Requirement already satisfied: zipp>=0.5 in c:\\programdata\\anaconda3\\lib\\site-packages (from importlib-metadata>=4.4->markdown>=2.6.8->tensorboard<2.12,>=2.11->tensorflow-intel==2.11.0->tensorflow) (3.4.1)\n",
      "Requirement already satisfied: pyasn1<0.5.0,>=0.4.6 in c:\\programdata\\anaconda3\\lib\\site-packages (from pyasn1-modules>=0.2.1->google-auth<3,>=1.6.3->tensorboard<2.12,>=2.11->tensorflow-intel==2.11.0->tensorflow) (0.4.8)\n",
      "Requirement already satisfied: certifi>=2017.4.17 in c:\\programdata\\anaconda3\\lib\\site-packages (from requests<3,>=2.21.0->tensorboard<2.12,>=2.11->tensorflow-intel==2.11.0->tensorflow) (2020.12.5)\n",
      "Requirement already satisfied: urllib3<1.27,>=1.21.1 in c:\\programdata\\anaconda3\\lib\\site-packages (from requests<3,>=2.21.0->tensorboard<2.12,>=2.11->tensorflow-intel==2.11.0->tensorflow) (1.26.4)\n",
      "Requirement already satisfied: idna<3,>=2.5 in c:\\programdata\\anaconda3\\lib\\site-packages (from requests<3,>=2.21.0->tensorboard<2.12,>=2.11->tensorflow-intel==2.11.0->tensorflow) (2.10)\n",
      "Requirement already satisfied: chardet<5,>=3.0.2 in c:\\programdata\\anaconda3\\lib\\site-packages (from requests<3,>=2.21.0->tensorboard<2.12,>=2.11->tensorflow-intel==2.11.0->tensorflow) (4.0.0)\n",
      "Requirement already satisfied: oauthlib>=3.0.0 in c:\\programdata\\anaconda3\\lib\\site-packages (from requests-oauthlib>=0.7.0->google-auth-oauthlib<0.5,>=0.4.1->tensorboard<2.12,>=2.11->tensorflow-intel==2.11.0->tensorflow) (3.2.2)\n",
      "Requirement already satisfied: pyparsing>=2.0.2 in c:\\programdata\\anaconda3\\lib\\site-packages (from packaging->tensorflow-intel==2.11.0->tensorflow) (2.4.7)\n"
     ]
    }
   ],
   "source": [
    "!pip install tensorflow"
   ]
  },
  {
   "cell_type": "code",
   "execution_count": 3,
   "metadata": {
    "executionInfo": {
     "elapsed": 4673,
     "status": "ok",
     "timestamp": 1678470205707,
     "user": {
      "displayName": "Nazmul Hasan",
      "userId": "02122416256231585764"
     },
     "user_tz": 420
    },
    "id": "_z7kPblcHOH1"
   },
   "outputs": [],
   "source": [
    "import random\n",
    "import tensorflow as tf\n",
    "from tensorflow import keras\n",
    "from keras import datasets, layers, models\n",
    "import matplotlib.pyplot as plt\n",
    "import numpy as np\n",
    "import warnings\n",
    "import pandas as pd\n",
    "from pytictoc import TicToc\n",
    "warnings.filterwarnings( \"ignore\" )"
   ]
  },
  {
   "cell_type": "markdown",
   "metadata": {
    "id": "e7iTQt51HOH3"
   },
   "source": [
    "**Load the dataset**"
   ]
  },
  {
   "cell_type": "code",
   "execution_count": 4,
   "metadata": {
    "colab": {
     "base_uri": "https://localhost:8080/"
    },
    "executionInfo": {
     "elapsed": 453,
     "status": "ok",
     "timestamp": 1678470206152,
     "user": {
      "displayName": "Nazmul Hasan",
      "userId": "02122416256231585764"
     },
     "user_tz": 420
    },
    "id": "rPRPSMuwHOH4",
    "outputId": "b316b1da-e5ea-4840-ca58-8695681a34fe"
   },
   "outputs": [
    {
     "data": {
      "text/plain": [
       "((60000, 28, 28), (60000,), (10000, 28, 28), (10000,))"
      ]
     },
     "execution_count": 4,
     "metadata": {},
     "output_type": "execute_result"
    }
   ],
   "source": [
    "(X_train, y_train), (X_test,y_test) = keras.datasets.mnist.load_data()\n",
    "X_train.shape, y_train.shape, X_test.shape, y_test.shape"
   ]
  },
  {
   "cell_type": "markdown",
   "metadata": {
    "id": "nfOobSrX9lZp"
   },
   "source": [
    "**Create helper functions**"
   ]
  },
  {
   "cell_type": "code",
   "execution_count": 5,
   "metadata": {
    "executionInfo": {
     "elapsed": 10,
     "status": "ok",
     "timestamp": 1678470206153,
     "user": {
      "displayName": "Nazmul Hasan",
      "userId": "02122416256231585764"
     },
     "user_tz": 420
    },
    "id": "29WNxxm-9oF1"
   },
   "outputs": [],
   "source": [
    "def plot_sample_image(X, y):\n",
    "    plt.figure(figsize = (15,2))\n",
    "    plt.imshow(X); plt.colorbar();\n",
    "    classes = [\"0\",\"1\",\"2\",\"3\",\"4\",\"5\",\"6\",\"7\",\"8\",\"9\"]\n",
    "    plt.xlabel('Image Label: {}'.format(classes[y]))\n",
    "\n",
    "def classification_results(X_test,y_test,y_pred_classes):\n",
    "  from sklearn.metrics import confusion_matrix , classification_report\n",
    "  import seaborn as sn\n",
    "\n",
    "  cm = tf.math.confusion_matrix(labels=y_test,predictions=y_pred_classes)\n",
    "  plt.figure(figsize = (7,5))\n",
    "  sn.heatmap(cm, annot=True, fmt='d', cmap='Greens')\n",
    "  plt.xlabel('Predicted');\n",
    "  plt.ylabel('Truth');\n",
    "\n",
    "  print(\"Classification Report: \\n\", classification_report(y_test, y_pred_classes))\n",
    "\n",
    "def plot_fitting_history(history,filename,dpi):\n",
    "  epochs = len(history.history['loss'])\n",
    "  epoch_data = np.arange(1,epochs+1)\n",
    "  plt.plot(epoch_data,history.history['loss'],'o-')\n",
    "  plt.plot(epoch_data,history.history['val_loss'],'o--')\n",
    "  plt.ylabel('Loss')\n",
    "  plt.xlabel('Epoch sequence' )\n",
    "  plt.xticks(np.arange(0, epochs + 1, step=1))\n",
    "  plt.legend(['Training','Validation'])\n",
    "  plt.savefig(filename, dpi=dpi)\n",
    "  plt.show()"
   ]
  },
  {
   "cell_type": "markdown",
   "metadata": {
    "id": "ZUSUtJFkHOIB"
   },
   "source": [
    "**Plot sample image**"
   ]
  },
  {
   "cell_type": "markdown",
   "metadata": {
    "id": "gL5ypIWkHOIE"
   },
   "source": [
    "**Normalize the input data**"
   ]
  },
  {
   "cell_type": "code",
   "execution_count": 6,
   "metadata": {
    "executionInfo": {
     "elapsed": 10,
     "status": "ok",
     "timestamp": 1678470206154,
     "user": {
      "displayName": "Nazmul Hasan",
      "userId": "02122416256231585764"
     },
     "user_tz": 420
    },
    "id": "PxewI0kIHOIF"
   },
   "outputs": [],
   "source": [
    "X_train = X_train / 255.0\n",
    "X_test = X_test / 255.0"
   ]
  },
  {
   "cell_type": "code",
   "execution_count": 7,
   "metadata": {
    "colab": {
     "base_uri": "https://localhost:8080/",
     "height": 175
    },
    "executionInfo": {
     "elapsed": 282,
     "status": "ok",
     "timestamp": 1678470206428,
     "user": {
      "displayName": "Nazmul Hasan",
      "userId": "02122416256231585764"
     },
     "user_tz": 420
    },
    "id": "5SMVbqRZHOIC",
    "outputId": "e112e77c-9d7a-4b8f-a4b7-187f5f007ac7",
    "scrolled": true
   },
   "outputs": [
    {
     "data": {
      "image/png": "[encoded data removed]",
      "text/plain": [
       "<Figure size 1080x144 with 2 Axes>"
      ]
     },
     "metadata": {
      "needs_background": "light"
     },
     "output_type": "display_data"
    }
   ],
   "source": [
    "index = np.random.randint(100)\n",
    "plot_sample_image(X_train[index], y_train[index]);"
   ]
  },
  {
   "cell_type": "code",
   "execution_count": 8,
   "metadata": {
    "colab": {
     "base_uri": "https://localhost:8080/"
    },
    "executionInfo": {
     "elapsed": 23981,
     "status": "ok",
     "timestamp": 1678470230397,
     "user": {
      "displayName": "Nazmul Hasan",
      "userId": "02122416256231585764"
     },
     "user_tz": 420
    },
    "id": "Usv8lPonYXF0",
    "outputId": "18150c87-0748-427b-a1bf-d14c414ff01c"
   },
   "outputs": [],
   "source": [
    "# from google.colab import drive\n",
    "# drive.mount('/content/gdrive')\n",
    "# %cd /content/gdrive/MyDrive/ECE 696B/Project - ECE696B"
   ]
  },
  {
   "cell_type": "markdown",
   "metadata": {
    "id": "O7TkT_B0gx0r"
   },
   "source": [
    "**Load the models**"
   ]
  },
  {
   "cell_type": "code",
   "execution_count": 9,
   "metadata": {
    "executionInfo": {
     "elapsed": 2951,
     "status": "ok",
     "timestamp": 1678470291664,
     "user": {
      "displayName": "Nazmul Hasan",
      "userId": "02122416256231585764"
     },
     "user_tz": 420
    },
    "id": "cacXKz9PZM7l"
   },
   "outputs": [
    {
     "name": "stdout",
     "output_type": "stream",
     "text": [
      "C:\\Users\\nh202\\My Drive (nh202@arizona.edu)\\ECE 696B\\Project - ECE696B\n"
     ]
    }
   ],
   "source": [
    "%cd C:\\Users\\nh202\\My Drive (nh202@arizona.edu)\\ECE 696B\\Project - ECE696B\n",
    "from keras.models import load_model\n",
    "Linear_MNIST = load_model('Linear_MNIST.h5')\n",
    "MLP_MNIST = load_model('MLP_MNIST.h5')\n",
    "CNN_MNIST = load_model('CNN_MNIST.h5')"
   ]
  },
  {
   "cell_type": "markdown",
   "metadata": {
    "id": "G1qA-8V5Z-eg"
   },
   "source": [
    "# Fast gradient sign method (FGSM) attack"
   ]
  },
  {
   "cell_type": "markdown",
   "metadata": {
    "id": "0J56ssCnYF3G"
   },
   "source": [
    "**Function for FGSM attack**"
   ]
  },
  {
   "cell_type": "code",
   "execution_count": 10,
   "metadata": {
    "executionInfo": {
     "elapsed": 4,
     "status": "ok",
     "timestamp": 1678470230397,
     "user": {
      "displayName": "Nazmul Hasan",
      "userId": "02122416256231585764"
     },
     "user_tz": 420
    },
    "id": "N233mqhAYEoC"
   },
   "outputs": [],
   "source": [
    "def fgsm_attack(model, x, y_true, eps):\n",
    "\n",
    "    if len(x.shape) == 2:\n",
    "        # Create a tensor for the input image to make it compatible with the tensor shape expected by the model\n",
    "        x_tensor = tf.convert_to_tensor(x[np.newaxis, ...])\n",
    "    if len(x.shape) == 3:\n",
    "        x_tensor = tf.convert_to_tensor(x)\n",
    "    \n",
    "    # Set tape to watch the input tensor\n",
    "    with tf.GradientTape() as tape:\n",
    "        tape.watch(x_tensor)\n",
    "        y_pred = model(x_tensor)\n",
    "        loss = tf.keras.losses.sparse_categorical_crossentropy(y_true, y_pred)  \n",
    "    \n",
    "    # Calculate the gradient of the loss with respect to the input image\n",
    "    grads = tape.gradient(loss, x_tensor)\n",
    "    \n",
    "    # Calculate the sign of the gradient\n",
    "    sign = tf.math.sign(grads)    \n",
    "\n",
    "    # Notes:\n",
    "    # sign[0] matches the shape of x, sign matches the shape of x_tensor\n",
    "    # print(sign[0].shape, x.shape, sign.shape, x_tensor.shape)\n",
    "    \n",
    "    # Generate the adversarial example by adding the sign of the gradient times epsilon to the input image    \n",
    "    if len(x.shape) == 2:\n",
    "        x_adv = x + eps * sign[0]\n",
    "    if len(x.shape) == 3:\n",
    "        x_adv = x + eps * sign\n",
    "    \n",
    "    # Clip the adversarial example to maintain pixel values in [0,1] range\n",
    "    x_adv = tf.clip_by_value(x_adv, clip_value_min=0, clip_value_max=1)\n",
    "    \n",
    "    return x_adv.numpy()"
   ]
  },
  {
   "cell_type": "markdown",
   "metadata": {
    "id": "dhlYutUuFoPA"
   },
   "source": [
    "# Adversarial training of Linear model"
   ]
  },
  {
   "cell_type": "code",
   "execution_count": 11,
   "metadata": {
    "colab": {
     "base_uri": "https://localhost:8080/"
    },
    "executionInfo": {
     "elapsed": 665,
     "status": "ok",
     "timestamp": 1678470438671,
     "user": {
      "displayName": "Nazmul Hasan",
      "userId": "02122416256231585764"
     },
     "user_tz": 420
    },
    "id": "z1SFaq0CFQHu",
    "outputId": "3e4bab00-3fe3-4f0c-9a30-7d8f4ac38653"
   },
   "outputs": [
    {
     "name": "stdout",
     "output_type": "stream",
     "text": [
      "Average l2 distance of the perturbation: 4.036035548194498\n"
     ]
    }
   ],
   "source": [
    "indexes = np.arange(0,5000); eps = 0.1\n",
    "X_train_FGSM_Linear_1 = fgsm_attack(Linear_MNIST,X_train[indexes],y_train[indexes],eps)\n",
    "\n",
    "indexes = np.arange(5000,7500); eps = 0.2\n",
    "X_train_FGSM_Linear_2 = fgsm_attack(Linear_MNIST,X_train[indexes],y_train[indexes],eps)\n",
    "\n",
    "indexes = np.arange(7500,8750); eps = 0.3\n",
    "X_train_FGSM_Linear_3 = fgsm_attack(Linear_MNIST,X_train[indexes],y_train[indexes],eps)\n",
    "\n",
    "indexes = np.arange(8750, 9375); eps = 0.4\n",
    "X_train_FGSM_Linear_4 = fgsm_attack(Linear_MNIST,X_train[indexes],y_train[indexes],eps)\n",
    "\n",
    "indexes = np.arange(9375, 10000); eps = 0.5\n",
    "X_train_FGSM_Linear_5 = fgsm_attack(Linear_MNIST,X_train[indexes],y_train[indexes],eps)\n",
    "\n",
    "X_train_FGSM_Linear = np.concatenate((X_train_FGSM_Linear_1, X_train_FGSM_Linear_2, X_train_FGSM_Linear_3,\\\n",
    "                                X_train_FGSM_Linear_4, X_train_FGSM_Linear_5), axis = 0)\n",
    "\n",
    "indexes = range(10000)\n",
    "avg_l2_norm = np.mean(np.sqrt(np.sum((X_train_FGSM_Linear-X_train[indexes])**2, axis=(1,2))))\n",
    "print(\"Average l2 distance of the perturbation:\", avg_l2_norm)"
   ]
  },
  {
   "cell_type": "code",
   "execution_count": 12,
   "metadata": {
    "colab": {
     "base_uri": "https://localhost:8080/"
    },
    "executionInfo": {
     "elapsed": 3,
     "status": "ok",
     "timestamp": 1678470438672,
     "user": {
      "displayName": "Nazmul Hasan",
      "userId": "02122416256231585764"
     },
     "user_tz": 420
    },
    "id": "HbEwn_DxGNNM",
    "outputId": "96226df2-d4e3-4255-9ef7-d0a78a92efa2"
   },
   "outputs": [
    {
     "data": {
      "text/plain": [
       "((70000, 28, 28), (70000,))"
      ]
     },
     "execution_count": 12,
     "metadata": {},
     "output_type": "execute_result"
    }
   ],
   "source": [
    "X_train_stack = np.concatenate((X_train, X_train_FGSM_Linear), axis = 0)\n",
    "y_train_stack = np.concatenate((y_train, y_train[indexes]), axis = 0)\n",
    "\n",
    "p = np.random.permutation(len(X_train_stack))\n",
    "X_train_stack, y_train_stack = X_train_stack[p], y_train_stack[p]\n",
    "\n",
    "X_train_stack.shape, y_train_stack.shape"
   ]
  },
  {
   "cell_type": "code",
   "execution_count": 13,
   "metadata": {
    "colab": {
     "base_uri": "https://localhost:8080/"
    },
    "executionInfo": {
     "elapsed": 55502,
     "status": "ok",
     "timestamp": 1678470494172,
     "user": {
      "displayName": "Nazmul Hasan",
      "userId": "02122416256231585764"
     },
     "user_tz": 420
    },
    "id": "vANZ1T8FGUZp",
    "outputId": "a51941cf-3c54-4fa6-abaa-213d7c92c4a3"
   },
   "outputs": [
    {
     "name": "stdout",
     "output_type": "stream",
     "text": [
      "Epoch 1/50\n",
      "1750/1750 [==============================] - 4s 2ms/step - loss: 0.5063 - accuracy: 0.8676 - val_loss: 0.3430 - val_accuracy: 0.9049\n",
      "Epoch 2/50\n",
      "1750/1750 [==============================] - 3s 2ms/step - loss: 0.3045 - accuracy: 0.9165 - val_loss: 0.3022 - val_accuracy: 0.9156\n",
      "Epoch 3/50\n",
      "1750/1750 [==============================] - 3s 2ms/step - loss: 0.2752 - accuracy: 0.9241 - val_loss: 0.2888 - val_accuracy: 0.9196\n",
      "Epoch 4/50\n",
      "1750/1750 [==============================] - 3s 2ms/step - loss: 0.2595 - accuracy: 0.9281 - val_loss: 0.2760 - val_accuracy: 0.9233\n",
      "Epoch 5/50\n",
      "1750/1750 [==============================] - 3s 2ms/step - loss: 0.2499 - accuracy: 0.9308 - val_loss: 0.2706 - val_accuracy: 0.9235\n",
      "Epoch 6/50\n",
      "1750/1750 [==============================] - 3s 2ms/step - loss: 0.2417 - accuracy: 0.9333 - val_loss: 0.2652 - val_accuracy: 0.9279\n",
      "Epoch 7/50\n",
      "1750/1750 [==============================] - 3s 2ms/step - loss: 0.2364 - accuracy: 0.9348 - val_loss: 0.2649 - val_accuracy: 0.9266\n",
      "Epoch 8/50\n",
      "1750/1750 [==============================] - 3s 2ms/step - loss: 0.2321 - accuracy: 0.9356 - val_loss: 0.2621 - val_accuracy: 0.9291\n",
      "Epoch 9/50\n",
      "1750/1750 [==============================] - 3s 2ms/step - loss: 0.2283 - accuracy: 0.9368 - val_loss: 0.2636 - val_accuracy: 0.9296\n",
      "Epoch 10/50\n",
      "1750/1750 [==============================] - 3s 2ms/step - loss: 0.2252 - accuracy: 0.9376 - val_loss: 0.2598 - val_accuracy: 0.9294\n",
      "Epoch 11/50\n",
      "1750/1750 [==============================] - 3s 2ms/step - loss: 0.2222 - accuracy: 0.9389 - val_loss: 0.2589 - val_accuracy: 0.9291\n",
      "Epoch 12/50\n",
      "1750/1750 [==============================] - 3s 2ms/step - loss: 0.2205 - accuracy: 0.9385 - val_loss: 0.2559 - val_accuracy: 0.9320\n",
      "Epoch 13/50\n",
      "1750/1750 [==============================] - 3s 2ms/step - loss: 0.2181 - accuracy: 0.9398 - val_loss: 0.2584 - val_accuracy: 0.9291\n",
      "Epoch 14/50\n",
      "1750/1750 [==============================] - 3s 2ms/step - loss: 0.2162 - accuracy: 0.9402 - val_loss: 0.2592 - val_accuracy: 0.9291\n",
      "Epoch 15/50\n",
      "1750/1750 [==============================] - 3s 2ms/step - loss: 0.2142 - accuracy: 0.9411 - val_loss: 0.2560 - val_accuracy: 0.9312\n",
      "Epoch 16/50\n",
      "1750/1750 [==============================] - 3s 2ms/step - loss: 0.2130 - accuracy: 0.9405 - val_loss: 0.2559 - val_accuracy: 0.9299\n",
      "Epoch 17/50\n",
      "1750/1750 [==============================] - 3s 2ms/step - loss: 0.2116 - accuracy: 0.9412 - val_loss: 0.2567 - val_accuracy: 0.9314\n",
      "Epoch 18/50\n",
      "1750/1750 [==============================] - 3s 2ms/step - loss: 0.2099 - accuracy: 0.9416 - val_loss: 0.2593 - val_accuracy: 0.9297\n",
      "Epoch 19/50\n",
      "1750/1750 [==============================] - 3s 2ms/step - loss: 0.2093 - accuracy: 0.9416 - val_loss: 0.2570 - val_accuracy: 0.9313\n",
      "Epoch 20/50\n",
      "1750/1750 [==============================] - 3s 2ms/step - loss: 0.2078 - accuracy: 0.9418 - val_loss: 0.2541 - val_accuracy: 0.9321\n",
      "Epoch 21/50\n",
      "1750/1750 [==============================] - 3s 2ms/step - loss: 0.2070 - accuracy: 0.9429 - val_loss: 0.2584 - val_accuracy: 0.9304\n",
      "Epoch 22/50\n",
      "1750/1750 [==============================] - 3s 2ms/step - loss: 0.2061 - accuracy: 0.9426 - val_loss: 0.2581 - val_accuracy: 0.9301\n",
      "Epoch 23/50\n",
      "1750/1750 [==============================] - 3s 2ms/step - loss: 0.2050 - accuracy: 0.9430 - val_loss: 0.2558 - val_accuracy: 0.9326\n",
      "Epoch 24/50\n",
      "1750/1750 [==============================] - 3s 2ms/step - loss: 0.2043 - accuracy: 0.9434 - val_loss: 0.2545 - val_accuracy: 0.9324\n",
      "Epoch 25/50\n",
      "1750/1750 [==============================] - 3s 2ms/step - loss: 0.2037 - accuracy: 0.9439 - val_loss: 0.2561 - val_accuracy: 0.9326\n"
     ]
    }
   ],
   "source": [
    "import random\n",
    "import tensorflow as tf\n",
    "seed = 42\n",
    "random.seed(seed)\n",
    "np.random.seed(seed)\n",
    "tf.random.set_seed(seed)\n",
    "\n",
    "Linear_MNIST = models.Sequential([\n",
    "        layers.Flatten(input_shape=X_train.shape[1:]),\n",
    "        layers.Dense(10, activation='softmax'),  \n",
    "    ])\n",
    "\n",
    "learning_rate =  0.001\n",
    "Linear_MNIST.compile(optimizer=tf.keras.optimizers.Adam(learning_rate),\n",
    "              loss='sparse_categorical_crossentropy',\n",
    "              metrics=['accuracy'])\n",
    "\n",
    "early_callbacks = keras.callbacks.EarlyStopping(monitor='val_loss', patience=5)\n",
    "history_C_Linear_FGSM = Linear_MNIST.fit(X_train_stack, y_train_stack, epochs=50, batch_size=32,\n",
    "            validation_split = 0.2, callbacks = early_callbacks, verbose=1, shuffle = True)"
   ]
  },
  {
   "cell_type": "code",
   "execution_count": 17,
   "metadata": {
    "colab": {
     "base_uri": "https://localhost:8080/",
     "height": 279
    },
    "executionInfo": {
     "elapsed": 361,
     "status": "ok",
     "timestamp": 1678470494522,
     "user": {
      "displayName": "Nazmul Hasan",
      "userId": "02122416256231585764"
     },
     "user_tz": 420
    },
    "id": "A9WwZTB4GWWQ",
    "outputId": "c97e5e4d-996e-4fbc-ea72-383db96938f9"
   },
   "outputs": [
    {
     "data": {
      "image/png": "[encoded data removed]",
      "text/plain": [
       "<Figure size 432x288 with 1 Axes>"
      ]
     },
     "metadata": {
      "needs_background": "light"
     },
     "output_type": "display_data"
    }
   ],
   "source": [
    "filename = 'FGSM Adversarial Training history MNIST [Linear]'+'.png'\n",
    "plot_fitting_history(history_C_Linear_FGSM, filename, dpi = 100)"
   ]
  },
  {
   "cell_type": "code",
   "execution_count": 18,
   "metadata": {
    "colab": {
     "base_uri": "https://localhost:8080/",
     "height": 677
    },
    "executionInfo": {
     "elapsed": 2261,
     "status": "ok",
     "timestamp": 1678470496781,
     "user": {
      "displayName": "Nazmul Hasan",
      "userId": "02122416256231585764"
     },
     "user_tz": 420
    },
    "id": "k4I6t7v7GWxR",
    "outputId": "4e82731e-6e37-4946-bfdf-2258955ff232"
   },
   "outputs": [
    {
     "name": "stdout",
     "output_type": "stream",
     "text": [
      "313/313 [==============================] - 0s 874us/step\n",
      "Classification Report: \n",
      "               precision    recall  f1-score   support\n",
      "\n",
      "           0       0.96      0.98      0.97       980\n",
      "           1       0.97      0.98      0.97      1135\n",
      "           2       0.93      0.90      0.91      1032\n",
      "           3       0.87      0.93      0.90      1010\n",
      "           4       0.94      0.93      0.93       982\n",
      "           5       0.92      0.85      0.89       892\n",
      "           6       0.95      0.95      0.95       958\n",
      "           7       0.94      0.91      0.93      1028\n",
      "           8       0.88      0.88      0.88       974\n",
      "           9       0.90      0.92      0.91      1009\n",
      "\n",
      "    accuracy                           0.93     10000\n",
      "   macro avg       0.93      0.92      0.92     10000\n",
      "weighted avg       0.93      0.93      0.93     10000\n",
      "\n"
     ]
    },
    {
     "data": {
      "image/png": "[encoded data removed]",
      "text/plain": [
       "<Figure size 504x360 with 2 Axes>"
      ]
     },
     "metadata": {
      "needs_background": "light"
     },
     "output_type": "display_data"
    }
   ],
   "source": [
    "y_pred = Linear_MNIST.predict(X_test)\n",
    "y_pred_classes = [np.argmax(element) for element in y_pred]\n",
    "classification_results(X_test,y_test,y_pred_classes)"
   ]
  },
  {
   "cell_type": "code",
   "execution_count": 19,
   "metadata": {
    "executionInfo": {
     "elapsed": 6,
     "status": "ok",
     "timestamp": 1678470497066,
     "user": {
      "displayName": "Nazmul Hasan",
      "userId": "02122416256231585764"
     },
     "user_tz": 420
    },
    "id": "k4Ev-CVlGXD1"
   },
   "outputs": [],
   "source": [
    "Linear_MNIST.save('Linear_MNIST_FGSM_trained.h5')"
   ]
  },
  {
   "cell_type": "markdown",
   "metadata": {
    "id": "5oMrKbL7Gwrj"
   },
   "source": [
    "# Adversarial training of MLP model"
   ]
  },
  {
   "cell_type": "code",
   "execution_count": 21,
   "metadata": {
    "colab": {
     "base_uri": "https://localhost:8080/"
    },
    "executionInfo": {
     "elapsed": 653,
     "status": "ok",
     "timestamp": 1678470497975,
     "user": {
      "displayName": "Nazmul Hasan",
      "userId": "02122416256231585764"
     },
     "user_tz": 420
    },
    "id": "6U8aaEGPJMl0",
    "outputId": "edb1a9dd-c682-406c-ecfe-01ff088f78a1"
   },
   "outputs": [
    {
     "name": "stdout",
     "output_type": "stream",
     "text": [
      "Average l2 distance of the perturbation: 4.077626737972499\n"
     ]
    }
   ],
   "source": [
    "indexes = np.arange(0,5000); eps = 0.1\n",
    "X_train_FGSM_MLP_1 = fgsm_attack(MLP_MNIST,X_train[indexes],y_train[indexes],eps)\n",
    "\n",
    "indexes = np.arange(5000,7500); eps = 0.2\n",
    "X_train_FGSM_MLP_2 = fgsm_attack(MLP_MNIST,X_train[indexes],y_train[indexes],eps)\n",
    "\n",
    "indexes = np.arange(7500,8750); eps = 0.3\n",
    "X_train_FGSM_MLP_3 = fgsm_attack(MLP_MNIST,X_train[indexes],y_train[indexes],eps)\n",
    "\n",
    "indexes = np.arange(8750, 9375); eps = 0.4\n",
    "X_train_FGSM_MLP_4 = fgsm_attack(MLP_MNIST,X_train[indexes],y_train[indexes],eps)\n",
    "\n",
    "indexes = np.arange(9375, 10000); eps = 0.5\n",
    "X_train_FGSM_MLP_5 = fgsm_attack(MLP_MNIST,X_train[indexes],y_train[indexes],eps)\n",
    "\n",
    "X_train_FGSM_MLP = np.concatenate((X_train_FGSM_MLP_1, X_train_FGSM_MLP_2, X_train_FGSM_MLP_3,\\\n",
    "                                X_train_FGSM_MLP_4, X_train_FGSM_MLP_5), axis = 0)\n",
    "\n",
    "indexes = range(10000)\n",
    "avg_l2_norm = np.mean(np.sqrt(np.sum((X_train_FGSM_MLP-X_train[indexes])**2, axis=(1,2))))\n",
    "print(\"Average l2 distance of the perturbation:\", avg_l2_norm)"
   ]
  },
  {
   "cell_type": "code",
   "execution_count": 22,
   "metadata": {
    "colab": {
     "base_uri": "https://localhost:8080/"
    },
    "executionInfo": {
     "elapsed": 10,
     "status": "ok",
     "timestamp": 1678470497976,
     "user": {
      "displayName": "Nazmul Hasan",
      "userId": "02122416256231585764"
     },
     "user_tz": 420
    },
    "id": "kEqzPD5AJMiS",
    "outputId": "ef7f9bd2-2811-4408-f5bf-a006028d57ea"
   },
   "outputs": [
    {
     "data": {
      "text/plain": [
       "((70000, 28, 28), (70000,))"
      ]
     },
     "execution_count": 22,
     "metadata": {},
     "output_type": "execute_result"
    }
   ],
   "source": [
    "X_train_stack = np.concatenate((X_train, X_train_FGSM_MLP), axis = 0)\n",
    "y_train_stack = np.concatenate((y_train, y_train[indexes]), axis = 0)\n",
    "\n",
    "p = np.random.permutation(len(X_train_stack))\n",
    "X_train_stack, y_train_stack = X_train_stack[p], y_train_stack[p]\n",
    "\n",
    "X_train_stack.shape, y_train_stack.shape"
   ]
  },
  {
   "cell_type": "code",
   "execution_count": 23,
   "metadata": {
    "colab": {
     "base_uri": "https://localhost:8080/"
    },
    "executionInfo": {
     "elapsed": 57855,
     "status": "ok",
     "timestamp": 1678470555824,
     "user": {
      "displayName": "Nazmul Hasan",
      "userId": "02122416256231585764"
     },
     "user_tz": 420
    },
    "id": "qJGr1uDDJMe4",
    "outputId": "d9769323-1e60-4499-a2b1-34d0f287f49f"
   },
   "outputs": [
    {
     "name": "stdout",
     "output_type": "stream",
     "text": [
      "Epoch 1/50\n",
      "1750/1750 [==============================] - 4s 2ms/step - loss: 0.3298 - accuracy: 0.9074 - val_loss: 0.1878 - val_accuracy: 0.9456\n",
      "Epoch 2/50\n",
      "1750/1750 [==============================] - 4s 3ms/step - loss: 0.1533 - accuracy: 0.9564 - val_loss: 0.1485 - val_accuracy: 0.9558\n",
      "Epoch 3/50\n",
      "1750/1750 [==============================] - 4s 2ms/step - loss: 0.1098 - accuracy: 0.9692 - val_loss: 0.1334 - val_accuracy: 0.9601\n",
      "Epoch 4/50\n",
      "1750/1750 [==============================] - 4s 2ms/step - loss: 0.0869 - accuracy: 0.9741 - val_loss: 0.1030 - val_accuracy: 0.9681\n",
      "Epoch 5/50\n",
      "1750/1750 [==============================] - 5s 3ms/step - loss: 0.0703 - accuracy: 0.9796 - val_loss: 0.1079 - val_accuracy: 0.9663\n",
      "Epoch 6/50\n",
      "1750/1750 [==============================] - 4s 2ms/step - loss: 0.0589 - accuracy: 0.9825 - val_loss: 0.0954 - val_accuracy: 0.9699\n",
      "Epoch 7/50\n",
      "1750/1750 [==============================] - 4s 2ms/step - loss: 0.0501 - accuracy: 0.9849 - val_loss: 0.0997 - val_accuracy: 0.9696\n",
      "Epoch 8/50\n",
      "1750/1750 [==============================] - 5s 3ms/step - loss: 0.0421 - accuracy: 0.9874 - val_loss: 0.0988 - val_accuracy: 0.9710\n",
      "Epoch 9/50\n",
      "1750/1750 [==============================] - 4s 2ms/step - loss: 0.0381 - accuracy: 0.9886 - val_loss: 0.0925 - val_accuracy: 0.9721\n",
      "Epoch 10/50\n",
      "1750/1750 [==============================] - 4s 2ms/step - loss: 0.0323 - accuracy: 0.9903 - val_loss: 0.0954 - val_accuracy: 0.9716\n",
      "Epoch 11/50\n",
      "1750/1750 [==============================] - 5s 3ms/step - loss: 0.0270 - accuracy: 0.9919 - val_loss: 0.1083 - val_accuracy: 0.9687\n",
      "Epoch 12/50\n",
      "1750/1750 [==============================] - 4s 2ms/step - loss: 0.0243 - accuracy: 0.9926 - val_loss: 0.1072 - val_accuracy: 0.9722\n",
      "Epoch 13/50\n",
      "1750/1750 [==============================] - 4s 2ms/step - loss: 0.0219 - accuracy: 0.9933 - val_loss: 0.0996 - val_accuracy: 0.9722\n",
      "Epoch 14/50\n",
      "1750/1750 [==============================] - 5s 3ms/step - loss: 0.0196 - accuracy: 0.9939 - val_loss: 0.1085 - val_accuracy: 0.9692\n"
     ]
    }
   ],
   "source": [
    "import random\n",
    "import tensorflow as tf\n",
    "seed = 42\n",
    "random.seed(seed)\n",
    "np.random.seed(seed)\n",
    "tf.random.set_seed(seed)\n",
    "\n",
    "MLP_MNIST = models.Sequential([\n",
    "        layers.Flatten(input_shape=X_train.shape[1:]),\n",
    "        layers.Dense(2**6, activation='relu'),\n",
    "        layers.Dense(10, activation='softmax')    \n",
    "    ])\n",
    "\n",
    "learning_rate =  0.001\n",
    "MLP_MNIST.compile(optimizer=tf.keras.optimizers.Adam(learning_rate),\n",
    "              loss='sparse_categorical_crossentropy',\n",
    "              metrics=['accuracy'])\n",
    "\n",
    "\n",
    "early_callbacks = keras.callbacks.EarlyStopping(monitor='val_loss', patience=5)\n",
    "history_C_MLP_FGSM = MLP_MNIST.fit(X_train_stack, y_train_stack, epochs=50, batch_size=32,\n",
    "            validation_split = 0.2, callbacks = early_callbacks, verbose=1, shuffle = True)"
   ]
  },
  {
   "cell_type": "code",
   "execution_count": 24,
   "metadata": {
    "colab": {
     "base_uri": "https://localhost:8080/",
     "height": 279
    },
    "executionInfo": {
     "elapsed": 25071,
     "status": "ok",
     "timestamp": 1678470580868,
     "user": {
      "displayName": "Nazmul Hasan",
      "userId": "02122416256231585764"
     },
     "user_tz": 420
    },
    "id": "lG8K6bmAJMaP",
    "outputId": "83fedc55-b56d-4d15-d679-8263050723f6"
   },
   "outputs": [
    {
     "data": {
      "image/png": "[encoded data removed]",
      "text/plain": [
       "<Figure size 432x288 with 1 Axes>"
      ]
     },
     "metadata": {
      "needs_background": "light"
     },
     "output_type": "display_data"
    }
   ],
   "source": [
    "filename = 'FGSM Adversarial Training history MNIST [MLP]'+'.png'\n",
    "plot_fitting_history(history_C_MLP_FGSM, filename, dpi = 100)"
   ]
  },
  {
   "cell_type": "code",
   "execution_count": 25,
   "metadata": {
    "colab": {
     "base_uri": "https://localhost:8080/",
     "height": 677
    },
    "executionInfo": {
     "elapsed": 1137,
     "status": "ok",
     "timestamp": 1678470581999,
     "user": {
      "displayName": "Nazmul Hasan",
      "userId": "02122416256231585764"
     },
     "user_tz": 420
    },
    "id": "VD1MlJpbJMNI",
    "outputId": "398b501c-8fc4-40a4-ae14-616005271d87"
   },
   "outputs": [
    {
     "name": "stdout",
     "output_type": "stream",
     "text": [
      "313/313 [==============================] - 0s 1ms/step\n",
      "Classification Report: \n",
      "               precision    recall  f1-score   support\n",
      "\n",
      "           0       0.95      0.99      0.97       980\n",
      "           1       0.99      0.99      0.99      1135\n",
      "           2       0.98      0.96      0.97      1032\n",
      "           3       0.97      0.97      0.97      1010\n",
      "           4       0.96      0.98      0.97       982\n",
      "           5       0.96      0.97      0.96       892\n",
      "           6       0.97      0.97      0.97       958\n",
      "           7       0.97      0.98      0.97      1028\n",
      "           8       0.98      0.95      0.97       974\n",
      "           9       0.98      0.94      0.96      1009\n",
      "\n",
      "    accuracy                           0.97     10000\n",
      "   macro avg       0.97      0.97      0.97     10000\n",
      "weighted avg       0.97      0.97      0.97     10000\n",
      "\n"
     ]
    },
    {
     "data": {
      "image/png": "[encoded data removed]",
      "text/plain": [
       "<Figure size 504x360 with 2 Axes>"
      ]
     },
     "metadata": {
      "needs_background": "light"
     },
     "output_type": "display_data"
    }
   ],
   "source": [
    "y_pred = MLP_MNIST.predict(X_test)\n",
    "y_pred_classes = [np.argmax(element) for element in y_pred]\n",
    "classification_results(X_test,y_test,y_pred_classes)"
   ]
  },
  {
   "cell_type": "code",
   "execution_count": 26,
   "metadata": {
    "executionInfo": {
     "elapsed": 1002,
     "status": "ok",
     "timestamp": 1678470582998,
     "user": {
      "displayName": "Nazmul Hasan",
      "userId": "02122416256231585764"
     },
     "user_tz": 420
    },
    "id": "67jr5v7LJMBW"
   },
   "outputs": [],
   "source": [
    "MLP_MNIST.save('MLP_MNIST_FGSM_trained.h5')"
   ]
  },
  {
   "cell_type": "markdown",
   "metadata": {
    "id": "NqhkmVEBJrkY"
   },
   "source": [
    "# Adversarial training of CNN model"
   ]
  },
  {
   "cell_type": "code",
   "execution_count": 27,
   "metadata": {
    "colab": {
     "base_uri": "https://localhost:8080/"
    },
    "executionInfo": {
     "elapsed": 2569,
     "status": "ok",
     "timestamp": 1678470585562,
     "user": {
      "displayName": "Nazmul Hasan",
      "userId": "02122416256231585764"
     },
     "user_tz": 420
    },
    "id": "zYT8t-RZJvCY",
    "outputId": "9fa38474-3c3e-424a-d53e-66e6d7fb6b6a"
   },
   "outputs": [
    {
     "name": "stdout",
     "output_type": "stream",
     "text": [
      "Average l2 distance of the perturbation: 4.09008555539465\n"
     ]
    }
   ],
   "source": [
    "indexes = np.arange(0,5000); eps = 0.1\n",
    "X_train_FGSM_CNN_1 = fgsm_attack(CNN_MNIST,X_train[indexes],y_train[indexes],eps)\n",
    "\n",
    "indexes = np.arange(5000,7500); eps = 0.2\n",
    "X_train_FGSM_CNN_2 = fgsm_attack(CNN_MNIST,X_train[indexes],y_train[indexes],eps)\n",
    "\n",
    "indexes = np.arange(7500,8750); eps = 0.3\n",
    "X_train_FGSM_CNN_3 = fgsm_attack(CNN_MNIST,X_train[indexes],y_train[indexes],eps)\n",
    "\n",
    "indexes = np.arange(8750, 9375); eps = 0.4\n",
    "X_train_FGSM_CNN_4 = fgsm_attack(CNN_MNIST,X_train[indexes],y_train[indexes],eps)\n",
    "\n",
    "indexes = np.arange(9375, 10000); eps = 0.5\n",
    "X_train_FGSM_CNN_5 = fgsm_attack(CNN_MNIST,X_train[indexes],y_train[indexes],eps)\n",
    "\n",
    "X_train_FGSM_CNN = np.concatenate((X_train_FGSM_CNN_1, X_train_FGSM_CNN_2, X_train_FGSM_CNN_3,\\\n",
    "                                X_train_FGSM_CNN_4, X_train_FGSM_CNN_5), axis = 0)\n",
    "\n",
    "indexes = range(10000)\n",
    "avg_l2_norm = np.mean(np.sqrt(np.sum((X_train_FGSM_CNN-X_train[indexes])**2, axis=(1,2))))\n",
    "print(\"Average l2 distance of the perturbation:\", avg_l2_norm)"
   ]
  },
  {
   "cell_type": "code",
   "execution_count": 28,
   "metadata": {
    "colab": {
     "base_uri": "https://localhost:8080/"
    },
    "executionInfo": {
     "elapsed": 9,
     "status": "ok",
     "timestamp": 1678470585563,
     "user": {
      "displayName": "Nazmul Hasan",
      "userId": "02122416256231585764"
     },
     "user_tz": 420
    },
    "id": "vJxI3yXCJu95",
    "outputId": "a5713825-ae35-4184-dd05-02074d6a436a"
   },
   "outputs": [
    {
     "data": {
      "text/plain": [
       "((70000, 28, 28), (70000,))"
      ]
     },
     "execution_count": 28,
     "metadata": {},
     "output_type": "execute_result"
    }
   ],
   "source": [
    "X_train_stack = np.concatenate((X_train, X_train_FGSM_CNN), axis = 0)\n",
    "y_train_stack = np.concatenate((y_train, y_train[indexes]), axis = 0)\n",
    "\n",
    "p = np.random.permutation(len(X_train_stack))\n",
    "X_train_stack, y_train_stack = X_train_stack[p], y_train_stack[p]\n",
    "\n",
    "X_train_stack.shape, y_train_stack.shape"
   ]
  },
  {
   "cell_type": "code",
   "execution_count": 29,
   "metadata": {
    "colab": {
     "base_uri": "https://localhost:8080/"
    },
    "executionInfo": {
     "elapsed": 267337,
     "status": "ok",
     "timestamp": 1678470852894,
     "user": {
      "displayName": "Nazmul Hasan",
      "userId": "02122416256231585764"
     },
     "user_tz": 420
    },
    "id": "6QPj6RXiJu5w",
    "outputId": "c8ed3753-c333-497b-882f-ae9dc984e8e0"
   },
   "outputs": [
    {
     "name": "stdout",
     "output_type": "stream",
     "text": [
      "Epoch 1/50\n",
      "1750/1750 [==============================] - 21s 12ms/step - loss: 0.3232 - accuracy: 0.9024 - val_loss: 0.1417 - val_accuracy: 0.9594\n",
      "Epoch 2/50\n",
      "1750/1750 [==============================] - 22s 12ms/step - loss: 0.1070 - accuracy: 0.9687 - val_loss: 0.0950 - val_accuracy: 0.9721\n",
      "Epoch 3/50\n",
      "1750/1750 [==============================] - 20s 11ms/step - loss: 0.0766 - accuracy: 0.9771 - val_loss: 0.0844 - val_accuracy: 0.9739\n",
      "Epoch 4/50\n",
      "1750/1750 [==============================] - 19s 11ms/step - loss: 0.0613 - accuracy: 0.9817 - val_loss: 0.0686 - val_accuracy: 0.9786\n",
      "Epoch 5/50\n",
      "1750/1750 [==============================] - 21s 12ms/step - loss: 0.0524 - accuracy: 0.9839 - val_loss: 0.0747 - val_accuracy: 0.9771\n",
      "Epoch 6/50\n",
      "1750/1750 [==============================] - 20s 11ms/step - loss: 0.0451 - accuracy: 0.9867 - val_loss: 0.0733 - val_accuracy: 0.9774\n",
      "Epoch 7/50\n",
      "1750/1750 [==============================] - 19s 11ms/step - loss: 0.0396 - accuracy: 0.9876 - val_loss: 0.0727 - val_accuracy: 0.9781\n",
      "Epoch 8/50\n",
      "1750/1750 [==============================] - 25s 14ms/step - loss: 0.0342 - accuracy: 0.9895 - val_loss: 0.0640 - val_accuracy: 0.9811\n",
      "Epoch 9/50\n",
      "1750/1750 [==============================] - 20s 11ms/step - loss: 0.0307 - accuracy: 0.9901 - val_loss: 0.0668 - val_accuracy: 0.9797\n",
      "Epoch 10/50\n",
      "1750/1750 [==============================] - 21s 12ms/step - loss: 0.0277 - accuracy: 0.9912 - val_loss: 0.0696 - val_accuracy: 0.9799\n",
      "Epoch 11/50\n",
      "1750/1750 [==============================] - 20s 11ms/step - loss: 0.0235 - accuracy: 0.9925 - val_loss: 0.0660 - val_accuracy: 0.9810\n",
      "Epoch 12/50\n",
      "1750/1750 [==============================] - 21s 12ms/step - loss: 0.0190 - accuracy: 0.9941 - val_loss: 0.0760 - val_accuracy: 0.9793\n",
      "Epoch 13/50\n",
      "1750/1750 [==============================] - 20s 12ms/step - loss: 0.0186 - accuracy: 0.9939 - val_loss: 0.0709 - val_accuracy: 0.9813\n"
     ]
    }
   ],
   "source": [
    "import random\n",
    "import tensorflow as tf\n",
    "seed = 42\n",
    "random.seed(seed)\n",
    "np.random.seed(seed)\n",
    "tf.random.set_seed(seed)\n",
    "\n",
    "CNN_MNIST = models.Sequential([\n",
    "    layers.Conv2D(filters=2**4, kernel_size=(3, 3), padding = 'same', \n",
    "                  activation='relu', input_shape=(28,28,1)),\n",
    "    layers.MaxPooling2D((2, 2)),\n",
    "    \n",
    "    layers.Flatten(),\n",
    "    layers.Dense(2**4, activation='relu'),\n",
    "    layers.Dense(10, activation='softmax')\n",
    "])\n",
    "\n",
    "learning_rate =  0.001\n",
    "CNN_MNIST.compile(optimizer=tf.keras.optimizers.Adam(learning_rate),\n",
    "              loss='sparse_categorical_crossentropy',\n",
    "              metrics=['accuracy'])\n",
    "\n",
    "early_callbacks = keras.callbacks.EarlyStopping(monitor='val_loss', patience=5)\n",
    "history_C_CNN_FGSM = CNN_MNIST.fit(X_train_stack, y_train_stack, epochs=50, batch_size=32,\n",
    "            validation_split = 0.2, callbacks = early_callbacks, verbose=1, shuffle = True)"
   ]
  },
  {
   "cell_type": "code",
   "execution_count": 30,
   "metadata": {
    "colab": {
     "base_uri": "https://localhost:8080/",
     "height": 0
    },
    "executionInfo": {
     "elapsed": 553,
     "status": "ok",
     "timestamp": 1678470853439,
     "user": {
      "displayName": "Nazmul Hasan",
      "userId": "02122416256231585764"
     },
     "user_tz": 420
    },
    "id": "Q7Z8jbZoJu05",
    "outputId": "0ed93fe3-3da2-425e-e6af-68730e0fe7e3"
   },
   "outputs": [
    {
     "data": {
      "image/png": "[encoded data removed]",
      "text/plain": [
       "<Figure size 432x288 with 1 Axes>"
      ]
     },
     "metadata": {
      "needs_background": "light"
     },
     "output_type": "display_data"
    }
   ],
   "source": [
    "filename = 'FGSM Adversarial Training history MNIST [CNN]'+'.png'\n",
    "plot_fitting_history(history_C_CNN_FGSM, filename, dpi = 100)"
   ]
  },
  {
   "cell_type": "code",
   "execution_count": 31,
   "metadata": {
    "colab": {
     "base_uri": "https://localhost:8080/",
     "height": 0
    },
    "executionInfo": {
     "elapsed": 3574,
     "status": "ok",
     "timestamp": 1678470857005,
     "user": {
      "displayName": "Nazmul Hasan",
      "userId": "02122416256231585764"
     },
     "user_tz": 420
    },
    "id": "IDadI_j2JvpY",
    "outputId": "46879681-5371-4040-d688-7baddcdbf41a"
   },
   "outputs": [
    {
     "name": "stdout",
     "output_type": "stream",
     "text": [
      "313/313 [==============================] - 1s 4ms/step\n",
      "Classification Report: \n",
      "               precision    recall  f1-score   support\n",
      "\n",
      "           0       0.97      0.99      0.98       980\n",
      "           1       0.99      0.99      0.99      1135\n",
      "           2       0.98      0.97      0.98      1032\n",
      "           3       0.97      0.99      0.98      1010\n",
      "           4       0.98      0.99      0.99       982\n",
      "           5       0.99      0.97      0.98       892\n",
      "           6       0.99      0.97      0.98       958\n",
      "           7       0.99      0.97      0.98      1028\n",
      "           8       0.95      0.99      0.97       974\n",
      "           9       0.99      0.96      0.97      1009\n",
      "\n",
      "    accuracy                           0.98     10000\n",
      "   macro avg       0.98      0.98      0.98     10000\n",
      "weighted avg       0.98      0.98      0.98     10000\n",
      "\n"
     ]
    },
    {
     "data": {
      "image/png": "[encoded data removed]",
      "text/plain": [
       "<Figure size 504x360 with 2 Axes>"
      ]
     },
     "metadata": {
      "needs_background": "light"
     },
     "output_type": "display_data"
    }
   ],
   "source": [
    "y_pred = CNN_MNIST.predict(X_test)\n",
    "y_pred_classes = [np.argmax(element) for element in y_pred]\n",
    "classification_results(X_test,y_test,y_pred_classes)"
   ]
  },
  {
   "cell_type": "code",
   "execution_count": 32,
   "metadata": {
    "executionInfo": {
     "elapsed": 727,
     "status": "ok",
     "timestamp": 1678470857722,
     "user": {
      "displayName": "Nazmul Hasan",
      "userId": "02122416256231585764"
     },
     "user_tz": 420
    },
    "id": "-NaxfTTbJush"
   },
   "outputs": [],
   "source": [
    "CNN_MNIST.save('CNN_MNIST_FGSM_trained.h5')"
   ]
  },
  {
   "cell_type": "markdown",
   "metadata": {
    "id": "wLdrmsddiHBh"
   },
   "source": [
    "# Evaluate performance of adversarial training"
   ]
  },
  {
   "cell_type": "code",
   "execution_count": 20,
   "metadata": {
    "id": "5UPqBlG1KrHR",
    "outputId": "6afce670-2f99-4b2e-936f-13c9631c2b19"
   },
   "outputs": [
    {
     "name": "stdout",
     "output_type": "stream",
     "text": [
      "C:\\Users\\nh202\\My Drive (nh202@arizona.edu)\\ECE 696B\\Project - ECE696B\n"
     ]
    }
   ],
   "source": [
    "%cd C:\\Users\\nh202\\My Drive (nh202@arizona.edu)\\ECE 696B\\Project - ECE696B\n",
    "from keras.models import load_model\n",
    "Linear_MNIST = load_model('Linear_MNIST_FGSM_trained.h5')\n",
    "MLP_MNIST = load_model('MLP_MNIST_FGSM_trained.h5')\n",
    "CNN_MNIST = load_model('CNN_MNIST_FGSM_trained.h5')"
   ]
  },
  {
   "cell_type": "code",
   "execution_count": 21,
   "metadata": {
    "id": "1o32HZkpqpo5",
    "outputId": "a66a3558-5f6a-4a9f-fd31-7fe744b331d2"
   },
   "outputs": [
    {
     "name": "stdout",
     "output_type": "stream",
     "text": [
      "Test accuracy on unperturbed data\n",
      "32/32 [==============================] - 0s 1ms/step - loss: 0.2827 - accuracy: 0.9180\n",
      "32/32 [==============================] - 0s 1ms/step - loss: 0.1001 - accuracy: 0.9690\n",
      "32/32 [==============================] - 0s 3ms/step - loss: 0.0706 - accuracy: 0.9790\n",
      "\n",
      "\n"
     ]
    }
   ],
   "source": [
    "indexes = range(1000)\n",
    "print('Test accuracy on unperturbed data')\n",
    "Linear_MNIST.evaluate(X_test[indexes],y_test[indexes])\n",
    "MLP_MNIST.evaluate(X_test[indexes],y_test[indexes])\n",
    "CNN_MNIST.evaluate(X_test[indexes],y_test[indexes])\n",
    "print('\\n')"
   ]
  },
  {
   "cell_type": "code",
   "execution_count": 22,
   "metadata": {
    "id": "vZAl6IvIEdwf",
    "outputId": "fc54e81f-0c5f-4522-e845-4043cf8936a1"
   },
   "outputs": [
    {
     "name": "stdout",
     "output_type": "stream",
     "text": [
      "C:\\Users\\nh202\\OneDrive - University of Arizona\\Adversairal Examples - ECE 696B\\FGSM\n"
     ]
    }
   ],
   "source": [
    "%cd C:\\Users\\nh202\\OneDrive - University of Arizona\\Adversairal Examples - ECE 696B\\FGSM"
   ]
  },
  {
   "cell_type": "markdown",
   "metadata": {
    "id": "7cPtDvu0cf2X"
   },
   "source": [
    "**Performance on adversarial examples**"
   ]
  },
  {
   "cell_type": "code",
   "execution_count": 23,
   "metadata": {
    "id": "KepelXnJq8Wx",
    "outputId": "467bee9f-46a2-4adf-d2e4-8286d3cac125"
   },
   "outputs": [
    {
     "name": "stdout",
     "output_type": "stream",
     "text": [
      "eps value: 0.1\n",
      "\n",
      "\n",
      "Test accuracy on perturbed data targeted for Linear model\n",
      "32/32 [==============================] - 0s 1ms/step - loss: 0.0093 - accuracy: 0.9980\n",
      "32/32 [==============================] - 0s 1ms/step - loss: 0.2983 - accuracy: 0.9240\n",
      "32/32 [==============================] - 0s 3ms/step - loss: 0.3167 - accuracy: 0.9060\n",
      "\n",
      "\n",
      "Test accuracy on perturbed data targeted for MLP model\n",
      "32/32 [==============================] - 0s 1ms/step - loss: 1.7005 - accuracy: 0.5280\n",
      "32/32 [==============================] - 0s 1ms/step - loss: 0.0494 - accuracy: 0.9870\n",
      "32/32 [==============================] - 0s 3ms/step - loss: 0.2633 - accuracy: 0.9280\n",
      "\n",
      "\n",
      "Test accuracy on perturbed data targeted for CNN model\n",
      "32/32 [==============================] - 0s 1ms/step - loss: 0.6371 - accuracy: 0.7840\n",
      "32/32 [==============================] - 0s 1ms/step - loss: 0.2365 - accuracy: 0.9360\n",
      "32/32 [==============================] - 0s 4ms/step - loss: 0.0317 - accuracy: 0.9910\n",
      "\n",
      "eps value: 0.2\n",
      "\n",
      "\n",
      "Test accuracy on perturbed data targeted for Linear model\n",
      "32/32 [==============================] - 0s 2ms/step - loss: 0.0011 - accuracy: 1.0000\n",
      "32/32 [==============================] - 0s 2ms/step - loss: 1.1144 - accuracy: 0.7600\n",
      "32/32 [==============================] - 0s 4ms/step - loss: 2.2858 - accuracy: 0.5500\n",
      "\n",
      "\n",
      "Test accuracy on perturbed data targeted for MLP model\n",
      "32/32 [==============================] - 0s 2ms/step - loss: 5.2436 - accuracy: 0.2000\n",
      "32/32 [==============================] - 0s 2ms/step - loss: 0.0381 - accuracy: 0.9930\n",
      "32/32 [==============================] - 0s 5ms/step - loss: 1.5386 - accuracy: 0.6630\n",
      "\n",
      "\n",
      "Test accuracy on perturbed data targeted for CNN model\n",
      "32/32 [==============================] - 0s 2ms/step - loss: 1.8756 - accuracy: 0.5030\n",
      "32/32 [==============================] - 0s 2ms/step - loss: 1.0655 - accuracy: 0.7380\n",
      "32/32 [==============================] - 0s 3ms/step - loss: 0.0209 - accuracy: 0.9940\n",
      "\n",
      "eps value: 0.3\n",
      "\n",
      "\n",
      "Test accuracy on perturbed data targeted for Linear model\n",
      "32/32 [==============================] - 0s 1ms/step - loss: 5.7009e-04 - accuracy: 1.0000\n",
      "32/32 [==============================] - 0s 2ms/step - loss: 3.5827 - accuracy: 0.4450\n",
      "32/32 [==============================] - 0s 4ms/step - loss: 7.4829 - accuracy: 0.2030\n",
      "\n",
      "\n",
      "Test accuracy on perturbed data targeted for MLP model\n",
      "32/32 [==============================] - 0s 1ms/step - loss: 9.8998 - accuracy: 0.0820\n",
      "32/32 [==============================] - 0s 2ms/step - loss: 0.0416 - accuracy: 0.9910\n",
      "32/32 [==============================] - 0s 3ms/step - loss: 5.0622 - accuracy: 0.3710\n",
      "\n",
      "\n",
      "Test accuracy on perturbed data targeted for CNN model\n",
      "32/32 [==============================] - 0s 2ms/step - loss: 4.0677 - accuracy: 0.2930\n",
      "32/32 [==============================] - 0s 2ms/step - loss: 3.4644 - accuracy: 0.4910\n",
      "32/32 [==============================] - 0s 5ms/step - loss: 0.0158 - accuracy: 0.9940\n",
      "\n",
      "eps value: 0.4\n",
      "\n",
      "\n",
      "Test accuracy on perturbed data targeted for Linear model\n",
      "32/32 [==============================] - 0s 2ms/step - loss: 8.0222e-04 - accuracy: 1.0000\n",
      "32/32 [==============================] - 0s 2ms/step - loss: 7.7931 - accuracy: 0.2380\n",
      "32/32 [==============================] - 0s 5ms/step - loss: 14.4528 - accuracy: 0.1080\n",
      "\n",
      "\n",
      "Test accuracy on perturbed data targeted for MLP model\n",
      "32/32 [==============================] - 0s 2ms/step - loss: 15.0010 - accuracy: 0.0390\n",
      "32/32 [==============================] - 0s 2ms/step - loss: 0.0601 - accuracy: 0.9870\n",
      "32/32 [==============================] - 0s 4ms/step - loss: 10.4722 - accuracy: 0.1840\n",
      "\n",
      "\n",
      "Test accuracy on perturbed data targeted for CNN model\n",
      "32/32 [==============================] - 0s 2ms/step - loss: 6.8658 - accuracy: 0.1790\n",
      "32/32 [==============================] - 0s 2ms/step - loss: 7.2852 - accuracy: 0.3040\n",
      "32/32 [==============================] - 0s 4ms/step - loss: 0.0369 - accuracy: 0.9900\n",
      "\n",
      "eps value: 0.5\n",
      "\n",
      "\n",
      "Test accuracy on perturbed data targeted for Linear model\n",
      "32/32 [==============================] - 0s 2ms/step - loss: 0.0017 - accuracy: 0.9990\n",
      "32/32 [==============================] - 0s 2ms/step - loss: 12.9000 - accuracy: 0.1270\n",
      "32/32 [==============================] - 0s 4ms/step - loss: 21.7640 - accuracy: 0.0830\n",
      "\n",
      "\n",
      "Test accuracy on perturbed data targeted for MLP model\n",
      "32/32 [==============================] - 0s 2ms/step - loss: 20.2746 - accuracy: 0.0210\n",
      "32/32 [==============================] - 0s 2ms/step - loss: 0.1096 - accuracy: 0.9840\n",
      "32/32 [==============================] - 0s 4ms/step - loss: 16.6179 - accuracy: 0.1230\n",
      "\n",
      "\n",
      "Test accuracy on perturbed data targeted for CNN model\n",
      "32/32 [==============================] - 0s 2ms/step - loss: 9.9968 - accuracy: 0.1210\n",
      "32/32 [==============================] - 0s 2ms/step - loss: 12.0370 - accuracy: 0.1710\n",
      "32/32 [==============================] - 0s 4ms/step - loss: 0.1158 - accuracy: 0.9800\n",
      "\n",
      "eps value: 0.6\n",
      "\n",
      "\n",
      "Test accuracy on perturbed data targeted for Linear model\n",
      "32/32 [==============================] - 0s 2ms/step - loss: 0.0036 - accuracy: 0.9980\n",
      "32/32 [==============================] - 0s 2ms/step - loss: 18.1713 - accuracy: 0.0880\n",
      "32/32 [==============================] - 0s 3ms/step - loss: 28.9336 - accuracy: 0.0750\n",
      "\n",
      "\n",
      "Test accuracy on perturbed data targeted for MLP model\n",
      "32/32 [==============================] - 0s 2ms/step - loss: 25.6040 - accuracy: 0.0160\n",
      "32/32 [==============================] - 0s 2ms/step - loss: 0.2324 - accuracy: 0.9660\n",
      "32/32 [==============================] - 0s 3ms/step - loss: 22.7141 - accuracy: 0.1040\n",
      "\n",
      "\n",
      "Test accuracy on perturbed data targeted for CNN model\n",
      "32/32 [==============================] - 0s 2ms/step - loss: 13.3258 - accuracy: 0.0870\n",
      "32/32 [==============================] - 0s 2ms/step - loss: 17.1976 - accuracy: 0.1070\n",
      "32/32 [==============================] - 0s 4ms/step - loss: 0.2327 - accuracy: 0.9700\n",
      "\n",
      "eps value: 0.7\n",
      "\n",
      "\n",
      "Test accuracy on perturbed data targeted for Linear model\n",
      "32/32 [==============================] - 0s 2ms/step - loss: 0.0088 - accuracy: 0.9950\n",
      "32/32 [==============================] - 0s 2ms/step - loss: 23.3029 - accuracy: 0.0700\n",
      "32/32 [==============================] - 0s 4ms/step - loss: 35.8429 - accuracy: 0.0720\n",
      "\n",
      "\n",
      "Test accuracy on perturbed data targeted for MLP model\n",
      "32/32 [==============================] - 0s 1ms/step - loss: 30.9417 - accuracy: 0.0110\n",
      "32/32 [==============================] - 0s 2ms/step - loss: 0.4364 - accuracy: 0.9550\n",
      "32/32 [==============================] - 0s 5ms/step - loss: 28.4975 - accuracy: 0.0970\n",
      "\n",
      "\n",
      "Test accuracy on perturbed data targeted for CNN model\n",
      "32/32 [==============================] - 0s 2ms/step - loss: 16.7650 - accuracy: 0.0700\n",
      "32/32 [==============================] - 0s 2ms/step - loss: 22.4766 - accuracy: 0.0730\n",
      "32/32 [==============================] - 0s 4ms/step - loss: 0.3666 - accuracy: 0.9610\n",
      "\n",
      "eps value: 0.8\n",
      "\n",
      "\n",
      "Test accuracy on perturbed data targeted for Linear model\n",
      "32/32 [==============================] - 0s 2ms/step - loss: 0.0233 - accuracy: 0.9910\n",
      "32/32 [==============================] - 0s 2ms/step - loss: 28.2431 - accuracy: 0.0610\n",
      "32/32 [==============================] - 0s 5ms/step - loss: 42.5115 - accuracy: 0.0730\n",
      "\n",
      "\n",
      "Test accuracy on perturbed data targeted for MLP model\n",
      "32/32 [==============================] - 0s 3ms/step - loss: 36.2471 - accuracy: 0.0100\n",
      "32/32 [==============================] - 0s 3ms/step - loss: 0.6961 - accuracy: 0.9450\n",
      "32/32 [==============================] - 0s 6ms/step - loss: 33.9668 - accuracy: 0.0950\n",
      "\n",
      "\n",
      "Test accuracy on perturbed data targeted for CNN model\n",
      "32/32 [==============================] - 0s 3ms/step - loss: 20.2615 - accuracy: 0.0580\n",
      "32/32 [==============================] - 0s 3ms/step - loss: 27.7624 - accuracy: 0.0600\n",
      "32/32 [==============================] - 0s 5ms/step - loss: 0.5175 - accuracy: 0.9470\n",
      "\n",
      "eps value: 0.9\n",
      "\n",
      "\n",
      "Test accuracy on perturbed data targeted for Linear model\n",
      "32/32 [==============================] - 0s 3ms/step - loss: 0.0503 - accuracy: 0.9860\n",
      "32/32 [==============================] - 0s 4ms/step - loss: 32.9515 - accuracy: 0.0540\n",
      "32/32 [==============================] - 0s 5ms/step - loss: 48.9240 - accuracy: 0.0750\n",
      "\n",
      "\n",
      "Test accuracy on perturbed data targeted for MLP model\n"
     ]
    },
    {
     "name": "stdout",
     "output_type": "stream",
     "text": [
      "32/32 [==============================] - 0s 3ms/step - loss: 41.4809 - accuracy: 0.0080\n",
      "32/32 [==============================] - 0s 3ms/step - loss: 0.9864 - accuracy: 0.9330\n",
      "32/32 [==============================] - 0s 5ms/step - loss: 39.1514 - accuracy: 0.1000\n",
      "\n",
      "\n",
      "Test accuracy on perturbed data targeted for CNN model\n",
      "32/32 [==============================] - 0s 3ms/step - loss: 23.7786 - accuracy: 0.0510\n",
      "32/32 [==============================] - 0s 3ms/step - loss: 33.0451 - accuracy: 0.0440\n",
      "32/32 [==============================] - 0s 6ms/step - loss: 0.6762 - accuracy: 0.9380\n",
      "\n",
      "eps value: 1.0\n",
      "\n",
      "\n",
      "Test accuracy on perturbed data targeted for Linear model\n",
      "32/32 [==============================] - 0s 3ms/step - loss: 0.0944 - accuracy: 0.9770\n",
      "32/32 [==============================] - 0s 2ms/step - loss: 37.2656 - accuracy: 0.0550\n",
      "32/32 [==============================] - 0s 4ms/step - loss: 54.9681 - accuracy: 0.0770\n",
      "\n",
      "\n",
      "Test accuracy on perturbed data targeted for MLP model\n",
      "32/32 [==============================] - 0s 2ms/step - loss: 46.5624 - accuracy: 0.0070\n",
      "32/32 [==============================] - 0s 2ms/step - loss: 1.2848 - accuracy: 0.9260\n",
      "32/32 [==============================] - 0s 5ms/step - loss: 44.0794 - accuracy: 0.0970\n",
      "\n",
      "\n",
      "Test accuracy on perturbed data targeted for CNN model\n",
      "32/32 [==============================] - 0s 3ms/step - loss: 27.2548 - accuracy: 0.0480\n",
      "32/32 [==============================] - 0s 3ms/step - loss: 38.2021 - accuracy: 0.0370\n",
      "32/32 [==============================] - 0s 5ms/step - loss: 0.8406 - accuracy: 0.9350\n",
      "\n"
     ]
    }
   ],
   "source": [
    "indexes = range(1000)\n",
    "for eps in np.arange(0.1,1.1,0.1):\n",
    "    \n",
    "  print(f'eps value: {np.round(eps,1)}')\n",
    "\n",
    "  np_array_filename = 'MNIST_FGSM_'+ str(len(indexes)) +'_adv_examples_eps_'+ str(round(eps,1)) + '.npz'\n",
    "  data = np.load(np_array_filename)\n",
    "\n",
    "  # access the arrays using their keys\n",
    "  X_test_FGSM_Linear = data['X_test_FGSM_Linear']\n",
    "  X_test_FGSM_MLP = data['X_test_FGSM_MLP']\n",
    "  X_test_FGSM_CNN = data['X_test_FGSM_CNN']\n",
    "\n",
    "  stored_results = []\n",
    "  print('\\n')\n",
    "  print('Test accuracy on perturbed data targeted for Linear model')\n",
    "  avg_l2_norm_Linear = np.mean(np.sqrt(np.sum((X_test_FGSM_Linear-X_test[:len(indexes)])**2, axis=(1,2))))\n",
    "  stored_results.append(avg_l2_norm_Linear)\n",
    "  _, accuracy = Linear_MNIST.evaluate(X_test_FGSM_Linear[indexes],y_test[indexes])\n",
    "  stored_results.append(accuracy)\n",
    "  _, accuracy = MLP_MNIST.evaluate(X_test_FGSM_Linear[indexes],y_test[indexes])\n",
    "  stored_results.append(accuracy)\n",
    "  _, accuracy = CNN_MNIST.evaluate(X_test_FGSM_Linear[indexes],y_test[indexes])\n",
    "  stored_results.append(accuracy)\n",
    "  print('\\n')\n",
    "  print('Test accuracy on perturbed data targeted for MLP model')\n",
    "  avg_l2_norm_MLP = np.mean(np.sqrt(np.sum((X_test_FGSM_MLP-X_test[:len(indexes)])**2, axis=(1,2))))\n",
    "  stored_results.append(avg_l2_norm_MLP)\n",
    "  _, accuracy = Linear_MNIST.evaluate(X_test_FGSM_MLP[indexes],y_test[indexes])\n",
    "  stored_results.append(accuracy)\n",
    "  _, accuracy = MLP_MNIST.evaluate(X_test_FGSM_MLP[indexes],y_test[indexes])\n",
    "  stored_results.append(accuracy)\n",
    "  _, accuracy = CNN_MNIST.evaluate(X_test_FGSM_MLP[indexes],y_test[indexes])\n",
    "  stored_results.append(accuracy)\n",
    "  print('\\n')\n",
    "  print('Test accuracy on perturbed data targeted for CNN model')\n",
    "  avg_l2_norm_CNN = np.mean(np.sqrt(np.sum((X_test_FGSM_CNN-X_test[:len(indexes)])**2, axis=(1,2))))\n",
    "  stored_results.append(avg_l2_norm_CNN)\n",
    "  _, accuracy = Linear_MNIST.evaluate(X_test_FGSM_CNN[indexes],y_test[indexes])\n",
    "  stored_results.append(accuracy)\n",
    "  _, accuracy = MLP_MNIST.evaluate(X_test_FGSM_CNN[indexes],y_test[indexes])\n",
    "  stored_results.append(accuracy)\n",
    "  _, accuracy = CNN_MNIST.evaluate(X_test_FGSM_CNN[indexes],y_test[indexes])\n",
    "  stored_results.append(accuracy)\n",
    "  print()\n",
    "\n",
    "  stored_results = np.array(stored_results)\n",
    "  stored_results = stored_results.reshape(-1,4)\n",
    "  df = pd.DataFrame(stored_results, columns = ['avg_l2_norm','Linear_MNIST_test_accuray',\\\n",
    "                                   'MLP_MNIST_test_accuray','CNN_MNIST_test_accuray'])\n",
    "\n",
    "  filename = 'Post training Adversarial_Attacks_MNIST_'+ str(len(indexes)) +' [FGSM Attack - eps '+ str(round(eps,1)) + '].csv'\n",
    "  df.to_csv(filename, index=False)"
   ]
  },
  {
   "cell_type": "markdown",
   "metadata": {
    "id": "Un_HkH6aqppD"
   },
   "source": [
    "# Compile the results into a dataframe"
   ]
  },
  {
   "cell_type": "code",
   "execution_count": 24,
   "metadata": {
    "id": "DpUMXMNWqppE"
   },
   "outputs": [],
   "source": [
    "target_models = []\n",
    "for i in range(10):\n",
    "    target_models.append('Linear')\n",
    "    target_models.append('MLP')    \n",
    "    target_models.append('CNN') \n",
    "target_models = np.array(target_models).reshape(-1,1)"
   ]
  },
  {
   "cell_type": "code",
   "execution_count": 25,
   "metadata": {
    "id": "MlVtvgrwqppG"
   },
   "outputs": [],
   "source": [
    "eps_values = []\n",
    "for eps in np.arange(0.1,1.1,0.1):\n",
    "    eps_values.append(eps)\n",
    "    eps_values.append(eps)    \n",
    "    eps_values.append(eps) \n",
    "eps_values = np.array(eps_values).reshape(-1,1)"
   ]
  },
  {
   "cell_type": "code",
   "execution_count": 26,
   "metadata": {
    "id": "9t8uy6vwqppH",
    "outputId": "579862ba-6410-49b7-d1a7-26bd8b30e403"
   },
   "outputs": [
    {
     "data": {
      "text/html": [
       "<div>\n",
       "<style scoped>\n",
       "    .dataframe tbody tr th:only-of-type {\n",
       "        vertical-align: middle;\n",
       "    }\n",
       "\n",
       "    .dataframe tbody tr th {\n",
       "        vertical-align: top;\n",
       "    }\n",
       "\n",
       "    .dataframe thead th {\n",
       "        text-align: right;\n",
       "    }\n",
       "</style>\n",
       "<table border=\"1\" class=\"dataframe\">\n",
       "  <thead>\n",
       "    <tr style=\"text-align: right;\">\n",
       "      <th></th>\n",
       "      <th>eps value</th>\n",
       "      <th>Target model</th>\n",
       "      <th>avg_l2_norm</th>\n",
       "      <th>Linear_MNIST_test_accuray</th>\n",
       "      <th>MLP_MNIST_test_accuray</th>\n",
       "      <th>CNN_MNIST_test_accuray</th>\n",
       "    </tr>\n",
       "  </thead>\n",
       "  <tbody>\n",
       "    <tr>\n",
       "      <th>0</th>\n",
       "      <td>0.1</td>\n",
       "      <td>Linear</td>\n",
       "      <td>2.104669</td>\n",
       "      <td>0.998</td>\n",
       "      <td>0.924</td>\n",
       "      <td>0.906</td>\n",
       "    </tr>\n",
       "    <tr>\n",
       "      <th>1</th>\n",
       "      <td>0.1</td>\n",
       "      <td>MLP</td>\n",
       "      <td>2.130851</td>\n",
       "      <td>0.528</td>\n",
       "      <td>0.987</td>\n",
       "      <td>0.928</td>\n",
       "    </tr>\n",
       "    <tr>\n",
       "      <th>2</th>\n",
       "      <td>0.1</td>\n",
       "      <td>CNN</td>\n",
       "      <td>2.139995</td>\n",
       "      <td>0.784</td>\n",
       "      <td>0.936</td>\n",
       "      <td>0.991</td>\n",
       "    </tr>\n",
       "    <tr>\n",
       "      <th>3</th>\n",
       "      <td>0.2</td>\n",
       "      <td>Linear</td>\n",
       "      <td>4.174779</td>\n",
       "      <td>1.000</td>\n",
       "      <td>0.760</td>\n",
       "      <td>0.550</td>\n",
       "    </tr>\n",
       "    <tr>\n",
       "      <th>4</th>\n",
       "      <td>0.2</td>\n",
       "      <td>MLP</td>\n",
       "      <td>4.227887</td>\n",
       "      <td>0.200</td>\n",
       "      <td>0.993</td>\n",
       "      <td>0.663</td>\n",
       "    </tr>\n",
       "    <tr>\n",
       "      <th>5</th>\n",
       "      <td>0.2</td>\n",
       "      <td>CNN</td>\n",
       "      <td>4.248348</td>\n",
       "      <td>0.503</td>\n",
       "      <td>0.738</td>\n",
       "      <td>0.994</td>\n",
       "    </tr>\n",
       "    <tr>\n",
       "      <th>6</th>\n",
       "      <td>0.3</td>\n",
       "      <td>Linear</td>\n",
       "      <td>6.217968</td>\n",
       "      <td>1.000</td>\n",
       "      <td>0.445</td>\n",
       "      <td>0.203</td>\n",
       "    </tr>\n",
       "    <tr>\n",
       "      <th>7</th>\n",
       "      <td>0.3</td>\n",
       "      <td>MLP</td>\n",
       "      <td>6.298463</td>\n",
       "      <td>0.082</td>\n",
       "      <td>0.991</td>\n",
       "      <td>0.371</td>\n",
       "    </tr>\n",
       "    <tr>\n",
       "      <th>8</th>\n",
       "      <td>0.3</td>\n",
       "      <td>CNN</td>\n",
       "      <td>6.331492</td>\n",
       "      <td>0.293</td>\n",
       "      <td>0.491</td>\n",
       "      <td>0.994</td>\n",
       "    </tr>\n",
       "    <tr>\n",
       "      <th>9</th>\n",
       "      <td>0.4</td>\n",
       "      <td>Linear</td>\n",
       "      <td>8.237682</td>\n",
       "      <td>1.000</td>\n",
       "      <td>0.238</td>\n",
       "      <td>0.108</td>\n",
       "    </tr>\n",
       "    <tr>\n",
       "      <th>10</th>\n",
       "      <td>0.4</td>\n",
       "      <td>MLP</td>\n",
       "      <td>8.345658</td>\n",
       "      <td>0.039</td>\n",
       "      <td>0.987</td>\n",
       "      <td>0.184</td>\n",
       "    </tr>\n",
       "    <tr>\n",
       "      <th>11</th>\n",
       "      <td>0.4</td>\n",
       "      <td>CNN</td>\n",
       "      <td>8.392001</td>\n",
       "      <td>0.179</td>\n",
       "      <td>0.304</td>\n",
       "      <td>0.990</td>\n",
       "    </tr>\n",
       "    <tr>\n",
       "      <th>12</th>\n",
       "      <td>0.5</td>\n",
       "      <td>Linear</td>\n",
       "      <td>10.234820</td>\n",
       "      <td>0.999</td>\n",
       "      <td>0.127</td>\n",
       "      <td>0.083</td>\n",
       "    </tr>\n",
       "    <tr>\n",
       "      <th>13</th>\n",
       "      <td>0.5</td>\n",
       "      <td>MLP</td>\n",
       "      <td>10.370325</td>\n",
       "      <td>0.021</td>\n",
       "      <td>0.984</td>\n",
       "      <td>0.123</td>\n",
       "    </tr>\n",
       "    <tr>\n",
       "      <th>14</th>\n",
       "      <td>0.5</td>\n",
       "      <td>CNN</td>\n",
       "      <td>10.429860</td>\n",
       "      <td>0.121</td>\n",
       "      <td>0.171</td>\n",
       "      <td>0.980</td>\n",
       "    </tr>\n",
       "    <tr>\n",
       "      <th>15</th>\n",
       "      <td>0.6</td>\n",
       "      <td>Linear</td>\n",
       "      <td>12.203357</td>\n",
       "      <td>0.998</td>\n",
       "      <td>0.088</td>\n",
       "      <td>0.075</td>\n",
       "    </tr>\n",
       "    <tr>\n",
       "      <th>16</th>\n",
       "      <td>0.6</td>\n",
       "      <td>MLP</td>\n",
       "      <td>12.366749</td>\n",
       "      <td>0.016</td>\n",
       "      <td>0.966</td>\n",
       "      <td>0.104</td>\n",
       "    </tr>\n",
       "    <tr>\n",
       "      <th>17</th>\n",
       "      <td>0.6</td>\n",
       "      <td>CNN</td>\n",
       "      <td>12.439137</td>\n",
       "      <td>0.087</td>\n",
       "      <td>0.107</td>\n",
       "      <td>0.970</td>\n",
       "    </tr>\n",
       "    <tr>\n",
       "      <th>18</th>\n",
       "      <td>0.7</td>\n",
       "      <td>Linear</td>\n",
       "      <td>14.147400</td>\n",
       "      <td>0.995</td>\n",
       "      <td>0.070</td>\n",
       "      <td>0.072</td>\n",
       "    </tr>\n",
       "    <tr>\n",
       "      <th>19</th>\n",
       "      <td>0.7</td>\n",
       "      <td>MLP</td>\n",
       "      <td>14.339213</td>\n",
       "      <td>0.011</td>\n",
       "      <td>0.955</td>\n",
       "      <td>0.097</td>\n",
       "    </tr>\n",
       "    <tr>\n",
       "      <th>20</th>\n",
       "      <td>0.7</td>\n",
       "      <td>CNN</td>\n",
       "      <td>14.423671</td>\n",
       "      <td>0.070</td>\n",
       "      <td>0.073</td>\n",
       "      <td>0.961</td>\n",
       "    </tr>\n",
       "    <tr>\n",
       "      <th>21</th>\n",
       "      <td>0.8</td>\n",
       "      <td>Linear</td>\n",
       "      <td>16.064335</td>\n",
       "      <td>0.991</td>\n",
       "      <td>0.061</td>\n",
       "      <td>0.073</td>\n",
       "    </tr>\n",
       "    <tr>\n",
       "      <th>22</th>\n",
       "      <td>0.8</td>\n",
       "      <td>MLP</td>\n",
       "      <td>16.285007</td>\n",
       "      <td>0.010</td>\n",
       "      <td>0.945</td>\n",
       "      <td>0.095</td>\n",
       "    </tr>\n",
       "    <tr>\n",
       "      <th>23</th>\n",
       "      <td>0.8</td>\n",
       "      <td>CNN</td>\n",
       "      <td>16.379772</td>\n",
       "      <td>0.058</td>\n",
       "      <td>0.060</td>\n",
       "      <td>0.947</td>\n",
       "    </tr>\n",
       "    <tr>\n",
       "      <th>24</th>\n",
       "      <td>0.9</td>\n",
       "      <td>Linear</td>\n",
       "      <td>17.947981</td>\n",
       "      <td>0.986</td>\n",
       "      <td>0.054</td>\n",
       "      <td>0.075</td>\n",
       "    </tr>\n",
       "    <tr>\n",
       "      <th>25</th>\n",
       "      <td>0.9</td>\n",
       "      <td>MLP</td>\n",
       "      <td>18.197527</td>\n",
       "      <td>0.008</td>\n",
       "      <td>0.933</td>\n",
       "      <td>0.100</td>\n",
       "    </tr>\n",
       "    <tr>\n",
       "      <th>26</th>\n",
       "      <td>0.9</td>\n",
       "      <td>CNN</td>\n",
       "      <td>18.300023</td>\n",
       "      <td>0.051</td>\n",
       "      <td>0.044</td>\n",
       "      <td>0.938</td>\n",
       "    </tr>\n",
       "    <tr>\n",
       "      <th>27</th>\n",
       "      <td>1.0</td>\n",
       "      <td>Linear</td>\n",
       "      <td>19.775777</td>\n",
       "      <td>0.977</td>\n",
       "      <td>0.055</td>\n",
       "      <td>0.077</td>\n",
       "    </tr>\n",
       "    <tr>\n",
       "      <th>28</th>\n",
       "      <td>1.0</td>\n",
       "      <td>MLP</td>\n",
       "      <td>20.054006</td>\n",
       "      <td>0.007</td>\n",
       "      <td>0.926</td>\n",
       "      <td>0.097</td>\n",
       "    </tr>\n",
       "    <tr>\n",
       "      <th>29</th>\n",
       "      <td>1.0</td>\n",
       "      <td>CNN</td>\n",
       "      <td>20.159997</td>\n",
       "      <td>0.048</td>\n",
       "      <td>0.037</td>\n",
       "      <td>0.935</td>\n",
       "    </tr>\n",
       "  </tbody>\n",
       "</table>\n",
       "</div>"
      ],
      "text/plain": [
       "    eps value Target model  avg_l2_norm  Linear_MNIST_test_accuray  \\\n",
       "0         0.1       Linear     2.104669                      0.998   \n",
       "1         0.1          MLP     2.130851                      0.528   \n",
       "2         0.1          CNN     2.139995                      0.784   \n",
       "3         0.2       Linear     4.174779                      1.000   \n",
       "4         0.2          MLP     4.227887                      0.200   \n",
       "5         0.2          CNN     4.248348                      0.503   \n",
       "6         0.3       Linear     6.217968                      1.000   \n",
       "7         0.3          MLP     6.298463                      0.082   \n",
       "8         0.3          CNN     6.331492                      0.293   \n",
       "9         0.4       Linear     8.237682                      1.000   \n",
       "10        0.4          MLP     8.345658                      0.039   \n",
       "11        0.4          CNN     8.392001                      0.179   \n",
       "12        0.5       Linear    10.234820                      0.999   \n",
       "13        0.5          MLP    10.370325                      0.021   \n",
       "14        0.5          CNN    10.429860                      0.121   \n",
       "15        0.6       Linear    12.203357                      0.998   \n",
       "16        0.6          MLP    12.366749                      0.016   \n",
       "17        0.6          CNN    12.439137                      0.087   \n",
       "18        0.7       Linear    14.147400                      0.995   \n",
       "19        0.7          MLP    14.339213                      0.011   \n",
       "20        0.7          CNN    14.423671                      0.070   \n",
       "21        0.8       Linear    16.064335                      0.991   \n",
       "22        0.8          MLP    16.285007                      0.010   \n",
       "23        0.8          CNN    16.379772                      0.058   \n",
       "24        0.9       Linear    17.947981                      0.986   \n",
       "25        0.9          MLP    18.197527                      0.008   \n",
       "26        0.9          CNN    18.300023                      0.051   \n",
       "27        1.0       Linear    19.775777                      0.977   \n",
       "28        1.0          MLP    20.054006                      0.007   \n",
       "29        1.0          CNN    20.159997                      0.048   \n",
       "\n",
       "    MLP_MNIST_test_accuray  CNN_MNIST_test_accuray  \n",
       "0                    0.924                   0.906  \n",
       "1                    0.987                   0.928  \n",
       "2                    0.936                   0.991  \n",
       "3                    0.760                   0.550  \n",
       "4                    0.993                   0.663  \n",
       "5                    0.738                   0.994  \n",
       "6                    0.445                   0.203  \n",
       "7                    0.991                   0.371  \n",
       "8                    0.491                   0.994  \n",
       "9                    0.238                   0.108  \n",
       "10                   0.987                   0.184  \n",
       "11                   0.304                   0.990  \n",
       "12                   0.127                   0.083  \n",
       "13                   0.984                   0.123  \n",
       "14                   0.171                   0.980  \n",
       "15                   0.088                   0.075  \n",
       "16                   0.966                   0.104  \n",
       "17                   0.107                   0.970  \n",
       "18                   0.070                   0.072  \n",
       "19                   0.955                   0.097  \n",
       "20                   0.073                   0.961  \n",
       "21                   0.061                   0.073  \n",
       "22                   0.945                   0.095  \n",
       "23                   0.060                   0.947  \n",
       "24                   0.054                   0.075  \n",
       "25                   0.933                   0.100  \n",
       "26                   0.044                   0.938  \n",
       "27                   0.055                   0.077  \n",
       "28                   0.926                   0.097  \n",
       "29                   0.037                   0.935  "
      ]
     },
     "execution_count": 26,
     "metadata": {},
     "output_type": "execute_result"
    }
   ],
   "source": [
    "df_all = pd.DataFrame()\n",
    "for eps in np.arange(0.1,1.1,0.1):\n",
    "    filename = 'Post training Adversarial_Attacks_MNIST_'+ str(len(indexes)) +' [FGSM Attack - eps '+ str(round(eps,1)) + '].csv'\n",
    "    df = pd.read_csv(filename)\n",
    "    df_all = pd.concat([df_all, df], ignore_index=True)\n",
    "df_all['Target model'] = target_models\n",
    "df_all['eps value'] = eps_values\n",
    "df_all = df_all[['eps value', 'Target model', 'avg_l2_norm', 'Linear_MNIST_test_accuray', 'MLP_MNIST_test_accuray',\n",
    "       'CNN_MNIST_test_accuray']]\n",
    "df_all.to_csv('Post training Adversarial_Attacks_MNIST [FGSM Attack].csv', index=False)\n",
    "df_all"
   ]
  },
  {
   "cell_type": "markdown",
   "metadata": {
    "id": "mJo_YW3tqppJ"
   },
   "source": [
    "# Prepare the plots"
   ]
  },
  {
   "cell_type": "code",
   "execution_count": 43,
   "metadata": {},
   "outputs": [
    {
     "name": "stdout",
     "output_type": "stream",
     "text": [
      "Test accuracy on unperturbed data\n",
      "32/32 [==============================] - 0s 810us/step - loss: 0.2822 - accuracy: 0.9150\n",
      "32/32 [==============================] - 0s 994us/step - loss: 0.1001 - accuracy: 0.9690\n",
      "32/32 [==============================] - 0s 2ms/step - loss: 0.0706 - accuracy: 0.9790\n",
      "Test accuracy on unperturbed data\n",
      "32/32 [==============================] - 0s 862us/step - loss: 0.2822 - accuracy: 0.9150\n",
      "32/32 [==============================] - 0s 1ms/step - loss: 0.1001 - accuracy: 0.9690\n",
      "32/32 [==============================] - 0s 2ms/step - loss: 0.0706 - accuracy: 0.9790\n"
     ]
    },
    {
     "data": {
      "image/png": "[encoded data removed]",
      "text/plain": [
       "<Figure size 432x288 with 1 Axes>"
      ]
     },
     "metadata": {
      "needs_background": "light"
     },
     "output_type": "display_data"
    }
   ],
   "source": [
    "df_all = pd.read_csv('Post training Adversarial_Attacks_MNIST [FGSM Attack].csv')\n",
    "df_Linear = df_all[df_all['Target model']=='Linear']\n",
    "df_Linear = df_Linear.shift(1)\n",
    "print('Test accuracy on unperturbed data')\n",
    "_, accurcy_Linear = Linear_MNIST.evaluate(X_test[indexes],y_test[indexes]);\n",
    "_, accurcy_MLP = MLP_MNIST.evaluate(X_test[indexes],y_test[indexes]);\n",
    "_, accurcy_CNN = CNN_MNIST.evaluate(X_test[indexes],y_test[indexes]);\n",
    "df_Linear.iloc[0] = [0, '-', 0, accurcy_Linear, accurcy_MLP, accurcy_CNN]\n",
    "df_Linear\n",
    "plt.plot(df_Linear['eps value'],df_Linear['Linear_MNIST_test_accuray'],'o-')\n",
    "plt.plot(df_Linear['eps value'],df_Linear['MLP_MNIST_test_accuray'],'o-')\n",
    "plt.plot(df_Linear['eps value'],df_Linear['CNN_MNIST_test_accuray'],'o-')\n",
    "\n",
    "df_all = pd.read_csv('Adversarial_Attacks_MNIST [FGSM Attack].csv')\n",
    "df_Linear = df_all[df_all['Target model']=='Linear']\n",
    "df_Linear = df_Linear.shift(1)\n",
    "print('Test accuracy on unperturbed data')\n",
    "_, accurcy_Linear = Linear_MNIST.evaluate(X_test[indexes],y_test[indexes]);\n",
    "_, accurcy_MLP = MLP_MNIST.evaluate(X_test[indexes],y_test[indexes]);\n",
    "_, accurcy_CNN = CNN_MNIST.evaluate(X_test[indexes],y_test[indexes]);\n",
    "df_Linear.iloc[0] = [0, '-', 0, accurcy_Linear, accurcy_MLP, accurcy_CNN]\n",
    "df_Linear\n",
    "plt.plot(df_Linear['eps value'],df_Linear['Linear_MNIST_test_accuray'],'o--', color = 'C0')\n",
    "plt.plot(df_Linear['eps value'],df_Linear['MLP_MNIST_test_accuray'],'o--', color = 'C1')\n",
    "plt.plot(df_Linear['eps value'],df_Linear['CNN_MNIST_test_accuray'],'o--', color = 'C2')\n",
    "\n",
    "plt.xlabel('$\\epsilon$ value')\n",
    "plt.ylabel('Test accuracy')\n",
    "plt.ylim([-0.1, 1.1])\n",
    "# plt.legend(['Linear (after AT)', 'Linear (before AT)'])\n",
    "plt.legend(['Linear (after AT)', 'MLP (after AT)','CNN (after AT)', \\\n",
    "            'Linear (before AT)', 'MLP (before AT)','CNN (before AT)'])\n",
    "plt.title('Effect of FGSM attack on MNIST\\nbefore and after adversarial training (AT)\\nTarget model: Linear')\n",
    "plt.savefig('Post training Effect of FGSM attack on MNIST for Linear model [eps]', dpi=600)\n",
    "plt.show()"
   ]
  },
  {
   "cell_type": "code",
   "execution_count": 31,
   "metadata": {},
   "outputs": [
    {
     "name": "stdout",
     "output_type": "stream",
     "text": [
      "Test accuracy on unperturbed data\n",
      "32/32 [==============================] - 0s 1ms/step - loss: 0.2827 - accuracy: 0.9180\n",
      "32/32 [==============================] - 0s 1ms/step - loss: 0.1001 - accuracy: 0.9690\n",
      "32/32 [==============================] - 0s 3ms/step - loss: 0.0706 - accuracy: 0.9790\n",
      "Test accuracy on unperturbed data\n",
      "32/32 [==============================] - 0s 1ms/step - loss: 0.2827 - accuracy: 0.9180\n",
      "32/32 [==============================] - 0s 1ms/step - loss: 0.1001 - accuracy: 0.9690\n",
      "32/32 [==============================] - 0s 3ms/step - loss: 0.0706 - accuracy: 0.9790\n"
     ]
    },
    {
     "data": {
      "image/png": "[encoded data removed]",
      "text/plain": [
       "<Figure size 432x288 with 1 Axes>"
      ]
     },
     "metadata": {
      "needs_background": "light"
     },
     "output_type": "display_data"
    }
   ],
   "source": [
    "df_all = pd.read_csv('Post training Adversarial_Attacks_MNIST [FGSM Attack].csv')\n",
    "df_Linear = df_all[df_all['Target model']=='Linear']\n",
    "df_Linear = df_Linear.shift(1)\n",
    "print('Test accuracy on unperturbed data')\n",
    "_, accurcy_Linear = Linear_MNIST.evaluate(X_test[indexes],y_test[indexes]);\n",
    "_, accurcy_MLP = MLP_MNIST.evaluate(X_test[indexes],y_test[indexes]);\n",
    "_, accurcy_CNN = CNN_MNIST.evaluate(X_test[indexes],y_test[indexes]);\n",
    "df_Linear.iloc[0] = ['-', '-', 0, accurcy_Linear, accurcy_MLP, accurcy_CNN]\n",
    "df_Linear\n",
    "# plt.plot(df_Linear['avg_l2_norm'],df_Linear['Linear_MNIST_test_accuray'],'o-')\n",
    "# plt.plot(df_Linear['avg_l2_norm'],df_Linear['MLP_MNIST_test_accuray'],'o-')\n",
    "# plt.plot(df_Linear['avg_l2_norm'],df_Linear['CNN_MNIST_test_accuray'],'o-')\n",
    "plt.plot(df_Linear['avg_l2_norm'],df_Linear['Linear_MNIST_test_accuray'],'o-', color = 'C0')\n",
    "\n",
    "df_all = pd.read_csv('Adversarial_Attacks_MNIST [FGSM Attack].csv')\n",
    "df_Linear = df_all[df_all['Target model']=='Linear']\n",
    "df_Linear = df_Linear.shift(1)\n",
    "print('Test accuracy on unperturbed data')\n",
    "_, accurcy_Linear = Linear_MNIST.evaluate(X_test[indexes],y_test[indexes]);\n",
    "_, accurcy_MLP = MLP_MNIST.evaluate(X_test[indexes],y_test[indexes]);\n",
    "_, accurcy_CNN = CNN_MNIST.evaluate(X_test[indexes],y_test[indexes]);\n",
    "df_Linear.iloc[0] = ['-', '-', 0, accurcy_Linear, accurcy_MLP, accurcy_CNN]\n",
    "df_Linear\n",
    "plt.plot(df_Linear['avg_l2_norm'],df_Linear['Linear_MNIST_test_accuray'],'o--', color = 'C0')\n",
    "# plt.plot(df_Linear['avg_l2_norm'],df_Linear['MLP_MNIST_test_accuray'],'o--', color = 'C1')\n",
    "# plt.plot(df_Linear['avg_l2_norm'],df_Linear['CNN_MNIST_test_accuray'],'o--', color = 'C2')\n",
    "\n",
    "plt.xlabel('Average $l_2$ norm of the perturbation')\n",
    "plt.ylabel('Test accuracy')\n",
    "plt.ylim([-0.1, 1.1])\n",
    "plt.legend(['Linear (after AT)', 'Linear (before AT)'])\n",
    "# plt.legend(['Linear (after AT)', 'MLP (after AT)','CNN (after AT)', \\\n",
    "#             'Linear (before AT)', 'MLP (before AT)','CNN (before AT)'])\n",
    "plt.title('Effect of FGSM attack on MNIST\\nbefore and after adversarial training (AT)')#\\nTarget model: Linear')\n",
    "plt.savefig('Post training Effect of FGSM attack on MNIST for Linear model [l2 norm]_1', dpi=600)\n",
    "plt.show()"
   ]
  },
  {
   "cell_type": "code",
   "execution_count": 28,
   "metadata": {},
   "outputs": [
    {
     "name": "stdout",
     "output_type": "stream",
     "text": [
      "Test accuracy on unperturbed data\n",
      "32/32 [==============================] - 0s 1ms/step - loss: 0.2827 - accuracy: 0.9180\n",
      "32/32 [==============================] - 0s 1ms/step - loss: 0.1001 - accuracy: 0.9690\n",
      "32/32 [==============================] - 0s 3ms/step - loss: 0.0706 - accuracy: 0.9790\n",
      "Test accuracy on unperturbed data\n",
      "32/32 [==============================] - 0s 1ms/step - loss: 0.2827 - accuracy: 0.9180\n",
      "32/32 [==============================] - 0s 1ms/step - loss: 0.1001 - accuracy: 0.9690\n",
      "32/32 [==============================] - 0s 3ms/step - loss: 0.0706 - accuracy: 0.9790\n"
     ]
    },
    {
     "data": {
      "image/png": "[encoded data removed]",
      "text/plain": [
       "<Figure size 432x288 with 1 Axes>"
      ]
     },
     "metadata": {
      "needs_background": "light"
     },
     "output_type": "display_data"
    }
   ],
   "source": [
    "df_all = pd.read_csv('Post training Adversarial_Attacks_MNIST [FGSM Attack].csv')\n",
    "df_MLP = df_all[df_all['Target model']=='MLP']\n",
    "df_MLP = df_MLP.shift(1)\n",
    "print('Test accuracy on unperturbed data')\n",
    "_, accurcy_Linear = Linear_MNIST.evaluate(X_test[indexes],y_test[indexes]);\n",
    "_, accurcy_MLP = MLP_MNIST.evaluate(X_test[indexes],y_test[indexes]);\n",
    "_, accurcy_CNN = CNN_MNIST.evaluate(X_test[indexes],y_test[indexes]);\n",
    "df_MLP.iloc[0] = [0, '-', 0, accurcy_Linear, accurcy_MLP, accurcy_CNN]\n",
    "df_MLP\n",
    "plt.plot(df_MLP['eps value'],df_MLP['Linear_MNIST_test_accuray'],'o-')\n",
    "plt.plot(df_MLP['eps value'],df_MLP['MLP_MNIST_test_accuray'],'o-')\n",
    "plt.plot(df_MLP['eps value'],df_MLP['CNN_MNIST_test_accuray'],'o-')\n",
    "\n",
    "df_all = pd.read_csv('Adversarial_Attacks_MNIST [FGSM Attack].csv')\n",
    "df_MLP = df_all[df_all['Target model']=='MLP']\n",
    "df_MLP = df_MLP.shift(1)\n",
    "print('Test accuracy on unperturbed data')\n",
    "_, accurcy_Linear = Linear_MNIST.evaluate(X_test[indexes],y_test[indexes]);\n",
    "_, accurcy_MLP = MLP_MNIST.evaluate(X_test[indexes],y_test[indexes]);\n",
    "_, accurcy_CNN = CNN_MNIST.evaluate(X_test[indexes],y_test[indexes]);\n",
    "df_MLP.iloc[0] = [0, '-', 0, accurcy_Linear, accurcy_MLP, accurcy_CNN]\n",
    "df_MLP\n",
    "plt.plot(df_MLP['eps value'],df_MLP['Linear_MNIST_test_accuray'],'o--', color = 'C0')\n",
    "plt.plot(df_MLP['eps value'],df_MLP['MLP_MNIST_test_accuray'],'o--', color = 'C1')\n",
    "plt.plot(df_MLP['eps value'],df_MLP['CNN_MNIST_test_accuray'],'o--', color = 'C2')\n",
    "\n",
    "plt.xlabel('$\\epsilon$ value')\n",
    "plt.ylabel('Test accuracy')\n",
    "plt.ylim([-0.1, 1.1])\n",
    "# plt.legend(['MLP (after AT)', 'MLP (before AT)'])\n",
    "plt.legend(['Linear (after AT)', 'MLP (after AT)','CNN (after AT)', \\\n",
    "            'Linear (before AT)', 'MLP (before AT)','CNN (before AT)'])\n",
    "plt.title('Effect of FGSM attack on MNIST\\nbefore and after adversarial training (AT)\\nTarget model: MLP')\n",
    "plt.savefig('Post training Effect of FGSM attack on MNIST for MLP model [eps]', dpi=600)\n",
    "plt.show()"
   ]
  },
  {
   "cell_type": "code",
   "execution_count": 29,
   "metadata": {
    "id": "2MEsJ1GVqppK",
    "outputId": "4381a237-6cee-4417-8fd4-dae6e235da80"
   },
   "outputs": [
    {
     "name": "stdout",
     "output_type": "stream",
     "text": [
      "Test accuracy on unperturbed data\n",
      "32/32 [==============================] - 0s 1ms/step - loss: 0.2827 - accuracy: 0.9180\n",
      "32/32 [==============================] - 0s 1ms/step - loss: 0.1001 - accuracy: 0.9690\n",
      "32/32 [==============================] - 0s 3ms/step - loss: 0.0706 - accuracy: 0.9790\n",
      "Test accuracy on unperturbed data\n",
      "32/32 [==============================] - 0s 1ms/step - loss: 0.2827 - accuracy: 0.9180\n",
      "32/32 [==============================] - 0s 1ms/step - loss: 0.1001 - accuracy: 0.9690\n",
      "32/32 [==============================] - 0s 3ms/step - loss: 0.0706 - accuracy: 0.9790\n"
     ]
    },
    {
     "data": {
      "image/png": "[encoded data removed]",
      "text/plain": [
       "<Figure size 432x288 with 1 Axes>"
      ]
     },
     "metadata": {
      "needs_background": "light"
     },
     "output_type": "display_data"
    }
   ],
   "source": [
    "df_all = pd.read_csv('Post training Adversarial_Attacks_MNIST [FGSM Attack].csv')\n",
    "df_MLP = df_all[df_all['Target model']=='MLP']\n",
    "df_MLP = df_MLP.shift(1)\n",
    "print('Test accuracy on unperturbed data')\n",
    "_, accurcy_Linear = Linear_MNIST.evaluate(X_test[indexes],y_test[indexes]);\n",
    "_, accurcy_MLP = MLP_MNIST.evaluate(X_test[indexes],y_test[indexes]);\n",
    "_, accurcy_CNN = CNN_MNIST.evaluate(X_test[indexes],y_test[indexes]);\n",
    "df_MLP.iloc[0] = ['-', '-', 0, accurcy_Linear, accurcy_MLP, accurcy_CNN]\n",
    "df_MLP\n",
    "plt.plot(df_MLP['avg_l2_norm'],df_MLP['Linear_MNIST_test_accuray'],'o-')\n",
    "plt.plot(df_MLP['avg_l2_norm'],df_MLP['MLP_MNIST_test_accuray'],'o-')\n",
    "plt.plot(df_MLP['avg_l2_norm'],df_MLP['CNN_MNIST_test_accuray'],'o-')\n",
    "\n",
    "df_all = pd.read_csv('Adversarial_Attacks_MNIST [FGSM Attack].csv')\n",
    "df_MLP = df_all[df_all['Target model']=='MLP']\n",
    "df_MLP = df_MLP.shift(1)\n",
    "print('Test accuracy on unperturbed data')\n",
    "_, accurcy_Linear = Linear_MNIST.evaluate(X_test[indexes],y_test[indexes]);\n",
    "_, accurcy_MLP = MLP_MNIST.evaluate(X_test[indexes],y_test[indexes]);\n",
    "_, accurcy_CNN = CNN_MNIST.evaluate(X_test[indexes],y_test[indexes]);\n",
    "df_MLP.iloc[0] = ['-', '-', 0, accurcy_Linear, accurcy_MLP, accurcy_CNN]\n",
    "df_MLP\n",
    "plt.plot(df_MLP['avg_l2_norm'],df_MLP['Linear_MNIST_test_accuray'],'o--', color = 'C0')\n",
    "plt.plot(df_MLP['avg_l2_norm'],df_MLP['MLP_MNIST_test_accuray'],'o--', color = 'C1')\n",
    "plt.plot(df_MLP['avg_l2_norm'],df_MLP['CNN_MNIST_test_accuray'],'o--', color = 'C2')\n",
    "\n",
    "plt.xlabel('Average $l_2$ norm of the perturbation')\n",
    "plt.ylabel('Test accuracy')\n",
    "plt.ylim([-0.1, 1.1])\n",
    "# plt.legend(['MLP (after AT)', 'MLP (before AT)'])\n",
    "plt.legend(['Linear (after AT)', 'MLP (after AT)','CNN (after AT)', \\\n",
    "            'Linear (before AT)', 'MLP (before AT)','CNN (before AT)'])\n",
    "plt.title('Effect of FGSM attack on MNIST\\nbefore and after adversarial training (AT)\\nTarget model: MLP')\n",
    "plt.savefig('Post training Effect of FGSM attack on MNIST for MLP model [l2 norm]', dpi=600)\n",
    "plt.show()"
   ]
  },
  {
   "cell_type": "code",
   "execution_count": 44,
   "metadata": {},
   "outputs": [
    {
     "name": "stdout",
     "output_type": "stream",
     "text": [
      "Test accuracy on unperturbed data\n",
      "32/32 [==============================] - 0s 948us/step - loss: 0.2822 - accuracy: 0.9150\n",
      "32/32 [==============================] - 0s 965us/step - loss: 0.1001 - accuracy: 0.9690\n",
      "32/32 [==============================] - 0s 2ms/step - loss: 0.0706 - accuracy: 0.9790\n",
      "Test accuracy on unperturbed data\n",
      "32/32 [==============================] - 0s 829us/step - loss: 0.2822 - accuracy: 0.9150\n",
      "32/32 [==============================] - 0s 934us/step - loss: 0.1001 - accuracy: 0.9690\n",
      "32/32 [==============================] - 0s 2ms/step - loss: 0.0706 - accuracy: 0.9790\n"
     ]
    },
    {
     "data": {
      "image/png": "[encoded data removed]",
      "text/plain": [
       "<Figure size 432x288 with 1 Axes>"
      ]
     },
     "metadata": {
      "needs_background": "light"
     },
     "output_type": "display_data"
    }
   ],
   "source": [
    "df_all = pd.read_csv('Post training Adversarial_Attacks_MNIST [FGSM Attack].csv')\n",
    "df_CNN = df_all[df_all['Target model']=='CNN']\n",
    "df_CNN = df_CNN.shift(1)\n",
    "print('Test accuracy on unperturbed data')\n",
    "_, accurcy_Linear = Linear_MNIST.evaluate(X_test[indexes],y_test[indexes]);\n",
    "_, accurcy_MLP = MLP_MNIST.evaluate(X_test[indexes],y_test[indexes]);\n",
    "_, accurcy_CNN = CNN_MNIST.evaluate(X_test[indexes],y_test[indexes]);\n",
    "df_CNN.iloc[0] = [0, '-', 0, accurcy_Linear, accurcy_MLP, accurcy_CNN]\n",
    "df_CNN\n",
    "plt.plot(df_CNN['eps value'],df_CNN['Linear_MNIST_test_accuray'],'o-')\n",
    "plt.plot(df_CNN['eps value'],df_CNN['MLP_MNIST_test_accuray'],'o-')\n",
    "plt.plot(df_CNN['eps value'],df_CNN['CNN_MNIST_test_accuray'],'o-')\n",
    "\n",
    "df_all = pd.read_csv('Adversarial_Attacks_MNIST [FGSM Attack].csv')\n",
    "df_CNN = df_all[df_all['Target model']=='CNN']\n",
    "df_CNN = df_CNN.shift(1)\n",
    "print('Test accuracy on unperturbed data')\n",
    "_, accurcy_Linear = Linear_MNIST.evaluate(X_test[indexes],y_test[indexes]);\n",
    "_, accurcy_MLP = MLP_MNIST.evaluate(X_test[indexes],y_test[indexes]);\n",
    "_, accurcy_CNN = CNN_MNIST.evaluate(X_test[indexes],y_test[indexes]);\n",
    "df_CNN.iloc[0] = [0, '-', 0, accurcy_Linear, accurcy_MLP, accurcy_CNN]\n",
    "df_CNN\n",
    "plt.plot(df_CNN['eps value'],df_CNN['Linear_MNIST_test_accuray'],'o--', color = 'C0')\n",
    "plt.plot(df_CNN['eps value'],df_CNN['MLP_MNIST_test_accuray'],'o--', color = 'C1')\n",
    "plt.plot(df_CNN['eps value'],df_CNN['CNN_MNIST_test_accuray'],'o--', color = 'C2')\n",
    "\n",
    "plt.xlabel('$\\epsilon$ value')\n",
    "plt.ylabel('Test accuracy')\n",
    "plt.ylim([-0.1, 1.1])\n",
    "# plt.legend(['CNN (after AT)', 'CNN (before AT)'])\n",
    "plt.legend(['Linear (after AT)', 'MLP (after AT)','CNN (after AT)', \\\n",
    "            'Linear (before AT)', 'MLP (before AT)','CNN (before AT)'])\n",
    "plt.title('Effect of FGSM attack on MNIST\\nbefore and after adversarial training (AT)\\nTarget model: CNN')\n",
    "plt.savefig('Post training Effect of FGSM attack on MNIST for CNN model [eps]', dpi=600)\n",
    "plt.show()"
   ]
  },
  {
   "cell_type": "code",
   "execution_count": 30,
   "metadata": {
    "id": "oXwgXM_PqppM",
    "outputId": "414d663e-c907-494d-c046-c57e569ec4e5"
   },
   "outputs": [
    {
     "name": "stdout",
     "output_type": "stream",
     "text": [
      "Test accuracy on unperturbed data\n",
      "32/32 [==============================] - 0s 1ms/step - loss: 0.2827 - accuracy: 0.9180\n",
      "32/32 [==============================] - 0s 1ms/step - loss: 0.1001 - accuracy: 0.9690\n",
      "32/32 [==============================] - 0s 3ms/step - loss: 0.0706 - accuracy: 0.9790\n",
      "Test accuracy on unperturbed data\n",
      "32/32 [==============================] - 0s 1ms/step - loss: 0.2827 - accuracy: 0.9180\n",
      "32/32 [==============================] - 0s 1ms/step - loss: 0.1001 - accuracy: 0.9690\n",
      "32/32 [==============================] - 0s 3ms/step - loss: 0.0706 - accuracy: 0.9790\n"
     ]
    },
    {
     "data": {
      "image/png": "[encoded data removed]",
      "text/plain": [
       "<Figure size 432x288 with 1 Axes>"
      ]
     },
     "metadata": {
      "needs_background": "light"
     },
     "output_type": "display_data"
    }
   ],
   "source": [
    "df_all = pd.read_csv('Post training Adversarial_Attacks_MNIST [FGSM Attack].csv')\n",
    "df_CNN = df_all[df_all['Target model']=='CNN']\n",
    "df_CNN = df_CNN.shift(1)\n",
    "print('Test accuracy on unperturbed data')\n",
    "_, accurcy_Linear = Linear_MNIST.evaluate(X_test[indexes],y_test[indexes]);\n",
    "_, accurcy_MLP = MLP_MNIST.evaluate(X_test[indexes],y_test[indexes]);\n",
    "_, accurcy_CNN = CNN_MNIST.evaluate(X_test[indexes],y_test[indexes]);\n",
    "df_CNN.iloc[0] = ['-', '-', 0, accurcy_Linear, accurcy_MLP, accurcy_CNN]\n",
    "df_CNN\n",
    "plt.plot(df_CNN['avg_l2_norm'],df_CNN['Linear_MNIST_test_accuray'],'o-')\n",
    "plt.plot(df_CNN['avg_l2_norm'],df_CNN['MLP_MNIST_test_accuray'],'o-')\n",
    "plt.plot(df_CNN['avg_l2_norm'],df_CNN['CNN_MNIST_test_accuray'],'o-')\n",
    "\n",
    "df_all = pd.read_csv('Adversarial_Attacks_MNIST [FGSM Attack].csv')\n",
    "df_CNN = df_all[df_all['Target model']=='CNN']\n",
    "df_CNN = df_CNN.shift(1)\n",
    "print('Test accuracy on unperturbed data')\n",
    "_, accurcy_Linear = Linear_MNIST.evaluate(X_test[indexes],y_test[indexes]);\n",
    "_, accurcy_MLP = MLP_MNIST.evaluate(X_test[indexes],y_test[indexes]);\n",
    "_, accurcy_CNN = CNN_MNIST.evaluate(X_test[indexes],y_test[indexes]);\n",
    "df_CNN.iloc[0] = ['-', '-', 0, accurcy_Linear, accurcy_MLP, accurcy_CNN]\n",
    "df_CNN\n",
    "plt.plot(df_CNN['avg_l2_norm'],df_CNN['Linear_MNIST_test_accuray'],'o--', color = 'C0')\n",
    "plt.plot(df_CNN['avg_l2_norm'],df_CNN['MLP_MNIST_test_accuray'],'o--', color = 'C1')\n",
    "plt.plot(df_CNN['avg_l2_norm'],df_CNN['CNN_MNIST_test_accuray'],'o--', color = 'C2')\n",
    "\n",
    "plt.xlabel('Average $l_2$ norm of the perturbation')\n",
    "plt.ylabel('Test accuracy')\n",
    "plt.ylim([-0.1, 1.1])\n",
    "# plt.legend(['CNN (after AT)', 'CNN (before AT)'])\n",
    "plt.legend(['Linear (after AT)', 'MLP (after AT)','CNN (after AT)', \\\n",
    "            'Linear (before AT)', 'MLP (before AT)','CNN (before AT)'])\n",
    "plt.title('Effect of FGSM attack on MNIST\\nbefore and after adversarial training (AT)\\nTarget model: CNN')\n",
    "plt.savefig('Post training Effect of FGSM attack on MNIST for CNN model [l2 norm]', dpi=600)\n",
    "plt.show()"
   ]
  }
 ],
 "metadata": {
  "accelerator": "GPU",
  "colab": {
   "provenance": [
    {
     "file_id": "17t5wZdiu4KbtR9opaQcMZECSJAndropo",
     "timestamp": 1674347819943
    }
   ]
  },
  "gpuClass": "standard",
  "kernelspec": {
   "display_name": "Python 3",
   "language": "python",
   "name": "python3"
  },
  "language_info": {
   "codemirror_mode": {
    "name": "ipython",
    "version": 3
   },
   "file_extension": ".py",
   "mimetype": "text/x-python",
   "name": "python",
   "nbconvert_exporter": "python",
   "pygments_lexer": "ipython3",
   "version": "3.8.8"
  }
 },
 "nbformat": 4,
 "nbformat_minor": 1
}
