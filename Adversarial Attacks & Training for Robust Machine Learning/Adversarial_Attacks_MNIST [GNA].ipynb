{
 "cells": [
  {
   "cell_type": "markdown",
   "metadata": {
    "id": "aiSUzqR_k38-"
   },
   "source": [
    "**Import packages**"
   ]
  },
  {
   "cell_type": "code",
   "execution_count": 1,
   "metadata": {
    "colab": {
     "base_uri": "https://localhost:8080/"
    },
    "executionInfo": {
     "elapsed": 9543,
     "status": "ok",
     "timestamp": 1677532977283,
     "user": {
      "displayName": "Nazmul Hasan",
      "userId": "02122416256231585764"
     },
     "user_tz": 420
    },
    "id": "ad5wwLh9culg",
    "outputId": "3ebaf66d-f2d1-4e51-f56e-b079ac8bab6b"
   },
   "outputs": [
    {
     "name": "stdout",
     "output_type": "stream",
     "text": [
      "Requirement already satisfied: pytictoc in c:\\programdata\\anaconda3\\lib\\site-packages (1.5.2)\n"
     ]
    }
   ],
   "source": [
    "!pip install pytictoc"
   ]
  },
  {
   "cell_type": "code",
   "execution_count": 2,
   "metadata": {
    "id": "_z7kPblcHOH1"
   },
   "outputs": [],
   "source": [
    "import random\n",
    "import tensorflow as tf\n",
    "import pandas as pd\n",
    "from tensorflow import keras\n",
    "from keras import datasets, layers, models\n",
    "import matplotlib.pyplot as plt\n",
    "import numpy as np\n",
    "import warnings\n",
    "from pytictoc import TicToc\n",
    "warnings.filterwarnings( \"ignore\" )"
   ]
  },
  {
   "cell_type": "markdown",
   "metadata": {
    "id": "e7iTQt51HOH3"
   },
   "source": [
    "**Load the dataset**"
   ]
  },
  {
   "cell_type": "code",
   "execution_count": 3,
   "metadata": {
    "colab": {
     "base_uri": "https://localhost:8080/"
    },
    "executionInfo": {
     "elapsed": 3400,
     "status": "ok",
     "timestamp": 1677532986313,
     "user": {
      "displayName": "Nazmul Hasan",
      "userId": "02122416256231585764"
     },
     "user_tz": 420
    },
    "id": "rPRPSMuwHOH4",
    "outputId": "47f802d4-4668-4ba0-b30f-92a54544dee2"
   },
   "outputs": [
    {
     "data": {
      "text/plain": [
       "((60000, 28, 28), (60000,), (10000, 28, 28), (10000,))"
      ]
     },
     "execution_count": 3,
     "metadata": {},
     "output_type": "execute_result"
    }
   ],
   "source": [
    "(X_train, y_train), (X_test,y_test) = datasets.mnist.load_data()\n",
    "X_train.shape, y_train.shape, X_test.shape, y_test.shape"
   ]
  },
  {
   "cell_type": "markdown",
   "metadata": {
    "id": "nfOobSrX9lZp"
   },
   "source": [
    "**Create helper functions**"
   ]
  },
  {
   "cell_type": "code",
   "execution_count": 4,
   "metadata": {
    "id": "29WNxxm-9oF1"
   },
   "outputs": [],
   "source": [
    "def plot_sample_image(X, y):\n",
    "    plt.figure(figsize = (15,2))\n",
    "    plt.imshow(X)\n",
    "    classes = [\"0\",\"1\",\"2\",\"3\",\"4\",\"5\",\"6\",\"7\",\"8\",\"9\"]\n",
    "    plt.xlabel('Image Label: {}'.format(classes[y]))\n",
    "\n",
    "def classification_results(X_test,y_test,y_pred_classes):\n",
    "  from sklearn.metrics import confusion_matrix , classification_report\n",
    "  import seaborn as sn\n",
    "\n",
    "  cm = tf.math.confusion_matrix(labels=y_test,predictions=y_pred_classes)\n",
    "  plt.figure(figsize = (7,5))\n",
    "  sn.heatmap(cm, annot=True, fmt='d', cmap='Greens')\n",
    "  plt.xlabel('Predicted');\n",
    "  plt.ylabel('Truth');\n",
    "\n",
    "  print(\"Classification Report: \\n\", classification_report(y_test, y_pred_classes))\n",
    "\n",
    "def plot_fitting_history(history,filename,dpi):\n",
    "  epochs = len(history.history['loss'])\n",
    "  epoch_data = np.arange(1,epochs+1)\n",
    "  plt.plot(epoch_data,history.history['loss'],'o-')\n",
    "  plt.plot(epoch_data,history.history['val_loss'],'o--')\n",
    "  plt.ylabel('Loss')\n",
    "  plt.xlabel('Epoch sequence' )\n",
    "  plt.xticks(np.arange(0, epochs + 1, step=1))\n",
    "  plt.legend(['Training','Validation'])\n",
    "  plt.savefig(filename, dpi=dpi)\n",
    "  plt.show()"
   ]
  },
  {
   "cell_type": "markdown",
   "metadata": {
    "id": "ZUSUtJFkHOIB"
   },
   "source": [
    "**Plot sample image**"
   ]
  },
  {
   "cell_type": "code",
   "execution_count": 5,
   "metadata": {
    "colab": {
     "base_uri": "https://localhost:8080/",
     "height": 173
    },
    "executionInfo": {
     "elapsed": 20,
     "status": "ok",
     "timestamp": 1677532986314,
     "user": {
      "displayName": "Nazmul Hasan",
      "userId": "02122416256231585764"
     },
     "user_tz": 420
    },
    "id": "5SMVbqRZHOIC",
    "outputId": "15c4ef12-a6fa-4f38-8b2d-61de55bd8523",
    "scrolled": true
   },
   "outputs": [
    {
     "data": {
      "image/png": "[encoded data removed]",
      "text/plain": [
       "<Figure size 1080x144 with 1 Axes>"
      ]
     },
     "metadata": {
      "needs_background": "light"
     },
     "output_type": "display_data"
    }
   ],
   "source": [
    "index = np.random.randint(100)\n",
    "plot_sample_image(X_train[index], y_train[index])"
   ]
  },
  {
   "cell_type": "markdown",
   "metadata": {
    "id": "gL5ypIWkHOIE"
   },
   "source": [
    "**Normalize the input data**"
   ]
  },
  {
   "cell_type": "code",
   "execution_count": 6,
   "metadata": {
    "id": "PxewI0kIHOIF"
   },
   "outputs": [],
   "source": [
    "X_train = X_train / 255.0\n",
    "X_test = X_test / 255.0"
   ]
  },
  {
   "cell_type": "code",
   "execution_count": 7,
   "metadata": {
    "colab": {
     "base_uri": "https://localhost:8080/"
    },
    "executionInfo": {
     "elapsed": 32936,
     "status": "ok",
     "timestamp": 1677533019238,
     "user": {
      "displayName": "Nazmul Hasan",
      "userId": "02122416256231585764"
     },
     "user_tz": 420
    },
    "id": "Usv8lPonYXF0",
    "outputId": "9da6c2e5-ded7-4237-deac-7ff718b9f314"
   },
   "outputs": [],
   "source": [
    "# from google.colab import drive\n",
    "# drive.mount('/content/gdrive')\n",
    "# %cd /content/gdrive/MyDrive/ECE 696B/Project - ECE696B"
   ]
  },
  {
   "cell_type": "markdown",
   "metadata": {
    "id": "O7TkT_B0gx0r"
   },
   "source": [
    "**Load the saved models**"
   ]
  },
  {
   "cell_type": "code",
   "execution_count": 8,
   "metadata": {
    "id": "cacXKz9PZM7l"
   },
   "outputs": [
    {
     "name": "stdout",
     "output_type": "stream",
     "text": [
      "C:\\Users\\nh202\\My Drive (nh202@arizona.edu)\\ECE 696B\\Project - ECE696B\n"
     ]
    }
   ],
   "source": [
    "%cd C:\\Users\\nh202\\My Drive (nh202@arizona.edu)\\ECE 696B\\Project - ECE696B\n",
    "from keras.models import load_model\n",
    "Linear_MNIST = load_model('Linear_MNIST.h5')\n",
    "MLP_MNIST = load_model('MLP_MNIST.h5')\n",
    "CNN_MNIST = load_model('CNN_MNIST.h5')"
   ]
  },
  {
   "cell_type": "code",
   "execution_count": 9,
   "metadata": {},
   "outputs": [
    {
     "name": "stdout",
     "output_type": "stream",
     "text": [
      "C:\\Users\\nh202\\OneDrive - University of Arizona\\Adversairal Examples - ECE 696B\\GNA\n"
     ]
    }
   ],
   "source": [
    "%cd C:\\Users\\nh202\\OneDrive - University of Arizona\\Adversairal Examples - ECE 696B\\GNA"
   ]
  },
  {
   "cell_type": "markdown",
   "metadata": {
    "id": "G1qA-8V5Z-eg"
   },
   "source": [
    "# Gaussian noise attack (GNA)"
   ]
  },
  {
   "cell_type": "markdown",
   "metadata": {
    "id": "WSeqBDh650wP"
   },
   "source": [
    "**Evaluate test accuracy on unperturbed data**"
   ]
  },
  {
   "cell_type": "code",
   "execution_count": 10,
   "metadata": {
    "colab": {
     "base_uri": "https://localhost:8080/"
    },
    "executionInfo": {
     "elapsed": 9131,
     "status": "ok",
     "timestamp": 1677533039251,
     "user": {
      "displayName": "Nazmul Hasan",
      "userId": "02122416256231585764"
     },
     "user_tz": 420
    },
    "id": "cuhEnuwj4lU2",
    "outputId": "7e973fe2-a5dd-464c-bddf-8022c5e3d776"
   },
   "outputs": [
    {
     "name": "stdout",
     "output_type": "stream",
     "text": [
      "Test accuracy on unperturbed data\n",
      "32/32 [==============================] - 0s 1ms/step - loss: 0.2790 - accuracy: 0.9190\n",
      "32/32 [==============================] - 0s 2ms/step - loss: 0.0963 - accuracy: 0.9740\n",
      "32/32 [==============================] - 0s 3ms/step - loss: 0.0597 - accuracy: 0.9790\n",
      "\n"
     ]
    }
   ],
   "source": [
    "indexes = range(1000)\n",
    "print('Test accuracy on unperturbed data')\n",
    "Linear_MNIST.evaluate(X_test[indexes],y_test[indexes])\n",
    "MLP_MNIST.evaluate(X_test[indexes],y_test[indexes])\n",
    "CNN_MNIST.evaluate(X_test[indexes],y_test[indexes])\n",
    "print()"
   ]
  },
  {
   "cell_type": "markdown",
   "metadata": {
    "id": "Ldgfsee05ypw"
   },
   "source": [
    "**Evaluate test accuracy on perturbed data**"
   ]
  },
  {
   "cell_type": "code",
   "execution_count": 11,
   "metadata": {
    "colab": {
     "base_uri": "https://localhost:8080/"
    },
    "executionInfo": {
     "elapsed": 43371,
     "status": "ok",
     "timestamp": 1677533082599,
     "user": {
      "displayName": "Nazmul Hasan",
      "userId": "02122416256231585764"
     },
     "user_tz": 420
    },
    "id": "gd4HsaoU4mAn",
    "outputId": "9ab38bfd-5ee3-4b4b-c9fa-b04b66595852"
   },
   "outputs": [
    {
     "name": "stdout",
     "output_type": "stream",
     "text": [
      "Average l2 distance of the perturbation: 0.0\n",
      "\n",
      "Test accuracy on perturbed data\n",
      "32/32 [==============================] - 0s 1ms/step - loss: 0.2790 - accuracy: 0.9190\n",
      "32/32 [==============================] - 0s 2ms/step - loss: 0.0963 - accuracy: 0.9740\n",
      "32/32 [==============================] - 0s 3ms/step - loss: 0.0597 - accuracy: 0.9790\n",
      "\n",
      "\n",
      "Average l2 distance of the perturbation: 2.066130566536646\n",
      "\n",
      "Test accuracy on perturbed data\n",
      "32/32 [==============================] - 0s 1ms/step - loss: 0.4659 - accuracy: 0.8480\n",
      "32/32 [==============================] - 0s 1ms/step - loss: 0.2185 - accuracy: 0.9350\n",
      "32/32 [==============================] - 0s 3ms/step - loss: 0.0979 - accuracy: 0.9680\n",
      "\n",
      "\n",
      "Average l2 distance of the perturbation: 4.067851809879554\n",
      "\n",
      "Test accuracy on perturbed data\n",
      "32/32 [==============================] - 0s 1ms/step - loss: 1.3483 - accuracy: 0.5590\n",
      "32/32 [==============================] - 0s 1ms/step - loss: 1.0790 - accuracy: 0.7310\n",
      "32/32 [==============================] - 0s 3ms/step - loss: 0.6963 - accuracy: 0.8320\n",
      "\n",
      "\n",
      "Average l2 distance of the perturbation: 6.0360986091056335\n",
      "\n",
      "Test accuracy on perturbed data\n",
      "32/32 [==============================] - 0s 1ms/step - loss: 3.0831 - accuracy: 0.3650\n",
      "32/32 [==============================] - 0s 1ms/step - loss: 2.7598 - accuracy: 0.5480\n",
      "32/32 [==============================] - 0s 3ms/step - loss: 3.1227 - accuracy: 0.5550\n",
      "\n",
      "\n",
      "Average l2 distance of the perturbation: 7.875701370291492\n",
      "\n",
      "Test accuracy on perturbed data\n",
      "32/32 [==============================] - 0s 1ms/step - loss: 5.2817 - accuracy: 0.3020\n",
      "32/32 [==============================] - 0s 2ms/step - loss: 4.6521 - accuracy: 0.4430\n",
      "32/32 [==============================] - 0s 3ms/step - loss: 7.4161 - accuracy: 0.3860\n",
      "\n",
      "\n",
      "Average l2 distance of the perturbation: 9.512928544477452\n",
      "\n",
      "Test accuracy on perturbed data\n",
      "32/32 [==============================] - 0s 1ms/step - loss: 7.6013 - accuracy: 0.2530\n",
      "32/32 [==============================] - 0s 1ms/step - loss: 7.0551 - accuracy: 0.3550\n",
      "32/32 [==============================] - 0s 3ms/step - loss: 11.6514 - accuracy: 0.3020\n",
      "\n",
      "\n",
      "Average l2 distance of the perturbation: 10.834167591639122\n",
      "\n",
      "Test accuracy on perturbed data\n",
      "32/32 [==============================] - 0s 1ms/step - loss: 9.4983 - accuracy: 0.2100\n",
      "32/32 [==============================] - 0s 2ms/step - loss: 8.6054 - accuracy: 0.3160\n",
      "32/32 [==============================] - 0s 3ms/step - loss: 14.4904 - accuracy: 0.2570\n",
      "\n",
      "\n",
      "Average l2 distance of the perturbation: 11.929506341770034\n",
      "\n",
      "Test accuracy on perturbed data\n",
      "32/32 [==============================] - 0s 1ms/step - loss: 11.1736 - accuracy: 0.2060\n",
      "32/32 [==============================] - 0s 1ms/step - loss: 10.1666 - accuracy: 0.2690\n",
      "32/32 [==============================] - 0s 3ms/step - loss: 17.2374 - accuracy: 0.2460\n",
      "\n",
      "\n",
      "Average l2 distance of the perturbation: 12.802478547600437\n",
      "\n",
      "Test accuracy on perturbed data\n",
      "32/32 [==============================] - 0s 1ms/step - loss: 12.7052 - accuracy: 0.1980\n",
      "32/32 [==============================] - 0s 1ms/step - loss: 11.4347 - accuracy: 0.2300\n",
      "32/32 [==============================] - 0s 3ms/step - loss: 19.2598 - accuracy: 0.2140\n",
      "\n",
      "\n",
      "Average l2 distance of the perturbation: 13.493690626766867\n",
      "\n",
      "Test accuracy on perturbed data\n",
      "32/32 [==============================] - 0s 1ms/step - loss: 13.9433 - accuracy: 0.1840\n",
      "32/32 [==============================] - 0s 1ms/step - loss: 12.4841 - accuracy: 0.2110\n",
      "32/32 [==============================] - 0s 3ms/step - loss: 21.0284 - accuracy: 0.1900\n",
      "\n",
      "\n",
      "Average l2 distance of the perturbation: 14.064882254672023\n",
      "\n",
      "Test accuracy on perturbed data\n",
      "32/32 [==============================] - 0s 1ms/step - loss: 14.7759 - accuracy: 0.1660\n",
      "32/32 [==============================] - 0s 2ms/step - loss: 13.1570 - accuracy: 0.1950\n",
      "32/32 [==============================] - 0s 3ms/step - loss: 22.2811 - accuracy: 0.1960\n",
      "\n",
      "\n"
     ]
    }
   ],
   "source": [
    "sigmas = np.arange(0,1.1,0.1)\n",
    "avg_l2_norm_values = np.empty((0,1))\n",
    "stored_results = []\n",
    "for i in sigmas:\n",
    "  stored_results.append(i)\n",
    "  noise = np.random.normal(size=X_test[indexes].shape, loc=0.0, scale=i)\n",
    "  X_test_noisy = X_test[indexes] + noise\n",
    "  X_test_noisy = np.clip(X_test_noisy, 0, 1)\n",
    "  \n",
    "  filename = 'MNIST_X_test_noisy_GNA_sigma' + str(np.round(i,1)) + '.npy'\n",
    "  np.save(filename, X_test_noisy)\n",
    "  \n",
    "  avg_l2_norm = np.mean(np.sqrt(np.sum((X_test_noisy-X_test[indexes])**2, axis=(1,2))))\n",
    "  stored_results.append(avg_l2_norm)\n",
    "  print(\"Average l2 distance of the perturbation:\", avg_l2_norm)\n",
    "\n",
    "  print('\\nTest accuracy on perturbed data')\n",
    "  _,Linear_MNIST_test_accuray = Linear_MNIST.evaluate(X_test_noisy,y_test[indexes])\n",
    "  stored_results.append(Linear_MNIST_test_accuray)\n",
    "\n",
    "  _,MLP_MNIST_test_accuray = MLP_MNIST.evaluate(X_test_noisy,y_test[indexes])\n",
    "  stored_results.append(MLP_MNIST_test_accuray)\n",
    "\n",
    "  _,CNN_MNIST_test_accuray = CNN_MNIST.evaluate(X_test_noisy,y_test[indexes])\n",
    "  stored_results.append(CNN_MNIST_test_accuray)\n",
    "\n",
    "  print('\\n')"
   ]
  },
  {
   "cell_type": "code",
   "execution_count": 12,
   "metadata": {
    "colab": {
     "base_uri": "https://localhost:8080/",
     "height": 394
    },
    "executionInfo": {
     "elapsed": 382,
     "status": "ok",
     "timestamp": 1677533082969,
     "user": {
      "displayName": "Nazmul Hasan",
      "userId": "02122416256231585764"
     },
     "user_tz": 420
    },
    "id": "xrtKDqBMYcmc",
    "outputId": "42f693a4-42c4-40ca-c0f0-8c3cfb44d8bb"
   },
   "outputs": [
    {
     "data": {
      "text/html": [
       "<div>\n",
       "<style scoped>\n",
       "    .dataframe tbody tr th:only-of-type {\n",
       "        vertical-align: middle;\n",
       "    }\n",
       "\n",
       "    .dataframe tbody tr th {\n",
       "        vertical-align: top;\n",
       "    }\n",
       "\n",
       "    .dataframe thead th {\n",
       "        text-align: right;\n",
       "    }\n",
       "</style>\n",
       "<table border=\"1\" class=\"dataframe\">\n",
       "  <thead>\n",
       "    <tr style=\"text-align: right;\">\n",
       "      <th></th>\n",
       "      <th>sigma</th>\n",
       "      <th>avg_l2_norm</th>\n",
       "      <th>Linear_MNIST_test_accuray</th>\n",
       "      <th>MLP_MNIST_test_accuray</th>\n",
       "      <th>CNN_MNIST_test_accuray</th>\n",
       "    </tr>\n",
       "  </thead>\n",
       "  <tbody>\n",
       "    <tr>\n",
       "      <th>0</th>\n",
       "      <td>0.0</td>\n",
       "      <td>0.000000</td>\n",
       "      <td>0.919</td>\n",
       "      <td>0.974</td>\n",
       "      <td>0.979</td>\n",
       "    </tr>\n",
       "    <tr>\n",
       "      <th>1</th>\n",
       "      <td>0.1</td>\n",
       "      <td>2.066131</td>\n",
       "      <td>0.848</td>\n",
       "      <td>0.935</td>\n",
       "      <td>0.968</td>\n",
       "    </tr>\n",
       "    <tr>\n",
       "      <th>2</th>\n",
       "      <td>0.2</td>\n",
       "      <td>4.067852</td>\n",
       "      <td>0.559</td>\n",
       "      <td>0.731</td>\n",
       "      <td>0.832</td>\n",
       "    </tr>\n",
       "    <tr>\n",
       "      <th>3</th>\n",
       "      <td>0.3</td>\n",
       "      <td>6.036099</td>\n",
       "      <td>0.365</td>\n",
       "      <td>0.548</td>\n",
       "      <td>0.555</td>\n",
       "    </tr>\n",
       "    <tr>\n",
       "      <th>4</th>\n",
       "      <td>0.4</td>\n",
       "      <td>7.875701</td>\n",
       "      <td>0.302</td>\n",
       "      <td>0.443</td>\n",
       "      <td>0.386</td>\n",
       "    </tr>\n",
       "    <tr>\n",
       "      <th>5</th>\n",
       "      <td>0.5</td>\n",
       "      <td>9.512929</td>\n",
       "      <td>0.253</td>\n",
       "      <td>0.355</td>\n",
       "      <td>0.302</td>\n",
       "    </tr>\n",
       "    <tr>\n",
       "      <th>6</th>\n",
       "      <td>0.6</td>\n",
       "      <td>10.834168</td>\n",
       "      <td>0.210</td>\n",
       "      <td>0.316</td>\n",
       "      <td>0.257</td>\n",
       "    </tr>\n",
       "    <tr>\n",
       "      <th>7</th>\n",
       "      <td>0.7</td>\n",
       "      <td>11.929506</td>\n",
       "      <td>0.206</td>\n",
       "      <td>0.269</td>\n",
       "      <td>0.246</td>\n",
       "    </tr>\n",
       "    <tr>\n",
       "      <th>8</th>\n",
       "      <td>0.8</td>\n",
       "      <td>12.802479</td>\n",
       "      <td>0.198</td>\n",
       "      <td>0.230</td>\n",
       "      <td>0.214</td>\n",
       "    </tr>\n",
       "    <tr>\n",
       "      <th>9</th>\n",
       "      <td>0.9</td>\n",
       "      <td>13.493691</td>\n",
       "      <td>0.184</td>\n",
       "      <td>0.211</td>\n",
       "      <td>0.190</td>\n",
       "    </tr>\n",
       "    <tr>\n",
       "      <th>10</th>\n",
       "      <td>1.0</td>\n",
       "      <td>14.064882</td>\n",
       "      <td>0.166</td>\n",
       "      <td>0.195</td>\n",
       "      <td>0.196</td>\n",
       "    </tr>\n",
       "  </tbody>\n",
       "</table>\n",
       "</div>"
      ],
      "text/plain": [
       "    sigma  avg_l2_norm  Linear_MNIST_test_accuray  MLP_MNIST_test_accuray  \\\n",
       "0     0.0     0.000000                      0.919                   0.974   \n",
       "1     0.1     2.066131                      0.848                   0.935   \n",
       "2     0.2     4.067852                      0.559                   0.731   \n",
       "3     0.3     6.036099                      0.365                   0.548   \n",
       "4     0.4     7.875701                      0.302                   0.443   \n",
       "5     0.5     9.512929                      0.253                   0.355   \n",
       "6     0.6    10.834168                      0.210                   0.316   \n",
       "7     0.7    11.929506                      0.206                   0.269   \n",
       "8     0.8    12.802479                      0.198                   0.230   \n",
       "9     0.9    13.493691                      0.184                   0.211   \n",
       "10    1.0    14.064882                      0.166                   0.195   \n",
       "\n",
       "    CNN_MNIST_test_accuray  \n",
       "0                    0.979  \n",
       "1                    0.968  \n",
       "2                    0.832  \n",
       "3                    0.555  \n",
       "4                    0.386  \n",
       "5                    0.302  \n",
       "6                    0.257  \n",
       "7                    0.246  \n",
       "8                    0.214  \n",
       "9                    0.190  \n",
       "10                   0.196  "
      ]
     },
     "execution_count": 12,
     "metadata": {},
     "output_type": "execute_result"
    }
   ],
   "source": [
    "stored_results = np.array(stored_results)\n",
    "stored_results = stored_results.reshape(-1,5)\n",
    "df = pd.DataFrame(stored_results, columns = ['sigma','avg_l2_norm','Linear_MNIST_test_accuray',\\\n",
    "                                 'MLP_MNIST_test_accuray','CNN_MNIST_test_accuray'])\n",
    "df.to_csv('Adversarial_Attacks_MNIST [Gaussian Noise Attack].csv', index=False)\n",
    "df"
   ]
  },
  {
   "cell_type": "code",
   "execution_count": 13,
   "metadata": {
    "colab": {
     "base_uri": "https://localhost:8080/",
     "height": 299
    },
    "executionInfo": {
     "elapsed": 2061,
     "status": "ok",
     "timestamp": 1677533085027,
     "user": {
      "displayName": "Nazmul Hasan",
      "userId": "02122416256231585764"
     },
     "user_tz": 420
    },
    "id": "lsXBFL8vY-RL",
    "outputId": "b83af93a-3bff-4e49-e96c-f082abdc31f0"
   },
   "outputs": [
    {
     "data": {
      "image/png": "[encoded data removed]",
      "text/plain": [
       "<Figure size 432x288 with 1 Axes>"
      ]
     },
     "metadata": {
      "needs_background": "light"
     },
     "output_type": "display_data"
    }
   ],
   "source": [
    "df = pd.read_csv('Adversarial_Attacks_MNIST [Gaussian Noise Attack].csv')\n",
    "plt.plot(df['avg_l2_norm'],df['Linear_MNIST_test_accuray'],'o-')\n",
    "plt.plot(df['avg_l2_norm'],df['MLP_MNIST_test_accuray'],'o--')\n",
    "plt.plot(df['avg_l2_norm'],df['CNN_MNIST_test_accuray'],'o-.')\n",
    "plt.xlabel('Average $l_2$ norm of the perturbation')\n",
    "plt.ylabel('Test accuracy')\n",
    "plt.ylim([-0.1, 1.1])\n",
    "plt.legend(['Linear model', 'MLP model','CNN model'])\n",
    "plt.title('Effect of Gaussian noise attack on MNIST')\n",
    "plt.savefig('Effect of Gaussian noise attack on MNIST [l2 norm]', dpi=600)\n",
    "plt.show()"
   ]
  },
  {
   "cell_type": "code",
   "execution_count": 10,
   "metadata": {},
   "outputs": [
    {
     "data": {
      "image/png": "[encoded data removed]",
      "text/plain": [
       "<Figure size 432x288 with 1 Axes>"
      ]
     },
     "metadata": {
      "needs_background": "light"
     },
     "output_type": "display_data"
    }
   ],
   "source": [
    "df = pd.read_csv('Adversarial_Attacks_MNIST [Gaussian Noise Attack].csv')\n",
    "plt.plot(df['sigma'],df['Linear_MNIST_test_accuray'],'o-')\n",
    "plt.plot(df['sigma'],df['MLP_MNIST_test_accuray'],'o--')\n",
    "plt.plot(df['sigma'],df['CNN_MNIST_test_accuray'],'o-.')\n",
    "plt.xlabel('$\\sigma$-parameter value')\n",
    "plt.ylabel('Test accuracy')\n",
    "plt.ylim([-0.1, 1.1])\n",
    "plt.legend(['Linear model', 'MLP model','CNN model'])\n",
    "plt.title('Effect of Gaussian noise attack on MNIST')\n",
    "plt.savefig('Effect of Gaussian noise attack on MNIST [sigma]', dpi=600)\n",
    "plt.show()"
   ]
  },
  {
   "cell_type": "markdown",
   "metadata": {
    "id": "xrNR5r9buIAm"
   },
   "source": [
    "**Visualize the effect of the added noise**"
   ]
  },
  {
   "cell_type": "code",
   "execution_count": 15,
   "metadata": {
    "colab": {
     "base_uri": "https://localhost:8080/",
     "height": 751
    },
    "executionInfo": {
     "elapsed": 1561,
     "status": "ok",
     "timestamp": 1677533088834,
     "user": {
      "displayName": "Nazmul Hasan",
      "userId": "02122416256231585764"
     },
     "user_tz": 420
    },
    "id": "94rJRpNKr2G6",
    "outputId": "edda3c7d-4c45-4f7f-a77a-c19f4eae75bc"
   },
   "outputs": [
    {
     "data": {
      "image/png": "[encoded data removed]",
      "text/plain": [
       "<Figure size 1080x144 with 1 Axes>"
      ]
     },
     "metadata": {
      "needs_background": "light"
     },
     "output_type": "display_data"
    },
    {
     "name": "stdout",
     "output_type": "stream",
     "text": [
      "1/1 [==============================] - 0s 92ms/step\n"
     ]
    },
    {
     "data": {
      "image/png": "[encoded data removed]",
      "text/plain": [
       "<Figure size 1080x144 with 1 Axes>"
      ]
     },
     "metadata": {
      "needs_background": "light"
     },
     "output_type": "display_data"
    },
    {
     "name": "stdout",
     "output_type": "stream",
     "text": [
      "1/1 [==============================] - 0s 70ms/step\n"
     ]
    },
    {
     "data": {
      "image/png": "[encoded data removed]",
      "text/plain": [
       "<Figure size 1080x144 with 1 Axes>"
      ]
     },
     "metadata": {
      "needs_background": "light"
     },
     "output_type": "display_data"
    },
    {
     "name": "stdout",
     "output_type": "stream",
     "text": [
      "1/1 [==============================] - 0s 76ms/step\n"
     ]
    },
    {
     "data": {
      "image/png": "[encoded data removed]",
      "text/plain": [
       "<Figure size 1080x144 with 1 Axes>"
      ]
     },
     "metadata": {
      "needs_background": "light"
     },
     "output_type": "display_data"
    }
   ],
   "source": [
    "index = 100\n",
    "plot_sample_image(X_test[index], y_test[index])\n",
    "plt.title('Original Image'); plt.show()\n",
    "\n",
    "noise = np.random.normal(size=X_test.shape, loc=0.0, scale=0.3) # Tune scale here\n",
    "X_test_noisy = X_test + noise\n",
    "X_test_noisy = np.clip(X_test_noisy, 0, 1)\n",
    "\n",
    "plot_sample_image(X_test_noisy[index], np.argmax(Linear_MNIST.predict(X_test_noisy[index][np.newaxis, ...])))\n",
    "plt.title('Prediction by Linear model'); plt.show()\n",
    "plot_sample_image(X_test_noisy[index], np.argmax(MLP_MNIST.predict(X_test_noisy[index][np.newaxis, ...])))\n",
    "plt.title('Prediction by MLP model'); plt.show()\n",
    "plot_sample_image(X_test_noisy[index], np.argmax(CNN_MNIST.predict(X_test_noisy[index][np.newaxis, ...])))\n",
    "plt.title('Prediction by CNN model'); plt.show()"
   ]
  }
 ],
 "metadata": {
  "accelerator": "GPU",
  "colab": {
   "provenance": [
    {
     "file_id": "17t5wZdiu4KbtR9opaQcMZECSJAndropo",
     "timestamp": 1674347819943
    }
   ]
  },
  "gpuClass": "standard",
  "kernelspec": {
   "display_name": "Python 3",
   "language": "python",
   "name": "python3"
  },
  "language_info": {
   "codemirror_mode": {
    "name": "ipython",
    "version": 3
   },
   "file_extension": ".py",
   "mimetype": "text/x-python",
   "name": "python",
   "nbconvert_exporter": "python",
   "pygments_lexer": "ipython3",
   "version": "3.8.8"
  }
 },
 "nbformat": 4,
 "nbformat_minor": 1
}
