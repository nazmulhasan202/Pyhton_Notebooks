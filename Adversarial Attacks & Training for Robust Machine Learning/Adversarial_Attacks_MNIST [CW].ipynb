{
 "cells": [
  {
   "cell_type": "markdown",
   "metadata": {
    "id": "aiSUzqR_k38-"
   },
   "source": [
    "**Import packages**"
   ]
  },
  {
   "cell_type": "code",
   "execution_count": 1,
   "metadata": {
    "colab": {
     "base_uri": "https://localhost:8080/"
    },
    "executionInfo": {
     "elapsed": 11841,
     "status": "ok",
     "timestamp": 1678072118333,
     "user": {
      "displayName": "Nazmul Hasan",
      "userId": "02122416256231585764"
     },
     "user_tz": 420
    },
    "id": "ad5wwLh9culg",
    "outputId": "8c34c274-dbf9-48bb-9ce0-457ebf9a1b67"
   },
   "outputs": [
    {
     "name": "stdout",
     "output_type": "stream",
     "text": [
      "Requirement already satisfied: pytictoc in c:\\programdata\\anaconda3\\lib\\site-packages (1.5.2)\n"
     ]
    }
   ],
   "source": [
    "!pip install pytictoc"
   ]
  },
  {
   "cell_type": "code",
   "execution_count": 2,
   "metadata": {
    "executionInfo": {
     "elapsed": 7161,
     "status": "ok",
     "timestamp": 1678072125487,
     "user": {
      "displayName": "Nazmul Hasan",
      "userId": "02122416256231585764"
     },
     "user_tz": 420
    },
    "id": "_z7kPblcHOH1"
   },
   "outputs": [],
   "source": [
    "import random\n",
    "import tensorflow as tf\n",
    "from tensorflow import keras\n",
    "from keras import datasets, layers, models\n",
    "import matplotlib.pyplot as plt\n",
    "import pandas as pd\n",
    "import numpy as np\n",
    "import warnings\n",
    "from pytictoc import TicToc\n",
    "warnings.filterwarnings( \"ignore\" )"
   ]
  },
  {
   "cell_type": "markdown",
   "metadata": {
    "id": "e7iTQt51HOH3"
   },
   "source": [
    "**Load the dataset**"
   ]
  },
  {
   "cell_type": "code",
   "execution_count": 3,
   "metadata": {
    "colab": {
     "base_uri": "https://localhost:8080/"
    },
    "executionInfo": {
     "elapsed": 629,
     "status": "ok",
     "timestamp": 1678072126091,
     "user": {
      "displayName": "Nazmul Hasan",
      "userId": "02122416256231585764"
     },
     "user_tz": 420
    },
    "id": "rPRPSMuwHOH4",
    "outputId": "7c8af0d6-dad1-4dc4-932e-4f015b1fa212"
   },
   "outputs": [
    {
     "data": {
      "text/plain": [
       "((60000, 28, 28), (60000,), (10000, 28, 28), (10000,))"
      ]
     },
     "execution_count": 3,
     "metadata": {},
     "output_type": "execute_result"
    }
   ],
   "source": [
    "(X_train, y_train), (X_test,y_test) = datasets.mnist.load_data()\n",
    "X_train.shape, y_train.shape, X_test.shape, y_test.shape"
   ]
  },
  {
   "cell_type": "markdown",
   "metadata": {
    "id": "nfOobSrX9lZp"
   },
   "source": [
    "**Create helper functions**"
   ]
  },
  {
   "cell_type": "code",
   "execution_count": 4,
   "metadata": {
    "executionInfo": {
     "elapsed": 5,
     "status": "ok",
     "timestamp": 1678072126092,
     "user": {
      "displayName": "Nazmul Hasan",
      "userId": "02122416256231585764"
     },
     "user_tz": 420
    },
    "id": "29WNxxm-9oF1"
   },
   "outputs": [],
   "source": [
    "def plot_sample_image(X, y):\n",
    "    plt.figure(figsize = (15,2))\n",
    "    plt.imshow(X)\n",
    "    classes = [\"0\",\"1\",\"2\",\"3\",\"4\",\"5\",\"6\",\"7\",\"8\",\"9\"]\n",
    "    plt.xlabel('Image Label: {}'.format(classes[y]))\n",
    "\n",
    "def classification_results(X_test,y_test,y_pred_classes):\n",
    "  from sklearn.metrics import confusion_matrix , classification_report\n",
    "  import seaborn as sn\n",
    "\n",
    "  cm = tf.math.confusion_matrix(labels=y_test,predictions=y_pred_classes)\n",
    "  plt.figure(figsize = (7,5))\n",
    "  sn.heatmap(cm, annot=True, fmt='d', cmap='Greens')\n",
    "  plt.xlabel('Predicted');\n",
    "  plt.ylabel('Truth');\n",
    "\n",
    "  print(\"Classification Report: \\n\", classification_report(y_test, y_pred_classes))\n",
    "\n",
    "def plot_fitting_history(history,filename,dpi):\n",
    "  epochs = len(history.history['loss'])\n",
    "  epoch_data = np.arange(1,epochs+1)\n",
    "  plt.plot(epoch_data,history.history['loss'],'o-')\n",
    "  plt.plot(epoch_data,history.history['val_loss'],'o--')\n",
    "  plt.ylabel('Loss')\n",
    "  plt.xlabel('Epoch sequence' )\n",
    "  plt.xticks(np.arange(0, epochs + 1, step=1))\n",
    "  plt.legend(['Training','Validation'])\n",
    "  plt.savefig(filename, dpi=dpi)\n",
    "  plt.show()"
   ]
  },
  {
   "cell_type": "markdown",
   "metadata": {
    "id": "ZUSUtJFkHOIB"
   },
   "source": [
    "**Plot sample image**"
   ]
  },
  {
   "cell_type": "code",
   "execution_count": 5,
   "metadata": {
    "colab": {
     "base_uri": "https://localhost:8080/",
     "height": 173
    },
    "executionInfo": {
     "elapsed": 447,
     "status": "ok",
     "timestamp": 1678072126535,
     "user": {
      "displayName": "Nazmul Hasan",
      "userId": "02122416256231585764"
     },
     "user_tz": 420
    },
    "id": "5SMVbqRZHOIC",
    "outputId": "d9e6ffa1-e3ff-43f4-fe34-ae887d403379",
    "scrolled": true
   },
   "outputs": [
    {
     "data": {
      "image/png": "[encoded data removed]",
      "text/plain": [
       "<Figure size 1080x144 with 1 Axes>"
      ]
     },
     "metadata": {
      "needs_background": "light"
     },
     "output_type": "display_data"
    }
   ],
   "source": [
    "index = np.random.randint(100)\n",
    "plot_sample_image(X_train[index], y_train[index])"
   ]
  },
  {
   "cell_type": "markdown",
   "metadata": {
    "id": "gL5ypIWkHOIE"
   },
   "source": [
    "**Normalize the input data**"
   ]
  },
  {
   "cell_type": "code",
   "execution_count": 6,
   "metadata": {
    "executionInfo": {
     "elapsed": 176,
     "status": "ok",
     "timestamp": 1678072126703,
     "user": {
      "displayName": "Nazmul Hasan",
      "userId": "02122416256231585764"
     },
     "user_tz": 420
    },
    "id": "PxewI0kIHOIF"
   },
   "outputs": [],
   "source": [
    "X_train = X_train / 255.0\n",
    "X_test = X_test / 255.0"
   ]
  },
  {
   "cell_type": "code",
   "execution_count": 7,
   "metadata": {
    "colab": {
     "base_uri": "https://localhost:8080/"
    },
    "executionInfo": {
     "elapsed": 1855,
     "status": "ok",
     "timestamp": 1678072128556,
     "user": {
      "displayName": "Nazmul Hasan",
      "userId": "02122416256231585764"
     },
     "user_tz": 420
    },
    "id": "Usv8lPonYXF0",
    "outputId": "d30ebe28-191c-40d1-d13d-c00f8b3fb568"
   },
   "outputs": [],
   "source": [
    "# from google.colab import drive\n",
    "# drive.mount('/content/gdrive')\n",
    "# %cd /content/gdrive/MyDrive/ECE 696B/Project - ECE696B"
   ]
  },
  {
   "cell_type": "markdown",
   "metadata": {
    "id": "O7TkT_B0gx0r"
   },
   "source": [
    "**Load the models**"
   ]
  },
  {
   "cell_type": "code",
   "execution_count": 8,
   "metadata": {
    "executionInfo": {
     "elapsed": 655,
     "status": "ok",
     "timestamp": 1678072129203,
     "user": {
      "displayName": "Nazmul Hasan",
      "userId": "02122416256231585764"
     },
     "user_tz": 420
    },
    "id": "cacXKz9PZM7l"
   },
   "outputs": [
    {
     "name": "stdout",
     "output_type": "stream",
     "text": [
      "C:\\Users\\nh202\\My Drive (nh202@arizona.edu)\\ECE 696B\\Project - ECE696B\n"
     ]
    }
   ],
   "source": [
    "%cd C:\\Users\\nh202\\My Drive (nh202@arizona.edu)\\ECE 696B\\Project - ECE696B\n",
    "from keras.models import load_model\n",
    "Linear_MNIST = load_model('Linear_MNIST.h5')\n",
    "MLP_MNIST = load_model('MLP_MNIST.h5')\n",
    "CNN_MNIST = load_model('CNN_MNIST.h5')"
   ]
  },
  {
   "cell_type": "code",
   "execution_count": 9,
   "metadata": {
    "colab": {
     "base_uri": "https://localhost:8080/"
    },
    "executionInfo": {
     "elapsed": 10252,
     "status": "ok",
     "timestamp": 1678072139446,
     "user": {
      "displayName": "Nazmul Hasan",
      "userId": "02122416256231585764"
     },
     "user_tz": 420
    },
    "id": "NBS9HSr84Gvx",
    "outputId": "dcdd19e0-f983-4597-9869-a587e826fdbf"
   },
   "outputs": [
    {
     "name": "stdout",
     "output_type": "stream",
     "text": [
      "Test accuracy on unperturbed data\n",
      "32/32 [==============================] - 0s 868us/step - loss: 0.2790 - accuracy: 0.9190\n",
      "32/32 [==============================] - 0s 1ms/step - loss: 0.0963 - accuracy: 0.9740\n",
      "32/32 [==============================] - 0s 2ms/step - loss: 0.0597 - accuracy: 0.9790\n",
      "\n",
      "\n"
     ]
    }
   ],
   "source": [
    "indexes = range(1000)\n",
    "print('Test accuracy on unperturbed data')\n",
    "Linear_MNIST.evaluate(X_test[indexes],y_test[indexes])\n",
    "MLP_MNIST.evaluate(X_test[indexes],y_test[indexes])\n",
    "CNN_MNIST.evaluate(X_test[indexes],y_test[indexes])\n",
    "print('\\n')"
   ]
  },
  {
   "cell_type": "markdown",
   "metadata": {
    "id": "8N5BvZyij_I5"
   },
   "source": [
    "# Carlini-Wagner (CW) attack\n"
   ]
  },
  {
   "cell_type": "markdown",
   "metadata": {
    "id": "B8ZkL3fhzGaK"
   },
   "source": [
    "**Function for CW attack**"
   ]
  },
  {
   "cell_type": "code",
   "execution_count": 10,
   "metadata": {
    "id": "FFGdfoSAvvQ_"
   },
   "outputs": [],
   "source": [
    "def cw_attack_NH_version(model, x, c = 0.1, max_lr = 0.1, lr_factor = 100, max_iter = 100):\n",
    "  \n",
    "  x = tf.convert_to_tensor(x[np.newaxis, ...])  \n",
    "\n",
    "  y_pred_x = model(x)\n",
    "  pred_class_x = np.argmax(y_pred_x)\n",
    "  t = int(np.argsort(-y_pred_x, axis = 1).T[1])\n",
    "  ratio = y_pred_x[0][pred_class_x]/y_pred_x[0][t]  \n",
    "\n",
    "  delta = x * 0.001\n",
    "\n",
    "  lr = max(max_lr,float(ratio/lr_factor));\n",
    "\n",
    "  success_flag = 0;\n",
    "  for j in range(max_iter):\n",
    "    for i in range(10):\n",
    "      with tf.GradientTape() as tape:\n",
    "        tape.watch(delta)\n",
    "        x_adv = x + delta           \n",
    "        y_pred = model(x_adv)\n",
    "        l2_norm = np.sqrt(np.sum((delta)**2, axis=(0,1,2)))\n",
    "        F_t = y_pred[0][t]\n",
    "        f_delta = l2_norm + c*max(0,0.5-F_t)        \n",
    "\n",
    "        if np.argmax(y_pred) == t:\n",
    "          break\n",
    "\n",
    "      try:  grads = tape.gradient(f_delta, delta)\n",
    "      except: continue\n",
    "\n",
    "      delta = delta - lr * grads\n",
    "          \n",
    "    x_adv = np.clip(x_adv, 0, 1)    \n",
    "    y_pred = model(x_adv)\n",
    "    ratio = y_pred_x[0][np.argmax(y_pred_x)]/y_pred[0][t]\n",
    "    delta = x_adv - x\n",
    "    l2_norm = np.sqrt(np.sum((delta)**2, axis=(0,1,2)))\n",
    "  \n",
    "    if np.argmax(y_pred) == t:\n",
    "      success_flag = 1\n",
    "      break\n",
    "    lr = max(max_lr,float(ratio/lr_factor));\n",
    "\n",
    "  return success_flag, x_adv, l2_norm"
   ]
  },
  {
   "cell_type": "code",
   "execution_count": 11,
   "metadata": {
    "id": "TJwcbXWYW9v4"
   },
   "outputs": [],
   "source": [
    "c = 0.1; lr_factor= 100;  max_lr = 0.1; max_iter = 100"
   ]
  },
  {
   "cell_type": "markdown",
   "metadata": {
    "id": "S3UOuGGPAerR"
   },
   "source": [
    "# Function for visualizing the effect of CW-attack"
   ]
  },
  {
   "cell_type": "code",
   "execution_count": 110,
   "metadata": {
    "id": "m2t-g4495V3H"
   },
   "outputs": [],
   "source": [
    "def image_results(model,x,x_adv,l2_norm,success_flag):\n",
    "  y_pred_x = model(x.reshape(-1,28,28))\n",
    "  pred_class_x = np.argmax(y_pred_x)\n",
    "  t = int(np.argsort(-y_pred_x, axis = 1).T[1])\n",
    "  plt.figure(figsize = (15,2))\n",
    "  plt.imshow(x); plt.colorbar(); plt.title('Original Image');plt.show()\n",
    "  print(f'Prediction for original image: {pred_class_x} ({y_pred_x[0][pred_class_x]*100:.2f}%)')\n",
    "  print(f'Target class: {t}')\n",
    "  plt.figure(figsize = (15,2))\n",
    "  plt.imshow(x_adv[0]); plt.colorbar(); plt.title('Perturbed Image');plt.show()\n",
    "  y_pred_x_adv = model(x_adv)\n",
    "  pred_class_x_adv = np.argmax(y_pred_x_adv)\n",
    "  print(f'Prediction for perturbed image: {pred_class_x_adv}  ({y_pred_x_adv[0][pred_class_x_adv]*100:.2f}%)')\n",
    "  print(f'Probability for originally predicted class: {y_pred_x_adv[0][pred_class_x]*100:.2f}%')\n",
    "  print(f'Values of l2_norm of perturbation: {l2_norm}')\n",
    "  print(f'Success of attack: {success_flag}')\n",
    "  print('\\n')"
   ]
  },
  {
   "cell_type": "markdown",
   "metadata": {
    "id": "55McNu_-TFy2"
   },
   "source": [
    "# Visualize the effect of the CW attack"
   ]
  },
  {
   "cell_type": "code",
   "execution_count": 112,
   "metadata": {
    "colab": {
     "base_uri": "https://localhost:8080/",
     "height": 707
    },
    "executionInfo": {
     "elapsed": 3155,
     "status": "ok",
     "timestamp": 1678065533458,
     "user": {
      "displayName": "Nazmul Hasan",
      "userId": "02122416256231585764"
     },
     "user_tz": 420
    },
    "id": "BrdvtcDKC6h0",
    "outputId": "003a08ac-3b95-43dd-e9ba-88d8ff07d8d8"
   },
   "outputs": [
    {
     "name": "stdout",
     "output_type": "stream",
     "text": [
      "Index: 601\n",
      "True class: 8\n"
     ]
    },
    {
     "data": {
      "image/png": "[encoded data removed]",
      "text/plain": [
       "<Figure size 1080x144 with 2 Axes>"
      ]
     },
     "metadata": {
      "needs_background": "light"
     },
     "output_type": "display_data"
    },
    {
     "name": "stdout",
     "output_type": "stream",
     "text": [
      "Prediction for original image: 8 (96.75%)\n",
      "Target class: 2\n"
     ]
    },
    {
     "data": {
      "image/png": "[encoded data removed]",
      "text/plain": [
       "<Figure size 1080x144 with 2 Axes>"
      ]
     },
     "metadata": {
      "needs_background": "light"
     },
     "output_type": "display_data"
    },
    {
     "name": "stdout",
     "output_type": "stream",
     "text": [
      "Prediction for perturbed image: 2  (53.64%)\n",
      "Probability for originally predicted class: 44.40%\n",
      "Values of l2_norm of perturbation: 0.3853082920262405\n",
      "Success of attack: 1\n",
      "\n",
      "\n"
     ]
    }
   ],
   "source": [
    "model = Linear_MNIST; c = 0.1\n",
    "for idx in [np.random.randint(10000)]:\n",
    "  print(f'Index: {idx}') \n",
    "  x = X_test[idx];\n",
    "  y_true = y_test[idx];\n",
    "  print(f'True class: {y_true}')\n",
    "  success_flag, x_adv, l2_norm = cw_attack_NH_version(model, x, c = c, lr_factor= lr_factor, \\\n",
    "                                                      max_lr = max_lr, max_iter = max_iter)\n",
    "  image_results(model,x,x_adv,l2_norm,success_flag)"
   ]
  },
  {
   "cell_type": "markdown",
   "metadata": {
    "id": "waIXH5tS_K5P"
   },
   "source": [
    "# Function for preparing CW-advarsarial examples"
   ]
  },
  {
   "cell_type": "code",
   "execution_count": 24,
   "metadata": {
    "id": "jGZGl-f000hX"
   },
   "outputs": [],
   "source": [
    "def CW_advarsarial_examples(model, X_test, c, max_lr, lr_factor, max_iter, starting_point, num_samples):\n",
    "  \n",
    "  # Create an empty numpy array to store the adversarial examples\n",
    "  x_adv_stack = np.empty((0, 28, 28))\n",
    "\n",
    "  # Loop over the test data to generate the adversarial examples and stack them in the numpy array\n",
    "  for i in np.arange(starting_point,starting_point+num_samples):\n",
    "      if i == starting_point: print(f'Starting from {i}... ')\n",
    "      if (i+1)%100 == 0:\n",
    "        print(f'First {i+1} completed')\n",
    "      x = X_test[i]\n",
    "\n",
    "      # Generate the adversarial example for the current test image\n",
    "      success_flag, x_adv, l2_norm = cw_attack_NH_version(model, x, c = c, lr_factor= lr_factor, \\\n",
    "                                                          max_lr = max_lr, max_iter = max_iter)\n",
    "      \n",
    "      # Stack the adversarial example in the numpy array\n",
    "      x_adv_stack = np.vstack((x_adv_stack, x_adv))\n",
    "\n",
    "  return x_adv_stack"
   ]
  },
  {
   "cell_type": "code",
   "execution_count": 25,
   "metadata": {
    "id": "VJjR-FkV_Zzd"
   },
   "outputs": [],
   "source": [
    "c = 0.1; num_samples = 1000"
   ]
  },
  {
   "cell_type": "code",
   "execution_count": 13,
   "metadata": {},
   "outputs": [
    {
     "name": "stdout",
     "output_type": "stream",
     "text": [
      "C:\\Users\\nh202\\OneDrive - University of Arizona\\Adversairal Examples - ECE 696B\\CW\n"
     ]
    }
   ],
   "source": [
    "%cd C:\\Users\\nh202\\OneDrive - University of Arizona\\Adversairal Examples - ECE 696B\\CW"
   ]
  },
  {
   "cell_type": "markdown",
   "metadata": {
    "id": "mELAztcrBvd7"
   },
   "source": [
    "# Prepare batches of adversarial examples of Linear model"
   ]
  },
  {
   "cell_type": "markdown",
   "metadata": {},
   "source": [
    "**Batches of 1000 for different $c$ values**"
   ]
  },
  {
   "cell_type": "code",
   "execution_count": 41,
   "metadata": {},
   "outputs": [],
   "source": [
    "model = Linear_MNIST\n",
    "for c in np.arange(0.6,1.1,0.1):\n",
    "    starting_point = 0;\n",
    "    for lot in [0]:\n",
    "      x_adv_stack_Linear_Lot = CW_advarsarial_examples(model, X_test, c = c, lr_factor= lr_factor, \\\n",
    "                                                                  max_lr = max_lr, max_iter = max_iter, \\\n",
    "                                                 starting_point = starting_point, num_samples = num_samples)\n",
    "      filename = 'MNIST_x_adv_stack_Linear_Lot' + str(lot+1) + '_c' + str(np.round(c,1)) + '.npy'\n",
    "      np.save(filename, x_adv_stack_Linear_Lot)\n",
    "      starting_point = starting_point + 1000"
   ]
  },
  {
   "cell_type": "code",
   "execution_count": 30,
   "metadata": {},
   "outputs": [
    {
     "name": "stdout",
     "output_type": "stream",
     "text": [
      "32/32 [==============================] - 0s 836us/step - loss: 1.6618 - accuracy: 0.0520\n",
      "32/32 [==============================] - 0s 997us/step - loss: 0.3119 - accuracy: 0.9400\n",
      "32/32 [==============================] - 0s 2ms/step - loss: 0.0705 - accuracy: 0.9760\n",
      "32/32 [==============================] - 0s 836us/step - loss: 8.5773 - accuracy: 0.0520\n",
      "32/32 [==============================] - 0s 965us/step - loss: 6.8665 - accuracy: 0.8040\n",
      "32/32 [==============================] - 0s 2ms/step - loss: 2.3002 - accuracy: 0.8950\n",
      "32/32 [==============================] - 0s 901us/step - loss: 3.0258 - accuracy: 0.0520\n",
      "32/32 [==============================] - 0s 5ms/step - loss: 1.5700 - accuracy: 0.9060\n",
      "32/32 [==============================] - 0s 2ms/step - loss: 0.6873 - accuracy: 0.9670\n",
      "32/32 [==============================] - 0s 963us/step - loss: 11.1809 - accuracy: 0.0520\n",
      "32/32 [==============================] - 0s 1ms/step - loss: 9.0395 - accuracy: 0.7110\n",
      "32/32 [==============================] - 0s 3ms/step - loss: 2.1536 - accuracy: 0.8590\n",
      "32/32 [==============================] - 0s 836us/step - loss: 3.5813 - accuracy: 0.0520\n",
      "32/32 [==============================] - 0s 997us/step - loss: 1.9934 - accuracy: 0.8970\n",
      "32/32 [==============================] - 0s 2ms/step - loss: 0.8447 - accuracy: 0.9510\n",
      "32/32 [==============================] - 0s 804us/step - loss: 5.7309 - accuracy: 0.0520\n",
      "32/32 [==============================] - 0s 1ms/step - loss: 2.6004 - accuracy: 0.6910\n",
      "32/32 [==============================] - 0s 3ms/step - loss: 0.5709 - accuracy: 0.9640\n",
      "32/32 [==============================] - 0s 869us/step - loss: 12.2968 - accuracy: 0.0520\n",
      "32/32 [==============================] - 0s 1ms/step - loss: 8.8703 - accuracy: 0.5720\n",
      "32/32 [==============================] - 0s 2ms/step - loss: 1.4059 - accuracy: 0.8730\n",
      "32/32 [==============================] - 0s 772us/step - loss: 18.7310 - accuracy: 0.0520\n",
      "32/32 [==============================] - 0s 964us/step - loss: 15.7821 - accuracy: 0.6870\n",
      "32/32 [==============================] - 0s 3ms/step - loss: 5.4392 - accuracy: 0.7780\n",
      "32/32 [==============================] - 0s 804us/step - loss: 14.9543 - accuracy: 0.0520\n",
      "32/32 [==============================] - 0s 933us/step - loss: 11.9286 - accuracy: 0.7760\n",
      "32/32 [==============================] - 0s 2ms/step - loss: 5.2090 - accuracy: 0.8510\n",
      "32/32 [==============================] - 0s 836us/step - loss: 7.0357 - accuracy: 0.0520\n",
      "32/32 [==============================] - 0s 997us/step - loss: 5.2666 - accuracy: 0.8500\n",
      "32/32 [==============================] - 0s 2ms/step - loss: 2.5622 - accuracy: 0.9210\n"
     ]
    },
    {
     "data": {
      "text/html": [
       "<div>\n",
       "<style scoped>\n",
       "    .dataframe tbody tr th:only-of-type {\n",
       "        vertical-align: middle;\n",
       "    }\n",
       "\n",
       "    .dataframe tbody tr th {\n",
       "        vertical-align: top;\n",
       "    }\n",
       "\n",
       "    .dataframe thead th {\n",
       "        text-align: right;\n",
       "    }\n",
       "</style>\n",
       "<table border=\"1\" class=\"dataframe\">\n",
       "  <thead>\n",
       "    <tr style=\"text-align: right;\">\n",
       "      <th></th>\n",
       "      <th>c value</th>\n",
       "      <th>Target model</th>\n",
       "      <th>avg_l2_norm</th>\n",
       "      <th>Linear_MNIST_test_accuray</th>\n",
       "      <th>MLP_MNIST_test_accuray</th>\n",
       "      <th>CNN_MNIST_test_accuray</th>\n",
       "    </tr>\n",
       "  </thead>\n",
       "  <tbody>\n",
       "    <tr>\n",
       "      <th>0</th>\n",
       "      <td>0.1</td>\n",
       "      <td>Linear</td>\n",
       "      <td>0.5469378171081339</td>\n",
       "      <td>0.052000001072883606</td>\n",
       "      <td>0.9399999976158142</td>\n",
       "      <td>0.9760000109672546</td>\n",
       "    </tr>\n",
       "    <tr>\n",
       "      <th>1</th>\n",
       "      <td>0.2</td>\n",
       "      <td>Linear</td>\n",
       "      <td>1.3477616188791142</td>\n",
       "      <td>0.052000001072883606</td>\n",
       "      <td>0.8040000200271606</td>\n",
       "      <td>0.8949999809265137</td>\n",
       "    </tr>\n",
       "    <tr>\n",
       "      <th>2</th>\n",
       "      <td>0.3</td>\n",
       "      <td>Linear</td>\n",
       "      <td>0.7676339060092299</td>\n",
       "      <td>0.052000001072883606</td>\n",
       "      <td>0.906000018119812</td>\n",
       "      <td>0.9670000076293945</td>\n",
       "    </tr>\n",
       "    <tr>\n",
       "      <th>3</th>\n",
       "      <td>0.4</td>\n",
       "      <td>Linear</td>\n",
       "      <td>1.5777626441059336</td>\n",
       "      <td>0.052000001072883606</td>\n",
       "      <td>0.7110000252723694</td>\n",
       "      <td>0.859000027179718</td>\n",
       "    </tr>\n",
       "    <tr>\n",
       "      <th>4</th>\n",
       "      <td>0.5</td>\n",
       "      <td>Linear</td>\n",
       "      <td>0.8413939948607065</td>\n",
       "      <td>0.052000001072883606</td>\n",
       "      <td>0.8970000147819519</td>\n",
       "      <td>0.9509999752044678</td>\n",
       "    </tr>\n",
       "    <tr>\n",
       "      <th>5</th>\n",
       "      <td>0.6</td>\n",
       "      <td>Linear</td>\n",
       "      <td>1.0328339170494933</td>\n",
       "      <td>0.052000001072883606</td>\n",
       "      <td>0.6909999847412109</td>\n",
       "      <td>0.9639999866485596</td>\n",
       "    </tr>\n",
       "    <tr>\n",
       "      <th>6</th>\n",
       "      <td>0.7</td>\n",
       "      <td>Linear</td>\n",
       "      <td>1.7102628816356769</td>\n",
       "      <td>0.052000001072883606</td>\n",
       "      <td>0.5720000267028809</td>\n",
       "      <td>0.8730000257492065</td>\n",
       "    </tr>\n",
       "    <tr>\n",
       "      <th>7</th>\n",
       "      <td>0.8</td>\n",
       "      <td>Linear</td>\n",
       "      <td>2.4701718687395715</td>\n",
       "      <td>0.052000001072883606</td>\n",
       "      <td>0.6869999766349792</td>\n",
       "      <td>0.777999997138977</td>\n",
       "    </tr>\n",
       "    <tr>\n",
       "      <th>8</th>\n",
       "      <td>0.9</td>\n",
       "      <td>Linear</td>\n",
       "      <td>2.275024481227527</td>\n",
       "      <td>0.052000001072883606</td>\n",
       "      <td>0.7760000228881836</td>\n",
       "      <td>0.8510000109672546</td>\n",
       "    </tr>\n",
       "    <tr>\n",
       "      <th>9</th>\n",
       "      <td>1.0</td>\n",
       "      <td>Linear</td>\n",
       "      <td>1.3604082081423146</td>\n",
       "      <td>0.052000001072883606</td>\n",
       "      <td>0.8500000238418579</td>\n",
       "      <td>0.9210000038146973</td>\n",
       "    </tr>\n",
       "  </tbody>\n",
       "</table>\n",
       "</div>"
      ],
      "text/plain": [
       "  c value Target model         avg_l2_norm Linear_MNIST_test_accuray  \\\n",
       "0     0.1       Linear  0.5469378171081339      0.052000001072883606   \n",
       "1     0.2       Linear  1.3477616188791142      0.052000001072883606   \n",
       "2     0.3       Linear  0.7676339060092299      0.052000001072883606   \n",
       "3     0.4       Linear  1.5777626441059336      0.052000001072883606   \n",
       "4     0.5       Linear  0.8413939948607065      0.052000001072883606   \n",
       "5     0.6       Linear  1.0328339170494933      0.052000001072883606   \n",
       "6     0.7       Linear  1.7102628816356769      0.052000001072883606   \n",
       "7     0.8       Linear  2.4701718687395715      0.052000001072883606   \n",
       "8     0.9       Linear   2.275024481227527      0.052000001072883606   \n",
       "9     1.0       Linear  1.3604082081423146      0.052000001072883606   \n",
       "\n",
       "  MLP_MNIST_test_accuray CNN_MNIST_test_accuray  \n",
       "0     0.9399999976158142     0.9760000109672546  \n",
       "1     0.8040000200271606     0.8949999809265137  \n",
       "2      0.906000018119812     0.9670000076293945  \n",
       "3     0.7110000252723694      0.859000027179718  \n",
       "4     0.8970000147819519     0.9509999752044678  \n",
       "5     0.6909999847412109     0.9639999866485596  \n",
       "6     0.5720000267028809     0.8730000257492065  \n",
       "7     0.6869999766349792      0.777999997138977  \n",
       "8     0.7760000228881836     0.8510000109672546  \n",
       "9     0.8500000238418579     0.9210000038146973  "
      ]
     },
     "execution_count": 30,
     "metadata": {},
     "output_type": "execute_result"
    }
   ],
   "source": [
    "stored_results = []\n",
    "lot = 0\n",
    "for c in np.arange(0.1,1.1,0.1):\n",
    "    filename = 'MNIST_x_adv_stack_Linear_Lot' + str(lot+1) + '_c' + str(np.round(c,1)) + '.npy'\n",
    "    x_adv_stack = np.load(filename)\n",
    "    \n",
    "    stored_results.append(np.round(c,1))\n",
    "    stored_results.append('Linear')\n",
    "    \n",
    "    avg_l2_norm = np.mean(np.sqrt(np.sum((x_adv_stack-X_test[:len(x_adv_stack)])**2, axis=(1,2))))    \n",
    "    \n",
    "    if np.isnan(avg_l2_norm):\n",
    "        # print(avg_l2_norm)\n",
    "        delta = x_adv_stack-X_test[:len(x_adv_stack)]\n",
    "        indices = np.argwhere(np.isnan(delta))\n",
    "        # print(indices)\n",
    "        delta[indices] = 1\n",
    "        x_adv_stack = X_test[:len(x_adv_stack)] + delta\n",
    "        x_adv_stack = np.clip(x_adv_stack, 0, 1)\n",
    "        delta = x_adv_stack-X_test[:len(x_adv_stack)]\n",
    "        avg_l2_norm = np.mean(np.sqrt(np.sum((x_adv_stack-X_test[:len(x_adv_stack)])**2, axis=(1,2))))\n",
    "\n",
    "    \n",
    "    # print(avg_l2_norm)\n",
    "    stored_results.append(avg_l2_norm)\n",
    "    \n",
    "    _, accuracy = Linear_MNIST.evaluate(x_adv_stack,y_test[:len(x_adv_stack)])\n",
    "    stored_results.append(accuracy)\n",
    "    _, accuracy = MLP_MNIST.evaluate(x_adv_stack,y_test[:len(x_adv_stack)])\n",
    "    stored_results.append(accuracy)\n",
    "    _, accuracy = CNN_MNIST.evaluate(x_adv_stack,y_test[:len(x_adv_stack)])\n",
    "    stored_results.append(accuracy)\n",
    "    \n",
    "stored_results = np.array(stored_results)\n",
    "stored_results = stored_results.reshape(-1,6)\n",
    "df = pd.DataFrame(stored_results, columns = ['c value','Target model','avg_l2_norm','Linear_MNIST_test_accuray',\\\n",
    "                                              'MLP_MNIST_test_accuray','CNN_MNIST_test_accuray'])\n",
    "filename = 'Adversarial_Attacks_MNIST for Linear model [CW Attack].csv'\n",
    "df.to_csv(filename, index=False)\n",
    "df"
   ]
  },
  {
   "cell_type": "code",
   "execution_count": 31,
   "metadata": {},
   "outputs": [
    {
     "name": "stdout",
     "output_type": "stream",
     "text": [
      "Test accuracy on unperturbed data\n",
      "32/32 [==============================] - 0s 772us/step - loss: 0.2790 - accuracy: 0.9190\n",
      "32/32 [==============================] - 0s 1ms/step - loss: 0.0963 - accuracy: 0.9740\n",
      "32/32 [==============================] - 0s 2ms/step - loss: 0.0597 - accuracy: 0.9790\n"
     ]
    },
    {
     "data": {
      "image/png": "[encoded data removed]",
      "text/plain": [
       "<Figure size 432x288 with 1 Axes>"
      ]
     },
     "metadata": {
      "needs_background": "light"
     },
     "output_type": "display_data"
    }
   ],
   "source": [
    "df = pd.read_csv('Adversarial_Attacks_MNIST for Linear model [CW Attack].csv')\n",
    "print('Test accuracy on unperturbed data')\n",
    "_, accurcy_Linear = Linear_MNIST.evaluate(X_test[indexes],y_test[indexes]);\n",
    "_, accurcy_MLP = MLP_MNIST.evaluate(X_test[indexes],y_test[indexes]);\n",
    "_, accurcy_CNN = CNN_MNIST.evaluate(X_test[indexes],y_test[indexes]);\n",
    "# print('\\n')\n",
    "df.loc[10] = ['-', '-', 0, accurcy_Linear, accurcy_MLP, accurcy_CNN]\n",
    "df\n",
    "df = df.sort_values('avg_l2_norm', ascending=True)\n",
    "plt.plot(df['avg_l2_norm'],df['Linear_MNIST_test_accuray'],'o-')\n",
    "plt.plot(df['avg_l2_norm'],df['MLP_MNIST_test_accuray'],'o--')\n",
    "plt.plot(df['avg_l2_norm'],df['CNN_MNIST_test_accuray'],'o-.')\n",
    "plt.xlabel('Average $l_2$ norm of the perturbation')\n",
    "plt.ylabel('Test accuracy')\n",
    "plt.legend(['Linear model', 'MLP model','CNN model'])      \n",
    "plt.ylim([-0.1,1.1])\n",
    "plt.title('Effect of CW attack on MNIST \\nTraget model: Linear')\n",
    "plt.savefig('Effect of CW attack on MNIST for Linear model [l2 norm]', dpi=600)\n",
    "plt.show()"
   ]
  },
  {
   "cell_type": "code",
   "execution_count": 12,
   "metadata": {},
   "outputs": [
    {
     "name": "stdout",
     "output_type": "stream",
     "text": [
      "Test accuracy on unperturbed data\n",
      "32/32 [==============================] - 0s 4ms/step - loss: 0.2790 - accuracy: 0.9190\n",
      "32/32 [==============================] - 0s 3ms/step - loss: 0.0963 - accuracy: 0.9740\n",
      "32/32 [==============================] - 0s 6ms/step - loss: 0.0597 - accuracy: 0.9790\n"
     ]
    },
    {
     "data": {
      "image/png": "[encoded data removed]",
      "text/plain": [
       "<Figure size 432x288 with 1 Axes>"
      ]
     },
     "metadata": {
      "needs_background": "light"
     },
     "output_type": "display_data"
    }
   ],
   "source": [
    "df = pd.read_csv('Adversarial_Attacks_MNIST for Linear model [CW Attack].csv')\n",
    "print('Test accuracy on unperturbed data')\n",
    "_, accurcy_Linear = Linear_MNIST.evaluate(X_test[indexes],y_test[indexes]);\n",
    "_, accurcy_MLP = MLP_MNIST.evaluate(X_test[indexes],y_test[indexes]);\n",
    "_, accurcy_CNN = CNN_MNIST.evaluate(X_test[indexes],y_test[indexes]);\n",
    "# print('\\n')\n",
    "df.loc[10] = [0, '-', 0, accurcy_Linear, accurcy_MLP, accurcy_CNN]\n",
    "df\n",
    "df = df.sort_values('c value', ascending=True)\n",
    "plt.plot(df['c value'],df['Linear_MNIST_test_accuray'],'o-')\n",
    "plt.plot(df['c value'],df['MLP_MNIST_test_accuray'],'o--')\n",
    "plt.plot(df['c value'],df['CNN_MNIST_test_accuray'],'o-.')\n",
    "plt.xlabel('$c$-parameter value')\n",
    "plt.ylabel('Test accuracy')\n",
    "plt.legend(['Linear model', 'MLP model','CNN model'])      \n",
    "plt.ylim([-0.1,1.1])\n",
    "plt.title('Effect of CW attack on MNIST \\nTraget model: Linear')\n",
    "plt.savefig('Effect of CW attack on MNIST for Linear model [c value]', dpi=600)\n",
    "plt.show()"
   ]
  },
  {
   "cell_type": "markdown",
   "metadata": {
    "id": "ldp7OT4TDVMB"
   },
   "source": [
    "# Prepare batches of adversarial examples of MLP model"
   ]
  },
  {
   "cell_type": "markdown",
   "metadata": {},
   "source": [
    "**Batches of 1000 for different $c$ values**"
   ]
  },
  {
   "cell_type": "code",
   "execution_count": 48,
   "metadata": {},
   "outputs": [
    {
     "name": "stdout",
     "output_type": "stream",
     "text": [
      "Starting from 0... \n",
      "First 100 completed\n",
      "First 200 completed\n",
      "First 300 completed\n",
      "First 400 completed\n",
      "First 500 completed\n",
      "First 600 completed\n",
      "First 700 completed\n",
      "First 800 completed\n",
      "First 900 completed\n",
      "First 1000 completed\n",
      "Starting from 0... \n",
      "First 100 completed\n",
      "First 200 completed\n",
      "First 300 completed\n",
      "First 400 completed\n",
      "First 500 completed\n",
      "First 600 completed\n",
      "First 700 completed\n",
      "First 800 completed\n",
      "First 900 completed\n",
      "First 1000 completed\n",
      "Starting from 0... \n",
      "First 100 completed\n",
      "First 200 completed\n",
      "First 300 completed\n",
      "First 400 completed\n",
      "First 500 completed\n",
      "First 600 completed\n",
      "First 700 completed\n",
      "First 800 completed\n",
      "First 900 completed\n",
      "First 1000 completed\n",
      "Starting from 0... \n",
      "First 100 completed\n",
      "First 200 completed\n",
      "First 300 completed\n",
      "First 400 completed\n",
      "First 500 completed\n",
      "First 600 completed\n",
      "First 700 completed\n",
      "First 800 completed\n",
      "First 900 completed\n",
      "First 1000 completed\n",
      "Starting from 0... \n",
      "First 100 completed\n",
      "First 200 completed\n",
      "First 300 completed\n",
      "First 400 completed\n",
      "First 500 completed\n",
      "First 600 completed\n",
      "First 700 completed\n",
      "First 800 completed\n",
      "First 900 completed\n",
      "First 1000 completed\n",
      "Starting from 0... \n",
      "First 100 completed\n",
      "First 200 completed\n",
      "First 300 completed\n",
      "First 400 completed\n",
      "First 500 completed\n",
      "First 600 completed\n",
      "First 700 completed\n",
      "First 800 completed\n",
      "First 900 completed\n",
      "First 1000 completed\n",
      "Starting from 0... \n",
      "First 100 completed\n",
      "First 200 completed\n",
      "First 300 completed\n",
      "First 400 completed\n",
      "First 500 completed\n",
      "First 600 completed\n",
      "First 700 completed\n",
      "First 800 completed\n",
      "First 900 completed\n",
      "First 1000 completed\n",
      "Starting from 0... \n",
      "First 100 completed\n",
      "First 200 completed\n",
      "First 300 completed\n",
      "First 400 completed\n",
      "First 500 completed\n",
      "First 600 completed\n",
      "First 700 completed\n",
      "First 800 completed\n",
      "First 900 completed\n",
      "First 1000 completed\n",
      "Starting from 0... \n",
      "First 100 completed\n",
      "First 200 completed\n",
      "First 300 completed\n",
      "First 400 completed\n",
      "First 500 completed\n",
      "First 600 completed\n",
      "First 700 completed\n",
      "First 800 completed\n",
      "First 900 completed\n",
      "First 1000 completed\n",
      "Starting from 0... \n",
      "First 100 completed\n",
      "First 200 completed\n",
      "First 300 completed\n",
      "First 400 completed\n",
      "First 500 completed\n",
      "First 600 completed\n",
      "First 700 completed\n",
      "First 800 completed\n",
      "First 900 completed\n",
      "First 1000 completed\n"
     ]
    }
   ],
   "source": [
    "model = MLP_MNIST\n",
    "for c in np.arange(0.1,1.1,0.1):\n",
    "    starting_point = 0;\n",
    "    for lot in [0]:\n",
    "      x_adv_stack_MLP_Lot = CW_advarsarial_examples(model, X_test, c = c, lr_factor= lr_factor, \\\n",
    "                                                                  max_lr = max_lr, max_iter = max_iter, \\\n",
    "                                                 starting_point = starting_point, num_samples = num_samples)\n",
    "      filename = 'MNIST_x_adv_stack_MLP_Lot' + str(lot+1) + '_c' + str(np.round(c,1)) + '.npy'\n",
    "      np.save(filename, x_adv_stack_MLP_Lot)\n",
    "      starting_point = starting_point + 1000"
   ]
  },
  {
   "cell_type": "code",
   "execution_count": 28,
   "metadata": {},
   "outputs": [
    {
     "name": "stdout",
     "output_type": "stream",
     "text": [
      "32/32 [==============================] - 0s 804us/step - loss: 15.3997 - accuracy: 0.3360\n",
      "32/32 [==============================] - 0s 951us/step - loss: 24.4377 - accuracy: 0.0180\n",
      "32/32 [==============================] - 0s 2ms/step - loss: 8.1815 - accuracy: 0.7110\n",
      "32/32 [==============================] - 0s 804us/step - loss: 17.1651 - accuracy: 0.2950\n",
      "32/32 [==============================] - 0s 933us/step - loss: 26.6730 - accuracy: 0.0180\n",
      "32/32 [==============================] - 0s 2ms/step - loss: 9.5037 - accuracy: 0.6790\n",
      "32/32 [==============================] - 0s 804us/step - loss: 19.0652 - accuracy: 0.2450\n",
      "32/32 [==============================] - 0s 1ms/step - loss: 32.2472 - accuracy: 0.0180\n",
      "32/32 [==============================] - 0s 2ms/step - loss: 11.9164 - accuracy: 0.6140\n",
      "32/32 [==============================] - 0s 804us/step - loss: 23.9203 - accuracy: 0.2630\n",
      "32/32 [==============================] - 0s 1ms/step - loss: 36.3322 - accuracy: 0.0180\n",
      "32/32 [==============================] - 0s 2ms/step - loss: 13.7154 - accuracy: 0.6070\n",
      "32/32 [==============================] - 0s 872us/step - loss: 17.1980 - accuracy: 0.3230\n",
      "32/32 [==============================] - 0s 1ms/step - loss: 27.0478 - accuracy: 0.0180\n",
      "32/32 [==============================] - 0s 2ms/step - loss: 10.9694 - accuracy: 0.6750\n",
      "32/32 [==============================] - 0s 869us/step - loss: 15.1159 - accuracy: 0.2810\n",
      "32/32 [==============================] - 0s 2ms/step - loss: 24.7036 - accuracy: 0.0180\n",
      "32/32 [==============================] - 0s 3ms/step - loss: 10.6526 - accuracy: 0.7110\n",
      "32/32 [==============================] - 0s 836us/step - loss: 13.3904 - accuracy: 0.2230\n",
      "32/32 [==============================] - 0s 1ms/step - loss: 23.6267 - accuracy: 0.0180\n",
      "32/32 [==============================] - 0s 2ms/step - loss: 8.6857 - accuracy: 0.7280\n",
      "32/32 [==============================] - 0s 933us/step - loss: 14.8683 - accuracy: 0.1840\n",
      "32/32 [==============================] - 0s 1ms/step - loss: 26.4039 - accuracy: 0.0180\n",
      "32/32 [==============================] - 0s 3ms/step - loss: 8.6269 - accuracy: 0.6860\n",
      "32/32 [==============================] - 0s 804us/step - loss: 18.2513 - accuracy: 0.1510\n",
      "32/32 [==============================] - 0s 965us/step - loss: 32.0475 - accuracy: 0.0180\n",
      "32/32 [==============================] - 0s 2ms/step - loss: 10.2283 - accuracy: 0.6220\n",
      "32/32 [==============================] - 0s 901us/step - loss: 21.4570 - accuracy: 0.1340\n",
      "32/32 [==============================] - 0s 1ms/step - loss: 37.0638 - accuracy: 0.0180\n",
      "32/32 [==============================] - 0s 3ms/step - loss: 11.4538 - accuracy: 0.5410\n"
     ]
    },
    {
     "data": {
      "text/html": [
       "<div>\n",
       "<style scoped>\n",
       "    .dataframe tbody tr th:only-of-type {\n",
       "        vertical-align: middle;\n",
       "    }\n",
       "\n",
       "    .dataframe tbody tr th {\n",
       "        vertical-align: top;\n",
       "    }\n",
       "\n",
       "    .dataframe thead th {\n",
       "        text-align: right;\n",
       "    }\n",
       "</style>\n",
       "<table border=\"1\" class=\"dataframe\">\n",
       "  <thead>\n",
       "    <tr style=\"text-align: right;\">\n",
       "      <th></th>\n",
       "      <th>c value</th>\n",
       "      <th>Target model</th>\n",
       "      <th>avg_l2_norm</th>\n",
       "      <th>Linear_MNIST_test_accuray</th>\n",
       "      <th>MLP_MNIST_test_accuray</th>\n",
       "      <th>CNN_MNIST_test_accuray</th>\n",
       "    </tr>\n",
       "  </thead>\n",
       "  <tbody>\n",
       "    <tr>\n",
       "      <th>0</th>\n",
       "      <td>0.1</td>\n",
       "      <td>MLP</td>\n",
       "      <td>4.4802533260816855</td>\n",
       "      <td>0.335999995470047</td>\n",
       "      <td>0.017999999225139618</td>\n",
       "      <td>0.7110000252723694</td>\n",
       "    </tr>\n",
       "    <tr>\n",
       "      <th>1</th>\n",
       "      <td>0.2</td>\n",
       "      <td>MLP</td>\n",
       "      <td>4.851501805215288</td>\n",
       "      <td>0.29499998688697815</td>\n",
       "      <td>0.017999999225139618</td>\n",
       "      <td>0.6790000200271606</td>\n",
       "    </tr>\n",
       "    <tr>\n",
       "      <th>2</th>\n",
       "      <td>0.3</td>\n",
       "      <td>MLP</td>\n",
       "      <td>5.168909040568971</td>\n",
       "      <td>0.24500000476837158</td>\n",
       "      <td>0.017999999225139618</td>\n",
       "      <td>0.6140000224113464</td>\n",
       "    </tr>\n",
       "    <tr>\n",
       "      <th>3</th>\n",
       "      <td>0.4</td>\n",
       "      <td>MLP</td>\n",
       "      <td>6.436205946897388</td>\n",
       "      <td>0.2630000114440918</td>\n",
       "      <td>0.017999999225139618</td>\n",
       "      <td>0.6069999933242798</td>\n",
       "    </tr>\n",
       "    <tr>\n",
       "      <th>4</th>\n",
       "      <td>0.5</td>\n",
       "      <td>MLP</td>\n",
       "      <td>4.955546101458771</td>\n",
       "      <td>0.3230000138282776</td>\n",
       "      <td>0.017999999225139618</td>\n",
       "      <td>0.675000011920929</td>\n",
       "    </tr>\n",
       "    <tr>\n",
       "      <th>5</th>\n",
       "      <td>0.6</td>\n",
       "      <td>MLP</td>\n",
       "      <td>4.402415912441374</td>\n",
       "      <td>0.2809999883174896</td>\n",
       "      <td>0.017999999225139618</td>\n",
       "      <td>0.7110000252723694</td>\n",
       "    </tr>\n",
       "    <tr>\n",
       "      <th>6</th>\n",
       "      <td>0.7</td>\n",
       "      <td>MLP</td>\n",
       "      <td>3.9088703382526355</td>\n",
       "      <td>0.22300000488758087</td>\n",
       "      <td>0.017999999225139618</td>\n",
       "      <td>0.7279999852180481</td>\n",
       "    </tr>\n",
       "    <tr>\n",
       "      <th>7</th>\n",
       "      <td>0.8</td>\n",
       "      <td>MLP</td>\n",
       "      <td>3.996072363566961</td>\n",
       "      <td>0.18400000035762787</td>\n",
       "      <td>0.017999999225139618</td>\n",
       "      <td>0.6859999895095825</td>\n",
       "    </tr>\n",
       "    <tr>\n",
       "      <th>8</th>\n",
       "      <td>0.9</td>\n",
       "      <td>MLP</td>\n",
       "      <td>4.624010813265251</td>\n",
       "      <td>0.1509999930858612</td>\n",
       "      <td>0.017999999225139618</td>\n",
       "      <td>0.621999979019165</td>\n",
       "    </tr>\n",
       "    <tr>\n",
       "      <th>9</th>\n",
       "      <td>1.0</td>\n",
       "      <td>MLP</td>\n",
       "      <td>5.207092061018631</td>\n",
       "      <td>0.1340000033378601</td>\n",
       "      <td>0.017999999225139618</td>\n",
       "      <td>0.5410000085830688</td>\n",
       "    </tr>\n",
       "  </tbody>\n",
       "</table>\n",
       "</div>"
      ],
      "text/plain": [
       "  c value Target model         avg_l2_norm Linear_MNIST_test_accuray  \\\n",
       "0     0.1          MLP  4.4802533260816855         0.335999995470047   \n",
       "1     0.2          MLP   4.851501805215288       0.29499998688697815   \n",
       "2     0.3          MLP   5.168909040568971       0.24500000476837158   \n",
       "3     0.4          MLP   6.436205946897388        0.2630000114440918   \n",
       "4     0.5          MLP   4.955546101458771        0.3230000138282776   \n",
       "5     0.6          MLP   4.402415912441374        0.2809999883174896   \n",
       "6     0.7          MLP  3.9088703382526355       0.22300000488758087   \n",
       "7     0.8          MLP   3.996072363566961       0.18400000035762787   \n",
       "8     0.9          MLP   4.624010813265251        0.1509999930858612   \n",
       "9     1.0          MLP   5.207092061018631        0.1340000033378601   \n",
       "\n",
       "  MLP_MNIST_test_accuray CNN_MNIST_test_accuray  \n",
       "0   0.017999999225139618     0.7110000252723694  \n",
       "1   0.017999999225139618     0.6790000200271606  \n",
       "2   0.017999999225139618     0.6140000224113464  \n",
       "3   0.017999999225139618     0.6069999933242798  \n",
       "4   0.017999999225139618      0.675000011920929  \n",
       "5   0.017999999225139618     0.7110000252723694  \n",
       "6   0.017999999225139618     0.7279999852180481  \n",
       "7   0.017999999225139618     0.6859999895095825  \n",
       "8   0.017999999225139618      0.621999979019165  \n",
       "9   0.017999999225139618     0.5410000085830688  "
      ]
     },
     "execution_count": 28,
     "metadata": {},
     "output_type": "execute_result"
    }
   ],
   "source": [
    "stored_results = []\n",
    "lot = 0\n",
    "for c in np.arange(0.1,1.1,0.1):\n",
    "    filename = 'MNIST_x_adv_stack_MLP_Lot' + str(lot+1) + '_c' + str(np.round(c,1)) + '.npy'\n",
    "    x_adv_stack = np.load(filename)\n",
    "    \n",
    "    stored_results.append(np.round(c,1))\n",
    "    stored_results.append('MLP')\n",
    "    \n",
    "    avg_l2_norm = np.mean(np.sqrt(np.sum((x_adv_stack-X_test[:len(x_adv_stack)])**2, axis=(1,2))))    \n",
    "    \n",
    "    if np.isnan(avg_l2_norm):\n",
    "        # print(avg_l2_norm)\n",
    "        delta = x_adv_stack-X_test[:len(x_adv_stack)]\n",
    "        indices = np.argwhere(np.isnan(delta))\n",
    "        # print(indices)\n",
    "        delta[indices] = 1\n",
    "        x_adv_stack = X_test[:len(x_adv_stack)] + delta\n",
    "        x_adv_stack = np.clip(x_adv_stack, 0, 1)\n",
    "        delta = x_adv_stack-X_test[:len(x_adv_stack)]\n",
    "        avg_l2_norm = np.mean(np.sqrt(np.sum((x_adv_stack-X_test[:len(x_adv_stack)])**2, axis=(1,2))))\n",
    "\n",
    "    \n",
    "    # print(avg_l2_norm)\n",
    "    stored_results.append(avg_l2_norm)\n",
    "    \n",
    "    _, accuracy = Linear_MNIST.evaluate(x_adv_stack,y_test[:len(x_adv_stack)])\n",
    "    stored_results.append(accuracy)\n",
    "    _, accuracy = MLP_MNIST.evaluate(x_adv_stack,y_test[:len(x_adv_stack)])\n",
    "    stored_results.append(accuracy)\n",
    "    _, accuracy = CNN_MNIST.evaluate(x_adv_stack,y_test[:len(x_adv_stack)])\n",
    "    stored_results.append(accuracy)\n",
    "    \n",
    "stored_results = np.array(stored_results)\n",
    "stored_results = stored_results.reshape(-1,6)\n",
    "df = pd.DataFrame(stored_results, columns = ['c value','Target model','avg_l2_norm','Linear_MNIST_test_accuray',\\\n",
    "                                              'MLP_MNIST_test_accuray','CNN_MNIST_test_accuray'])\n",
    "filename = 'Adversarial_Attacks_MNIST for MLP model [CW Attack].csv'\n",
    "df.to_csv(filename, index=False)\n",
    "df"
   ]
  },
  {
   "cell_type": "code",
   "execution_count": 29,
   "metadata": {},
   "outputs": [
    {
     "name": "stdout",
     "output_type": "stream",
     "text": [
      "Test accuracy on unperturbed data\n",
      "32/32 [==============================] - 0s 901us/step - loss: 0.2790 - accuracy: 0.9190\n",
      "32/32 [==============================] - 0s 997us/step - loss: 0.0963 - accuracy: 0.9740\n",
      "32/32 [==============================] - 0s 3ms/step - loss: 0.0597 - accuracy: 0.9790\n"
     ]
    },
    {
     "data": {
      "image/png": "[encoded data removed]",
      "text/plain": [
       "<Figure size 432x288 with 1 Axes>"
      ]
     },
     "metadata": {
      "needs_background": "light"
     },
     "output_type": "display_data"
    }
   ],
   "source": [
    "df = pd.read_csv('Adversarial_Attacks_MNIST for MLP model [CW Attack].csv')\n",
    "print('Test accuracy on unperturbed data')\n",
    "_, accurcy_Linear = Linear_MNIST.evaluate(X_test[indexes],y_test[indexes]);\n",
    "_, accurcy_MLP = MLP_MNIST.evaluate(X_test[indexes],y_test[indexes]);\n",
    "_, accurcy_CNN = CNN_MNIST.evaluate(X_test[indexes],y_test[indexes]);\n",
    "# print('\\n')\n",
    "df.loc[10] = [0, '-', 0, accurcy_Linear, accurcy_MLP, accurcy_CNN]\n",
    "df\n",
    "df = df.sort_values('avg_l2_norm', ascending=True)\n",
    "plt.plot(df['avg_l2_norm'],df['Linear_MNIST_test_accuray'],'o-')\n",
    "plt.plot(df['avg_l2_norm'],df['MLP_MNIST_test_accuray'],'o--')\n",
    "plt.plot(df['avg_l2_norm'],df['CNN_MNIST_test_accuray'],'o-.')\n",
    "plt.xlabel('Average $l_2$ norm of the perturbation')\n",
    "plt.ylabel('Test accuracy')\n",
    "plt.legend(['Linear model', 'MLP model','CNN model'])\n",
    "plt.ylim([-0.1,1.1])\n",
    "\n",
    "plt.title('Effect of CW attack on MNIST \\nTraget model: MLP')\n",
    "plt.savefig('Effect of CW attack on MNIST for MLP model [l2 norm]', dpi=600)\n",
    "plt.show()"
   ]
  },
  {
   "cell_type": "code",
   "execution_count": 18,
   "metadata": {},
   "outputs": [
    {
     "name": "stdout",
     "output_type": "stream",
     "text": [
      "Test accuracy on unperturbed data\n",
      "32/32 [==============================] - 0s 836us/step - loss: 0.2790 - accuracy: 0.9190\n",
      "32/32 [==============================] - 0s 997us/step - loss: 0.0963 - accuracy: 0.9740\n",
      "32/32 [==============================] - 0s 2ms/step - loss: 0.0597 - accuracy: 0.9790\n"
     ]
    },
    {
     "data": {
      "image/png": "[encoded data removed]",
      "text/plain": [
       "<Figure size 432x288 with 1 Axes>"
      ]
     },
     "metadata": {
      "needs_background": "light"
     },
     "output_type": "display_data"
    }
   ],
   "source": [
    "df = pd.read_csv('Adversarial_Attacks_MNIST for MLP model [CW Attack].csv')\n",
    "print('Test accuracy on unperturbed data')\n",
    "_, accurcy_Linear = Linear_MNIST.evaluate(X_test[indexes],y_test[indexes]);\n",
    "_, accurcy_MLP = MLP_MNIST.evaluate(X_test[indexes],y_test[indexes]);\n",
    "_, accurcy_CNN = CNN_MNIST.evaluate(X_test[indexes],y_test[indexes]);\n",
    "# print('\\n')\n",
    "df.loc[10] = [0, '-', 0, accurcy_Linear, accurcy_MLP, accurcy_CNN]\n",
    "df\n",
    "df = df.sort_values('c value', ascending=True)\n",
    "plt.plot(df['c value'],df['Linear_MNIST_test_accuray'],'o-')\n",
    "plt.plot(df['c value'],df['MLP_MNIST_test_accuray'],'o--')\n",
    "plt.plot(df['c value'],df['CNN_MNIST_test_accuray'],'o-.')\n",
    "plt.xlabel('$c$-parameter value')\n",
    "plt.ylabel('Test accuracy')\n",
    "plt.legend(['Linear model', 'MLP model','CNN model'])\n",
    "plt.ylim([-0.1,1.1])\n",
    "\n",
    "plt.title('Effect of CW attack on MNIST \\nTraget model: MLP')\n",
    "plt.savefig('Effect of CW attack on MNIST for MLP model [c value]', dpi=600)\n",
    "plt.show()"
   ]
  },
  {
   "cell_type": "markdown",
   "metadata": {
    "id": "3uVyO7HmDYE8"
   },
   "source": [
    "# Prepare batches of adversarial examples of CNN model"
   ]
  },
  {
   "cell_type": "code",
   "execution_count": 51,
   "metadata": {},
   "outputs": [
    {
     "name": "stdout",
     "output_type": "stream",
     "text": [
      "Starting from 0... \n",
      "First 100 completed\n",
      "First 200 completed\n",
      "First 300 completed\n",
      "First 400 completed\n",
      "First 500 completed\n",
      "First 600 completed\n",
      "First 700 completed\n",
      "First 800 completed\n",
      "First 900 completed\n",
      "First 1000 completed\n",
      "Starting from 0... \n",
      "First 100 completed\n",
      "First 200 completed\n",
      "First 300 completed\n",
      "First 400 completed\n",
      "First 500 completed\n",
      "First 600 completed\n",
      "First 700 completed\n",
      "First 800 completed\n",
      "First 900 completed\n",
      "First 1000 completed\n",
      "Starting from 0... \n",
      "First 100 completed\n",
      "First 200 completed\n",
      "First 300 completed\n",
      "First 400 completed\n",
      "First 500 completed\n",
      "First 600 completed\n",
      "First 700 completed\n",
      "First 800 completed\n",
      "First 900 completed\n",
      "First 1000 completed\n",
      "Starting from 0... \n",
      "First 100 completed\n",
      "First 200 completed\n",
      "First 300 completed\n",
      "First 400 completed\n",
      "First 500 completed\n",
      "First 600 completed\n",
      "First 700 completed\n",
      "First 800 completed\n",
      "First 900 completed\n",
      "First 1000 completed\n",
      "Starting from 0... \n",
      "First 100 completed\n",
      "First 200 completed\n",
      "First 300 completed\n",
      "First 400 completed\n",
      "First 500 completed\n",
      "First 600 completed\n",
      "First 700 completed\n",
      "First 800 completed\n",
      "First 900 completed\n",
      "First 1000 completed\n",
      "Starting from 0... \n",
      "First 100 completed\n",
      "First 200 completed\n",
      "First 300 completed\n",
      "First 400 completed\n",
      "First 500 completed\n",
      "First 600 completed\n",
      "First 700 completed\n",
      "First 800 completed\n",
      "First 900 completed\n",
      "First 1000 completed\n",
      "Starting from 0... \n",
      "First 100 completed\n",
      "First 200 completed\n",
      "First 300 completed\n",
      "First 400 completed\n",
      "First 500 completed\n",
      "First 600 completed\n",
      "First 700 completed\n",
      "First 800 completed\n",
      "First 900 completed\n",
      "First 1000 completed\n",
      "Starting from 0... \n",
      "First 100 completed\n",
      "First 200 completed\n",
      "First 300 completed\n",
      "First 400 completed\n",
      "First 500 completed\n",
      "First 600 completed\n",
      "First 700 completed\n",
      "First 800 completed\n",
      "First 900 completed\n",
      "First 1000 completed\n",
      "Starting from 0... \n",
      "First 100 completed\n",
      "First 200 completed\n",
      "First 300 completed\n",
      "First 400 completed\n",
      "First 500 completed\n",
      "First 600 completed\n",
      "First 700 completed\n",
      "First 800 completed\n",
      "First 900 completed\n",
      "First 1000 completed\n",
      "Starting from 0... \n",
      "First 100 completed\n",
      "First 200 completed\n",
      "First 300 completed\n",
      "First 400 completed\n",
      "First 500 completed\n",
      "First 600 completed\n",
      "First 700 completed\n",
      "First 800 completed\n",
      "First 900 completed\n",
      "First 1000 completed\n"
     ]
    }
   ],
   "source": [
    "model = CNN_MNIST\n",
    "for c in np.arange(0.1,1.1,0.1):\n",
    "    starting_point = 0;\n",
    "    for lot in [0]:\n",
    "      x_adv_stack_CNN_Lot = CW_advarsarial_examples(model, X_test, c = c, lr_factor= lr_factor, \\\n",
    "                                                                  max_lr = max_lr, max_iter = max_iter, \\\n",
    "                                                 starting_point = starting_point, num_samples = num_samples)\n",
    "      filename = 'MNIST_x_adv_stack_CNN_Lot' + str(lot+1) + '_c' + str(np.round(c,1)) + '.npy'\n",
    "      np.save(filename, x_adv_stack_CNN_Lot)\n",
    "      starting_point = starting_point + 1000"
   ]
  },
  {
   "cell_type": "code",
   "execution_count": 26,
   "metadata": {},
   "outputs": [
    {
     "name": "stdout",
     "output_type": "stream",
     "text": [
      "32/32 [==============================] - 0s 772us/step - loss: 7.4027 - accuracy: 0.5600\n",
      "32/32 [==============================] - 0s 1ms/step - loss: 7.1638 - accuracy: 0.6500\n",
      "32/32 [==============================] - 0s 2ms/step - loss: 16.7541 - accuracy: 0.0180\n",
      "32/32 [==============================] - 0s 836us/step - loss: 10.8621 - accuracy: 0.4410\n",
      "32/32 [==============================] - 0s 1ms/step - loss: 10.4313 - accuracy: 0.5320\n",
      "32/32 [==============================] - 0s 2ms/step - loss: 18.6961 - accuracy: 0.0190\n",
      "32/32 [==============================] - 0s 836us/step - loss: 12.3018 - accuracy: 0.4370\n",
      "32/32 [==============================] - 0s 933us/step - loss: 11.7903 - accuracy: 0.5020\n",
      "32/32 [==============================] - 0s 2ms/step - loss: 22.1489 - accuracy: 0.0170\n",
      "32/32 [==============================] - 0s 772us/step - loss: 12.8011 - accuracy: 0.4000\n",
      "32/32 [==============================] - 0s 965us/step - loss: 12.2824 - accuracy: 0.4620\n",
      "32/32 [==============================] - 0s 2ms/step - loss: 24.9989 - accuracy: 0.0170\n",
      "32/32 [==============================] - 0s 836us/step - loss: 14.5193 - accuracy: 0.3660\n",
      "32/32 [==============================] - 0s 997us/step - loss: 13.8476 - accuracy: 0.4320\n",
      "32/32 [==============================] - 0s 2ms/step - loss: 25.9525 - accuracy: 0.0170\n",
      "32/32 [==============================] - 0s 772us/step - loss: 14.1701 - accuracy: 0.3890\n",
      "32/32 [==============================] - 0s 965us/step - loss: 13.3821 - accuracy: 0.4600\n",
      "32/32 [==============================] - 0s 2ms/step - loss: 22.5354 - accuracy: 0.0210\n",
      "32/32 [==============================] - 0s 836us/step - loss: 12.9633 - accuracy: 0.4310\n",
      "32/32 [==============================] - 0s 1ms/step - loss: 12.2554 - accuracy: 0.5000\n",
      "32/32 [==============================] - 0s 2ms/step - loss: 20.2848 - accuracy: 0.0380\n",
      "32/32 [==============================] - 0s 830us/step - loss: 12.3801 - accuracy: 0.4550\n",
      "32/32 [==============================] - 0s 933us/step - loss: 11.9067 - accuracy: 0.5280\n",
      "32/32 [==============================] - 0s 2ms/step - loss: 18.8782 - accuracy: 0.0380\n",
      "32/32 [==============================] - 0s 836us/step - loss: 10.6631 - accuracy: 0.5000\n",
      "32/32 [==============================] - 0s 1ms/step - loss: 10.1486 - accuracy: 0.5760\n",
      "32/32 [==============================] - 0s 3ms/step - loss: 16.3761 - accuracy: 0.0360\n",
      "32/32 [==============================] - 0s 901us/step - loss: 10.4083 - accuracy: 0.5050\n",
      "32/32 [==============================] - 0s 997us/step - loss: 9.7723 - accuracy: 0.5630\n",
      "32/32 [==============================] - 0s 2ms/step - loss: 15.7927 - accuracy: 0.0370\n"
     ]
    },
    {
     "data": {
      "text/html": [
       "<div>\n",
       "<style scoped>\n",
       "    .dataframe tbody tr th:only-of-type {\n",
       "        vertical-align: middle;\n",
       "    }\n",
       "\n",
       "    .dataframe tbody tr th {\n",
       "        vertical-align: top;\n",
       "    }\n",
       "\n",
       "    .dataframe thead th {\n",
       "        text-align: right;\n",
       "    }\n",
       "</style>\n",
       "<table border=\"1\" class=\"dataframe\">\n",
       "  <thead>\n",
       "    <tr style=\"text-align: right;\">\n",
       "      <th></th>\n",
       "      <th>c value</th>\n",
       "      <th>Target model</th>\n",
       "      <th>avg_l2_norm</th>\n",
       "      <th>Linear_MNIST_test_accuray</th>\n",
       "      <th>MLP_MNIST_test_accuray</th>\n",
       "      <th>CNN_MNIST_test_accuray</th>\n",
       "    </tr>\n",
       "  </thead>\n",
       "  <tbody>\n",
       "    <tr>\n",
       "      <th>0</th>\n",
       "      <td>0.1</td>\n",
       "      <td>CNN</td>\n",
       "      <td>5.262307760939843</td>\n",
       "      <td>0.5600000023841858</td>\n",
       "      <td>0.6499999761581421</td>\n",
       "      <td>0.017999999225139618</td>\n",
       "    </tr>\n",
       "    <tr>\n",
       "      <th>1</th>\n",
       "      <td>0.2</td>\n",
       "      <td>CNN</td>\n",
       "      <td>7.467622728834332</td>\n",
       "      <td>0.4410000145435333</td>\n",
       "      <td>0.5320000052452087</td>\n",
       "      <td>0.01899999938905239</td>\n",
       "    </tr>\n",
       "    <tr>\n",
       "      <th>2</th>\n",
       "      <td>0.3</td>\n",
       "      <td>CNN</td>\n",
       "      <td>7.945406952943393</td>\n",
       "      <td>0.43700000643730164</td>\n",
       "      <td>0.5019999742507935</td>\n",
       "      <td>0.017000000923871994</td>\n",
       "    </tr>\n",
       "    <tr>\n",
       "      <th>3</th>\n",
       "      <td>0.4</td>\n",
       "      <td>CNN</td>\n",
       "      <td>8.382603169827735</td>\n",
       "      <td>0.4000000059604645</td>\n",
       "      <td>0.4620000123977661</td>\n",
       "      <td>0.017000000923871994</td>\n",
       "    </tr>\n",
       "    <tr>\n",
       "      <th>4</th>\n",
       "      <td>0.5</td>\n",
       "      <td>CNN</td>\n",
       "      <td>9.680634856937752</td>\n",
       "      <td>0.3659999966621399</td>\n",
       "      <td>0.4320000112056732</td>\n",
       "      <td>0.017000000923871994</td>\n",
       "    </tr>\n",
       "    <tr>\n",
       "      <th>5</th>\n",
       "      <td>0.6</td>\n",
       "      <td>CNN</td>\n",
       "      <td>9.714401912357042</td>\n",
       "      <td>0.3889999985694885</td>\n",
       "      <td>0.46000000834465027</td>\n",
       "      <td>0.020999999716877937</td>\n",
       "    </tr>\n",
       "    <tr>\n",
       "      <th>6</th>\n",
       "      <td>0.7</td>\n",
       "      <td>CNN</td>\n",
       "      <td>9.259682804054144</td>\n",
       "      <td>0.4309999942779541</td>\n",
       "      <td>0.5</td>\n",
       "      <td>0.03799999877810478</td>\n",
       "    </tr>\n",
       "    <tr>\n",
       "      <th>7</th>\n",
       "      <td>0.8</td>\n",
       "      <td>CNN</td>\n",
       "      <td>8.725523030807217</td>\n",
       "      <td>0.45500001311302185</td>\n",
       "      <td>0.527999997138977</td>\n",
       "      <td>0.03799999877810478</td>\n",
       "    </tr>\n",
       "    <tr>\n",
       "      <th>8</th>\n",
       "      <td>0.9</td>\n",
       "      <td>CNN</td>\n",
       "      <td>7.852936790994642</td>\n",
       "      <td>0.5</td>\n",
       "      <td>0.5759999752044678</td>\n",
       "      <td>0.035999998450279236</td>\n",
       "    </tr>\n",
       "    <tr>\n",
       "      <th>9</th>\n",
       "      <td>1.0</td>\n",
       "      <td>CNN</td>\n",
       "      <td>7.612373960262582</td>\n",
       "      <td>0.5049999952316284</td>\n",
       "      <td>0.5630000233650208</td>\n",
       "      <td>0.03700000047683716</td>\n",
       "    </tr>\n",
       "  </tbody>\n",
       "</table>\n",
       "</div>"
      ],
      "text/plain": [
       "  c value Target model        avg_l2_norm Linear_MNIST_test_accuray  \\\n",
       "0     0.1          CNN  5.262307760939843        0.5600000023841858   \n",
       "1     0.2          CNN  7.467622728834332        0.4410000145435333   \n",
       "2     0.3          CNN  7.945406952943393       0.43700000643730164   \n",
       "3     0.4          CNN  8.382603169827735        0.4000000059604645   \n",
       "4     0.5          CNN  9.680634856937752        0.3659999966621399   \n",
       "5     0.6          CNN  9.714401912357042        0.3889999985694885   \n",
       "6     0.7          CNN  9.259682804054144        0.4309999942779541   \n",
       "7     0.8          CNN  8.725523030807217       0.45500001311302185   \n",
       "8     0.9          CNN  7.852936790994642                       0.5   \n",
       "9     1.0          CNN  7.612373960262582        0.5049999952316284   \n",
       "\n",
       "  MLP_MNIST_test_accuray CNN_MNIST_test_accuray  \n",
       "0     0.6499999761581421   0.017999999225139618  \n",
       "1     0.5320000052452087    0.01899999938905239  \n",
       "2     0.5019999742507935   0.017000000923871994  \n",
       "3     0.4620000123977661   0.017000000923871994  \n",
       "4     0.4320000112056732   0.017000000923871994  \n",
       "5    0.46000000834465027   0.020999999716877937  \n",
       "6                    0.5    0.03799999877810478  \n",
       "7      0.527999997138977    0.03799999877810478  \n",
       "8     0.5759999752044678   0.035999998450279236  \n",
       "9     0.5630000233650208    0.03700000047683716  "
      ]
     },
     "execution_count": 26,
     "metadata": {},
     "output_type": "execute_result"
    }
   ],
   "source": [
    "stored_results = []\n",
    "lot  = 0\n",
    "for c in np.arange(0.1,1.1,0.1):\n",
    "    filename = 'MNIST_x_adv_stack_CNN_Lot' + str(lot+1) + '_c' + str(np.round(c,1)) + '.npy'\n",
    "    x_adv_stack = np.load(filename)\n",
    "    \n",
    "    stored_results.append(np.round(c,1))\n",
    "    stored_results.append('CNN')\n",
    "    \n",
    "    avg_l2_norm = np.mean(np.sqrt(np.sum((x_adv_stack-X_test[:len(x_adv_stack)])**2, axis=(1,2))))\n",
    "    \n",
    "    if np.isnan(avg_l2_norm):\n",
    "        # print(avg_l2_norm)\n",
    "        delta = x_adv_stack-X_test[:len(x_adv_stack)]\n",
    "        indices = np.argwhere(np.isnan(delta))\n",
    "        # print(indices)\n",
    "        delta[indices] = 1\n",
    "        x_adv_stack = X_test[:len(x_adv_stack)] + delta\n",
    "        x_adv_stack = np.clip(x_adv_stack, 0, 1)\n",
    "        delta = x_adv_stack-X_test[:len(x_adv_stack)]\n",
    "        avg_l2_norm = np.mean(np.sqrt(np.sum((x_adv_stack-X_test[:len(x_adv_stack)])**2, axis=(1,2))))\n",
    "        \n",
    "    # print(avg_l2_norm)\n",
    "    stored_results.append(avg_l2_norm)\n",
    "    \n",
    "    _, accuracy = Linear_MNIST.evaluate(x_adv_stack,y_test[:len(x_adv_stack)])\n",
    "    stored_results.append(accuracy)\n",
    "    _, accuracy = MLP_MNIST.evaluate(x_adv_stack,y_test[:len(x_adv_stack)])\n",
    "    stored_results.append(accuracy)\n",
    "    _, accuracy = CNN_MNIST.evaluate(x_adv_stack,y_test[:len(x_adv_stack)])\n",
    "    stored_results.append(accuracy)\n",
    "    \n",
    "stored_results = np.array(stored_results)\n",
    "stored_results = stored_results.reshape(-1,6)\n",
    "df = pd.DataFrame(stored_results, columns = ['c value','Target model','avg_l2_norm','Linear_MNIST_test_accuray',\\\n",
    "                                              'MLP_MNIST_test_accuray','CNN_MNIST_test_accuray'])\n",
    "filename = 'Adversarial_Attacks_MNIST for CNN model [CW Attack].csv'\n",
    "df.to_csv(filename, index=False)\n",
    "df"
   ]
  },
  {
   "cell_type": "code",
   "execution_count": 27,
   "metadata": {},
   "outputs": [
    {
     "name": "stdout",
     "output_type": "stream",
     "text": [
      "Test accuracy on unperturbed data\n",
      "32/32 [==============================] - 0s 976us/step - loss: 0.2790 - accuracy: 0.9190\n",
      "32/32 [==============================] - 0s 1ms/step - loss: 0.0963 - accuracy: 0.9740\n",
      "32/32 [==============================] - 0s 3ms/step - loss: 0.0597 - accuracy: 0.9790\n"
     ]
    },
    {
     "data": {
      "image/png": "[encoded data removed]",
      "text/plain": [
       "<Figure size 432x288 with 1 Axes>"
      ]
     },
     "metadata": {
      "needs_background": "light"
     },
     "output_type": "display_data"
    }
   ],
   "source": [
    "df = pd.read_csv('Adversarial_Attacks_MNIST for CNN model [CW Attack].csv')\n",
    "print('Test accuracy on unperturbed data')\n",
    "_, accurcy_Linear = Linear_MNIST.evaluate(X_test[indexes],y_test[indexes]);\n",
    "_, accurcy_MLP = MLP_MNIST.evaluate(X_test[indexes],y_test[indexes]);\n",
    "_, accurcy_CNN = CNN_MNIST.evaluate(X_test[indexes],y_test[indexes]);\n",
    "# print('\\n')\n",
    "df.loc[10] = [0, '-', 0, accurcy_Linear, accurcy_MLP, accurcy_CNN]\n",
    "df\n",
    "df = df.sort_values('avg_l2_norm', ascending=True)\n",
    "plt.plot(df['avg_l2_norm'],df['Linear_MNIST_test_accuray'],'o-')\n",
    "plt.plot(df['avg_l2_norm'],df['MLP_MNIST_test_accuray'],'o--')\n",
    "plt.plot(df['avg_l2_norm'],df['CNN_MNIST_test_accuray'],'o-.')\n",
    "plt.xlabel('Average $l_2$ norm of the perturbation')\n",
    "plt.ylabel('Test accuracy')\n",
    "plt.legend(['Linear model', 'MLP model','CNN model'])\n",
    "plt.ylim([-0.1,1.1])\n",
    "\n",
    "plt.title('Effect of CW attack on MNIST \\nTraget model: CNN')\n",
    "plt.savefig('Effect of CW attack on MNIST for CNN model [l2 norm]', dpi=600)\n",
    "plt.show()"
   ]
  },
  {
   "cell_type": "code",
   "execution_count": 16,
   "metadata": {},
   "outputs": [
    {
     "name": "stdout",
     "output_type": "stream",
     "text": [
      "Test accuracy on unperturbed data\n",
      "32/32 [==============================] - 0s 4ms/step - loss: 0.2790 - accuracy: 0.9190\n",
      "32/32 [==============================] - 0s 3ms/step - loss: 0.0963 - accuracy: 0.9740\n",
      "32/32 [==============================] - 0s 6ms/step - loss: 0.0597 - accuracy: 0.9790\n"
     ]
    },
    {
     "data": {
      "image/png": "[encoded data removed]",
      "text/plain": [
       "<Figure size 432x288 with 1 Axes>"
      ]
     },
     "metadata": {
      "needs_background": "light"
     },
     "output_type": "display_data"
    }
   ],
   "source": [
    "df = pd.read_csv('Adversarial_Attacks_MNIST for CNN model [CW Attack].csv')\n",
    "print('Test accuracy on unperturbed data')\n",
    "_, accurcy_Linear = Linear_MNIST.evaluate(X_test[indexes],y_test[indexes]);\n",
    "_, accurcy_MLP = MLP_MNIST.evaluate(X_test[indexes],y_test[indexes]);\n",
    "_, accurcy_CNN = CNN_MNIST.evaluate(X_test[indexes],y_test[indexes]);\n",
    "# print('\\n')\n",
    "df.loc[10] = [0, '-', 0, accurcy_Linear, accurcy_MLP, accurcy_CNN]\n",
    "df\n",
    "df = df.sort_values('c value', ascending=True)\n",
    "plt.plot(df['c value'],df['Linear_MNIST_test_accuray'],'o-')\n",
    "plt.plot(df['c value'],df['MLP_MNIST_test_accuray'],'o--')\n",
    "plt.plot(df['c value'],df['CNN_MNIST_test_accuray'],'o-.')\n",
    "plt.xlabel('$c$-parameter value')\n",
    "plt.ylabel('Test accuracy')\n",
    "plt.legend(['Linear model', 'MLP model','CNN model'])\n",
    "plt.ylim([-0.1,1.1])\n",
    "\n",
    "plt.title('Effect of CW attack on MNIST \\nTraget model: CNN')\n",
    "plt.savefig('Effect of CW attack on MNIST for CNN model [c value]', dpi=600)\n",
    "plt.show()"
   ]
  },
  {
   "cell_type": "markdown",
   "metadata": {},
   "source": [
    "**Visualize the CW-adversarial examples**"
   ]
  },
  {
   "cell_type": "code",
   "execution_count": 40,
   "metadata": {},
   "outputs": [
    {
     "data": {
      "image/png": "[encoded data removed]",
      "text/plain": [
       "<Figure size 1080x144 with 1 Axes>"
      ]
     },
     "metadata": {
      "needs_background": "light"
     },
     "output_type": "display_data"
    },
    {
     "name": "stdout",
     "output_type": "stream",
     "text": [
      "1/1 [==============================] - 0s 161ms/step\n"
     ]
    },
    {
     "data": {
      "image/png": "[encoded data removed]",
      "text/plain": [
       "<Figure size 1080x144 with 1 Axes>"
      ]
     },
     "metadata": {
      "needs_background": "light"
     },
     "output_type": "display_data"
    },
    {
     "name": "stdout",
     "output_type": "stream",
     "text": [
      "1/1 [==============================] - 0s 108ms/step\n"
     ]
    },
    {
     "data": {
      "image/png": "[encoded data removed]",
      "text/plain": [
       "<Figure size 1080x144 with 1 Axes>"
      ]
     },
     "metadata": {
      "needs_background": "light"
     },
     "output_type": "display_data"
    },
    {
     "name": "stdout",
     "output_type": "stream",
     "text": [
      "1/1 [==============================] - 0s 151ms/step\n"
     ]
    },
    {
     "data": {
      "image/png": "[encoded data removed]",
      "text/plain": [
       "<Figure size 1080x144 with 1 Axes>"
      ]
     },
     "metadata": {
      "needs_background": "light"
     },
     "output_type": "display_data"
    }
   ],
   "source": [
    "lot = 0; c = 0.1\n",
    "filename = 'MNIST_x_adv_stack_Linear_Lot' + str(lot+1) + '_c' + str(np.round(c,1)) + '.npy'\n",
    "X_test_CW_Linear = np.load(filename)\n",
    "filename = 'MNIST_x_adv_stack_MLP_Lot' + str(lot+1) + '_c' + str(np.round(c,1)) + '.npy'\n",
    "X_test_CW_MLP = np.load(filename)\n",
    "filename = 'MNIST_x_adv_stack_CNN_Lot' + str(lot+1) + '_c' + str(np.round(c,1)) + '.npy'\n",
    "X_test_CW_CNN = np.load(filename)\n",
    "\n",
    "\n",
    "index = np.random.randint(1000)\n",
    "plot_sample_image(X_test[index], y_test[index])\n",
    "plt.title('Original Image'); plt.show()\n",
    "plot_sample_image(X_test_CW_Linear[index], np.argmax(Linear_MNIST.predict(X_test_CW_Linear[index][np.newaxis, ...])))\n",
    "plt.title('CW adversarial example for Linear model'); plt.show()\n",
    "plot_sample_image(X_test_CW_MLP[index], np.argmax(MLP_MNIST.predict(X_test_CW_MLP[index][np.newaxis, ...])))\n",
    "plt.title('CW adversarial example for MLP model'); plt.show()\n",
    "plot_sample_image(X_test_CW_CNN[index], np.argmax(CNN_MNIST.predict(X_test_CW_CNN[index][np.newaxis, ...])))\n",
    "plt.title('CW adversarial example for CNN model'); plt.show()"
   ]
  }
 ],
 "metadata": {
  "accelerator": "GPU",
  "colab": {
   "provenance": [
    {
     "file_id": "17t5wZdiu4KbtR9opaQcMZECSJAndropo",
     "timestamp": 1674347819943
    }
   ]
  },
  "gpuClass": "standard",
  "kernelspec": {
   "display_name": "Python 3",
   "language": "python",
   "name": "python3"
  },
  "language_info": {
   "codemirror_mode": {
    "name": "ipython",
    "version": 3
   },
   "file_extension": ".py",
   "mimetype": "text/x-python",
   "name": "python",
   "nbconvert_exporter": "python",
   "pygments_lexer": "ipython3",
   "version": "3.8.8"
  }
 },
 "nbformat": 4,
 "nbformat_minor": 1
}
