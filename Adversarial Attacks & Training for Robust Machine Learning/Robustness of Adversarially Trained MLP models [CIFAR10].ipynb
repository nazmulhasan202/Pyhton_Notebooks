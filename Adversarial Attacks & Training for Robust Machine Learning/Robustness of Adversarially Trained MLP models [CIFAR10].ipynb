{
 "cells": [
  {
   "cell_type": "markdown",
   "metadata": {
    "id": "aiSUzqR_k38-"
   },
   "source": [
    "**Import packages**"
   ]
  },
  {
   "cell_type": "code",
   "execution_count": 1,
   "metadata": {
    "colab": {
     "base_uri": "https://localhost:8080/"
    },
    "executionInfo": {
     "elapsed": 6075,
     "status": "ok",
     "timestamp": 1678467624635,
     "user": {
      "displayName": "Nazmul Hasan",
      "userId": "02122416256231585764"
     },
     "user_tz": 420
    },
    "id": "ad5wwLh9culg",
    "outputId": "3a26d4f2-1957-4820-bcae-5a769878ff9c"
   },
   "outputs": [
    {
     "name": "stdout",
     "output_type": "stream",
     "text": [
      "Requirement already satisfied: pytictoc in c:\\programdata\\anaconda3\\lib\\site-packages (1.5.2)\n"
     ]
    }
   ],
   "source": [
    "!pip install pytictoc"
   ]
  },
  {
   "cell_type": "code",
   "execution_count": 2,
   "metadata": {
    "id": "TtE3hMD0_-HW",
    "outputId": "0855dc32-50aa-4d63-988e-cc83a4f3d88b"
   },
   "outputs": [
    {
     "name": "stdout",
     "output_type": "stream",
     "text": [
      "Requirement already satisfied: tensorflow in c:\\programdata\\anaconda3\\lib\\site-packages (2.11.0)\n",
      "Requirement already satisfied: tensorflow-intel==2.11.0 in c:\\programdata\\anaconda3\\lib\\site-packages (from tensorflow) (2.11.0)\n",
      "Requirement already satisfied: astunparse>=1.6.0 in c:\\programdata\\anaconda3\\lib\\site-packages (from tensorflow-intel==2.11.0->tensorflow) (1.6.3)\n",
      "Requirement already satisfied: google-pasta>=0.1.1 in c:\\programdata\\anaconda3\\lib\\site-packages (from tensorflow-intel==2.11.0->tensorflow) (0.2.0)\n",
      "Requirement already satisfied: keras<2.12,>=2.11.0 in c:\\programdata\\anaconda3\\lib\\site-packages (from tensorflow-intel==2.11.0->tensorflow) (2.11.0)\n",
      "Requirement already satisfied: numpy>=1.20 in c:\\programdata\\anaconda3\\lib\\site-packages (from tensorflow-intel==2.11.0->tensorflow) (1.20.1)\n",
      "Requirement already satisfied: grpcio<2.0,>=1.24.3 in c:\\programdata\\anaconda3\\lib\\site-packages (from tensorflow-intel==2.11.0->tensorflow) (1.51.3)\n",
      "Requirement already satisfied: flatbuffers>=2.0 in c:\\programdata\\anaconda3\\lib\\site-packages (from tensorflow-intel==2.11.0->tensorflow) (23.3.3)\n",
      "Requirement already satisfied: setuptools in c:\\programdata\\anaconda3\\lib\\site-packages (from tensorflow-intel==2.11.0->tensorflow) (52.0.0.post20210125)\n",
      "Requirement already satisfied: six>=1.12.0 in c:\\programdata\\anaconda3\\lib\\site-packages (from tensorflow-intel==2.11.0->tensorflow) (1.15.0)\n",
      "Requirement already satisfied: packaging in c:\\programdata\\anaconda3\\lib\\site-packages (from tensorflow-intel==2.11.0->tensorflow) (20.9)\n",
      "Requirement already satisfied: tensorflow-io-gcs-filesystem>=0.23.1 in c:\\programdata\\anaconda3\\lib\\site-packages (from tensorflow-intel==2.11.0->tensorflow) (0.31.0)\n",
      "Requirement already satisfied: tensorflow-estimator<2.12,>=2.11.0 in c:\\programdata\\anaconda3\\lib\\site-packages (from tensorflow-intel==2.11.0->tensorflow) (2.11.0)\n",
      "Requirement already satisfied: tensorboard<2.12,>=2.11 in c:\\programdata\\anaconda3\\lib\\site-packages (from tensorflow-intel==2.11.0->tensorflow) (2.11.2)\n",
      "Requirement already satisfied: protobuf<3.20,>=3.9.2 in c:\\programdata\\anaconda3\\lib\\site-packages (from tensorflow-intel==2.11.0->tensorflow) (3.19.6)\n",
      "Requirement already satisfied: typing-extensions>=3.6.6 in c:\\programdata\\anaconda3\\lib\\site-packages (from tensorflow-intel==2.11.0->tensorflow) (3.7.4.3)\n",
      "Requirement already satisfied: opt-einsum>=2.3.2 in c:\\programdata\\anaconda3\\lib\\site-packages (from tensorflow-intel==2.11.0->tensorflow) (3.3.0)\n",
      "Requirement already satisfied: gast<=0.4.0,>=0.2.1 in c:\\programdata\\anaconda3\\lib\\site-packages (from tensorflow-intel==2.11.0->tensorflow) (0.4.0)\n",
      "Requirement already satisfied: h5py>=2.9.0 in c:\\programdata\\anaconda3\\lib\\site-packages (from tensorflow-intel==2.11.0->tensorflow) (2.10.0)\n",
      "Requirement already satisfied: absl-py>=1.0.0 in c:\\programdata\\anaconda3\\lib\\site-packages (from tensorflow-intel==2.11.0->tensorflow) (1.4.0)\n",
      "Requirement already satisfied: termcolor>=1.1.0 in c:\\programdata\\anaconda3\\lib\\site-packages (from tensorflow-intel==2.11.0->tensorflow) (2.2.0)\n",
      "Requirement already satisfied: wrapt>=1.11.0 in c:\\programdata\\anaconda3\\lib\\site-packages (from tensorflow-intel==2.11.0->tensorflow) (1.12.1)\n",
      "Requirement already satisfied: libclang>=13.0.0 in c:\\programdata\\anaconda3\\lib\\site-packages (from tensorflow-intel==2.11.0->tensorflow) (15.0.6.1)\n",
      "Requirement already satisfied: wheel<1.0,>=0.23.0 in c:\\programdata\\anaconda3\\lib\\site-packages (from astunparse>=1.6.0->tensorflow-intel==2.11.0->tensorflow) (0.36.2)\n",
      "Requirement already satisfied: tensorboard-plugin-wit>=1.6.0 in c:\\programdata\\anaconda3\\lib\\site-packages (from tensorboard<2.12,>=2.11->tensorflow-intel==2.11.0->tensorflow) (1.8.1)\n",
      "Requirement already satisfied: requests<3,>=2.21.0 in c:\\programdata\\anaconda3\\lib\\site-packages (from tensorboard<2.12,>=2.11->tensorflow-intel==2.11.0->tensorflow) (2.25.1)\n",
      "Requirement already satisfied: google-auth-oauthlib<0.5,>=0.4.1 in c:\\programdata\\anaconda3\\lib\\site-packages (from tensorboard<2.12,>=2.11->tensorflow-intel==2.11.0->tensorflow) (0.4.6)\n",
      "Requirement already satisfied: werkzeug>=1.0.1 in c:\\programdata\\anaconda3\\lib\\site-packages (from tensorboard<2.12,>=2.11->tensorflow-intel==2.11.0->tensorflow) (1.0.1)\n",
      "Requirement already satisfied: google-auth<3,>=1.6.3 in c:\\programdata\\anaconda3\\lib\\site-packages (from tensorboard<2.12,>=2.11->tensorflow-intel==2.11.0->tensorflow) (2.16.2)\n",
      "Requirement already satisfied: markdown>=2.6.8 in c:\\programdata\\anaconda3\\lib\\site-packages (from tensorboard<2.12,>=2.11->tensorflow-intel==2.11.0->tensorflow) (3.4.1)\n",
      "Requirement already satisfied: tensorboard-data-server<0.7.0,>=0.6.0 in c:\\programdata\\anaconda3\\lib\\site-packages (from tensorboard<2.12,>=2.11->tensorflow-intel==2.11.0->tensorflow) (0.6.1)\n",
      "Requirement already satisfied: rsa<5,>=3.1.4 in c:\\programdata\\anaconda3\\lib\\site-packages (from google-auth<3,>=1.6.3->tensorboard<2.12,>=2.11->tensorflow-intel==2.11.0->tensorflow) (4.9)\n",
      "Requirement already satisfied: pyasn1-modules>=0.2.1 in c:\\programdata\\anaconda3\\lib\\site-packages (from google-auth<3,>=1.6.3->tensorboard<2.12,>=2.11->tensorflow-intel==2.11.0->tensorflow) (0.2.8)\n",
      "Requirement already satisfied: cachetools<6.0,>=2.0.0 in c:\\programdata\\anaconda3\\lib\\site-packages (from google-auth<3,>=1.6.3->tensorboard<2.12,>=2.11->tensorflow-intel==2.11.0->tensorflow) (5.3.0)\n",
      "Requirement already satisfied: requests-oauthlib>=0.7.0 in c:\\programdata\\anaconda3\\lib\\site-packages (from google-auth-oauthlib<0.5,>=0.4.1->tensorboard<2.12,>=2.11->tensorflow-intel==2.11.0->tensorflow) (1.3.1)\n",
      "Requirement already satisfied: importlib-metadata>=4.4 in c:\\programdata\\anaconda3\\lib\\site-packages (from markdown>=2.6.8->tensorboard<2.12,>=2.11->tensorflow-intel==2.11.0->tensorflow) (6.0.0)\n",
      "Requirement already satisfied: zipp>=0.5 in c:\\programdata\\anaconda3\\lib\\site-packages (from importlib-metadata>=4.4->markdown>=2.6.8->tensorboard<2.12,>=2.11->tensorflow-intel==2.11.0->tensorflow) (3.4.1)\n",
      "Requirement already satisfied: pyasn1<0.5.0,>=0.4.6 in c:\\programdata\\anaconda3\\lib\\site-packages (from pyasn1-modules>=0.2.1->google-auth<3,>=1.6.3->tensorboard<2.12,>=2.11->tensorflow-intel==2.11.0->tensorflow) (0.4.8)\n",
      "Requirement already satisfied: certifi>=2017.4.17 in c:\\programdata\\anaconda3\\lib\\site-packages (from requests<3,>=2.21.0->tensorboard<2.12,>=2.11->tensorflow-intel==2.11.0->tensorflow) (2020.12.5)\n",
      "Requirement already satisfied: chardet<5,>=3.0.2 in c:\\programdata\\anaconda3\\lib\\site-packages (from requests<3,>=2.21.0->tensorboard<2.12,>=2.11->tensorflow-intel==2.11.0->tensorflow) (4.0.0)\n",
      "Requirement already satisfied: idna<3,>=2.5 in c:\\programdata\\anaconda3\\lib\\site-packages (from requests<3,>=2.21.0->tensorboard<2.12,>=2.11->tensorflow-intel==2.11.0->tensorflow) (2.10)\n",
      "Requirement already satisfied: urllib3<1.27,>=1.21.1 in c:\\programdata\\anaconda3\\lib\\site-packages (from requests<3,>=2.21.0->tensorboard<2.12,>=2.11->tensorflow-intel==2.11.0->tensorflow) (1.26.4)\n",
      "Requirement already satisfied: oauthlib>=3.0.0 in c:\\programdata\\anaconda3\\lib\\site-packages (from requests-oauthlib>=0.7.0->google-auth-oauthlib<0.5,>=0.4.1->tensorboard<2.12,>=2.11->tensorflow-intel==2.11.0->tensorflow) (3.2.2)\n",
      "Requirement already satisfied: pyparsing>=2.0.2 in c:\\programdata\\anaconda3\\lib\\site-packages (from packaging->tensorflow-intel==2.11.0->tensorflow) (2.4.7)\n"
     ]
    }
   ],
   "source": [
    "!pip install tensorflow"
   ]
  },
  {
   "cell_type": "code",
   "execution_count": 3,
   "metadata": {
    "id": "_z7kPblcHOH1"
   },
   "outputs": [],
   "source": [
    "import random\n",
    "import tensorflow as tf\n",
    "import pandas as pd\n",
    "from tensorflow import keras\n",
    "from keras import datasets, layers, models\n",
    "import matplotlib.pyplot as plt\n",
    "import numpy as np\n",
    "import warnings\n",
    "from pytictoc import TicToc\n",
    "warnings.filterwarnings( \"ignore\" )"
   ]
  },
  {
   "cell_type": "markdown",
   "metadata": {
    "id": "e7iTQt51HOH3"
   },
   "source": [
    "**Load the dataset**"
   ]
  },
  {
   "cell_type": "code",
   "execution_count": 4,
   "metadata": {
    "colab": {
     "base_uri": "https://localhost:8080/"
    },
    "executionInfo": {
     "elapsed": 799,
     "status": "ok",
     "timestamp": 1678467635038,
     "user": {
      "displayName": "Nazmul Hasan",
      "userId": "02122416256231585764"
     },
     "user_tz": 420
    },
    "id": "rPRPSMuwHOH4",
    "outputId": "106fdb96-7d3c-4d9b-ba7d-85d264a97f1f"
   },
   "outputs": [
    {
     "data": {
      "text/plain": [
       "((50000, 32, 32, 3), (50000,), (10000, 32, 32, 3), (10000,))"
      ]
     },
     "execution_count": 4,
     "metadata": {},
     "output_type": "execute_result"
    }
   ],
   "source": [
    "(X_train, y_train), (X_test,y_test) = datasets.cifar10.load_data()\n",
    "y_train = y_train.reshape(-1,)\n",
    "y_test = y_test.reshape(-1,)\n",
    "X_train.shape, y_train.shape, X_test.shape, y_test.shape"
   ]
  },
  {
   "cell_type": "markdown",
   "metadata": {
    "id": "gL5ypIWkHOIE"
   },
   "source": [
    "**Normalize the input data**"
   ]
  },
  {
   "cell_type": "code",
   "execution_count": 5,
   "metadata": {
    "id": "PxewI0kIHOIF"
   },
   "outputs": [],
   "source": [
    "X_train = X_train / 255.0\n",
    "X_test = X_test / 255.0"
   ]
  },
  {
   "cell_type": "markdown",
   "metadata": {
    "id": "Z_nl74yGFrHT"
   },
   "source": [
    "**Set directory to saved models**"
   ]
  },
  {
   "cell_type": "code",
   "execution_count": 6,
   "metadata": {
    "id": "Usv8lPonYXF0"
   },
   "outputs": [],
   "source": [
    "# from google.colab import drive\n",
    "# drive.mount('/content/gdrive')\n",
    "# %cd /content/gdrive/MyDrive/ECE 696B/Project - ECE696B\n",
    "# # %cd /content/gdrive/MyDrive/Colab Notebooks"
   ]
  },
  {
   "cell_type": "code",
   "execution_count": 7,
   "metadata": {
    "id": "DiuPFzjkDRUx",
    "outputId": "f51eb61f-de69-40ab-b783-db0bc084f705"
   },
   "outputs": [
    {
     "name": "stdout",
     "output_type": "stream",
     "text": [
      "C:\\Users\\nh202\\My Drive (nh202@arizona.edu)\\ECE 696B\\Project - ECE696B\n"
     ]
    }
   ],
   "source": [
    "%cd C:\\Users\\nh202\\My Drive (nh202@arizona.edu)\\ECE 696B\\Project - ECE696B"
   ]
  },
  {
   "cell_type": "code",
   "execution_count": 8,
   "metadata": {
    "id": "SAx4NoIYDgzZ"
   },
   "outputs": [],
   "source": [
    "from keras.models import load_model\n",
    "MLP_CIFAR10_base = load_model('MLP_CIFAR10.h5')\n",
    "MLP_CIFAR10_GNA_trained = load_model('MLP_CIFAR10_GNA_trained.h5')\n",
    "MLP_CIFAR10_FGSM_trained = load_model('MLP_CIFAR10_FGSM_trained.h5')\n",
    "# MLP_CIFAR10_CW_trained = load_model('MLP_CIFAR10_CW_trained.h5')"
   ]
  },
  {
   "cell_type": "markdown",
   "metadata": {
    "id": "G1qA-8V5Z-eg"
   },
   "source": [
    "# Evaluate performance of MLP models"
   ]
  },
  {
   "cell_type": "markdown",
   "metadata": {
    "id": "uFedzBTJFx7-"
   },
   "source": [
    "**Performance on GNA adversarial examples**"
   ]
  },
  {
   "cell_type": "code",
   "execution_count": 9,
   "metadata": {
    "id": "rQRTiDohFlGt",
    "outputId": "4cd9ad6f-0ded-4969-89aa-924fbd1b0cde"
   },
   "outputs": [
    {
     "name": "stdout",
     "output_type": "stream",
     "text": [
      "C:\\Users\\nh202\\OneDrive - University of Arizona\\Adversairal Examples - ECE 696B\\GNA\n"
     ]
    }
   ],
   "source": [
    "%cd C:\\Users\\nh202\\OneDrive - University of Arizona\\Adversairal Examples - ECE 696B\\GNA"
   ]
  },
  {
   "cell_type": "code",
   "execution_count": 10,
   "metadata": {
    "id": "6kV976-9EU-V",
    "outputId": "3f2cce5b-6b46-4da4-b123-a044bd676254"
   },
   "outputs": [
    {
     "name": "stdout",
     "output_type": "stream",
     "text": [
      "Sigma value: 0.0\n",
      "Average l2 distance of the perturbation: 0.0\n",
      "\n",
      "Test accuracy on perturbed data\n",
      "32/32 [==============================] - 1s 13ms/step - loss: 1.4203 - accuracy: 0.4930\n",
      "32/32 [==============================] - 1s 14ms/step - loss: 1.4631 - accuracy: 0.4750\n",
      "32/32 [==============================] - 1s 13ms/step - loss: 1.5407 - accuracy: 0.4430\n",
      "\n",
      "\n",
      "Sigma value: 0.1\n",
      "Average l2 distance of the perturbation: 3.0837902228127985\n",
      "\n",
      "Test accuracy on perturbed data\n",
      "32/32 [==============================] - 1s 14ms/step - loss: 1.4430 - accuracy: 0.4910\n",
      "32/32 [==============================] - 1s 21ms/step - loss: 1.4839 - accuracy: 0.4890\n",
      "32/32 [==============================] - 1s 15ms/step - loss: 1.5674 - accuracy: 0.4120\n",
      "\n",
      "\n",
      "Sigma value: 0.2\n",
      "Average l2 distance of the perturbation: 5.828913201938512\n",
      "\n",
      "Test accuracy on perturbed data\n",
      "32/32 [==============================] - 0s 14ms/step - loss: 1.4851 - accuracy: 0.4650\n",
      "32/32 [==============================] - 0s 14ms/step - loss: 1.5701 - accuracy: 0.4380\n",
      "32/32 [==============================] - 1s 19ms/step - loss: 1.6801 - accuracy: 0.3950\n",
      "\n",
      "\n",
      "Sigma value: 0.3\n",
      "Average l2 distance of the perturbation: 8.100654975115406\n",
      "\n",
      "Test accuracy on perturbed data\n",
      "32/32 [==============================] - 0s 14ms/step - loss: 1.6046 - accuracy: 0.4340\n",
      "32/32 [==============================] - 0s 13ms/step - loss: 1.6737 - accuracy: 0.4060\n",
      "32/32 [==============================] - 0s 13ms/step - loss: 1.8057 - accuracy: 0.3450\n",
      "\n",
      "\n",
      "Sigma value: 0.4\n",
      "Average l2 distance of the perturbation: 9.856309148560845\n",
      "\n",
      "Test accuracy on perturbed data\n",
      "32/32 [==============================] - 0s 13ms/step - loss: 1.6977 - accuracy: 0.4210\n",
      "32/32 [==============================] - 1s 16ms/step - loss: 1.8059 - accuracy: 0.3610\n",
      "32/32 [==============================] - 1s 14ms/step - loss: 1.9503 - accuracy: 0.3160\n",
      "\n",
      "\n",
      "Sigma value: 0.5\n",
      "Average l2 distance of the perturbation: 11.18933107493163\n",
      "\n",
      "Test accuracy on perturbed data\n",
      "32/32 [==============================] - 0s 13ms/step - loss: 1.8230 - accuracy: 0.3790\n",
      "32/32 [==============================] - 0s 14ms/step - loss: 1.9719 - accuracy: 0.3060\n",
      "32/32 [==============================] - 0s 13ms/step - loss: 2.0853 - accuracy: 0.2800\n",
      "\n",
      "\n",
      "Sigma value: 0.6\n",
      "Average l2 distance of the perturbation: 12.185753371618615\n",
      "\n",
      "Test accuracy on perturbed data\n",
      "32/32 [==============================] - 1s 16ms/step - loss: 1.8616 - accuracy: 0.3420\n",
      "32/32 [==============================] - 0s 13ms/step - loss: 1.9944 - accuracy: 0.2960\n",
      "32/32 [==============================] - 1s 17ms/step - loss: 2.1991 - accuracy: 0.2250\n",
      "\n",
      "\n",
      "Sigma value: 0.7\n",
      "Average l2 distance of the perturbation: 12.947098414009078\n",
      "\n",
      "Test accuracy on perturbed data\n",
      "32/32 [==============================] - 0s 14ms/step - loss: 2.0137 - accuracy: 0.2950\n",
      "32/32 [==============================] - 1s 14ms/step - loss: 2.1815 - accuracy: 0.2340\n",
      "32/32 [==============================] - 1s 18ms/step - loss: 2.2586 - accuracy: 0.2120\n",
      "\n",
      "\n",
      "Sigma value: 0.8\n",
      "Average l2 distance of the perturbation: 13.5429253990039\n",
      "\n",
      "Test accuracy on perturbed data\n",
      "32/32 [==============================] - 1s 15ms/step - loss: 2.0885 - accuracy: 0.2750\n",
      "32/32 [==============================] - 1s 15ms/step - loss: 2.2355 - accuracy: 0.2470\n",
      "32/32 [==============================] - 1s 16ms/step - loss: 2.3494 - accuracy: 0.1880\n",
      "\n",
      "\n",
      "Sigma value: 0.9\n",
      "Average l2 distance of the perturbation: 14.018838013436627\n",
      "\n",
      "Test accuracy on perturbed data\n",
      "32/32 [==============================] - 0s 14ms/step - loss: 2.1534 - accuracy: 0.2540\n",
      "32/32 [==============================] - 0s 13ms/step - loss: 2.3107 - accuracy: 0.2120\n",
      "32/32 [==============================] - 0s 13ms/step - loss: 2.4174 - accuracy: 0.1870\n",
      "\n",
      "\n",
      "Sigma value: 1.0\n",
      "Average l2 distance of the perturbation: 14.408837474899961\n",
      "\n",
      "Test accuracy on perturbed data\n",
      "32/32 [==============================] - 1s 15ms/step - loss: 2.1941 - accuracy: 0.2280\n",
      "32/32 [==============================] - 0s 13ms/step - loss: 2.3776 - accuracy: 0.1940\n",
      "32/32 [==============================] - 1s 15ms/step - loss: 2.4520 - accuracy: 0.1760\n",
      "\n",
      "\n"
     ]
    }
   ],
   "source": [
    "indexes = range(1000)\n",
    "sigmas = np.arange(0,1.1,0.1)\n",
    "stored_results = []\n",
    "for i in sigmas:\n",
    "  print(f'Sigma value: {np.round(i,1)}')\n",
    "  stored_results.append(i)\n",
    "    \n",
    "  filename = 'CIFAR10_X_test_noisy_GNA_sigma' + str(np.round(i,1)) + '.npy'\n",
    "  X_test_noisy = np.load(filename)\n",
    "  \n",
    "  avg_l2_norm = np.mean(np.sqrt(np.sum((X_test_noisy-X_test[indexes])**2, axis=(1,2))))\n",
    "  stored_results.append(avg_l2_norm)\n",
    "  print(\"Average l2 distance of the perturbation:\", avg_l2_norm)\n",
    "\n",
    "  print('\\nTest accuracy on perturbed data')\n",
    "  _,accuracy = MLP_CIFAR10_base.evaluate(X_test_noisy,y_test[indexes])\n",
    "  stored_results.append(accuracy)\n",
    "\n",
    "  _,accuracy = MLP_CIFAR10_GNA_trained.evaluate(X_test_noisy,y_test[indexes])\n",
    "  stored_results.append(accuracy)\n",
    "\n",
    "  _,accuracy = MLP_CIFAR10_FGSM_trained.evaluate(X_test_noisy,y_test[indexes])\n",
    "  stored_results.append(accuracy)\n",
    "\n",
    "#   _,accuracy = MLP_CIFAR10_CW_trained.evaluate(X_test_noisy,y_test[indexes])\n",
    "#   stored_results.append(accuracy)\n",
    "\n",
    "  print('\\n')"
   ]
  },
  {
   "cell_type": "code",
   "execution_count": 11,
   "metadata": {
    "id": "ISyENOQPEovC",
    "outputId": "c33fc48c-81be-4b82-edf7-bc5eb1503259"
   },
   "outputs": [
    {
     "data": {
      "text/html": [
       "<div>\n",
       "<style scoped>\n",
       "    .dataframe tbody tr th:only-of-type {\n",
       "        vertical-align: middle;\n",
       "    }\n",
       "\n",
       "    .dataframe tbody tr th {\n",
       "        vertical-align: top;\n",
       "    }\n",
       "\n",
       "    .dataframe thead th {\n",
       "        text-align: right;\n",
       "    }\n",
       "</style>\n",
       "<table border=\"1\" class=\"dataframe\">\n",
       "  <thead>\n",
       "    <tr style=\"text-align: right;\">\n",
       "      <th></th>\n",
       "      <th>sigma</th>\n",
       "      <th>avg_l2_norm</th>\n",
       "      <th>MLP_CIFAR10_base</th>\n",
       "      <th>MLP_CIFAR10_GNA_trained</th>\n",
       "      <th>MLP_CIFAR10_FGSM_trained</th>\n",
       "    </tr>\n",
       "  </thead>\n",
       "  <tbody>\n",
       "    <tr>\n",
       "      <th>0</th>\n",
       "      <td>0.0</td>\n",
       "      <td>0.000000</td>\n",
       "      <td>0.493</td>\n",
       "      <td>0.475</td>\n",
       "      <td>0.443</td>\n",
       "    </tr>\n",
       "    <tr>\n",
       "      <th>1</th>\n",
       "      <td>0.1</td>\n",
       "      <td>3.083790</td>\n",
       "      <td>0.491</td>\n",
       "      <td>0.489</td>\n",
       "      <td>0.412</td>\n",
       "    </tr>\n",
       "    <tr>\n",
       "      <th>2</th>\n",
       "      <td>0.2</td>\n",
       "      <td>5.828913</td>\n",
       "      <td>0.465</td>\n",
       "      <td>0.438</td>\n",
       "      <td>0.395</td>\n",
       "    </tr>\n",
       "    <tr>\n",
       "      <th>3</th>\n",
       "      <td>0.3</td>\n",
       "      <td>8.100655</td>\n",
       "      <td>0.434</td>\n",
       "      <td>0.406</td>\n",
       "      <td>0.345</td>\n",
       "    </tr>\n",
       "    <tr>\n",
       "      <th>4</th>\n",
       "      <td>0.4</td>\n",
       "      <td>9.856309</td>\n",
       "      <td>0.421</td>\n",
       "      <td>0.361</td>\n",
       "      <td>0.316</td>\n",
       "    </tr>\n",
       "    <tr>\n",
       "      <th>5</th>\n",
       "      <td>0.5</td>\n",
       "      <td>11.189331</td>\n",
       "      <td>0.379</td>\n",
       "      <td>0.306</td>\n",
       "      <td>0.280</td>\n",
       "    </tr>\n",
       "    <tr>\n",
       "      <th>6</th>\n",
       "      <td>0.6</td>\n",
       "      <td>12.185753</td>\n",
       "      <td>0.342</td>\n",
       "      <td>0.296</td>\n",
       "      <td>0.225</td>\n",
       "    </tr>\n",
       "    <tr>\n",
       "      <th>7</th>\n",
       "      <td>0.7</td>\n",
       "      <td>12.947098</td>\n",
       "      <td>0.295</td>\n",
       "      <td>0.234</td>\n",
       "      <td>0.212</td>\n",
       "    </tr>\n",
       "    <tr>\n",
       "      <th>8</th>\n",
       "      <td>0.8</td>\n",
       "      <td>13.542925</td>\n",
       "      <td>0.275</td>\n",
       "      <td>0.247</td>\n",
       "      <td>0.188</td>\n",
       "    </tr>\n",
       "    <tr>\n",
       "      <th>9</th>\n",
       "      <td>0.9</td>\n",
       "      <td>14.018838</td>\n",
       "      <td>0.254</td>\n",
       "      <td>0.212</td>\n",
       "      <td>0.187</td>\n",
       "    </tr>\n",
       "    <tr>\n",
       "      <th>10</th>\n",
       "      <td>1.0</td>\n",
       "      <td>14.408837</td>\n",
       "      <td>0.228</td>\n",
       "      <td>0.194</td>\n",
       "      <td>0.176</td>\n",
       "    </tr>\n",
       "  </tbody>\n",
       "</table>\n",
       "</div>"
      ],
      "text/plain": [
       "    sigma  avg_l2_norm  MLP_CIFAR10_base  MLP_CIFAR10_GNA_trained  \\\n",
       "0     0.0     0.000000             0.493                    0.475   \n",
       "1     0.1     3.083790             0.491                    0.489   \n",
       "2     0.2     5.828913             0.465                    0.438   \n",
       "3     0.3     8.100655             0.434                    0.406   \n",
       "4     0.4     9.856309             0.421                    0.361   \n",
       "5     0.5    11.189331             0.379                    0.306   \n",
       "6     0.6    12.185753             0.342                    0.296   \n",
       "7     0.7    12.947098             0.295                    0.234   \n",
       "8     0.8    13.542925             0.275                    0.247   \n",
       "9     0.9    14.018838             0.254                    0.212   \n",
       "10    1.0    14.408837             0.228                    0.194   \n",
       "\n",
       "    MLP_CIFAR10_FGSM_trained  \n",
       "0                      0.443  \n",
       "1                      0.412  \n",
       "2                      0.395  \n",
       "3                      0.345  \n",
       "4                      0.316  \n",
       "5                      0.280  \n",
       "6                      0.225  \n",
       "7                      0.212  \n",
       "8                      0.188  \n",
       "9                      0.187  \n",
       "10                     0.176  "
      ]
     },
     "execution_count": 11,
     "metadata": {},
     "output_type": "execute_result"
    }
   ],
   "source": [
    "stored_results = np.array(stored_results)\n",
    "stored_results = stored_results.reshape(-1,5)\n",
    "# stored_results = stored_results.reshape(-1,6)\n",
    "df = pd.DataFrame(stored_results, columns = ['sigma','avg_l2_norm','MLP_CIFAR10_base',\\\n",
    "                                 'MLP_CIFAR10_GNA_trained','MLP_CIFAR10_FGSM_trained'])\n",
    "# df = pd.DataFrame(stored_results, columns = ['sigma','avg_l2_norm','MLP_CIFAR10_base',\\\n",
    "#                                  'MLP_CIFAR10_GNA_trained','MLP_CIFAR10_FGSM_trained','MLP_CIFAR10_CW_trained'])\n",
    "df.to_csv('Performance of adversarially trained MLP models on GNA [CIFAR10].csv', index=False)\n",
    "df"
   ]
  },
  {
   "cell_type": "code",
   "execution_count": 12,
   "metadata": {
    "id": "Q6CDjIErGGcJ",
    "outputId": "1e164a31-1ea0-4597-bf69-1de38696b019"
   },
   "outputs": [
    {
     "data": {
      "image/png": "[encoded data removed]",
      "text/plain": [
       "<Figure size 432x288 with 1 Axes>"
      ]
     },
     "metadata": {
      "needs_background": "light"
     },
     "output_type": "display_data"
    }
   ],
   "source": [
    "df = pd.read_csv('Performance of adversarially trained MLP models on GNA [CIFAR10].csv')\n",
    "plt.plot(df['avg_l2_norm'],df['MLP_CIFAR10_base'],'o--', color = 'C1')\n",
    "plt.plot(df['avg_l2_norm'],df['MLP_CIFAR10_GNA_trained'],'*-', color = 'C1')\n",
    "plt.plot(df['avg_l2_norm'],df['MLP_CIFAR10_FGSM_trained'],'v-', color = 'C1')\n",
    "# plt.plot(df['avg_l2_norm'],df['MLP_CIFAR10_CW_trained'],'d-', color = 'C1')\n",
    "\n",
    "\n",
    "plt.xlabel('Average $l_2$ norm of the perturbation')\n",
    "plt.ylabel('Test accuracy')\n",
    "plt.ylim([-0.1, 1.1])\n",
    "plt.legend(['MLP_CIFAR10 (base)', 'MLP_CIFAR10 (GNA trained)',\\\n",
    "            'MLP_CIFAR10 (FGSM trained)'])\n",
    "# plt.legend(['MLP_CIFAR10 (base)', 'MLP_CIFAR10 (GNA trained)',\\\n",
    "#             'MLP_CIFAR10 (FGSM trained)', 'MLP_CIFAR10 (CW trained)'])\n",
    "plt.title('Effect of Gaussian noise attack on CIFAR10')\n",
    "plt.savefig('Adversarially trained MLP models GNA on CIFAR10 [l2 norm]', dpi=600)\n",
    "plt.show()"
   ]
  },
  {
   "cell_type": "markdown",
   "metadata": {
    "id": "bCCjdjo6SejE"
   },
   "source": [
    "**Performance on FGSM adversarial examples**"
   ]
  },
  {
   "cell_type": "code",
   "execution_count": 13,
   "metadata": {
    "id": "56o6h_rQSejF",
    "outputId": "fee8392f-8f69-4f1b-cc9f-f678adb0024d"
   },
   "outputs": [
    {
     "name": "stdout",
     "output_type": "stream",
     "text": [
      "C:\\Users\\nh202\\OneDrive - University of Arizona\\Adversairal Examples - ECE 696B\\FGSM\n"
     ]
    }
   ],
   "source": [
    "%cd C:\\Users\\nh202\\OneDrive - University of Arizona\\Adversairal Examples - ECE 696B\\FGSM"
   ]
  },
  {
   "cell_type": "code",
   "execution_count": 14,
   "metadata": {
    "id": "gl-lifnGSejF",
    "outputId": "13dc1cae-a1de-4826-fbaf-66f810f2a182"
   },
   "outputs": [
    {
     "name": "stdout",
     "output_type": "stream",
     "text": [
      "eps value: 0.1\n",
      "32/32 [==============================] - 1s 19ms/step - loss: 5.0450 - accuracy: 0.0030\n",
      "32/32 [==============================] - 1s 17ms/step - loss: 4.7297 - accuracy: 0.0010\n",
      "32/32 [==============================] - 0s 14ms/step - loss: 0.5734 - accuracy: 0.8390\n",
      "eps value: 0.2\n",
      "32/32 [==============================] - 0s 13ms/step - loss: 7.1469 - accuracy: 0.0020\n",
      "32/32 [==============================] - 0s 13ms/step - loss: 7.5803 - accuracy: 0.0120\n",
      "32/32 [==============================] - 0s 14ms/step - loss: 0.3474 - accuracy: 0.8860\n",
      "eps value: 0.3\n",
      "32/32 [==============================] - 0s 14ms/step - loss: 13.4887 - accuracy: 0.0070\n",
      "32/32 [==============================] - 0s 13ms/step - loss: 13.6822 - accuracy: 0.0240\n",
      "32/32 [==============================] - 0s 14ms/step - loss: 0.2985 - accuracy: 0.8980\n",
      "eps value: 0.4\n",
      "32/32 [==============================] - 0s 13ms/step - loss: 24.5157 - accuracy: 0.0160\n",
      "32/32 [==============================] - 0s 13ms/step - loss: 22.0300 - accuracy: 0.0330\n",
      "32/32 [==============================] - 0s 13ms/step - loss: 0.3001 - accuracy: 0.8970\n",
      "eps value: 0.5\n",
      "32/32 [==============================] - 0s 13ms/step - loss: 36.6900 - accuracy: 0.0150\n",
      "32/32 [==============================] - 0s 13ms/step - loss: 30.6608 - accuracy: 0.0340\n",
      "32/32 [==============================] - 0s 13ms/step - loss: 0.3161 - accuracy: 0.8970\n",
      "eps value: 0.6\n",
      "32/32 [==============================] - 0s 13ms/step - loss: 47.5019 - accuracy: 0.0190\n",
      "32/32 [==============================] - 1s 17ms/step - loss: 38.0959 - accuracy: 0.0360\n",
      "32/32 [==============================] - 1s 16ms/step - loss: 0.3470 - accuracy: 0.8860\n",
      "eps value: 0.7\n",
      "32/32 [==============================] - 0s 14ms/step - loss: 55.6789 - accuracy: 0.0210\n",
      "32/32 [==============================] - 0s 13ms/step - loss: 43.7086 - accuracy: 0.0380\n",
      "32/32 [==============================] - 0s 13ms/step - loss: 0.3857 - accuracy: 0.8830\n",
      "eps value: 0.8\n",
      "32/32 [==============================] - 1s 15ms/step - loss: 60.9183 - accuracy: 0.0210\n",
      "32/32 [==============================] - 0s 13ms/step - loss: 47.3369 - accuracy: 0.0390\n",
      "32/32 [==============================] - 1s 15ms/step - loss: 0.4167 - accuracy: 0.8780\n",
      "eps value: 0.9\n",
      "32/32 [==============================] - 1s 14ms/step - loss: 63.6668 - accuracy: 0.0230\n",
      "32/32 [==============================] - 0s 13ms/step - loss: 49.2099 - accuracy: 0.0390\n",
      "32/32 [==============================] - 1s 15ms/step - loss: 0.4328 - accuracy: 0.8730\n",
      "eps value: 1.0\n",
      "32/32 [==============================] - 0s 13ms/step - loss: 64.6867 - accuracy: 0.0230\n",
      "32/32 [==============================] - 0s 12ms/step - loss: 49.8749 - accuracy: 0.0390\n",
      "32/32 [==============================] - 1s 16ms/step - loss: 0.4371 - accuracy: 0.8700\n"
     ]
    }
   ],
   "source": [
    "indexes = range(1000)\n",
    "stored_results = []\n",
    "for eps in np.arange(0.1,1.1,0.1):\n",
    "    \n",
    "  print(f'eps value: {np.round(eps,1)}')\n",
    "  stored_results.append(eps)\n",
    "\n",
    "  np_array_filename = 'CIFAR10_FGSM_'+ str(len(indexes)) +'_adv_examples_eps_'+ str(round(eps,1)) + '.npz'\n",
    "  data = np.load(np_array_filename)\n",
    "\n",
    "  # access the arrays using their keys\n",
    "  X_test_FGSM_MLP = data['X_test_FGSM_MLP']\n",
    "\n",
    "  avg_l2_norm_MLP = np.mean(np.sqrt(np.sum((X_test_FGSM_MLP-X_test[:len(indexes)])**2, axis=(1,2))))\n",
    "  stored_results.append(avg_l2_norm_MLP)\n",
    "    \n",
    "  _,accuracy = MLP_CIFAR10_base.evaluate(X_test_FGSM_MLP[indexes],y_test[indexes])\n",
    "  stored_results.append(accuracy)\n",
    "\n",
    "  _,accuracy = MLP_CIFAR10_GNA_trained.evaluate(X_test_FGSM_MLP[indexes],y_test[indexes])\n",
    "  stored_results.append(accuracy)\n",
    "\n",
    "  _,accuracy = MLP_CIFAR10_FGSM_trained.evaluate(X_test_FGSM_MLP[indexes],y_test[indexes])\n",
    "  stored_results.append(accuracy)\n",
    "\n",
    "#   _,accuracy = MLP_CIFAR10_CW_trained.evaluate(X_test_FGSM_MLP[indexes],y_test[indexes])\n",
    "#   stored_results.append(accuracy)\n",
    "    "
   ]
  },
  {
   "cell_type": "code",
   "execution_count": 15,
   "metadata": {
    "id": "tHn2FCcJSejG",
    "outputId": "6ca48123-972a-42b6-e334-58c5c07cfc4d"
   },
   "outputs": [
    {
     "data": {
      "text/html": [
       "<div>\n",
       "<style scoped>\n",
       "    .dataframe tbody tr th:only-of-type {\n",
       "        vertical-align: middle;\n",
       "    }\n",
       "\n",
       "    .dataframe tbody tr th {\n",
       "        vertical-align: top;\n",
       "    }\n",
       "\n",
       "    .dataframe thead th {\n",
       "        text-align: right;\n",
       "    }\n",
       "</style>\n",
       "<table border=\"1\" class=\"dataframe\">\n",
       "  <thead>\n",
       "    <tr style=\"text-align: right;\">\n",
       "      <th></th>\n",
       "      <th>sigma</th>\n",
       "      <th>avg_l2_norm</th>\n",
       "      <th>MLP_CIFAR10_base</th>\n",
       "      <th>MLP_CIFAR10_GNA_trained</th>\n",
       "      <th>MLP_CIFAR10_FGSM_trained</th>\n",
       "    </tr>\n",
       "  </thead>\n",
       "  <tbody>\n",
       "    <tr>\n",
       "      <th>0</th>\n",
       "      <td>0.1</td>\n",
       "      <td>3.134206</td>\n",
       "      <td>0.003</td>\n",
       "      <td>0.001</td>\n",
       "      <td>0.839</td>\n",
       "    </tr>\n",
       "    <tr>\n",
       "      <th>1</th>\n",
       "      <td>0.2</td>\n",
       "      <td>6.115572</td>\n",
       "      <td>0.002</td>\n",
       "      <td>0.012</td>\n",
       "      <td>0.886</td>\n",
       "    </tr>\n",
       "    <tr>\n",
       "      <th>2</th>\n",
       "      <td>0.3</td>\n",
       "      <td>8.867736</td>\n",
       "      <td>0.007</td>\n",
       "      <td>0.024</td>\n",
       "      <td>0.898</td>\n",
       "    </tr>\n",
       "    <tr>\n",
       "      <th>3</th>\n",
       "      <td>0.4</td>\n",
       "      <td>11.324848</td>\n",
       "      <td>0.016</td>\n",
       "      <td>0.033</td>\n",
       "      <td>0.897</td>\n",
       "    </tr>\n",
       "    <tr>\n",
       "      <th>4</th>\n",
       "      <td>0.5</td>\n",
       "      <td>13.434837</td>\n",
       "      <td>0.015</td>\n",
       "      <td>0.034</td>\n",
       "      <td>0.897</td>\n",
       "    </tr>\n",
       "    <tr>\n",
       "      <th>5</th>\n",
       "      <td>0.6</td>\n",
       "      <td>15.156845</td>\n",
       "      <td>0.019</td>\n",
       "      <td>0.036</td>\n",
       "      <td>0.886</td>\n",
       "    </tr>\n",
       "    <tr>\n",
       "      <th>6</th>\n",
       "      <td>0.7</td>\n",
       "      <td>16.451214</td>\n",
       "      <td>0.021</td>\n",
       "      <td>0.038</td>\n",
       "      <td>0.883</td>\n",
       "    </tr>\n",
       "    <tr>\n",
       "      <th>7</th>\n",
       "      <td>0.8</td>\n",
       "      <td>17.313297</td>\n",
       "      <td>0.021</td>\n",
       "      <td>0.039</td>\n",
       "      <td>0.878</td>\n",
       "    </tr>\n",
       "    <tr>\n",
       "      <th>8</th>\n",
       "      <td>0.9</td>\n",
       "      <td>17.781821</td>\n",
       "      <td>0.023</td>\n",
       "      <td>0.039</td>\n",
       "      <td>0.873</td>\n",
       "    </tr>\n",
       "    <tr>\n",
       "      <th>9</th>\n",
       "      <td>1.0</td>\n",
       "      <td>17.941675</td>\n",
       "      <td>0.023</td>\n",
       "      <td>0.039</td>\n",
       "      <td>0.870</td>\n",
       "    </tr>\n",
       "  </tbody>\n",
       "</table>\n",
       "</div>"
      ],
      "text/plain": [
       "   sigma  avg_l2_norm  MLP_CIFAR10_base  MLP_CIFAR10_GNA_trained  \\\n",
       "0    0.1     3.134206             0.003                    0.001   \n",
       "1    0.2     6.115572             0.002                    0.012   \n",
       "2    0.3     8.867736             0.007                    0.024   \n",
       "3    0.4    11.324848             0.016                    0.033   \n",
       "4    0.5    13.434837             0.015                    0.034   \n",
       "5    0.6    15.156845             0.019                    0.036   \n",
       "6    0.7    16.451214             0.021                    0.038   \n",
       "7    0.8    17.313297             0.021                    0.039   \n",
       "8    0.9    17.781821             0.023                    0.039   \n",
       "9    1.0    17.941675             0.023                    0.039   \n",
       "\n",
       "   MLP_CIFAR10_FGSM_trained  \n",
       "0                     0.839  \n",
       "1                     0.886  \n",
       "2                     0.898  \n",
       "3                     0.897  \n",
       "4                     0.897  \n",
       "5                     0.886  \n",
       "6                     0.883  \n",
       "7                     0.878  \n",
       "8                     0.873  \n",
       "9                     0.870  "
      ]
     },
     "execution_count": 15,
     "metadata": {},
     "output_type": "execute_result"
    }
   ],
   "source": [
    "stored_results = np.array(stored_results)\n",
    "stored_results = stored_results.reshape(-1,5)\n",
    "# stored_results = stored_results.reshape(-1,6)\n",
    "df = pd.DataFrame(stored_results, columns = ['sigma','avg_l2_norm','MLP_CIFAR10_base',\\\n",
    "                                 'MLP_CIFAR10_GNA_trained','MLP_CIFAR10_FGSM_trained'])\n",
    "# df = pd.DataFrame(stored_results, columns = ['sigma','avg_l2_norm','MLP_CIFAR10_base',\\\n",
    "#                                  'MLP_CIFAR10_GNA_trained','MLP_CIFAR10_FGSM_trained','MLP_CIFAR10_CW_trained'])\n",
    "df.to_csv('Performance of adversarially trained MLP models on FGSM [CIFAR10].csv', index=False)\n",
    "df"
   ]
  },
  {
   "cell_type": "code",
   "execution_count": 16,
   "metadata": {
    "id": "Y1oJzirVSejG",
    "outputId": "0581bfa3-9768-4292-ebf6-aabc18b3f1c9"
   },
   "outputs": [
    {
     "name": "stdout",
     "output_type": "stream",
     "text": [
      "Test accuracy on unperturbed data\n",
      "32/32 [==============================] - 1s 17ms/step - loss: 1.4203 - accuracy: 0.4930\n",
      "32/32 [==============================] - 0s 10ms/step - loss: 1.4631 - accuracy: 0.4750\n",
      "32/32 [==============================] - 1s 16ms/step - loss: 1.5407 - accuracy: 0.4430\n"
     ]
    },
    {
     "data": {
      "image/png": "[encoded data removed]",
      "text/plain": [
       "<Figure size 432x288 with 1 Axes>"
      ]
     },
     "metadata": {
      "needs_background": "light"
     },
     "output_type": "display_data"
    }
   ],
   "source": [
    "df = pd.read_csv('Performance of adversarially trained MLP models on FGSM [CIFAR10].csv')\n",
    "\n",
    "df = df.shift(1)\n",
    "print('Test accuracy on unperturbed data')\n",
    "_, accuracy_base = MLP_CIFAR10_base.evaluate(X_test[indexes],y_test[indexes]);\n",
    "_, accuracy_GNA_trained = MLP_CIFAR10_GNA_trained.evaluate(X_test[indexes],y_test[indexes]);\n",
    "_, accuracy_FGSM_trained = MLP_CIFAR10_FGSM_trained.evaluate(X_test[indexes],y_test[indexes]);\n",
    "# _, accuracy_CW_trained = MLP_CIFAR10_CW_trained.evaluate(X_test[indexes],y_test[indexes]);\n",
    "\n",
    "df.iloc[0] = [0, 0, accuracy_base, accuracy_GNA_trained, accuracy_FGSM_trained]\n",
    "# df.iloc[0] = [0, 0, accuracy_base, accuracy_GNA_trained, accuracy_FGSM_trained, accuracy_CW_trained]\n",
    "\n",
    "plt.plot(df['avg_l2_norm'],df['MLP_CIFAR10_base'],'o--', color = 'C1')\n",
    "plt.plot(df['avg_l2_norm'],df['MLP_CIFAR10_GNA_trained'],'*-', color = 'C1')\n",
    "plt.plot(df['avg_l2_norm'],df['MLP_CIFAR10_FGSM_trained'],'v-', color = 'C1')\n",
    "# plt.plot(df['avg_l2_norm'],df['MLP_CIFAR10_CW_trained'],'d-', color = 'C1')\n",
    "\n",
    "\n",
    "plt.xlabel('Average $l_2$ norm of the perturbation')\n",
    "plt.ylabel('Test accuracy')\n",
    "plt.ylim([-0.1, 1.1])\n",
    "plt.legend(['MLP_CIFAR10 (base)', 'MLP_CIFAR10 (GNA trained)',\\\n",
    "            'MLP_CIFAR10 (FGSM trained)'])\n",
    "# plt.legend(['MLP_CIFAR10 (base)', 'MLP_CIFAR10 (GNA trained)',\\\n",
    "#             'MLP_CIFAR10 (FGSM trained)', 'MLP_CIFAR10 (CW trained)'])\n",
    "plt.title('Effect of FGSM attack on CIFAR10')\n",
    "plt.savefig('Adversarially trained MLP models FGSM on CIFAR10 [l2 norm]', dpi=600)\n",
    "plt.show()"
   ]
  },
  {
   "cell_type": "markdown",
   "metadata": {
    "id": "roaZ62EVSejG"
   },
   "source": [
    "**Performance on CW adversarial examples**"
   ]
  },
  {
   "cell_type": "code",
   "execution_count": 17,
   "metadata": {
    "id": "4xxSD7ldSejH",
    "outputId": "946d0e8c-ea66-455d-9580-792ec91e7c61"
   },
   "outputs": [
    {
     "name": "stdout",
     "output_type": "stream",
     "text": [
      "C:\\Users\\nh202\\OneDrive - University of Arizona\\Adversairal Examples - ECE 696B\\CW\n"
     ]
    }
   ],
   "source": [
    "%cd C:\\Users\\nh202\\OneDrive - University of Arizona\\Adversairal Examples - ECE 696B\\CW"
   ]
  },
  {
   "cell_type": "code",
   "execution_count": 18,
   "metadata": {
    "id": "nVTG1CCYSejH",
    "outputId": "581ad084-dbc1-432a-fbba-edaf55f5f12e"
   },
   "outputs": [
    {
     "name": "stdout",
     "output_type": "stream",
     "text": [
      "32/32 [==============================] - 0s 13ms/step - loss: 1.5886 - accuracy: 0.2030\n",
      "32/32 [==============================] - 0s 13ms/step - loss: 1.5775 - accuracy: 0.4130\n",
      "32/32 [==============================] - 1s 15ms/step - loss: 1.5342 - accuracy: 0.4480\n",
      "32/32 [==============================] - 1s 18ms/step - loss: 1.5944 - accuracy: 0.2070\n",
      "32/32 [==============================] - 1s 19ms/step - loss: 1.5804 - accuracy: 0.4090\n",
      "32/32 [==============================] - 1s 16ms/step - loss: 1.5350 - accuracy: 0.4480\n",
      "32/32 [==============================] - 0s 13ms/step - loss: 1.6004 - accuracy: 0.2040\n",
      "32/32 [==============================] - 0s 14ms/step - loss: 1.5816 - accuracy: 0.4030\n",
      "32/32 [==============================] - 0s 13ms/step - loss: 1.5351 - accuracy: 0.4480\n",
      "32/32 [==============================] - 0s 14ms/step - loss: 1.6087 - accuracy: 0.2040\n",
      "32/32 [==============================] - 1s 22ms/step - loss: 1.5862 - accuracy: 0.4000\n",
      "32/32 [==============================] - 1s 22ms/step - loss: 1.5349 - accuracy: 0.4490\n",
      "32/32 [==============================] - 0s 13ms/step - loss: 1.6120 - accuracy: 0.2040\n",
      "32/32 [==============================] - 0s 13ms/step - loss: 1.5875 - accuracy: 0.3990\n",
      "32/32 [==============================] - 0s 14ms/step - loss: 1.5351 - accuracy: 0.4470\n",
      "32/32 [==============================] - 0s 14ms/step - loss: 1.6166 - accuracy: 0.2040\n",
      "32/32 [==============================] - 1s 16ms/step - loss: 1.5894 - accuracy: 0.4000\n",
      "32/32 [==============================] - 1s 21ms/step - loss: 1.5352 - accuracy: 0.4480\n",
      "32/32 [==============================] - 0s 14ms/step - loss: 1.6291 - accuracy: 0.2040\n",
      "32/32 [==============================] - 0s 13ms/step - loss: 1.5929 - accuracy: 0.3950\n",
      "32/32 [==============================] - 0s 13ms/step - loss: 1.5348 - accuracy: 0.4460\n",
      "32/32 [==============================] - 0s 12ms/step - loss: 1.6383 - accuracy: 0.2040\n",
      "32/32 [==============================] - 1s 16ms/step - loss: 1.5994 - accuracy: 0.3990\n",
      "32/32 [==============================] - 0s 13ms/step - loss: 1.5346 - accuracy: 0.4490\n",
      "32/32 [==============================] - 0s 13ms/step - loss: 1.6438 - accuracy: 0.2040\n",
      "32/32 [==============================] - 0s 13ms/step - loss: 1.5996 - accuracy: 0.3960\n",
      "32/32 [==============================] - 0s 14ms/step - loss: 1.5344 - accuracy: 0.4470\n",
      "32/32 [==============================] - 1s 15ms/step - loss: 1.6505 - accuracy: 0.2040\n",
      "32/32 [==============================] - 1s 19ms/step - loss: 1.6027 - accuracy: 0.3980\n",
      "32/32 [==============================] - 1s 17ms/step - loss: 1.5349 - accuracy: 0.4470\n"
     ]
    }
   ],
   "source": [
    "indexes = range(1000)\n",
    "stored_results = []\n",
    "lot = 0\n",
    "for c in np.arange(0.1,1.1,0.1):\n",
    "    filename = 'CIFAR10_x_adv_stack_MLP_Lot' + str(lot+1) + '_c' + str(np.round(c,1)) + '.npy'\n",
    "    x_adv_stack = np.load(filename)\n",
    "    \n",
    "    stored_results.append(np.round(c,1))\n",
    "    \n",
    "    avg_l2_norm = np.mean(np.sqrt(np.sum((x_adv_stack-X_test[:len(x_adv_stack)])**2, axis=(1,2))))    \n",
    "    \n",
    "    if np.isnan(avg_l2_norm):\n",
    "        delta = x_adv_stack-X_test[:len(x_adv_stack)]\n",
    "        indices = np.argwhere(np.isnan(delta))\n",
    "        delta[indices] = 1\n",
    "        x_adv_stack = X_test[:len(x_adv_stack)] + delta\n",
    "        x_adv_stack = np.clip(x_adv_stack, 0, 1)\n",
    "        delta = x_adv_stack-X_test[:len(x_adv_stack)]\n",
    "        avg_l2_norm = np.mean(np.sqrt(np.sum((x_adv_stack-X_test[:len(x_adv_stack)])**2, axis=(1,2))))\n",
    "        \n",
    "    stored_results.append(avg_l2_norm)\n",
    "    \n",
    "    _,accuracy = MLP_CIFAR10_base.evaluate(x_adv_stack,y_test[indexes])\n",
    "    stored_results.append(accuracy)\n",
    "\n",
    "    _,accuracy = MLP_CIFAR10_GNA_trained.evaluate(x_adv_stack,y_test[indexes])\n",
    "    stored_results.append(accuracy)\n",
    "\n",
    "    _,accuracy = MLP_CIFAR10_FGSM_trained.evaluate(x_adv_stack,y_test[indexes])\n",
    "    stored_results.append(accuracy)\n",
    "\n",
    "#     _,accuracy = MLP_CIFAR10_CW_trained.evaluate(x_adv_stack,y_test[indexes])\n",
    "#     stored_results.append(accuracy)"
   ]
  },
  {
   "cell_type": "code",
   "execution_count": 19,
   "metadata": {
    "id": "B8hLoU3hSejH",
    "outputId": "776d967b-ff43-4a0f-e178-e3f848419469"
   },
   "outputs": [
    {
     "data": {
      "text/html": [
       "<div>\n",
       "<style scoped>\n",
       "    .dataframe tbody tr th:only-of-type {\n",
       "        vertical-align: middle;\n",
       "    }\n",
       "\n",
       "    .dataframe tbody tr th {\n",
       "        vertical-align: top;\n",
       "    }\n",
       "\n",
       "    .dataframe thead th {\n",
       "        text-align: right;\n",
       "    }\n",
       "</style>\n",
       "<table border=\"1\" class=\"dataframe\">\n",
       "  <thead>\n",
       "    <tr style=\"text-align: right;\">\n",
       "      <th></th>\n",
       "      <th>sigma</th>\n",
       "      <th>avg_l2_norm</th>\n",
       "      <th>MLP_CIFAR10_base</th>\n",
       "      <th>MLP_CIFAR10_GNA_trained</th>\n",
       "      <th>MLP_CIFAR10_FGSM_trained</th>\n",
       "    </tr>\n",
       "  </thead>\n",
       "  <tbody>\n",
       "    <tr>\n",
       "      <th>0</th>\n",
       "      <td>0.1</td>\n",
       "      <td>0.273041</td>\n",
       "      <td>0.203</td>\n",
       "      <td>0.413</td>\n",
       "      <td>0.448</td>\n",
       "    </tr>\n",
       "    <tr>\n",
       "      <th>1</th>\n",
       "      <td>0.2</td>\n",
       "      <td>0.281331</td>\n",
       "      <td>0.207</td>\n",
       "      <td>0.409</td>\n",
       "      <td>0.448</td>\n",
       "    </tr>\n",
       "    <tr>\n",
       "      <th>2</th>\n",
       "      <td>0.3</td>\n",
       "      <td>0.286861</td>\n",
       "      <td>0.204</td>\n",
       "      <td>0.403</td>\n",
       "      <td>0.448</td>\n",
       "    </tr>\n",
       "    <tr>\n",
       "      <th>3</th>\n",
       "      <td>0.4</td>\n",
       "      <td>0.291121</td>\n",
       "      <td>0.204</td>\n",
       "      <td>0.400</td>\n",
       "      <td>0.449</td>\n",
       "    </tr>\n",
       "    <tr>\n",
       "      <th>4</th>\n",
       "      <td>0.5</td>\n",
       "      <td>0.295225</td>\n",
       "      <td>0.204</td>\n",
       "      <td>0.399</td>\n",
       "      <td>0.447</td>\n",
       "    </tr>\n",
       "    <tr>\n",
       "      <th>5</th>\n",
       "      <td>0.6</td>\n",
       "      <td>0.299093</td>\n",
       "      <td>0.204</td>\n",
       "      <td>0.400</td>\n",
       "      <td>0.448</td>\n",
       "    </tr>\n",
       "    <tr>\n",
       "      <th>6</th>\n",
       "      <td>0.7</td>\n",
       "      <td>0.304811</td>\n",
       "      <td>0.204</td>\n",
       "      <td>0.395</td>\n",
       "      <td>0.446</td>\n",
       "    </tr>\n",
       "    <tr>\n",
       "      <th>7</th>\n",
       "      <td>0.8</td>\n",
       "      <td>0.309062</td>\n",
       "      <td>0.204</td>\n",
       "      <td>0.399</td>\n",
       "      <td>0.449</td>\n",
       "    </tr>\n",
       "    <tr>\n",
       "      <th>8</th>\n",
       "      <td>0.9</td>\n",
       "      <td>0.315039</td>\n",
       "      <td>0.204</td>\n",
       "      <td>0.396</td>\n",
       "      <td>0.447</td>\n",
       "    </tr>\n",
       "    <tr>\n",
       "      <th>9</th>\n",
       "      <td>1.0</td>\n",
       "      <td>0.317802</td>\n",
       "      <td>0.204</td>\n",
       "      <td>0.398</td>\n",
       "      <td>0.447</td>\n",
       "    </tr>\n",
       "  </tbody>\n",
       "</table>\n",
       "</div>"
      ],
      "text/plain": [
       "   sigma  avg_l2_norm  MLP_CIFAR10_base  MLP_CIFAR10_GNA_trained  \\\n",
       "0    0.1     0.273041             0.203                    0.413   \n",
       "1    0.2     0.281331             0.207                    0.409   \n",
       "2    0.3     0.286861             0.204                    0.403   \n",
       "3    0.4     0.291121             0.204                    0.400   \n",
       "4    0.5     0.295225             0.204                    0.399   \n",
       "5    0.6     0.299093             0.204                    0.400   \n",
       "6    0.7     0.304811             0.204                    0.395   \n",
       "7    0.8     0.309062             0.204                    0.399   \n",
       "8    0.9     0.315039             0.204                    0.396   \n",
       "9    1.0     0.317802             0.204                    0.398   \n",
       "\n",
       "   MLP_CIFAR10_FGSM_trained  \n",
       "0                     0.448  \n",
       "1                     0.448  \n",
       "2                     0.448  \n",
       "3                     0.449  \n",
       "4                     0.447  \n",
       "5                     0.448  \n",
       "6                     0.446  \n",
       "7                     0.449  \n",
       "8                     0.447  \n",
       "9                     0.447  "
      ]
     },
     "execution_count": 19,
     "metadata": {},
     "output_type": "execute_result"
    }
   ],
   "source": [
    "stored_results = np.array(stored_results)\n",
    "stored_results = stored_results.reshape(-1,5)\n",
    "# stored_results = stored_results.reshape(-1,6)\n",
    "df = pd.DataFrame(stored_results, columns = ['sigma','avg_l2_norm','MLP_CIFAR10_base',\\\n",
    "                                 'MLP_CIFAR10_GNA_trained','MLP_CIFAR10_FGSM_trained'])\n",
    "# df = pd.DataFrame(stored_results, columns = ['sigma','avg_l2_norm','MLP_CIFAR10_base',\\\n",
    "#                                  'MLP_CIFAR10_GNA_trained','MLP_CIFAR10_FGSM_trained','MLP_CIFAR10_CW_trained'])\n",
    "df.to_csv('Performance of adversarially trained MLP models on CW [CIFAR10].csv', index=False)\n",
    "df"
   ]
  },
  {
   "cell_type": "code",
   "execution_count": 20,
   "metadata": {
    "id": "ee1rppfNSejI",
    "outputId": "acc32974-38ac-44e6-e1c6-8ec08d68891b"
   },
   "outputs": [
    {
     "name": "stdout",
     "output_type": "stream",
     "text": [
      "Test accuracy on unperturbed data\n",
      "32/32 [==============================] - 1s 16ms/step - loss: 1.4203 - accuracy: 0.4930\n",
      "32/32 [==============================] - 1s 21ms/step - loss: 1.4631 - accuracy: 0.4750\n",
      "32/32 [==============================] - 0s 14ms/step - loss: 1.5407 - accuracy: 0.4430\n"
     ]
    },
    {
     "data": {
      "image/png": "[encoded data removed]",
      "text/plain": [
       "<Figure size 432x288 with 1 Axes>"
      ]
     },
     "metadata": {
      "needs_background": "light"
     },
     "output_type": "display_data"
    }
   ],
   "source": [
    "df = pd.read_csv('Performance of adversarially trained MLP models on CW [CIFAR10].csv')\n",
    "\n",
    "df = df.shift(1)\n",
    "print('Test accuracy on unperturbed data')\n",
    "_, accuracy_base = MLP_CIFAR10_base.evaluate(X_test[indexes],y_test[indexes]);\n",
    "_, accuracy_GNA_trained = MLP_CIFAR10_GNA_trained.evaluate(X_test[indexes],y_test[indexes]);\n",
    "_, accuracy_FGSM_trained = MLP_CIFAR10_FGSM_trained.evaluate(X_test[indexes],y_test[indexes]);\n",
    "# _, accuracy_CW_trained = MLP_CIFAR10_CW_trained.evaluate(X_test[indexes],y_test[indexes]);\n",
    "df.iloc[0] = [0, 0, accuracy_base, accuracy_GNA_trained, accuracy_FGSM_trained]\n",
    "# df.iloc[0] = [0, 0, accuracy_base, accuracy_GNA_trained, accuracy_FGSM_trained, accuracy_CW_trained]\n",
    "\n",
    "df = df.sort_values('avg_l2_norm', ascending=True)\n",
    "\n",
    "plt.plot(df['avg_l2_norm'],df['MLP_CIFAR10_base'],'o--', color = 'C1')\n",
    "plt.plot(df['avg_l2_norm'],df['MLP_CIFAR10_GNA_trained'],'*-', color = 'C1')\n",
    "plt.plot(df['avg_l2_norm'],df['MLP_CIFAR10_FGSM_trained'],'v-', color = 'C1')\n",
    "# plt.plot(df['avg_l2_norm'],df['MLP_CIFAR10_CW_trained'],'d-', color = 'C1')\n",
    "\n",
    "\n",
    "plt.xlabel('Average $l_2$ norm of the perturbation')\n",
    "plt.ylabel('Test accuracy')\n",
    "plt.ylim([-0.1, 1.1])\n",
    "plt.legend(['MLP_CIFAR10 (base)', 'MLP_CIFAR10 (GNA trained)',\\\n",
    "            'MLP_CIFAR10 (FGSM trained)'])\n",
    "# plt.legend(['MLP_CIFAR10 (base)', 'MLP_CIFAR10 (GNA trained)',\\\n",
    "#             'MLP_CIFAR10 (FGSM trained)', 'MLP_CIFAR10 (CW trained)'])\n",
    "plt.title('Effect of CW attack on CIFAR10')\n",
    "plt.savefig('Adversarially trained MLP models CW on CIFAR10 [l2 norm]', dpi=600)\n",
    "plt.show()"
   ]
  }
 ],
 "metadata": {
  "accelerator": "GPU",
  "colab": {
   "provenance": [
    {
     "file_id": "17t5wZdiu4KbtR9opaQcMZECSJAndropo",
     "timestamp": 1674347819943
    }
   ]
  },
  "gpuClass": "standard",
  "kernelspec": {
   "display_name": "Python 3",
   "language": "python",
   "name": "python3"
  },
  "language_info": {
   "codemirror_mode": {
    "name": "ipython",
    "version": 3
   },
   "file_extension": ".py",
   "mimetype": "text/x-python",
   "name": "python",
   "nbconvert_exporter": "python",
   "pygments_lexer": "ipython3",
   "version": "3.8.8"
  }
 },
 "nbformat": 4,
 "nbformat_minor": 1
}
