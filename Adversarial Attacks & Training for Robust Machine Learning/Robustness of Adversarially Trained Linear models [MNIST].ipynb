{
 "cells": [
  {
   "cell_type": "markdown",
   "metadata": {
    "id": "aiSUzqR_k38-"
   },
   "source": [
    "**Import packages**"
   ]
  },
  {
   "cell_type": "code",
   "execution_count": 1,
   "metadata": {
    "colab": {
     "base_uri": "https://localhost:8080/"
    },
    "executionInfo": {
     "elapsed": 6075,
     "status": "ok",
     "timestamp": 1678467624635,
     "user": {
      "displayName": "Nazmul Hasan",
      "userId": "02122416256231585764"
     },
     "user_tz": 420
    },
    "id": "ad5wwLh9culg",
    "outputId": "3a26d4f2-1957-4820-bcae-5a769878ff9c"
   },
   "outputs": [
    {
     "name": "stdout",
     "output_type": "stream",
     "text": [
      "Requirement already satisfied: pytictoc in c:\\programdata\\anaconda3\\lib\\site-packages (1.5.2)\n"
     ]
    }
   ],
   "source": [
    "!pip install pytictoc"
   ]
  },
  {
   "cell_type": "code",
   "execution_count": 2,
   "metadata": {
    "id": "TtE3hMD0_-HW",
    "outputId": "a21313de-5193-445f-de68-3cd10c9aa6e5"
   },
   "outputs": [
    {
     "name": "stdout",
     "output_type": "stream",
     "text": [
      "Requirement already satisfied: tensorflow in c:\\programdata\\anaconda3\\lib\\site-packages (2.11.0)\n",
      "Requirement already satisfied: tensorflow-intel==2.11.0 in c:\\programdata\\anaconda3\\lib\\site-packages (from tensorflow) (2.11.0)\n",
      "Requirement already satisfied: setuptools in c:\\programdata\\anaconda3\\lib\\site-packages (from tensorflow-intel==2.11.0->tensorflow) (52.0.0.post20210125)\n",
      "Requirement already satisfied: protobuf<3.20,>=3.9.2 in c:\\programdata\\anaconda3\\lib\\site-packages (from tensorflow-intel==2.11.0->tensorflow) (3.19.6)\n",
      "Requirement already satisfied: google-pasta>=0.1.1 in c:\\programdata\\anaconda3\\lib\\site-packages (from tensorflow-intel==2.11.0->tensorflow) (0.2.0)\n",
      "Requirement already satisfied: termcolor>=1.1.0 in c:\\programdata\\anaconda3\\lib\\site-packages (from tensorflow-intel==2.11.0->tensorflow) (2.2.0)\n",
      "Requirement already satisfied: tensorflow-estimator<2.12,>=2.11.0 in c:\\programdata\\anaconda3\\lib\\site-packages (from tensorflow-intel==2.11.0->tensorflow) (2.11.0)\n",
      "Requirement already satisfied: six>=1.12.0 in c:\\programdata\\anaconda3\\lib\\site-packages (from tensorflow-intel==2.11.0->tensorflow) (1.15.0)\n",
      "Requirement already satisfied: grpcio<2.0,>=1.24.3 in c:\\programdata\\anaconda3\\lib\\site-packages (from tensorflow-intel==2.11.0->tensorflow) (1.51.3)\n",
      "Requirement already satisfied: libclang>=13.0.0 in c:\\programdata\\anaconda3\\lib\\site-packages (from tensorflow-intel==2.11.0->tensorflow) (15.0.6.1)\n",
      "Requirement already satisfied: gast<=0.4.0,>=0.2.1 in c:\\programdata\\anaconda3\\lib\\site-packages (from tensorflow-intel==2.11.0->tensorflow) (0.4.0)\n",
      "Requirement already satisfied: packaging in c:\\programdata\\anaconda3\\lib\\site-packages (from tensorflow-intel==2.11.0->tensorflow) (20.9)\n",
      "Requirement already satisfied: wrapt>=1.11.0 in c:\\programdata\\anaconda3\\lib\\site-packages (from tensorflow-intel==2.11.0->tensorflow) (1.12.1)\n",
      "Requirement already satisfied: flatbuffers>=2.0 in c:\\programdata\\anaconda3\\lib\\site-packages (from tensorflow-intel==2.11.0->tensorflow) (23.3.3)\n",
      "Requirement already satisfied: tensorboard<2.12,>=2.11 in c:\\programdata\\anaconda3\\lib\\site-packages (from tensorflow-intel==2.11.0->tensorflow) (2.11.2)\n",
      "Requirement already satisfied: astunparse>=1.6.0 in c:\\programdata\\anaconda3\\lib\\site-packages (from tensorflow-intel==2.11.0->tensorflow) (1.6.3)\n",
      "Requirement already satisfied: numpy>=1.20 in c:\\programdata\\anaconda3\\lib\\site-packages (from tensorflow-intel==2.11.0->tensorflow) (1.20.1)\n",
      "Requirement already satisfied: h5py>=2.9.0 in c:\\programdata\\anaconda3\\lib\\site-packages (from tensorflow-intel==2.11.0->tensorflow) (2.10.0)\n",
      "Requirement already satisfied: keras<2.12,>=2.11.0 in c:\\programdata\\anaconda3\\lib\\site-packages (from tensorflow-intel==2.11.0->tensorflow) (2.11.0)\n",
      "Requirement already satisfied: tensorflow-io-gcs-filesystem>=0.23.1 in c:\\programdata\\anaconda3\\lib\\site-packages (from tensorflow-intel==2.11.0->tensorflow) (0.31.0)\n",
      "Requirement already satisfied: typing-extensions>=3.6.6 in c:\\programdata\\anaconda3\\lib\\site-packages (from tensorflow-intel==2.11.0->tensorflow) (3.7.4.3)\n",
      "Requirement already satisfied: opt-einsum>=2.3.2 in c:\\programdata\\anaconda3\\lib\\site-packages (from tensorflow-intel==2.11.0->tensorflow) (3.3.0)\n",
      "Requirement already satisfied: absl-py>=1.0.0 in c:\\programdata\\anaconda3\\lib\\site-packages (from tensorflow-intel==2.11.0->tensorflow) (1.4.0)\n",
      "Requirement already satisfied: wheel<1.0,>=0.23.0 in c:\\programdata\\anaconda3\\lib\\site-packages (from astunparse>=1.6.0->tensorflow-intel==2.11.0->tensorflow) (0.36.2)\n",
      "Requirement already satisfied: markdown>=2.6.8 in c:\\programdata\\anaconda3\\lib\\site-packages (from tensorboard<2.12,>=2.11->tensorflow-intel==2.11.0->tensorflow) (3.4.1)\n",
      "Requirement already satisfied: google-auth<3,>=1.6.3 in c:\\programdata\\anaconda3\\lib\\site-packages (from tensorboard<2.12,>=2.11->tensorflow-intel==2.11.0->tensorflow) (2.16.2)\n",
      "Requirement already satisfied: werkzeug>=1.0.1 in c:\\programdata\\anaconda3\\lib\\site-packages (from tensorboard<2.12,>=2.11->tensorflow-intel==2.11.0->tensorflow) (1.0.1)\n",
      "Requirement already satisfied: tensorboard-data-server<0.7.0,>=0.6.0 in c:\\programdata\\anaconda3\\lib\\site-packages (from tensorboard<2.12,>=2.11->tensorflow-intel==2.11.0->tensorflow) (0.6.1)\n",
      "Requirement already satisfied: google-auth-oauthlib<0.5,>=0.4.1 in c:\\programdata\\anaconda3\\lib\\site-packages (from tensorboard<2.12,>=2.11->tensorflow-intel==2.11.0->tensorflow) (0.4.6)\n",
      "Requirement already satisfied: requests<3,>=2.21.0 in c:\\programdata\\anaconda3\\lib\\site-packages (from tensorboard<2.12,>=2.11->tensorflow-intel==2.11.0->tensorflow) (2.25.1)\n",
      "Requirement already satisfied: tensorboard-plugin-wit>=1.6.0 in c:\\programdata\\anaconda3\\lib\\site-packages (from tensorboard<2.12,>=2.11->tensorflow-intel==2.11.0->tensorflow) (1.8.1)\n",
      "Requirement already satisfied: pyasn1-modules>=0.2.1 in c:\\programdata\\anaconda3\\lib\\site-packages (from google-auth<3,>=1.6.3->tensorboard<2.12,>=2.11->tensorflow-intel==2.11.0->tensorflow) (0.2.8)\n",
      "Requirement already satisfied: rsa<5,>=3.1.4 in c:\\programdata\\anaconda3\\lib\\site-packages (from google-auth<3,>=1.6.3->tensorboard<2.12,>=2.11->tensorflow-intel==2.11.0->tensorflow) (4.9)\n",
      "Requirement already satisfied: cachetools<6.0,>=2.0.0 in c:\\programdata\\anaconda3\\lib\\site-packages (from google-auth<3,>=1.6.3->tensorboard<2.12,>=2.11->tensorflow-intel==2.11.0->tensorflow) (5.3.0)\n",
      "Requirement already satisfied: requests-oauthlib>=0.7.0 in c:\\programdata\\anaconda3\\lib\\site-packages (from google-auth-oauthlib<0.5,>=0.4.1->tensorboard<2.12,>=2.11->tensorflow-intel==2.11.0->tensorflow) (1.3.1)\n",
      "Requirement already satisfied: importlib-metadata>=4.4 in c:\\programdata\\anaconda3\\lib\\site-packages (from markdown>=2.6.8->tensorboard<2.12,>=2.11->tensorflow-intel==2.11.0->tensorflow) (6.0.0)\n",
      "Requirement already satisfied: zipp>=0.5 in c:\\programdata\\anaconda3\\lib\\site-packages (from importlib-metadata>=4.4->markdown>=2.6.8->tensorboard<2.12,>=2.11->tensorflow-intel==2.11.0->tensorflow) (3.4.1)\n",
      "Requirement already satisfied: pyasn1<0.5.0,>=0.4.6 in c:\\programdata\\anaconda3\\lib\\site-packages (from pyasn1-modules>=0.2.1->google-auth<3,>=1.6.3->tensorboard<2.12,>=2.11->tensorflow-intel==2.11.0->tensorflow) (0.4.8)\n",
      "Requirement already satisfied: chardet<5,>=3.0.2 in c:\\programdata\\anaconda3\\lib\\site-packages (from requests<3,>=2.21.0->tensorboard<2.12,>=2.11->tensorflow-intel==2.11.0->tensorflow) (4.0.0)\n",
      "Requirement already satisfied: urllib3<1.27,>=1.21.1 in c:\\programdata\\anaconda3\\lib\\site-packages (from requests<3,>=2.21.0->tensorboard<2.12,>=2.11->tensorflow-intel==2.11.0->tensorflow) (1.26.4)\n",
      "Requirement already satisfied: certifi>=2017.4.17 in c:\\programdata\\anaconda3\\lib\\site-packages (from requests<3,>=2.21.0->tensorboard<2.12,>=2.11->tensorflow-intel==2.11.0->tensorflow) (2020.12.5)\n",
      "Requirement already satisfied: idna<3,>=2.5 in c:\\programdata\\anaconda3\\lib\\site-packages (from requests<3,>=2.21.0->tensorboard<2.12,>=2.11->tensorflow-intel==2.11.0->tensorflow) (2.10)\n",
      "Requirement already satisfied: oauthlib>=3.0.0 in c:\\programdata\\anaconda3\\lib\\site-packages (from requests-oauthlib>=0.7.0->google-auth-oauthlib<0.5,>=0.4.1->tensorboard<2.12,>=2.11->tensorflow-intel==2.11.0->tensorflow) (3.2.2)\n",
      "Requirement already satisfied: pyparsing>=2.0.2 in c:\\programdata\\anaconda3\\lib\\site-packages (from packaging->tensorflow-intel==2.11.0->tensorflow) (2.4.7)\n"
     ]
    }
   ],
   "source": [
    "!pip install tensorflow"
   ]
  },
  {
   "cell_type": "code",
   "execution_count": 3,
   "metadata": {
    "id": "_z7kPblcHOH1"
   },
   "outputs": [],
   "source": [
    "import random\n",
    "import tensorflow as tf\n",
    "import pandas as pd\n",
    "from tensorflow import keras\n",
    "from keras import datasets, layers, models\n",
    "import matplotlib.pyplot as plt\n",
    "import numpy as np\n",
    "import warnings\n",
    "from pytictoc import TicToc\n",
    "warnings.filterwarnings( \"ignore\" )"
   ]
  },
  {
   "cell_type": "markdown",
   "metadata": {
    "id": "e7iTQt51HOH3"
   },
   "source": [
    "**Load the dataset**"
   ]
  },
  {
   "cell_type": "code",
   "execution_count": 4,
   "metadata": {
    "colab": {
     "base_uri": "https://localhost:8080/"
    },
    "executionInfo": {
     "elapsed": 799,
     "status": "ok",
     "timestamp": 1678467635038,
     "user": {
      "displayName": "Nazmul Hasan",
      "userId": "02122416256231585764"
     },
     "user_tz": 420
    },
    "id": "rPRPSMuwHOH4",
    "outputId": "106fdb96-7d3c-4d9b-ba7d-85d264a97f1f"
   },
   "outputs": [
    {
     "data": {
      "text/plain": [
       "((60000, 28, 28), (60000,), (10000, 28, 28), (10000,))"
      ]
     },
     "execution_count": 4,
     "metadata": {},
     "output_type": "execute_result"
    }
   ],
   "source": [
    "(X_train, y_train), (X_test,y_test) = datasets.mnist.load_data()\n",
    "X_train.shape, y_train.shape, X_test.shape, y_test.shape"
   ]
  },
  {
   "cell_type": "markdown",
   "metadata": {
    "id": "gL5ypIWkHOIE"
   },
   "source": [
    "**Normalize the input data**"
   ]
  },
  {
   "cell_type": "code",
   "execution_count": 5,
   "metadata": {
    "id": "PxewI0kIHOIF"
   },
   "outputs": [],
   "source": [
    "X_train = X_train / 255.0\n",
    "X_test = X_test / 255.0"
   ]
  },
  {
   "cell_type": "markdown",
   "metadata": {
    "id": "Z_nl74yGFrHT"
   },
   "source": [
    "**Set directory to saved models**"
   ]
  },
  {
   "cell_type": "code",
   "execution_count": 6,
   "metadata": {
    "id": "Usv8lPonYXF0"
   },
   "outputs": [],
   "source": [
    "# from google.colab import drive\n",
    "# drive.mount('/content/gdrive')\n",
    "# %cd /content/gdrive/MyDrive/ECE 696B/Project - ECE696B\n",
    "# # %cd /content/gdrive/MyDrive/Colab Notebooks"
   ]
  },
  {
   "cell_type": "code",
   "execution_count": 7,
   "metadata": {
    "id": "DiuPFzjkDRUx",
    "outputId": "f51eb61f-de69-40ab-b783-db0bc084f705"
   },
   "outputs": [
    {
     "name": "stdout",
     "output_type": "stream",
     "text": [
      "C:\\Users\\nh202\\My Drive (nh202@arizona.edu)\\ECE 696B\\Project - ECE696B\n"
     ]
    }
   ],
   "source": [
    "%cd C:\\Users\\nh202\\My Drive (nh202@arizona.edu)\\ECE 696B\\Project - ECE696B"
   ]
  },
  {
   "cell_type": "code",
   "execution_count": 8,
   "metadata": {
    "id": "SAx4NoIYDgzZ"
   },
   "outputs": [],
   "source": [
    "from keras.models import load_model\n",
    "Linear_MNIST_base = load_model('Linear_MNIST.h5')\n",
    "Linear_MNIST_GNA_trained = load_model('Linear_MNIST_GNA_trained.h5')\n",
    "Linear_MNIST_FGSM_trained = load_model('Linear_MNIST_FGSM_trained.h5')\n",
    "Linear_MNIST_CW_trained = load_model('Linear_MNIST_CW_trained.h5')"
   ]
  },
  {
   "cell_type": "markdown",
   "metadata": {
    "id": "G1qA-8V5Z-eg"
   },
   "source": [
    "# Evaluate performance of Linear models"
   ]
  },
  {
   "cell_type": "markdown",
   "metadata": {
    "id": "uFedzBTJFx7-"
   },
   "source": [
    "**Performance on GNA adversarial examples**"
   ]
  },
  {
   "cell_type": "code",
   "execution_count": 9,
   "metadata": {
    "id": "rQRTiDohFlGt",
    "outputId": "3e5b3da5-3fb4-44a8-a403-1065b65090db"
   },
   "outputs": [
    {
     "name": "stdout",
     "output_type": "stream",
     "text": [
      "C:\\Users\\nh202\\OneDrive - University of Arizona\\Adversairal Examples - ECE 696B\\GNA\n"
     ]
    }
   ],
   "source": [
    "%cd C:\\Users\\nh202\\OneDrive - University of Arizona\\Adversairal Examples - ECE 696B\\GNA"
   ]
  },
  {
   "cell_type": "code",
   "execution_count": 10,
   "metadata": {
    "id": "6kV976-9EU-V",
    "outputId": "67220610-f364-46af-d10c-f6b423c31c06"
   },
   "outputs": [
    {
     "name": "stdout",
     "output_type": "stream",
     "text": [
      "Sigma value: 0.0\n",
      "Average l2 distance of the perturbation: 0.0\n",
      "\n",
      "Test accuracy on perturbed data\n",
      "32/32 [==============================] - 0s 1ms/step - loss: 0.2790 - accuracy: 0.9190\n",
      "32/32 [==============================] - 0s 1ms/step - loss: 0.2815 - accuracy: 0.9150\n",
      "32/32 [==============================] - 0s 837us/step - loss: 0.2827 - accuracy: 0.9180\n",
      "32/32 [==============================] - 0s 933us/step - loss: 0.4194 - accuracy: 0.9030\n",
      "\n",
      "\n",
      "Sigma value: 0.1\n",
      "Average l2 distance of the perturbation: 2.066130566536646\n",
      "\n",
      "Test accuracy on perturbed data\n",
      "32/32 [==============================] - 0s 1ms/step - loss: 0.4659 - accuracy: 0.8480\n",
      "32/32 [==============================] - 0s 1ms/step - loss: 0.3098 - accuracy: 0.9110\n",
      "32/32 [==============================] - 0s 1ms/step - loss: 0.5248 - accuracy: 0.8310\n",
      "32/32 [==============================] - 0s 1ms/step - loss: 1.7164 - accuracy: 0.5280\n",
      "\n",
      "\n",
      "Sigma value: 0.2\n",
      "Average l2 distance of the perturbation: 4.067851809879554\n",
      "\n",
      "Test accuracy on perturbed data\n",
      "32/32 [==============================] - 0s 1ms/step - loss: 1.3483 - accuracy: 0.5590\n",
      "32/32 [==============================] - 0s 1ms/step - loss: 0.3775 - accuracy: 0.8850\n",
      "32/32 [==============================] - 0s 901us/step - loss: 1.4929 - accuracy: 0.6330\n",
      "32/32 [==============================] - 0s 869us/step - loss: 5.0547 - accuracy: 0.2650\n",
      "\n",
      "\n",
      "Sigma value: 0.3\n",
      "Average l2 distance of the perturbation: 6.0360986091056335\n",
      "\n",
      "Test accuracy on perturbed data\n",
      "32/32 [==============================] - 0s 901us/step - loss: 3.0831 - accuracy: 0.3650\n",
      "32/32 [==============================] - 0s 900us/step - loss: 0.5611 - accuracy: 0.8270\n",
      "32/32 [==============================] - 0s 869us/step - loss: 3.1576 - accuracy: 0.4480\n",
      "32/32 [==============================] - 0s 836us/step - loss: 8.6534 - accuracy: 0.2170\n",
      "\n",
      "\n",
      "Sigma value: 0.4\n",
      "Average l2 distance of the perturbation: 7.875701370291492\n",
      "\n",
      "Test accuracy on perturbed data\n",
      "32/32 [==============================] - 0s 836us/step - loss: 5.2817 - accuracy: 0.3020\n",
      "32/32 [==============================] - 0s 836us/step - loss: 0.7516 - accuracy: 0.7610\n",
      "32/32 [==============================] - 0s 901us/step - loss: 5.3928 - accuracy: 0.3420\n",
      "32/32 [==============================] - 0s 933us/step - loss: 12.7226 - accuracy: 0.1750\n",
      "\n",
      "\n",
      "Sigma value: 0.5\n",
      "Average l2 distance of the perturbation: 9.512928544477452\n",
      "\n",
      "Test accuracy on perturbed data\n",
      "32/32 [==============================] - 0s 901us/step - loss: 7.6013 - accuracy: 0.2530\n",
      "32/32 [==============================] - 0s 818us/step - loss: 1.2573 - accuracy: 0.6350\n",
      "32/32 [==============================] - 0s 869us/step - loss: 7.7201 - accuracy: 0.2860\n",
      "32/32 [==============================] - 0s 836us/step - loss: 16.3612 - accuracy: 0.1560\n",
      "\n",
      "\n",
      "Sigma value: 0.6\n",
      "Average l2 distance of the perturbation: 10.834167591639122\n",
      "\n",
      "Test accuracy on perturbed data\n",
      "32/32 [==============================] - 0s 901us/step - loss: 9.4983 - accuracy: 0.2100\n",
      "32/32 [==============================] - 0s 868us/step - loss: 1.7771 - accuracy: 0.5340\n",
      "32/32 [==============================] - 0s 804us/step - loss: 9.6782 - accuracy: 0.2300\n",
      "32/32 [==============================] - 0s 936us/step - loss: 19.0141 - accuracy: 0.1260\n",
      "\n",
      "\n",
      "Sigma value: 0.7\n",
      "Average l2 distance of the perturbation: 11.929506341770034\n",
      "\n",
      "Test accuracy on perturbed data\n",
      "32/32 [==============================] - 0s 804us/step - loss: 11.1736 - accuracy: 0.2060\n",
      "32/32 [==============================] - 0s 835us/step - loss: 2.2121 - accuracy: 0.4530\n",
      "32/32 [==============================] - 0s 869us/step - loss: 10.9514 - accuracy: 0.2020\n",
      "32/32 [==============================] - 0s 965us/step - loss: 21.0603 - accuracy: 0.1430\n",
      "\n",
      "\n",
      "Sigma value: 0.8\n",
      "Average l2 distance of the perturbation: 12.802478547600437\n",
      "\n",
      "Test accuracy on perturbed data\n",
      "32/32 [==============================] - 0s 869us/step - loss: 12.7052 - accuracy: 0.1980\n",
      "32/32 [==============================] - 0s 869us/step - loss: 2.4796 - accuracy: 0.4210\n",
      "32/32 [==============================] - 0s 862us/step - loss: 12.3042 - accuracy: 0.1870\n",
      "32/32 [==============================] - 0s 836us/step - loss: 23.6704 - accuracy: 0.1260\n",
      "\n",
      "\n",
      "Sigma value: 0.9\n",
      "Average l2 distance of the perturbation: 13.493690626766867\n",
      "\n",
      "Test accuracy on perturbed data\n",
      "32/32 [==============================] - 0s 836us/step - loss: 13.9433 - accuracy: 0.1840\n",
      "32/32 [==============================] - 0s 965us/step - loss: 2.8762 - accuracy: 0.3850\n",
      "32/32 [==============================] - 0s 965us/step - loss: 13.2210 - accuracy: 0.1660\n",
      "32/32 [==============================] - 0s 1ms/step - loss: 25.3359 - accuracy: 0.1240\n",
      "\n",
      "\n",
      "Sigma value: 1.0\n",
      "Average l2 distance of the perturbation: 14.064882254672023\n",
      "\n",
      "Test accuracy on perturbed data\n",
      "32/32 [==============================] - 0s 1ms/step - loss: 14.7759 - accuracy: 0.1660\n",
      "32/32 [==============================] - 0s 1ms/step - loss: 3.1989 - accuracy: 0.3470\n",
      "32/32 [==============================] - 0s 1ms/step - loss: 14.3119 - accuracy: 0.1570\n",
      "32/32 [==============================] - 0s 997us/step - loss: 25.5336 - accuracy: 0.1310\n",
      "\n",
      "\n"
     ]
    }
   ],
   "source": [
    "indexes = range(1000)\n",
    "sigmas = np.arange(0,1.1,0.1)\n",
    "stored_results = []\n",
    "for i in sigmas:\n",
    "  print(f'Sigma value: {np.round(i,1)}')\n",
    "  stored_results.append(i)\n",
    "    \n",
    "  filename = 'MNIST_X_test_noisy_GNA_sigma' + str(np.round(i,1)) + '.npy'\n",
    "  X_test_noisy = np.load(filename)\n",
    "  \n",
    "  avg_l2_norm = np.mean(np.sqrt(np.sum((X_test_noisy-X_test[indexes])**2, axis=(1,2))))\n",
    "  stored_results.append(avg_l2_norm)\n",
    "  print(\"Average l2 distance of the perturbation:\", avg_l2_norm)\n",
    "\n",
    "  print('\\nTest accuracy on perturbed data')\n",
    "  _,accuracy = Linear_MNIST_base.evaluate(X_test_noisy,y_test[indexes])\n",
    "  stored_results.append(accuracy)\n",
    "\n",
    "  _,accuracy = Linear_MNIST_GNA_trained.evaluate(X_test_noisy,y_test[indexes])\n",
    "  stored_results.append(accuracy)\n",
    "\n",
    "  _,accuracy = Linear_MNIST_FGSM_trained.evaluate(X_test_noisy,y_test[indexes])\n",
    "  stored_results.append(accuracy)\n",
    "\n",
    "  _,accuracy = Linear_MNIST_CW_trained.evaluate(X_test_noisy,y_test[indexes])\n",
    "  stored_results.append(accuracy)\n",
    "\n",
    "  print('\\n')"
   ]
  },
  {
   "cell_type": "code",
   "execution_count": 11,
   "metadata": {
    "id": "ISyENOQPEovC",
    "outputId": "63b83f57-c0c0-46a4-e0ab-119a38350196"
   },
   "outputs": [
    {
     "data": {
      "text/html": [
       "<div>\n",
       "<style scoped>\n",
       "    .dataframe tbody tr th:only-of-type {\n",
       "        vertical-align: middle;\n",
       "    }\n",
       "\n",
       "    .dataframe tbody tr th {\n",
       "        vertical-align: top;\n",
       "    }\n",
       "\n",
       "    .dataframe thead th {\n",
       "        text-align: right;\n",
       "    }\n",
       "</style>\n",
       "<table border=\"1\" class=\"dataframe\">\n",
       "  <thead>\n",
       "    <tr style=\"text-align: right;\">\n",
       "      <th></th>\n",
       "      <th>sigma</th>\n",
       "      <th>avg_l2_norm</th>\n",
       "      <th>Linear_MNIST_base</th>\n",
       "      <th>Linear_MNIST_GNA_trained</th>\n",
       "      <th>Linear_MNIST_FGSM_trained</th>\n",
       "      <th>Linear_MNIST_CW_trained</th>\n",
       "    </tr>\n",
       "  </thead>\n",
       "  <tbody>\n",
       "    <tr>\n",
       "      <th>0</th>\n",
       "      <td>0.0</td>\n",
       "      <td>0.000000</td>\n",
       "      <td>0.919</td>\n",
       "      <td>0.915</td>\n",
       "      <td>0.918</td>\n",
       "      <td>0.903</td>\n",
       "    </tr>\n",
       "    <tr>\n",
       "      <th>1</th>\n",
       "      <td>0.1</td>\n",
       "      <td>2.066131</td>\n",
       "      <td>0.848</td>\n",
       "      <td>0.911</td>\n",
       "      <td>0.831</td>\n",
       "      <td>0.528</td>\n",
       "    </tr>\n",
       "    <tr>\n",
       "      <th>2</th>\n",
       "      <td>0.2</td>\n",
       "      <td>4.067852</td>\n",
       "      <td>0.559</td>\n",
       "      <td>0.885</td>\n",
       "      <td>0.633</td>\n",
       "      <td>0.265</td>\n",
       "    </tr>\n",
       "    <tr>\n",
       "      <th>3</th>\n",
       "      <td>0.3</td>\n",
       "      <td>6.036099</td>\n",
       "      <td>0.365</td>\n",
       "      <td>0.827</td>\n",
       "      <td>0.448</td>\n",
       "      <td>0.217</td>\n",
       "    </tr>\n",
       "    <tr>\n",
       "      <th>4</th>\n",
       "      <td>0.4</td>\n",
       "      <td>7.875701</td>\n",
       "      <td>0.302</td>\n",
       "      <td>0.761</td>\n",
       "      <td>0.342</td>\n",
       "      <td>0.175</td>\n",
       "    </tr>\n",
       "    <tr>\n",
       "      <th>5</th>\n",
       "      <td>0.5</td>\n",
       "      <td>9.512929</td>\n",
       "      <td>0.253</td>\n",
       "      <td>0.635</td>\n",
       "      <td>0.286</td>\n",
       "      <td>0.156</td>\n",
       "    </tr>\n",
       "    <tr>\n",
       "      <th>6</th>\n",
       "      <td>0.6</td>\n",
       "      <td>10.834168</td>\n",
       "      <td>0.210</td>\n",
       "      <td>0.534</td>\n",
       "      <td>0.230</td>\n",
       "      <td>0.126</td>\n",
       "    </tr>\n",
       "    <tr>\n",
       "      <th>7</th>\n",
       "      <td>0.7</td>\n",
       "      <td>11.929506</td>\n",
       "      <td>0.206</td>\n",
       "      <td>0.453</td>\n",
       "      <td>0.202</td>\n",
       "      <td>0.143</td>\n",
       "    </tr>\n",
       "    <tr>\n",
       "      <th>8</th>\n",
       "      <td>0.8</td>\n",
       "      <td>12.802479</td>\n",
       "      <td>0.198</td>\n",
       "      <td>0.421</td>\n",
       "      <td>0.187</td>\n",
       "      <td>0.126</td>\n",
       "    </tr>\n",
       "    <tr>\n",
       "      <th>9</th>\n",
       "      <td>0.9</td>\n",
       "      <td>13.493691</td>\n",
       "      <td>0.184</td>\n",
       "      <td>0.385</td>\n",
       "      <td>0.166</td>\n",
       "      <td>0.124</td>\n",
       "    </tr>\n",
       "    <tr>\n",
       "      <th>10</th>\n",
       "      <td>1.0</td>\n",
       "      <td>14.064882</td>\n",
       "      <td>0.166</td>\n",
       "      <td>0.347</td>\n",
       "      <td>0.157</td>\n",
       "      <td>0.131</td>\n",
       "    </tr>\n",
       "  </tbody>\n",
       "</table>\n",
       "</div>"
      ],
      "text/plain": [
       "    sigma  avg_l2_norm  Linear_MNIST_base  Linear_MNIST_GNA_trained  \\\n",
       "0     0.0     0.000000              0.919                     0.915   \n",
       "1     0.1     2.066131              0.848                     0.911   \n",
       "2     0.2     4.067852              0.559                     0.885   \n",
       "3     0.3     6.036099              0.365                     0.827   \n",
       "4     0.4     7.875701              0.302                     0.761   \n",
       "5     0.5     9.512929              0.253                     0.635   \n",
       "6     0.6    10.834168              0.210                     0.534   \n",
       "7     0.7    11.929506              0.206                     0.453   \n",
       "8     0.8    12.802479              0.198                     0.421   \n",
       "9     0.9    13.493691              0.184                     0.385   \n",
       "10    1.0    14.064882              0.166                     0.347   \n",
       "\n",
       "    Linear_MNIST_FGSM_trained  Linear_MNIST_CW_trained  \n",
       "0                       0.918                    0.903  \n",
       "1                       0.831                    0.528  \n",
       "2                       0.633                    0.265  \n",
       "3                       0.448                    0.217  \n",
       "4                       0.342                    0.175  \n",
       "5                       0.286                    0.156  \n",
       "6                       0.230                    0.126  \n",
       "7                       0.202                    0.143  \n",
       "8                       0.187                    0.126  \n",
       "9                       0.166                    0.124  \n",
       "10                      0.157                    0.131  "
      ]
     },
     "execution_count": 11,
     "metadata": {},
     "output_type": "execute_result"
    }
   ],
   "source": [
    "stored_results = np.array(stored_results)\n",
    "stored_results = stored_results.reshape(-1,6)\n",
    "df = pd.DataFrame(stored_results, columns = ['sigma','avg_l2_norm','Linear_MNIST_base',\\\n",
    "                                 'Linear_MNIST_GNA_trained','Linear_MNIST_FGSM_trained','Linear_MNIST_CW_trained'])\n",
    "df.to_csv('Performance of adversarially trained Linear models on GNA [MNIST].csv', index=False)\n",
    "df"
   ]
  },
  {
   "cell_type": "code",
   "execution_count": 12,
   "metadata": {
    "id": "Q6CDjIErGGcJ",
    "outputId": "ac8cfae0-ae12-4842-f28f-74f7031b065f"
   },
   "outputs": [
    {
     "data": {
      "image/png": "[encoded data removed]",
      "text/plain": [
       "<Figure size 432x288 with 1 Axes>"
      ]
     },
     "metadata": {
      "needs_background": "light"
     },
     "output_type": "display_data"
    }
   ],
   "source": [
    "df = pd.read_csv('Performance of adversarially trained Linear models on GNA [MNIST].csv')\n",
    "plt.plot(df['avg_l2_norm'],df['Linear_MNIST_base'],'o--', color = 'C0')\n",
    "plt.plot(df['avg_l2_norm'],df['Linear_MNIST_GNA_trained'],'*-', color = 'C0')\n",
    "plt.plot(df['avg_l2_norm'],df['Linear_MNIST_FGSM_trained'],'v-', color = 'C0')\n",
    "plt.plot(df['avg_l2_norm'],df['Linear_MNIST_CW_trained'],'d-', color = 'C0')\n",
    "\n",
    "\n",
    "plt.xlabel('Average $l_2$ norm of the perturbation')\n",
    "plt.ylabel('Test accuracy')\n",
    "plt.ylim([-0.1, 1.1])\n",
    "plt.legend(['Linear_MNIST (base)', 'Linear_MNIST (GNA trained)',\\\n",
    "            'Linear_MNIST (FGSM trained)', 'Linear_MNIST (CW trained)'])\n",
    "plt.title('Effect of Gaussian noise attack on MNIST')\n",
    "plt.savefig('Adversarially trained Linear models GNA on MNIST [l2 norm]', dpi=600)\n",
    "plt.show()"
   ]
  },
  {
   "cell_type": "markdown",
   "metadata": {
    "id": "IOOaoZ3CSYfC"
   },
   "source": [
    "**Performance on FGSM adversarial examples**"
   ]
  },
  {
   "cell_type": "code",
   "execution_count": 13,
   "metadata": {
    "id": "sQpSyrzzSYfC",
    "outputId": "14f1fcdf-261b-4f20-ea21-dac21cda5521"
   },
   "outputs": [
    {
     "name": "stdout",
     "output_type": "stream",
     "text": [
      "C:\\Users\\nh202\\OneDrive - University of Arizona\\Adversairal Examples - ECE 696B\\FGSM\n"
     ]
    }
   ],
   "source": [
    "%cd C:\\Users\\nh202\\OneDrive - University of Arizona\\Adversairal Examples - ECE 696B\\FGSM"
   ]
  },
  {
   "cell_type": "code",
   "execution_count": 14,
   "metadata": {
    "id": "8ofOV1NgSYfC",
    "outputId": "84313c1b-24a9-4519-9de3-b50c076e877e"
   },
   "outputs": [
    {
     "name": "stdout",
     "output_type": "stream",
     "text": [
      "eps value: 0.1\n",
      "32/32 [==============================] - 0s 1ms/step - loss: 9.4517 - accuracy: 0.0020\n",
      "32/32 [==============================] - 0s 1ms/step - loss: 5.1687 - accuracy: 0.0340\n",
      "32/32 [==============================] - 0s 1ms/step - loss: 0.0093 - accuracy: 0.9980\n",
      "32/32 [==============================] - 0s 1ms/step - loss: 6.0903 - accuracy: 0.0690\n",
      "eps value: 0.2\n",
      "32/32 [==============================] - 0s 1ms/step - loss: 22.4857 - accuracy: 0.0000e+00\n",
      "32/32 [==============================] - 0s 1ms/step - loss: 13.8688 - accuracy: 0.0000e+00\n",
      "32/32 [==============================] - 0s 1ms/step - loss: 0.0011 - accuracy: 1.0000\n",
      "32/32 [==============================] - 0s 1ms/step - loss: 15.1309 - accuracy: 0.0070\n",
      "eps value: 0.3\n",
      "32/32 [==============================] - 0s 965us/step - loss: 35.4367 - accuracy: 0.0000e+00\n",
      "32/32 [==============================] - 0s 933us/step - loss: 22.5206 - accuracy: 0.0000e+00\n",
      "32/32 [==============================] - 0s 1ms/step - loss: 5.7009e-04 - accuracy: 1.0000\n",
      "32/32 [==============================] - 0s 997us/step - loss: 24.5598 - accuracy: 0.0040\n",
      "eps value: 0.4\n",
      "32/32 [==============================] - 0s 1ms/step - loss: 48.2907 - accuracy: 0.0000e+00\n",
      "32/32 [==============================] - 0s 1ms/step - loss: 31.0313 - accuracy: 0.0000e+00\n",
      "32/32 [==============================] - 0s 997us/step - loss: 8.0222e-04 - accuracy: 1.0000\n",
      "32/32 [==============================] - 0s 965us/step - loss: 34.0274 - accuracy: 0.0020\n",
      "eps value: 0.5\n",
      "32/32 [==============================] - 0s 1ms/step - loss: 61.0450 - accuracy: 0.0000e+00\n",
      "32/32 [==============================] - 0s 1ms/step - loss: 39.4042 - accuracy: 0.0000e+00\n",
      "32/32 [==============================] - 0s 2ms/step - loss: 0.0017 - accuracy: 0.9990\n",
      "32/32 [==============================] - 0s 1ms/step - loss: 43.4627 - accuracy: 0.0000e+00\n",
      "eps value: 0.6\n",
      "32/32 [==============================] - 0s 1ms/step - loss: 73.6650 - accuracy: 0.0000e+00\n",
      "32/32 [==============================] - 0s 965us/step - loss: 47.6183 - accuracy: 0.0000e+00\n",
      "32/32 [==============================] - 0s 996us/step - loss: 0.0036 - accuracy: 0.9980\n",
      "32/32 [==============================] - 0s 1ms/step - loss: 52.8353 - accuracy: 0.0000e+00\n",
      "eps value: 0.7\n",
      "32/32 [==============================] - 0s 1ms/step - loss: 86.1610 - accuracy: 0.0000e+00\n",
      "32/32 [==============================] - 0s 1ms/step - loss: 55.6860 - accuracy: 0.0000e+00\n",
      "32/32 [==============================] - 0s 1ms/step - loss: 0.0088 - accuracy: 0.9950\n",
      "32/32 [==============================] - 0s 1ms/step - loss: 62.1423 - accuracy: 0.0000e+00\n",
      "eps value: 0.8\n",
      "32/32 [==============================] - 0s 1ms/step - loss: 98.5195 - accuracy: 0.0000e+00\n",
      "32/32 [==============================] - 0s 1ms/step - loss: 63.5973 - accuracy: 0.0000e+00\n",
      "32/32 [==============================] - 0s 1ms/step - loss: 0.0233 - accuracy: 0.9910\n",
      "32/32 [==============================] - 0s 1ms/step - loss: 71.3779 - accuracy: 0.0000e+00\n",
      "eps value: 0.9\n",
      "32/32 [==============================] - 0s 1ms/step - loss: 110.7103 - accuracy: 0.0000e+00\n",
      "32/32 [==============================] - 0s 1ms/step - loss: 71.3232 - accuracy: 0.0000e+00\n",
      "32/32 [==============================] - 0s 2ms/step - loss: 0.0503 - accuracy: 0.9860\n",
      "32/32 [==============================] - 0s 1ms/step - loss: 80.5276 - accuracy: 0.0000e+00\n",
      "eps value: 1.0\n",
      "32/32 [==============================] - 0s 1ms/step - loss: 122.6347 - accuracy: 0.0000e+00\n",
      "32/32 [==============================] - 0s 1ms/step - loss: 78.7528 - accuracy: 0.0000e+00\n",
      "32/32 [==============================] - 0s 2ms/step - loss: 0.0944 - accuracy: 0.9770\n",
      "32/32 [==============================] - 0s 2ms/step - loss: 89.5370 - accuracy: 0.0000e+00\n"
     ]
    }
   ],
   "source": [
    "indexes = range(1000)\n",
    "stored_results = []\n",
    "for eps in np.arange(0.1,1.1,0.1):\n",
    "    \n",
    "  print(f'eps value: {np.round(eps,1)}')\n",
    "  stored_results.append(eps)\n",
    "\n",
    "  np_array_filename = 'MNIST_FGSM_'+ str(len(indexes)) +'_adv_examples_eps_'+ str(round(eps,1)) + '.npz'\n",
    "  data = np.load(np_array_filename)\n",
    "\n",
    "  # access the arrays using their keys\n",
    "  X_test_FGSM_Linear = data['X_test_FGSM_Linear']\n",
    "\n",
    "  avg_l2_norm_Linear = np.mean(np.sqrt(np.sum((X_test_FGSM_Linear-X_test[:len(indexes)])**2, axis=(1,2))))\n",
    "  stored_results.append(avg_l2_norm_Linear)\n",
    "    \n",
    "  _,accuracy = Linear_MNIST_base.evaluate(X_test_FGSM_Linear[indexes],y_test[indexes])\n",
    "  stored_results.append(accuracy)\n",
    "\n",
    "  _,accuracy = Linear_MNIST_GNA_trained.evaluate(X_test_FGSM_Linear[indexes],y_test[indexes])\n",
    "  stored_results.append(accuracy)\n",
    "\n",
    "  _,accuracy = Linear_MNIST_FGSM_trained.evaluate(X_test_FGSM_Linear[indexes],y_test[indexes])\n",
    "  stored_results.append(accuracy)\n",
    "\n",
    "  _,accuracy = Linear_MNIST_CW_trained.evaluate(X_test_FGSM_Linear[indexes],y_test[indexes])\n",
    "  stored_results.append(accuracy)\n",
    "    "
   ]
  },
  {
   "cell_type": "code",
   "execution_count": 15,
   "metadata": {
    "id": "jqnfjwwsSYfD",
    "outputId": "182e72cd-2244-4a7d-8da5-06a8504142a1"
   },
   "outputs": [
    {
     "data": {
      "text/html": [
       "<div>\n",
       "<style scoped>\n",
       "    .dataframe tbody tr th:only-of-type {\n",
       "        vertical-align: middle;\n",
       "    }\n",
       "\n",
       "    .dataframe tbody tr th {\n",
       "        vertical-align: top;\n",
       "    }\n",
       "\n",
       "    .dataframe thead th {\n",
       "        text-align: right;\n",
       "    }\n",
       "</style>\n",
       "<table border=\"1\" class=\"dataframe\">\n",
       "  <thead>\n",
       "    <tr style=\"text-align: right;\">\n",
       "      <th></th>\n",
       "      <th>sigma</th>\n",
       "      <th>avg_l2_norm</th>\n",
       "      <th>Linear_MNIST_base</th>\n",
       "      <th>Linear_MNIST_GNA_trained</th>\n",
       "      <th>Linear_MNIST_FGSM_trained</th>\n",
       "      <th>Linear_MNIST_CW_trained</th>\n",
       "    </tr>\n",
       "  </thead>\n",
       "  <tbody>\n",
       "    <tr>\n",
       "      <th>0</th>\n",
       "      <td>0.1</td>\n",
       "      <td>2.104669</td>\n",
       "      <td>0.002</td>\n",
       "      <td>0.034</td>\n",
       "      <td>0.998</td>\n",
       "      <td>0.069</td>\n",
       "    </tr>\n",
       "    <tr>\n",
       "      <th>1</th>\n",
       "      <td>0.2</td>\n",
       "      <td>4.174779</td>\n",
       "      <td>0.000</td>\n",
       "      <td>0.000</td>\n",
       "      <td>1.000</td>\n",
       "      <td>0.007</td>\n",
       "    </tr>\n",
       "    <tr>\n",
       "      <th>2</th>\n",
       "      <td>0.3</td>\n",
       "      <td>6.217968</td>\n",
       "      <td>0.000</td>\n",
       "      <td>0.000</td>\n",
       "      <td>1.000</td>\n",
       "      <td>0.004</td>\n",
       "    </tr>\n",
       "    <tr>\n",
       "      <th>3</th>\n",
       "      <td>0.4</td>\n",
       "      <td>8.237682</td>\n",
       "      <td>0.000</td>\n",
       "      <td>0.000</td>\n",
       "      <td>1.000</td>\n",
       "      <td>0.002</td>\n",
       "    </tr>\n",
       "    <tr>\n",
       "      <th>4</th>\n",
       "      <td>0.5</td>\n",
       "      <td>10.234820</td>\n",
       "      <td>0.000</td>\n",
       "      <td>0.000</td>\n",
       "      <td>0.999</td>\n",
       "      <td>0.000</td>\n",
       "    </tr>\n",
       "    <tr>\n",
       "      <th>5</th>\n",
       "      <td>0.6</td>\n",
       "      <td>12.203357</td>\n",
       "      <td>0.000</td>\n",
       "      <td>0.000</td>\n",
       "      <td>0.998</td>\n",
       "      <td>0.000</td>\n",
       "    </tr>\n",
       "    <tr>\n",
       "      <th>6</th>\n",
       "      <td>0.7</td>\n",
       "      <td>14.147400</td>\n",
       "      <td>0.000</td>\n",
       "      <td>0.000</td>\n",
       "      <td>0.995</td>\n",
       "      <td>0.000</td>\n",
       "    </tr>\n",
       "    <tr>\n",
       "      <th>7</th>\n",
       "      <td>0.8</td>\n",
       "      <td>16.064335</td>\n",
       "      <td>0.000</td>\n",
       "      <td>0.000</td>\n",
       "      <td>0.991</td>\n",
       "      <td>0.000</td>\n",
       "    </tr>\n",
       "    <tr>\n",
       "      <th>8</th>\n",
       "      <td>0.9</td>\n",
       "      <td>17.947981</td>\n",
       "      <td>0.000</td>\n",
       "      <td>0.000</td>\n",
       "      <td>0.986</td>\n",
       "      <td>0.000</td>\n",
       "    </tr>\n",
       "    <tr>\n",
       "      <th>9</th>\n",
       "      <td>1.0</td>\n",
       "      <td>19.775777</td>\n",
       "      <td>0.000</td>\n",
       "      <td>0.000</td>\n",
       "      <td>0.977</td>\n",
       "      <td>0.000</td>\n",
       "    </tr>\n",
       "  </tbody>\n",
       "</table>\n",
       "</div>"
      ],
      "text/plain": [
       "   sigma  avg_l2_norm  Linear_MNIST_base  Linear_MNIST_GNA_trained  \\\n",
       "0    0.1     2.104669              0.002                     0.034   \n",
       "1    0.2     4.174779              0.000                     0.000   \n",
       "2    0.3     6.217968              0.000                     0.000   \n",
       "3    0.4     8.237682              0.000                     0.000   \n",
       "4    0.5    10.234820              0.000                     0.000   \n",
       "5    0.6    12.203357              0.000                     0.000   \n",
       "6    0.7    14.147400              0.000                     0.000   \n",
       "7    0.8    16.064335              0.000                     0.000   \n",
       "8    0.9    17.947981              0.000                     0.000   \n",
       "9    1.0    19.775777              0.000                     0.000   \n",
       "\n",
       "   Linear_MNIST_FGSM_trained  Linear_MNIST_CW_trained  \n",
       "0                      0.998                    0.069  \n",
       "1                      1.000                    0.007  \n",
       "2                      1.000                    0.004  \n",
       "3                      1.000                    0.002  \n",
       "4                      0.999                    0.000  \n",
       "5                      0.998                    0.000  \n",
       "6                      0.995                    0.000  \n",
       "7                      0.991                    0.000  \n",
       "8                      0.986                    0.000  \n",
       "9                      0.977                    0.000  "
      ]
     },
     "execution_count": 15,
     "metadata": {},
     "output_type": "execute_result"
    }
   ],
   "source": [
    "stored_results = np.array(stored_results)\n",
    "stored_results = stored_results.reshape(-1,6)\n",
    "df = pd.DataFrame(stored_results, columns = ['sigma','avg_l2_norm','Linear_MNIST_base',\\\n",
    "                                 'Linear_MNIST_GNA_trained','Linear_MNIST_FGSM_trained','Linear_MNIST_CW_trained'])\n",
    "df.to_csv('Performance of adversarially trained Linear models on FGSM [MNIST].csv', index=False)\n",
    "df"
   ]
  },
  {
   "cell_type": "code",
   "execution_count": 16,
   "metadata": {
    "id": "R0sGJZ8MSYfD",
    "outputId": "0621a7ed-80ef-4f4b-d067-c2edcabd00e5"
   },
   "outputs": [
    {
     "name": "stdout",
     "output_type": "stream",
     "text": [
      "Test accuracy on unperturbed data\n",
      "32/32 [==============================] - 0s 2ms/step - loss: 0.2790 - accuracy: 0.9190\n",
      "32/32 [==============================] - 0s 2ms/step - loss: 0.2815 - accuracy: 0.9150\n",
      "32/32 [==============================] - 0s 1ms/step - loss: 0.2827 - accuracy: 0.9180\n",
      "32/32 [==============================] - 0s 2ms/step - loss: 0.4194 - accuracy: 0.9030\n"
     ]
    },
    {
     "data": {
      "image/png": "[encoded data removed]",
      "text/plain": [
       "<Figure size 432x288 with 1 Axes>"
      ]
     },
     "metadata": {
      "needs_background": "light"
     },
     "output_type": "display_data"
    }
   ],
   "source": [
    "df = pd.read_csv('Performance of adversarially trained Linear models on FGSM [MNIST].csv')\n",
    "\n",
    "df = df.shift(1)\n",
    "print('Test accuracy on unperturbed data')\n",
    "_, accuracy_base = Linear_MNIST_base.evaluate(X_test[indexes],y_test[indexes]);\n",
    "_, accuracy_GNA_trained = Linear_MNIST_GNA_trained.evaluate(X_test[indexes],y_test[indexes]);\n",
    "_, accuracy_FGSM_trained = Linear_MNIST_FGSM_trained.evaluate(X_test[indexes],y_test[indexes]);\n",
    "_, accuracy_CW_trained = Linear_MNIST_CW_trained.evaluate(X_test[indexes],y_test[indexes]);\n",
    "df.iloc[0] = [0, 0, accuracy_base, accuracy_GNA_trained, accuracy_FGSM_trained, accuracy_CW_trained]\n",
    "\n",
    "plt.plot(df['avg_l2_norm'],df['Linear_MNIST_base'],'o--', color = 'C0')\n",
    "plt.plot(df['avg_l2_norm'],df['Linear_MNIST_GNA_trained'],'*-', color = 'C0')\n",
    "plt.plot(df['avg_l2_norm'],df['Linear_MNIST_FGSM_trained'],'v-', color = 'C0')\n",
    "plt.plot(df['avg_l2_norm'],df['Linear_MNIST_CW_trained'],'d-', color = 'C0')\n",
    "\n",
    "\n",
    "plt.xlabel('Average $l_2$ norm of the perturbation')\n",
    "plt.ylabel('Test accuracy')\n",
    "plt.ylim([-0.1, 1.1])\n",
    "plt.legend(['Linear_MNIST (base)', 'Linear_MNIST (GNA trained)',\\\n",
    "            'Linear_MNIST (FGSM trained)', 'Linear_MNIST (CW trained)'])\n",
    "plt.title('Effect of FGSM attack on MNIST')\n",
    "plt.savefig('Adversarially trained Linear models FGSM on MNIST [l2 norm]', dpi=600)\n",
    "plt.show()"
   ]
  },
  {
   "cell_type": "markdown",
   "metadata": {
    "id": "Qa51NDzuSYfD"
   },
   "source": [
    "**Performance on CW adversarial examples**"
   ]
  },
  {
   "cell_type": "code",
   "execution_count": 17,
   "metadata": {
    "id": "lFLsl82FSYfD",
    "outputId": "095f672c-d11c-4c60-8f07-4cc9f181d032"
   },
   "outputs": [
    {
     "name": "stdout",
     "output_type": "stream",
     "text": [
      "C:\\Users\\nh202\\OneDrive - University of Arizona\\Adversairal Examples - ECE 696B\\CW\n"
     ]
    }
   ],
   "source": [
    "%cd C:\\Users\\nh202\\OneDrive - University of Arizona\\Adversairal Examples - ECE 696B\\CW"
   ]
  },
  {
   "cell_type": "code",
   "execution_count": 18,
   "metadata": {
    "id": "zXvfQaNtSYfD",
    "outputId": "1972cda6-692a-4b47-d546-74cbe23bf823"
   },
   "outputs": [
    {
     "name": "stdout",
     "output_type": "stream",
     "text": [
      "32/32 [==============================] - 0s 2ms/step - loss: 1.6618 - accuracy: 0.0520\n",
      "32/32 [==============================] - 0s 2ms/step - loss: 0.7817 - accuracy: 0.8230\n",
      "32/32 [==============================] - 0s 1ms/step - loss: 0.6374 - accuracy: 0.8640\n",
      "32/32 [==============================] - 0s 1ms/step - loss: 1.6096 - accuracy: 0.4870\n",
      "32/32 [==============================] - 0s 1ms/step - loss: 8.5773 - accuracy: 0.0520\n",
      "32/32 [==============================] - 0s 2ms/step - loss: 5.4662 - accuracy: 0.7130\n",
      "32/32 [==============================] - 0s 2ms/step - loss: 2.7297 - accuracy: 0.7550\n",
      "32/32 [==============================] - 0s 2ms/step - loss: 5.3711 - accuracy: 0.3970\n",
      "32/32 [==============================] - 0s 2ms/step - loss: 3.0258 - accuracy: 0.0520\n",
      "32/32 [==============================] - 0s 2ms/step - loss: 1.7210 - accuracy: 0.7830\n",
      "32/32 [==============================] - 0s 2ms/step - loss: 0.6204 - accuracy: 0.8500\n",
      "32/32 [==============================] - 0s 2ms/step - loss: 2.4912 - accuracy: 0.4500\n",
      "32/32 [==============================] - 0s 1ms/step - loss: 11.1809 - accuracy: 0.0520\n",
      "32/32 [==============================] - 0s 2ms/step - loss: 6.9931 - accuracy: 0.5890\n",
      "32/32 [==============================] - 0s 2ms/step - loss: 4.5781 - accuracy: 0.6490\n",
      "32/32 [==============================] - 0s 2ms/step - loss: 7.1763 - accuracy: 0.3240\n",
      "32/32 [==============================] - 0s 2ms/step - loss: 3.5813 - accuracy: 0.0520\n",
      "32/32 [==============================] - 0s 1ms/step - loss: 2.0653 - accuracy: 0.7270\n",
      "32/32 [==============================] - 0s 1ms/step - loss: 0.9494 - accuracy: 0.8030\n",
      "32/32 [==============================] - 0s 2ms/step - loss: 2.9328 - accuracy: 0.4090\n",
      "32/32 [==============================] - 0s 1ms/step - loss: 5.7309 - accuracy: 0.0520\n",
      "32/32 [==============================] - 0s 1ms/step - loss: 2.9607 - accuracy: 0.4540\n",
      "32/32 [==============================] - 0s 1ms/step - loss: 1.9216 - accuracy: 0.5970\n",
      "32/32 [==============================] - 0s 1ms/step - loss: 3.6021 - accuracy: 0.2180\n",
      "32/32 [==============================] - 0s 1ms/step - loss: 12.2968 - accuracy: 0.0520\n",
      "32/32 [==============================] - 0s 1ms/step - loss: 7.4166 - accuracy: 0.4010\n",
      "32/32 [==============================] - 0s 1ms/step - loss: 5.1883 - accuracy: 0.5430\n",
      "32/32 [==============================] - 0s 1ms/step - loss: 7.5983 - accuracy: 0.2170\n",
      "32/32 [==============================] - 0s 1ms/step - loss: 18.7310 - accuracy: 0.0520\n",
      "32/32 [==============================] - 0s 1ms/step - loss: 12.2348 - accuracy: 0.5390\n",
      "32/32 [==============================] - 0s 1ms/step - loss: 7.0549 - accuracy: 0.6470\n",
      "32/32 [==============================] - 0s 1ms/step - loss: 11.2349 - accuracy: 0.3090\n",
      "32/32 [==============================] - 0s 1ms/step - loss: 14.9543 - accuracy: 0.0520\n",
      "32/32 [==============================] - 0s 1ms/step - loss: 9.8297 - accuracy: 0.6180\n",
      "32/32 [==============================] - 0s 1ms/step - loss: 3.0458 - accuracy: 0.7500\n",
      "32/32 [==============================] - 0s 1ms/step - loss: 9.0285 - accuracy: 0.3590\n",
      "32/32 [==============================] - 0s 1ms/step - loss: 7.0357 - accuracy: 0.0520\n",
      "32/32 [==============================] - 0s 1ms/step - loss: 4.4637 - accuracy: 0.6560\n",
      "32/32 [==============================] - 0s 1ms/step - loss: 1.2922 - accuracy: 0.7780\n",
      "32/32 [==============================] - 0s 1ms/step - loss: 4.9570 - accuracy: 0.3790\n"
     ]
    }
   ],
   "source": [
    "indexes = range(1000)\n",
    "stored_results = []\n",
    "lot = 0\n",
    "for c in np.arange(0.1,1.1,0.1):\n",
    "    filename = 'MNIST_x_adv_stack_Linear_Lot' + str(lot+1) + '_c' + str(np.round(c,1)) + '.npy'\n",
    "    x_adv_stack = np.load(filename)\n",
    "    \n",
    "    stored_results.append(np.round(c,1))\n",
    "    \n",
    "    avg_l2_norm = np.mean(np.sqrt(np.sum((x_adv_stack-X_test[:len(x_adv_stack)])**2, axis=(1,2))))    \n",
    "    \n",
    "    if np.isnan(avg_l2_norm):\n",
    "        delta = x_adv_stack-X_test[:len(x_adv_stack)]\n",
    "        indices = np.argwhere(np.isnan(delta))\n",
    "        delta[indices] = 1\n",
    "        x_adv_stack = X_test[:len(x_adv_stack)] + delta\n",
    "        x_adv_stack = np.clip(x_adv_stack, 0, 1)\n",
    "        delta = x_adv_stack-X_test[:len(x_adv_stack)]\n",
    "        avg_l2_norm = np.mean(np.sqrt(np.sum((x_adv_stack-X_test[:len(x_adv_stack)])**2, axis=(1,2))))\n",
    "        \n",
    "    stored_results.append(avg_l2_norm)\n",
    "    \n",
    "    _,accuracy = Linear_MNIST_base.evaluate(x_adv_stack,y_test[indexes])\n",
    "    stored_results.append(accuracy)\n",
    "\n",
    "    _,accuracy = Linear_MNIST_GNA_trained.evaluate(x_adv_stack,y_test[indexes])\n",
    "    stored_results.append(accuracy)\n",
    "\n",
    "    _,accuracy = Linear_MNIST_FGSM_trained.evaluate(x_adv_stack,y_test[indexes])\n",
    "    stored_results.append(accuracy)\n",
    "\n",
    "    _,accuracy = Linear_MNIST_CW_trained.evaluate(x_adv_stack,y_test[indexes])\n",
    "    stored_results.append(accuracy)"
   ]
  },
  {
   "cell_type": "code",
   "execution_count": 19,
   "metadata": {
    "id": "Kr5qSta1SYfE",
    "outputId": "364aa216-117b-460a-bc7b-c4d8952eab8e"
   },
   "outputs": [
    {
     "data": {
      "text/html": [
       "<div>\n",
       "<style scoped>\n",
       "    .dataframe tbody tr th:only-of-type {\n",
       "        vertical-align: middle;\n",
       "    }\n",
       "\n",
       "    .dataframe tbody tr th {\n",
       "        vertical-align: top;\n",
       "    }\n",
       "\n",
       "    .dataframe thead th {\n",
       "        text-align: right;\n",
       "    }\n",
       "</style>\n",
       "<table border=\"1\" class=\"dataframe\">\n",
       "  <thead>\n",
       "    <tr style=\"text-align: right;\">\n",
       "      <th></th>\n",
       "      <th>sigma</th>\n",
       "      <th>avg_l2_norm</th>\n",
       "      <th>Linear_MNIST_base</th>\n",
       "      <th>Linear_MNIST_GNA_trained</th>\n",
       "      <th>Linear_MNIST_FGSM_trained</th>\n",
       "      <th>Linear_MNIST_CW_trained</th>\n",
       "    </tr>\n",
       "  </thead>\n",
       "  <tbody>\n",
       "    <tr>\n",
       "      <th>0</th>\n",
       "      <td>0.1</td>\n",
       "      <td>0.546938</td>\n",
       "      <td>0.052</td>\n",
       "      <td>0.823</td>\n",
       "      <td>0.864</td>\n",
       "      <td>0.487</td>\n",
       "    </tr>\n",
       "    <tr>\n",
       "      <th>1</th>\n",
       "      <td>0.2</td>\n",
       "      <td>1.347762</td>\n",
       "      <td>0.052</td>\n",
       "      <td>0.713</td>\n",
       "      <td>0.755</td>\n",
       "      <td>0.397</td>\n",
       "    </tr>\n",
       "    <tr>\n",
       "      <th>2</th>\n",
       "      <td>0.3</td>\n",
       "      <td>0.767634</td>\n",
       "      <td>0.052</td>\n",
       "      <td>0.783</td>\n",
       "      <td>0.850</td>\n",
       "      <td>0.450</td>\n",
       "    </tr>\n",
       "    <tr>\n",
       "      <th>3</th>\n",
       "      <td>0.4</td>\n",
       "      <td>1.577763</td>\n",
       "      <td>0.052</td>\n",
       "      <td>0.589</td>\n",
       "      <td>0.649</td>\n",
       "      <td>0.324</td>\n",
       "    </tr>\n",
       "    <tr>\n",
       "      <th>4</th>\n",
       "      <td>0.5</td>\n",
       "      <td>0.841394</td>\n",
       "      <td>0.052</td>\n",
       "      <td>0.727</td>\n",
       "      <td>0.803</td>\n",
       "      <td>0.409</td>\n",
       "    </tr>\n",
       "    <tr>\n",
       "      <th>5</th>\n",
       "      <td>0.6</td>\n",
       "      <td>1.032834</td>\n",
       "      <td>0.052</td>\n",
       "      <td>0.454</td>\n",
       "      <td>0.597</td>\n",
       "      <td>0.218</td>\n",
       "    </tr>\n",
       "    <tr>\n",
       "      <th>6</th>\n",
       "      <td>0.7</td>\n",
       "      <td>1.710263</td>\n",
       "      <td>0.052</td>\n",
       "      <td>0.401</td>\n",
       "      <td>0.543</td>\n",
       "      <td>0.217</td>\n",
       "    </tr>\n",
       "    <tr>\n",
       "      <th>7</th>\n",
       "      <td>0.8</td>\n",
       "      <td>2.470172</td>\n",
       "      <td>0.052</td>\n",
       "      <td>0.539</td>\n",
       "      <td>0.647</td>\n",
       "      <td>0.309</td>\n",
       "    </tr>\n",
       "    <tr>\n",
       "      <th>8</th>\n",
       "      <td>0.9</td>\n",
       "      <td>2.275024</td>\n",
       "      <td>0.052</td>\n",
       "      <td>0.618</td>\n",
       "      <td>0.750</td>\n",
       "      <td>0.359</td>\n",
       "    </tr>\n",
       "    <tr>\n",
       "      <th>9</th>\n",
       "      <td>1.0</td>\n",
       "      <td>1.360408</td>\n",
       "      <td>0.052</td>\n",
       "      <td>0.656</td>\n",
       "      <td>0.778</td>\n",
       "      <td>0.379</td>\n",
       "    </tr>\n",
       "  </tbody>\n",
       "</table>\n",
       "</div>"
      ],
      "text/plain": [
       "   sigma  avg_l2_norm  Linear_MNIST_base  Linear_MNIST_GNA_trained  \\\n",
       "0    0.1     0.546938              0.052                     0.823   \n",
       "1    0.2     1.347762              0.052                     0.713   \n",
       "2    0.3     0.767634              0.052                     0.783   \n",
       "3    0.4     1.577763              0.052                     0.589   \n",
       "4    0.5     0.841394              0.052                     0.727   \n",
       "5    0.6     1.032834              0.052                     0.454   \n",
       "6    0.7     1.710263              0.052                     0.401   \n",
       "7    0.8     2.470172              0.052                     0.539   \n",
       "8    0.9     2.275024              0.052                     0.618   \n",
       "9    1.0     1.360408              0.052                     0.656   \n",
       "\n",
       "   Linear_MNIST_FGSM_trained  Linear_MNIST_CW_trained  \n",
       "0                      0.864                    0.487  \n",
       "1                      0.755                    0.397  \n",
       "2                      0.850                    0.450  \n",
       "3                      0.649                    0.324  \n",
       "4                      0.803                    0.409  \n",
       "5                      0.597                    0.218  \n",
       "6                      0.543                    0.217  \n",
       "7                      0.647                    0.309  \n",
       "8                      0.750                    0.359  \n",
       "9                      0.778                    0.379  "
      ]
     },
     "execution_count": 19,
     "metadata": {},
     "output_type": "execute_result"
    }
   ],
   "source": [
    "stored_results = np.array(stored_results)\n",
    "stored_results = stored_results.reshape(-1,6)\n",
    "df = pd.DataFrame(stored_results, columns = ['sigma','avg_l2_norm','Linear_MNIST_base',\\\n",
    "                                 'Linear_MNIST_GNA_trained','Linear_MNIST_FGSM_trained','Linear_MNIST_CW_trained'])\n",
    "df.to_csv('Performance of adversarially trained Linear models on CW [MNIST].csv', index=False)\n",
    "df"
   ]
  },
  {
   "cell_type": "code",
   "execution_count": 20,
   "metadata": {
    "id": "uBVvBniOSYfE",
    "outputId": "471b0df9-f911-4586-e1ea-fcbf3399e1aa"
   },
   "outputs": [
    {
     "name": "stdout",
     "output_type": "stream",
     "text": [
      "Test accuracy on unperturbed data\n",
      "32/32 [==============================] - 0s 1ms/step - loss: 0.2790 - accuracy: 0.9190\n",
      "32/32 [==============================] - 0s 1ms/step - loss: 0.2815 - accuracy: 0.9150\n",
      "32/32 [==============================] - 0s 1ms/step - loss: 0.2827 - accuracy: 0.9180\n",
      "32/32 [==============================] - 0s 1ms/step - loss: 0.4194 - accuracy: 0.9030\n"
     ]
    },
    {
     "data": {
      "image/png": "[encoded data removed]",
      "text/plain": [
       "<Figure size 432x288 with 1 Axes>"
      ]
     },
     "metadata": {
      "needs_background": "light"
     },
     "output_type": "display_data"
    }
   ],
   "source": [
    "df = pd.read_csv('Performance of adversarially trained Linear models on CW [MNIST].csv')\n",
    "\n",
    "df = df.shift(1)\n",
    "print('Test accuracy on unperturbed data')\n",
    "_, accuracy_base = Linear_MNIST_base.evaluate(X_test[indexes],y_test[indexes]);\n",
    "_, accuracy_GNA_trained = Linear_MNIST_GNA_trained.evaluate(X_test[indexes],y_test[indexes]);\n",
    "_, accuracy_FGSM_trained = Linear_MNIST_FGSM_trained.evaluate(X_test[indexes],y_test[indexes]);\n",
    "_, accuracy_CW_trained = Linear_MNIST_CW_trained.evaluate(X_test[indexes],y_test[indexes]);\n",
    "df.iloc[0] = [0, 0, accuracy_base, accuracy_GNA_trained, accuracy_FGSM_trained, accuracy_CW_trained]\n",
    "\n",
    "df = df.sort_values('avg_l2_norm', ascending=True)\n",
    "\n",
    "plt.plot(df['avg_l2_norm'],df['Linear_MNIST_base'],'o--', color = 'C0')\n",
    "plt.plot(df['avg_l2_norm'],df['Linear_MNIST_GNA_trained'],'*-', color = 'C0')\n",
    "plt.plot(df['avg_l2_norm'],df['Linear_MNIST_FGSM_trained'],'v-', color = 'C0')\n",
    "plt.plot(df['avg_l2_norm'],df['Linear_MNIST_CW_trained'],'d-', color = 'C0')\n",
    "\n",
    "\n",
    "plt.xlabel('Average $l_2$ norm of the perturbation')\n",
    "plt.ylabel('Test accuracy')\n",
    "plt.ylim([-0.1, 1.1])\n",
    "plt.legend(['Linear_MNIST (base)', 'Linear_MNIST (GNA trained)',\\\n",
    "            'Linear_MNIST (FGSM trained)', 'Linear_MNIST (CW trained)'])\n",
    "plt.title('Effect of CW attack on MNIST')\n",
    "plt.savefig('Adversarially trained Linear models CW on MNIST [l2 norm]', dpi=600)\n",
    "plt.show()"
   ]
  }
 ],
 "metadata": {
  "accelerator": "GPU",
  "colab": {
   "provenance": [
    {
     "file_id": "17t5wZdiu4KbtR9opaQcMZECSJAndropo",
     "timestamp": 1674347819943
    }
   ]
  },
  "gpuClass": "standard",
  "kernelspec": {
   "display_name": "Python 3",
   "language": "python",
   "name": "python3"
  },
  "language_info": {
   "codemirror_mode": {
    "name": "ipython",
    "version": 3
   },
   "file_extension": ".py",
   "mimetype": "text/x-python",
   "name": "python",
   "nbconvert_exporter": "python",
   "pygments_lexer": "ipython3",
   "version": "3.8.8"
  }
 },
 "nbformat": 4,
 "nbformat_minor": 1
}
